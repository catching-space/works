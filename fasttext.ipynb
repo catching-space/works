{
 "cells": [
  {
   "cell_type": "markdown",
   "metadata": {},
   "source": [
    "## Fasttext\n",
    "- word2vec은 사전에 존재하지 않는 단어를 잡아내지 못하는 단점이 있다.\n",
    "- Fasttext를 통해 이러한 OOV 문제를 해결하며 준수한 성능까지 유도할 수 있을지 알아보자."
   ]
  },
  {
   "cell_type": "markdown",
   "metadata": {},
   "source": [
    "## Import"
   ]
  },
  {
   "cell_type": "code",
   "execution_count": 1,
   "metadata": {},
   "outputs": [],
   "source": [
    "import pandas as pd\n",
    "import numpy as np\n",
    "\n",
    "from konlpy.tag import Mecab\n",
    "from gensim.models import FastText"
   ]
  },
  {
   "cell_type": "markdown",
   "metadata": {},
   "source": [
    "### Datas"
   ]
  },
  {
   "cell_type": "code",
   "execution_count": 2,
   "metadata": {},
   "outputs": [],
   "source": [
    "df1 = pd.read_csv(\"data/maeili.csv\", encoding='utf-8')\n",
    "df2 = pd.read_csv(\"data/baby.csv\", encoding='utf-8')\n",
    "df3 = pd.read_csv(\"data/toys.csv\", encoding='utf-8')\n",
    "df4 = pd.read_csv(\"data/seoulchildcare.csv\", encoding='utf-8')\n",
    "df5 = pd.read_csv(\"data/babynews_DLC.csv\", encoding='utf-8')\n",
    "df6 = pd.read_csv(\"data/ildongfoodis.csv\", encoding='utf-8')\n",
    "df7 = pd.read_csv(\"data/momsmagazine.csv\", encoding='utf-8')\n",
    "df8 = pd.read_csv(\"data/ange.csv\", encoding='utf-8')\n",
    "df9 = pd.read_csv(\"data/babytimes.csv\", encoding='utf-8')\n",
    "df10 = pd.read_csv(\"data/daekyo.csv\", encoding='utf-8')"
   ]
  },
  {
   "cell_type": "markdown",
   "metadata": {},
   "source": [
    "### Concatenate Dataframe"
   ]
  },
  {
   "cell_type": "code",
   "execution_count": 3,
   "metadata": {},
   "outputs": [
    {
     "data": {
      "text/html": [
       "<div>\n",
       "<style scoped>\n",
       "    .dataframe tbody tr th:only-of-type {\n",
       "        vertical-align: middle;\n",
       "    }\n",
       "\n",
       "    .dataframe tbody tr th {\n",
       "        vertical-align: top;\n",
       "    }\n",
       "\n",
       "    .dataframe thead th {\n",
       "        text-align: right;\n",
       "    }\n",
       "</style>\n",
       "<table border=\"1\" class=\"dataframe\">\n",
       "  <thead>\n",
       "    <tr style=\"text-align: right;\">\n",
       "      <th></th>\n",
       "      <th>text</th>\n",
       "    </tr>\n",
       "  </thead>\n",
       "  <tbody>\n",
       "    <tr>\n",
       "      <th>20584</th>\n",
       "      <td>토끼띠의 단점</td>\n",
       "    </tr>\n",
       "    <tr>\n",
       "      <th>20585</th>\n",
       "      <td>국가영어능력평가 준비 올해부터 본격적으로 시행되는 국가영어능력평가에 대해서 소개해드...</td>\n",
       "    </tr>\n",
       "    <tr>\n",
       "      <th>20586</th>\n",
       "      <td>워킹맘이든 전업맘이든 아이들에게 관심과 사랑을 쏟아야 하는 것은 분명합니다 평소 아...</td>\n",
       "    </tr>\n",
       "    <tr>\n",
       "      <th>20587</th>\n",
       "      <td>검사결과 지민이의 강점지능은 언어지능과 음악지능였습니다 엄마는 지민이가 집에서나 학...</td>\n",
       "    </tr>\n",
       "    <tr>\n",
       "      <th>20588</th>\n",
       "      <td>진로상담센터 교육 컨설팅 아이들의 진로는 중·고등학생 때 뿐 아니라 초등학생때부터 ...</td>\n",
       "    </tr>\n",
       "  </tbody>\n",
       "</table>\n",
       "</div>"
      ],
      "text/plain": [
       "                                                    text\n",
       "20584                                            토끼띠의 단점\n",
       "20585  국가영어능력평가 준비 올해부터 본격적으로 시행되는 국가영어능력평가에 대해서 소개해드...\n",
       "20586  워킹맘이든 전업맘이든 아이들에게 관심과 사랑을 쏟아야 하는 것은 분명합니다 평소 아...\n",
       "20587  검사결과 지민이의 강점지능은 언어지능과 음악지능였습니다 엄마는 지민이가 집에서나 학...\n",
       "20588  진로상담센터 교육 컨설팅 아이들의 진로는 중·고등학생 때 뿐 아니라 초등학생때부터 ..."
      ]
     },
     "execution_count": 3,
     "metadata": {},
     "output_type": "execute_result"
    }
   ],
   "source": [
    "df = pd.concat([df1.text, df2.text, df3.text, df4.text, df5.text,\n",
    "                df6.text, df7.text, df8.text, df9.text, df10.text])\n",
    "df = pd.DataFrame(df).reset_index(drop=True)\n",
    "df.tail()"
   ]
  },
  {
   "cell_type": "markdown",
   "metadata": {},
   "source": [
    "### Preprocessing"
   ]
  },
  {
   "cell_type": "code",
   "execution_count": 4,
   "metadata": {},
   "outputs": [],
   "source": [
    "import re\n",
    "\n",
    "def cleaningText(text):\n",
    "    text = re.sub('&nbsp;|\\xa0|\\u200b|\\r|\\n|\\t', ' ', text)\n",
    "    text = re.sub('<.+>|【.+】|\\[.+\\]', ' ', text)\n",
    "    text = re.sub('[-_=+,/\\?;:^$.@*\\\"※~&%ㆍ!”“’「」『』〈〉\\\\‘|\\(\\)\\{\\}\\[\\]\\<\\>`\\'…《》]', ' ', text)\n",
    "    text = re.sub('[㈜×–～→▪‧•∘○□◇△▽▷◁☆◈◐▶▼▲◆★♦■♥️●♠🖤]', ' ', text)\n",
    "    text = re.sub('[①②③④⑤⑥⑦⑧⑨⑩⑪⑫⑬⑭⑮⑯⑰⑱⑲⑳]', ' ', text)\n",
    "    text = re.sub('[➊❷➌❹❺❻❼❽❾❿]', ' ', text)\n",
    "    text = re.sub('http.+com|http.+co|http.+kr|www.+kr|www.+com|www.+net|http.+net', ' ', text)\n",
    "    text = re.sub(\"\\s.+\\s기자\", '', text)\n",
    "    text = re.sub('ⓒ\\S+\\s|㈜\\S+\\s|홈페이지\\S+\\s|전화\\S+\\s|대표전화\\S+\\s|☎\\S+\\s|http\\S+\\s', '', text)\n",
    "    \n",
    "    text = re.sub('\\s+', ' ', text)\n",
    "    text = text.strip()\n",
    "\n",
    "    return text"
   ]
  },
  {
   "cell_type": "code",
   "execution_count": 5,
   "metadata": {},
   "outputs": [],
   "source": [
    "df = df.drop(index=[952, 955, 956, 960, 962, 964, 1165, 1240, 1322])\n",
    "df = df.drop_duplicates()\n",
    "df = df.dropna()\n",
    "df = pd.DataFrame(df).reset_index(drop=True)"
   ]
  },
  {
   "cell_type": "code",
   "execution_count": 6,
   "metadata": {},
   "outputs": [],
   "source": [
    "df['text'] = df['text'].apply(cleaningText)\n",
    "df = df.dropna()"
   ]
  },
  {
   "cell_type": "markdown",
   "metadata": {},
   "source": [
    "### FastText 학습에 적합한 말뭉치로 정제하는 과정\n",
    "- 한글을 자음, 모음 단위로 분해\n",
    "- 단어 단위로 구분된 ndarray 자료구조로 정제"
   ]
  },
  {
   "cell_type": "code",
   "execution_count": 7,
   "metadata": {},
   "outputs": [],
   "source": [
    "import re\n",
    "from soynlp.hangle import decompose, compose\n",
    "\n",
    "def remove_doublespace(s):\n",
    "    doublespace_pattern = re.compile('\\s+')\n",
    "    return doublespace_pattern.sub(' ', s).strip()\n",
    "\n",
    "def encode(s):\n",
    "    def process(c):\n",
    "        if c == ' ':\n",
    "            return c\n",
    "        jamo = decompose(c)\n",
    "        # 'a' or 모음 or 자음\n",
    "        if (jamo is None) or (jamo[0] == ' ') or (jamo[1] == ' '):\n",
    "            return ' '\n",
    "        base = jamo[0]+jamo[1]\n",
    "        if jamo[2] == ' ':\n",
    "            return base + '-'\n",
    "        return base + jamo[2]\n",
    "\n",
    "    s = ''.join(process(c) for c in s)\n",
    "    return remove_doublespace(s).strip()\n",
    "\n",
    "#     s = [process(c) for c in s]\n",
    "#     return s\n",
    "\n",
    "def decode(s):\n",
    "    def process(t):\n",
    "        assert len(t) % 3 == 0\n",
    "        t_ = t.replace('-', ' ')\n",
    "        chars = [tuple(t_[3*i:3*(i+1)]) for i in range(len(t_)//3)]\n",
    "        recovered = [compose(*char) for char in chars]\n",
    "        recovered = ''.join(recovered)\n",
    "        return recovered\n",
    "\n",
    "    return ' '.join(process(t) for t in s.split())"
   ]
  },
  {
   "cell_type": "markdown",
   "metadata": {},
   "source": [
    "#### Test"
   ]
  },
  {
   "cell_type": "code",
   "execution_count": 8,
   "metadata": {},
   "outputs": [
    {
     "name": "stdout",
     "output_type": "stream",
     "text": [
      "ㄴㅏ-ㅇㅢ- ㅇㅑ-ㄱㅡㄴㅇㅡㄹ ㅇㅏㄹㄲㅏ- ㅎㅡ-ㅎㅔ-ㅎㅔ- ㅎㅡ-ㅎㅔ-ㅎㅔ- ㅇㅏ-ㅇㅣ-ㄱㅗ-ㄴㅏㄴ ㅇㅏ-ㅇㅣ-ㄱㅗ-ㄴㅏㄴ\n",
      "나의 야근을 알까 흐헤헤 흐헤헤 아이고난 아이고난\n"
     ]
    }
   ],
   "source": [
    "s = '나의 야근을 알까? 흐헤헤 흐헤헤 아이고난1 아이고난2'\n",
    "print(encode(s))\n",
    "print(decode(encode(s)))"
   ]
  },
  {
   "cell_type": "code",
   "execution_count": 9,
   "metadata": {},
   "outputs": [
    {
     "data": {
      "text/html": [
       "<div>\n",
       "<style scoped>\n",
       "    .dataframe tbody tr th:only-of-type {\n",
       "        vertical-align: middle;\n",
       "    }\n",
       "\n",
       "    .dataframe tbody tr th {\n",
       "        vertical-align: top;\n",
       "    }\n",
       "\n",
       "    .dataframe thead th {\n",
       "        text-align: right;\n",
       "    }\n",
       "</style>\n",
       "<table border=\"1\" class=\"dataframe\">\n",
       "  <thead>\n",
       "    <tr style=\"text-align: right;\">\n",
       "      <th></th>\n",
       "      <th>text</th>\n",
       "      <th>encoded</th>\n",
       "    </tr>\n",
       "  </thead>\n",
       "  <tbody>\n",
       "    <tr>\n",
       "      <th>0</th>\n",
       "      <td>6살 남아 입니다 회사 복직 후 3살부터 주중에는 외할머니댁에서 2살 4살 터울의 ...</td>\n",
       "      <td>ㅅㅏㄹ ㄴㅏㅁㅇㅏ- ㅇㅣㅂㄴㅣ-ㄷㅏ- ㅎㅚ-ㅅㅏ- ㅂㅗㄱㅈㅣㄱ ㅎㅜ- ㅅㅏㄹㅂㅜ-ㅌ...</td>\n",
       "    </tr>\n",
       "    <tr>\n",
       "      <th>1</th>\n",
       "      <td>요즘 들어 아빠가 아이에게 다가가려고 하면 엄마한테 갈 거야 하면서 엄마를 유독 찾...</td>\n",
       "      <td>ㅇㅛ-ㅈㅡㅁ ㄷㅡㄹㅇㅓ- ㅇㅏ-ㅃㅏ-ㄱㅏ- ㅇㅏ-ㅇㅣ-ㅇㅔ-ㄱㅔ- ㄷㅏ-ㄱㅏ-ㄱㅏ-...</td>\n",
       "    </tr>\n",
       "    <tr>\n",
       "      <th>2</th>\n",
       "      <td>둘째가 태어나면 첫째가 힘들 거라는 건 예상하고 있었지만 툭하면 삐치고 울고 좀처럼...</td>\n",
       "      <td>ㄷㅜㄹㅉㅐ-ㄱㅏ- ㅌㅐ-ㅇㅓ-ㄴㅏ-ㅁㅕㄴ ㅊㅓㅅㅉㅐ-ㄱㅏ- ㅎㅣㅁㄷㅡㄹ ㄱㅓ-ㄹㅏ-...</td>\n",
       "    </tr>\n",
       "    <tr>\n",
       "      <th>3</th>\n",
       "      <td>20개월 남아가 있고 임신 8개월차로 두 아기의 엄마입니다 첫 아이는 잠자리 독립을...</td>\n",
       "      <td>ㄱㅐ-ㅇㅝㄹ ㄴㅏㅁㅇㅏ-ㄱㅏ- ㅇㅣㅆㄱㅗ- ㅇㅣㅁㅅㅣㄴ ㄱㅐ-ㅇㅝㄹㅊㅏ-ㄹㅗ- ㄷㅜ...</td>\n",
       "    </tr>\n",
       "    <tr>\n",
       "      <th>4</th>\n",
       "      <td>14개월 남자 아기인데 심하게 깨무는 버릇이 있어요 전에는 졸릴 때 주로 물곤 했는...</td>\n",
       "      <td>ㄱㅐ-ㅇㅝㄹ ㄴㅏㅁㅈㅏ- ㅇㅏ-ㄱㅣ-ㅇㅣㄴㄷㅔ- ㅅㅣㅁㅎㅏ-ㄱㅔ- ㄲㅐ-ㅁㅜ-ㄴㅡㄴ...</td>\n",
       "    </tr>\n",
       "    <tr>\n",
       "      <th>...</th>\n",
       "      <td>...</td>\n",
       "      <td>...</td>\n",
       "    </tr>\n",
       "    <tr>\n",
       "      <th>19502</th>\n",
       "      <td>토끼띠의 단점</td>\n",
       "      <td>ㅌㅗ-ㄲㅣ-ㄸㅣ-ㅇㅢ- ㄷㅏㄴㅈㅓㅁ</td>\n",
       "    </tr>\n",
       "    <tr>\n",
       "      <th>19503</th>\n",
       "      <td>국가영어능력평가 준비 올해부터 본격적으로 시행되는 국가영어능력평가에 대해서 소개해드...</td>\n",
       "      <td>ㄱㅜㄱㄱㅏ-ㅇㅕㅇㅇㅓ-ㄴㅡㅇㄹㅕㄱㅍㅕㅇㄱㅏ- ㅈㅜㄴㅂㅣ- ㅇㅗㄹㅎㅐ-ㅂㅜ-ㅌㅓ- ㅂ...</td>\n",
       "    </tr>\n",
       "    <tr>\n",
       "      <th>19504</th>\n",
       "      <td>워킹맘이든 전업맘이든 아이들에게 관심과 사랑을 쏟아야 하는 것은 분명합니다 평소 아...</td>\n",
       "      <td>ㅇㅝ-ㅋㅣㅇㅁㅏㅁㅇㅣ-ㄷㅡㄴ ㅈㅓㄴㅇㅓㅂㅁㅏㅁㅇㅣ-ㄷㅡㄴ ㅇㅏ-ㅇㅣ-ㄷㅡㄹㅇㅔ-ㄱㅔ...</td>\n",
       "    </tr>\n",
       "    <tr>\n",
       "      <th>19505</th>\n",
       "      <td>검사결과 지민이의 강점지능은 언어지능과 음악지능였습니다 엄마는 지민이가 집에서나 학...</td>\n",
       "      <td>ㄱㅓㅁㅅㅏ-ㄱㅕㄹㄱㅘ- ㅈㅣ-ㅁㅣㄴㅇㅣ-ㅇㅢ- ㄱㅏㅇㅈㅓㅁㅈㅣ-ㄴㅡㅇㅇㅡㄴ ㅇㅓㄴㅇ...</td>\n",
       "    </tr>\n",
       "    <tr>\n",
       "      <th>19506</th>\n",
       "      <td>진로상담센터 교육 컨설팅 아이들의 진로는 중·고등학생 때 뿐 아니라 초등학생때부터 ...</td>\n",
       "      <td>ㅈㅣㄴㄹㅗ-ㅅㅏㅇㄷㅏㅁㅅㅔㄴㅌㅓ- ㄱㅛ-ㅇㅠㄱ ㅋㅓㄴㅅㅓㄹㅌㅣㅇ ㅇㅏ-ㅇㅣ-ㄷㅡㄹㅇ...</td>\n",
       "    </tr>\n",
       "  </tbody>\n",
       "</table>\n",
       "<p>19507 rows × 2 columns</p>\n",
       "</div>"
      ],
      "text/plain": [
       "                                                    text  \\\n",
       "0      6살 남아 입니다 회사 복직 후 3살부터 주중에는 외할머니댁에서 2살 4살 터울의 ...   \n",
       "1      요즘 들어 아빠가 아이에게 다가가려고 하면 엄마한테 갈 거야 하면서 엄마를 유독 찾...   \n",
       "2      둘째가 태어나면 첫째가 힘들 거라는 건 예상하고 있었지만 툭하면 삐치고 울고 좀처럼...   \n",
       "3      20개월 남아가 있고 임신 8개월차로 두 아기의 엄마입니다 첫 아이는 잠자리 독립을...   \n",
       "4      14개월 남자 아기인데 심하게 깨무는 버릇이 있어요 전에는 졸릴 때 주로 물곤 했는...   \n",
       "...                                                  ...   \n",
       "19502                                            토끼띠의 단점   \n",
       "19503  국가영어능력평가 준비 올해부터 본격적으로 시행되는 국가영어능력평가에 대해서 소개해드...   \n",
       "19504  워킹맘이든 전업맘이든 아이들에게 관심과 사랑을 쏟아야 하는 것은 분명합니다 평소 아...   \n",
       "19505  검사결과 지민이의 강점지능은 언어지능과 음악지능였습니다 엄마는 지민이가 집에서나 학...   \n",
       "19506  진로상담센터 교육 컨설팅 아이들의 진로는 중·고등학생 때 뿐 아니라 초등학생때부터 ...   \n",
       "\n",
       "                                                 encoded  \n",
       "0      ㅅㅏㄹ ㄴㅏㅁㅇㅏ- ㅇㅣㅂㄴㅣ-ㄷㅏ- ㅎㅚ-ㅅㅏ- ㅂㅗㄱㅈㅣㄱ ㅎㅜ- ㅅㅏㄹㅂㅜ-ㅌ...  \n",
       "1      ㅇㅛ-ㅈㅡㅁ ㄷㅡㄹㅇㅓ- ㅇㅏ-ㅃㅏ-ㄱㅏ- ㅇㅏ-ㅇㅣ-ㅇㅔ-ㄱㅔ- ㄷㅏ-ㄱㅏ-ㄱㅏ-...  \n",
       "2      ㄷㅜㄹㅉㅐ-ㄱㅏ- ㅌㅐ-ㅇㅓ-ㄴㅏ-ㅁㅕㄴ ㅊㅓㅅㅉㅐ-ㄱㅏ- ㅎㅣㅁㄷㅡㄹ ㄱㅓ-ㄹㅏ-...  \n",
       "3      ㄱㅐ-ㅇㅝㄹ ㄴㅏㅁㅇㅏ-ㄱㅏ- ㅇㅣㅆㄱㅗ- ㅇㅣㅁㅅㅣㄴ ㄱㅐ-ㅇㅝㄹㅊㅏ-ㄹㅗ- ㄷㅜ...  \n",
       "4      ㄱㅐ-ㅇㅝㄹ ㄴㅏㅁㅈㅏ- ㅇㅏ-ㄱㅣ-ㅇㅣㄴㄷㅔ- ㅅㅣㅁㅎㅏ-ㄱㅔ- ㄲㅐ-ㅁㅜ-ㄴㅡㄴ...  \n",
       "...                                                  ...  \n",
       "19502                                ㅌㅗ-ㄲㅣ-ㄸㅣ-ㅇㅢ- ㄷㅏㄴㅈㅓㅁ  \n",
       "19503  ㄱㅜㄱㄱㅏ-ㅇㅕㅇㅇㅓ-ㄴㅡㅇㄹㅕㄱㅍㅕㅇㄱㅏ- ㅈㅜㄴㅂㅣ- ㅇㅗㄹㅎㅐ-ㅂㅜ-ㅌㅓ- ㅂ...  \n",
       "19504  ㅇㅝ-ㅋㅣㅇㅁㅏㅁㅇㅣ-ㄷㅡㄴ ㅈㅓㄴㅇㅓㅂㅁㅏㅁㅇㅣ-ㄷㅡㄴ ㅇㅏ-ㅇㅣ-ㄷㅡㄹㅇㅔ-ㄱㅔ...  \n",
       "19505  ㄱㅓㅁㅅㅏ-ㄱㅕㄹㄱㅘ- ㅈㅣ-ㅁㅣㄴㅇㅣ-ㅇㅢ- ㄱㅏㅇㅈㅓㅁㅈㅣ-ㄴㅡㅇㅇㅡㄴ ㅇㅓㄴㅇ...  \n",
       "19506  ㅈㅣㄴㄹㅗ-ㅅㅏㅇㄷㅏㅁㅅㅔㄴㅌㅓ- ㄱㅛ-ㅇㅠㄱ ㅋㅓㄴㅅㅓㄹㅌㅣㅇ ㅇㅏ-ㅇㅣ-ㄷㅡㄹㅇ...  \n",
       "\n",
       "[19507 rows x 2 columns]"
      ]
     },
     "execution_count": 9,
     "metadata": {},
     "output_type": "execute_result"
    }
   ],
   "source": [
    "df['encoded'] = df['text'].apply(encode)\n",
    "df"
   ]
  },
  {
   "cell_type": "code",
   "execution_count": 10,
   "metadata": {},
   "outputs": [
    {
     "data": {
      "text/plain": [
       "(numpy.ndarray, 19507)"
      ]
     },
     "execution_count": 10,
     "metadata": {},
     "output_type": "execute_result"
    }
   ],
   "source": [
    "encoded_corpus = np.array(df.encoded)\n",
    "type(encoded_corpus), len(encoded_corpus)"
   ]
  },
  {
   "cell_type": "markdown",
   "metadata": {},
   "source": [
    "### Train"
   ]
  },
  {
   "cell_type": "code",
   "execution_count": 20,
   "metadata": {},
   "outputs": [
    {
     "name": "stdout",
     "output_type": "stream",
     "text": [
      "iter = 1, docs = 19506 done                    \n",
      "iter = 2, docs = 19506 done                    \n",
      "iter = 3, docs = 19506 done                    \n",
      "iter = 4, docs = 19506 done                    \n",
      "iter = 5, docs = 19506 done                    \n",
      "iter = 6, docs = 19506 done                    \n",
      "CPU times: user 5min 56s, sys: 1.64 s, total: 5min 58s\n",
      "Wall time: 1min 21s\n"
     ]
    }
   ],
   "source": [
    "%%time\n",
    "\n",
    "class FastTextCorpus:\n",
    "    def __init__(self, corpus):\n",
    "        self.corpus = corpus\n",
    "        self.n_iter = 0\n",
    "    def __iter__(self):\n",
    "        for i, doc in enumerate(self.corpus):\n",
    "            if i % 500 == 0 and i > 0:\n",
    "                print('\\riter = {}, sents = {} ...'.format(self.n_iter, i), end='')\n",
    "            yield doc.split()\n",
    "        self.n_iter += 1\n",
    "        print('\\riter = {}, docs = {} done{}'.format(self.n_iter, i, ' '*20))\n",
    "        \n",
    "corpus = FastTextCorpus(encoded_corpus)\n",
    "fasttext_model = FastText(\n",
    "    corpus,\n",
    "    size=100,\n",
    "    seed=191212,\n",
    "    workers=6,\n",
    "    window=3,\n",
    "    min_count=6,\n",
    "    min_n=2,\n",
    "    max_n=6,\n",
    ")"
   ]
  },
  {
   "cell_type": "code",
   "execution_count": 30,
   "metadata": {},
   "outputs": [],
   "source": [
    "fasttext_model.save('data/tokmom_fasttext.model')"
   ]
  },
  {
   "cell_type": "code",
   "execution_count": 21,
   "metadata": {},
   "outputs": [],
   "source": [
    "def most_similar(query, topn=10):\n",
    "    query_ = encode(query)\n",
    "    similars = fasttext_model.wv.most_similar(query_, topn=topn)\n",
    "    similars = [(decode(word), sim) for word, sim in similars]\n",
    "    return similars"
   ]
  },
  {
   "cell_type": "code",
   "execution_count": 22,
   "metadata": {},
   "outputs": [
    {
     "data": {
      "text/plain": [
       "[('남자아이', 0.9075375199317932),\n",
       " ('여자아이가', 0.9023966789245605),\n",
       " ('여자아이들이', 0.8702645301818848),\n",
       " ('여자아이보다', 0.86384117603302),\n",
       " ('여자아이는', 0.8608008623123169),\n",
       " ('첫아이', 0.8579444885253906),\n",
       " ('셋째아이', 0.856373131275177),\n",
       " ('경희아이', 0.8479938507080078),\n",
       " ('둘째아이', 0.8464566469192505),\n",
       " ('남자아이가', 0.8446069955825806)]"
      ]
     },
     "execution_count": 22,
     "metadata": {},
     "output_type": "execute_result"
    }
   ],
   "source": [
    "most_similar(\"여자아이\")"
   ]
  },
  {
   "cell_type": "code",
   "execution_count": 23,
   "metadata": {},
   "outputs": [
    {
     "data": {
      "text/plain": [
       "[('역아', 0.8398646116256714),\n",
       " ('영아', 0.8389644622802734),\n",
       " ('아쿠아', 0.8005619645118713),\n",
       " ('여타', 0.7780101299285889),\n",
       " ('영아연축', 0.7776792049407959),\n",
       " ('여태', 0.7587387561798096),\n",
       " ('쌍생아', 0.7567449808120728),\n",
       " ('여덟', 0.755237340927124),\n",
       " ('여아가', 0.7472755908966064),\n",
       " ('쏘아', 0.7468857765197754)]"
      ]
     },
     "execution_count": 23,
     "metadata": {},
     "output_type": "execute_result"
    }
   ],
   "source": [
    "most_similar(\"여아\")"
   ]
  },
  {
   "cell_type": "code",
   "execution_count": 24,
   "metadata": {},
   "outputs": [
    {
     "data": {
      "text/plain": [
       "[('여자아이', 0.9075374007225037),\n",
       " ('남자아이가', 0.8996829986572266),\n",
       " ('셋째아이', 0.8893890976905823),\n",
       " ('둘째아이', 0.8763366937637329),\n",
       " ('나이', 0.8712449073791504),\n",
       " ('첫아이', 0.8665239810943604),\n",
       " ('남자아이는', 0.8632090091705322),\n",
       " ('남자아이들이', 0.8598025441169739),\n",
       " ('남자아이보다', 0.8564349412918091),\n",
       " ('큰아이', 0.8548170328140259)]"
      ]
     },
     "execution_count": 24,
     "metadata": {},
     "output_type": "execute_result"
    }
   ],
   "source": [
    "most_similar(\"남자아이\")"
   ]
  },
  {
   "cell_type": "code",
   "execution_count": 25,
   "metadata": {},
   "outputs": [
    {
     "data": {
      "text/plain": [
       "[('남겨', 0.8145788311958313),\n",
       " ('살아남아', 0.7954429984092712),\n",
       " ('남겨져', 0.7922765016555786),\n",
       " ('낳아', 0.7914118766784668),\n",
       " ('삼아', 0.7661623358726501),\n",
       " ('남녀', 0.7624686360359192),\n",
       " ('남아서', 0.7522130012512207),\n",
       " ('쌓아', 0.7472477555274963),\n",
       " ('남아가', 0.7408424615859985),\n",
       " ('녹아', 0.7408424615859985)]"
      ]
     },
     "execution_count": 25,
     "metadata": {},
     "output_type": "execute_result"
    }
   ],
   "source": [
    "most_similar(\"남아\")"
   ]
  },
  {
   "cell_type": "code",
   "execution_count": 26,
   "metadata": {},
   "outputs": [
    {
     "data": {
      "text/plain": [
       "[('치아나', 0.8355734348297119),\n",
       " ('치아관리', 0.8103460073471069),\n",
       " ('치아건강', 0.7775462865829468),\n",
       " ('소피아', 0.7705380916595459),\n",
       " ('미아', 0.7664532661437988),\n",
       " ('아리아', 0.747617244720459),\n",
       " ('치아가', 0.741093635559082),\n",
       " ('치태', 0.7407466173171997),\n",
       " ('치아발육기', 0.7406258583068848),\n",
       " ('치매', 0.7400088310241699)]"
      ]
     },
     "execution_count": 26,
     "metadata": {},
     "output_type": "execute_result"
    }
   ],
   "source": [
    "most_similar(\"치아\")"
   ]
  },
  {
   "cell_type": "code",
   "execution_count": 27,
   "metadata": {},
   "outputs": [
    {
     "data": {
      "text/plain": [
       "[('이탈', 0.9184857606887817),\n",
       " ('이혼할', 0.8759535551071167),\n",
       " ('이어갈', 0.8619340658187866),\n",
       " ('이길', 0.856127142906189),\n",
       " ('이걸', 0.8507415056228638),\n",
       " ('이룰', 0.8410588502883911),\n",
       " ('이달', 0.839617908000946),\n",
       " ('이불', 0.8386311531066895),\n",
       " ('이럴', 0.8299028277397156),\n",
       " ('옛날', 0.8246774673461914)]"
      ]
     },
     "execution_count": 27,
     "metadata": {},
     "output_type": "execute_result"
    }
   ],
   "source": [
    "most_similar(\"이빨\")"
   ]
  },
  {
   "cell_type": "code",
   "execution_count": 28,
   "metadata": {},
   "outputs": [
    {
     "data": {
      "text/plain": [
       "[('책놀이', 0.9498100280761719),\n",
       " ('공놀이', 0.9358961582183838),\n",
       " ('윷놀이', 0.9310749769210815),\n",
       " ('까꿍놀이', 0.9170355796813965),\n",
       " ('소꿉놀이', 0.9155725240707397),\n",
       " ('색칠놀이', 0.9078812003135681),\n",
       " ('놀이터가', 0.9060976505279541),\n",
       " ('음악놀이', 0.9000377058982849),\n",
       " ('촉감놀이', 0.8935685753822327),\n",
       " ('점토놀이', 0.8932490348815918)]"
      ]
     },
     "execution_count": 28,
     "metadata": {},
     "output_type": "execute_result"
    }
   ],
   "source": [
    "most_similar(\"놀이\")"
   ]
  },
  {
   "cell_type": "code",
   "execution_count": 29,
   "metadata": {},
   "outputs": [
    {
     "data": {
      "text/plain": [
       "[('열감기', 0.897197425365448),\n",
       " ('코감기', 0.884961724281311),\n",
       " ('감기약', 0.8469191193580627),\n",
       " ('염기', 0.8354255557060242),\n",
       " ('갈기', 0.8332834243774414),\n",
       " ('가볍기', 0.8328777551651001),\n",
       " ('간절기', 0.8326712250709534),\n",
       " ('감염되기', 0.8215770721435547),\n",
       " ('감기처럼', 0.8205673694610596),\n",
       " ('가습기', 0.8147245645523071)]"
      ]
     },
     "execution_count": 29,
     "metadata": {},
     "output_type": "execute_result"
    }
   ],
   "source": [
    "most_similar(\"감기\")"
   ]
  },
  {
   "cell_type": "markdown",
   "metadata": {},
   "source": [
    "### 결과 확인\n",
    "하이퍼 파라미터 조정을 다양하게 시도해보며 결과를 확인해봤지만, 역시 사용하기 어렵겠다는 결론을 내렸다. 말뭉치가 부족한 것이 원인이 아닐까?"
   ]
  },
  {
   "cell_type": "markdown",
   "metadata": {},
   "source": [
    "---"
   ]
  },
  {
   "cell_type": "markdown",
   "metadata": {},
   "source": [
    "## 못내 아쉬워서 재도전\n",
    "- 이번엔 자음, 모음 단위가 아닌 글자 단위로 해보자\n",
    "- 간단하게 Mecab으로 tokenizing한 말뭉치를 학습으로 사용"
   ]
  },
  {
   "cell_type": "code",
   "execution_count": 31,
   "metadata": {},
   "outputs": [],
   "source": [
    "from konlpy.tag import Mecab"
   ]
  },
  {
   "cell_type": "code",
   "execution_count": 32,
   "metadata": {},
   "outputs": [],
   "source": [
    "def tokenize(text):\n",
    "    tokenizer = Mecab()\n",
    "    text = tokenizer.morphs(text)\n",
    "    text = ' '.join(text)\n",
    "    return text"
   ]
  },
  {
   "cell_type": "code",
   "execution_count": 33,
   "metadata": {},
   "outputs": [
    {
     "name": "stdout",
     "output_type": "stream",
     "text": [
      "CPU times: user 42 s, sys: 22.6 s, total: 1min 4s\n",
      "Wall time: 1min 4s\n"
     ]
    },
    {
     "data": {
      "text/html": [
       "<div>\n",
       "<style scoped>\n",
       "    .dataframe tbody tr th:only-of-type {\n",
       "        vertical-align: middle;\n",
       "    }\n",
       "\n",
       "    .dataframe tbody tr th {\n",
       "        vertical-align: top;\n",
       "    }\n",
       "\n",
       "    .dataframe thead th {\n",
       "        text-align: right;\n",
       "    }\n",
       "</style>\n",
       "<table border=\"1\" class=\"dataframe\">\n",
       "  <thead>\n",
       "    <tr style=\"text-align: right;\">\n",
       "      <th></th>\n",
       "      <th>text</th>\n",
       "      <th>encoded</th>\n",
       "      <th>tokenized</th>\n",
       "    </tr>\n",
       "  </thead>\n",
       "  <tbody>\n",
       "    <tr>\n",
       "      <th>19502</th>\n",
       "      <td>토끼띠의 단점</td>\n",
       "      <td>ㅌㅗ-ㄲㅣ-ㄸㅣ-ㅇㅢ- ㄷㅏㄴㅈㅓㅁ</td>\n",
       "      <td>토끼띠 의 단점</td>\n",
       "    </tr>\n",
       "    <tr>\n",
       "      <th>19503</th>\n",
       "      <td>국가영어능력평가 준비 올해부터 본격적으로 시행되는 국가영어능력평가에 대해서 소개해드...</td>\n",
       "      <td>ㄱㅜㄱㄱㅏ-ㅇㅕㅇㅇㅓ-ㄴㅡㅇㄹㅕㄱㅍㅕㅇㄱㅏ- ㅈㅜㄴㅂㅣ- ㅇㅗㄹㅎㅐ-ㅂㅜ-ㅌㅓ- ㅂ...</td>\n",
       "      <td>국가 영어 능력 평가 준비 올해 부터 본격 적 으로 시행 되 는 국가 영어 능력 평...</td>\n",
       "    </tr>\n",
       "    <tr>\n",
       "      <th>19504</th>\n",
       "      <td>워킹맘이든 전업맘이든 아이들에게 관심과 사랑을 쏟아야 하는 것은 분명합니다 평소 아...</td>\n",
       "      <td>ㅇㅝ-ㅋㅣㅇㅁㅏㅁㅇㅣ-ㄷㅡㄴ ㅈㅓㄴㅇㅓㅂㅁㅏㅁㅇㅣ-ㄷㅡㄴ ㅇㅏ-ㅇㅣ-ㄷㅡㄹㅇㅔ-ㄱㅔ...</td>\n",
       "      <td>워킹 맘 이 든 전업 맘 이 든 아이 들 에게 관심 과 사랑 을 쏟 아야 하 는 것...</td>\n",
       "    </tr>\n",
       "    <tr>\n",
       "      <th>19505</th>\n",
       "      <td>검사결과 지민이의 강점지능은 언어지능과 음악지능였습니다 엄마는 지민이가 집에서나 학...</td>\n",
       "      <td>ㄱㅓㅁㅅㅏ-ㄱㅕㄹㄱㅘ- ㅈㅣ-ㅁㅣㄴㅇㅣ-ㅇㅢ- ㄱㅏㅇㅈㅓㅁㅈㅣ-ㄴㅡㅇㅇㅡㄴ ㅇㅓㄴㅇ...</td>\n",
       "      <td>검사 결과 지민 이 의 강점 지능 은 언어 지능 과 음악 지능 였 습니다 엄마 는 ...</td>\n",
       "    </tr>\n",
       "    <tr>\n",
       "      <th>19506</th>\n",
       "      <td>진로상담센터 교육 컨설팅 아이들의 진로는 중·고등학생 때 뿐 아니라 초등학생때부터 ...</td>\n",
       "      <td>ㅈㅣㄴㄹㅗ-ㅅㅏㅇㄷㅏㅁㅅㅔㄴㅌㅓ- ㄱㅛ-ㅇㅠㄱ ㅋㅓㄴㅅㅓㄹㅌㅣㅇ ㅇㅏ-ㅇㅣ-ㄷㅡㄹㅇ...</td>\n",
       "      <td>진로 상담 센터 교육 컨설팅 아이 들 의 진로 는 중 · 고등학생 때 뿐 아니 라 ...</td>\n",
       "    </tr>\n",
       "  </tbody>\n",
       "</table>\n",
       "</div>"
      ],
      "text/plain": [
       "                                                    text  \\\n",
       "19502                                            토끼띠의 단점   \n",
       "19503  국가영어능력평가 준비 올해부터 본격적으로 시행되는 국가영어능력평가에 대해서 소개해드...   \n",
       "19504  워킹맘이든 전업맘이든 아이들에게 관심과 사랑을 쏟아야 하는 것은 분명합니다 평소 아...   \n",
       "19505  검사결과 지민이의 강점지능은 언어지능과 음악지능였습니다 엄마는 지민이가 집에서나 학...   \n",
       "19506  진로상담센터 교육 컨설팅 아이들의 진로는 중·고등학생 때 뿐 아니라 초등학생때부터 ...   \n",
       "\n",
       "                                                 encoded  \\\n",
       "19502                                ㅌㅗ-ㄲㅣ-ㄸㅣ-ㅇㅢ- ㄷㅏㄴㅈㅓㅁ   \n",
       "19503  ㄱㅜㄱㄱㅏ-ㅇㅕㅇㅇㅓ-ㄴㅡㅇㄹㅕㄱㅍㅕㅇㄱㅏ- ㅈㅜㄴㅂㅣ- ㅇㅗㄹㅎㅐ-ㅂㅜ-ㅌㅓ- ㅂ...   \n",
       "19504  ㅇㅝ-ㅋㅣㅇㅁㅏㅁㅇㅣ-ㄷㅡㄴ ㅈㅓㄴㅇㅓㅂㅁㅏㅁㅇㅣ-ㄷㅡㄴ ㅇㅏ-ㅇㅣ-ㄷㅡㄹㅇㅔ-ㄱㅔ...   \n",
       "19505  ㄱㅓㅁㅅㅏ-ㄱㅕㄹㄱㅘ- ㅈㅣ-ㅁㅣㄴㅇㅣ-ㅇㅢ- ㄱㅏㅇㅈㅓㅁㅈㅣ-ㄴㅡㅇㅇㅡㄴ ㅇㅓㄴㅇ...   \n",
       "19506  ㅈㅣㄴㄹㅗ-ㅅㅏㅇㄷㅏㅁㅅㅔㄴㅌㅓ- ㄱㅛ-ㅇㅠㄱ ㅋㅓㄴㅅㅓㄹㅌㅣㅇ ㅇㅏ-ㅇㅣ-ㄷㅡㄹㅇ...   \n",
       "\n",
       "                                               tokenized  \n",
       "19502                                           토끼띠 의 단점  \n",
       "19503  국가 영어 능력 평가 준비 올해 부터 본격 적 으로 시행 되 는 국가 영어 능력 평...  \n",
       "19504  워킹 맘 이 든 전업 맘 이 든 아이 들 에게 관심 과 사랑 을 쏟 아야 하 는 것...  \n",
       "19505  검사 결과 지민 이 의 강점 지능 은 언어 지능 과 음악 지능 였 습니다 엄마 는 ...  \n",
       "19506  진로 상담 센터 교육 컨설팅 아이 들 의 진로 는 중 · 고등학생 때 뿐 아니 라 ...  "
      ]
     },
     "execution_count": 33,
     "metadata": {},
     "output_type": "execute_result"
    }
   ],
   "source": [
    "%%time\n",
    "df['tokenized'] = df['text'].apply(tokenize)\n",
    "df.tail()"
   ]
  },
  {
   "cell_type": "code",
   "execution_count": 34,
   "metadata": {},
   "outputs": [
    {
     "data": {
      "text/plain": [
       "19507"
      ]
     },
     "execution_count": 34,
     "metadata": {},
     "output_type": "execute_result"
    }
   ],
   "source": [
    "encoded_corpus = np.array(df.tokenized)\n",
    "len(encoded_corpus)"
   ]
  },
  {
   "cell_type": "code",
   "execution_count": 35,
   "metadata": {},
   "outputs": [
    {
     "name": "stdout",
     "output_type": "stream",
     "text": [
      "iter = 1, docs = 19506 done                    \n",
      "iter = 2, docs = 19506 done                    \n",
      "iter = 3, docs = 19506 done                    \n",
      "iter = 4, docs = 19506 done                    \n",
      "iter = 5, docs = 19506 done                    \n",
      "iter = 6, docs = 19506 done                    \n",
      "CPU times: user 2min 39s, sys: 871 ms, total: 2min 40s\n",
      "Wall time: 37.8 s\n"
     ]
    }
   ],
   "source": [
    "%%time\n",
    "class FastTextCorpus:\n",
    "    def __init__(self, corpus):\n",
    "        self.corpus = corpus\n",
    "        self.n_iter = 0\n",
    "    def __iter__(self):\n",
    "        for i, doc in enumerate(self.corpus):\n",
    "            if i % 500 == 0 and i > 0:\n",
    "                print('\\riter = {}, sents = {} ...'.format(self.n_iter, i), end='')\n",
    "            yield doc.split()\n",
    "        self.n_iter += 1\n",
    "        print('\\riter = {}, docs = {} done{}'.format(self.n_iter, i, ' '*20))\n",
    "        \n",
    "corpus = FastTextCorpus(encoded_corpus)\n",
    "fasttext_token_model = FastText(\n",
    "    corpus,\n",
    "    size=100,\n",
    "    seed=191212,\n",
    "    workers=6,\n",
    "    window=5,\n",
    "    min_count=6,\n",
    "    min_n=2,\n",
    "    max_n=6,\n",
    ")"
   ]
  },
  {
   "cell_type": "code",
   "execution_count": 36,
   "metadata": {},
   "outputs": [],
   "source": [
    "fasttext_token_model.save('data/tokmom_token_fasttext.model')"
   ]
  },
  {
   "cell_type": "code",
   "execution_count": 37,
   "metadata": {},
   "outputs": [
    {
     "data": {
      "text/plain": [
       "[('남아', 0.8793524503707886),\n",
       " ('빈아', 0.8268206715583801),\n",
       " ('동남아', 0.8174921274185181),\n",
       " ('머지않아', 0.8166212439537048),\n",
       " ('승아', 0.8153604865074158),\n",
       " ('쌍생아', 0.8029741048812866),\n",
       " ('산아', 0.7987430095672607),\n",
       " ('단아', 0.7971248030662537),\n",
       " ('우량아', 0.7963160276412964),\n",
       " ('맥아', 0.7935917377471924)]"
      ]
     },
     "execution_count": 37,
     "metadata": {},
     "output_type": "execute_result"
    }
   ],
   "source": [
    "fasttext_token_model.wv.most_similar(\"여아\")"
   ]
  },
  {
   "cell_type": "code",
   "execution_count": 38,
   "metadata": {},
   "outputs": [
    {
     "data": {
      "text/plain": [
       "[('여자', 0.6591677665710449),\n",
       " ('남자', 0.6501051187515259),\n",
       " ('큰아이', 0.6341002583503723),\n",
       " ('갓난아이', 0.6282140016555786),\n",
       " ('딸아이', 0.623320460319519),\n",
       " ('외동아이', 0.6097438335418701),\n",
       " ('또래', 0.5886651873588562),\n",
       " ('첫아이', 0.5864680409431458),\n",
       " ('아이', 0.5809661149978638),\n",
       " ('어린아이', 0.5537697076797485)]"
      ]
     },
     "execution_count": 38,
     "metadata": {},
     "output_type": "execute_result"
    }
   ],
   "source": [
    "fasttext_token_model.wv.most_similar(\"여자아이\")"
   ]
  },
  {
   "cell_type": "code",
   "execution_count": 39,
   "metadata": {},
   "outputs": [
    {
     "data": {
      "text/plain": [
       "[('여아', 0.8793525099754333),\n",
       " ('딸아', 0.8142745494842529),\n",
       " ('동남아', 0.8132936358451843),\n",
       " ('빈아', 0.7888689041137695),\n",
       " ('우량아', 0.7881900072097778),\n",
       " ('이진아', 0.7869821786880493),\n",
       " ('머지않아', 0.7833974361419678),\n",
       " ('쌍생아', 0.7821588516235352),\n",
       " ('이은아', 0.7778501510620117),\n",
       " ('이케아', 0.7753491401672363)]"
      ]
     },
     "execution_count": 39,
     "metadata": {},
     "output_type": "execute_result"
    }
   ],
   "source": [
    "fasttext_token_model.wv.most_similar(\"남아\")"
   ]
  },
  {
   "cell_type": "code",
   "execution_count": 40,
   "metadata": {},
   "outputs": [
    {
     "data": {
      "text/plain": [
       "[('남자', 0.6883581876754761),\n",
       " ('외동아이', 0.6248061656951904),\n",
       " ('갓난아이', 0.6079676151275635),\n",
       " ('큰아이', 0.59782475233078),\n",
       " ('딸아이', 0.5890188217163086),\n",
       " ('어린아이', 0.581037700176239),\n",
       " ('자기', 0.5792179703712463),\n",
       " ('어른', 0.5758233070373535),\n",
       " ('강아지', 0.5727760791778564),\n",
       " ('자아', 0.5694735050201416)]"
      ]
     },
     "execution_count": 40,
     "metadata": {},
     "output_type": "execute_result"
    }
   ],
   "source": [
    "fasttext_token_model.wv.most_similar(\"남자아이\")"
   ]
  },
  {
   "cell_type": "code",
   "execution_count": 41,
   "metadata": {},
   "outputs": [
    {
     "data": {
      "text/plain": [
       "[('잇몸', 0.7881530523300171),\n",
       " ('영구치', 0.780902087688446),\n",
       " ('치태', 0.7569048404693604),\n",
       " ('치조골', 0.7496535778045654),\n",
       " ('치핵', 0.7459360957145691),\n",
       " ('치골', 0.7398999929428101),\n",
       " ('유치', 0.7325750589370728),\n",
       " ('치아우식증', 0.7163764238357544),\n",
       " ('치석', 0.7086289525032043),\n",
       " ('턱뼈', 0.6980010271072388)]"
      ]
     },
     "execution_count": 41,
     "metadata": {},
     "output_type": "execute_result"
    }
   ],
   "source": [
    "fasttext_token_model.wv.most_similar(\"치아\")"
   ]
  },
  {
   "cell_type": "code",
   "execution_count": 42,
   "metadata": {},
   "outputs": [
    {
     "data": {
      "text/plain": [
       "[('이삭', 0.902835488319397),\n",
       " ('이뻐', 0.8997254371643066),\n",
       " ('이놈', 0.8995668888092041),\n",
       " ('이따', 0.8974958658218384),\n",
       " ('이끼', 0.897071123123169),\n",
       " ('이착륙', 0.8884831666946411),\n",
       " ('이끈', 0.8866316080093384),\n",
       " ('이메', 0.8751682043075562),\n",
       " ('이카리', 0.8699648976325989),\n",
       " ('이랬', 0.865716814994812)]"
      ]
     },
     "execution_count": 42,
     "metadata": {},
     "output_type": "execute_result"
    }
   ],
   "source": [
    "fasttext_token_model.wv.most_similar(\"이빨\")"
   ]
  },
  {
   "cell_type": "code",
   "execution_count": 52,
   "metadata": {},
   "outputs": [
    {
     "data": {
      "text/plain": [
       "[('이갈이', 0.6703658103942871),\n",
       " ('이법이', 0.6637637615203857),\n",
       " ('이앓이', 0.6623647809028625),\n",
       " ('이이', 0.6623225212097168),\n",
       " ('이고은', 0.6336269974708557),\n",
       " ('이걸로', 0.6267480254173279),\n",
       " ('이승로', 0.6218252182006836),\n",
       " ('더욱이', 0.617598295211792),\n",
       " ('이주은', 0.6152785420417786),\n",
       " ('이가', 0.6107053756713867)]"
      ]
     },
     "execution_count": 52,
     "metadata": {},
     "output_type": "execute_result"
    }
   ],
   "source": [
    "fasttext_token_model.wv.most_similar(\"이\")"
   ]
  },
  {
   "cell_type": "code",
   "execution_count": 43,
   "metadata": {},
   "outputs": [
    {
     "data": {
      "text/plain": [
       "[('공놀이', 0.8616198301315308),\n",
       " ('길놀이', 0.8523542881011963),\n",
       " ('투호놀이', 0.8519386053085327),\n",
       " ('사물놀이', 0.845710277557373),\n",
       " ('놀이판', 0.8447649478912354),\n",
       " ('윷놀이', 0.8404592871665955),\n",
       " ('기차놀이', 0.8361167311668396),\n",
       " ('탈놀이', 0.8165323734283447),\n",
       " ('관자놀이', 0.8069682717323303),\n",
       " ('풍물놀이', 0.7963175773620605)]"
      ]
     },
     "execution_count": 43,
     "metadata": {},
     "output_type": "execute_result"
    }
   ],
   "source": [
    "fasttext_token_model.wv.most_similar(\"놀이\")"
   ]
  },
  {
   "cell_type": "code",
   "execution_count": 44,
   "metadata": {},
   "outputs": [
    {
     "data": {
      "text/plain": [
       "[('곪', 0.3686450719833374),\n",
       " ('해했', 0.3523622751235962),\n",
       " ('해졌', 0.34141188859939575),\n",
       " ('막혔', 0.3383951783180237),\n",
       " ('덧붙였', 0.33778858184814453),\n",
       " ('속상했', 0.330879271030426),\n",
       " ('불리', 0.32451584935188293),\n",
       " ('굴뚝같', 0.32420358061790466),\n",
       " ('같', 0.3142273724079132),\n",
       " ('털어놨', 0.31361037492752075)]"
      ]
     },
     "execution_count": 44,
     "metadata": {},
     "output_type": "execute_result"
    }
   ],
   "source": [
    "fasttext_token_model.wv.most_similar(\"이빠ㄹ\")"
   ]
  },
  {
   "cell_type": "code",
   "execution_count": 45,
   "metadata": {},
   "outputs": [
    {
     "data": {
      "text/plain": [
       "[('놀', 0.48708441853523254),\n",
       " ('놀랄', 0.47123098373413086),\n",
       " ('놀람', 0.47120022773742676),\n",
       " ('놀라울', 0.45342379808425903),\n",
       " ('뛰놀', 0.44498616456985474),\n",
       " ('놀이공원', 0.42896416783332825),\n",
       " ('놀랍', 0.4279695153236389),\n",
       " ('마음놓', 0.4248155355453491),\n",
       " ('놀이동산', 0.42026078701019287),\n",
       " ('놀러갔', 0.41828668117523193)]"
      ]
     },
     "execution_count": 45,
     "metadata": {},
     "output_type": "execute_result"
    }
   ],
   "source": [
    "fasttext_token_model.wv.most_similar(\"놀ㅇ\")"
   ]
  },
  {
   "cell_type": "code",
   "execution_count": 46,
   "metadata": {},
   "outputs": [
    {
     "data": {
      "text/plain": [
       "[('갓난아기', 0.8749422430992126),\n",
       " ('아이', 0.8532912731170654),\n",
       " ('아기씨', 0.8456162214279175),\n",
       " ('아기방', 0.8449693918228149),\n",
       " ('아기집', 0.8238485455513),\n",
       " ('아기과자', 0.81862473487854),\n",
       " ('갓난아이', 0.8117345571517944),\n",
       " ('아기자기', 0.8095382452011108),\n",
       " ('태아기', 0.8043420910835266),\n",
       " ('신생아기', 0.7991621494293213)]"
      ]
     },
     "execution_count": 46,
     "metadata": {},
     "output_type": "execute_result"
    }
   ],
   "source": [
    "fasttext_token_model.wv.most_similar(\"아기\")"
   ]
  },
  {
   "cell_type": "code",
   "execution_count": 47,
   "metadata": {},
   "outputs": [
    {
     "data": {
      "text/plain": [
       "[('우기', 0.8718590140342712),\n",
       " ('솔기', 0.8703078627586365),\n",
       " ('슬기', 0.8668882250785828),\n",
       " ('뺏기', 0.8617573976516724),\n",
       " ('웃기', 0.857114315032959),\n",
       " ('쐐기', 0.8562721014022827),\n",
       " ('튕기', 0.8551444411277771),\n",
       " ('숫기', 0.8548935651779175),\n",
       " ('깍두기', 0.8546078205108643),\n",
       " ('땅기', 0.8526855707168579)]"
      ]
     },
     "execution_count": 47,
     "metadata": {},
     "output_type": "execute_result"
    }
   ],
   "source": [
    "fasttext_token_model.wv.most_similar(\"애기\")"
   ]
  },
  {
   "cell_type": "code",
   "execution_count": 48,
   "metadata": {},
   "outputs": [
    {
     "data": {
      "text/plain": [
       "[('아테네', 0.532082200050354),\n",
       " ('아껴', 0.5209164619445801),\n",
       " ('아홉', 0.5150492191314697),\n",
       " ('아뿔싸', 0.509800374507904),\n",
       " ('아웃', 0.49506261944770813),\n",
       " ('아슬아슬', 0.4895532727241516),\n",
       " ('아저씨', 0.4893777072429657),\n",
       " ('아휴', 0.48421481251716614),\n",
       " ('아랫', 0.4805004298686981),\n",
       " ('아누', 0.4751540720462799)]"
      ]
     },
     "execution_count": 48,
     "metadata": {},
     "output_type": "execute_result"
    }
   ],
   "source": [
    "fasttext_token_model.wv.most_similar(\"아ㄱ\")"
   ]
  },
  {
   "cell_type": "code",
   "execution_count": 49,
   "metadata": {},
   "outputs": [
    {
     "data": {
      "text/plain": [
       "[('찡긋', 0.8634486198425293),\n",
       " ('찡찡', 0.8102352619171143),\n",
       " ('깜', 0.7513332366943359),\n",
       " ('툭', 0.7431281805038452),\n",
       " ('깜빡', 0.7019097805023193),\n",
       " ('팍', 0.6868350505828857),\n",
       " ('찰칵', 0.6778855323791504),\n",
       " ('뻑뻑', 0.6770793795585632),\n",
       " ('툭툭', 0.6734962463378906),\n",
       " ('휘젓', 0.6727398633956909)]"
      ]
     },
     "execution_count": 49,
     "metadata": {},
     "output_type": "execute_result"
    }
   ],
   "source": [
    "fasttext_token_model.wv.most_similar(\"찡\")"
   ]
  },
  {
   "cell_type": "code",
   "execution_count": 50,
   "metadata": {},
   "outputs": [
    {
     "data": {
      "text/plain": [
       "[('희열', 0.8047626614570618),\n",
       " ('마찰열', 0.7351973056793213),\n",
       " ('허열', 0.7190242409706116),\n",
       " ('열혈', 0.7097938060760498),\n",
       " ('열흘', 0.694926917552948),\n",
       " ('우열', 0.6948281526565552),\n",
       " ('열독', 0.6940494775772095),\n",
       " ('균열', 0.6889867782592773),\n",
       " ('열광', 0.6877672672271729),\n",
       " ('내열', 0.6856398582458496)]"
      ]
     },
     "execution_count": 50,
     "metadata": {},
     "output_type": "execute_result"
    }
   ],
   "source": [
    "fasttext_token_model.wv.most_similar(\"열\")"
   ]
  },
  {
   "cell_type": "code",
   "execution_count": 51,
   "metadata": {},
   "outputs": [
    {
     "data": {
      "text/plain": [
       "[('육아종', 0.7534529566764832),\n",
       " ('육모', 0.6781485676765442),\n",
       " ('공동육아', 0.663213312625885),\n",
       " ('육아법', 0.6533761024475098),\n",
       " ('양육', 0.6316951513290405),\n",
       " ('노아', 0.6042506694793701),\n",
       " ('워킹', 0.5996135473251343),\n",
       " ('전업', 0.5879354476928711),\n",
       " ('가사', 0.5831745862960815),\n",
       " ('현아', 0.5787320733070374)]"
      ]
     },
     "execution_count": 51,
     "metadata": {},
     "output_type": "execute_result"
    }
   ],
   "source": [
    "fasttext_token_model.wv.most_similar(\"육아\")"
   ]
  },
  {
   "cell_type": "markdown",
   "metadata": {},
   "source": [
    "### Review\n"
   ]
  },
  {
   "cell_type": "markdown",
   "metadata": {},
   "source": [
    "- 이전 모델이 비해 전체적인 성능이 더 좋아진 것은 체감된다!\n",
    "- 하지만 오타나 말뭉치에 존재하지 않는 단어를 입력받을 경우, 최소 error는 발생하진 않지만 성능에 대한 이슈는 여전히 존재한다 \n",
    "  - 보통 오타는 자음 모음을 누락하거나 잘못 입력하는 경우에 발생하기 때문. 글자 단위로 임베딩 했을 때는 이런 부분을 잡기 어렵다.\n",
    "  - 어떻게든 결과는 나오지만 fasttext만의 특색이자 장점을 못살리는 느낌.. \n",
    "- 그리고 fasttext 특성 상 \"남아\"의 유사어로 \"동남아\"가 나오는 식의 문제는 어떻게 할 수가 없다; 이것은 자음 모음 단위로 임베딩 할 경우에도 있었던 문제임\n",
    "- Embedding 결과 성능을 정량적으로 비교해서 word2vec과 fasttext 둘 중 무엇이 좋을지 확실히 비교할 수 있는 방안을 찾아서 어떤 것을 활용할지 결정해야 할 듯"
   ]
  },
  {
   "cell_type": "code",
   "execution_count": null,
   "metadata": {},
   "outputs": [],
   "source": []
  }
 ],
 "metadata": {
  "kernelspec": {
   "display_name": "Python 3",
   "language": "python",
   "name": "python3"
  },
  "language_info": {
   "codemirror_mode": {
    "name": "ipython",
    "version": 3
   },
   "file_extension": ".py",
   "mimetype": "text/x-python",
   "name": "python",
   "nbconvert_exporter": "python",
   "pygments_lexer": "ipython3",
   "version": "3.7.5"
  }
 },
 "nbformat": 4,
 "nbformat_minor": 2
}
