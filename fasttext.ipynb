{
 "cells": [
  {
   "cell_type": "markdown",
   "metadata": {},
   "source": [
    "## Fasttext\n",
    "- word2vec은 사전에 존재하지 않는 단어를 잡아내지 못하는 단점이 있다.\n",
    "- Fasttext를 통해 이러한 OOV 문제를 해결하며 준수한 성능까지 유도할 수 있을지 알아보자."
   ]
  },
  {
   "cell_type": "markdown",
   "metadata": {},
   "source": [
    "## Import"
   ]
  },
  {
   "cell_type": "code",
   "execution_count": 1,
   "metadata": {},
   "outputs": [],
   "source": [
    "import pandas as pd\n",
    "import numpy as np\n",
    "\n",
    "from konlpy.tag import Mecab\n",
    "from gensim.models import FastText"
   ]
  },
  {
   "cell_type": "markdown",
   "metadata": {},
   "source": [
    "### Datas"
   ]
  },
  {
   "cell_type": "code",
   "execution_count": 2,
   "metadata": {},
   "outputs": [],
   "source": [
    "df1 = pd.read_csv(\"data/maeili.csv\", encoding='utf-8')\n",
    "df2 = pd.read_csv(\"data/baby.csv\", encoding='utf-8')\n",
    "df3 = pd.read_csv(\"data/toys.csv\", encoding='utf-8')\n",
    "df4 = pd.read_csv(\"data/seoulchildcare.csv\", encoding='utf-8')\n",
    "df5 = pd.read_csv(\"data/babynews_DLC.csv\", encoding='utf-8')\n",
    "df6 = pd.read_csv(\"data/ildongfoodis.csv\", encoding='utf-8')\n",
    "df7 = pd.read_csv(\"data/momsmagazine.csv\", encoding='utf-8')\n",
    "df8 = pd.read_csv(\"data/ange.csv\", encoding='utf-8')"
   ]
  },
  {
   "cell_type": "markdown",
   "metadata": {},
   "source": [
    "### Concatenate Dataframe"
   ]
  },
  {
   "cell_type": "code",
   "execution_count": 3,
   "metadata": {},
   "outputs": [
    {
     "data": {
      "text/html": [
       "<div>\n",
       "<style scoped>\n",
       "    .dataframe tbody tr th:only-of-type {\n",
       "        vertical-align: middle;\n",
       "    }\n",
       "\n",
       "    .dataframe tbody tr th {\n",
       "        vertical-align: top;\n",
       "    }\n",
       "\n",
       "    .dataframe thead th {\n",
       "        text-align: right;\n",
       "    }\n",
       "</style>\n",
       "<table border=\"1\" class=\"dataframe\">\n",
       "  <thead>\n",
       "    <tr style=\"text-align: right;\">\n",
       "      <th></th>\n",
       "      <th>text</th>\n",
       "    </tr>\n",
       "  </thead>\n",
       "  <tbody>\n",
       "    <tr>\n",
       "      <th>17339</th>\n",
       "      <td>아이는 현재 신체와 정신이 모두 발달 중에 있다 신체 발달은 근육의 발달을 정신 발...</td>\n",
       "    </tr>\n",
       "    <tr>\n",
       "      <th>17340</th>\n",
       "      <td>세 살 적 버릇이 여든까지 간다는 말이 있다 밥상머리 예절도 예외는 아니다 아이에게...</td>\n",
       "    </tr>\n",
       "    <tr>\n",
       "      <th>17341</th>\n",
       "      <td>아이의 키가 자라고 몸무게가 늘어나면서 아이 몸을 구성하고 있는 장기들도 커지고 무...</td>\n",
       "    </tr>\n",
       "    <tr>\n",
       "      <th>17342</th>\n",
       "      <td>눈치는 직관적이고 비언어적인 방법으로 의사소통을 하고 문제를 해결하는 놀라운 능력이...</td>\n",
       "    </tr>\n",
       "    <tr>\n",
       "      <th>17343</th>\n",
       "      <td>소리를 들으면 사람은 그 소리를 그대로 흉내 낼 수 있다 이것이 청력의 힘이다 말소...</td>\n",
       "    </tr>\n",
       "  </tbody>\n",
       "</table>\n",
       "</div>"
      ],
      "text/plain": [
       "                                                    text\n",
       "17339  아이는 현재 신체와 정신이 모두 발달 중에 있다 신체 발달은 근육의 발달을 정신 발...\n",
       "17340  세 살 적 버릇이 여든까지 간다는 말이 있다 밥상머리 예절도 예외는 아니다 아이에게...\n",
       "17341  아이의 키가 자라고 몸무게가 늘어나면서 아이 몸을 구성하고 있는 장기들도 커지고 무...\n",
       "17342  눈치는 직관적이고 비언어적인 방법으로 의사소통을 하고 문제를 해결하는 놀라운 능력이...\n",
       "17343  소리를 들으면 사람은 그 소리를 그대로 흉내 낼 수 있다 이것이 청력의 힘이다 말소..."
      ]
     },
     "execution_count": 3,
     "metadata": {},
     "output_type": "execute_result"
    }
   ],
   "source": [
    "df = pd.concat([df1.text, df2.text, df3.text, df4.text, \n",
    "                df5.text, df6.text, df7.text, df8.text])\n",
    "df = pd.DataFrame(df).reset_index(drop=True)\n",
    "df.tail()"
   ]
  },
  {
   "cell_type": "markdown",
   "metadata": {},
   "source": [
    "### Preprocessing"
   ]
  },
  {
   "cell_type": "code",
   "execution_count": 4,
   "metadata": {},
   "outputs": [],
   "source": [
    "import re\n",
    "\n",
    "def cleaningText(text):\n",
    "    # 전처리 하는 순서 중요!!\n",
    "    text = re.sub('&nbsp;|\\xa0|\\u200b|\\r|\\n|\\t', ' ', text)\n",
    "    text = re.sub('<.+?>', '', text)\n",
    "    text = re.sub('[-_=+,/\\?;:^$.@*\\\"※~&%ㆍ!”“’「」『』〈〉\\\\‘|\\(\\)\\{\\}\\[\\]\\<\\>`\\'…《》]', '', text)\n",
    "    text = re.sub('[㈜～→•▪∘○□◇△▽▷◁☆◈◐▶▼▲◆★♦■♥️●♠🖤–]', '', text)\n",
    "    text = re.sub('http.+com|http.+co|http.+kr|www.+kr|www.+com|www.+net|http.+net|', '', text)\n",
    "    \n",
    "    text = re.sub('\\s+', ' ', text)\n",
    "    text = text.strip()\n",
    "\n",
    "    return text"
   ]
  },
  {
   "cell_type": "code",
   "execution_count": 5,
   "metadata": {},
   "outputs": [],
   "source": [
    "df = df.drop(index=[952, 955, 956, 960, 962, 964, 1165, 1240, 1322])\n",
    "df = df.drop_duplicates()\n",
    "df = df.dropna()\n",
    "df = pd.DataFrame(df).reset_index(drop=True)"
   ]
  },
  {
   "cell_type": "code",
   "execution_count": 6,
   "metadata": {},
   "outputs": [],
   "source": [
    "df['text'] = df['text'].apply(cleaningText)\n",
    "df = df.dropna()"
   ]
  },
  {
   "cell_type": "markdown",
   "metadata": {},
   "source": [
    "### FastText 학습에 적합한 말뭉치로 정제하는 과정\n",
    "- 한글을 자음, 모음 단위로 분해\n",
    "- 단어 단위로 구분된 ndarray 자료구조로 정제"
   ]
  },
  {
   "cell_type": "code",
   "execution_count": 7,
   "metadata": {},
   "outputs": [],
   "source": [
    "import re\n",
    "from soynlp.hangle import decompose, compose\n",
    "\n",
    "def remove_doublespace(s):\n",
    "    doublespace_pattern = re.compile('\\s+')\n",
    "    return doublespace_pattern.sub(' ', s).strip()\n",
    "\n",
    "def encode(s):\n",
    "    def process(c):\n",
    "        if c == ' ':\n",
    "            return c\n",
    "        jamo = decompose(c)\n",
    "        # 'a' or 모음 or 자음\n",
    "        if (jamo is None) or (jamo[0] == ' ') or (jamo[1] == ' '):\n",
    "            return ' '\n",
    "        base = jamo[0]+jamo[1]\n",
    "        if jamo[2] == ' ':\n",
    "            return base + '-'\n",
    "        return base + jamo[2]\n",
    "\n",
    "    s = ''.join(process(c) for c in s)\n",
    "    return remove_doublespace(s).strip()\n",
    "\n",
    "#     s = [process(c) for c in s]\n",
    "#     return s\n",
    "\n",
    "def decode(s):\n",
    "    def process(t):\n",
    "        assert len(t) % 3 == 0\n",
    "        t_ = t.replace('-', ' ')\n",
    "        chars = [tuple(t_[3*i:3*(i+1)]) for i in range(len(t_)//3)]\n",
    "        recovered = [compose(*char) for char in chars]\n",
    "        recovered = ''.join(recovered)\n",
    "        return recovered\n",
    "\n",
    "    return ' '.join(process(t) for t in s.split())"
   ]
  },
  {
   "cell_type": "markdown",
   "metadata": {},
   "source": [
    "#### Test"
   ]
  },
  {
   "cell_type": "code",
   "execution_count": 8,
   "metadata": {},
   "outputs": [
    {
     "name": "stdout",
     "output_type": "stream",
     "text": [
      "ㄴㅏ-ㅇㅢ- ㅇㅑ-ㄱㅡㄴㅇㅡㄹ ㅇㅏㄹㄲㅏ- ㅎㅡ-ㅎㅔ-ㅎㅔ- ㅎㅡ-ㅎㅔ-ㅎㅔ- ㅇㅏ-ㅇㅣ-ㄱㅗ-ㄴㅏㄴ ㅇㅏ-ㅇㅣ-ㄱㅗ-ㄴㅏㄴ\n",
      "나의 야근을 알까 흐헤헤 흐헤헤 아이고난 아이고난\n"
     ]
    }
   ],
   "source": [
    "s = '나의 야근을 알까? 흐헤헤 흐헤헤 아이고난1 아이고난2'\n",
    "print(encode(s))\n",
    "print(decode(encode(s)))"
   ]
  },
  {
   "cell_type": "code",
   "execution_count": 9,
   "metadata": {},
   "outputs": [
    {
     "data": {
      "text/html": [
       "<div>\n",
       "<style scoped>\n",
       "    .dataframe tbody tr th:only-of-type {\n",
       "        vertical-align: middle;\n",
       "    }\n",
       "\n",
       "    .dataframe tbody tr th {\n",
       "        vertical-align: top;\n",
       "    }\n",
       "\n",
       "    .dataframe thead th {\n",
       "        text-align: right;\n",
       "    }\n",
       "</style>\n",
       "<table border=\"1\" class=\"dataframe\">\n",
       "  <thead>\n",
       "    <tr style=\"text-align: right;\">\n",
       "      <th></th>\n",
       "      <th>text</th>\n",
       "      <th>encoded</th>\n",
       "    </tr>\n",
       "  </thead>\n",
       "  <tbody>\n",
       "    <tr>\n",
       "      <th>0</th>\n",
       "      <td>6살 남아 입니다 회사 복직 후 3살부터 주중에는 외할머니댁에서 2살 4살 터울의 ...</td>\n",
       "      <td>ㅅㅏㄹ ㄴㅏㅁㅇㅏ- ㅇㅣㅂㄴㅣ-ㄷㅏ- ㅎㅚ-ㅅㅏ- ㅂㅗㄱㅈㅣㄱ ㅎㅜ- ㅅㅏㄹㅂㅜ-ㅌ...</td>\n",
       "    </tr>\n",
       "    <tr>\n",
       "      <th>1</th>\n",
       "      <td>요즘 들어 아빠가 아이에게 다가가려고 하면 엄마한테 갈 거야 하면서 엄마를 유독 찾...</td>\n",
       "      <td>ㅇㅛ-ㅈㅡㅁ ㄷㅡㄹㅇㅓ- ㅇㅏ-ㅃㅏ-ㄱㅏ- ㅇㅏ-ㅇㅣ-ㅇㅔ-ㄱㅔ- ㄷㅏ-ㄱㅏ-ㄱㅏ-...</td>\n",
       "    </tr>\n",
       "    <tr>\n",
       "      <th>2</th>\n",
       "      <td>둘째가 태어나면 첫째가 힘들 거라는 건 예상하고 있었지만 툭하면 삐치고 울고 좀처럼...</td>\n",
       "      <td>ㄷㅜㄹㅉㅐ-ㄱㅏ- ㅌㅐ-ㅇㅓ-ㄴㅏ-ㅁㅕㄴ ㅊㅓㅅㅉㅐ-ㄱㅏ- ㅎㅣㅁㄷㅡㄹ ㄱㅓ-ㄹㅏ-...</td>\n",
       "    </tr>\n",
       "    <tr>\n",
       "      <th>3</th>\n",
       "      <td>20개월 남아가 있고 임신 8개월차로 두 아기의 엄마입니다 첫 아이는 잠자리 독립을...</td>\n",
       "      <td>ㄱㅐ-ㅇㅝㄹ ㄴㅏㅁㅇㅏ-ㄱㅏ- ㅇㅣㅆㄱㅗ- ㅇㅣㅁㅅㅣㄴ ㄱㅐ-ㅇㅝㄹㅊㅏ-ㄹㅗ- ㄷㅜ...</td>\n",
       "    </tr>\n",
       "    <tr>\n",
       "      <th>4</th>\n",
       "      <td>14개월 남자 아기인데 심하게 깨무는 버릇이 있어요 전에는 졸릴 때 주로 물곤 했는...</td>\n",
       "      <td>ㄱㅐ-ㅇㅝㄹ ㄴㅏㅁㅈㅏ- ㅇㅏ-ㄱㅣ-ㅇㅣㄴㄷㅔ- ㅅㅣㅁㅎㅏ-ㄱㅔ- ㄲㅐ-ㅁㅜ-ㄴㅡㄴ...</td>\n",
       "    </tr>\n",
       "    <tr>\n",
       "      <th>...</th>\n",
       "      <td>...</td>\n",
       "      <td>...</td>\n",
       "    </tr>\n",
       "    <tr>\n",
       "      <th>16261</th>\n",
       "      <td>홍삼은 자양강장 피로 해소 식욕 증진 등 다양한 효능으로 한국인이 선호하는 대표 건...</td>\n",
       "      <td>ㅎㅗㅇㅅㅏㅁㅇㅡㄴ ㅈㅏ-ㅇㅑㅇㄱㅏㅇㅈㅏㅇ ㅍㅣ-ㄹㅗ- ㅎㅐ-ㅅㅗ- ㅅㅣㄱㅇㅛㄱ ㅈㅡ...</td>\n",
       "    </tr>\n",
       "    <tr>\n",
       "      <th>16262</th>\n",
       "      <td>기저귀 발진은 기저귀 안쪽과 기저귀가 닿는 부위인 엉덩이 성기 사타구니등이 붉게 변...</td>\n",
       "      <td>ㄱㅣ-ㅈㅓ-ㄱㅟ- ㅂㅏㄹㅈㅣㄴㅇㅡㄴ ㄱㅣ-ㅈㅓ-ㄱㅟ- ㅇㅏㄴㅉㅗㄱㄱㅘ- ㄱㅣ-ㅈㅓ-...</td>\n",
       "    </tr>\n",
       "    <tr>\n",
       "      <th>16263</th>\n",
       "      <td>아구창 생후 6개월 미만의 아기에게 많이 생기는 병이다 아기가 태어날 때엄마의 질에...</td>\n",
       "      <td>ㅇㅏ-ㄱㅜ-ㅊㅏㅇ ㅅㅐㅇㅎㅜ- ㄱㅐ-ㅇㅝㄹ ㅁㅣ-ㅁㅏㄴㅇㅢ- ㅇㅏ-ㄱㅣ-ㅇㅔ-ㄱㅔ-...</td>\n",
       "    </tr>\n",
       "    <tr>\n",
       "      <th>16264</th>\n",
       "      <td>흔히 ADHD라 불리는 주의력결핍과잉행동장애는 아이 스스로 충동을 참지 못하고 집중...</td>\n",
       "      <td>ㅎㅡㄴㅎㅣ- ㄹㅏ- ㅂㅜㄹㄹㅣ-ㄴㅡㄴ ㅈㅜ-ㅇㅢ-ㄹㅕㄱㄱㅕㄹㅍㅣㅂㄱㅘ-ㅇㅣㅇㅎㅐㅇㄷ...</td>\n",
       "    </tr>\n",
       "    <tr>\n",
       "      <th>16265</th>\n",
       "      <td>아이의 키가 자라고 몸무게가 늘어나면서 아이 몸을 구성하고 있는 장기들도 커지고 무...</td>\n",
       "      <td>ㅇㅏ-ㅇㅣ-ㅇㅢ- ㅋㅣ-ㄱㅏ- ㅈㅏ-ㄹㅏ-ㄱㅗ- ㅁㅗㅁㅁㅜ-ㄱㅔ-ㄱㅏ- ㄴㅡㄹㅇㅓ-...</td>\n",
       "    </tr>\n",
       "  </tbody>\n",
       "</table>\n",
       "<p>16266 rows × 2 columns</p>\n",
       "</div>"
      ],
      "text/plain": [
       "                                                    text  \\\n",
       "0      6살 남아 입니다 회사 복직 후 3살부터 주중에는 외할머니댁에서 2살 4살 터울의 ...   \n",
       "1      요즘 들어 아빠가 아이에게 다가가려고 하면 엄마한테 갈 거야 하면서 엄마를 유독 찾...   \n",
       "2      둘째가 태어나면 첫째가 힘들 거라는 건 예상하고 있었지만 툭하면 삐치고 울고 좀처럼...   \n",
       "3      20개월 남아가 있고 임신 8개월차로 두 아기의 엄마입니다 첫 아이는 잠자리 독립을...   \n",
       "4      14개월 남자 아기인데 심하게 깨무는 버릇이 있어요 전에는 졸릴 때 주로 물곤 했는...   \n",
       "...                                                  ...   \n",
       "16261  홍삼은 자양강장 피로 해소 식욕 증진 등 다양한 효능으로 한국인이 선호하는 대표 건...   \n",
       "16262  기저귀 발진은 기저귀 안쪽과 기저귀가 닿는 부위인 엉덩이 성기 사타구니등이 붉게 변...   \n",
       "16263  아구창 생후 6개월 미만의 아기에게 많이 생기는 병이다 아기가 태어날 때엄마의 질에...   \n",
       "16264  흔히 ADHD라 불리는 주의력결핍과잉행동장애는 아이 스스로 충동을 참지 못하고 집중...   \n",
       "16265  아이의 키가 자라고 몸무게가 늘어나면서 아이 몸을 구성하고 있는 장기들도 커지고 무...   \n",
       "\n",
       "                                                 encoded  \n",
       "0      ㅅㅏㄹ ㄴㅏㅁㅇㅏ- ㅇㅣㅂㄴㅣ-ㄷㅏ- ㅎㅚ-ㅅㅏ- ㅂㅗㄱㅈㅣㄱ ㅎㅜ- ㅅㅏㄹㅂㅜ-ㅌ...  \n",
       "1      ㅇㅛ-ㅈㅡㅁ ㄷㅡㄹㅇㅓ- ㅇㅏ-ㅃㅏ-ㄱㅏ- ㅇㅏ-ㅇㅣ-ㅇㅔ-ㄱㅔ- ㄷㅏ-ㄱㅏ-ㄱㅏ-...  \n",
       "2      ㄷㅜㄹㅉㅐ-ㄱㅏ- ㅌㅐ-ㅇㅓ-ㄴㅏ-ㅁㅕㄴ ㅊㅓㅅㅉㅐ-ㄱㅏ- ㅎㅣㅁㄷㅡㄹ ㄱㅓ-ㄹㅏ-...  \n",
       "3      ㄱㅐ-ㅇㅝㄹ ㄴㅏㅁㅇㅏ-ㄱㅏ- ㅇㅣㅆㄱㅗ- ㅇㅣㅁㅅㅣㄴ ㄱㅐ-ㅇㅝㄹㅊㅏ-ㄹㅗ- ㄷㅜ...  \n",
       "4      ㄱㅐ-ㅇㅝㄹ ㄴㅏㅁㅈㅏ- ㅇㅏ-ㄱㅣ-ㅇㅣㄴㄷㅔ- ㅅㅣㅁㅎㅏ-ㄱㅔ- ㄲㅐ-ㅁㅜ-ㄴㅡㄴ...  \n",
       "...                                                  ...  \n",
       "16261  ㅎㅗㅇㅅㅏㅁㅇㅡㄴ ㅈㅏ-ㅇㅑㅇㄱㅏㅇㅈㅏㅇ ㅍㅣ-ㄹㅗ- ㅎㅐ-ㅅㅗ- ㅅㅣㄱㅇㅛㄱ ㅈㅡ...  \n",
       "16262  ㄱㅣ-ㅈㅓ-ㄱㅟ- ㅂㅏㄹㅈㅣㄴㅇㅡㄴ ㄱㅣ-ㅈㅓ-ㄱㅟ- ㅇㅏㄴㅉㅗㄱㄱㅘ- ㄱㅣ-ㅈㅓ-...  \n",
       "16263  ㅇㅏ-ㄱㅜ-ㅊㅏㅇ ㅅㅐㅇㅎㅜ- ㄱㅐ-ㅇㅝㄹ ㅁㅣ-ㅁㅏㄴㅇㅢ- ㅇㅏ-ㄱㅣ-ㅇㅔ-ㄱㅔ-...  \n",
       "16264  ㅎㅡㄴㅎㅣ- ㄹㅏ- ㅂㅜㄹㄹㅣ-ㄴㅡㄴ ㅈㅜ-ㅇㅢ-ㄹㅕㄱㄱㅕㄹㅍㅣㅂㄱㅘ-ㅇㅣㅇㅎㅐㅇㄷ...  \n",
       "16265  ㅇㅏ-ㅇㅣ-ㅇㅢ- ㅋㅣ-ㄱㅏ- ㅈㅏ-ㄹㅏ-ㄱㅗ- ㅁㅗㅁㅁㅜ-ㄱㅔ-ㄱㅏ- ㄴㅡㄹㅇㅓ-...  \n",
       "\n",
       "[16266 rows x 2 columns]"
      ]
     },
     "execution_count": 9,
     "metadata": {},
     "output_type": "execute_result"
    }
   ],
   "source": [
    "df['encoded'] = df['text'].apply(encode)\n",
    "df"
   ]
  },
  {
   "cell_type": "code",
   "execution_count": 10,
   "metadata": {},
   "outputs": [
    {
     "data": {
      "text/plain": [
       "(numpy.ndarray, 16266)"
      ]
     },
     "execution_count": 10,
     "metadata": {},
     "output_type": "execute_result"
    }
   ],
   "source": [
    "encoded_corpus = np.array(df.encoded)\n",
    "type(encoded_corpus), len(encoded_corpus)"
   ]
  },
  {
   "cell_type": "markdown",
   "metadata": {},
   "source": [
    "### Train"
   ]
  },
  {
   "cell_type": "code",
   "execution_count": 11,
   "metadata": {},
   "outputs": [
    {
     "name": "stdout",
     "output_type": "stream",
     "text": [
      "iter = 1, docs = 16265 done                    \n",
      "iter = 2, docs = 16265 done                    \n",
      "iter = 3, docs = 16265 done                    \n",
      "iter = 4, docs = 16265 done                    \n",
      "iter = 5, docs = 16265 done                    \n",
      "iter = 6, docs = 16265 done                    \n",
      "CPU times: user 3min 53s, sys: 898 ms, total: 3min 54s\n",
      "Wall time: 1min\n"
     ]
    }
   ],
   "source": [
    "%%time\n",
    "\n",
    "class FastTextCorpus:\n",
    "    def __init__(self, corpus):\n",
    "        self.corpus = corpus\n",
    "        self.n_iter = 0\n",
    "    def __iter__(self):\n",
    "        for i, doc in enumerate(self.corpus):\n",
    "            if i % 500 == 0 and i > 0:\n",
    "                print('\\riter = {}, sents = {} ...'.format(self.n_iter, i), end='')\n",
    "            yield doc.split()\n",
    "        self.n_iter += 1\n",
    "        print('\\riter = {}, docs = {} done{}'.format(self.n_iter, i, ' '*20))\n",
    "        \n",
    "corpus = FastTextCorpus(encoded_corpus)\n",
    "fasttext_model = FastText(\n",
    "    corpus,\n",
    "    size=100,\n",
    "    seed=191212,\n",
    "    workers=6,\n",
    "    window=3,\n",
    "    min_count=6,\n",
    "    min_n=3,\n",
    "    max_n=6,\n",
    ")"
   ]
  },
  {
   "cell_type": "code",
   "execution_count": 12,
   "metadata": {},
   "outputs": [],
   "source": [
    "fasttext_model.save('data/tokmom_fasttext.model')"
   ]
  },
  {
   "cell_type": "code",
   "execution_count": 13,
   "metadata": {},
   "outputs": [],
   "source": [
    "def most_similar(query, topn=10):\n",
    "    query_ = encode(query)\n",
    "    similars = fasttext_model.wv.most_similar(query_, topn=topn)\n",
    "    similars = [(decode(word), sim) for word, sim in similars]\n",
    "    return similars"
   ]
  },
  {
   "cell_type": "code",
   "execution_count": 14,
   "metadata": {},
   "outputs": [
    {
     "data": {
      "text/plain": [
       "[('남자아이', 0.9517726898193359),\n",
       " ('첫아이', 0.9146806001663208),\n",
       " ('셋째아이', 0.9039974808692932),\n",
       " ('경희아이', 0.8905543088912964),\n",
       " ('큰아이', 0.8739292621612549),\n",
       " ('딸아이', 0.8622821569442749),\n",
       " ('우리아이', 0.8570424914360046),\n",
       " ('신비아이', 0.8546150922775269),\n",
       " ('빠이빠이', 0.8535259366035461),\n",
       " ('여자아이가', 0.852910041809082)]"
      ]
     },
     "execution_count": 14,
     "metadata": {},
     "output_type": "execute_result"
    }
   ],
   "source": [
    "most_similar(\"여자아이\")"
   ]
  },
  {
   "cell_type": "code",
   "execution_count": 15,
   "metadata": {},
   "outputs": [
    {
     "data": {
      "text/plain": [
       "[('역아', 0.8313663005828857),\n",
       " ('영아', 0.8204909563064575),\n",
       " ('최영아', 0.796942949295044),\n",
       " ('홍승아', 0.7889565229415894),\n",
       " ('퀴노아', 0.7864316701889038),\n",
       " ('쌍생아', 0.7822641134262085),\n",
       " ('쏘아', 0.7802329063415527),\n",
       " ('형아', 0.7775528430938721),\n",
       " ('뮤아', 0.7742391228675842),\n",
       " ('아쿠아', 0.7639589309692383)]"
      ]
     },
     "execution_count": 15,
     "metadata": {},
     "output_type": "execute_result"
    }
   ],
   "source": [
    "most_similar(\"여아\")"
   ]
  },
  {
   "cell_type": "code",
   "execution_count": 16,
   "metadata": {},
   "outputs": [
    {
     "data": {
      "text/plain": [
       "[('여자아이', 0.9517726898193359),\n",
       " ('첫아이', 0.9229631423950195),\n",
       " ('셋째아이', 0.9209100604057312),\n",
       " ('경희아이', 0.8901501893997192),\n",
       " ('큰아이', 0.8852757215499878),\n",
       " ('나이', 0.8649623394012451),\n",
       " ('딸아이', 0.8637534379959106),\n",
       " ('남자아이가', 0.8561583757400513),\n",
       " ('아이', 0.8510080575942993),\n",
       " ('빠이빠이', 0.8500628471374512)]"
      ]
     },
     "execution_count": 16,
     "metadata": {},
     "output_type": "execute_result"
    }
   ],
   "source": [
    "most_similar(\"남자아이\")"
   ]
  },
  {
   "cell_type": "code",
   "execution_count": 17,
   "metadata": {},
   "outputs": [
    {
     "data": {
      "text/plain": [
       "[('삼아', 0.82341468334198),\n",
       " ('살아남아', 0.8221031427383423),\n",
       " ('남겨져', 0.782551646232605),\n",
       " ('남겨', 0.7770277261734009),\n",
       " ('동남아', 0.7656135559082031),\n",
       " ('쌓아', 0.7642712593078613),\n",
       " ('녹아', 0.7355770468711853),\n",
       " ('닿아', 0.7342108488082886),\n",
       " ('닳아', 0.7322394251823425),\n",
       " ('닮아', 0.7238664627075195)]"
      ]
     },
     "execution_count": 17,
     "metadata": {},
     "output_type": "execute_result"
    }
   ],
   "source": [
    "most_similar(\"남아\")"
   ]
  },
  {
   "cell_type": "code",
   "execution_count": 18,
   "metadata": {},
   "outputs": [
    {
     "data": {
      "text/plain": [
       "[('소피아', 0.8282185792922974),\n",
       " ('치아나', 0.8060892224311829),\n",
       " ('무뇌아', 0.804297924041748),\n",
       " ('퀴노아', 0.7806976437568665),\n",
       " ('쏘아', 0.7801614999771118),\n",
       " ('미아', 0.7738290429115295),\n",
       " ('치아관리', 0.7560563087463379),\n",
       " ('소아', 0.7535560727119446),\n",
       " ('치아건강', 0.7405077219009399),\n",
       " ('콜롬비아', 0.7402966022491455)]"
      ]
     },
     "execution_count": 18,
     "metadata": {},
     "output_type": "execute_result"
    }
   ],
   "source": [
    "most_similar(\"치아\")"
   ]
  },
  {
   "cell_type": "code",
   "execution_count": 19,
   "metadata": {},
   "outputs": [
    {
     "data": {
      "text/plain": [
       "[('이탈', 0.9203110933303833),\n",
       " ('이어갈', 0.872407078742981),\n",
       " ('이혼할', 0.8710523843765259),\n",
       " ('이길', 0.8518725037574768),\n",
       " ('이룰', 0.8287208080291748),\n",
       " ('이겨낼', 0.809754490852356),\n",
       " ('이질', 0.8039109706878662),\n",
       " ('이럴', 0.801956295967102),\n",
       " ('이행할', 0.7988680601119995),\n",
       " ('이날', 0.7970359325408936)]"
      ]
     },
     "execution_count": 19,
     "metadata": {},
     "output_type": "execute_result"
    }
   ],
   "source": [
    "most_similar(\"이빨\")"
   ]
  },
  {
   "cell_type": "code",
   "execution_count": 20,
   "metadata": {},
   "outputs": [
    {
     "data": {
      "text/plain": [
       "[('책놀이', 0.9665970802307129),\n",
       " ('윷놀이', 0.9605213403701782),\n",
       " ('공놀이', 0.9587685465812683),\n",
       " ('까꿍놀이', 0.9532339572906494),\n",
       " ('소꿉놀이', 0.953145444393158),\n",
       " ('탈놀이', 0.9510608911514282),\n",
       " ('영어놀이', 0.9398317933082581),\n",
       " ('점토놀이', 0.939724862575531),\n",
       " ('투호놀이', 0.9381253719329834),\n",
       " ('모래놀이', 0.9373698830604553)]"
      ]
     },
     "execution_count": 20,
     "metadata": {},
     "output_type": "execute_result"
    }
   ],
   "source": [
    "most_similar(\"놀이\")"
   ]
  },
  {
   "cell_type": "code",
   "execution_count": 21,
   "metadata": {},
   "outputs": [
    {
     "data": {
      "text/plain": [
       "[('열감기', 0.9363807439804077),\n",
       " ('코감기', 0.9250694513320923),\n",
       " ('염기', 0.896769106388092),\n",
       " ('여름감기', 0.8591163158416748),\n",
       " ('환절기', 0.8535810708999634),\n",
       " ('심기', 0.8437669277191162),\n",
       " ('비뇨기', 0.838300347328186),\n",
       " ('남기', 0.8382030129432678),\n",
       " ('감기약', 0.8375320434570312),\n",
       " ('감염되기', 0.8373985290527344)]"
      ]
     },
     "execution_count": 21,
     "metadata": {},
     "output_type": "execute_result"
    }
   ],
   "source": [
    "most_similar(\"감기\")"
   ]
  },
  {
   "cell_type": "markdown",
   "metadata": {},
   "source": [
    "### 결과 확인\n",
    "하이퍼 파라미터 조정을 다양하게 시도해보며 결과를 확인해봤지만, 역시 사용하기 어렵겠다는 결론을 내렸다. 말뭉치가 부족한 것이 원인이 아닐까?"
   ]
  },
  {
   "cell_type": "markdown",
   "metadata": {},
   "source": [
    "---"
   ]
  },
  {
   "cell_type": "markdown",
   "metadata": {},
   "source": [
    "## 못내 아쉬워서 재도전\n",
    "- 이번엔 자음, 모음 단위가 아닌 글자 단위로 해보자\n",
    "- 간단하게 Mecab으로 tokenizing한 말뭉치를 학습으로 사용"
   ]
  },
  {
   "cell_type": "code",
   "execution_count": 22,
   "metadata": {},
   "outputs": [],
   "source": [
    "from konlpy.tag import Mecab"
   ]
  },
  {
   "cell_type": "code",
   "execution_count": 23,
   "metadata": {},
   "outputs": [],
   "source": [
    "def tokenize(text):\n",
    "    tokenizer = Mecab()\n",
    "    text = tokenizer.morphs(text)\n",
    "    text = ' '.join(text)\n",
    "    return text"
   ]
  },
  {
   "cell_type": "code",
   "execution_count": 24,
   "metadata": {},
   "outputs": [
    {
     "name": "stdout",
     "output_type": "stream",
     "text": [
      "CPU times: user 38.8 s, sys: 19 s, total: 57.8 s\n",
      "Wall time: 56.6 s\n"
     ]
    },
    {
     "data": {
      "text/html": [
       "<div>\n",
       "<style scoped>\n",
       "    .dataframe tbody tr th:only-of-type {\n",
       "        vertical-align: middle;\n",
       "    }\n",
       "\n",
       "    .dataframe tbody tr th {\n",
       "        vertical-align: top;\n",
       "    }\n",
       "\n",
       "    .dataframe thead th {\n",
       "        text-align: right;\n",
       "    }\n",
       "</style>\n",
       "<table border=\"1\" class=\"dataframe\">\n",
       "  <thead>\n",
       "    <tr style=\"text-align: right;\">\n",
       "      <th></th>\n",
       "      <th>text</th>\n",
       "      <th>encoded</th>\n",
       "      <th>tokenized</th>\n",
       "    </tr>\n",
       "  </thead>\n",
       "  <tbody>\n",
       "    <tr>\n",
       "      <th>16261</th>\n",
       "      <td>홍삼은 자양강장 피로 해소 식욕 증진 등 다양한 효능으로 한국인이 선호하는 대표 건...</td>\n",
       "      <td>ㅎㅗㅇㅅㅏㅁㅇㅡㄴ ㅈㅏ-ㅇㅑㅇㄱㅏㅇㅈㅏㅇ ㅍㅣ-ㄹㅗ- ㅎㅐ-ㅅㅗ- ㅅㅣㄱㅇㅛㄱ ㅈㅡ...</td>\n",
       "      <td>홍삼 은 자양 강장 피로 해소 식욕 증진 등 다양 한 효능 으로 한국인 이 선호 하...</td>\n",
       "    </tr>\n",
       "    <tr>\n",
       "      <th>16262</th>\n",
       "      <td>기저귀 발진은 기저귀 안쪽과 기저귀가 닿는 부위인 엉덩이 성기 사타구니등이 붉게 변...</td>\n",
       "      <td>ㄱㅣ-ㅈㅓ-ㄱㅟ- ㅂㅏㄹㅈㅣㄴㅇㅡㄴ ㄱㅣ-ㅈㅓ-ㄱㅟ- ㅇㅏㄴㅉㅗㄱㄱㅘ- ㄱㅣ-ㅈㅓ-...</td>\n",
       "      <td>기저귀 발진 은 기저귀 안쪽 과 기저귀 가 닿 는 부위 인 엉덩이 성기 사타구니 등...</td>\n",
       "    </tr>\n",
       "    <tr>\n",
       "      <th>16263</th>\n",
       "      <td>아구창 생후 6개월 미만의 아기에게 많이 생기는 병이다 아기가 태어날 때엄마의 질에...</td>\n",
       "      <td>ㅇㅏ-ㄱㅜ-ㅊㅏㅇ ㅅㅐㅇㅎㅜ- ㄱㅐ-ㅇㅝㄹ ㅁㅣ-ㅁㅏㄴㅇㅢ- ㅇㅏ-ㄱㅣ-ㅇㅔ-ㄱㅔ-...</td>\n",
       "      <td>아구창 생후 6 개월 미만 의 아기 에게 많이 생기 는 병 이 다 아기 가 태어날 ...</td>\n",
       "    </tr>\n",
       "    <tr>\n",
       "      <th>16264</th>\n",
       "      <td>흔히 ADHD라 불리는 주의력결핍과잉행동장애는 아이 스스로 충동을 참지 못하고 집중...</td>\n",
       "      <td>ㅎㅡㄴㅎㅣ- ㄹㅏ- ㅂㅜㄹㄹㅣ-ㄴㅡㄴ ㅈㅜ-ㅇㅢ-ㄹㅕㄱㄱㅕㄹㅍㅣㅂㄱㅘ-ㅇㅣㅇㅎㅐㅇㄷ...</td>\n",
       "      <td>흔히 ADHD 라 불리 는 주의력 결핍 과잉 행동 장애 는 아이 스스로 충동 을 참...</td>\n",
       "    </tr>\n",
       "    <tr>\n",
       "      <th>16265</th>\n",
       "      <td>아이의 키가 자라고 몸무게가 늘어나면서 아이 몸을 구성하고 있는 장기들도 커지고 무...</td>\n",
       "      <td>ㅇㅏ-ㅇㅣ-ㅇㅢ- ㅋㅣ-ㄱㅏ- ㅈㅏ-ㄹㅏ-ㄱㅗ- ㅁㅗㅁㅁㅜ-ㄱㅔ-ㄱㅏ- ㄴㅡㄹㅇㅓ-...</td>\n",
       "      <td>아이 의 키 가 자라 고 몸무게 가 늘어나 면서 아이 몸 을 구성 하 고 있 는 장...</td>\n",
       "    </tr>\n",
       "  </tbody>\n",
       "</table>\n",
       "</div>"
      ],
      "text/plain": [
       "                                                    text  \\\n",
       "16261  홍삼은 자양강장 피로 해소 식욕 증진 등 다양한 효능으로 한국인이 선호하는 대표 건...   \n",
       "16262  기저귀 발진은 기저귀 안쪽과 기저귀가 닿는 부위인 엉덩이 성기 사타구니등이 붉게 변...   \n",
       "16263  아구창 생후 6개월 미만의 아기에게 많이 생기는 병이다 아기가 태어날 때엄마의 질에...   \n",
       "16264  흔히 ADHD라 불리는 주의력결핍과잉행동장애는 아이 스스로 충동을 참지 못하고 집중...   \n",
       "16265  아이의 키가 자라고 몸무게가 늘어나면서 아이 몸을 구성하고 있는 장기들도 커지고 무...   \n",
       "\n",
       "                                                 encoded  \\\n",
       "16261  ㅎㅗㅇㅅㅏㅁㅇㅡㄴ ㅈㅏ-ㅇㅑㅇㄱㅏㅇㅈㅏㅇ ㅍㅣ-ㄹㅗ- ㅎㅐ-ㅅㅗ- ㅅㅣㄱㅇㅛㄱ ㅈㅡ...   \n",
       "16262  ㄱㅣ-ㅈㅓ-ㄱㅟ- ㅂㅏㄹㅈㅣㄴㅇㅡㄴ ㄱㅣ-ㅈㅓ-ㄱㅟ- ㅇㅏㄴㅉㅗㄱㄱㅘ- ㄱㅣ-ㅈㅓ-...   \n",
       "16263  ㅇㅏ-ㄱㅜ-ㅊㅏㅇ ㅅㅐㅇㅎㅜ- ㄱㅐ-ㅇㅝㄹ ㅁㅣ-ㅁㅏㄴㅇㅢ- ㅇㅏ-ㄱㅣ-ㅇㅔ-ㄱㅔ-...   \n",
       "16264  ㅎㅡㄴㅎㅣ- ㄹㅏ- ㅂㅜㄹㄹㅣ-ㄴㅡㄴ ㅈㅜ-ㅇㅢ-ㄹㅕㄱㄱㅕㄹㅍㅣㅂㄱㅘ-ㅇㅣㅇㅎㅐㅇㄷ...   \n",
       "16265  ㅇㅏ-ㅇㅣ-ㅇㅢ- ㅋㅣ-ㄱㅏ- ㅈㅏ-ㄹㅏ-ㄱㅗ- ㅁㅗㅁㅁㅜ-ㄱㅔ-ㄱㅏ- ㄴㅡㄹㅇㅓ-...   \n",
       "\n",
       "                                               tokenized  \n",
       "16261  홍삼 은 자양 강장 피로 해소 식욕 증진 등 다양 한 효능 으로 한국인 이 선호 하...  \n",
       "16262  기저귀 발진 은 기저귀 안쪽 과 기저귀 가 닿 는 부위 인 엉덩이 성기 사타구니 등...  \n",
       "16263  아구창 생후 6 개월 미만 의 아기 에게 많이 생기 는 병 이 다 아기 가 태어날 ...  \n",
       "16264  흔히 ADHD 라 불리 는 주의력 결핍 과잉 행동 장애 는 아이 스스로 충동 을 참...  \n",
       "16265  아이 의 키 가 자라 고 몸무게 가 늘어나 면서 아이 몸 을 구성 하 고 있 는 장...  "
      ]
     },
     "execution_count": 24,
     "metadata": {},
     "output_type": "execute_result"
    }
   ],
   "source": [
    "%%time\n",
    "df['tokenized'] = df['text'].apply(tokenize)\n",
    "df.tail()"
   ]
  },
  {
   "cell_type": "code",
   "execution_count": 25,
   "metadata": {},
   "outputs": [
    {
     "data": {
      "text/plain": [
       "16266"
      ]
     },
     "execution_count": 25,
     "metadata": {},
     "output_type": "execute_result"
    }
   ],
   "source": [
    "encoded_corpus = np.array(df.tokenized)\n",
    "len(encoded_corpus)"
   ]
  },
  {
   "cell_type": "code",
   "execution_count": 26,
   "metadata": {},
   "outputs": [
    {
     "name": "stdout",
     "output_type": "stream",
     "text": [
      "iter = 1, docs = 16265 done                    \n",
      "iter = 2, docs = 16265 done                    \n",
      "iter = 3, docs = 16265 done                    \n",
      "iter = 4, docs = 16265 done                    \n",
      "iter = 5, docs = 16265 done                    \n",
      "iter = 6, docs = 16265 done                    \n",
      "CPU times: user 1min 52s, sys: 943 ms, total: 1min 53s\n",
      "Wall time: 32.9 s\n"
     ]
    }
   ],
   "source": [
    "%%time\n",
    "class FastTextCorpus:\n",
    "    def __init__(self, corpus):\n",
    "        self.corpus = corpus\n",
    "        self.n_iter = 0\n",
    "    def __iter__(self):\n",
    "        for i, doc in enumerate(self.corpus):\n",
    "            if i % 500 == 0 and i > 0:\n",
    "                print('\\riter = {}, sents = {} ...'.format(self.n_iter, i), end='')\n",
    "            yield doc.split()\n",
    "        self.n_iter += 1\n",
    "        print('\\riter = {}, docs = {} done{}'.format(self.n_iter, i, ' '*20))\n",
    "        \n",
    "corpus = FastTextCorpus(encoded_corpus)\n",
    "fasttext_token_model = FastText(\n",
    "    corpus,\n",
    "    size=100,\n",
    "    seed=191212,\n",
    "    workers=6,\n",
    "    window=5,\n",
    "    min_count=8,\n",
    "    min_n=3,\n",
    "    max_n=6,\n",
    ")"
   ]
  },
  {
   "cell_type": "code",
   "execution_count": 27,
   "metadata": {},
   "outputs": [],
   "source": [
    "fasttext_token_model.save('data/tokmom_token_fasttext.model')"
   ]
  },
  {
   "cell_type": "code",
   "execution_count": 28,
   "metadata": {},
   "outputs": [
    {
     "data": {
      "text/plain": [
       "[('남아', 0.894153356552124),\n",
       " ('남아나', 0.7436610460281372),\n",
       " ('남자', 0.6159439086914062),\n",
       " ('경산부', 0.6079232096672058),\n",
       " ('여자', 0.5924214124679565),\n",
       " ('초산부', 0.5894688367843628),\n",
       " ('조산아', 0.5759049654006958),\n",
       " ('IQ', 0.546113133430481),\n",
       " ('47', 0.5432536602020264),\n",
       " ('성인기', 0.5431994199752808)]"
      ]
     },
     "execution_count": 28,
     "metadata": {},
     "output_type": "execute_result"
    }
   ],
   "source": [
    "fasttext_token_model.wv.most_similar(\"여아\")"
   ]
  },
  {
   "cell_type": "code",
   "execution_count": 29,
   "metadata": {},
   "outputs": [
    {
     "data": {
      "text/plain": [
       "[('친구', 0.45197927951812744),\n",
       " ('엄마', 0.4485394060611725),\n",
       " ('어린아이', 0.44812124967575073),\n",
       " ('부모', 0.4480510354042053),\n",
       " ('아이', 0.4465680718421936),\n",
       " ('남자', 0.44166475534439087),\n",
       " ('어른', 0.4371682107448578),\n",
       " ('첫아이', 0.4371494948863983),\n",
       " ('여자', 0.4234277009963989),\n",
       " ('외동아이', 0.4231249690055847)]"
      ]
     },
     "execution_count": 29,
     "metadata": {},
     "output_type": "execute_result"
    }
   ],
   "source": [
    "fasttext_token_model.wv.most_similar(\"여자아이\")"
   ]
  },
  {
   "cell_type": "code",
   "execution_count": 30,
   "metadata": {},
   "outputs": [
    {
     "data": {
      "text/plain": [
       "[('여아', 0.894153356552124),\n",
       " ('남아나', 0.7657767534255981),\n",
       " ('경산부', 0.6163709163665771),\n",
       " ('IQ', 0.5989770889282227),\n",
       " ('여자', 0.5985745191574097),\n",
       " ('초산부', 0.5983076095581055),\n",
       " ('남자', 0.5932149887084961),\n",
       " ('조산아', 0.5890449285507202),\n",
       " ('성인기', 0.5803169012069702),\n",
       " ('몸무게', 0.5701994895935059)]"
      ]
     },
     "execution_count": 30,
     "metadata": {},
     "output_type": "execute_result"
    }
   ],
   "source": [
    "fasttext_token_model.wv.most_similar(\"남아\")"
   ]
  },
  {
   "cell_type": "code",
   "execution_count": 31,
   "metadata": {},
   "outputs": [
    {
     "data": {
      "text/plain": [
       "[('소유', 0.5462145805358887),\n",
       " ('사나이', 0.5190684795379639),\n",
       " ('나이', 0.5190239548683167),\n",
       " ('남자', 0.4952504634857178),\n",
       " ('인종', 0.4844752550125122),\n",
       " ('거짓말', 0.48178350925445557),\n",
       " ('소유욕', 0.4796436131000519),\n",
       " ('뼈나이', 0.4727550745010376),\n",
       " ('성인식', 0.4635210633277893),\n",
       " ('여자', 0.46203160285949707)]"
      ]
     },
     "execution_count": 31,
     "metadata": {},
     "output_type": "execute_result"
    }
   ],
   "source": [
    "fasttext_token_model.wv.most_similar(\"남자아이\")"
   ]
  },
  {
   "cell_type": "code",
   "execution_count": 32,
   "metadata": {},
   "outputs": [
    {
     "data": {
      "text/plain": [
       "[('잇몸', 0.8022342920303345),\n",
       " ('영구치', 0.7788367867469788),\n",
       " ('치아우식증', 0.7164109945297241),\n",
       " ('유치', 0.6943153738975525),\n",
       " ('뼈', 0.6900635957717896),\n",
       " ('모발', 0.68394935131073),\n",
       " ('충치', 0.6478229761123657),\n",
       " ('어금니', 0.6332655549049377),\n",
       " ('혀', 0.6282088756561279),\n",
       " ('치석', 0.6233335733413696)]"
      ]
     },
     "execution_count": 32,
     "metadata": {},
     "output_type": "execute_result"
    }
   ],
   "source": [
    "fasttext_token_model.wv.most_similar(\"치아\")"
   ]
  },
  {
   "cell_type": "code",
   "execution_count": 33,
   "metadata": {},
   "outputs": [
    {
     "data": {
      "text/plain": [
       "[('혓바늘', 0.7611755132675171),\n",
       " ('얼음물', 0.7311898469924927),\n",
       " ('절구', 0.722432017326355),\n",
       " ('속껍질', 0.7130637764930725),\n",
       " ('꽁꽁', 0.7108073234558105),\n",
       " ('뒷목', 0.7086732387542725),\n",
       " ('얼음찜질', 0.707527220249176),\n",
       " ('행주', 0.6995844841003418),\n",
       " ('돗바늘', 0.6970102787017822),\n",
       " ('겉껍질', 0.6968401670455933)]"
      ]
     },
     "execution_count": 33,
     "metadata": {},
     "output_type": "execute_result"
    }
   ],
   "source": [
    "fasttext_token_model.wv.most_similar(\"이빨\")"
   ]
  },
  {
   "cell_type": "code",
   "execution_count": 34,
   "metadata": {},
   "outputs": [
    {
     "data": {
      "text/plain": [
       "[('길놀이', 0.8846937417984009),\n",
       " ('공놀이', 0.8697115182876587),\n",
       " ('투호놀이', 0.8281128406524658),\n",
       " ('탈놀이', 0.8201621770858765),\n",
       " ('기차놀이', 0.8183891177177429),\n",
       " ('불꽃놀이', 0.7919838428497314),\n",
       " ('놀이마당', 0.766674280166626),\n",
       " ('풍물놀이', 0.7616157531738281),\n",
       " ('윷놀이', 0.760199785232544),\n",
       " ('놀이기구', 0.7575340867042542)]"
      ]
     },
     "execution_count": 34,
     "metadata": {},
     "output_type": "execute_result"
    }
   ],
   "source": [
    "fasttext_token_model.wv.most_similar(\"놀이\")"
   ]
  },
  {
   "cell_type": "code",
   "execution_count": 35,
   "metadata": {},
   "outputs": [
    {
     "data": {
      "text/plain": [
       "[('생으로', 0.3613571226596832),\n",
       " ('으로', 0.32532399892807007),\n",
       " ('여지', 0.32144108414649963),\n",
       " ('참으로', 0.3156202435493469),\n",
       " ('실마리', 0.31076550483703613),\n",
       " ('예상', 0.30294835567474365),\n",
       " ('0', 0.3000352382659912),\n",
       " ('그대', 0.29037222266197205),\n",
       " ('패스트', 0.2814841568470001),\n",
       " ('선', 0.2785693407058716)]"
      ]
     },
     "execution_count": 35,
     "metadata": {},
     "output_type": "execute_result"
    }
   ],
   "source": [
    "fasttext_token_model.wv.most_similar(\"이빠ㄹ\")"
   ]
  },
  {
   "cell_type": "code",
   "execution_count": 36,
   "metadata": {},
   "outputs": [
    {
     "data": {
      "text/plain": [
       "[('차질', 0.33836987614631653),\n",
       " ('돼', 0.3072327971458435),\n",
       " ('도표', 0.29358774423599243),\n",
       " ('가능', 0.2904548943042755),\n",
       " ('무독', 0.28529757261276245),\n",
       " ('급속히', 0.28417372703552246),\n",
       " ('예외', 0.28130602836608887),\n",
       " ('급속도', 0.27952927350997925),\n",
       " ('지연', 0.27931344509124756),\n",
       " ('기구', 0.27215099334716797)]"
      ]
     },
     "execution_count": 36,
     "metadata": {},
     "output_type": "execute_result"
    }
   ],
   "source": [
    "fasttext_token_model.wv.most_similar(\"놀ㅇ\")"
   ]
  },
  {
   "cell_type": "code",
   "execution_count": 37,
   "metadata": {},
   "outputs": [
    {
     "data": {
      "text/plain": [
       "[('아기집', 0.8885033130645752),\n",
       " ('갓난아기', 0.8742845058441162),\n",
       " ('아이', 0.8212771415710449),\n",
       " ('아기방', 0.8006928563117981),\n",
       " ('신생아기', 0.7975958585739136),\n",
       " ('태아기', 0.7861014604568481),\n",
       " ('갓난아이', 0.7549307346343994),\n",
       " ('신생아', 0.7478479743003845),\n",
       " ('첫아이', 0.7441725730895996),\n",
       " ('아기과자', 0.7059472799301147)]"
      ]
     },
     "execution_count": 37,
     "metadata": {},
     "output_type": "execute_result"
    }
   ],
   "source": [
    "fasttext_token_model.wv.most_similar(\"아기\")"
   ]
  },
  {
   "cell_type": "code",
   "execution_count": 38,
   "metadata": {},
   "outputs": [
    {
     "data": {
      "text/plain": [
       "[('엉엉', 0.7407138347625732),\n",
       " ('멋쟁이', 0.7151405811309814),\n",
       " ('야지', 0.706068754196167),\n",
       " ('부엉이', 0.6928058862686157),\n",
       " ('멍멍이', 0.6890251636505127),\n",
       " ('귀여워서', 0.6885696649551392),\n",
       " ('동갑내기', 0.6883336305618286),\n",
       " ('이따', 0.6877667903900146),\n",
       " ('했잖아', 0.6867496967315674),\n",
       " ('래요', 0.6863689422607422)]"
      ]
     },
     "execution_count": 38,
     "metadata": {},
     "output_type": "execute_result"
    }
   ],
   "source": [
    "fasttext_token_model.wv.most_similar(\"애기\")"
   ]
  },
  {
   "cell_type": "code",
   "execution_count": 39,
   "metadata": {},
   "outputs": [
    {
     "data": {
      "text/plain": [
       "[('옥시토신', 0.37168291211128235),\n",
       " ('고심', 0.3561030626296997),\n",
       " ('환원', 0.3554624021053314),\n",
       " ('세계인', 0.3554267883300781),\n",
       " ('훌륭', 0.35406509041786194),\n",
       " ('방목', 0.3536190390586853),\n",
       " ('세계관', 0.3523695468902588),\n",
       " ('활발히', 0.35197538137435913),\n",
       " ('기이', 0.3439064621925354),\n",
       " ('방대', 0.34291988611221313)]"
      ]
     },
     "execution_count": 39,
     "metadata": {},
     "output_type": "execute_result"
    }
   ],
   "source": [
    "fasttext_token_model.wv.most_similar(\"아ㄱ\")"
   ]
  },
  {
   "cell_type": "code",
   "execution_count": 40,
   "metadata": {},
   "outputs": [
    {
     "data": {
      "text/plain": [
       "[('찡그린', 0.7638769745826721),\n",
       " ('깜박임', 0.7611411809921265),\n",
       " ('삐뚤빼뚤', 0.7576819658279419),\n",
       " ('어설픈', 0.7471916675567627),\n",
       " ('끄덕임', 0.7406378984451294),\n",
       " ('두근두근', 0.7346431016921997),\n",
       " ('내민', 0.7345788478851318),\n",
       " ('커다랗', 0.7272733449935913),\n",
       " ('꺄르르', 0.7239421606063843),\n",
       " ('풀빛', 0.7178086042404175)]"
      ]
     },
     "execution_count": 40,
     "metadata": {},
     "output_type": "execute_result"
    }
   ],
   "source": [
    "fasttext_token_model.wv.most_similar(\"찡\")"
   ]
  },
  {
   "cell_type": "code",
   "execution_count": 41,
   "metadata": {},
   "outputs": [
    {
     "data": {
      "text/plain": [
       "[('미열', 0.6306690573692322),\n",
       " ('배탈', 0.5792239308357239),\n",
       " ('고열', 0.5637903809547424),\n",
       " ('땀', 0.5555974841117859),\n",
       " ('진물', 0.5442134141921997),\n",
       " ('콧물', 0.540371835231781),\n",
       " ('식은땀', 0.5300861597061157),\n",
       " ('뇌간', 0.525671660900116),\n",
       " ('코피', 0.5254379510879517),\n",
       " ('큰일', 0.5185173749923706)]"
      ]
     },
     "execution_count": 41,
     "metadata": {},
     "output_type": "execute_result"
    }
   ],
   "source": [
    "fasttext_token_model.wv.most_similar(\"열\")"
   ]
  },
  {
   "cell_type": "markdown",
   "metadata": {},
   "source": [
    "### Review\n"
   ]
  },
  {
   "cell_type": "markdown",
   "metadata": {},
   "source": [
    "- 이전 모델이 비해 전체적인 성능이 더 좋아진 것은 체감된다!\n",
    "- 하지만 오타나 말뭉치에 존재하지 않는 단어를 입력받을 경우, 최소 error는 발생하진 않지만 성능에 대한 이슈는 여전히 존재한다 \n",
    "  - 보통 오타는 자음 모음을 누락하거나 잘못 입력하는 경우에 발생하기 때문. 글자 단위로 임베딩 했을 때는 이런 부분을 잡기 어렵다.\n",
    "  - 어떻게든 결과는 나오지만 fasttext만의 특색이자 장점을 못살리는 느낌.. \n",
    "- 그리고 fasttext 특성 상 \"남아\"의 유사어로 \"동남아\"가 나오는 식의 문제는 어떻게 할 수가 없다; 이것은 자음 모음 단위로 임베딩 할 경우에도 있었던 문제임\n",
    "- Embedding 결과 성능을 정량적으로 비교해서 word2vec과 fasttext 둘 중 무엇이 좋을지 확실히 비교할 수 있는 방안을 찾아서 어떤 것을 활용할지 결정해야 할 듯"
   ]
  },
  {
   "cell_type": "code",
   "execution_count": null,
   "metadata": {},
   "outputs": [],
   "source": []
  }
 ],
 "metadata": {
  "kernelspec": {
   "display_name": "Python 3",
   "language": "python",
   "name": "python3"
  },
  "language_info": {
   "codemirror_mode": {
    "name": "ipython",
    "version": 3
   },
   "file_extension": ".py",
   "mimetype": "text/x-python",
   "name": "python",
   "nbconvert_exporter": "python",
   "pygments_lexer": "ipython3",
   "version": "3.7.5"
  }
 },
 "nbformat": 4,
 "nbformat_minor": 2
}
