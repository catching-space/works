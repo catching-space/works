{
 "cells": [
  {
   "cell_type": "markdown",
   "metadata": {},
   "source": [
    "## Fasttext\n",
    "- word2vec은 사전에 존재하지 않는 단어를 잡아내지 못하는 단점이 있다.\n",
    "- Fasttext를 통해 이러한 OOV 문제를 해결하며 준수한 성능까지 유도할 수 있을지 알아보자."
   ]
  },
  {
   "cell_type": "markdown",
   "metadata": {},
   "source": [
    "## Import"
   ]
  },
  {
   "cell_type": "code",
   "execution_count": 1,
   "metadata": {},
   "outputs": [],
   "source": [
    "import pandas as pd\n",
    "import numpy as np\n",
    "\n",
    "from konlpy.tag import Mecab\n",
    "from gensim.models import FastText"
   ]
  },
  {
   "cell_type": "markdown",
   "metadata": {},
   "source": [
    "### Datas"
   ]
  },
  {
   "cell_type": "code",
   "execution_count": 2,
   "metadata": {},
   "outputs": [],
   "source": [
    "df1 = pd.read_csv(\"data/maeili.csv\", encoding='utf-8')\n",
    "df2 = pd.read_csv(\"data/baby.csv\", encoding='utf-8')\n",
    "df3 = pd.read_csv(\"data/toys.csv\", encoding='utf-8')\n",
    "df4 = pd.read_csv(\"data/seoulchildcare.csv\", encoding='utf-8')\n",
    "df5 = pd.read_csv(\"data/babynews.csv\", encoding='utf-8')\n",
    "df6 = pd.read_csv(\"data/ildongfoodis.csv\", encoding='utf-8')\n",
    "df7 = pd.read_csv(\"data/momsmagazine.csv\", encoding='utf-8')"
   ]
  },
  {
   "cell_type": "markdown",
   "metadata": {},
   "source": [
    "#### maeili(매일아이)"
   ]
  },
  {
   "cell_type": "code",
   "execution_count": 3,
   "metadata": {},
   "outputs": [
    {
     "data": {
      "text/html": [
       "<div>\n",
       "<style scoped>\n",
       "    .dataframe tbody tr th:only-of-type {\n",
       "        vertical-align: middle;\n",
       "    }\n",
       "\n",
       "    .dataframe tbody tr th {\n",
       "        vertical-align: top;\n",
       "    }\n",
       "\n",
       "    .dataframe thead th {\n",
       "        text-align: right;\n",
       "    }\n",
       "</style>\n",
       "<table border=\"1\" class=\"dataframe\">\n",
       "  <thead>\n",
       "    <tr style=\"text-align: right;\">\n",
       "      <th></th>\n",
       "      <th>categories</th>\n",
       "      <th>title</th>\n",
       "      <th>text</th>\n",
       "      <th>postlink</th>\n",
       "    </tr>\n",
       "  </thead>\n",
       "  <tbody>\n",
       "    <tr>\n",
       "      <th>1533</th>\n",
       "      <td>임신</td>\n",
       "      <td>'웃음요법' 태교</td>\n",
       "      <td>임신 중에는 스트레스를 받지 않고 몸을 편안하게 하는 것만큼 좋은 태교가 없습니다 ...</td>\n",
       "      <td>https://www.maeili.com/cms/contents/contentsVi...</td>\n",
       "    </tr>\n",
       "    <tr>\n",
       "      <th>1534</th>\n",
       "      <td>임신</td>\n",
       "      <td>기형 검사와 보조 검사</td>\n",
       "      <td>모든 임신부는 나이에 상관없이 7백 명에 한 명꼴로 정신박약을 초래하는 다운 증후군...</td>\n",
       "      <td>https://www.maeili.com/cms/contents/contentsVi...</td>\n",
       "    </tr>\n",
       "    <tr>\n",
       "      <th>1535</th>\n",
       "      <td>임신</td>\n",
       "      <td>임신 시기별 검사 종류와 횟수</td>\n",
       "      <td>첫방문시 혈액검사 소변검사 혈액형 검사 풍진항체 검사 8 18주 초음파검사 필요한...</td>\n",
       "      <td>https://www.maeili.com/cms/contents/contentsVi...</td>\n",
       "    </tr>\n",
       "    <tr>\n",
       "      <th>1536</th>\n",
       "      <td>임신</td>\n",
       "      <td>초음파 검사의 임상적 유용성</td>\n",
       "      <td>초기의 정상적인 자궁내 임신의 확인 임신낭과 태아의 성장 여부와 크기 측정 임신주...</td>\n",
       "      <td>https://www.maeili.com/cms/contents/contentsVi...</td>\n",
       "    </tr>\n",
       "    <tr>\n",
       "      <th>1537</th>\n",
       "      <td>임신</td>\n",
       "      <td>산전 유전 상담이란</td>\n",
       "      <td>유전 질환 염색체 이상도 말초 혈액의 염색체 검사로서 진단이 가능하나 산과 영역에서...</td>\n",
       "      <td>https://www.maeili.com/cms/contents/contentsVi...</td>\n",
       "    </tr>\n",
       "  </tbody>\n",
       "</table>\n",
       "</div>"
      ],
      "text/plain": [
       "     categories             title  \\\n",
       "1533         임신         '웃음요법' 태교   \n",
       "1534         임신      기형 검사와 보조 검사   \n",
       "1535         임신  임신 시기별 검사 종류와 횟수   \n",
       "1536         임신   초음파 검사의 임상적 유용성   \n",
       "1537         임신        산전 유전 상담이란   \n",
       "\n",
       "                                                   text  \\\n",
       "1533  임신 중에는 스트레스를 받지 않고 몸을 편안하게 하는 것만큼 좋은 태교가 없습니다 ...   \n",
       "1534  모든 임신부는 나이에 상관없이 7백 명에 한 명꼴로 정신박약을 초래하는 다운 증후군...   \n",
       "1535   첫방문시 혈액검사 소변검사 혈액형 검사 풍진항체 검사 8 18주 초음파검사 필요한...   \n",
       "1536   초기의 정상적인 자궁내 임신의 확인 임신낭과 태아의 성장 여부와 크기 측정 임신주...   \n",
       "1537  유전 질환 염색체 이상도 말초 혈액의 염색체 검사로서 진단이 가능하나 산과 영역에서...   \n",
       "\n",
       "                                               postlink  \n",
       "1533  https://www.maeili.com/cms/contents/contentsVi...  \n",
       "1534  https://www.maeili.com/cms/contents/contentsVi...  \n",
       "1535  https://www.maeili.com/cms/contents/contentsVi...  \n",
       "1536  https://www.maeili.com/cms/contents/contentsVi...  \n",
       "1537  https://www.maeili.com/cms/contents/contentsVi...  "
      ]
     },
     "execution_count": 3,
     "metadata": {},
     "output_type": "execute_result"
    }
   ],
   "source": [
    "df1.tail()"
   ]
  },
  {
   "cell_type": "markdown",
   "metadata": {},
   "source": [
    "#### momtalk(육아정보)"
   ]
  },
  {
   "cell_type": "code",
   "execution_count": 4,
   "metadata": {},
   "outputs": [
    {
     "data": {
      "text/html": [
       "<div>\n",
       "<style scoped>\n",
       "    .dataframe tbody tr th:only-of-type {\n",
       "        vertical-align: middle;\n",
       "    }\n",
       "\n",
       "    .dataframe tbody tr th {\n",
       "        vertical-align: top;\n",
       "    }\n",
       "\n",
       "    .dataframe thead th {\n",
       "        text-align: right;\n",
       "    }\n",
       "</style>\n",
       "<table border=\"1\" class=\"dataframe\">\n",
       "  <thead>\n",
       "    <tr style=\"text-align: right;\">\n",
       "      <th></th>\n",
       "      <th>idx</th>\n",
       "      <th>text</th>\n",
       "    </tr>\n",
       "  </thead>\n",
       "  <tbody>\n",
       "    <tr>\n",
       "      <th>695</th>\n",
       "      <td>852</td>\n",
       "      <td>유아용품 유통기한 바로알기 기저귀 화장품 기저귀 화장품에도 유통기한이 있다구 두고...</td>\n",
       "    </tr>\n",
       "    <tr>\n",
       "      <th>696</th>\n",
       "      <td>928</td>\n",
       "      <td>우리 아이 쑥쑥 클 수 있게 전지현 크림으로 하는 베이비 마사지법 서 알려드려요 ...</td>\n",
       "    </tr>\n",
       "    <tr>\n",
       "      <th>697</th>\n",
       "      <td>971</td>\n",
       "      <td>이유식을 시작하는 맘들을 위해 이유식 준비물 요점 정리 이유식을 시작하는 맘들을 ...</td>\n",
       "    </tr>\n",
       "    <tr>\n",
       "      <th>698</th>\n",
       "      <td>843</td>\n",
       "      <td>휴일에 문 여는 약국이 궁금하다면 휴일지킴이약국 검색법 하필 쉬는 날 응급약이 필...</td>\n",
       "    </tr>\n",
       "    <tr>\n",
       "      <th>699</th>\n",
       "      <td>842</td>\n",
       "      <td>우리 아이가 아파요 응급실에 가야할까요 소아과 전문의 김연호 선생님과 함께하는 우...</td>\n",
       "    </tr>\n",
       "  </tbody>\n",
       "</table>\n",
       "</div>"
      ],
      "text/plain": [
       "     idx                                               text\n",
       "695  852   유아용품 유통기한 바로알기 기저귀 화장품 기저귀 화장품에도 유통기한이 있다구 두고...\n",
       "696  928   우리 아이 쑥쑥 클 수 있게 전지현 크림으로 하는 베이비 마사지법 서 알려드려요 ...\n",
       "697  971   이유식을 시작하는 맘들을 위해 이유식 준비물 요점 정리 이유식을 시작하는 맘들을 ...\n",
       "698  843   휴일에 문 여는 약국이 궁금하다면 휴일지킴이약국 검색법 하필 쉬는 날 응급약이 필...\n",
       "699  842   우리 아이가 아파요 응급실에 가야할까요 소아과 전문의 김연호 선생님과 함께하는 우..."
      ]
     },
     "execution_count": 4,
     "metadata": {},
     "output_type": "execute_result"
    }
   ],
   "source": [
    "df2.tail()"
   ]
  },
  {
   "cell_type": "markdown",
   "metadata": {},
   "source": [
    "#### momtalk(유아용품)"
   ]
  },
  {
   "cell_type": "code",
   "execution_count": 5,
   "metadata": {},
   "outputs": [
    {
     "data": {
      "text/html": [
       "<div>\n",
       "<style scoped>\n",
       "    .dataframe tbody tr th:only-of-type {\n",
       "        vertical-align: middle;\n",
       "    }\n",
       "\n",
       "    .dataframe tbody tr th {\n",
       "        vertical-align: top;\n",
       "    }\n",
       "\n",
       "    .dataframe thead th {\n",
       "        text-align: right;\n",
       "    }\n",
       "</style>\n",
       "<table border=\"1\" class=\"dataframe\">\n",
       "  <thead>\n",
       "    <tr style=\"text-align: right;\">\n",
       "      <th></th>\n",
       "      <th>idx</th>\n",
       "      <th>text</th>\n",
       "    </tr>\n",
       "  </thead>\n",
       "  <tbody>\n",
       "    <tr>\n",
       "      <th>482</th>\n",
       "      <td>622</td>\n",
       "      <td>우리아이 치발기 치아발육기 선택 꿀팁 잇몸이 근질근질우리아이 치아발육기 선택팁 아...</td>\n",
       "    </tr>\n",
       "    <tr>\n",
       "      <th>483</th>\n",
       "      <td>640</td>\n",
       "      <td>쏘서 점퍼루 보행기 우리아이 선택은 쏘서 점퍼루 보행기 우리아이 선택은 아이를 낳...</td>\n",
       "    </tr>\n",
       "    <tr>\n",
       "      <th>484</th>\n",
       "      <td>607</td>\n",
       "      <td>신생아부터 유아까지 아기목욕용품 및 아기 목욕시키기 신생아부터 유아까지아기 목욕용...</td>\n",
       "    </tr>\n",
       "    <tr>\n",
       "      <th>485</th>\n",
       "      <td>567</td>\n",
       "      <td>아기용품 어떤걸로 골라야 할까 아기용품 고르기 오늘은 아기용품고르기에 대해 함께 ...</td>\n",
       "    </tr>\n",
       "    <tr>\n",
       "      <th>486</th>\n",
       "      <td>604</td>\n",
       "      <td>장난감수납장 이거좋아요 이번주 베스트글 주인공은 소영님 입니다 요즘 장난감수납장에...</td>\n",
       "    </tr>\n",
       "  </tbody>\n",
       "</table>\n",
       "</div>"
      ],
      "text/plain": [
       "     idx                                               text\n",
       "482  622   우리아이 치발기 치아발육기 선택 꿀팁 잇몸이 근질근질우리아이 치아발육기 선택팁 아...\n",
       "483  640   쏘서 점퍼루 보행기 우리아이 선택은 쏘서 점퍼루 보행기 우리아이 선택은 아이를 낳...\n",
       "484  607   신생아부터 유아까지 아기목욕용품 및 아기 목욕시키기 신생아부터 유아까지아기 목욕용...\n",
       "485  567   아기용품 어떤걸로 골라야 할까 아기용품 고르기 오늘은 아기용품고르기에 대해 함께 ...\n",
       "486  604   장난감수납장 이거좋아요 이번주 베스트글 주인공은 소영님 입니다 요즘 장난감수납장에..."
      ]
     },
     "execution_count": 5,
     "metadata": {},
     "output_type": "execute_result"
    }
   ],
   "source": [
    "df3.tail()"
   ]
  },
  {
   "cell_type": "markdown",
   "metadata": {},
   "source": [
    "#### 서울육아종합지원센터 육아전문칼럼"
   ]
  },
  {
   "cell_type": "code",
   "execution_count": 6,
   "metadata": {},
   "outputs": [
    {
     "data": {
      "text/html": [
       "<div>\n",
       "<style scoped>\n",
       "    .dataframe tbody tr th:only-of-type {\n",
       "        vertical-align: middle;\n",
       "    }\n",
       "\n",
       "    .dataframe tbody tr th {\n",
       "        vertical-align: top;\n",
       "    }\n",
       "\n",
       "    .dataframe thead th {\n",
       "        text-align: right;\n",
       "    }\n",
       "</style>\n",
       "<table border=\"1\" class=\"dataframe\">\n",
       "  <thead>\n",
       "    <tr style=\"text-align: right;\">\n",
       "      <th></th>\n",
       "      <th>Unnamed: 0</th>\n",
       "      <th>text</th>\n",
       "    </tr>\n",
       "  </thead>\n",
       "  <tbody>\n",
       "    <tr>\n",
       "      <th>34</th>\n",
       "      <td>34</td>\n",
       "      <td>주제 영유아의 선행학습 진짜 도움될까 부제 당신의 잘못이 아닙니다 다만 저는 예전...</td>\n",
       "    </tr>\n",
       "    <tr>\n",
       "      <th>35</th>\n",
       "      <td>35</td>\n",
       "      <td>좋은 아빠 지금 하지 않으면 늦다 결혼을 하고 아이를 키우면서 가장 힘든 점은 욕...</td>\n",
       "    </tr>\n",
       "    <tr>\n",
       "      <th>36</th>\n",
       "      <td>36</td>\n",
       "      <td>놀이의 뇌과학적 가치 요즘 아이들은 밖에서 같이 놀 기회가 적어졌다 누군가와 놀아...</td>\n",
       "    </tr>\n",
       "    <tr>\n",
       "      <th>37</th>\n",
       "      <td>37</td>\n",
       "      <td>영유아기 자녀와 안정 애착 형성하기 영유아기 때 부모와 맺은 관계 경험은 평생을 ...</td>\n",
       "    </tr>\n",
       "    <tr>\n",
       "      <th>38</th>\n",
       "      <td>38</td>\n",
       "      <td>아이를 숲으로 데려갈까요 4차 산업혁명시대를 맞이하여 더 많이 놀게 하고 더 많이...</td>\n",
       "    </tr>\n",
       "  </tbody>\n",
       "</table>\n",
       "</div>"
      ],
      "text/plain": [
       "    Unnamed: 0                                               text\n",
       "34          34   주제 영유아의 선행학습 진짜 도움될까 부제 당신의 잘못이 아닙니다 다만 저는 예전...\n",
       "35          35   좋은 아빠 지금 하지 않으면 늦다 결혼을 하고 아이를 키우면서 가장 힘든 점은 욕...\n",
       "36          36   놀이의 뇌과학적 가치 요즘 아이들은 밖에서 같이 놀 기회가 적어졌다 누군가와 놀아...\n",
       "37          37   영유아기 자녀와 안정 애착 형성하기 영유아기 때 부모와 맺은 관계 경험은 평생을 ...\n",
       "38          38   아이를 숲으로 데려갈까요 4차 산업혁명시대를 맞이하여 더 많이 놀게 하고 더 많이..."
      ]
     },
     "execution_count": 6,
     "metadata": {},
     "output_type": "execute_result"
    }
   ],
   "source": [
    "df4.tail()"
   ]
  },
  {
   "cell_type": "markdown",
   "metadata": {},
   "source": [
    "#### 육아신문 베이비뉴스"
   ]
  },
  {
   "cell_type": "code",
   "execution_count": 7,
   "metadata": {},
   "outputs": [
    {
     "data": {
      "text/html": [
       "<div>\n",
       "<style scoped>\n",
       "    .dataframe tbody tr th:only-of-type {\n",
       "        vertical-align: middle;\n",
       "    }\n",
       "\n",
       "    .dataframe tbody tr th {\n",
       "        vertical-align: top;\n",
       "    }\n",
       "\n",
       "    .dataframe thead th {\n",
       "        text-align: right;\n",
       "    }\n",
       "</style>\n",
       "<table border=\"1\" class=\"dataframe\">\n",
       "  <thead>\n",
       "    <tr style=\"text-align: right;\">\n",
       "      <th></th>\n",
       "      <th>titles</th>\n",
       "      <th>text</th>\n",
       "      <th>postlinks</th>\n",
       "    </tr>\n",
       "  </thead>\n",
       "  <tbody>\n",
       "    <tr>\n",
       "      <th>995</th>\n",
       "      <td>여름만 되면 설사를 달고 살고 배앓이를 하네요</td>\n",
       "      <td>최근 갑자기 덥고 습해진 여름 날씨로 인해 갑자기 설사를 하거나 배앓이를 호소하는 ...</td>\n",
       "      <td>https://www.ibabynews.com/news/articleView.htm...</td>\n",
       "    </tr>\n",
       "    <tr>\n",
       "      <th>996</th>\n",
       "      <td>아기가 잘 때 배를 드러내고 벽에 붙어서 자요</td>\n",
       "      <td>7월부터는 일중 최저기온이 20도 이상으로 높아지면서 어른들도 잘 때 더위를 타고 ...</td>\n",
       "      <td>https://www.ibabynews.com/news/articleView.htm...</td>\n",
       "    </tr>\n",
       "    <tr>\n",
       "      <th>997</th>\n",
       "      <td>기다리는 행복, 아가야</td>\n",
       "      <td>얼마 전 필자를 찾아온 그녀는 청각·시각적으로 장애가 있는 난임 여성입니다 그녀는 ...</td>\n",
       "      <td>https://www.ibabynews.com/news/articleView.htm...</td>\n",
       "    </tr>\n",
       "    <tr>\n",
       "      <th>998</th>\n",
       "      <td>심심하게, 아이를 더 '심심하게' 하라!</td>\n",
       "      <td>지난 20여 년 동안 아이를 키워오면서 가장 많이 들었던 말은 다름 아닌 아빠 심심...</td>\n",
       "      <td>https://www.ibabynews.com/news/articleView.htm...</td>\n",
       "    </tr>\n",
       "    <tr>\n",
       "      <th>999</th>\n",
       "      <td>클레이로 무당벌레 장난감 만들기</td>\n",
       "      <td>요즘은 아이들이 좋아하는 초콜릿도 아이들의 호기심을 자극하기 위해예쁘고 귀여운 모양...</td>\n",
       "      <td>https://www.ibabynews.com/news/articleView.htm...</td>\n",
       "    </tr>\n",
       "  </tbody>\n",
       "</table>\n",
       "</div>"
      ],
      "text/plain": [
       "                        titles  \\\n",
       "995  여름만 되면 설사를 달고 살고 배앓이를 하네요   \n",
       "996  아기가 잘 때 배를 드러내고 벽에 붙어서 자요   \n",
       "997               기다리는 행복, 아가야   \n",
       "998     심심하게, 아이를 더 '심심하게' 하라!   \n",
       "999          클레이로 무당벌레 장난감 만들기   \n",
       "\n",
       "                                                  text  \\\n",
       "995  최근 갑자기 덥고 습해진 여름 날씨로 인해 갑자기 설사를 하거나 배앓이를 호소하는 ...   \n",
       "996  7월부터는 일중 최저기온이 20도 이상으로 높아지면서 어른들도 잘 때 더위를 타고 ...   \n",
       "997  얼마 전 필자를 찾아온 그녀는 청각·시각적으로 장애가 있는 난임 여성입니다 그녀는 ...   \n",
       "998  지난 20여 년 동안 아이를 키워오면서 가장 많이 들었던 말은 다름 아닌 아빠 심심...   \n",
       "999  요즘은 아이들이 좋아하는 초콜릿도 아이들의 호기심을 자극하기 위해예쁘고 귀여운 모양...   \n",
       "\n",
       "                                             postlinks  \n",
       "995  https://www.ibabynews.com/news/articleView.htm...  \n",
       "996  https://www.ibabynews.com/news/articleView.htm...  \n",
       "997  https://www.ibabynews.com/news/articleView.htm...  \n",
       "998  https://www.ibabynews.com/news/articleView.htm...  \n",
       "999  https://www.ibabynews.com/news/articleView.htm...  "
      ]
     },
     "execution_count": 7,
     "metadata": {},
     "output_type": "execute_result"
    }
   ],
   "source": [
    "df5.tail()"
   ]
  },
  {
   "cell_type": "markdown",
   "metadata": {},
   "source": [
    "#### 일동후디스"
   ]
  },
  {
   "cell_type": "code",
   "execution_count": 8,
   "metadata": {},
   "outputs": [
    {
     "data": {
      "text/html": [
       "<div>\n",
       "<style scoped>\n",
       "    .dataframe tbody tr th:only-of-type {\n",
       "        vertical-align: middle;\n",
       "    }\n",
       "\n",
       "    .dataframe tbody tr th {\n",
       "        vertical-align: top;\n",
       "    }\n",
       "\n",
       "    .dataframe thead th {\n",
       "        text-align: right;\n",
       "    }\n",
       "</style>\n",
       "<table border=\"1\" class=\"dataframe\">\n",
       "  <thead>\n",
       "    <tr style=\"text-align: right;\">\n",
       "      <th></th>\n",
       "      <th>titles</th>\n",
       "      <th>text</th>\n",
       "      <th>postlinks</th>\n",
       "    </tr>\n",
       "  </thead>\n",
       "  <tbody>\n",
       "    <tr>\n",
       "      <th>1640</th>\n",
       "      <td>육아에 필요한 법률상담</td>\n",
       "      <td>고귀한 탯줄법률상담5살인 저희 아이는 심각한 고등어 알러지가 있습니다  그래서 집에...</td>\n",
       "      <td>http://foodis.com/web/www/baby_column_02;jsess...</td>\n",
       "    </tr>\n",
       "    <tr>\n",
       "      <th>1641</th>\n",
       "      <td>이럴 땐 이렇게 하세요</td>\n",
       "      <td>아기를 가진 엄마들의 궁금증현재 두 아기의 엄마이기도 한종로구 의 김현아 선생님께서...</td>\n",
       "      <td>http://foodis.com/web/www/baby_column_02;jsess...</td>\n",
       "    </tr>\n",
       "    <tr>\n",
       "      <th>1642</th>\n",
       "      <td>키 작은 아이, 남들만큼 클 수 없을까요?</td>\n",
       "      <td>키 작은 아이  남들만큼 클 수 없을까요  먹거리가 귀한 시절에 부모는 아이가 단지...</td>\n",
       "      <td>http://foodis.com/web/www/baby_column_02;jsess...</td>\n",
       "    </tr>\n",
       "    <tr>\n",
       "      <th>1643</th>\n",
       "      <td>스킨쉽을 통해 엄마의 사랑을 전해주세요.</td>\n",
       "      <td>마사지를 시작하기 전에    1 항상 시작신호를 보내고 아기의 의사를 존중해야한다 ...</td>\n",
       "      <td>http://foodis.com/web/www/baby_column_02;jsess...</td>\n",
       "    </tr>\n",
       "    <tr>\n",
       "      <th>1644</th>\n",
       "      <td>전문의에게 배우는 초보 엄마 아기 도우미</td>\n",
       "      <td>초보 엄마 도우미전문의에게 배우는 초보 엄마 아기 도우미우리 아기 응급 처치법  아...</td>\n",
       "      <td>http://foodis.com/web/www/baby_column_02;jsess...</td>\n",
       "    </tr>\n",
       "  </tbody>\n",
       "</table>\n",
       "</div>"
      ],
      "text/plain": [
       "                       titles  \\\n",
       "1640             육아에 필요한 법률상담   \n",
       "1641             이럴 땐 이렇게 하세요   \n",
       "1642  키 작은 아이, 남들만큼 클 수 없을까요?   \n",
       "1643   스킨쉽을 통해 엄마의 사랑을 전해주세요.   \n",
       "1644   전문의에게 배우는 초보 엄마 아기 도우미   \n",
       "\n",
       "                                                   text  \\\n",
       "1640  고귀한 탯줄법률상담5살인 저희 아이는 심각한 고등어 알러지가 있습니다  그래서 집에...   \n",
       "1641  아기를 가진 엄마들의 궁금증현재 두 아기의 엄마이기도 한종로구 의 김현아 선생님께서...   \n",
       "1642  키 작은 아이  남들만큼 클 수 없을까요  먹거리가 귀한 시절에 부모는 아이가 단지...   \n",
       "1643  마사지를 시작하기 전에    1 항상 시작신호를 보내고 아기의 의사를 존중해야한다 ...   \n",
       "1644  초보 엄마 도우미전문의에게 배우는 초보 엄마 아기 도우미우리 아기 응급 처치법  아...   \n",
       "\n",
       "                                              postlinks  \n",
       "1640  http://foodis.com/web/www/baby_column_02;jsess...  \n",
       "1641  http://foodis.com/web/www/baby_column_02;jsess...  \n",
       "1642  http://foodis.com/web/www/baby_column_02;jsess...  \n",
       "1643  http://foodis.com/web/www/baby_column_02;jsess...  \n",
       "1644  http://foodis.com/web/www/baby_column_02;jsess...  "
      ]
     },
     "execution_count": 8,
     "metadata": {},
     "output_type": "execute_result"
    }
   ],
   "source": [
    "df6.tail()"
   ]
  },
  {
   "cell_type": "markdown",
   "metadata": {},
   "source": [
    "#### 맘스매거진"
   ]
  },
  {
   "cell_type": "code",
   "execution_count": 9,
   "metadata": {},
   "outputs": [
    {
     "data": {
      "text/html": [
       "<div>\n",
       "<style scoped>\n",
       "    .dataframe tbody tr th:only-of-type {\n",
       "        vertical-align: middle;\n",
       "    }\n",
       "\n",
       "    .dataframe tbody tr th {\n",
       "        vertical-align: top;\n",
       "    }\n",
       "\n",
       "    .dataframe thead th {\n",
       "        text-align: right;\n",
       "    }\n",
       "</style>\n",
       "<table border=\"1\" class=\"dataframe\">\n",
       "  <thead>\n",
       "    <tr style=\"text-align: right;\">\n",
       "      <th></th>\n",
       "      <th>titles</th>\n",
       "      <th>text</th>\n",
       "      <th>postlink</th>\n",
       "    </tr>\n",
       "  </thead>\n",
       "  <tbody>\n",
       "    <tr>\n",
       "      <th>387</th>\n",
       "      <td>‘믿지 마세요.’  육아 속설들</td>\n",
       "      <td>육아에 대한 말과 정보들은 많지만 근거 없는 육아 속설에 의지해 아이를 돌보면 큰 ...</td>\n",
       "      <td>http://momsmagazine.co.kr/%eb%af%bf%ec%a7%80-%...</td>\n",
       "    </tr>\n",
       "    <tr>\n",
       "      <th>388</th>\n",
       "      <td>신생아가 있는 집 에어컨 사용법</td>\n",
       "      <td>신생아는 땀구멍이 열리지 않아 땀을 흘리지 않는다는 이유로 더위를 타지 않을 거라고...</td>\n",
       "      <td>http://momsmagazine.co.kr/%ec%8b%a0%ec%83%9d%e...</td>\n",
       "    </tr>\n",
       "    <tr>\n",
       "      <th>389</th>\n",
       "      <td>초등학교 입학 전 읽기 능력을 키우는 법</td>\n",
       "      <td>초등학교 입학을 앞둔 있는 엄마들은 내 아이가 한글을 읽고 쓰는 데 어려움이 없지 ...</td>\n",
       "      <td>http://momsmagazine.co.kr/%ec%b4%88%eb%93%b1%e...</td>\n",
       "    </tr>\n",
       "    <tr>\n",
       "      <th>390</th>\n",
       "      <td>아는 만큼 혜택 보는 2015 출산 지원 제도</td>\n",
       "      <td>2015년 정부는 임신과 출산을 위한 지원제도를 마련했다 임산부에게 경제적 심리적 ...</td>\n",
       "      <td>http://momsmagazine.co.kr/%ec%95%84%eb%8a%94-%...</td>\n",
       "    </tr>\n",
       "    <tr>\n",
       "      <th>391</th>\n",
       "      <td>우리 아기 여름 땀띠 똑똑하게 관리하기</td>\n",
       "      <td>덥고 습한 여름은 민감한 아기 피부에 트러블이 생기기 쉽다 영유아는 어른보다 땀샘의...</td>\n",
       "      <td>http://momsmagazine.co.kr/%ec%9a%b0%eb%a6%ac-%...</td>\n",
       "    </tr>\n",
       "  </tbody>\n",
       "</table>\n",
       "</div>"
      ],
      "text/plain": [
       "                        titles  \\\n",
       "387          ‘믿지 마세요.’  육아 속설들   \n",
       "388          신생아가 있는 집 에어컨 사용법   \n",
       "389     초등학교 입학 전 읽기 능력을 키우는 법   \n",
       "390  아는 만큼 혜택 보는 2015 출산 지원 제도   \n",
       "391      우리 아기 여름 땀띠 똑똑하게 관리하기   \n",
       "\n",
       "                                                  text  \\\n",
       "387  육아에 대한 말과 정보들은 많지만 근거 없는 육아 속설에 의지해 아이를 돌보면 큰 ...   \n",
       "388  신생아는 땀구멍이 열리지 않아 땀을 흘리지 않는다는 이유로 더위를 타지 않을 거라고...   \n",
       "389  초등학교 입학을 앞둔 있는 엄마들은 내 아이가 한글을 읽고 쓰는 데 어려움이 없지 ...   \n",
       "390  2015년 정부는 임신과 출산을 위한 지원제도를 마련했다 임산부에게 경제적 심리적 ...   \n",
       "391  덥고 습한 여름은 민감한 아기 피부에 트러블이 생기기 쉽다 영유아는 어른보다 땀샘의...   \n",
       "\n",
       "                                              postlink  \n",
       "387  http://momsmagazine.co.kr/%eb%af%bf%ec%a7%80-%...  \n",
       "388  http://momsmagazine.co.kr/%ec%8b%a0%ec%83%9d%e...  \n",
       "389  http://momsmagazine.co.kr/%ec%b4%88%eb%93%b1%e...  \n",
       "390  http://momsmagazine.co.kr/%ec%95%84%eb%8a%94-%...  \n",
       "391  http://momsmagazine.co.kr/%ec%9a%b0%eb%a6%ac-%...  "
      ]
     },
     "execution_count": 9,
     "metadata": {},
     "output_type": "execute_result"
    }
   ],
   "source": [
    "df7.tail()"
   ]
  },
  {
   "cell_type": "markdown",
   "metadata": {},
   "source": [
    "### Concatenate Dataframe"
   ]
  },
  {
   "cell_type": "code",
   "execution_count": 10,
   "metadata": {},
   "outputs": [
    {
     "data": {
      "text/html": [
       "<div>\n",
       "<style scoped>\n",
       "    .dataframe tbody tr th:only-of-type {\n",
       "        vertical-align: middle;\n",
       "    }\n",
       "\n",
       "    .dataframe tbody tr th {\n",
       "        vertical-align: top;\n",
       "    }\n",
       "\n",
       "    .dataframe thead th {\n",
       "        text-align: right;\n",
       "    }\n",
       "</style>\n",
       "<table border=\"1\" class=\"dataframe\">\n",
       "  <thead>\n",
       "    <tr style=\"text-align: right;\">\n",
       "      <th></th>\n",
       "      <th>text</th>\n",
       "    </tr>\n",
       "  </thead>\n",
       "  <tbody>\n",
       "    <tr>\n",
       "      <th>5796</th>\n",
       "      <td>육아에 대한 말과 정보들은 많지만 근거 없는 육아 속설에 의지해 아이를 돌보면 큰 ...</td>\n",
       "    </tr>\n",
       "    <tr>\n",
       "      <th>5797</th>\n",
       "      <td>신생아는 땀구멍이 열리지 않아 땀을 흘리지 않는다는 이유로 더위를 타지 않을 거라고...</td>\n",
       "    </tr>\n",
       "    <tr>\n",
       "      <th>5798</th>\n",
       "      <td>초등학교 입학을 앞둔 있는 엄마들은 내 아이가 한글을 읽고 쓰는 데 어려움이 없지 ...</td>\n",
       "    </tr>\n",
       "    <tr>\n",
       "      <th>5799</th>\n",
       "      <td>2015년 정부는 임신과 출산을 위한 지원제도를 마련했다 임산부에게 경제적 심리적 ...</td>\n",
       "    </tr>\n",
       "    <tr>\n",
       "      <th>5800</th>\n",
       "      <td>덥고 습한 여름은 민감한 아기 피부에 트러블이 생기기 쉽다 영유아는 어른보다 땀샘의...</td>\n",
       "    </tr>\n",
       "  </tbody>\n",
       "</table>\n",
       "</div>"
      ],
      "text/plain": [
       "                                                   text\n",
       "5796  육아에 대한 말과 정보들은 많지만 근거 없는 육아 속설에 의지해 아이를 돌보면 큰 ...\n",
       "5797  신생아는 땀구멍이 열리지 않아 땀을 흘리지 않는다는 이유로 더위를 타지 않을 거라고...\n",
       "5798  초등학교 입학을 앞둔 있는 엄마들은 내 아이가 한글을 읽고 쓰는 데 어려움이 없지 ...\n",
       "5799  2015년 정부는 임신과 출산을 위한 지원제도를 마련했다 임산부에게 경제적 심리적 ...\n",
       "5800  덥고 습한 여름은 민감한 아기 피부에 트러블이 생기기 쉽다 영유아는 어른보다 땀샘의..."
      ]
     },
     "execution_count": 10,
     "metadata": {},
     "output_type": "execute_result"
    }
   ],
   "source": [
    "df = pd.concat([df1.text, df2.text, df3.text, df4.text, df5.text, df6.text, df7.text])\n",
    "df = pd.DataFrame(df).reset_index(drop=True)\n",
    "df.tail()"
   ]
  },
  {
   "cell_type": "markdown",
   "metadata": {},
   "source": [
    "### Remove some contents"
   ]
  },
  {
   "cell_type": "code",
   "execution_count": 11,
   "metadata": {},
   "outputs": [
    {
     "name": "stdout",
     "output_type": "stream",
     "text": [
      "<class 'pandas.core.frame.DataFrame'>\n",
      "Int64Index: 5787 entries, 0 to 5791\n",
      "Data columns (total 1 columns):\n",
      "text    5787 non-null object\n",
      "dtypes: object(1)\n",
      "memory usage: 90.4+ KB\n"
     ]
    }
   ],
   "source": [
    "df = df.drop(index=[952, 955, 956, 960, 962, 964, 1165, 1240, 1322])\n",
    "df = pd.DataFrame(df).reset_index(drop=True)\n",
    "df = df.dropna()\n",
    "df.info()"
   ]
  },
  {
   "cell_type": "code",
   "execution_count": null,
   "metadata": {},
   "outputs": [],
   "source": []
  },
  {
   "cell_type": "markdown",
   "metadata": {},
   "source": [
    "### FastText 학습에 적합한 말뭉치로 정제하는 과정\n",
    "- 한글을 자음, 모음 단위로 분해\n",
    "- 단어 단위로 구분된 ndarray 자료구조로 정제"
   ]
  },
  {
   "cell_type": "code",
   "execution_count": 12,
   "metadata": {},
   "outputs": [],
   "source": [
    "import re\n",
    "from soynlp.hangle import decompose, compose\n",
    "\n",
    "def remove_doublespace(s):\n",
    "    doublespace_pattern = re.compile('\\s+')\n",
    "    return doublespace_pattern.sub(' ', s).strip()\n",
    "\n",
    "def encode(s):\n",
    "    def process(c):\n",
    "        if c == ' ':\n",
    "            return c\n",
    "        jamo = decompose(c)\n",
    "        # 'a' or 모음 or 자음\n",
    "        if (jamo is None) or (jamo[0] == ' ') or (jamo[1] == ' '):\n",
    "            return ' '\n",
    "        base = jamo[0]+jamo[1]\n",
    "        if jamo[2] == ' ':\n",
    "            return base + '-'\n",
    "        return base + jamo[2]\n",
    "\n",
    "    s = ''.join(process(c) for c in s)\n",
    "    return remove_doublespace(s).strip()\n",
    "\n",
    "#     s = [process(c) for c in s]\n",
    "#     return s\n",
    "\n",
    "def decode(s):\n",
    "    def process(t):\n",
    "        assert len(t) % 3 == 0\n",
    "        t_ = t.replace('-', ' ')\n",
    "        chars = [tuple(t_[3*i:3*(i+1)]) for i in range(len(t_)//3)]\n",
    "        recovered = [compose(*char) for char in chars]\n",
    "        recovered = ''.join(recovered)\n",
    "        return recovered\n",
    "\n",
    "    return ' '.join(process(t) for t in s.split())"
   ]
  },
  {
   "cell_type": "markdown",
   "metadata": {},
   "source": [
    "#### Test"
   ]
  },
  {
   "cell_type": "code",
   "execution_count": 13,
   "metadata": {},
   "outputs": [
    {
     "name": "stdout",
     "output_type": "stream",
     "text": [
      "ㄴㅏ-ㅇㅢ- ㅇㅑ-ㄱㅡㄴㅇㅡㄹ ㅇㅏㄹㄲㅏ- ㅎㅡ-ㅎㅔ-ㅎㅔ- ㅎㅡ-ㅎㅔ-ㅎㅔ- ㅇㅏ-ㅇㅣ-ㄱㅗ-ㄴㅏㄴ ㅇㅏ-ㅇㅣ-ㄱㅗ-ㄴㅏㄴ\n",
      "나의 야근을 알까 흐헤헤 흐헤헤 아이고난 아이고난\n"
     ]
    }
   ],
   "source": [
    "s = '나의 야근을 알까? 흐헤헤 흐헤헤 아이고난1 아이고난2'\n",
    "print(encode(s))\n",
    "print(decode(encode(s)))"
   ]
  },
  {
   "cell_type": "code",
   "execution_count": 14,
   "metadata": {},
   "outputs": [
    {
     "data": {
      "text/html": [
       "<div>\n",
       "<style scoped>\n",
       "    .dataframe tbody tr th:only-of-type {\n",
       "        vertical-align: middle;\n",
       "    }\n",
       "\n",
       "    .dataframe tbody tr th {\n",
       "        vertical-align: top;\n",
       "    }\n",
       "\n",
       "    .dataframe thead th {\n",
       "        text-align: right;\n",
       "    }\n",
       "</style>\n",
       "<table border=\"1\" class=\"dataframe\">\n",
       "  <thead>\n",
       "    <tr style=\"text-align: right;\">\n",
       "      <th></th>\n",
       "      <th>text</th>\n",
       "      <th>encoded</th>\n",
       "    </tr>\n",
       "  </thead>\n",
       "  <tbody>\n",
       "    <tr>\n",
       "      <th>0</th>\n",
       "      <td>6살 남아 입니다 회사 복직 후 3살부터 주중에는 외할머니댁에서 2살 4살 터울의 ...</td>\n",
       "      <td>ㅅㅏㄹ ㄴㅏㅁㅇㅏ- ㅇㅣㅂㄴㅣ-ㄷㅏ- ㅎㅚ-ㅅㅏ- ㅂㅗㄱㅈㅣㄱ ㅎㅜ- ㅅㅏㄹㅂㅜ-ㅌ...</td>\n",
       "    </tr>\n",
       "    <tr>\n",
       "      <th>1</th>\n",
       "      <td>요즘 들어 아빠가 아이에게 다가가려고 하면 엄마한테 갈 거야 하면서 엄마를 유독 찾...</td>\n",
       "      <td>ㅇㅛ-ㅈㅡㅁ ㄷㅡㄹㅇㅓ- ㅇㅏ-ㅃㅏ-ㄱㅏ- ㅇㅏ-ㅇㅣ-ㅇㅔ-ㄱㅔ- ㄷㅏ-ㄱㅏ-ㄱㅏ-...</td>\n",
       "    </tr>\n",
       "    <tr>\n",
       "      <th>2</th>\n",
       "      <td>둘째가 태어나면 첫째가 힘들 거라는 건 예상하고 있었지만 툭하면 삐치고 울고 좀처럼...</td>\n",
       "      <td>ㄷㅜㄹㅉㅐ-ㄱㅏ- ㅌㅐ-ㅇㅓ-ㄴㅏ-ㅁㅕㄴ ㅊㅓㅅㅉㅐ-ㄱㅏ- ㅎㅣㅁㄷㅡㄹ ㄱㅓ-ㄹㅏ-...</td>\n",
       "    </tr>\n",
       "    <tr>\n",
       "      <th>3</th>\n",
       "      <td>20개월 남아가 있고 임신 8개월차로 두 아기의 엄마입니다 첫 아이는 잠자리 독립을...</td>\n",
       "      <td>ㄱㅐ-ㅇㅝㄹ ㄴㅏㅁㅇㅏ-ㄱㅏ- ㅇㅣㅆㄱㅗ- ㅇㅣㅁㅅㅣㄴ ㄱㅐ-ㅇㅝㄹㅊㅏ-ㄹㅗ- ㄷㅜ...</td>\n",
       "    </tr>\n",
       "    <tr>\n",
       "      <th>4</th>\n",
       "      <td>14개월 남자 아기인데 심하게 깨무는 버릇이 있어요 전에는 졸릴 때 주로 물곤 했는...</td>\n",
       "      <td>ㄱㅐ-ㅇㅝㄹ ㄴㅏㅁㅈㅏ- ㅇㅏ-ㄱㅣ-ㅇㅣㄴㄷㅔ- ㅅㅣㅁㅎㅏ-ㄱㅔ- ㄲㅐ-ㅁㅜ-ㄴㅡㄴ...</td>\n",
       "    </tr>\n",
       "    <tr>\n",
       "      <th>...</th>\n",
       "      <td>...</td>\n",
       "      <td>...</td>\n",
       "    </tr>\n",
       "    <tr>\n",
       "      <th>5787</th>\n",
       "      <td>육아에 대한 말과 정보들은 많지만 근거 없는 육아 속설에 의지해 아이를 돌보면 큰 ...</td>\n",
       "      <td>ㅇㅠㄱㅇㅏ-ㅇㅔ- ㄷㅐ-ㅎㅏㄴ ㅁㅏㄹㄱㅘ- ㅈㅓㅇㅂㅗ-ㄷㅡㄹㅇㅡㄴ ㅁㅏㄶㅈㅣ-ㅁㅏㄴ...</td>\n",
       "    </tr>\n",
       "    <tr>\n",
       "      <th>5788</th>\n",
       "      <td>신생아는 땀구멍이 열리지 않아 땀을 흘리지 않는다는 이유로 더위를 타지 않을 거라고...</td>\n",
       "      <td>ㅅㅣㄴㅅㅐㅇㅇㅏ-ㄴㅡㄴ ㄸㅏㅁㄱㅜ-ㅁㅓㅇㅇㅣ- ㅇㅕㄹㄹㅣ-ㅈㅣ- ㅇㅏㄶㅇㅏ- ㄸㅏㅁ...</td>\n",
       "    </tr>\n",
       "    <tr>\n",
       "      <th>5789</th>\n",
       "      <td>초등학교 입학을 앞둔 있는 엄마들은 내 아이가 한글을 읽고 쓰는 데 어려움이 없지 ...</td>\n",
       "      <td>ㅊㅗ-ㄷㅡㅇㅎㅏㄱㄱㅛ- ㅇㅣㅂㅎㅏㄱㅇㅡㄹ ㅇㅏㅍㄷㅜㄴ ㅇㅣㅆㄴㅡㄴ ㅇㅓㅁㅁㅏ-ㄷㅡㄹ...</td>\n",
       "    </tr>\n",
       "    <tr>\n",
       "      <th>5790</th>\n",
       "      <td>2015년 정부는 임신과 출산을 위한 지원제도를 마련했다 임산부에게 경제적 심리적 ...</td>\n",
       "      <td>ㄴㅕㄴ ㅈㅓㅇㅂㅜ-ㄴㅡㄴ ㅇㅣㅁㅅㅣㄴㄱㅘ- ㅊㅜㄹㅅㅏㄴㅇㅡㄹ ㅇㅟ-ㅎㅏㄴ ㅈㅣ-ㅇㅝ...</td>\n",
       "    </tr>\n",
       "    <tr>\n",
       "      <th>5791</th>\n",
       "      <td>덥고 습한 여름은 민감한 아기 피부에 트러블이 생기기 쉽다 영유아는 어른보다 땀샘의...</td>\n",
       "      <td>ㄷㅓㅂㄱㅗ- ㅅㅡㅂㅎㅏㄴ ㅇㅕ-ㄹㅡㅁㅇㅡㄴ ㅁㅣㄴㄱㅏㅁㅎㅏㄴ ㅇㅏ-ㄱㅣ- ㅍㅣ-ㅂㅜ...</td>\n",
       "    </tr>\n",
       "  </tbody>\n",
       "</table>\n",
       "<p>5787 rows × 2 columns</p>\n",
       "</div>"
      ],
      "text/plain": [
       "                                                   text  \\\n",
       "0     6살 남아 입니다 회사 복직 후 3살부터 주중에는 외할머니댁에서 2살 4살 터울의 ...   \n",
       "1     요즘 들어 아빠가 아이에게 다가가려고 하면 엄마한테 갈 거야 하면서 엄마를 유독 찾...   \n",
       "2     둘째가 태어나면 첫째가 힘들 거라는 건 예상하고 있었지만 툭하면 삐치고 울고 좀처럼...   \n",
       "3     20개월 남아가 있고 임신 8개월차로 두 아기의 엄마입니다 첫 아이는 잠자리 독립을...   \n",
       "4     14개월 남자 아기인데 심하게 깨무는 버릇이 있어요 전에는 졸릴 때 주로 물곤 했는...   \n",
       "...                                                 ...   \n",
       "5787  육아에 대한 말과 정보들은 많지만 근거 없는 육아 속설에 의지해 아이를 돌보면 큰 ...   \n",
       "5788  신생아는 땀구멍이 열리지 않아 땀을 흘리지 않는다는 이유로 더위를 타지 않을 거라고...   \n",
       "5789  초등학교 입학을 앞둔 있는 엄마들은 내 아이가 한글을 읽고 쓰는 데 어려움이 없지 ...   \n",
       "5790  2015년 정부는 임신과 출산을 위한 지원제도를 마련했다 임산부에게 경제적 심리적 ...   \n",
       "5791  덥고 습한 여름은 민감한 아기 피부에 트러블이 생기기 쉽다 영유아는 어른보다 땀샘의...   \n",
       "\n",
       "                                                encoded  \n",
       "0     ㅅㅏㄹ ㄴㅏㅁㅇㅏ- ㅇㅣㅂㄴㅣ-ㄷㅏ- ㅎㅚ-ㅅㅏ- ㅂㅗㄱㅈㅣㄱ ㅎㅜ- ㅅㅏㄹㅂㅜ-ㅌ...  \n",
       "1     ㅇㅛ-ㅈㅡㅁ ㄷㅡㄹㅇㅓ- ㅇㅏ-ㅃㅏ-ㄱㅏ- ㅇㅏ-ㅇㅣ-ㅇㅔ-ㄱㅔ- ㄷㅏ-ㄱㅏ-ㄱㅏ-...  \n",
       "2     ㄷㅜㄹㅉㅐ-ㄱㅏ- ㅌㅐ-ㅇㅓ-ㄴㅏ-ㅁㅕㄴ ㅊㅓㅅㅉㅐ-ㄱㅏ- ㅎㅣㅁㄷㅡㄹ ㄱㅓ-ㄹㅏ-...  \n",
       "3     ㄱㅐ-ㅇㅝㄹ ㄴㅏㅁㅇㅏ-ㄱㅏ- ㅇㅣㅆㄱㅗ- ㅇㅣㅁㅅㅣㄴ ㄱㅐ-ㅇㅝㄹㅊㅏ-ㄹㅗ- ㄷㅜ...  \n",
       "4     ㄱㅐ-ㅇㅝㄹ ㄴㅏㅁㅈㅏ- ㅇㅏ-ㄱㅣ-ㅇㅣㄴㄷㅔ- ㅅㅣㅁㅎㅏ-ㄱㅔ- ㄲㅐ-ㅁㅜ-ㄴㅡㄴ...  \n",
       "...                                                 ...  \n",
       "5787  ㅇㅠㄱㅇㅏ-ㅇㅔ- ㄷㅐ-ㅎㅏㄴ ㅁㅏㄹㄱㅘ- ㅈㅓㅇㅂㅗ-ㄷㅡㄹㅇㅡㄴ ㅁㅏㄶㅈㅣ-ㅁㅏㄴ...  \n",
       "5788  ㅅㅣㄴㅅㅐㅇㅇㅏ-ㄴㅡㄴ ㄸㅏㅁㄱㅜ-ㅁㅓㅇㅇㅣ- ㅇㅕㄹㄹㅣ-ㅈㅣ- ㅇㅏㄶㅇㅏ- ㄸㅏㅁ...  \n",
       "5789  ㅊㅗ-ㄷㅡㅇㅎㅏㄱㄱㅛ- ㅇㅣㅂㅎㅏㄱㅇㅡㄹ ㅇㅏㅍㄷㅜㄴ ㅇㅣㅆㄴㅡㄴ ㅇㅓㅁㅁㅏ-ㄷㅡㄹ...  \n",
       "5790  ㄴㅕㄴ ㅈㅓㅇㅂㅜ-ㄴㅡㄴ ㅇㅣㅁㅅㅣㄴㄱㅘ- ㅊㅜㄹㅅㅏㄴㅇㅡㄹ ㅇㅟ-ㅎㅏㄴ ㅈㅣ-ㅇㅝ...  \n",
       "5791  ㄷㅓㅂㄱㅗ- ㅅㅡㅂㅎㅏㄴ ㅇㅕ-ㄹㅡㅁㅇㅡㄴ ㅁㅣㄴㄱㅏㅁㅎㅏㄴ ㅇㅏ-ㄱㅣ- ㅍㅣ-ㅂㅜ...  \n",
       "\n",
       "[5787 rows x 2 columns]"
      ]
     },
     "execution_count": 14,
     "metadata": {},
     "output_type": "execute_result"
    }
   ],
   "source": [
    "df['encoded'] = df['text'].apply(encode)\n",
    "df"
   ]
  },
  {
   "cell_type": "code",
   "execution_count": 15,
   "metadata": {},
   "outputs": [
    {
     "data": {
      "text/plain": [
       "(numpy.ndarray, 5787)"
      ]
     },
     "execution_count": 15,
     "metadata": {},
     "output_type": "execute_result"
    }
   ],
   "source": [
    "encoded_corpus = np.array(df.encoded)\n",
    "type(encoded_corpus), len(encoded_corpus)"
   ]
  },
  {
   "cell_type": "markdown",
   "metadata": {},
   "source": [
    "### Train"
   ]
  },
  {
   "cell_type": "code",
   "execution_count": 16,
   "metadata": {},
   "outputs": [
    {
     "name": "stdout",
     "output_type": "stream",
     "text": [
      "iter = 1, docs = 5786 done                    \n",
      "iter = 2, docs = 5786 done                    \n",
      "iter = 3, docs = 5786 done                    \n",
      "iter = 4, docs = 5786 done                    \n",
      "iter = 5, docs = 5786 done                    \n",
      "iter = 6, docs = 5786 done                    \n",
      "CPU times: user 1min 30s, sys: 646 ms, total: 1min 31s\n",
      "Wall time: 26.1 s\n"
     ]
    }
   ],
   "source": [
    "%%time\n",
    "class FastTextCorpus:\n",
    "    def __init__(self, corpus):\n",
    "        self.corpus = corpus\n",
    "        self.n_iter = 0\n",
    "    def __iter__(self):\n",
    "        for i, doc in enumerate(self.corpus):\n",
    "            if i % 500 == 0 and i > 0:\n",
    "                print('\\riter = {}, sents = {} ...'.format(self.n_iter, i), end='')\n",
    "            yield doc.split()\n",
    "        self.n_iter += 1\n",
    "        print('\\riter = {}, docs = {} done{}'.format(self.n_iter, i, ' '*20))\n",
    "        \n",
    "corpus = FastTextCorpus(encoded_corpus)\n",
    "fasttext_model = FastText(\n",
    "    corpus,\n",
    "    size=100,\n",
    "    seed=191212,\n",
    "    workers=6,\n",
    "    window=3,\n",
    "    min_count=6,\n",
    "    min_n=3,\n",
    "    max_n=6,\n",
    ")"
   ]
  },
  {
   "cell_type": "code",
   "execution_count": 17,
   "metadata": {},
   "outputs": [],
   "source": [
    "def most_similar(query, topn=10):\n",
    "    query_ = encode(query)\n",
    "    similars = fasttext_model.wv.most_similar(query_, topn=topn)\n",
    "    similars = [(decode(word), sim) for word, sim in similars]\n",
    "    return similars"
   ]
  },
  {
   "cell_type": "code",
   "execution_count": 18,
   "metadata": {},
   "outputs": [
    {
     "data": {
      "text/plain": [
       "[('남자아이', 0.9715147018432617),\n",
       " ('경희아이', 0.9466871023178101),\n",
       " ('아이돌이', 0.9300433397293091),\n",
       " ('우리아이', 0.9276459813117981),\n",
       " ('어린아이', 0.9251127243041992),\n",
       " ('외동아이', 0.923448383808136),\n",
       " ('큰아이', 0.9182673692703247),\n",
       " ('아이템이', 0.9045064449310303),\n",
       " ('아이돌보미가', 0.895254373550415),\n",
       " ('아이디어가', 0.8829282522201538)]"
      ]
     },
     "execution_count": 18,
     "metadata": {},
     "output_type": "execute_result"
    }
   ],
   "source": [
    "most_similar(\"여자아이\")"
   ]
  },
  {
   "cell_type": "code",
   "execution_count": 19,
   "metadata": {},
   "outputs": [
    {
     "data": {
      "text/plain": [
       "[('영아', 0.8956602215766907),\n",
       " ('역아', 0.8942204117774963),\n",
       " ('미숙아', 0.8842177987098694),\n",
       " ('소아', 0.8608177304267883),\n",
       " ('성빈아', 0.860334038734436),\n",
       " ('모아', 0.850426197052002),\n",
       " ('조산아', 0.8490022420883179),\n",
       " ('이케아', 0.8407268524169922),\n",
       " ('네오포비아', 0.8357229232788086),\n",
       " ('복숭아', 0.832750141620636)]"
      ]
     },
     "execution_count": 19,
     "metadata": {},
     "output_type": "execute_result"
    }
   ],
   "source": [
    "most_similar(\"여아\")"
   ]
  },
  {
   "cell_type": "code",
   "execution_count": 20,
   "metadata": {},
   "outputs": [
    {
     "data": {
      "text/plain": [
       "[('여자아이', 0.9715147614479065),\n",
       " ('큰아이', 0.9432119131088257),\n",
       " ('외동아이', 0.9336391687393188),\n",
       " ('경희아이', 0.9319890737533569),\n",
       " ('아이돌이', 0.918034017086029),\n",
       " ('우리아이', 0.9120261073112488),\n",
       " ('어린아이', 0.9109992384910583),\n",
       " ('작은아이', 0.9014006853103638),\n",
       " ('아이템이', 0.8865754008293152),\n",
       " ('남자아이가', 0.8698145151138306)]"
      ]
     },
     "execution_count": 20,
     "metadata": {},
     "output_type": "execute_result"
    }
   ],
   "source": [
    "most_similar(\"남자아이\")"
   ]
  },
  {
   "cell_type": "code",
   "execution_count": 21,
   "metadata": {},
   "outputs": [
    {
     "data": {
      "text/plain": [
       "[('참아', 0.8923928737640381),\n",
       " ('삼아', 0.8810754418373108),\n",
       " ('짧아', 0.8605631589889526),\n",
       " ('낳아', 0.8422902226448059),\n",
       " ('낮아', 0.8398402333259583),\n",
       " ('쌓아', 0.8363903164863586),\n",
       " ('동남아', 0.8339701890945435),\n",
       " ('귀담아', 0.8317490220069885),\n",
       " ('닮아', 0.8304253816604614),\n",
       " ('닿아', 0.8183083534240723)]"
      ]
     },
     "execution_count": 21,
     "metadata": {},
     "output_type": "execute_result"
    }
   ],
   "source": [
    "most_similar(\"남아\")"
   ]
  },
  {
   "cell_type": "code",
   "execution_count": 22,
   "metadata": {},
   "outputs": [
    {
     "data": {
      "text/plain": [
       "[('무뇌아', 0.8737269639968872),\n",
       " ('치아관리', 0.841048002243042),\n",
       " ('소아', 0.8387740850448608),\n",
       " ('코코아', 0.8343782424926758),\n",
       " ('박테리아', 0.8338569402694702),\n",
       " ('모아', 0.8238998651504517),\n",
       " ('성빈아', 0.8150904774665833),\n",
       " ('단태아', 0.8110718131065369),\n",
       " ('아토피', 0.8068982362747192),\n",
       " ('아토팜', 0.7934300899505615)]"
      ]
     },
     "execution_count": 22,
     "metadata": {},
     "output_type": "execute_result"
    }
   ],
   "source": [
    "most_similar(\"치아\")"
   ]
  },
  {
   "cell_type": "code",
   "execution_count": 23,
   "metadata": {},
   "outputs": [
    {
     "data": {
      "text/plain": [
       "[('이어갈', 0.9305525422096252),\n",
       " ('이날', 0.9090676307678223),\n",
       " ('이겨낼', 0.8946222066879272),\n",
       " ('이달', 0.8883301615715027),\n",
       " ('이길', 0.8756088614463806),\n",
       " ('이룰', 0.8683262467384338),\n",
       " ('이행할', 0.8568215370178223),\n",
       " ('이동할', 0.8438403606414795),\n",
       " ('이쯤', 0.8256165981292725),\n",
       " ('이걸', 0.8225879669189453)]"
      ]
     },
     "execution_count": 23,
     "metadata": {},
     "output_type": "execute_result"
    }
   ],
   "source": [
    "most_similar(\"이빨\")"
   ]
  },
  {
   "cell_type": "code",
   "execution_count": 24,
   "metadata": {},
   "outputs": [
    {
     "data": {
      "text/plain": [
       "[('공놀이', 0.9686663746833801),\n",
       " ('블록놀이', 0.9656417965888977),\n",
       " ('까꿍놀이', 0.9508370757102966),\n",
       " ('음악놀이', 0.9466544389724731),\n",
       " ('공구놀이', 0.946345329284668),\n",
       " ('모래놀이', 0.941689133644104),\n",
       " ('촉감놀이', 0.9382611513137817),\n",
       " ('소꿉놀이', 0.9382520914077759),\n",
       " ('오감놀이', 0.9297782778739929),\n",
       " ('놀이터가', 0.929618239402771)]"
      ]
     },
     "execution_count": 24,
     "metadata": {},
     "output_type": "execute_result"
    }
   ],
   "source": [
    "most_similar(\"놀이\")"
   ]
  },
  {
   "cell_type": "code",
   "execution_count": 25,
   "metadata": {},
   "outputs": [
    {
     "data": {
      "text/plain": [
       "[('열감기', 0.9675351977348328),\n",
       " ('코감기', 0.9626106023788452),\n",
       " ('증기', 0.9424244165420532),\n",
       " ('환절기', 0.9331618547439575),\n",
       " ('장기', 0.9271147847175598),\n",
       " ('쉽기', 0.9224294424057007),\n",
       " ('흡입기', 0.920589029788971),\n",
       " ('황기', 0.9200927019119263),\n",
       " ('변기', 0.9173961281776428),\n",
       " ('감염되기', 0.9128080606460571)]"
      ]
     },
     "execution_count": 25,
     "metadata": {},
     "output_type": "execute_result"
    }
   ],
   "source": [
    "most_similar(\"감기\")"
   ]
  },
  {
   "cell_type": "markdown",
   "metadata": {},
   "source": [
    "### 결과 확인\n",
    "하이퍼 파라미터 조정을 다양하게 시도해보며 결과를 확인해봤지만, 역시 사용하기 어렵겠다는 결론을 내렸다. 말뭉치가 부족한 것이 원인이 아닐까?"
   ]
  },
  {
   "cell_type": "code",
   "execution_count": null,
   "metadata": {},
   "outputs": [],
   "source": []
  }
 ],
 "metadata": {
  "kernelspec": {
   "display_name": "Python 3",
   "language": "python",
   "name": "python3"
  },
  "language_info": {
   "codemirror_mode": {
    "name": "ipython",
    "version": 3
   },
   "file_extension": ".py",
   "mimetype": "text/x-python",
   "name": "python",
   "nbconvert_exporter": "python",
   "pygments_lexer": "ipython3",
   "version": "3.7.5"
  }
 },
 "nbformat": 4,
 "nbformat_minor": 2
}
