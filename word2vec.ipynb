{
 "cells": [
  {
   "cell_type": "markdown",
   "metadata": {},
   "source": [
    "# word2vec 단어 간 유사도 체크\n",
    "- 최대한 육아를 주제로 한 말뭉치를 모아보았다. (Total 2,755 documents)\n",
    "- 우리가 원하는 의도에 일치하는 단어 간 유사도 결과가 나오는지를 확인하는 것이 목적이다."
   ]
  },
  {
   "cell_type": "markdown",
   "metadata": {},
   "source": [
    "## Import"
   ]
  },
  {
   "cell_type": "code",
   "execution_count": 1,
   "metadata": {},
   "outputs": [],
   "source": [
    "import pandas as pd\n",
    "import numpy as np\n",
    "import re\n",
    "\n",
    "from konlpy.tag import Mecab\n",
    "from konlpy.tag import Komoran\n",
    "from gensim.models import Word2Vec"
   ]
  },
  {
   "cell_type": "markdown",
   "metadata": {},
   "source": [
    "### Datas"
   ]
  },
  {
   "cell_type": "code",
   "execution_count": 2,
   "metadata": {},
   "outputs": [],
   "source": [
    "df1 = pd.read_csv(\"data/maeili.csv\", encoding='utf-8')\n",
    "df2 = pd.read_csv(\"data/baby.csv\", encoding='utf-8')\n",
    "df3 = pd.read_csv(\"data/toys.csv\", encoding='utf-8')\n",
    "df4 = pd.read_csv(\"data/seoulchildcare.csv\", encoding='utf-8')\n",
    "df5 = pd.read_csv(\"data/babynews_DLC.csv\", encoding='utf-8')\n",
    "df6 = pd.read_csv(\"data/ildongfoodis.csv\", encoding='utf-8')\n",
    "df7 = pd.read_csv(\"data/momsmagazine.csv\", encoding='utf-8')\n",
    "df8 = pd.read_csv(\"data/ange.csv\", encoding='utf-8')\n",
    "df9 = pd.read_csv(\"data/babytimes.csv\", encoding='utf-8')\n",
    "df10 = pd.read_csv(\"data/daekyo.csv\", encoding='utf-8')\n",
    "df11 = pd.read_csv(\"data/mom&enfant.csv\", encoding='utf-8')\n",
    "df12 = pd.read_csv(\"data/namyang.csv\", encoding='utf-8')"
   ]
  },
  {
   "cell_type": "markdown",
   "metadata": {},
   "source": [
    "### Concatenate Dataframe"
   ]
  },
  {
   "cell_type": "code",
   "execution_count": 3,
   "metadata": {},
   "outputs": [
    {
     "data": {
      "text/html": [
       "<div>\n",
       "<style scoped>\n",
       "    .dataframe tbody tr th:only-of-type {\n",
       "        vertical-align: middle;\n",
       "    }\n",
       "\n",
       "    .dataframe tbody tr th {\n",
       "        vertical-align: top;\n",
       "    }\n",
       "\n",
       "    .dataframe thead th {\n",
       "        text-align: right;\n",
       "    }\n",
       "</style>\n",
       "<table border=\"1\" class=\"dataframe\">\n",
       "  <thead>\n",
       "    <tr style=\"text-align: right;\">\n",
       "      <th></th>\n",
       "      <th>text</th>\n",
       "    </tr>\n",
       "  </thead>\n",
       "  <tbody>\n",
       "    <tr>\n",
       "      <th>27050</th>\n",
       "      <td>아토피에 유전적인 요인이 작용한다는 사실 알고 계시나요 유전적인 요인 뿐 아니라 아...</td>\n",
       "    </tr>\n",
       "    <tr>\n",
       "      <th>27051</th>\n",
       "      <td>1st 시기에 따라 필요한 영양소를 충분히 뱃속의 아이는 엄마가 먹는 것을 함께 먹...</td>\n",
       "    </tr>\n",
       "    <tr>\n",
       "      <th>27052</th>\n",
       "      <td>분만 여성만이 누릴 수 있는 특권 대부분의 여성들은 임신과 분만이라는 과정을 경험하...</td>\n",
       "    </tr>\n",
       "    <tr>\n",
       "      <th>27053</th>\n",
       "      <td>최근 전자파가 건강상의 문제를 일으킬 수 있다는 견해가 많아지면서 임신부들 또한 가...</td>\n",
       "    </tr>\n",
       "    <tr>\n",
       "      <th>27054</th>\n",
       "      <td>임신 기간을 설명할 때 헷갈리는 경우가 많다 책을 볼 때 의사의 설명을 들을 때 정...</td>\n",
       "    </tr>\n",
       "  </tbody>\n",
       "</table>\n",
       "</div>"
      ],
      "text/plain": [
       "                                                    text\n",
       "27050  아토피에 유전적인 요인이 작용한다는 사실 알고 계시나요 유전적인 요인 뿐 아니라 아...\n",
       "27051  1st 시기에 따라 필요한 영양소를 충분히 뱃속의 아이는 엄마가 먹는 것을 함께 먹...\n",
       "27052  분만 여성만이 누릴 수 있는 특권 대부분의 여성들은 임신과 분만이라는 과정을 경험하...\n",
       "27053  최근 전자파가 건강상의 문제를 일으킬 수 있다는 견해가 많아지면서 임신부들 또한 가...\n",
       "27054  임신 기간을 설명할 때 헷갈리는 경우가 많다 책을 볼 때 의사의 설명을 들을 때 정..."
      ]
     },
     "execution_count": 3,
     "metadata": {},
     "output_type": "execute_result"
    }
   ],
   "source": [
    "df = pd.concat([df1.text, df2.text, df3.text, df4.text, df5.text,\n",
    "                df6.text, df7.text, df8.text, df9.text, df10.text,\n",
    "                df11.text, df12.text])\n",
    "df = pd.DataFrame(df).reset_index(drop=True)\n",
    "df.tail()"
   ]
  },
  {
   "cell_type": "markdown",
   "metadata": {},
   "source": [
    "### Preprocessing"
   ]
  },
  {
   "cell_type": "code",
   "execution_count": 4,
   "metadata": {},
   "outputs": [],
   "source": [
    "def cleaningText(text):\n",
    "    text = re.sub('&nbsp;|\\xa0|\\u200b|\\r|\\n|\\t', ' ', text)\n",
    "    text = re.sub('<.+>|【.+】|\\[.+\\]', ' ', text)\n",
    "    text = re.sub('[-_=+,/\\?;:^$.@*\\\"※~&%ㆍ!”“’「」『』〈〉\\\\‘|\\(\\)\\{\\}\\[\\]\\<\\>`\\'…《》]', ' ', text)\n",
    "    text = re.sub('[㈜×–～→▪‧•∘✽○□◇△▽▷◁☆◈◐▶▼▲◆★♦■♥️●♠🖤]', ' ', text)\n",
    "    text = re.sub('[①②③④⑤⑥⑦⑧⑨⑩⑪⑫⑬⑭⑮⑯⑰⑱⑲⑳]', ' ', text)\n",
    "    text = re.sub('[➊❷➌❹❺❻❼❽❾❿]', ' ', text)\n",
    "    text = re.sub('http.+com|http.+co|http.+kr|www.+kr|www.+com|www.+net|http.+net', ' ', text)\n",
    "    text = re.sub(\"\\s.+\\s기자\", '', text)\n",
    "    text = re.sub('ⓒ\\S+\\s|㈜\\S+\\s|홈페이지\\S+\\s|전화\\S+\\s|대표전화\\S+\\s|☎\\S+\\s|http\\S+\\s', '', text)\n",
    "    \n",
    "    text = re.sub('\\s+', ' ', text)\n",
    "    text = text.strip()\n",
    "\n",
    "    return text\n"
   ]
  },
  {
   "cell_type": "code",
   "execution_count": 5,
   "metadata": {},
   "outputs": [],
   "source": [
    "df = df.drop(index=[952, 955, 956, 960, 962, 964, 1165, 1240, 1322])\n",
    "df = df.drop_duplicates()\n",
    "df = df.dropna()\n",
    "df = pd.DataFrame(df).reset_index(drop=True)"
   ]
  },
  {
   "cell_type": "code",
   "execution_count": 6,
   "metadata": {},
   "outputs": [],
   "source": [
    "df['text'] = df['text'].apply(cleaningText)\n",
    "df = df.dropna()\n",
    "df.to_csv('data/text_for_word2vec.csv', index=False, encoding='utf-8')"
   ]
  },
  {
   "cell_type": "code",
   "execution_count": 7,
   "metadata": {},
   "outputs": [
    {
     "data": {
      "text/html": [
       "<div>\n",
       "<style scoped>\n",
       "    .dataframe tbody tr th:only-of-type {\n",
       "        vertical-align: middle;\n",
       "    }\n",
       "\n",
       "    .dataframe tbody tr th {\n",
       "        vertical-align: top;\n",
       "    }\n",
       "\n",
       "    .dataframe thead th {\n",
       "        text-align: right;\n",
       "    }\n",
       "</style>\n",
       "<table border=\"1\" class=\"dataframe\">\n",
       "  <thead>\n",
       "    <tr style=\"text-align: right;\">\n",
       "      <th></th>\n",
       "      <th>text</th>\n",
       "    </tr>\n",
       "  </thead>\n",
       "  <tbody>\n",
       "    <tr>\n",
       "      <th>0</th>\n",
       "      <td>6살 남아 입니다 회사 복직 후 3살부터 주중에는 외할머니댁에서 2살 4살 터울의 ...</td>\n",
       "    </tr>\n",
       "    <tr>\n",
       "      <th>1</th>\n",
       "      <td>요즘 들어 아빠가 아이에게 다가가려고 하면 엄마한테 갈 거야 하면서 엄마를 유독 찾...</td>\n",
       "    </tr>\n",
       "    <tr>\n",
       "      <th>2</th>\n",
       "      <td>둘째가 태어나면 첫째가 힘들 거라는 건 예상하고 있었지만 툭하면 삐치고 울고 좀처럼...</td>\n",
       "    </tr>\n",
       "    <tr>\n",
       "      <th>3</th>\n",
       "      <td>20개월 남아가 있고 임신 8개월차로 두 아기의 엄마입니다 첫 아이는 잠자리 독립을...</td>\n",
       "    </tr>\n",
       "    <tr>\n",
       "      <th>4</th>\n",
       "      <td>14개월 남자 아기인데 심하게 깨무는 버릇이 있어요 전에는 졸릴 때 주로 물곤 했는...</td>\n",
       "    </tr>\n",
       "    <tr>\n",
       "      <th>...</th>\n",
       "      <td>...</td>\n",
       "    </tr>\n",
       "    <tr>\n",
       "      <th>25344</th>\n",
       "      <td>가임기 연력 여성의 흡연률 증가와 그 폐해 현대 여성은 다양한 사회활동에 참여하고 ...</td>\n",
       "    </tr>\n",
       "    <tr>\n",
       "      <th>25345</th>\n",
       "      <td>아토피에 유전적인 요인이 작용한다는 사실 알고 계시나요 유전적인 요인 뿐 아니라 아...</td>\n",
       "    </tr>\n",
       "    <tr>\n",
       "      <th>25346</th>\n",
       "      <td>1st 시기에 따라 필요한 영양소를 충분히 뱃속의 아이는 엄마가 먹는 것을 함께 먹...</td>\n",
       "    </tr>\n",
       "    <tr>\n",
       "      <th>25347</th>\n",
       "      <td>분만 여성만이 누릴 수 있는 특권 대부분의 여성들은 임신과 분만이라는 과정을 경험하...</td>\n",
       "    </tr>\n",
       "    <tr>\n",
       "      <th>25348</th>\n",
       "      <td>최근 전자파가 건강상의 문제를 일으킬 수 있다는 견해가 많아지면서 임신부들 또한 가...</td>\n",
       "    </tr>\n",
       "  </tbody>\n",
       "</table>\n",
       "<p>25349 rows × 1 columns</p>\n",
       "</div>"
      ],
      "text/plain": [
       "                                                    text\n",
       "0      6살 남아 입니다 회사 복직 후 3살부터 주중에는 외할머니댁에서 2살 4살 터울의 ...\n",
       "1      요즘 들어 아빠가 아이에게 다가가려고 하면 엄마한테 갈 거야 하면서 엄마를 유독 찾...\n",
       "2      둘째가 태어나면 첫째가 힘들 거라는 건 예상하고 있었지만 툭하면 삐치고 울고 좀처럼...\n",
       "3      20개월 남아가 있고 임신 8개월차로 두 아기의 엄마입니다 첫 아이는 잠자리 독립을...\n",
       "4      14개월 남자 아기인데 심하게 깨무는 버릇이 있어요 전에는 졸릴 때 주로 물곤 했는...\n",
       "...                                                  ...\n",
       "25344  가임기 연력 여성의 흡연률 증가와 그 폐해 현대 여성은 다양한 사회활동에 참여하고 ...\n",
       "25345  아토피에 유전적인 요인이 작용한다는 사실 알고 계시나요 유전적인 요인 뿐 아니라 아...\n",
       "25346  1st 시기에 따라 필요한 영양소를 충분히 뱃속의 아이는 엄마가 먹는 것을 함께 먹...\n",
       "25347  분만 여성만이 누릴 수 있는 특권 대부분의 여성들은 임신과 분만이라는 과정을 경험하...\n",
       "25348  최근 전자파가 건강상의 문제를 일으킬 수 있다는 견해가 많아지면서 임신부들 또한 가...\n",
       "\n",
       "[25349 rows x 1 columns]"
      ]
     },
     "execution_count": 7,
     "metadata": {},
     "output_type": "execute_result"
    }
   ],
   "source": [
    "df"
   ]
  },
  {
   "cell_type": "markdown",
   "metadata": {},
   "source": [
    "### Add tokenized column"
   ]
  },
  {
   "cell_type": "markdown",
   "metadata": {},
   "source": [
    "191210 정체불명의 error 발생\n",
    "```\n",
    "NotImplementedError: Wrong number or type of arguments for overloaded function 'Tagger_parse'.\n",
    "  Possible C/C++ prototypes are:\n",
    "    MeCab::Tagger::parse(MeCab::Model const &,MeCab::Lattice *)\n",
    "    MeCab::Tagger::parse(MeCab::Lattice *) const\n",
    "    MeCab::Tagger::parse(char const *)\n",
    "```\n",
    "\n",
    "babynews 데이터가 추가된 후 갑자기 발생한 에러인데.. 왜인지 모르겠지만 해당 부분 데이터프레임만 따로 tokenize하는 것은 문제없이 돌아간다.  \n",
    "따라서 번거롭지만 분리하여 tokenizing 한 후에 합치기로 하였다.  \n",
    "\n",
    "-> 해결.. `NaN` value 문제였다(어이없게도 NaN 값이 중간에 섞여있었음;). 누락 데이터를 잘 체크하는 습관을 갖도록하자."
   ]
  },
  {
   "cell_type": "code",
   "execution_count": 8,
   "metadata": {},
   "outputs": [],
   "source": [
    "def tokenize(text):\n",
    "    tokenizer = Mecab()\n",
    "    text = tokenizer.morphs(text)\n",
    "#     text = ' '.join(text)\n",
    "    return text"
   ]
  },
  {
   "cell_type": "code",
   "execution_count": 9,
   "metadata": {},
   "outputs": [
    {
     "name": "stdout",
     "output_type": "stream",
     "text": [
      "CPU times: user 1min, sys: 29.2 s, total: 1min 29s\n",
      "Wall time: 1min 29s\n"
     ]
    },
    {
     "data": {
      "text/html": [
       "<div>\n",
       "<style scoped>\n",
       "    .dataframe tbody tr th:only-of-type {\n",
       "        vertical-align: middle;\n",
       "    }\n",
       "\n",
       "    .dataframe tbody tr th {\n",
       "        vertical-align: top;\n",
       "    }\n",
       "\n",
       "    .dataframe thead th {\n",
       "        text-align: right;\n",
       "    }\n",
       "</style>\n",
       "<table border=\"1\" class=\"dataframe\">\n",
       "  <thead>\n",
       "    <tr style=\"text-align: right;\">\n",
       "      <th></th>\n",
       "      <th>text</th>\n",
       "      <th>tokenized</th>\n",
       "    </tr>\n",
       "  </thead>\n",
       "  <tbody>\n",
       "    <tr>\n",
       "      <th>25344</th>\n",
       "      <td>가임기 연력 여성의 흡연률 증가와 그 폐해 현대 여성은 다양한 사회활동에 참여하고 ...</td>\n",
       "      <td>[가, 임기, 연력, 여성, 의, 흡연, 률, 증가, 와, 그, 폐해, 현대, 여성...</td>\n",
       "    </tr>\n",
       "    <tr>\n",
       "      <th>25345</th>\n",
       "      <td>아토피에 유전적인 요인이 작용한다는 사실 알고 계시나요 유전적인 요인 뿐 아니라 아...</td>\n",
       "      <td>[아토피, 에, 유전, 적, 인, 요인, 이, 작용, 한다는, 사실, 알, 고, 계...</td>\n",
       "    </tr>\n",
       "    <tr>\n",
       "      <th>25346</th>\n",
       "      <td>1st 시기에 따라 필요한 영양소를 충분히 뱃속의 아이는 엄마가 먹는 것을 함께 먹...</td>\n",
       "      <td>[1, st, 시기, 에, 따라, 필요, 한, 영양소, 를, 충분히, 뱃속, 의, ...</td>\n",
       "    </tr>\n",
       "    <tr>\n",
       "      <th>25347</th>\n",
       "      <td>분만 여성만이 누릴 수 있는 특권 대부분의 여성들은 임신과 분만이라는 과정을 경험하...</td>\n",
       "      <td>[분만, 여성, 만, 이, 누릴, 수, 있, 는, 특권, 대부분, 의, 여성, 들,...</td>\n",
       "    </tr>\n",
       "    <tr>\n",
       "      <th>25348</th>\n",
       "      <td>최근 전자파가 건강상의 문제를 일으킬 수 있다는 견해가 많아지면서 임신부들 또한 가...</td>\n",
       "      <td>[최근, 전자파, 가, 건강, 상, 의, 문제, 를, 일으킬, 수, 있, 다는, 견...</td>\n",
       "    </tr>\n",
       "  </tbody>\n",
       "</table>\n",
       "</div>"
      ],
      "text/plain": [
       "                                                    text  \\\n",
       "25344  가임기 연력 여성의 흡연률 증가와 그 폐해 현대 여성은 다양한 사회활동에 참여하고 ...   \n",
       "25345  아토피에 유전적인 요인이 작용한다는 사실 알고 계시나요 유전적인 요인 뿐 아니라 아...   \n",
       "25346  1st 시기에 따라 필요한 영양소를 충분히 뱃속의 아이는 엄마가 먹는 것을 함께 먹...   \n",
       "25347  분만 여성만이 누릴 수 있는 특권 대부분의 여성들은 임신과 분만이라는 과정을 경험하...   \n",
       "25348  최근 전자파가 건강상의 문제를 일으킬 수 있다는 견해가 많아지면서 임신부들 또한 가...   \n",
       "\n",
       "                                               tokenized  \n",
       "25344  [가, 임기, 연력, 여성, 의, 흡연, 률, 증가, 와, 그, 폐해, 현대, 여성...  \n",
       "25345  [아토피, 에, 유전, 적, 인, 요인, 이, 작용, 한다는, 사실, 알, 고, 계...  \n",
       "25346  [1, st, 시기, 에, 따라, 필요, 한, 영양소, 를, 충분히, 뱃속, 의, ...  \n",
       "25347  [분만, 여성, 만, 이, 누릴, 수, 있, 는, 특권, 대부분, 의, 여성, 들,...  \n",
       "25348  [최근, 전자파, 가, 건강, 상, 의, 문제, 를, 일으킬, 수, 있, 다는, 견...  "
      ]
     },
     "execution_count": 9,
     "metadata": {},
     "output_type": "execute_result"
    }
   ],
   "source": [
    "%%time\n",
    "df['tokenized'] = df['text'].apply(tokenize)\n",
    "df.tail()"
   ]
  },
  {
   "cell_type": "code",
   "execution_count": 10,
   "metadata": {},
   "outputs": [
    {
     "data": {
      "text/plain": [
       "text         0\n",
       "tokenized    0\n",
       "dtype: int64"
      ]
     },
     "execution_count": 10,
     "metadata": {},
     "output_type": "execute_result"
    }
   ],
   "source": [
    "df.isnull().sum()"
   ]
  },
  {
   "cell_type": "markdown",
   "metadata": {},
   "source": [
    "## Train Word2Vec"
   ]
  },
  {
   "cell_type": "markdown",
   "metadata": {},
   "source": [
    "#### WTF error\n",
    "- df를 csv 형식으로 저장한 후 다시 로드하면 Word2Vec 학습에 인코딩 문제가 생긴다.\n",
    "- 더 자세히 파고들어보니 list 형식의 column이 csv로 저장할 때 강제로 string 타입으로 형변환 됨.\n",
    "- 이렇게 형변환 된 column을 Word2Vec 학습에 사용할 시 한글 텍스트가 깨지는 현상이 발생함.. 정확한 원인은 아직 모르겠다."
   ]
  },
  {
   "cell_type": "code",
   "execution_count": 11,
   "metadata": {},
   "outputs": [],
   "source": [
    "# df = pd.read_csv('text_for_word2vec.csv', encoding='utf-8')"
   ]
  },
  {
   "cell_type": "markdown",
   "metadata": {},
   "source": [
    "그러므로 저장 & 로드 과정 생략하고 바로 말뭉치를 numpy ndarray형식으로 변환"
   ]
  },
  {
   "cell_type": "code",
   "execution_count": 12,
   "metadata": {},
   "outputs": [
    {
     "data": {
      "text/plain": [
       "numpy.ndarray"
      ]
     },
     "execution_count": 12,
     "metadata": {},
     "output_type": "execute_result"
    }
   ],
   "source": [
    "corpus = np.array(df.tokenized)\n",
    "type(corpus)"
   ]
  },
  {
   "cell_type": "code",
   "execution_count": 13,
   "metadata": {},
   "outputs": [
    {
     "name": "stdout",
     "output_type": "stream",
     "text": [
      "CPU times: user 8min 55s, sys: 1.08 s, total: 8min 56s\n",
      "Wall time: 2min 20s\n"
     ]
    }
   ],
   "source": [
    "%%time\n",
    "model_all = Word2Vec(corpus,\n",
    "                     size=200,\n",
    "                     window=6,\n",
    "                     min_count=5,\n",
    "                     workers=4,\n",
    "                     seed=1,\n",
    "                     sg=1)\n",
    "model_all.save('data/tokmom_word2vec_all.model')"
   ]
  },
  {
   "cell_type": "markdown",
   "metadata": {},
   "source": [
    "#### 유사어 분석"
   ]
  },
  {
   "cell_type": "code",
   "execution_count": 14,
   "metadata": {},
   "outputs": [
    {
     "data": {
      "text/plain": [
       "[('소꿉', 0.6875901818275452),\n",
       " ('공놀이', 0.657809853553772),\n",
       " ('불록', 0.6439043283462524),\n",
       " ('무너뜨리기', 0.6286779642105103),\n",
       " ('기차놀이', 0.6262086629867554),\n",
       " ('음률', 0.6185630559921265),\n",
       " ('집짓기', 0.6170854568481445),\n",
       " ('손유희', 0.6154947280883789),\n",
       " ('점토', 0.6150206327438354),\n",
       " ('짝짜꿍', 0.6118137240409851)]"
      ]
     },
     "execution_count": 14,
     "metadata": {},
     "output_type": "execute_result"
    }
   ],
   "source": [
    "model_all.wv.similar_by_word(\"놀이\")"
   ]
  },
  {
   "cell_type": "code",
   "execution_count": 15,
   "metadata": {},
   "outputs": [
    {
     "data": {
      "text/plain": [
       "[('아기', 0.6730787754058838),\n",
       " ('어린아이', 0.5907984375953674),\n",
       " ('친해진다', 0.5837182998657227),\n",
       " ('바꿔라', 0.5807464122772217),\n",
       " ('엄마', 0.5802526473999023),\n",
       " ('갓난아기', 0.5787348747253418),\n",
       " ('아이라', 0.5763530731201172),\n",
       " ('수줍어하', 0.5753364562988281),\n",
       " ('어울려야', 0.5752732753753662),\n",
       " ('지나갑니다', 0.5706583261489868)]"
      ]
     },
     "execution_count": 15,
     "metadata": {},
     "output_type": "execute_result"
    }
   ],
   "source": [
    "model_all.wv.similar_by_word(\"아이\")"
   ]
  },
  {
   "cell_type": "code",
   "execution_count": 16,
   "metadata": {},
   "outputs": [
    {
     "data": {
      "text/plain": [
       "[('잇몸', 0.7870566248893738),\n",
       " ('영구치', 0.7553123235702515),\n",
       " ('충치', 0.7464313507080078),\n",
       " ('젖니', 0.7303667068481445),\n",
       " ('턱뼈', 0.6853368282318115),\n",
       " ('어금니', 0.6830192804336548),\n",
       " ('앞니', 0.677143394947052),\n",
       " ('에나멜질', 0.6670094728469849),\n",
       " ('유치', 0.6667609214782715),\n",
       " ('치석', 0.663247287273407)]"
      ]
     },
     "execution_count": 16,
     "metadata": {},
     "output_type": "execute_result"
    }
   ],
   "source": [
    "model_all.wv.similar_by_word(\"치아\")"
   ]
  },
  {
   "cell_type": "code",
   "execution_count": 17,
   "metadata": {},
   "outputs": [
    {
     "data": {
      "text/plain": [
       "[('혓바닥', 0.7488198280334473),\n",
       " ('거뭇', 0.7317402362823486),\n",
       " ('거스러미', 0.7167705297470093),\n",
       " ('허옇', 0.7036391496658325),\n",
       " ('갈라진다', 0.6965320706367493),\n",
       " ('생채기', 0.6960688829421997),\n",
       " ('작아져서', 0.6927667260169983),\n",
       " ('돌덩이', 0.691351056098938),\n",
       " ('뜯어내', 0.6902056932449341),\n",
       " ('그리곤', 0.6883012652397156)]"
      ]
     },
     "execution_count": 17,
     "metadata": {},
     "output_type": "execute_result"
    }
   ],
   "source": [
    "model_all.wv.similar_by_word(\"이빨\")"
   ]
  },
  {
   "cell_type": "code",
   "execution_count": 18,
   "metadata": {},
   "outputs": [
    {
     "data": {
      "text/plain": [
       "[('목감기', 0.7839117050170898),\n",
       " ('코감기', 0.7689055800437927),\n",
       " ('기침감기', 0.7520759105682373),\n",
       " ('독감', 0.7218563556671143),\n",
       " ('편도염', 0.7058274745941162),\n",
       " ('환절기', 0.6969997882843018),\n",
       " ('냉방병', 0.6951795816421509),\n",
       " ('기관지염', 0.6949224472045898),\n",
       " ('호흡기', 0.6901829838752747),\n",
       " ('잔병', 0.6875166893005371)]"
      ]
     },
     "execution_count": 18,
     "metadata": {},
     "output_type": "execute_result"
    }
   ],
   "source": [
    "model_all.wv.similar_by_word(\"감기\")"
   ]
  },
  {
   "cell_type": "code",
   "execution_count": 19,
   "metadata": {},
   "outputs": [
    {
     "data": {
      "text/plain": [
       "[('고열로', 0.5601767897605896),\n",
       " ('고열', 0.5428673028945923),\n",
       " ('미열', 0.5291249752044678),\n",
       " ('성경', 0.5286558866500854),\n",
       " ('들어온다고', 0.5261867642402649),\n",
       " ('오한', 0.5185509324073792),\n",
       " ('외감', 0.5166741609573364),\n",
       " ('사병', 0.5139747858047485),\n",
       " ('어지러울', 0.49629321694374084),\n",
       " ('심열', 0.4948289692401886)]"
      ]
     },
     "execution_count": 19,
     "metadata": {},
     "output_type": "execute_result"
    }
   ],
   "source": [
    "model_all.wv.similar_by_word(\"열\")"
   ]
  },
  {
   "cell_type": "code",
   "execution_count": 20,
   "metadata": {},
   "outputs": [
    {
     "data": {
      "text/plain": [
       "[('아프', 0.7680637836456299),\n",
       " ('아파서', 0.7262787818908691),\n",
       " ('아파하', 0.7010130882263184),\n",
       " ('지끈지끈', 0.6951578855514526),\n",
       " ('고파도', 0.6796739101409912),\n",
       " ('토해서', 0.678600549697876),\n",
       " ('아픈데', 0.6783655285835266),\n",
       " ('칭얼댄다', 0.6745063662528992),\n",
       " ('다쳐', 0.6729034185409546),\n",
       " ('먹먹해', 0.6720726490020752)]"
      ]
     },
     "execution_count": 20,
     "metadata": {},
     "output_type": "execute_result"
    }
   ],
   "source": [
    "model_all.wv.similar_by_word(\"아파\")"
   ]
  },
  {
   "cell_type": "code",
   "execution_count": 21,
   "metadata": {},
   "outputs": [
    {
     "data": {
      "text/plain": [
       "[('아파', 0.7680637836456299),\n",
       " ('아파하', 0.7122815847396851),\n",
       " ('지끈지끈', 0.7047165632247925),\n",
       " ('시큰거리', 0.6809597611427307),\n",
       " ('먹먹해', 0.6796846389770508),\n",
       " ('아파서', 0.6785406470298767),\n",
       " ('아픈데', 0.6740100383758545),\n",
       " ('결리', 0.673911988735199),\n",
       " ('아픈', 0.671587347984314),\n",
       " ('주물렀', 0.6704263687133789)]"
      ]
     },
     "execution_count": 21,
     "metadata": {},
     "output_type": "execute_result"
    }
   ],
   "source": [
    "model_all.wv.similar_by_word(\"아프\")"
   ]
  },
  {
   "cell_type": "code",
   "execution_count": 22,
   "metadata": {},
   "outputs": [
    {
     "data": {
      "text/plain": [
       "[('터뜨립니다', 0.683521032333374),\n",
       " ('터뜨린', 0.6515367031097412),\n",
       " ('터뜨린다', 0.649518609046936),\n",
       " ('터뜨릴', 0.6469658613204956),\n",
       " ('자지러질', 0.6336624622344971),\n",
       " ('지르기', 0.6222484111785889),\n",
       " ('옹알이', 0.6205344200134277),\n",
       " ('고래고래', 0.6195508241653442),\n",
       " ('우렁찬', 0.6156233549118042),\n",
       " ('신음', 0.6145595908164978)]"
      ]
     },
     "execution_count": 22,
     "metadata": {},
     "output_type": "execute_result"
    }
   ],
   "source": [
    "model_all.wv.similar_by_word(\"울음\")"
   ]
  },
  {
   "cell_type": "code",
   "execution_count": 23,
   "metadata": {},
   "outputs": [
    {
     "data": {
      "text/plain": [
       "[('여아', 0.8171848058700562),\n",
       " ('정상아', 0.5825268030166626),\n",
       " ('엘렉트라', 0.5784873366355896),\n",
       " ('남근기', 0.5734211206436157),\n",
       " ('018', 0.5476497411727905),\n",
       " ('내사시', 0.54610276222229),\n",
       " ('초산부', 0.5425697565078735),\n",
       " ('정상인', 0.5369791984558105),\n",
       " ('여자', 0.5365892648696899),\n",
       " ('보였으나', 0.5297045707702637)]"
      ]
     },
     "execution_count": 23,
     "metadata": {},
     "output_type": "execute_result"
    }
   ],
   "source": [
    "model_all.wv.similar_by_word(\"남아\")"
   ]
  },
  {
   "cell_type": "code",
   "execution_count": 24,
   "metadata": {},
   "outputs": [
    {
     "data": {
      "text/plain": [
       "[('남아', 0.8171848058700562),\n",
       " ('여자', 0.5540707111358643),\n",
       " ('아든', 0.5492159128189087),\n",
       " ('남자', 0.5310503244400024),\n",
       " ('정상아', 0.5236005187034607),\n",
       " ('617', 0.520268440246582),\n",
       " ('018', 0.5196837782859802),\n",
       " ('엘렉트라', 0.508274257183075),\n",
       " ('아인지', 0.5071039199829102),\n",
       " ('남근기', 0.5036231279373169)]"
      ]
     },
     "execution_count": 24,
     "metadata": {},
     "output_type": "execute_result"
    }
   ],
   "source": [
    "model_all.wv.similar_by_word(\"여아\")"
   ]
  },
  {
   "cell_type": "markdown",
   "metadata": {},
   "source": [
    "---"
   ]
  },
  {
   "cell_type": "markdown",
   "metadata": {},
   "source": [
    "## Only Noun"
   ]
  },
  {
   "cell_type": "markdown",
   "metadata": {},
   "source": [
    "- 이번에는 말뭉치에서 명사만 추출하여 결과를 비교해보자\n",
    "- 유사한 키워드 잡기를 목적으로 할 때는 명사만 추출하는 것이 더 적절한 듯"
   ]
  },
  {
   "cell_type": "code",
   "execution_count": 25,
   "metadata": {},
   "outputs": [
    {
     "name": "stdout",
     "output_type": "stream",
     "text": [
      "CPU times: user 1min 3s, sys: 29 s, total: 1min 32s\n",
      "Wall time: 1min 31s\n"
     ]
    }
   ],
   "source": [
    "%%time\n",
    "def extract_noun(text):\n",
    "    tokenizer = Mecab()\n",
    "    text = tokenizer.nouns(text)\n",
    "#     text = ' '.join(text)\n",
    "    return text\n",
    "    \n",
    "df['noun'] = df['text'].apply(extract_noun)\n",
    "df = df.dropna()"
   ]
  },
  {
   "cell_type": "code",
   "execution_count": 26,
   "metadata": {},
   "outputs": [],
   "source": [
    "noun_corpus = np.array(df.noun)"
   ]
  },
  {
   "cell_type": "code",
   "execution_count": 27,
   "metadata": {},
   "outputs": [
    {
     "name": "stdout",
     "output_type": "stream",
     "text": [
      "CPU times: user 1min 56s, sys: 305 ms, total: 1min 56s\n",
      "Wall time: 32.9 s\n"
     ]
    }
   ],
   "source": [
    "%%time\n",
    "model_noun = Word2Vec(noun_corpus,\n",
    "                      size=200,\n",
    "                      window=2,\n",
    "                      workers=4,\n",
    "                      min_count=5,\n",
    "                      seed=1,\n",
    "                      sg=1)\n",
    "model_noun.save('data/tokmom_word2vec_only_noun.model')"
   ]
  },
  {
   "cell_type": "code",
   "execution_count": 28,
   "metadata": {},
   "outputs": [
    {
     "data": {
      "text/plain": [
       "[('양육', 0.6147451400756836),\n",
       " ('워킹맘', 0.5736454725265503),\n",
       " ('열혈', 0.5688308477401733),\n",
       " ('자처', 0.5678771734237671),\n",
       " ('할당제', 0.5650680065155029),\n",
       " ('노동법', 0.5634746551513672),\n",
       " ('바깥일', 0.5617146492004395),\n",
       " ('재테크', 0.5529548525810242),\n",
       " ('짠돌이', 0.5514470338821411),\n",
       " ('독박', 0.5475138425827026)]"
      ]
     },
     "execution_count": 28,
     "metadata": {},
     "output_type": "execute_result"
    }
   ],
   "source": [
    "model_noun.wv.similar_by_word(\"육아\")"
   ]
  },
  {
   "cell_type": "code",
   "execution_count": 29,
   "metadata": {},
   "outputs": [
    {
     "data": {
      "text/plain": [
       "[('시부모', 0.819999098777771),\n",
       " ('처가', 0.7896651029586792),\n",
       " ('시어머니', 0.7749943733215332),\n",
       " ('친가', 0.7676393985748291),\n",
       " ('장모님', 0.7660458087921143),\n",
       " ('시누이', 0.7597363591194153),\n",
       " ('친정', 0.7590876221656799),\n",
       " ('친정어머니', 0.7583170533180237),\n",
       " ('며느리', 0.7528148889541626),\n",
       " ('식구', 0.739051103591919)]"
      ]
     },
     "execution_count": 29,
     "metadata": {},
     "output_type": "execute_result"
    }
   ],
   "source": [
    "model_noun.wv.similar_by_word(\"시댁\")"
   ]
  },
  {
   "cell_type": "code",
   "execution_count": 30,
   "metadata": {},
   "outputs": [
    {
     "data": {
      "text/plain": [
       "[('놀잇감', 0.6733739376068115),\n",
       " ('공놀이', 0.6566992402076721),\n",
       " ('소꿉', 0.6336125731468201),\n",
       " ('기차놀이', 0.6302005648612976),\n",
       " ('점토', 0.6167163848876953),\n",
       " ('지점토', 0.6129889488220215),\n",
       " ('줄다리기', 0.6077327728271484),\n",
       " ('도미노', 0.6064156293869019),\n",
       " ('종이접기', 0.6053587794303894),\n",
       " ('비석', 0.602632999420166)]"
      ]
     },
     "execution_count": 30,
     "metadata": {},
     "output_type": "execute_result"
    }
   ],
   "source": [
    "model_noun.wv.similar_by_word(\"놀이\")"
   ]
  },
  {
   "cell_type": "code",
   "execution_count": 31,
   "metadata": {},
   "outputs": [
    {
     "data": {
      "text/plain": [
       "[('어린아이', 0.6893014311790466),\n",
       " ('말자', 0.6803719997406006),\n",
       " ('갓난아기', 0.6760104894638062),\n",
       " ('아기', 0.6680408716201782),\n",
       " ('지레짐작', 0.6662882566452026),\n",
       " ('무의식중', 0.6636631488800049),\n",
       " ('아무거', 0.6632058620452881),\n",
       " ('안달복달', 0.6584646701812744),\n",
       " ('딴청', 0.6565935611724854),\n",
       " ('부리기', 0.6549821496009827)]"
      ]
     },
     "execution_count": 31,
     "metadata": {},
     "output_type": "execute_result"
    }
   ],
   "source": [
    "model_noun.wv.similar_by_word(\"아이\")"
   ]
  },
  {
   "cell_type": "code",
   "execution_count": 32,
   "metadata": {},
   "outputs": [
    {
     "data": {
      "text/plain": [
       "[('잇몸', 0.7748003005981445),\n",
       " ('영구치', 0.7499099373817444),\n",
       " ('충치', 0.7321614027023315),\n",
       " ('젖니', 0.7302331328392029),\n",
       " ('유치', 0.6928586959838867),\n",
       " ('어금니', 0.69121915102005),\n",
       " ('과잉치', 0.6696228981018066),\n",
       " ('법랑질', 0.6678387522697449),\n",
       " ('치근', 0.6618191003799438),\n",
       " ('앞니', 0.6617239117622375)]"
      ]
     },
     "execution_count": 32,
     "metadata": {},
     "output_type": "execute_result"
    }
   ],
   "source": [
    "model_noun.wv.similar_by_word(\"치아\")"
   ]
  },
  {
   "cell_type": "code",
   "execution_count": 33,
   "metadata": {},
   "outputs": [
    {
     "data": {
      "text/plain": [
       "[('혓바닥', 0.7992572784423828),\n",
       " ('풀칠', 0.7745968103408813),\n",
       " ('거스러미', 0.7719434499740601),\n",
       " ('거립니다', 0.7702248096466064),\n",
       " ('옷깃', 0.7634695768356323),\n",
       " ('생채기', 0.7633864283561707),\n",
       " ('벙어리', 0.7606757879257202),\n",
       " ('덧', 0.7596206665039062),\n",
       " ('껍데기', 0.752647876739502),\n",
       " ('아랫입술', 0.7522115707397461)]"
      ]
     },
     "execution_count": 33,
     "metadata": {},
     "output_type": "execute_result"
    }
   ],
   "source": [
    "model_noun.wv.similar_by_word(\"이빨\")"
   ]
  },
  {
   "cell_type": "code",
   "execution_count": 34,
   "metadata": {},
   "outputs": [
    {
     "data": {
      "text/plain": [
       "[('코감기', 0.7475954294204712),\n",
       " ('목감기', 0.7324339747428894),\n",
       " ('기침감기', 0.7220199704170227),\n",
       " ('편도염', 0.705484926700592),\n",
       " ('기관지염', 0.7047243714332581),\n",
       " ('냉방병', 0.691491961479187),\n",
       " ('병치레', 0.6910607814788818),\n",
       " ('잔병치레', 0.6803764700889587),\n",
       " ('환절기', 0.6791157126426697),\n",
       " ('마른기침', 0.678935170173645)]"
      ]
     },
     "execution_count": 34,
     "metadata": {},
     "output_type": "execute_result"
    }
   ],
   "source": [
    "model_noun.wv.similar_by_word(\"감기\")"
   ]
  },
  {
   "cell_type": "code",
   "execution_count": 35,
   "metadata": {},
   "outputs": [
    {
     "data": {
      "text/plain": [
       "[('고열', 0.5995689630508423),\n",
       " ('고열로', 0.598488450050354),\n",
       " ('오한', 0.5892696380615234),\n",
       " ('미열', 0.566575825214386),\n",
       " ('불덩이', 0.5622368454933167),\n",
       " ('허열', 0.5592338442802429),\n",
       " ('사병', 0.5574789047241211),\n",
       " ('일사병', 0.5371001362800598),\n",
       " ('발열', 0.5334112644195557),\n",
       " ('몸살감기', 0.5328003168106079)]"
      ]
     },
     "execution_count": 35,
     "metadata": {},
     "output_type": "execute_result"
    }
   ],
   "source": [
    "model_noun.wv.similar_by_word(\"열\")"
   ]
  },
  {
   "cell_type": "code",
   "execution_count": 36,
   "metadata": {},
   "outputs": [
    {
     "data": {
      "text/plain": [
       "[('열꽃', 0.8223117589950562),\n",
       " ('참기', 0.8178750276565552),\n",
       " ('어린애', 0.8170937299728394),\n",
       " ('울상', 0.8074944019317627),\n",
       " ('청진', 0.8015746474266052),\n",
       " ('헛소리', 0.8009097576141357),\n",
       " ('생채기', 0.8004393577575684),\n",
       " ('불덩이', 0.7994793057441711),\n",
       " ('피멍', 0.799109160900116),\n",
       " ('황달기', 0.7982150316238403)]"
      ]
     },
     "execution_count": 36,
     "metadata": {},
     "output_type": "execute_result"
    }
   ],
   "source": [
    "model_noun.wv.similar_by_word(\"아파\")"
   ]
  },
  {
   "cell_type": "code",
   "execution_count": 37,
   "metadata": {},
   "outputs": [
    {
     "data": {
      "text/plain": [
       "[('지르기', 0.6716539263725281),\n",
       " ('놀람', 0.6687363982200623),\n",
       " ('큰소리', 0.6645467281341553),\n",
       " ('비명', 0.654954731464386),\n",
       " ('세요', 0.6495398283004761),\n",
       " ('아달라', 0.6392082571983337),\n",
       " ('신음', 0.6357528567314148),\n",
       " ('괴성', 0.6203086972236633),\n",
       " ('무안', 0.618242621421814),\n",
       " ('낼', 0.6176371574401855)]"
      ]
     },
     "execution_count": 37,
     "metadata": {},
     "output_type": "execute_result"
    }
   ],
   "source": [
    "model_noun.wv.similar_by_word(\"울음\")"
   ]
  },
  {
   "cell_type": "code",
   "execution_count": 38,
   "metadata": {},
   "outputs": [
    {
     "data": {
      "text/plain": [
       "[('여아', 0.8225380182266235),\n",
       " ('생시', 0.6644451022148132),\n",
       " ('정상아', 0.651761531829834),\n",
       " ('초혼', 0.6464936137199402),\n",
       " ('음경', 0.6348172426223755),\n",
       " ('확연', 0.6345064640045166),\n",
       " ('정류', 0.6334263682365417),\n",
       " ('외반슬', 0.6323204636573792),\n",
       " ('자폐아', 0.6320158839225769),\n",
       " ('조숙', 0.630962073802948)]"
      ]
     },
     "execution_count": 38,
     "metadata": {},
     "output_type": "execute_result"
    }
   ],
   "source": [
    "model_noun.wv.similar_by_word(\"남아\")"
   ]
  },
  {
   "cell_type": "code",
   "execution_count": 39,
   "metadata": {},
   "outputs": [
    {
     "data": {
      "text/plain": [
       "[('남아', 0.8225380182266235),\n",
       " ('체구', 0.6191718578338623),\n",
       " ('남학생', 0.6152935028076172),\n",
       " ('생시', 0.6109334826469421),\n",
       " ('곱슬머리', 0.607616126537323),\n",
       " ('항문기', 0.6026288866996765),\n",
       " ('조숙', 0.6004122495651245),\n",
       " ('승우', 0.597633957862854),\n",
       " ('초혼', 0.5976155996322632),\n",
       " ('가슴둘레', 0.5970245599746704)]"
      ]
     },
     "execution_count": 39,
     "metadata": {},
     "output_type": "execute_result"
    }
   ],
   "source": [
    "model_noun.wv.similar_by_word(\"여아\")"
   ]
  },
  {
   "cell_type": "code",
   "execution_count": 40,
   "metadata": {
    "scrolled": true
   },
   "outputs": [
    {
     "data": {
      "text/plain": [
       "[('남자', 0.844328761100769),\n",
       " ('여아', 0.5794215202331543),\n",
       " ('남아', 0.5660580396652222),\n",
       " ('조신', 0.5549825429916382),\n",
       " ('금성', 0.5498636960983276),\n",
       " ('아이든', 0.5464881658554077),\n",
       " ('남학생', 0.5455925464630127),\n",
       " ('여탕', 0.5252121686935425),\n",
       " ('오이디푸스', 0.5185407996177673),\n",
       " ('엘렉트라', 0.5105907917022705)]"
      ]
     },
     "execution_count": 40,
     "metadata": {},
     "output_type": "execute_result"
    }
   ],
   "source": [
    "model_noun.wv.similar_by_word(\"여자\")"
   ]
  },
  {
   "cell_type": "code",
   "execution_count": 41,
   "metadata": {},
   "outputs": [
    {
     "data": {
      "text/plain": [
       "[('여자', 0.8443288207054138),\n",
       " ('금성', 0.6193404197692871),\n",
       " ('조신', 0.6130093932151794),\n",
       " ('아이든', 0.602680504322052),\n",
       " ('얌전', 0.6016589403152466),\n",
       " ('남학생', 0.5876859426498413),\n",
       " ('여탕', 0.5767632126808167),\n",
       " ('여아', 0.5758135318756104),\n",
       " ('태생', 0.5740955471992493),\n",
       " ('남아', 0.573989987373352)]"
      ]
     },
     "execution_count": 41,
     "metadata": {},
     "output_type": "execute_result"
    }
   ],
   "source": [
    "model_noun.wv.similar_by_word(\"남자\")"
   ]
  },
  {
   "cell_type": "code",
   "execution_count": 42,
   "metadata": {},
   "outputs": [
    {
     "data": {
      "text/plain": [
       "[('디럭스', 0.7052377462387085),\n",
       " ('절충', 0.6578075885772705),\n",
       " ('타보', 0.6569042205810547),\n",
       " ('잉글', 0.6366807222366333),\n",
       " ('휴대용', 0.6336427927017212),\n",
       " ('범용', 0.6298631429672241),\n",
       " ('퀴니', 0.6164275407791138),\n",
       " ('레시', 0.6130141019821167),\n",
       " ('휠체어', 0.6098400354385376),\n",
       " ('카시트', 0.6092009544372559)]"
      ]
     },
     "execution_count": 42,
     "metadata": {},
     "output_type": "execute_result"
    }
   ],
   "source": [
    "model_noun.wv.similar_by_word(\"유모차\")"
   ]
  },
  {
   "cell_type": "code",
   "execution_count": 43,
   "metadata": {},
   "outputs": [
    {
     "data": {
      "text/plain": [
       "[('컨버터블', 0.6584720611572266),\n",
       " ('안전벨트', 0.6522437334060669),\n",
       " ('캐리어', 0.6180393695831299),\n",
       " ('뒷좌석', 0.6131865978240967),\n",
       " ('부스터', 0.6111732721328735),\n",
       " ('순성', 0.610962986946106),\n",
       " ('장착', 0.6108025312423706),\n",
       " ('유모차', 0.6092009544372559),\n",
       " ('브라이', 0.6090240478515625),\n",
       " ('콩코드', 0.6050165891647339)]"
      ]
     },
     "execution_count": 43,
     "metadata": {},
     "output_type": "execute_result"
    }
   ],
   "source": [
    "model_noun.wv.similar_by_word(\"카시트\")"
   ]
  },
  {
   "cell_type": "code",
   "execution_count": 81,
   "metadata": {},
   "outputs": [
    {
     "data": {
      "text/plain": [
       "[('디럭스', 0.7086952924728394),\n",
       " ('휴대용', 0.6859462261199951),\n",
       " ('범용', 0.6835785508155823),\n",
       " ('절충', 0.672086775302887),\n",
       " ('캐리어', 0.669406533241272),\n",
       " ('페도라', 0.6677770614624023),\n",
       " ('컨버터블', 0.6605300903320312),\n",
       " ('타보', 0.659294605255127),\n",
       " ('요람', 0.65788733959198),\n",
       " ('콩코드', 0.6575262546539307)]"
      ]
     },
     "execution_count": 81,
     "metadata": {},
     "output_type": "execute_result"
    }
   ],
   "source": [
    "model_noun.wv.most_similar(positive=[\"유모차\", \"카시트\"])"
   ]
  },
  {
   "cell_type": "code",
   "execution_count": 90,
   "metadata": {},
   "outputs": [
    {
     "data": {
      "text/plain": [
       "[('반품', 0.7995040416717529),\n",
       " ('손품', 0.7655367255210876),\n",
       " ('최저가', 0.7590097784996033),\n",
       " ('중개', 0.748986005783081),\n",
       " ('판매자', 0.7404036521911621),\n",
       " ('중고차', 0.7399103045463562),\n",
       " ('반납', 0.7365485429763794),\n",
       " ('계약서', 0.734481930732727),\n",
       " ('귀책', 0.7343562841415405),\n",
       " ('통관', 0.7323704957962036)]"
      ]
     },
     "execution_count": 90,
     "metadata": {},
     "output_type": "execute_result"
    }
   ],
   "source": [
    "model_noun.wv.most_similar(positive=[\"중고\", \"거래\"])"
   ]
  },
  {
   "cell_type": "code",
   "execution_count": 97,
   "metadata": {},
   "outputs": [
    {
     "data": {
      "text/plain": [
       "[('필독', 0.6952844262123108),\n",
       " ('기서', 0.6877860426902771),\n",
       " ('충동구매', 0.6863868236541748),\n",
       " ('유아복', 0.6862215995788574),\n",
       " ('세용', 0.6747269630432129),\n",
       " ('너그', 0.6695094108581543),\n",
       " ('남아', 0.6640238761901855),\n",
       " ('손품', 0.6635791063308716),\n",
       " ('연령층', 0.6616824865341187),\n",
       " ('킬로', 0.6613768339157104)]"
      ]
     },
     "execution_count": 97,
     "metadata": {},
     "output_type": "execute_result"
    }
   ],
   "source": [
    "model_noun.wv.most_similar(positive=[\"여아\", \"중고\"])"
   ]
  },
  {
   "cell_type": "markdown",
   "metadata": {},
   "source": [
    "---"
   ]
  },
  {
   "cell_type": "markdown",
   "metadata": {},
   "source": [
    "## Keywords (Noun + Verb + Adj)"
   ]
  },
  {
   "cell_type": "markdown",
   "metadata": {},
   "source": [
    "- 마지막으로 말뭉치에서 명사, 동사, 형용사까지 추출한 결과를 확인"
   ]
  },
  {
   "cell_type": "code",
   "execution_count": 44,
   "metadata": {},
   "outputs": [
    {
     "name": "stdout",
     "output_type": "stream",
     "text": [
      "CPU times: user 1min 4s, sys: 29.1 s, total: 1min 33s\n",
      "Wall time: 1min 32s\n"
     ]
    }
   ],
   "source": [
    "%%time\n",
    "def extract_keywords(text):\n",
    "    tokenizer = Mecab()\n",
    "    pos_list = tokenizer.pos(text)\n",
    "    keywords_list = list(filter(lambda w: 'NNG' in w or \\\n",
    "                                          'NNP' in w or \\\n",
    "                                          'VA' in w or \\\n",
    "                                          'VV' in w , pos_list))\n",
    "    keywords = list(map(lambda w: w[0], keywords_list))\n",
    "    return keywords\n",
    "\n",
    "df['keywords'] = df['text'].apply(extract_keywords)\n",
    "df = df.dropna()"
   ]
  },
  {
   "cell_type": "code",
   "execution_count": 45,
   "metadata": {},
   "outputs": [],
   "source": [
    "keywords_corpus = np.array(df.keywords)"
   ]
  },
  {
   "cell_type": "code",
   "execution_count": 124,
   "metadata": {},
   "outputs": [
    {
     "name": "stdout",
     "output_type": "stream",
     "text": [
      "CPU times: user 2min 36s, sys: 294 ms, total: 2min 36s\n",
      "Wall time: 44 s\n"
     ]
    }
   ],
   "source": [
    "%%time\n",
    "model_keywords = Word2Vec(keywords_corpus,\n",
    "                          size=200,\n",
    "                          window=3,\n",
    "                          min_count=3,\n",
    "                          workers=4,\n",
    "                          seed=1,\n",
    "                          sg=1)\n",
    "model_keywords.save('data/tokmom_word2vec_keywords.model')"
   ]
  },
  {
   "cell_type": "code",
   "execution_count": 125,
   "metadata": {},
   "outputs": [
    {
     "data": {
      "text/plain": [
       "[('양육', 0.6057778596878052),\n",
       " ('독박', 0.6025557518005371),\n",
       " ('워킹맘', 0.5992558598518372),\n",
       " ('열혈', 0.587739884853363),\n",
       " ('아지', 0.5754351615905762),\n",
       " ('신박', 0.568577766418457),\n",
       " ('지원군', 0.5676036477088928),\n",
       " ('똑소리', 0.5594679117202759),\n",
       " ('자처', 0.5573272705078125),\n",
       " ('떠맡', 0.5527890920639038)]"
      ]
     },
     "execution_count": 125,
     "metadata": {},
     "output_type": "execute_result"
    }
   ],
   "source": [
    "model_keywords.wv.similar_by_word(\"육아\")"
   ]
  },
  {
   "cell_type": "code",
   "execution_count": 126,
   "metadata": {},
   "outputs": [
    {
     "data": {
      "text/plain": [
       "[('시부모', 0.8208571076393127),\n",
       " ('처가', 0.7792154550552368),\n",
       " ('친정', 0.7738823890686035),\n",
       " ('본가', 0.7567782998085022),\n",
       " ('장모님', 0.7299110889434814),\n",
       " ('며느리', 0.7289063334465027),\n",
       " ('대소사', 0.7286662459373474),\n",
       " ('친정어머니', 0.7283321619033813),\n",
       " ('시어머니', 0.7175921201705933),\n",
       " ('친가', 0.7131330966949463)]"
      ]
     },
     "execution_count": 126,
     "metadata": {},
     "output_type": "execute_result"
    }
   ],
   "source": [
    "model_keywords.wv.similar_by_word(\"시댁\")"
   ]
  },
  {
   "cell_type": "code",
   "execution_count": 127,
   "metadata": {},
   "outputs": [
    {
     "data": {
      "text/plain": [
       "[('놀잇감', 0.676058292388916),\n",
       " ('공놀이', 0.6560580134391785),\n",
       " ('소꿉', 0.6478983163833618),\n",
       " ('재미있', 0.6389245390892029),\n",
       " ('기차놀이', 0.6344831585884094),\n",
       " ('무너뜨리기', 0.6282132267951965),\n",
       " ('놀', 0.6263772249221802),\n",
       " ('딱지치기', 0.6202889680862427),\n",
       " ('실뜨기', 0.6116752624511719),\n",
       " ('손인', 0.5988839864730835)]"
      ]
     },
     "execution_count": 127,
     "metadata": {},
     "output_type": "execute_result"
    }
   ],
   "source": [
    "model_keywords.wv.similar_by_word(\"놀이\")"
   ]
  },
  {
   "cell_type": "code",
   "execution_count": 128,
   "metadata": {},
   "outputs": [
    {
     "data": {
      "text/plain": [
       "[('눈치채', 0.6995992660522461),\n",
       " ('지레짐작', 0.6972516775131226),\n",
       " ('아기', 0.6958725452423096),\n",
       " ('안달', 0.69270920753479),\n",
       " ('어린아이', 0.6847321391105652),\n",
       " ('유별나', 0.6846099495887756),\n",
       " ('뒤돌아보', 0.6832249760627747),\n",
       " ('아이라', 0.6819329261779785),\n",
       " ('돌쟁이', 0.6784884929656982),\n",
       " ('말자', 0.6777140498161316)]"
      ]
     },
     "execution_count": 128,
     "metadata": {},
     "output_type": "execute_result"
    }
   ],
   "source": [
    "model_keywords.wv.similar_by_word(\"아이\")"
   ]
  },
  {
   "cell_type": "code",
   "execution_count": 129,
   "metadata": {},
   "outputs": [
    {
     "data": {
      "text/plain": [
       "[('영구치', 0.7670557498931885),\n",
       " ('잇몸', 0.7630598545074463),\n",
       " ('젖니', 0.7545617818832397),\n",
       " ('충치', 0.737262487411499),\n",
       " ('앞니', 0.70076584815979),\n",
       " ('어금니', 0.6859873533248901),\n",
       " ('법랑질', 0.6776264905929565),\n",
       " ('윗니', 0.6743996739387512),\n",
       " ('치조골', 0.6739828586578369),\n",
       " ('과잉치', 0.6692478656768799)]"
      ]
     },
     "execution_count": 129,
     "metadata": {},
     "output_type": "execute_result"
    }
   ],
   "source": [
    "model_keywords.wv.similar_by_word(\"치아\")"
   ]
  },
  {
   "cell_type": "code",
   "execution_count": 130,
   "metadata": {},
   "outputs": [
    {
     "data": {
      "text/plain": [
       "[('영인', 0.8284428715705872),\n",
       " ('혓바닥', 0.8143986463546753),\n",
       " ('거스러미', 0.8136392831802368),\n",
       " ('역겹', 0.7993366718292236),\n",
       " ('갉', 0.7961187362670898),\n",
       " ('생채기', 0.7856615781784058),\n",
       " ('뜯어내', 0.7800561785697937),\n",
       " ('근질거리', 0.7761126756668091),\n",
       " ('까맣', 0.7741507291793823),\n",
       " ('파먹', 0.7725013494491577)]"
      ]
     },
     "execution_count": 130,
     "metadata": {},
     "output_type": "execute_result"
    }
   ],
   "source": [
    "model_keywords.wv.similar_by_word(\"이빨\")"
   ]
  },
  {
   "cell_type": "code",
   "execution_count": 131,
   "metadata": {},
   "outputs": [
    {
     "data": {
      "text/plain": [
       "[('목감기', 0.7787765860557556),\n",
       " ('코감기', 0.7744455337524414),\n",
       " ('기침감기', 0.730884850025177),\n",
       " ('편도염', 0.7144458889961243),\n",
       " ('냉방병', 0.7078796029090881),\n",
       " ('편도선염', 0.7012592554092407),\n",
       " ('열나', 0.6904149651527405),\n",
       " ('인후염', 0.689134955406189),\n",
       " ('환절기', 0.6878073215484619),\n",
       " ('몸살감기', 0.6837522983551025)]"
      ]
     },
     "execution_count": 131,
     "metadata": {},
     "output_type": "execute_result"
    }
   ],
   "source": [
    "model_keywords.wv.similar_by_word(\"감기\")"
   ]
  },
  {
   "cell_type": "code",
   "execution_count": 132,
   "metadata": {},
   "outputs": [
    {
     "data": {
      "text/plain": [
       "[('열기', 0.5812327265739441),\n",
       " ('닫', 0.562920331954956),\n",
       " ('고열로', 0.5314461588859558),\n",
       " ('외감', 0.5308478474617004),\n",
       " ('오한', 0.5048243999481201),\n",
       " ('식히', 0.49996882677078247),\n",
       " ('허열', 0.4967460036277771),\n",
       " ('불덩이', 0.4954458177089691),\n",
       " ('미열', 0.48844265937805176),\n",
       " ('고열', 0.48239243030548096)]"
      ]
     },
     "execution_count": 132,
     "metadata": {},
     "output_type": "execute_result"
    }
   ],
   "source": [
    "model_keywords.wv.similar_by_word(\"열\")"
   ]
  },
  {
   "cell_type": "code",
   "execution_count": 133,
   "metadata": {},
   "outputs": [
    {
     "data": {
      "text/plain": [
       "[('어린애', 0.8474108576774597),\n",
       " ('참기', 0.8298739194869995),\n",
       " ('아파하', 0.8275489807128906),\n",
       " ('쓰라리', 0.8170633316040039),\n",
       " ('발버둥치', 0.8054256439208984),\n",
       " ('놀래', 0.8050146102905273),\n",
       " ('생채기', 0.8005754947662354),\n",
       " ('겁나', 0.7973811626434326),\n",
       " ('우습', 0.7967796325683594),\n",
       " ('거려', 0.7963449954986572)]"
      ]
     },
     "execution_count": 133,
     "metadata": {},
     "output_type": "execute_result"
    }
   ],
   "source": [
    "model_keywords.wv.similar_by_word(\"아파\")"
   ]
  },
  {
   "cell_type": "code",
   "execution_count": 134,
   "metadata": {},
   "outputs": [
    {
     "data": {
      "text/plain": [
       "[('우', 0.7023470401763916),\n",
       " ('신음', 0.6802157759666443),\n",
       " ('울', 0.6786100268363953),\n",
       " ('어르', 0.6770550012588501),\n",
       " ('자지러지', 0.674082338809967),\n",
       " ('칭얼거리', 0.6679117679595947),\n",
       " ('흐느끼', 0.6657028198242188),\n",
       " ('큰소리', 0.657406210899353),\n",
       " ('보채', 0.6568694710731506),\n",
       " ('괴성', 0.656578779220581)]"
      ]
     },
     "execution_count": 134,
     "metadata": {},
     "output_type": "execute_result"
    }
   ],
   "source": [
    "model_keywords.wv.similar_by_word(\"울음\")"
   ]
  },
  {
   "cell_type": "code",
   "execution_count": 135,
   "metadata": {},
   "outputs": [
    {
     "data": {
      "text/plain": [
       "[('여아', 0.807877779006958),\n",
       " ('정상아', 0.6655420064926147),\n",
       " ('성징', 0.6519114375114441),\n",
       " ('확연', 0.6414461135864258),\n",
       " ('기라', 0.6359351277351379),\n",
       " ('두드러지', 0.631649374961853),\n",
       " ('남학생', 0.6231328248977661),\n",
       " ('색맹', 0.6228243112564087),\n",
       " ('생시', 0.6227834820747375),\n",
       " ('출생체중', 0.6215988993644714),\n",
       " ('자폐아', 0.6194701194763184),\n",
       " ('증후', 0.612797737121582),\n",
       " ('조숙', 0.610781192779541),\n",
       " ('가슴둘레', 0.6084136962890625),\n",
       " ('극소', 0.6076409816741943),\n",
       " ('위수', 0.6069537401199341),\n",
       " ('정상인', 0.6066635847091675),\n",
       " ('정류', 0.6064138412475586),\n",
       " ('보인자', 0.6047580242156982),\n",
       " ('흉위', 0.6046409606933594)]"
      ]
     },
     "execution_count": 135,
     "metadata": {},
     "output_type": "execute_result"
    }
   ],
   "source": [
    "model_keywords.wv.similar_by_word(\"남아\", topn=20)"
   ]
  },
  {
   "cell_type": "code",
   "execution_count": 136,
   "metadata": {},
   "outputs": [
    {
     "data": {
      "text/plain": [
       "[('남아', 0.807877779006958),\n",
       " ('가슴둘레', 0.5910583734512329),\n",
       " ('생시', 0.5680595636367798),\n",
       " ('성징', 0.5669124126434326),\n",
       " ('남학생', 0.5508815050125122),\n",
       " ('기라', 0.5487903356552124),\n",
       " ('곱슬머리', 0.5473015308380127),\n",
       " ('성별', 0.5472237467765808),\n",
       " ('흉위', 0.5462855100631714),\n",
       " ('여자', 0.5404715538024902),\n",
       " ('위수', 0.536983847618103),\n",
       " ('여학생', 0.536203145980835),\n",
       " ('정상아', 0.5322072505950928),\n",
       " ('남자', 0.5308912992477417),\n",
       " ('여탕', 0.5266007781028748),\n",
       " ('극소', 0.5220505595207214),\n",
       " ('확연', 0.521916389465332),\n",
       " ('출생체중', 0.5213947892189026),\n",
       " ('아도', 0.5200939178466797),\n",
       " ('남근', 0.519985556602478)]"
      ]
     },
     "execution_count": 136,
     "metadata": {},
     "output_type": "execute_result"
    }
   ],
   "source": [
    "model_keywords.wv.similar_by_word(\"여아\", topn=20)"
   ]
  },
  {
   "cell_type": "code",
   "execution_count": 137,
   "metadata": {
    "scrolled": true
   },
   "outputs": [
    {
     "data": {
      "text/plain": [
       "[('남자', 0.8688820600509644),\n",
       " ('금성', 0.5735706686973572),\n",
       " ('여탕', 0.5641278624534607),\n",
       " ('드세', 0.5638848543167114),\n",
       " ('남아', 0.5595381259918213),\n",
       " ('조신', 0.543067216873169),\n",
       " ('여아', 0.5404715538024902),\n",
       " ('남학생', 0.5300654172897339),\n",
       " ('화성인', 0.529469907283783),\n",
       " ('짓궂', 0.5271279811859131),\n",
       " ('아이든', 0.5264469981193542),\n",
       " ('남탕', 0.5231404900550842),\n",
       " ('속사정', 0.5203368663787842),\n",
       " ('성차', 0.5145344138145447),\n",
       " ('확연', 0.5138534307479858),\n",
       " ('족쇄', 0.5120424032211304),\n",
       " ('얌전', 0.508198618888855),\n",
       " ('처갓집', 0.5072363615036011),\n",
       " ('후예', 0.5035378932952881),\n",
       " ('엘렉트라', 0.5021142363548279)]"
      ]
     },
     "execution_count": 137,
     "metadata": {},
     "output_type": "execute_result"
    }
   ],
   "source": [
    "model_keywords.wv.similar_by_word(\"여자\", topn=20)"
   ]
  },
  {
   "cell_type": "code",
   "execution_count": 138,
   "metadata": {},
   "outputs": [
    {
     "data": {
      "text/plain": [
       "[('여자', 0.8688820600509644),\n",
       " ('금성', 0.6229436993598938),\n",
       " ('여탕', 0.6108936071395874),\n",
       " ('드세', 0.6104174852371216),\n",
       " ('조신', 0.5911350250244141),\n",
       " ('남아', 0.5884765982627869),\n",
       " ('얌전', 0.5823819041252136),\n",
       " ('족쇄', 0.5750948190689087),\n",
       " ('아이든', 0.5748463869094849),\n",
       " ('속사정', 0.5699074268341064),\n",
       " ('위엄', 0.5656229853630066),\n",
       " ('들추', 0.562061071395874),\n",
       " ('확연', 0.5614979267120361),\n",
       " ('남학생', 0.5613505840301514),\n",
       " ('짓궂', 0.5607621073722839),\n",
       " ('남탕', 0.5586973428726196),\n",
       " ('알파걸', 0.5500965714454651),\n",
       " ('객체', 0.5498368144035339),\n",
       " ('바깥일', 0.5454378724098206),\n",
       " ('성차', 0.5448817610740662)]"
      ]
     },
     "execution_count": 138,
     "metadata": {},
     "output_type": "execute_result"
    }
   ],
   "source": [
    "model_keywords.wv.similar_by_word(\"남자\", topn=20)"
   ]
  },
  {
   "cell_type": "code",
   "execution_count": 139,
   "metadata": {},
   "outputs": [
    {
     "data": {
      "text/plain": [
       "[('디럭스', 0.731662392616272),\n",
       " ('절충', 0.6923345327377319),\n",
       " ('타보', 0.6920753717422485),\n",
       " ('잉글', 0.6908161044120789),\n",
       " ('휴대용', 0.6686482429504395),\n",
       " ('레시', 0.6642338037490845),\n",
       " ('핸들링', 0.6603004932403564),\n",
       " ('포투', 0.64597487449646),\n",
       " ('퀴니', 0.6429663896560669),\n",
       " ('맥클라렌', 0.6423449516296387)]"
      ]
     },
     "execution_count": 139,
     "metadata": {},
     "output_type": "execute_result"
    }
   ],
   "source": [
    "model_keywords.wv.similar_by_word(\"유모차\")"
   ]
  },
  {
   "cell_type": "code",
   "execution_count": 140,
   "metadata": {},
   "outputs": [
    {
     "data": {
      "text/plain": [
       "[('내구재', 0.7264575958251953),\n",
       " ('휴대용', 0.7040308713912964),\n",
       " ('범용', 0.6971195340156555),\n",
       " ('맥클라렌', 0.6886078715324402),\n",
       " ('미니밴', 0.6810783743858337),\n",
       " ('타보', 0.6806071996688843),\n",
       " ('중저가', 0.6802986860275269),\n",
       " ('절충', 0.6762381792068481),\n",
       " ('삼륜', 0.6755664348602295),\n",
       " ('소비재', 0.6746143698692322)]"
      ]
     },
     "execution_count": 140,
     "metadata": {},
     "output_type": "execute_result"
    }
   ],
   "source": [
    "model_keywords.wv.most_similar(positive=[\"중고\", \"유모차\"])"
   ]
  },
  {
   "cell_type": "code",
   "execution_count": 141,
   "metadata": {},
   "outputs": [
    {
     "data": {
      "text/plain": [
       "[('체크포인트', 0.6493660807609558),\n",
       " ('기동력', 0.646479606628418),\n",
       " ('니라', 0.6446662545204163),\n",
       " ('삼륜', 0.6420556306838989),\n",
       " ('봄나들이', 0.6385335922241211),\n",
       " ('다단', 0.6377896070480347),\n",
       " ('행선지', 0.6374572515487671),\n",
       " ('플루토', 0.6313495635986328),\n",
       " ('라부', 0.6298192739486694),\n",
       " ('눈독', 0.6292997002601624)]"
      ]
     },
     "execution_count": 141,
     "metadata": {},
     "output_type": "execute_result"
    }
   ],
   "source": [
    "model_keywords.wv.most_similar(positive=[\"좋\", \"유모차\"])"
   ]
  },
  {
   "cell_type": "code",
   "execution_count": 142,
   "metadata": {},
   "outputs": [
    {
     "data": {
      "text/plain": [
       "[('머미', 0.7009689807891846),\n",
       " ('차광막', 0.6974648833274841),\n",
       " ('무거우', 0.6946828365325928),\n",
       " ('침대위', 0.6911909580230713),\n",
       " ('니라', 0.6894622445106506),\n",
       " ('다단', 0.6892098784446716),\n",
       " ('이동도', 0.6889286041259766),\n",
       " ('가슴골', 0.686928927898407),\n",
       " ('껄끄럽', 0.6864690184593201),\n",
       " ('비켜나', 0.6861744523048401)]"
      ]
     },
     "execution_count": 142,
     "metadata": {},
     "output_type": "execute_result"
    }
   ],
   "source": [
    "model_keywords.wv.most_similar(positive=[\"안\", \"좋\", \"유모차\"])"
   ]
  },
  {
   "cell_type": "code",
   "execution_count": 143,
   "metadata": {},
   "outputs": [
    {
     "data": {
      "text/plain": [
       "[('가슴골', 0.6530451774597168),\n",
       " ('목마르', 0.6516422629356384),\n",
       " ('차면', 0.6494159698486328),\n",
       " ('아달라', 0.6397186517715454),\n",
       " ('놀래', 0.6353753209114075),\n",
       " ('어두우', 0.6342929005622864),\n",
       " ('거하', 0.6337921619415283),\n",
       " ('머미', 0.633304238319397),\n",
       " ('쪼이', 0.6331221461296082),\n",
       " ('내던지', 0.6319912672042847)]"
      ]
     },
     "execution_count": 143,
     "metadata": {},
     "output_type": "execute_result"
    }
   ],
   "source": [
    "model_keywords.wv.most_similar(positive=[\"안\", \"좋\"])"
   ]
  },
  {
   "cell_type": "code",
   "execution_count": 147,
   "metadata": {},
   "outputs": [
    {
     "data": {
      "text/plain": [
       "[('온습포', 0.9232149124145508),\n",
       " ('수온계', 0.9103384613990784),\n",
       " ('요탕', 0.9027554988861084),\n",
       " ('쳐지', 0.8979514837265015),\n",
       " ('욕법', 0.8939695358276367),\n",
       " ('젖멍울', 0.8939502239227295),\n",
       " ('삼각근', 0.8900146484375),\n",
       " ('물수', 0.886853814125061),\n",
       " ('머미', 0.886379599571228),\n",
       " ('받쳐들', 0.8859356641769409)]"
      ]
     },
     "execution_count": 147,
     "metadata": {},
     "output_type": "execute_result"
    }
   ],
   "source": [
    "model_keywords.wv.most_similar(positive=[\"가슴골\"])"
   ]
  },
  {
   "cell_type": "markdown",
   "metadata": {},
   "source": [
    "---"
   ]
  },
  {
   "cell_type": "markdown",
   "metadata": {},
   "source": [
    "### Volume of Corpus "
   ]
  },
  {
   "cell_type": "code",
   "execution_count": 63,
   "metadata": {},
   "outputs": [],
   "source": [
    "df[['text']].to_csv('data/text_for_word2vec.csv', index=False, encoding='utf-8')"
   ]
  },
  {
   "cell_type": "code",
   "execution_count": 64,
   "metadata": {},
   "outputs": [
    {
     "data": {
      "text/html": [
       "<div>\n",
       "<style scoped>\n",
       "    .dataframe tbody tr th:only-of-type {\n",
       "        vertical-align: middle;\n",
       "    }\n",
       "\n",
       "    .dataframe tbody tr th {\n",
       "        vertical-align: top;\n",
       "    }\n",
       "\n",
       "    .dataframe thead th {\n",
       "        text-align: right;\n",
       "    }\n",
       "</style>\n",
       "<table border=\"1\" class=\"dataframe\">\n",
       "  <thead>\n",
       "    <tr style=\"text-align: right;\">\n",
       "      <th></th>\n",
       "      <th>text</th>\n",
       "    </tr>\n",
       "  </thead>\n",
       "  <tbody>\n",
       "    <tr>\n",
       "      <th>0</th>\n",
       "      <td>6살 남아 입니다 회사 복직 후 3살부터 주중에는 외할머니댁에서 2살 4살 터울의 ...</td>\n",
       "    </tr>\n",
       "    <tr>\n",
       "      <th>1</th>\n",
       "      <td>요즘 들어 아빠가 아이에게 다가가려고 하면 엄마한테 갈 거야 하면서 엄마를 유독 찾...</td>\n",
       "    </tr>\n",
       "    <tr>\n",
       "      <th>2</th>\n",
       "      <td>둘째가 태어나면 첫째가 힘들 거라는 건 예상하고 있었지만 툭하면 삐치고 울고 좀처럼...</td>\n",
       "    </tr>\n",
       "    <tr>\n",
       "      <th>3</th>\n",
       "      <td>20개월 남아가 있고 임신 8개월차로 두 아기의 엄마입니다 첫 아이는 잠자리 독립을...</td>\n",
       "    </tr>\n",
       "    <tr>\n",
       "      <th>4</th>\n",
       "      <td>14개월 남자 아기인데 심하게 깨무는 버릇이 있어요 전에는 졸릴 때 주로 물곤 했는...</td>\n",
       "    </tr>\n",
       "    <tr>\n",
       "      <th>...</th>\n",
       "      <td>...</td>\n",
       "    </tr>\n",
       "    <tr>\n",
       "      <th>25344</th>\n",
       "      <td>가임기 연력 여성의 흡연률 증가와 그 폐해 현대 여성은 다양한 사회활동에 참여하고 ...</td>\n",
       "    </tr>\n",
       "    <tr>\n",
       "      <th>25345</th>\n",
       "      <td>아토피에 유전적인 요인이 작용한다는 사실 알고 계시나요 유전적인 요인 뿐 아니라 아...</td>\n",
       "    </tr>\n",
       "    <tr>\n",
       "      <th>25346</th>\n",
       "      <td>1st 시기에 따라 필요한 영양소를 충분히 뱃속의 아이는 엄마가 먹는 것을 함께 먹...</td>\n",
       "    </tr>\n",
       "    <tr>\n",
       "      <th>25347</th>\n",
       "      <td>분만 여성만이 누릴 수 있는 특권 대부분의 여성들은 임신과 분만이라는 과정을 경험하...</td>\n",
       "    </tr>\n",
       "    <tr>\n",
       "      <th>25348</th>\n",
       "      <td>최근 전자파가 건강상의 문제를 일으킬 수 있다는 견해가 많아지면서 임신부들 또한 가...</td>\n",
       "    </tr>\n",
       "  </tbody>\n",
       "</table>\n",
       "<p>25349 rows × 1 columns</p>\n",
       "</div>"
      ],
      "text/plain": [
       "                                                    text\n",
       "0      6살 남아 입니다 회사 복직 후 3살부터 주중에는 외할머니댁에서 2살 4살 터울의 ...\n",
       "1      요즘 들어 아빠가 아이에게 다가가려고 하면 엄마한테 갈 거야 하면서 엄마를 유독 찾...\n",
       "2      둘째가 태어나면 첫째가 힘들 거라는 건 예상하고 있었지만 툭하면 삐치고 울고 좀처럼...\n",
       "3      20개월 남아가 있고 임신 8개월차로 두 아기의 엄마입니다 첫 아이는 잠자리 독립을...\n",
       "4      14개월 남자 아기인데 심하게 깨무는 버릇이 있어요 전에는 졸릴 때 주로 물곤 했는...\n",
       "...                                                  ...\n",
       "25344  가임기 연력 여성의 흡연률 증가와 그 폐해 현대 여성은 다양한 사회활동에 참여하고 ...\n",
       "25345  아토피에 유전적인 요인이 작용한다는 사실 알고 계시나요 유전적인 요인 뿐 아니라 아...\n",
       "25346  1st 시기에 따라 필요한 영양소를 충분히 뱃속의 아이는 엄마가 먹는 것을 함께 먹...\n",
       "25347  분만 여성만이 누릴 수 있는 특권 대부분의 여성들은 임신과 분만이라는 과정을 경험하...\n",
       "25348  최근 전자파가 건강상의 문제를 일으킬 수 있다는 견해가 많아지면서 임신부들 또한 가...\n",
       "\n",
       "[25349 rows x 1 columns]"
      ]
     },
     "execution_count": 64,
     "metadata": {},
     "output_type": "execute_result"
    }
   ],
   "source": [
    "pd.read_csv('data/text_for_word2vec.csv')"
   ]
  },
  {
   "cell_type": "markdown",
   "metadata": {},
   "source": [
    "---"
   ]
  },
  {
   "cell_type": "markdown",
   "metadata": {},
   "source": [
    "## Doc2Vec"
   ]
  },
  {
   "cell_type": "code",
   "execution_count": 65,
   "metadata": {},
   "outputs": [],
   "source": [
    "from gensim.models.doc2vec import Doc2Vec, TaggedDocument"
   ]
  },
  {
   "cell_type": "code",
   "execution_count": 66,
   "metadata": {},
   "outputs": [],
   "source": [
    "documents = [TaggedDocument(doc, [i]) for i, doc in enumerate(df['noun'])]"
   ]
  },
  {
   "cell_type": "code",
   "execution_count": 67,
   "metadata": {},
   "outputs": [
    {
     "name": "stdout",
     "output_type": "stream",
     "text": [
      "CPU times: user 1min 10s, sys: 1.26 s, total: 1min 11s\n",
      "Wall time: 29.4 s\n"
     ]
    }
   ],
   "source": [
    "%%time\n",
    "doc2vec_model = Doc2Vec(documents, \n",
    "                        vector_size=200, \n",
    "                        window=2, \n",
    "                        min_count=5, \n",
    "                        workers=4)\n",
    "\n",
    "\n",
    "doc2vec_model.save('data/tokmom_doc2vec_only_noun.model')"
   ]
  },
  {
   "cell_type": "code",
   "execution_count": 68,
   "metadata": {},
   "outputs": [
    {
     "data": {
      "text/plain": [
       "25349"
      ]
     },
     "execution_count": 68,
     "metadata": {},
     "output_type": "execute_result"
    }
   ],
   "source": [
    "len(doc2vec_model.docvecs)"
   ]
  },
  {
   "cell_type": "code",
   "execution_count": 69,
   "metadata": {},
   "outputs": [
    {
     "data": {
      "text/plain": [
       "'6살 남아 입니다 회사 복직 후 3살부터 주중에는 외할머니댁에서 2살 4살 터울의 사촌 형 누나와 함께 자랐어요 금요일 저녁에 데려와 주말에는 엄마 아빠와 생활하고 있구요 7세가 되는 내년이라도 아이를 데려오자는 아이 아빠의 의견과 유치원과 태권도 등 패턴이 적응되었고 형 누나들과 더 자랄 수 있게 초등학교 입학시기에 데리고 가는게 낫지 않겠냐는 외할머니 의견이 다릅니다 6세가 된 아이의 교육과 생활습관 형성이 이제는 할머니댁에서는 어려울 것 같다는 생각이 들고 하루하루 생각이 크고 자라는 아이를 주말에만 보는 저 또한 놀랄 때가 많거든요 하루라도 빨리 데려와야 할까요 초등학교 입학시기에 데려오는 편이 아이에게 좋을까요 매우 어려운 질문입니다 먼저 아이가 현재 잘 적응하고 있고 주변 양육환경 역시 아이가 성장하기에 별다른 문제가 없다 하니 고민이 더욱 크시리라 생각됩니다 우선 되어야하는 것은 아이의 의견입니다 6살이면 이러한 문제에 대하여 스스로 생각하고 의견을 전달할 수 있으므로 먼저 아이의 의견을 들어 주시기 바랍니다 아이는 부모님과 함께 사는 것이 좋습니다 그러나 부모님께서 두분 모두 직장에 나가시니 유치원 하원 후 아이를 돌보아 주실 분이 현재 함께 생활하고 계시는 할머님이시면 재고의 여지 없이 데려 오시는 것을 권유 드립니다 그러나 하원 후 할머님의 돌봄이 여의치 못할 경우 돌보아 줄 대상이 당분간 할머님댁에서 시간제로나마 아이를 돌보아 주어 아이와의 상호작용을 충분히 가진 후에 아이가 집으로 왔을 때 유치원 하원 후에 계속 돌보아 줄 수 있으면 좋습니다 이와 같이 먼저 아이가 집으로 온 후 부모님께서 퇴근하시기 전 까지 돌보아 줄 사람을 알아보시고 데려 오시는 것이 좋다는 생각이 듭니다'"
      ]
     },
     "execution_count": 69,
     "metadata": {},
     "output_type": "execute_result"
    }
   ],
   "source": [
    "df['text'][0]"
   ]
  },
  {
   "cell_type": "code",
   "execution_count": 70,
   "metadata": {
    "scrolled": false
   },
   "outputs": [
    {
     "name": "stdout",
     "output_type": "stream",
     "text": [
      "Input Document\n",
      "젖병을 떼야 하는 이유로는 첫째 우식증을 예방하고 둘째 젖병 무는 어린 아기의 습관을 서서히 고쳐 나가기 위함 입니다 지금은 단지 습관에 의해 젖병을 물고 있을 뿐이므로 음식은 숟가락으로 먹이고 우유는 컵으로 마시게 하면서 젖병을 뗄 수 있도록 해야 합니다 잠잘 때 젖병을 물고 자는 것은 무의식적인 행동입니다 그러나 너무 친숙해진 습관을 갑자기 금지시킨다면 아기 심리에 큰 충격을 줄 수도 있으므로 서서히 젖병 속의 우유를 희석시키는 방법을 사용합니다 예를 들어 평상시에 우유를 200 mL 먹였다면 우유 180 mL에 물 20 mL를 섞어서 젖병에 넣어줍니다 점차 물의 농도를 높여가다가 아기가 이를 느끼고 부정적인 반응을 보일 때는 잠시 정지하였다가 다시 희석의 강도를 높여봅니다 그러다 보면 아기는 점차 희석된 우유에 흥미를 잃어 스스로 젖병을 내던지게 될 것입니다 아기에 따라 스스로 정서적 안정을 얻는 습관을 하나씩 가지고 있습니다 아기 때의 이불을 늘 잡고 있다거나 엄마의 머리카락을 잡아야 잠을 잔다거나 하는 습관은 고치기가 쉽지 않은 일입니다 젖병도 그런 습관의 일종일 수 있습니다 젖병을 물고 있는 것이 정서적인 이유라면 젖병 떼기를 강요하지 않습니다 하루 2 3번은 젖병을 물고 있게 하다가 점차 아기가 성장하면서 젖병 무는 것이 자신에게는 어울리지 않는다는 것을 엄마가 끊임없이 설득하고 아이 스스로도 그렇게 느껴 자연스레 젖병을 멀리하게 합니다 가능한 컵이나 빨대컵을 활용하고 노리개 젖꼭지 등을 대체하여 사용해 볼 수도 있습니다\n",
      "Most similar Documents\n",
      "idx: 15452 similarity: 0.667\n",
      "아기가 젖병만 보면 입으로 가져가는 이유는 왜일까 배가 고프다는 의사 표현일까 아니면 말랑말랑 젤리 같은 젖꼭지의 느낌이 좋아서일까 혹시 어딘가 아프거나 불만이 있다는 무언의 표현은 아닐까 배가 고프면 엄마를 찾거나 우유를 찾는 것은 당연한 일이겠지만 아기들은 배가 고프지 않아도 젖병을 물고 싶어한다 별다른 이유 없이 손가락이나 공갈 젖꼭지를 빠는 것과 같은 이유에서다 또한 아기들도 스트레스에 의해 지나치게 젖병을 빨려고 하는 경우가 있으며 자신보다 어린 동생이 젖병을 빠는 모습을 보고 따라서 젖병을 빨게 되는 경우도 있다고 한다흔히 엄마들은 모유를 먹지 못한 아기들은 젖병의 젖꼭지를 통해 엄마 젖을 빠는 것과 같은 심리적 안정감을 얻을 수 있을 것이라고 생각한다 하지만 젖병을 통해 아기들이 얻게 되는 심리적 안정감은 극히 일부분에 불과하다는 게 전문가들의 지적이다서울소아과 윤경애 원장은 아기들이 젖병을 지속해서 빠는 이유를 일종의 집착 현상이라고 설명한다 아기들마다 특별히 좋아하는 인형이나 놀잇감이 있듯이 젖병도 그 중의 하나라는 것 항상 새로운 놀잇감을 원하는 아기에게 젖병은 훌륭한 놀잇감이요 친구가 된다 게다가 다른 어떤 것보다 쉽게 빨 수 있고 배고픔도 해소할 수 있으니 아기들이 자주 찾게 될 수밖에 없는 것이다 아기가 젖병으로만 먹으려 한다면 그대로 두어도 되는 것일까 서서히 스스로 젖병을 뗄 수 있게 되지는 않을까 아기가 너무 오랫동안 젖병을 물고 있거나 돌이 지나서도 젖병을 떼지 못했다면 문제는 크다 젖병에 담을 수 있는 음식만 먹다 보니 정상적인 이유 과정이 완료되기 어렵고 영양의 불균형 때문에 발육에도 나쁜 영향을 미치기 때문이다 더 큰 문제는 정서적으로도 좋지 않은 영향을 끼친다는 점이다미국의 한 연구 보고에 의하면 젖병을 늦게 뗀 아기들의 경우 성장해서 알코올 중독 증상이 더 많이 나타났다고 한다 어려서 젖병에 의존하던 성향이 너무 강해 커가면서도 무언가에 의존하게 되고 자신의 스트레스를 먹는 것에서 풀려고 하는 마음에서 오는 현상이라고 젖병을 사용하면서 느끼던 쾌감과 집착적인 행동이 자라서 알코올 중독으로 이어지는 것은 매우 극단적인 사례이지만 대수롭지 않게 여기던 젖병을 빠는 습관 때문에 아기의 정서적 건강이 나빠진다는 건 결코 간과할 수 없는 일이다따라서 윤경애 원장은 아기가 18개월이 되기 전까지는 젖병을 반드시 떼야 한다고 강조한다 아기가 6개월이 되면 반드시 이유식을 시작해 수유량을 점차 줄이고 숟가락 쥐는 법과 컵 사용법을 가르쳐 돌이 되면 젖병 수유를 완전히 끊어야 한다 젖병을 오랫동안 떼지 못했을 때 오는 부작용에는 어떤 것이 있는지 좀더 구체적으로 알아보자 의존적인 성격이 강해진다 젖병을 오랫동안 사용한 아기들의 경우 다른 아기들에 비해 의존적인 성격이 강해진다 어릴 적부터 젖병에 지나치게 집착하고 젖병을 빠는 것에서 정신적인 만족감을 얻었기 때문에 이런 습관을 버리기 어렵다 또 이렇게 한 가지 사물에 집착했던 아기들은 자라면서도 자신이 마음먹은 대로만 하려는 고집스런 성격이 되기 쉽다고 한다 영양 불균형이 초래된다 분유에는 철분이 부족하여 소아 빈혈을 초래하기 쉽다 특히 6개월 이상의 아기에게 분유만 먹이거나 돌이 지난 아기가 분유나 생우유를 주식으로 하고 있다면 빈혈일 가능성이 높다 이 시기가 되면 분유나 생우유는 간식이 되어야 하고 반드시 밥과 반찬을 통해 영양을 섭취해야 한다 또 분유나 생우유를 많이 먹을 경우 소아 비만의 원인이 되기도 한다 통상 젖병을 떼지 못한 아기들은 우유 섭취량이 권장량소아과 의사들은 돌 이후에는 하루 평균 400∼500cc를 권장하고 있다보다 매우 많은 편이어서 영양 불균형을 초래하기 쉽다 치아를 손상시킨다 젖병을 사용하면 아기의 입 안에 우유가 남아 충치의 원인이 된다 간혹 아기의 치아는 영구치가 아니라 유치니까 썩어도 별문제없겠지 하고 생각하는 엄마들이 있으나 이것은 큰 착각이다 치아가 심하게 썩어 치아의 뿌리 부분까지 영향을 미치게 되면 아기의 영구치에까지 나쁜 영향을 준다 또 유치가 나는 시기에 젖병을 계속 물고 있으면 치열도 고르지 못하게 되므로 특히 주의해야 한다 아기의 치아를 깨끗이 닦아준다면 별문제가 되지 않겠지만 아기들의 경우 치아를 고루고루 닦아주는 것은 생각보다 어려운 일이다 환경 호르몬에 노출될 수 있다 환경 호르몬이라 하면 컵라면 용기 등에 쓰이는 일회용 용기에서만 나오는 것이려니 생각하는 경우가 많으나 아기들이 사용하는 플라스틱 젖병 역시 환경 호르몬에 안전할 수는 없다 요즘은 환경 호르몬에 안전한 소재를 이용한 젖병들도 판매되고 있지만 그래도 사용할 때 주의를 기울여야 한다 특히 요즘 엄마들은 전자레인지를 이용해 젖병을 소독하는 경우가 많은데 플라스틱으로 된 젖병을 전자레인지로 오랜 시간 가열하게 되면 환경 호르몬이 방출될 수 있다 비록 미세한 양이라 하더라도 연약한 아기의 입 속에 아구창을 일으킬 수도 있다고 한다 신체 발달에 영향을 준다 쉽게 젖병을 빠는 데 습관이 된 아기들은 다른 음식을 먹을 때도 노력을 들이려 하지 않게 된다 자신이 직접 숟가락을 쥐고 이유식을 먹어야 할 시기에도 젖병 빨기에만 열중한다면 손에 힘을 주고 사물을 쥐는 능력이 다른 아기들에 비해 더디게 된다 중이염의 위험성이 있다 설마 하는 엄마들이 많겠지만 실제로 젖병 떼기가 너무 늦으면 중이염 가능성이 커진다 아기들은 이관이 수평으로 되어 있고 길이가 짧은데다 두꺼워서 누운 채 젖병으로 우유를 먹다 보면 이관에 가해지는 압력이 커져 중이염에 걸릴 위험이 있다 잦은 배탈의 원인이 된다 아기들은 우유를 먹을 때 한 번에 다 먹지 않고 오랫동안 젖병을 들고 돌아다니는 경우가 많다 이런 경우 우유가 상해 무심코 다시 젖병을 빨게 된 아기들은 배탈이 나게 된다 또 빈 젖병을 오래 빨거나 누워서 젖병을 빨게 되면 공기를 많이 먹게 돼 토하거나 배앓이를 하기 쉽다 또한 남긴 우유를 아깝다고 다시 주면 배탈의 원인이 될 수도 있으니 주의해야 한다 보통 4∼5개월부터 시작하여 6개월이 되면 대부분의 아기들에게 시작되는 이유기 이 시기에 올바르게 이유식을 먹이는 연습만 해도 젖병 떼기는 자연스럽게 할 수 있게 된다고 한다 올바른 젖병 떼기는 언제 어떤 과정을 거쳐야 하는 것일까 생후 4∼6개월 이 시기에는 분유 수유 사이에 쌀미음 과일즙 등으로 이유식을 시작할 수 있다 그러나 아기들은 아직 소화 기관이 완벽하게 발달하지 않았으므로 이유식 재료에 주의를 기울여야 한다 아직 숟가락이나 컵을 사용하기에는 이르지만 아기가 이유식을 먹을 때 옆에 두고 친근감을 느끼게 하는 것이 좋다 과일즙을 줄 때 가끔씩 숟가락에 떠서 아기에게 주면 새로운 것에 흥미를 느끼게 될 것이다 생후 6∼12개월 아기에게 본격적으로 이유식을 먹이기 시작하는 6개월이 되면 올바른 식습관을 가르치고 균형 있는 영양을 공급해주는 것이 중요하다 이 시기부터는 분유량을 조금씩 줄이고 아기에게 필요한 영양분을 이유식을 통해 섭취하도록 해줘야 한다 이유식은 묽은 죽에서 밥의 형태로 바꿔가고 점차 다양한 재료를 첨가해주며 횟수를 늘려간다 그러다 돌이 지나면 하루 3번 이상 밥이나 죽을 통해 영양을 섭취하도록 해야 한다 생우유의 경우 영양이 풍부하다고 생각해 지나치게 많이 먹이는 엄마들이 있으나 그러면 아기들이 변비에 걸리기 쉽다 따라서 평상시에 음식을 통해 섬유질을 충분히 섭취하게 해야 한다생후 8개월이 지나면 아기는 점차 손에 힘을 주고 물건을 잡으려고 하는데 이때부터 아기에게 숟가락과 컵 쥐는 연습을 시켜줘야 한다 젖병을 떼는 일이 마음먹었다고 해서 곧바로 이루어지는 일이 아니라 수많은 연습의 결과로 이루어지는 일이기 때문이다 이유식을 줄 때는 항상 그릇에 담아 떠먹여야 하며 조제 이유식을 젖병에 담아 먹이는 것은 매우 좋지 않은 방법이다 또 아기가 숟가락 사용하는 것이 익숙지 않아 옷에 흘리기 쉬우므로 이유식을 줄 때는 턱받이를 해주는 것이 좋다 아기에게 분유를 먹일 때 젖병에 담아주는 횟수를 점차 줄이고 컵에 담아주는 것도 빨리 젖병을 떼게 하는 방법이 된다 무엇보다 이 시기에는 아기에게 다양한 음식을 경험하게 하고 편식하는 습관을 갖지 않도록 하는 것이 중요하다 생후 12∼18개월 본격적으로 젖병을 떼야 하는 시기다 젖병은 돌이 지난 후 늦어도 18개월 이전에는 반드시 떼야 한다 떼는 방법은 간단하다 젖병을 치우고 숟가락과 컵으로 먹이면 그만이다 물론 구체적인 방법은 아기에 따라 다소 다를 수 있으나 이유 과정을 제대로 해왔다면 큰 무리는 없을 것이다 항상 젖병을 물고 다니는 아기와 따라다니며 젖병을 뺏으려는 엄마 아기 키우기에 항상 지쳐 있을 엄마들은 어떻게 해야 아기에게 상처를 주지 않고 효과적으로 젖병을 뗄 수 있을지 고민이다 아기가 좀더 자라서 엄마의 말을 이해하는 나이가 되면 젖병을 쉽게 뗄 수 있다는 의견도 있으나 그때까지 기다리는 것은 올바른 방법이 아니다 젖병 떼기가 늦은 아이들 가운데에는 네 살 다섯 살까지도 젖병혹은 공갈 젖꼭지을 물고 잠드는 사례도 적지 않다 분유 떼기도 병행한다 젖병을 떼기 위해 반드시 거쳐야 하는 과정이 바로 이유離乳다 분유를 지속해서 먹는다면 젖병을 떼는 일이 두 배로 어려워진다 또 분유를 먹이다 보면 분유 맛에 익숙해진 아기들은 다른 음식을 잘 먹으려 들지 않는다 이유기에는 이유식을 잘 먹여야 비로소 밥을 먹는 어린이로 순조롭게 성장해갈 수 있음을 명심하자 컵과 숟가락 연습을 시킨다 아기가 8개월 정도가 되면 어느 정도 자신의 손으로 물건을 쥐는 힘이 생기게 된다 이 시기부터 숟가락 쥐는 연습을 시켜야 적당한 시기에 젖병을 뗄 수 있다 또 아기들은 컵 사용이 익숙지 않아 옷에 자꾸 흘리게 된다고 컵을 사용하지 않는 경우가 있는데 이렇게 자꾸 미루다 보면 아기는 돌이 지나도 컵을 사용하지 못하게 된다 안전한 빨대 컵을 준다 젖병에만 익숙해져 있는 아기들에게 빨대 컵과 알록달록 예쁜 캐릭터 컵을 주는 것도 젖병을 멀리하게 하는 하나의 방법이다 단 어른들이 사용하는 얇고 작은 빨대를 아기에게 주어서는 안 된다 아기들에게는 너무 날카롭고 입 안 깊숙이 넣을 위험성이 있기 때문이다 스스로 컵을 가지고 먹게 되면 아기들은 자립심도 길러지고 흥미도 느끼게 된다 시중에는 아기들이 쉽게 사용할 수 있고 옷에 흘릴 염려도 없는 제품들이 많이 나와 있는데 빠는 부분이 뭉툭하고 둥글게 처리되어 있어 안전하다 아기가 빨대를 잘 사용하지 못한다면 빨대를 이용한 놀이를 통해 빨대에 적응시키는 것도 좋은 방법이다 또 처음에는 빨대 컵을 사용하다가 점차 시간이 지나면 일반 컵을 사용할 수 있게 엄마가 조절해주어야 한다 수유 시간을 정확하게 지킨다 수유 시간을 정확히 지키고 올바른 식습관을 들여주는 것도 무엇보다 중요하다 특히 밤중 수유는 반드시 끊어야 한다 아기가 6개월 정도 되면 치아가 나기 시작하는데 충치의 원인이 밤중 수유에서 시작되는 경우가 많기 때문이다 또 밤중에 잠에서 반쯤 깨어 먹는 일이 잦아지면 아기의 성장 호르몬 분비에도 지장을 주게 된다 음식을 먹을 시간이 되면 아기를 식탁 의자에 앉히거나 어른들이 먹는 시간에 맞춰 함께 음식을 먹게 하는 것도 좋은 방법이 된다 수유 시간 사이에 아기가 좋아하는 주스나 보리차를 먹이는 것도 좋다 그 밖에 반드시 젖병으로 먹여야 한다면 엄마가 아기를 안고 먹이는 것이 좋다 엄마가 안아주게 되면 아기가 젖병에 집착하는 성향이 줄어들기 때문 또 아기가 숟가락이나 컵으로 먹었을 때 칭찬해주는 것도 반드시 필요하다 젖병 젖꼭지를 빠는 대신에 다양한 질감을 느낄 수 있는 치아 발육기를 이용하는 것도 좋고 재미있게 생긴 장난감을 주면 당연히 젖병에 대한 관심이 줄어들게 된다 돌이 지났는데도 아기가 젖병만을 고집할 때는 단호하게 대처해야 한다 먼저 엄마가 마음을 단단히 먹고 젖병을 치운 뒤 숟가락이나 컵으로만 먹인다 물론 아기는 떼를 쓰거나 먹지 않는 등 저항을 하게 되지만 그래도 대부분의 아기들은 이틀 정도가 지나면 엄마가 주는 대로 음식을 먹게 된다그러나 간혹 고집이 너무 센 아기는 이런 방법이 먹히지 않을 수도 있다 젖병을 주지 않는다고 해서 아기가 발작을 일으킬 정도의 상황이 벌어진다면 아기의 상태를 지켜본 후 천천히 시도해야 한다 이런 아기들은 자신이 원하는 것을 얻기 전에는 아무것도 먹으려 들지 않기 때문에 필요한 영양분이 부족하지 않게 천천히 젖병 떼기를 시도해야 한다 아울러 이처럼 젖병을 고집하는 데에는 다른 정서적인 문제 때문일 수도 있으므로 전문가의 상담을 받아보는 것도 좋겠다아기가 원하는 젖병을 주지 않으면 욕구 불만이 생기지 않을까 걱정하는 엄마들이 있지만 계속해서 젖병을 물고 있을수록 아기의 고집은 더 세지게 된다 또 젖병을 떼었다가 아기가 울고 보챈다고 해서 다시 젖병을 주게 되면 다음에 다시 젖병을 떼기 위해서는 두 배의 시간과 노력이 필요하다 젖꼭지에 쓴 약을 발라놓거나 아기가 보는 앞에서 젖병 젖꼭지를 잘라버리는 방법을 사용하는 엄마들도 있으나 이런 방법은 바람직하지 않다 아기에게 젖병을 떼는 이유를 설명해준 뒤 젖병을 치우고 단호히 대처하는 정면 돌파의 방법이 어렵지만 가장 효과적인 방법이다\n",
      "idx: 15222 similarity: 0.659\n",
      "7개월 된 여자 아기인데 생후 3개월 되던 때부터 엄지손가락을 빨기 시작하더니 요즘에는 젖병을 입에서 떼기가 무섭게 손가락을 가져가요 손가락을 빼면 화를 내고 이리저리 고개를 돌려 손가락을 찾고 빨아야만 잠이 듭니다 저희 아기는 생후 50일도 안 돼서 주먹을 빨더니 요즘은 손가락을 넣고 쩝쩝 소리까지 내가며 맛있게 빨아댑니다 아기가 좋아하는 것 같아서 그냥 놔두기는 하는데 괜찮을까요 초보 엄마가 육아 카페에 올린 아기의 손가락 빨기에 대한 걱정의 글이다 이렇듯 많은 아기가 성장 과정에서 손가락을 입에 가득 넣고 빨거나 엄지 또는 검지만 빨기도 하는데 초보 엄마는 이러한 아기의 습관 앞에서 으레 당황하게 마련이다 아기가 손가락을 빨면 손가락 모양이 변하진 않을지 구강 구조에 영향을 주지는 않을지 하는 걱정과 함께 직장맘이거나 피치 못할 사정으로 남의 손에 맡겨야 하는 엄마는 아기가 엄마에 대한 애정 결핍과 욕구불만으로 손을 빠는 것은 아닐지 죄책감에 사로잡히기도 한다 아기가 손을 빠는 습관은 이래저래 엄마에게는 골칫거리가 되는 셈 엄마의 유방 젖병의 젖꼭지나 어떤 부드러운 물체로 아기의 볼을 살짝 건드리면 아기는 그 물체를 향해 입을 벌리고 머리를 돌리는 반사 행동을 보인다 이는 신생아가 생존을 위해 젖꼭지를 찾아 젖을 먹으려고 하는 행동으로 젖 찾기 반사 혹은 루팅 반사라고 한다 모유 냄새가 나는 쪽으로 얼굴과 입을 돌려서 먹으려는 행동도 이러한 반사 행동의 하나다 또 아기는 젖을 빠는 힘이 강력해 엄마의 젖이 다 비워질 때까지 빨 수 있다 이렇듯 아기의 빨기 본능은 말 그대로 생존 본능이다 젖을 먹고 살아야 하는 본능이 작용한 것 이러한 본능이 잦은 반복으로 인해 습관이 되고 이 습관이 아기의 손가락 빨기로 이어지는 것이다 한 연구 보고에 의하면 13세에 40 35세에 33 5세 이후에도 25가 손가락을 빤다고 한다 손가락 빨기는 아기가 좀 더 편안한 상태를 유지하기 위해 행하는 습관 중 하나다 하지만 아기의 손가락 빨기 습관은 틱장애 같은 문제일 수도 있으므로 다른 습관성 행동은 없는지 살피는 것이 중요하다 계속해서 손가락을 빨면 치아 배열에 지장을 주고 정서적으로나 사회적으로 장애가 생길 수 있으므로 격려와 함께 적절한 보상으로 다독여주는 것이 좋다 앞서 말했듯이 아기는 자신의 불안한 심리 상태를 좀 더 편안하고 안정되게 하기 위해 손가락을 빤다 전문가들은 이렇게 일정 월령의 아기가 손가락을 빠는 습관은 자연스러운 현상이라고 이야기한다 아기는 태아 시기인 임신 28주 무렵부터 손가락을 빨기 시작하는데 이런 행동은 태어나 젖을 먹으면서도 계속되며 일반적으로 모유를 먹는 아기보다 분유를 먹는 아기에게 더 많이 나타난다 분유를 먹는 아기는 모유를 먹는 아기보다 훨씬 힘을 덜 들이고 우유를 먹을 수 있어 빨기 욕구가 더 강하게 나타나기 때문이다 아기는 손가락을 빨면서 안정감과 편안함을 느낀다 손가락을 빠는 버릇은 때가 되면 점점 사라지므로 억지로 제지할 필요는 없다 하지만 손가락 빨기는 분명 위생상 좋지 않으며 치아 배열에도 영향을 끼친다 습관이 지속되면 손가락에 굳은살이 생기거나 염증이 생기기도 한다 생후 6개월이 지나도 아기가 손가락을 계속 빤다면 왜 아기가 손가락을 빨고 있는지 생각해봐야 한다 대개 아기는 심심하거나 부모의 관심을 얻고 싶을 때 손가락을 빤다 따라서 이런 아기의 심리를 파악하고 나서 대처하는 것이 순서다 이를 방관하면 아기가 놀이의 즐거움을 통해 얻을 수 있는 중요한 자극을 상실하는 것과 같기 때문이다 일반적으로 아기가 손가락을 빠는 버릇은 활동량이 많아지거나 무언가에 집중하는 34세가 되면 자연스럽게 없어지지만 그렇지 않을 때는 강압적으로 아이의 행동을 제지하기보다는 아이가 손가락을 빠는 원인이 무엇인지 살피고 그 원인을 없애주는 것이 옳다 아이만이 알 수 있는 눈빛이나 미소를 보내 자신도 모르게 하는 행동을 자각할 수 있도록 도움을 주는 것이 좋다 따라서 아기가 어리다면 크게 걱정할 필요는 없다 하지만 어느 정도 자란 아이가 손가락을 빨아댄다면 경우가 좀 다르다 영구치가 나기 시작하는 만 5세쯤에는 손가락을 빠는 버릇이 새로 나는 영구치에 나쁜 영향을 미칠 수 있기 때문이다 손가락 대신 빨 수 있는 대치물을 준다 생후 6개월 이후에도 아기가 심각할 정도로 손가락을 빤다고 판단될 때는 손가락 대신 공갈 젖꼭지로 대체해주는 것이 좋다 가끔 엄마 중에 공갈 젖꼭지가 아기에게 안 좋은 영향을 미칠 수 있다고 생각하는데 미국 소아학회에서는 아기가 공갈 젖꼭지를 빨아도 의학적으로나 심리적으로 아무런 문제가 생기지 않는다고 밝히고 있다 또는 이가 나기 시작하면 간지러워 손을 빨 수도 있으므로 이가 나려고 하는 것인지 살펴보고 치아 발육기를 물려주는 것도 한 방법이다 부드러운 방법으로 지적해준다 아기가 손가락을 빤다고 해서 억지로 손가락을 잡아 빼거나 못하게 하면 아기는 입술을 빠는 버릇으로 욕구를 채우려고 할 수 있다 즉 나쁜 습관의 강압적인 중단이 더 나쁜 버릇으로 이어질 수 있으므로 주의하도록 한다 아기가 손가락을 입에 가져가면 다정한 목소리로 손가락이라고 지적하거나 손을 빠는 아기와 눈이 마주쳤을 때 고개를 절레절레 흔들어서 안 된다는 표시를 하면 아기는 자기의 버릇을 인식하게 된다 다른 일에 흥미를 갖게 한다 아기가 손가락을 빨고 있으면 아기의 주의를 끌 다른 흥밋거리를 제공한다 이를테면 아기가 좋아하는 그림책을 가져와 자 엄마랑 그림책 볼까 하면서 슬쩍 아기의 손에 책을 쥐어준다 아기는 그림책을 보는 동안 손가락 빠는 것을 잊어버릴 것이다 엄마와 함께 산책을 나가거나 그림을 그려보거나 소리 나는 장난감을 가지고 놀게 하는 것도 좋은 방법이다 만약 잘 때만 허전함을 느껴 손가락을 빠는 아기라면 잠이 잘 들도록 목욕 후 엄마가 노래를 불러주거나 재미있는 이야기를 들려준다 요 엄마 젖꼭지 또는 젖병 젖꼭지와 모양이 같고 입에 물 수 있도록 만든 젖꼭지를 공갈 젖꼭지라고 한다 공갈 젖꼭지는 엄마들이 아기의 울음을 달래고자 입에 물려주었던 것이 최근 아기의 빨려는 욕구를 충족시킨다는 연구 결과가 발표되면서 평상시에 사용하는 엄마가 꽤 많이 늘었다 습관이 되면 잠자리에 들 때조차 입에 물고 자려 한다 대물 애착의 애착물과는 달리 엄마가 습관적으로 물려주는 것으로 신체 접촉만큼의 포만감과 욕구가 충족되어 아기의 심리적 안정에 좋은 영향을 미친다고 한다 생후 6개월이 지나면 아기의 빨고자 하는 욕구는 줄어든다 그 이후에 공갈 젖꼭지를 빠는 것은 이를 대체할 만한 흥미로운 자극을 받지 못해서라고 볼 수 있다 공갈 젖꼭지에 집착하는 것이 심각한 문제가 되지는 않지만 아기의 심리적인 욕구불만을 표현하는 신호일 수 있으므로 부모는 세심한 관심과 사랑으로 아기에게 신경 써야 할 것이다 특히 중이염이 잦은 아기에게는 월령이 낮더라도 공갈 젖꼭지를 물려서는 안 된다 귀 안의 이관에 음압이 작용해 중이염에 쉽게 걸릴 수 있기 때문이다 떼는 시기 공갈 젖꼭지에 익숙해진 아기는 애착물의 경우와 같이 공갈 젖꼭지를 입에서 놓지 않으려고 한다 주로 우유를 먹는 아기가 더 많은 집착을 보이는데 이는 젖병으로 먹는 우유는 아기가 빨려고 하는 욕구를 충분히 충족하지 못한 채 없어져버리는 것도 어느 정도 원인이 된다 일부 전문가들은 공갈 젖꼭지를 심하게 빨면 이가 곧바로 나오는 것을 방해하고 입 모양이 밉게 된다고 주장하기도 하지만 아주 심한 경우가 아니면 큰 지장이 없다는 의견이 대세다 그렇지만 습관이 되거나 심하게 물면 구강 발달이나 치아 발달에 좋지 않으므로 두 돌 전에 끊는 것이 바람직하다 이렇게 떼세요 공갈 젖꼭지를 떼기 위해서는 가능한 한 아기와 많이 놀아주고 흥미 있는 다른 놀이를 할 수 있도록 끊임없이 신경 써주어야 한다 아기를 혼내거나 지나친 걱정을 보이는 것은 아기에게 스트레스를 주어 빨기에 더 집착할 수 있다 만 4세가 지나도 빨기가 지속되면 적극적으로 치료를 해야 하는데 대화를 통해 왜 빨면 안 되는지 이유를 설명해주고 손가락이나 집착하는 공갈 젖꼭지에 약을 바르거나 장치를 붙이는 방법을 쓰기도 한다 특별한 이유가 없는 한 이유식을 먹고 고형 음식을 먹게 되면 더 이상 빨지 않는 경우가 대부분이다 특히 동생이 생긴 아이에겐 공갈 젖꼭지는 아기만 사용하는 것이라고 일러주면 쉽게 뗄 수 있다 돌이 지난 아이가 젖병을 떼지 못하고 지속적으로 찾는 행동은 못하게 해야 한다고 전문가들은 못박아 말한다 아이가 젖병을 찾는 이유는 배가 고파서라기보다는 빨고자 하는 욕구를 충족하고 싶기 때문이다 하지만 아이가 젖병을 통해 심리적 안정감을 찾는 경우는 극히 드물다고 한다 떼는 시기 첫돌이 지나면 반드시 젖병을 떼야 하는데 젖병을 제 시기에 떼지 못하면 이유 과정에서 영양 불균형 등의 문제가 나타날 수 있고 지나치게 의존하려는 경향 때문에 정서적으로 나쁜 영향을 미친다 또 젖병을 물고 자는 경우가 많아 치아 건강이 나빠진다 그리고 플라스틱 젖병은 환경호르몬의 나쁜 영향을 받을 수 있으므로 일찍 떼는 것이 좋다 젖병으로 우유를 먹다 보면 이관에 가해지는 압력이 커져 중이염에 걸릴 위험이 있고 젖병을 물고 오래 돌아다니다 보면 우유가 상해 배탈이 날 수 있으므로 주의해야 한다 이렇게 떼세요 자연스러운 젖병 떼기는 이유기부터 시작하는 것이 좋은데 바른 이유 연습 과정만 잘 지켜도 젖병 떼기는 자연스럽게 이뤄진다 그러기 위해서는 우선 분유를 끊고 숟가락으로 밥을 먹는 연습을 해야 한다 안전한 빨대컵에 우유나 물을 담아 빨대로 마시는 연습을 시키고 컵이나 숟가락으로 먹었을 때는 아낌없이 칭찬해 아이에게 자부심을 심어준다 젖병 대신 다양한 질감을 느낄 수 있는 치아 발육기를 사용하거나 수유 시간을 제대로 지키는 것도 젖병 떼기에 아주 중요하다\n",
      "idx: 14914 similarity: 0.652\n",
      "젖병은 돌 전후 떼는 것이 일반적이며 늦더라도 18개월쯤에는 끊어야 한다 돌이 지나면서부터는 수유가 아닌 균형 잡힌 식사로 고르게 영양을 섭취해야 하지만 돌 무렵부터 아이는 자기주장이 생겨 고집을 피우고 싫은 건 완강하게 거부해 젖병 떼기가 더욱 힘들어진다 게다가 소근육이 발달해 직접 젖병을 들고 먹으려 하는데 이렇게 젖병에 대한 지배권이 아이에게 넘어가버리면 젖병 떼기가 더욱 어려워진다 특히 젖병을 문 채 잠드는 게 습관이 된 아이는 내용 물보다 젖병을 무는 행위에 집착해 젖병과의 작별이 더 어렵다 손가락이나 노리개젖꼭지를 빠는 것과 마찬가지로 편안함을 느끼기 때문 따라서 생후 8개월 무렵부터는 밤에 젖병을 빨지 않고도 잠을 잘 잘 수 있게 수면 교육을 시작하는 것이 바람직하다 컵에 우유를 주면 아이가 장난치고 잘 먹지 않거나 흘린다며 젖병에 우유를 담아 주는 경우도 있는데 이 또한 젖병 집착을 심하게 하는 행동이므로 피한다 아이가 자꾸 흘리더라도 인내심을 가지고 연 습할 수 있는 기회를 줄 것 간혹 우유가 영양가가 높다는 생각에 많은 양의 우유를 먹이려는 경우도 있다 우유는 칼슘과 단백질이 풍부하지만 아이가 고형식을 먹기 시작했다면 간식의 개념일 뿐이다 우유를 필요 이상으로 많이 먹으면 편식의 원인이 되거나 배가 불러 주식을 덜 먹는 등 영양불균형을 초래한다 돌 지난 아이는 하루에 생우유를 2컵500ml 정도 먹는 게 적당하다 젖병을 오래 물고 있을 때 생길 수 있는 대표적인 문제로 치아우식증을 꼽는다 젖병을 문 채 잠들면 우유의 당분이 밤새 입안에 남아 치아를 갉아 먹는다 이렇게 당분에 오랫동안 노출된 치아는 까맣게 썩는다 또한 젖병을 지나치게 오래 빨면 중이염에 걸리기 쉽다 유치가 나는 시기에 젖병을 계속 물고 있으면 이가 고르게 나지 않는다 젖병을 떼지 못한 아이들의 우유 섭취량이 다른 아이들보다 많을 수밖에 없는 점도 문제다 돌이 된 아이는 삼시 세끼 식사와 두 번의 간식으로 하루 에너지 공급량의 70 정도를 채워야 한다 우유 섭취량이 과도하게 많을 경우 영양불균형을 초래해 성장 발달이 저해될 수 있으므로 유의한다 1 돌 무렵부터 생우유로 바꿔 먹인다 계속 젖병을 빨던 아이가 돌이 지났다고 하루아침에 젖병을 끊기는 쉽지 않다 순조롭게 끊기 위해 서는 컵으로 먹는 연습을 시켜보자 생후 6개월부터 물이나 분유를 한 모금씩 컵으로 먹여보고 생후 9개월부터는 컵으로 먹이는 연습을 본격적으로 시도해본다 분유는 생후 12개월까지 먹이되 돌 무렵 이 되면 생우유로 바꾸며 모자란 영양은 이유식으로 보충한다 2 알록달록 예쁜 컵을 활용한다 생후 9개월이 되면 컵을 쥘 수 있고 무엇이든 혼자 하려고 하므로 스스로 마시게 해본다 빨대컵이나 알록달록 예쁜 캐릭터 컵 등으로 아이의 마음을 사로잡는 것도 방법 3 완강하게 거부할 때는 12주 후에 다시 시도한다 아이가 젖병 떼기를 완강하게 거부하면 어느 정도 시간을 두고 12주 후에 다시 시도하는 것이 좋다 너무 강압적으로 하면 아이에게 심리적인 부담감을 줄 수 있으므로 자연스럽게 천천히 바꾸는 것이 좋다 아이가 밥도 안 먹고 계속 보채면 마음이 약해져 젖병을 다시 물리곤 하는데 눈 딱 감고 3일만 참아보자 아이는 미련 없이 젖병을 잊게 될 것이다 고집이 센 아이는 시간이 더 걸리기도 하지만 평균 12 주 정도면 가능하다 4 젖병 떼기에 대한 보상을 해준다 말귀를 알아듣는 아이라면 적절한 보상을 해주는 것도 한 방법 젖병은 아기들이나 쓰는 거야 컵으로 먹으면 엄마가 주스 줄게라고 아이에게 보상을 제시하면 어느 정도 효과를 기대할 수 있다 컵으로 먹기를 독려하고 성공했을 때는 반드시 칭찬한다 5 아이가 보는 앞에서 젖병을 버린다 젖병 안녕하면서 아이가 보는 앞에서 젖꼭지를 자르거나 젖병을 휴지통에 버린다 이렇게 작별 의식을 치르면 젖병에 대한 미련이 사라진다 찢어진 젖꼭지를 아이에게 보여주며 젖꼭지가 찢어졌지 그러니 이제부터 젖병 대신 컵에 담아 먹어야 해 하면서 컵에 우유를 담아 준다\n"
     ]
    }
   ],
   "source": [
    "print(\"Input Document\", df['text'][100], sep=\"\\n\")\n",
    "\n",
    "similar_docs = doc2vec_model.docvecs.most_similar(100)\n",
    "\n",
    "print(\"Most similar Documents\")\n",
    "for idx, similarity in similar_docs[:3]:\n",
    "    print(\"idx:\", idx, \"similarity:\", np.round(similarity, 3))\n",
    "    print(df['text'][idx])"
   ]
  },
  {
   "cell_type": "code",
   "execution_count": 71,
   "metadata": {},
   "outputs": [],
   "source": [
    "df['tokenized_doc'] = df['noun'].apply(lambda x: doc2vec_model.infer_vector(x).astype(float))"
   ]
  },
  {
   "cell_type": "code",
   "execution_count": 72,
   "metadata": {},
   "outputs": [
    {
     "data": {
      "text/html": [
       "<div>\n",
       "<style scoped>\n",
       "    .dataframe tbody tr th:only-of-type {\n",
       "        vertical-align: middle;\n",
       "    }\n",
       "\n",
       "    .dataframe tbody tr th {\n",
       "        vertical-align: top;\n",
       "    }\n",
       "\n",
       "    .dataframe thead th {\n",
       "        text-align: right;\n",
       "    }\n",
       "</style>\n",
       "<table border=\"1\" class=\"dataframe\">\n",
       "  <thead>\n",
       "    <tr style=\"text-align: right;\">\n",
       "      <th></th>\n",
       "      <th>text</th>\n",
       "      <th>tokenized</th>\n",
       "      <th>noun</th>\n",
       "      <th>keywords</th>\n",
       "      <th>tokenized_doc</th>\n",
       "    </tr>\n",
       "  </thead>\n",
       "  <tbody>\n",
       "    <tr>\n",
       "      <th>0</th>\n",
       "      <td>6살 남아 입니다 회사 복직 후 3살부터 주중에는 외할머니댁에서 2살 4살 터울의 ...</td>\n",
       "      <td>[6, 살, 남, 아, 입, 니, 다, 회사, 복직, 후, 3, 살, 부터, 주, ...</td>\n",
       "      <td>[살, 회사, 복직, 후, 살, 주, 중, 외할머니, 댁, 살, 살, 터울, 사촌,...</td>\n",
       "      <td>[남, 입, 회사, 복직, 후, 주, 외할머니, 댁, 터울, 사촌, 형, 누나, 금...</td>\n",
       "      <td>[0.1641332358121872, -4.2163810576312244e-05, ...</td>\n",
       "    </tr>\n",
       "    <tr>\n",
       "      <th>1</th>\n",
       "      <td>요즘 들어 아빠가 아이에게 다가가려고 하면 엄마한테 갈 거야 하면서 엄마를 유독 찾...</td>\n",
       "      <td>[요즘, 들, 어, 아빠, 가, 아이, 에게, 다가가, 려고, 하, 면, 엄마, 한...</td>\n",
       "      <td>[아빠, 아이, 엄마, 거, 엄마, 전, 정도, 엄마, 아빠, 거부, 엄마, 눈, ...</td>\n",
       "      <td>[들, 아빠, 아이, 다가가, 하, 엄마, 하, 엄마, 찾, 전, 정도, 엄마, 매...</td>\n",
       "      <td>[0.28892576694488525, -0.5387788414955139, 0.1...</td>\n",
       "    </tr>\n",
       "    <tr>\n",
       "      <th>2</th>\n",
       "      <td>둘째가 태어나면 첫째가 힘들 거라는 건 예상하고 있었지만 툭하면 삐치고 울고 좀처럼...</td>\n",
       "      <td>[둘째, 가, 태어나, 면, 첫째, 가, 힘들, 거, 라는, 건, 예상, 하, 고,...</td>\n",
       "      <td>[둘째, 첫째, 거, 건, 예상, 때, 엄마, 껌, 딱지, 첫째, 외출, 때, 제외...</td>\n",
       "      <td>[태어나, 예상, 삐치, 울, 서럽, 웁, 때, 엄마, 껌, 딱지, 외출, 때, 제...</td>\n",
       "      <td>[0.08370722085237503, -0.13255001604557037, -0...</td>\n",
       "    </tr>\n",
       "    <tr>\n",
       "      <th>3</th>\n",
       "      <td>20개월 남아가 있고 임신 8개월차로 두 아기의 엄마입니다 첫 아이는 잠자리 독립을...</td>\n",
       "      <td>[20, 개월, 남아, 가, 있, 고, 임신, 8, 개월, 차, 로, 두, 아기, ...</td>\n",
       "      <td>[개월, 남아, 임신, 개월, 차, 아기, 엄마, 아이, 잠자리, 독립, 생후, 일...</td>\n",
       "      <td>[남아, 있, 임신, 차, 아기, 엄마, 아이, 잠자리, 독립, 생후, 전, 재우,...</td>\n",
       "      <td>[0.17814810574054718, -0.2249746322631836, 0.2...</td>\n",
       "    </tr>\n",
       "    <tr>\n",
       "      <th>4</th>\n",
       "      <td>14개월 남자 아기인데 심하게 깨무는 버릇이 있어요 전에는 졸릴 때 주로 물곤 했는...</td>\n",
       "      <td>[14, 개월, 남자, 아기, 인데, 심하, 게, 깨무, 는, 버릇, 이, 있, 어...</td>\n",
       "      <td>[개월, 남자, 아기, 버릇, 전, 때, 이제, 자기, 지대, 때, 떼, 상대방, ...</td>\n",
       "      <td>[남자, 아기, 심하, 깨무, 버릇, 있, 전, 때, 물, 이제, 지대, 때, 떼,...</td>\n",
       "      <td>[-0.029396692290902138, 0.1356123685836792, -0...</td>\n",
       "    </tr>\n",
       "    <tr>\n",
       "      <th>...</th>\n",
       "      <td>...</td>\n",
       "      <td>...</td>\n",
       "      <td>...</td>\n",
       "      <td>...</td>\n",
       "      <td>...</td>\n",
       "    </tr>\n",
       "    <tr>\n",
       "      <th>25344</th>\n",
       "      <td>가임기 연력 여성의 흡연률 증가와 그 폐해 현대 여성은 다양한 사회활동에 참여하고 ...</td>\n",
       "      <td>[가, 임기, 연력, 여성, 의, 흡연, 률, 증가, 와, 그, 폐해, 현대, 여성...</td>\n",
       "      <td>[임기, 연력, 여성, 흡연, 증가, 폐해, 현대, 여성, 사회, 활동, 참여, 경...</td>\n",
       "      <td>[임기, 연력, 여성, 흡연, 증가, 폐해, 현대, 여성, 사회, 활동, 참여, 경...</td>\n",
       "      <td>[0.10278913378715515, 0.2534139156341553, -0.1...</td>\n",
       "    </tr>\n",
       "    <tr>\n",
       "      <th>25345</th>\n",
       "      <td>아토피에 유전적인 요인이 작용한다는 사실 알고 계시나요 유전적인 요인 뿐 아니라 아...</td>\n",
       "      <td>[아토피, 에, 유전, 적, 인, 요인, 이, 작용, 한다는, 사실, 알, 고, 계...</td>\n",
       "      <td>[아토피, 유전, 요인, 작용, 사실, 유전, 요인, 뿐, 아토피, 유발, 수, 하...</td>\n",
       "      <td>[아토피, 유전, 요인, 작용, 사실, 알, 유전, 요인, 아토피, 유발, 있, 중...</td>\n",
       "      <td>[0.04924286901950836, 0.07227320224046707, 0.0...</td>\n",
       "    </tr>\n",
       "    <tr>\n",
       "      <th>25346</th>\n",
       "      <td>1st 시기에 따라 필요한 영양소를 충분히 뱃속의 아이는 엄마가 먹는 것을 함께 먹...</td>\n",
       "      <td>[1, st, 시기, 에, 따라, 필요, 한, 영양소, 를, 충분히, 뱃속, 의, ...</td>\n",
       "      <td>[시기, 필요, 영양소, 뱃속, 아이, 엄마, 것, 균형, 영양, 음식, 섭취, 태...</td>\n",
       "      <td>[시기, 필요, 영양소, 뱃속, 아이, 엄마, 먹, 먹, 균형, 잡히, 영양, 있,...</td>\n",
       "      <td>[0.2840946614742279, -0.03573429957032204, -0....</td>\n",
       "    </tr>\n",
       "    <tr>\n",
       "      <th>25347</th>\n",
       "      <td>분만 여성만이 누릴 수 있는 특권 대부분의 여성들은 임신과 분만이라는 과정을 경험하...</td>\n",
       "      <td>[분만, 여성, 만, 이, 누릴, 수, 있, 는, 특권, 대부분, 의, 여성, 들,...</td>\n",
       "      <td>[분만, 여성, 수, 특권, 대부분, 여성, 임신, 분만, 과정, 경험, 삶, 의미...</td>\n",
       "      <td>[분만, 여성, 있, 특권, 대부분, 여성, 임신, 분만, 과정, 경험, 삶, 의미...</td>\n",
       "      <td>[0.1448511928319931, 0.10906893759965897, -0.1...</td>\n",
       "    </tr>\n",
       "    <tr>\n",
       "      <th>25348</th>\n",
       "      <td>최근 전자파가 건강상의 문제를 일으킬 수 있다는 견해가 많아지면서 임신부들 또한 가...</td>\n",
       "      <td>[최근, 전자파, 가, 건강, 상, 의, 문제, 를, 일으킬, 수, 있, 다는, 견...</td>\n",
       "      <td>[최근, 전자파, 건강, 문제, 수, 견해, 임신부, 가능, 전자파, 노출, 전자레...</td>\n",
       "      <td>[최근, 전자파, 건강, 문제, 있, 견해, 많, 임신부, 가능, 전자파, 노출, ...</td>\n",
       "      <td>[0.04999811574816704, -0.0426323302090168, -0....</td>\n",
       "    </tr>\n",
       "  </tbody>\n",
       "</table>\n",
       "<p>25349 rows × 5 columns</p>\n",
       "</div>"
      ],
      "text/plain": [
       "                                                    text  \\\n",
       "0      6살 남아 입니다 회사 복직 후 3살부터 주중에는 외할머니댁에서 2살 4살 터울의 ...   \n",
       "1      요즘 들어 아빠가 아이에게 다가가려고 하면 엄마한테 갈 거야 하면서 엄마를 유독 찾...   \n",
       "2      둘째가 태어나면 첫째가 힘들 거라는 건 예상하고 있었지만 툭하면 삐치고 울고 좀처럼...   \n",
       "3      20개월 남아가 있고 임신 8개월차로 두 아기의 엄마입니다 첫 아이는 잠자리 독립을...   \n",
       "4      14개월 남자 아기인데 심하게 깨무는 버릇이 있어요 전에는 졸릴 때 주로 물곤 했는...   \n",
       "...                                                  ...   \n",
       "25344  가임기 연력 여성의 흡연률 증가와 그 폐해 현대 여성은 다양한 사회활동에 참여하고 ...   \n",
       "25345  아토피에 유전적인 요인이 작용한다는 사실 알고 계시나요 유전적인 요인 뿐 아니라 아...   \n",
       "25346  1st 시기에 따라 필요한 영양소를 충분히 뱃속의 아이는 엄마가 먹는 것을 함께 먹...   \n",
       "25347  분만 여성만이 누릴 수 있는 특권 대부분의 여성들은 임신과 분만이라는 과정을 경험하...   \n",
       "25348  최근 전자파가 건강상의 문제를 일으킬 수 있다는 견해가 많아지면서 임신부들 또한 가...   \n",
       "\n",
       "                                               tokenized  \\\n",
       "0      [6, 살, 남, 아, 입, 니, 다, 회사, 복직, 후, 3, 살, 부터, 주, ...   \n",
       "1      [요즘, 들, 어, 아빠, 가, 아이, 에게, 다가가, 려고, 하, 면, 엄마, 한...   \n",
       "2      [둘째, 가, 태어나, 면, 첫째, 가, 힘들, 거, 라는, 건, 예상, 하, 고,...   \n",
       "3      [20, 개월, 남아, 가, 있, 고, 임신, 8, 개월, 차, 로, 두, 아기, ...   \n",
       "4      [14, 개월, 남자, 아기, 인데, 심하, 게, 깨무, 는, 버릇, 이, 있, 어...   \n",
       "...                                                  ...   \n",
       "25344  [가, 임기, 연력, 여성, 의, 흡연, 률, 증가, 와, 그, 폐해, 현대, 여성...   \n",
       "25345  [아토피, 에, 유전, 적, 인, 요인, 이, 작용, 한다는, 사실, 알, 고, 계...   \n",
       "25346  [1, st, 시기, 에, 따라, 필요, 한, 영양소, 를, 충분히, 뱃속, 의, ...   \n",
       "25347  [분만, 여성, 만, 이, 누릴, 수, 있, 는, 특권, 대부분, 의, 여성, 들,...   \n",
       "25348  [최근, 전자파, 가, 건강, 상, 의, 문제, 를, 일으킬, 수, 있, 다는, 견...   \n",
       "\n",
       "                                                    noun  \\\n",
       "0      [살, 회사, 복직, 후, 살, 주, 중, 외할머니, 댁, 살, 살, 터울, 사촌,...   \n",
       "1      [아빠, 아이, 엄마, 거, 엄마, 전, 정도, 엄마, 아빠, 거부, 엄마, 눈, ...   \n",
       "2      [둘째, 첫째, 거, 건, 예상, 때, 엄마, 껌, 딱지, 첫째, 외출, 때, 제외...   \n",
       "3      [개월, 남아, 임신, 개월, 차, 아기, 엄마, 아이, 잠자리, 독립, 생후, 일...   \n",
       "4      [개월, 남자, 아기, 버릇, 전, 때, 이제, 자기, 지대, 때, 떼, 상대방, ...   \n",
       "...                                                  ...   \n",
       "25344  [임기, 연력, 여성, 흡연, 증가, 폐해, 현대, 여성, 사회, 활동, 참여, 경...   \n",
       "25345  [아토피, 유전, 요인, 작용, 사실, 유전, 요인, 뿐, 아토피, 유발, 수, 하...   \n",
       "25346  [시기, 필요, 영양소, 뱃속, 아이, 엄마, 것, 균형, 영양, 음식, 섭취, 태...   \n",
       "25347  [분만, 여성, 수, 특권, 대부분, 여성, 임신, 분만, 과정, 경험, 삶, 의미...   \n",
       "25348  [최근, 전자파, 건강, 문제, 수, 견해, 임신부, 가능, 전자파, 노출, 전자레...   \n",
       "\n",
       "                                                keywords  \\\n",
       "0      [남, 입, 회사, 복직, 후, 주, 외할머니, 댁, 터울, 사촌, 형, 누나, 금...   \n",
       "1      [들, 아빠, 아이, 다가가, 하, 엄마, 하, 엄마, 찾, 전, 정도, 엄마, 매...   \n",
       "2      [태어나, 예상, 삐치, 울, 서럽, 웁, 때, 엄마, 껌, 딱지, 외출, 때, 제...   \n",
       "3      [남아, 있, 임신, 차, 아기, 엄마, 아이, 잠자리, 독립, 생후, 전, 재우,...   \n",
       "4      [남자, 아기, 심하, 깨무, 버릇, 있, 전, 때, 물, 이제, 지대, 때, 떼,...   \n",
       "...                                                  ...   \n",
       "25344  [임기, 연력, 여성, 흡연, 증가, 폐해, 현대, 여성, 사회, 활동, 참여, 경...   \n",
       "25345  [아토피, 유전, 요인, 작용, 사실, 알, 유전, 요인, 아토피, 유발, 있, 중...   \n",
       "25346  [시기, 필요, 영양소, 뱃속, 아이, 엄마, 먹, 먹, 균형, 잡히, 영양, 있,...   \n",
       "25347  [분만, 여성, 있, 특권, 대부분, 여성, 임신, 분만, 과정, 경험, 삶, 의미...   \n",
       "25348  [최근, 전자파, 건강, 문제, 있, 견해, 많, 임신부, 가능, 전자파, 노출, ...   \n",
       "\n",
       "                                           tokenized_doc  \n",
       "0      [0.1641332358121872, -4.2163810576312244e-05, ...  \n",
       "1      [0.28892576694488525, -0.5387788414955139, 0.1...  \n",
       "2      [0.08370722085237503, -0.13255001604557037, -0...  \n",
       "3      [0.17814810574054718, -0.2249746322631836, 0.2...  \n",
       "4      [-0.029396692290902138, 0.1356123685836792, -0...  \n",
       "...                                                  ...  \n",
       "25344  [0.10278913378715515, 0.2534139156341553, -0.1...  \n",
       "25345  [0.04924286901950836, 0.07227320224046707, 0.0...  \n",
       "25346  [0.2840946614742279, -0.03573429957032204, -0....  \n",
       "25347  [0.1448511928319931, 0.10906893759965897, -0.1...  \n",
       "25348  [0.04999811574816704, -0.0426323302090168, -0....  \n",
       "\n",
       "[25349 rows x 5 columns]"
      ]
     },
     "execution_count": 72,
     "metadata": {},
     "output_type": "execute_result"
    }
   ],
   "source": [
    "df"
   ]
  },
  {
   "cell_type": "code",
   "execution_count": null,
   "metadata": {},
   "outputs": [],
   "source": []
  }
 ],
 "metadata": {
  "kernelspec": {
   "display_name": "Python 3",
   "language": "python",
   "name": "python3"
  },
  "language_info": {
   "codemirror_mode": {
    "name": "ipython",
    "version": 3
   },
   "file_extension": ".py",
   "mimetype": "text/x-python",
   "name": "python",
   "nbconvert_exporter": "python",
   "pygments_lexer": "ipython3",
   "version": "3.7.5"
  }
 },
 "nbformat": 4,
 "nbformat_minor": 2
}
