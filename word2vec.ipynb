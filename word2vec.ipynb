{
 "cells": [
  {
   "cell_type": "markdown",
   "metadata": {},
   "source": [
    "# word2vec 단어 간 유사도 체크\n",
    "- 최대한 육아를 주제로 한 말뭉치를 모아보았다. (Total 2,755 documents)\n",
    "- 우리가 원하는 의도에 일치하는 단어 간 유사도 결과가 나오는지를 확인하는 것이 목적이다."
   ]
  },
  {
   "cell_type": "markdown",
   "metadata": {},
   "source": [
    "## Import"
   ]
  },
  {
   "cell_type": "code",
   "execution_count": 1,
   "metadata": {},
   "outputs": [],
   "source": [
    "import pandas as pd\n",
    "import numpy as np\n",
    "import re\n",
    "\n",
    "from konlpy.tag import Mecab\n",
    "from konlpy.tag import Komoran\n",
    "from gensim.models import Word2Vec"
   ]
  },
  {
   "cell_type": "markdown",
   "metadata": {},
   "source": [
    "### Datas"
   ]
  },
  {
   "cell_type": "code",
   "execution_count": 2,
   "metadata": {},
   "outputs": [],
   "source": [
    "df1 = pd.read_csv(\"data/maeili.csv\", encoding='utf-8')\n",
    "df2 = pd.read_csv(\"data/baby.csv\", encoding='utf-8')\n",
    "df3 = pd.read_csv(\"data/toys.csv\", encoding='utf-8')\n",
    "df4 = pd.read_csv(\"data/seoulchildcare.csv\", encoding='utf-8')\n",
    "df5 = pd.read_csv(\"data/babynews_DLC.csv\", encoding='utf-8')\n",
    "df6 = pd.read_csv(\"data/ildongfoodis.csv\", encoding='utf-8')\n",
    "df7 = pd.read_csv(\"data/momsmagazine.csv\", encoding='utf-8')\n",
    "df8 = pd.read_csv(\"data/ange.csv\", encoding='utf-8')\n",
    "df9 = pd.read_csv(\"data/babytimes.csv\", encoding='utf-8')\n",
    "df10 = pd.read_csv(\"data/daekyo.csv\", encoding='utf-8')\n",
    "df11 = pd.read_csv(\"data/mom&enfant.csv\", encoding='utf-8')\n",
    "df12 = pd.read_csv(\"data/namyang.csv\", encoding='utf-8')"
   ]
  },
  {
   "cell_type": "markdown",
   "metadata": {},
   "source": [
    "### Concatenate Dataframe"
   ]
  },
  {
   "cell_type": "code",
   "execution_count": 3,
   "metadata": {},
   "outputs": [
    {
     "data": {
      "text/html": [
       "<div>\n",
       "<style scoped>\n",
       "    .dataframe tbody tr th:only-of-type {\n",
       "        vertical-align: middle;\n",
       "    }\n",
       "\n",
       "    .dataframe tbody tr th {\n",
       "        vertical-align: top;\n",
       "    }\n",
       "\n",
       "    .dataframe thead th {\n",
       "        text-align: right;\n",
       "    }\n",
       "</style>\n",
       "<table border=\"1\" class=\"dataframe\">\n",
       "  <thead>\n",
       "    <tr style=\"text-align: right;\">\n",
       "      <th></th>\n",
       "      <th>text</th>\n",
       "    </tr>\n",
       "  </thead>\n",
       "  <tbody>\n",
       "    <tr>\n",
       "      <th>27050</th>\n",
       "      <td>아토피에 유전적인 요인이 작용한다는 사실 알고 계시나요 유전적인 요인 뿐 아니라 아...</td>\n",
       "    </tr>\n",
       "    <tr>\n",
       "      <th>27051</th>\n",
       "      <td>1st 시기에 따라 필요한 영양소를 충분히 뱃속의 아이는 엄마가 먹는 것을 함께 먹...</td>\n",
       "    </tr>\n",
       "    <tr>\n",
       "      <th>27052</th>\n",
       "      <td>분만 여성만이 누릴 수 있는 특권 대부분의 여성들은 임신과 분만이라는 과정을 경험하...</td>\n",
       "    </tr>\n",
       "    <tr>\n",
       "      <th>27053</th>\n",
       "      <td>최근 전자파가 건강상의 문제를 일으킬 수 있다는 견해가 많아지면서 임신부들 또한 가...</td>\n",
       "    </tr>\n",
       "    <tr>\n",
       "      <th>27054</th>\n",
       "      <td>임신 기간을 설명할 때 헷갈리는 경우가 많다 책을 볼 때 의사의 설명을 들을 때 정...</td>\n",
       "    </tr>\n",
       "  </tbody>\n",
       "</table>\n",
       "</div>"
      ],
      "text/plain": [
       "                                                    text\n",
       "27050  아토피에 유전적인 요인이 작용한다는 사실 알고 계시나요 유전적인 요인 뿐 아니라 아...\n",
       "27051  1st 시기에 따라 필요한 영양소를 충분히 뱃속의 아이는 엄마가 먹는 것을 함께 먹...\n",
       "27052  분만 여성만이 누릴 수 있는 특권 대부분의 여성들은 임신과 분만이라는 과정을 경험하...\n",
       "27053  최근 전자파가 건강상의 문제를 일으킬 수 있다는 견해가 많아지면서 임신부들 또한 가...\n",
       "27054  임신 기간을 설명할 때 헷갈리는 경우가 많다 책을 볼 때 의사의 설명을 들을 때 정..."
      ]
     },
     "execution_count": 3,
     "metadata": {},
     "output_type": "execute_result"
    }
   ],
   "source": [
    "df = pd.concat([df1.text, df2.text, df3.text, df4.text, df5.text,\n",
    "                df6.text, df7.text, df8.text, df9.text, df10.text,\n",
    "                df11.text, df12.text])\n",
    "df = pd.DataFrame(df).reset_index(drop=True)\n",
    "df.tail()"
   ]
  },
  {
   "cell_type": "markdown",
   "metadata": {},
   "source": [
    "### Preprocessing"
   ]
  },
  {
   "cell_type": "code",
   "execution_count": 4,
   "metadata": {},
   "outputs": [],
   "source": [
    "def cleaningText(text):\n",
    "    text = re.sub('&nbsp;|\\xa0|\\u200b|\\r|\\n|\\t', ' ', text)\n",
    "    text = re.sub('<.+>|【.+】|\\[.+\\]', ' ', text)\n",
    "    text = re.sub('[-_=+,/\\?;:^$.@*\\\"※~&%ㆍ!”“’「」『』〈〉\\\\‘|\\(\\)\\{\\}\\[\\]\\<\\>`\\'…《》]', ' ', text)\n",
    "    text = re.sub('[㈜×–～→▪‧•∘✽○□◇△▽▷◁☆◈◐▶▼▲◆★♦■♥️●♠🖤]', ' ', text)\n",
    "    text = re.sub('[①②③④⑤⑥⑦⑧⑨⑩⑪⑫⑬⑭⑮⑯⑰⑱⑲⑳]', ' ', text)\n",
    "    text = re.sub('[➊❷➌❹❺❻❼❽❾❿]', ' ', text)\n",
    "    text = re.sub('http.+com|http.+co|http.+kr|www.+kr|www.+com|www.+net|http.+net', ' ', text)\n",
    "    text = re.sub(\"\\s.+\\s기자\", '', text)\n",
    "    text = re.sub('ⓒ\\S+\\s|㈜\\S+\\s|홈페이지\\S+\\s|전화\\S+\\s|대표전화\\S+\\s|☎\\S+\\s|http\\S+\\s', '', text)\n",
    "    \n",
    "    text = re.sub('\\s+', ' ', text)\n",
    "    text = text.strip()\n",
    "\n",
    "    return text\n"
   ]
  },
  {
   "cell_type": "code",
   "execution_count": 5,
   "metadata": {},
   "outputs": [],
   "source": [
    "df = df.drop(index=[952, 955, 956, 960, 962, 964, 1165, 1240, 1322])\n",
    "df = df.drop_duplicates()\n",
    "df = df.dropna()\n",
    "df = pd.DataFrame(df).reset_index(drop=True)"
   ]
  },
  {
   "cell_type": "code",
   "execution_count": 6,
   "metadata": {},
   "outputs": [],
   "source": [
    "df['text'] = df['text'].apply(cleaningText)\n",
    "df = df.dropna()\n",
    "df.to_csv('data/text_for_word2vec.csv', index=False, encoding='utf-8')"
   ]
  },
  {
   "cell_type": "code",
   "execution_count": 7,
   "metadata": {},
   "outputs": [
    {
     "data": {
      "text/html": [
       "<div>\n",
       "<style scoped>\n",
       "    .dataframe tbody tr th:only-of-type {\n",
       "        vertical-align: middle;\n",
       "    }\n",
       "\n",
       "    .dataframe tbody tr th {\n",
       "        vertical-align: top;\n",
       "    }\n",
       "\n",
       "    .dataframe thead th {\n",
       "        text-align: right;\n",
       "    }\n",
       "</style>\n",
       "<table border=\"1\" class=\"dataframe\">\n",
       "  <thead>\n",
       "    <tr style=\"text-align: right;\">\n",
       "      <th></th>\n",
       "      <th>text</th>\n",
       "    </tr>\n",
       "  </thead>\n",
       "  <tbody>\n",
       "    <tr>\n",
       "      <th>0</th>\n",
       "      <td>6살 남아 입니다 회사 복직 후 3살부터 주중에는 외할머니댁에서 2살 4살 터울의 ...</td>\n",
       "    </tr>\n",
       "    <tr>\n",
       "      <th>1</th>\n",
       "      <td>요즘 들어 아빠가 아이에게 다가가려고 하면 엄마한테 갈 거야 하면서 엄마를 유독 찾...</td>\n",
       "    </tr>\n",
       "    <tr>\n",
       "      <th>2</th>\n",
       "      <td>둘째가 태어나면 첫째가 힘들 거라는 건 예상하고 있었지만 툭하면 삐치고 울고 좀처럼...</td>\n",
       "    </tr>\n",
       "    <tr>\n",
       "      <th>3</th>\n",
       "      <td>20개월 남아가 있고 임신 8개월차로 두 아기의 엄마입니다 첫 아이는 잠자리 독립을...</td>\n",
       "    </tr>\n",
       "    <tr>\n",
       "      <th>4</th>\n",
       "      <td>14개월 남자 아기인데 심하게 깨무는 버릇이 있어요 전에는 졸릴 때 주로 물곤 했는...</td>\n",
       "    </tr>\n",
       "    <tr>\n",
       "      <th>...</th>\n",
       "      <td>...</td>\n",
       "    </tr>\n",
       "    <tr>\n",
       "      <th>25344</th>\n",
       "      <td>가임기 연력 여성의 흡연률 증가와 그 폐해 현대 여성은 다양한 사회활동에 참여하고 ...</td>\n",
       "    </tr>\n",
       "    <tr>\n",
       "      <th>25345</th>\n",
       "      <td>아토피에 유전적인 요인이 작용한다는 사실 알고 계시나요 유전적인 요인 뿐 아니라 아...</td>\n",
       "    </tr>\n",
       "    <tr>\n",
       "      <th>25346</th>\n",
       "      <td>1st 시기에 따라 필요한 영양소를 충분히 뱃속의 아이는 엄마가 먹는 것을 함께 먹...</td>\n",
       "    </tr>\n",
       "    <tr>\n",
       "      <th>25347</th>\n",
       "      <td>분만 여성만이 누릴 수 있는 특권 대부분의 여성들은 임신과 분만이라는 과정을 경험하...</td>\n",
       "    </tr>\n",
       "    <tr>\n",
       "      <th>25348</th>\n",
       "      <td>최근 전자파가 건강상의 문제를 일으킬 수 있다는 견해가 많아지면서 임신부들 또한 가...</td>\n",
       "    </tr>\n",
       "  </tbody>\n",
       "</table>\n",
       "<p>25349 rows × 1 columns</p>\n",
       "</div>"
      ],
      "text/plain": [
       "                                                    text\n",
       "0      6살 남아 입니다 회사 복직 후 3살부터 주중에는 외할머니댁에서 2살 4살 터울의 ...\n",
       "1      요즘 들어 아빠가 아이에게 다가가려고 하면 엄마한테 갈 거야 하면서 엄마를 유독 찾...\n",
       "2      둘째가 태어나면 첫째가 힘들 거라는 건 예상하고 있었지만 툭하면 삐치고 울고 좀처럼...\n",
       "3      20개월 남아가 있고 임신 8개월차로 두 아기의 엄마입니다 첫 아이는 잠자리 독립을...\n",
       "4      14개월 남자 아기인데 심하게 깨무는 버릇이 있어요 전에는 졸릴 때 주로 물곤 했는...\n",
       "...                                                  ...\n",
       "25344  가임기 연력 여성의 흡연률 증가와 그 폐해 현대 여성은 다양한 사회활동에 참여하고 ...\n",
       "25345  아토피에 유전적인 요인이 작용한다는 사실 알고 계시나요 유전적인 요인 뿐 아니라 아...\n",
       "25346  1st 시기에 따라 필요한 영양소를 충분히 뱃속의 아이는 엄마가 먹는 것을 함께 먹...\n",
       "25347  분만 여성만이 누릴 수 있는 특권 대부분의 여성들은 임신과 분만이라는 과정을 경험하...\n",
       "25348  최근 전자파가 건강상의 문제를 일으킬 수 있다는 견해가 많아지면서 임신부들 또한 가...\n",
       "\n",
       "[25349 rows x 1 columns]"
      ]
     },
     "execution_count": 7,
     "metadata": {},
     "output_type": "execute_result"
    }
   ],
   "source": [
    "df"
   ]
  },
  {
   "cell_type": "markdown",
   "metadata": {},
   "source": [
    "### Add tokenized column"
   ]
  },
  {
   "cell_type": "markdown",
   "metadata": {},
   "source": [
    "191210 정체불명의 error 발생\n",
    "```\n",
    "NotImplementedError: Wrong number or type of arguments for overloaded function 'Tagger_parse'.\n",
    "  Possible C/C++ prototypes are:\n",
    "    MeCab::Tagger::parse(MeCab::Model const &,MeCab::Lattice *)\n",
    "    MeCab::Tagger::parse(MeCab::Lattice *) const\n",
    "    MeCab::Tagger::parse(char const *)\n",
    "```\n",
    "\n",
    "babynews 데이터가 추가된 후 갑자기 발생한 에러인데.. 왜인지 모르겠지만 해당 부분 데이터프레임만 따로 tokenize하는 것은 문제없이 돌아간다.  \n",
    "따라서 번거롭지만 분리하여 tokenizing 한 후에 합치기로 하였다.  \n",
    "\n",
    "-> 해결.. `NaN` value 문제였다(어이없게도 NaN 값이 중간에 섞여있었음;). 누락 데이터를 잘 체크하는 습관을 갖도록하자."
   ]
  },
  {
   "cell_type": "code",
   "execution_count": 8,
   "metadata": {},
   "outputs": [],
   "source": [
    "def tokenize(text):\n",
    "    tokenizer = Mecab()\n",
    "    text = tokenizer.morphs(text)\n",
    "#     text = ' '.join(text)\n",
    "    return text"
   ]
  },
  {
   "cell_type": "code",
   "execution_count": 9,
   "metadata": {},
   "outputs": [
    {
     "name": "stdout",
     "output_type": "stream",
     "text": [
      "CPU times: user 1min 1s, sys: 29.4 s, total: 1min 31s\n",
      "Wall time: 1min 31s\n"
     ]
    },
    {
     "data": {
      "text/html": [
       "<div>\n",
       "<style scoped>\n",
       "    .dataframe tbody tr th:only-of-type {\n",
       "        vertical-align: middle;\n",
       "    }\n",
       "\n",
       "    .dataframe tbody tr th {\n",
       "        vertical-align: top;\n",
       "    }\n",
       "\n",
       "    .dataframe thead th {\n",
       "        text-align: right;\n",
       "    }\n",
       "</style>\n",
       "<table border=\"1\" class=\"dataframe\">\n",
       "  <thead>\n",
       "    <tr style=\"text-align: right;\">\n",
       "      <th></th>\n",
       "      <th>text</th>\n",
       "      <th>tokenized</th>\n",
       "    </tr>\n",
       "  </thead>\n",
       "  <tbody>\n",
       "    <tr>\n",
       "      <th>25344</th>\n",
       "      <td>가임기 연력 여성의 흡연률 증가와 그 폐해 현대 여성은 다양한 사회활동에 참여하고 ...</td>\n",
       "      <td>[가, 임기, 연력, 여성, 의, 흡연, 률, 증가, 와, 그, 폐해, 현대, 여성...</td>\n",
       "    </tr>\n",
       "    <tr>\n",
       "      <th>25345</th>\n",
       "      <td>아토피에 유전적인 요인이 작용한다는 사실 알고 계시나요 유전적인 요인 뿐 아니라 아...</td>\n",
       "      <td>[아토피, 에, 유전, 적, 인, 요인, 이, 작용, 한다는, 사실, 알, 고, 계...</td>\n",
       "    </tr>\n",
       "    <tr>\n",
       "      <th>25346</th>\n",
       "      <td>1st 시기에 따라 필요한 영양소를 충분히 뱃속의 아이는 엄마가 먹는 것을 함께 먹...</td>\n",
       "      <td>[1, st, 시기, 에, 따라, 필요, 한, 영양소, 를, 충분히, 뱃속, 의, ...</td>\n",
       "    </tr>\n",
       "    <tr>\n",
       "      <th>25347</th>\n",
       "      <td>분만 여성만이 누릴 수 있는 특권 대부분의 여성들은 임신과 분만이라는 과정을 경험하...</td>\n",
       "      <td>[분만, 여성, 만, 이, 누릴, 수, 있, 는, 특권, 대부분, 의, 여성, 들,...</td>\n",
       "    </tr>\n",
       "    <tr>\n",
       "      <th>25348</th>\n",
       "      <td>최근 전자파가 건강상의 문제를 일으킬 수 있다는 견해가 많아지면서 임신부들 또한 가...</td>\n",
       "      <td>[최근, 전자파, 가, 건강, 상, 의, 문제, 를, 일으킬, 수, 있, 다는, 견...</td>\n",
       "    </tr>\n",
       "  </tbody>\n",
       "</table>\n",
       "</div>"
      ],
      "text/plain": [
       "                                                    text  \\\n",
       "25344  가임기 연력 여성의 흡연률 증가와 그 폐해 현대 여성은 다양한 사회활동에 참여하고 ...   \n",
       "25345  아토피에 유전적인 요인이 작용한다는 사실 알고 계시나요 유전적인 요인 뿐 아니라 아...   \n",
       "25346  1st 시기에 따라 필요한 영양소를 충분히 뱃속의 아이는 엄마가 먹는 것을 함께 먹...   \n",
       "25347  분만 여성만이 누릴 수 있는 특권 대부분의 여성들은 임신과 분만이라는 과정을 경험하...   \n",
       "25348  최근 전자파가 건강상의 문제를 일으킬 수 있다는 견해가 많아지면서 임신부들 또한 가...   \n",
       "\n",
       "                                               tokenized  \n",
       "25344  [가, 임기, 연력, 여성, 의, 흡연, 률, 증가, 와, 그, 폐해, 현대, 여성...  \n",
       "25345  [아토피, 에, 유전, 적, 인, 요인, 이, 작용, 한다는, 사실, 알, 고, 계...  \n",
       "25346  [1, st, 시기, 에, 따라, 필요, 한, 영양소, 를, 충분히, 뱃속, 의, ...  \n",
       "25347  [분만, 여성, 만, 이, 누릴, 수, 있, 는, 특권, 대부분, 의, 여성, 들,...  \n",
       "25348  [최근, 전자파, 가, 건강, 상, 의, 문제, 를, 일으킬, 수, 있, 다는, 견...  "
      ]
     },
     "execution_count": 9,
     "metadata": {},
     "output_type": "execute_result"
    }
   ],
   "source": [
    "%%time\n",
    "df['tokenized'] = df['text'].apply(tokenize)\n",
    "df.tail()"
   ]
  },
  {
   "cell_type": "code",
   "execution_count": 10,
   "metadata": {},
   "outputs": [
    {
     "data": {
      "text/plain": [
       "text         0\n",
       "tokenized    0\n",
       "dtype: int64"
      ]
     },
     "execution_count": 10,
     "metadata": {},
     "output_type": "execute_result"
    }
   ],
   "source": [
    "df.isnull().sum()"
   ]
  },
  {
   "cell_type": "markdown",
   "metadata": {},
   "source": [
    "## Train Word2Vec"
   ]
  },
  {
   "cell_type": "markdown",
   "metadata": {},
   "source": [
    "#### WTF error\n",
    "- df를 csv 형식으로 저장한 후 다시 로드하면 Word2Vec 학습에 인코딩 문제가 생긴다.\n",
    "- 더 자세히 파고들어보니 list 형식의 column이 csv로 저장할 때 강제로 string 타입으로 형변환 됨.\n",
    "- 이렇게 형변환 된 column을 Word2Vec 학습에 사용할 시 한글 텍스트가 깨지는 현상이 발생함.. 정확한 원인은 아직 모르겠다."
   ]
  },
  {
   "cell_type": "code",
   "execution_count": 11,
   "metadata": {},
   "outputs": [],
   "source": [
    "# df = pd.read_csv('text_for_word2vec.csv', encoding='utf-8')"
   ]
  },
  {
   "cell_type": "markdown",
   "metadata": {},
   "source": [
    "그러므로 저장 & 로드 과정 생략하고 바로 말뭉치를 numpy ndarray형식으로 변환"
   ]
  },
  {
   "cell_type": "code",
   "execution_count": 12,
   "metadata": {},
   "outputs": [
    {
     "data": {
      "text/plain": [
       "numpy.ndarray"
      ]
     },
     "execution_count": 12,
     "metadata": {},
     "output_type": "execute_result"
    }
   ],
   "source": [
    "corpus = np.array(df.tokenized)\n",
    "type(corpus)"
   ]
  },
  {
   "cell_type": "code",
   "execution_count": 13,
   "metadata": {},
   "outputs": [
    {
     "name": "stdout",
     "output_type": "stream",
     "text": [
      "CPU times: user 6min 40s, sys: 801 ms, total: 6min 40s\n",
      "Wall time: 1min 46s\n"
     ]
    }
   ],
   "source": [
    "%%time\n",
    "model_all = Word2Vec(corpus, size=128, workers=4, sg=1)\n",
    "model_all.save('data/tokmom_word2vec_all.model')"
   ]
  },
  {
   "cell_type": "markdown",
   "metadata": {},
   "source": [
    "#### 유사어 분석"
   ]
  },
  {
   "cell_type": "code",
   "execution_count": 14,
   "metadata": {},
   "outputs": [
    {
     "data": {
      "text/plain": [
       "[('소꿉', 0.7444862127304077),\n",
       " ('공놀이', 0.7181103825569153),\n",
       " ('기차놀이', 0.7164962291717529),\n",
       " ('타악기', 0.700412392616272),\n",
       " ('보물찾기', 0.6973928213119507),\n",
       " ('실뜨기', 0.693272590637207),\n",
       " ('줄다리기', 0.6904656887054443),\n",
       " ('도미노', 0.6791845560073853),\n",
       " ('집짓기', 0.6781119108200073),\n",
       " ('숨바꼭질', 0.6736164093017578)]"
      ]
     },
     "execution_count": 14,
     "metadata": {},
     "output_type": "execute_result"
    }
   ],
   "source": [
    "model_all.wv.similar_by_word(\"놀이\")"
   ]
  },
  {
   "cell_type": "code",
   "execution_count": 15,
   "metadata": {},
   "outputs": [
    {
     "data": {
      "text/plain": [
       "[('아기', 0.720367968082428),\n",
       " ('어린아이', 0.6930141448974609),\n",
       " ('갓난아이', 0.6636514663696289),\n",
       " ('큰아이', 0.6503501534461975),\n",
       " ('친해진다', 0.633965790271759),\n",
       " ('빈이', 0.627231240272522),\n",
       " ('지낸다면', 0.6226592063903809),\n",
       " ('놀림거리', 0.620051383972168),\n",
       " ('엄마', 0.6195899844169617),\n",
       " ('들떠서', 0.6179345846176147)]"
      ]
     },
     "execution_count": 15,
     "metadata": {},
     "output_type": "execute_result"
    }
   ],
   "source": [
    "model_all.wv.similar_by_word(\"아이\")"
   ]
  },
  {
   "cell_type": "code",
   "execution_count": 16,
   "metadata": {},
   "outputs": [
    {
     "data": {
      "text/plain": [
       "[('잇몸', 0.8262006640434265),\n",
       " ('영구치', 0.8096377849578857),\n",
       " ('충치', 0.7749719619750977),\n",
       " ('젖니', 0.7515202760696411),\n",
       " ('앞니', 0.7438544631004333),\n",
       " ('턱뼈', 0.7242212891578674),\n",
       " ('어금니', 0.7086251378059387),\n",
       " ('에나멜질', 0.7060268521308899),\n",
       " ('치태', 0.7001344561576843),\n",
       " ('법랑질', 0.6934532523155212)]"
      ]
     },
     "execution_count": 16,
     "metadata": {},
     "output_type": "execute_result"
    }
   ],
   "source": [
    "model_all.wv.similar_by_word(\"치아\")"
   ]
  },
  {
   "cell_type": "code",
   "execution_count": 17,
   "metadata": {},
   "outputs": [
    {
     "data": {
      "text/plain": [
       "[('혓바닥', 0.7661846876144409),\n",
       " ('핥', 0.7633767127990723),\n",
       " ('허옇', 0.7478742003440857),\n",
       " ('거뭇', 0.7460644245147705),\n",
       " ('빨아먹', 0.7341369986534119),\n",
       " ('거스러미', 0.7330491542816162),\n",
       " ('벅벅', 0.7242777347564697),\n",
       " ('밤색', 0.7240117788314819),\n",
       " ('럭비공', 0.7239671349525452),\n",
       " ('돌덩이', 0.7234801054000854)]"
      ]
     },
     "execution_count": 17,
     "metadata": {},
     "output_type": "execute_result"
    }
   ],
   "source": [
    "model_all.wv.similar_by_word(\"이빨\")"
   ]
  },
  {
   "cell_type": "code",
   "execution_count": 18,
   "metadata": {},
   "outputs": [
    {
     "data": {
      "text/plain": [
       "[('코감기', 0.8339973092079163),\n",
       " ('목감기', 0.8012640476226807),\n",
       " ('기침감기', 0.7839852571487427),\n",
       " ('환절기', 0.7697011828422546),\n",
       " ('독감', 0.7600629925727844),\n",
       " ('냉방병', 0.7590876221656799),\n",
       " ('호흡기', 0.749624490737915),\n",
       " ('비염', 0.7479081153869629),\n",
       " ('편도염', 0.7404163479804993),\n",
       " ('기관지염', 0.7400298118591309)]"
      ]
     },
     "execution_count": 18,
     "metadata": {},
     "output_type": "execute_result"
    }
   ],
   "source": [
    "model_all.wv.similar_by_word(\"감기\")"
   ]
  },
  {
   "cell_type": "code",
   "execution_count": 19,
   "metadata": {},
   "outputs": [
    {
     "data": {
      "text/plain": [
       "[('고열로', 0.587069034576416),\n",
       " ('오한', 0.5708358287811279),\n",
       " ('고열', 0.5692563056945801),\n",
       " ('열기', 0.5607172846794128),\n",
       " ('배탈', 0.5543304681777954),\n",
       " ('미열', 0.5440638661384583),\n",
       " ('불덩이', 0.5422656536102295),\n",
       " ('차가워서', 0.5371158123016357),\n",
       " ('차가워질', 0.5350601673126221),\n",
       " ('열작용', 0.5339616537094116)]"
      ]
     },
     "execution_count": 19,
     "metadata": {},
     "output_type": "execute_result"
    }
   ],
   "source": [
    "model_all.wv.similar_by_word(\"열\")"
   ]
  },
  {
   "cell_type": "code",
   "execution_count": 20,
   "metadata": {},
   "outputs": [
    {
     "data": {
      "text/plain": [
       "[('아프', 0.8142788410186768),\n",
       " ('아파서', 0.7715272903442383),\n",
       " ('다쳐', 0.758678138256073),\n",
       " ('다쳐서', 0.7369722723960876),\n",
       " ('아파도', 0.7318875789642334),\n",
       " ('칭얼댄다', 0.7285597324371338),\n",
       " ('아파하', 0.7255078554153442),\n",
       " ('토해서', 0.7212457656860352),\n",
       " ('거린다고', 0.7205687761306763),\n",
       " ('지끈지끈', 0.7157642841339111)]"
      ]
     },
     "execution_count": 20,
     "metadata": {},
     "output_type": "execute_result"
    }
   ],
   "source": [
    "model_all.wv.similar_by_word(\"아파\")"
   ]
  },
  {
   "cell_type": "code",
   "execution_count": 21,
   "metadata": {},
   "outputs": [
    {
     "data": {
      "text/plain": [
       "[('아파', 0.8142788410186768),\n",
       " ('아파하', 0.770432710647583),\n",
       " ('결리', 0.7477769255638123),\n",
       " ('아파서', 0.747175931930542),\n",
       " ('지끈지끈', 0.7438468933105469),\n",
       " ('먹먹해', 0.7427558302879333),\n",
       " ('쑤시', 0.7415727376937866),\n",
       " ('어지럽', 0.7376511096954346),\n",
       " ('아픈데', 0.7361332774162292),\n",
       " ('어지러우', 0.7328156232833862)]"
      ]
     },
     "execution_count": 21,
     "metadata": {},
     "output_type": "execute_result"
    }
   ],
   "source": [
    "model_all.wv.similar_by_word(\"아프\")"
   ]
  },
  {
   "cell_type": "code",
   "execution_count": 22,
   "metadata": {},
   "outputs": [
    {
     "data": {
      "text/plain": [
       "[('터뜨립니다', 0.69917893409729),\n",
       " ('터뜨릴', 0.6988707184791565),\n",
       " ('옹알이', 0.6852439045906067),\n",
       " ('터뜨린다', 0.6829092502593994),\n",
       " ('터뜨린', 0.6793863773345947),\n",
       " ('자지러질', 0.6625240445137024),\n",
       " ('괴성', 0.6569491624832153),\n",
       " ('어르', 0.6549452543258667),\n",
       " ('운다', 0.6500470638275146),\n",
       " ('자지러지', 0.6466145515441895)]"
      ]
     },
     "execution_count": 22,
     "metadata": {},
     "output_type": "execute_result"
    }
   ],
   "source": [
    "model_all.wv.similar_by_word(\"울음\")"
   ]
  },
  {
   "cell_type": "code",
   "execution_count": 23,
   "metadata": {},
   "outputs": [
    {
     "data": {
      "text/plain": [
       "[('여아', 0.8464231491088867),\n",
       " ('정상아', 0.636469304561615),\n",
       " ('018', 0.6165052652359009),\n",
       " ('남자', 0.6160174012184143),\n",
       " ('클리토리스', 0.6009060144424438),\n",
       " ('경산부', 0.5969947576522827),\n",
       " ('남근기', 0.5943429470062256),\n",
       " ('구성비', 0.5778857469558716),\n",
       " ('여자', 0.5773581266403198),\n",
       " ('빨랐', 0.5763824582099915)]"
      ]
     },
     "execution_count": 23,
     "metadata": {},
     "output_type": "execute_result"
    }
   ],
   "source": [
    "model_all.wv.similar_by_word(\"남아\")"
   ]
  },
  {
   "cell_type": "code",
   "execution_count": 24,
   "metadata": {},
   "outputs": [
    {
     "data": {
      "text/plain": [
       "[('남아', 0.8464231491088867),\n",
       " ('남자', 0.6111065149307251),\n",
       " ('여자', 0.5893025398254395),\n",
       " ('018', 0.5817461013793945),\n",
       " ('603', 0.5634723901748657),\n",
       " ('아든', 0.5592161417007446),\n",
       " ('617', 0.558576762676239),\n",
       " ('864', 0.5570540428161621),\n",
       " ('동월', 0.5523787140846252),\n",
       " ('클리토리스', 0.5461477041244507)]"
      ]
     },
     "execution_count": 24,
     "metadata": {},
     "output_type": "execute_result"
    }
   ],
   "source": [
    "model_all.wv.similar_by_word(\"여아\")"
   ]
  },
  {
   "cell_type": "markdown",
   "metadata": {},
   "source": [
    "---"
   ]
  },
  {
   "cell_type": "markdown",
   "metadata": {},
   "source": [
    "## Only Noun"
   ]
  },
  {
   "cell_type": "markdown",
   "metadata": {},
   "source": [
    "- 이번에는 말뭉치에서 명사만 추출하여 결과를 비교해보자\n",
    "- 유사한 키워드 잡기를 목적으로 할 때는 명사만 추출하는 것이 더 적절한 듯"
   ]
  },
  {
   "cell_type": "code",
   "execution_count": 25,
   "metadata": {},
   "outputs": [
    {
     "name": "stdout",
     "output_type": "stream",
     "text": [
      "CPU times: user 1min 3s, sys: 28.5 s, total: 1min 32s\n",
      "Wall time: 1min 31s\n"
     ]
    }
   ],
   "source": [
    "%%time\n",
    "def extract_noun(text):\n",
    "    tokenizer = Mecab()\n",
    "    text = tokenizer.nouns(text)\n",
    "#     text = ' '.join(text)\n",
    "    return text\n",
    "    \n",
    "df['noun'] = df['text'].apply(extract_noun)\n",
    "df = df.dropna()"
   ]
  },
  {
   "cell_type": "code",
   "execution_count": 99,
   "metadata": {},
   "outputs": [],
   "source": [
    "noun_corpus = np.array(df.noun)"
   ]
  },
  {
   "cell_type": "code",
   "execution_count": 140,
   "metadata": {},
   "outputs": [
    {
     "name": "stdout",
     "output_type": "stream",
     "text": [
      "CPU times: user 1min 51s, sys: 308 ms, total: 1min 52s\n",
      "Wall time: 31.8 s\n"
     ]
    }
   ],
   "source": [
    "%%time\n",
    "model_noun = Word2Vec(noun_corpus,\n",
    "                      size=200,\n",
    "                      window=2,\n",
    "                      workers=4,\n",
    "                      seed=1,\n",
    "                      sg=1)\n",
    "model_noun.save('data/tokmom_word2vec_only_noun.model')"
   ]
  },
  {
   "cell_type": "code",
   "execution_count": 141,
   "metadata": {},
   "outputs": [
    {
     "data": {
      "text/plain": [
       "[('양육', 0.5975416898727417),\n",
       " ('열혈', 0.574201762676239),\n",
       " ('재테크', 0.5728480219841003),\n",
       " ('워킹맘', 0.5722798705101013),\n",
       " ('바깥일', 0.5671976804733276),\n",
       " ('체험담', 0.5530815720558167),\n",
       " ('자처', 0.550591766834259),\n",
       " ('지원군', 0.5466318130493164),\n",
       " ('경험자', 0.5459321737289429),\n",
       " ('실속파', 0.544177770614624)]"
      ]
     },
     "execution_count": 141,
     "metadata": {},
     "output_type": "execute_result"
    }
   ],
   "source": [
    "model_noun.wv.similar_by_word(\"육아\")"
   ]
  },
  {
   "cell_type": "code",
   "execution_count": 142,
   "metadata": {},
   "outputs": [
    {
     "data": {
      "text/plain": [
       "[('시부모', 0.8119237422943115),\n",
       " ('시누이', 0.781395435333252),\n",
       " ('장모님', 0.771469235420227),\n",
       " ('친정어머니', 0.7712113857269287),\n",
       " ('처가', 0.7700274586677551),\n",
       " ('친정', 0.7647916078567505),\n",
       " ('시어머니', 0.7634627819061279),\n",
       " ('친가', 0.7548611164093018),\n",
       " ('식구', 0.7466983199119568),\n",
       " ('본가', 0.742530107498169)]"
      ]
     },
     "execution_count": 142,
     "metadata": {},
     "output_type": "execute_result"
    }
   ],
   "source": [
    "model_noun.wv.similar_by_word(\"시댁\")"
   ]
  },
  {
   "cell_type": "code",
   "execution_count": 143,
   "metadata": {},
   "outputs": [
    {
     "data": {
      "text/plain": [
       "[('놀잇감', 0.6923749446868896),\n",
       " ('공놀이', 0.6575114727020264),\n",
       " ('소꿉', 0.6301233768463135),\n",
       " ('누가누', 0.6241747140884399),\n",
       " ('비석', 0.6136857271194458),\n",
       " ('기차놀이', 0.6128743290901184),\n",
       " ('지점토', 0.6123070120811462),\n",
       " ('도미노', 0.6084019541740417),\n",
       " ('타악기', 0.6039851903915405),\n",
       " ('점토', 0.603852391242981)]"
      ]
     },
     "execution_count": 143,
     "metadata": {},
     "output_type": "execute_result"
    }
   ],
   "source": [
    "model_noun.wv.similar_by_word(\"놀이\")"
   ]
  },
  {
   "cell_type": "code",
   "execution_count": 144,
   "metadata": {},
   "outputs": [
    {
     "data": {
      "text/plain": [
       "[('갓난아기', 0.6924479007720947),\n",
       " ('어린아이', 0.6844288110733032),\n",
       " ('입니다', 0.6837809085845947),\n",
       " ('밥투정', 0.682280421257019),\n",
       " ('말자', 0.6803841590881348),\n",
       " ('지레짐작', 0.6748100519180298),\n",
       " ('하민', 0.6726471781730652),\n",
       " ('무의식중', 0.6717808842658997),\n",
       " ('아기', 0.6660614013671875),\n",
       " ('갓난아이', 0.665270209312439)]"
      ]
     },
     "execution_count": 144,
     "metadata": {},
     "output_type": "execute_result"
    }
   ],
   "source": [
    "model_noun.wv.similar_by_word(\"아이\")"
   ]
  },
  {
   "cell_type": "code",
   "execution_count": 145,
   "metadata": {},
   "outputs": [
    {
     "data": {
      "text/plain": [
       "[('잇몸', 0.7765349745750427),\n",
       " ('충치', 0.7297009229660034),\n",
       " ('영구치', 0.7276791334152222),\n",
       " ('젖니', 0.7213656902313232),\n",
       " ('어금니', 0.6917309761047363),\n",
       " ('법랑질', 0.6714276075363159),\n",
       " ('치조골', 0.6608656048774719),\n",
       " ('유치', 0.6586825847625732),\n",
       " ('치근', 0.6555143594741821),\n",
       " ('과잉치', 0.6543520092964172)]"
      ]
     },
     "execution_count": 145,
     "metadata": {},
     "output_type": "execute_result"
    }
   ],
   "source": [
    "model_noun.wv.similar_by_word(\"치아\")"
   ]
  },
  {
   "cell_type": "code",
   "execution_count": 146,
   "metadata": {},
   "outputs": [
    {
     "data": {
      "text/plain": [
       "[('혓바닥', 0.8135547637939453),\n",
       " ('거스러미', 0.7806691527366638),\n",
       " ('아랫입술', 0.7668402194976807),\n",
       " ('고무젖꼭지', 0.7647664546966553),\n",
       " ('덧', 0.7641605734825134),\n",
       " ('거립니다', 0.7641183137893677),\n",
       " ('풀칠', 0.7639509439468384),\n",
       " ('영인', 0.7630032300949097),\n",
       " ('밥풀', 0.7597187161445618),\n",
       " ('옷깃', 0.7564960718154907)]"
      ]
     },
     "execution_count": 146,
     "metadata": {},
     "output_type": "execute_result"
    }
   ],
   "source": [
    "model_noun.wv.similar_by_word(\"이빨\")"
   ]
  },
  {
   "cell_type": "code",
   "execution_count": 147,
   "metadata": {},
   "outputs": [
    {
     "data": {
      "text/plain": [
       "[('코감기', 0.7463159561157227),\n",
       " ('기침감기', 0.7336947917938232),\n",
       " ('목감기', 0.7328576445579529),\n",
       " ('냉방병', 0.7065818905830383),\n",
       " ('환절기', 0.7065317630767822),\n",
       " ('병치레', 0.705925703048706),\n",
       " ('편도염', 0.7054717540740967),\n",
       " ('기관지염', 0.6984241604804993),\n",
       " ('인후염', 0.6911981105804443),\n",
       " ('편도선염', 0.689525842666626)]"
      ]
     },
     "execution_count": 147,
     "metadata": {},
     "output_type": "execute_result"
    }
   ],
   "source": [
    "model_noun.wv.similar_by_word(\"감기\")"
   ]
  },
  {
   "cell_type": "code",
   "execution_count": 148,
   "metadata": {},
   "outputs": [
    {
     "data": {
      "text/plain": [
       "[('고열', 0.6074755787849426),\n",
       " ('고열로', 0.5936789512634277),\n",
       " ('오한', 0.5919020771980286),\n",
       " ('미열', 0.569339394569397),\n",
       " ('체기', 0.5578094720840454),\n",
       " ('불덩이', 0.5503739714622498),\n",
       " ('외감', 0.5490320324897766),\n",
       " ('사병', 0.5474042296409607),\n",
       " ('허열', 0.5456649661064148),\n",
       " ('설사약', 0.5436137914657593)]"
      ]
     },
     "execution_count": 148,
     "metadata": {},
     "output_type": "execute_result"
    }
   ],
   "source": [
    "model_noun.wv.similar_by_word(\"열\")"
   ]
  },
  {
   "cell_type": "code",
   "execution_count": 149,
   "metadata": {},
   "outputs": [
    {
     "data": {
      "text/plain": [
       "[('참기', 0.829912543296814),\n",
       " ('열꽃', 0.8245300054550171),\n",
       " ('무의식중', 0.8137537837028503),\n",
       " ('어린애', 0.8114954233169556),\n",
       " ('목도', 0.8076102137565613),\n",
       " ('자초', 0.8060405254364014),\n",
       " ('울상', 0.8059118390083313),\n",
       " ('얼떨결', 0.8056827783584595),\n",
       " ('마음고생', 0.8032673001289368),\n",
       " ('채찍', 0.8031811714172363)]"
      ]
     },
     "execution_count": 149,
     "metadata": {},
     "output_type": "execute_result"
    }
   ],
   "source": [
    "model_noun.wv.similar_by_word(\"아파\")"
   ]
  },
  {
   "cell_type": "code",
   "execution_count": 150,
   "metadata": {},
   "outputs": [
    {
     "data": {
      "text/plain": [
       "[('지르기', 0.6773122549057007),\n",
       " ('비명', 0.6636983752250671),\n",
       " ('신음', 0.6632672548294067),\n",
       " ('놀람', 0.6615372896194458),\n",
       " ('아달라', 0.6602663993835449),\n",
       " ('세요', 0.641005277633667),\n",
       " ('옹알이', 0.6313501596450806),\n",
       " ('번역기', 0.6310714483261108),\n",
       " ('괴성', 0.630058765411377),\n",
       " ('음조', 0.6300169229507446)]"
      ]
     },
     "execution_count": 150,
     "metadata": {},
     "output_type": "execute_result"
    }
   ],
   "source": [
    "model_noun.wv.similar_by_word(\"울음\")"
   ]
  },
  {
   "cell_type": "code",
   "execution_count": 158,
   "metadata": {},
   "outputs": [
    {
     "data": {
      "text/plain": [
       "[('여아', 0.8425937294960022),\n",
       " ('정상아', 0.6857849955558777),\n",
       " ('생시', 0.6791380047798157),\n",
       " ('확연', 0.6736302375793457),\n",
       " ('체구', 0.6668820381164551),\n",
       " ('자폐아', 0.6614252924919128),\n",
       " ('남근기', 0.6579033136367798),\n",
       " ('아일', 0.6538131833076477),\n",
       " ('항문기', 0.650348424911499),\n",
       " ('출생체중', 0.6464788317680359)]"
      ]
     },
     "execution_count": 158,
     "metadata": {},
     "output_type": "execute_result"
    }
   ],
   "source": [
    "model_noun.wv.similar_by_word(\"남아\")"
   ]
  },
  {
   "cell_type": "code",
   "execution_count": 160,
   "metadata": {},
   "outputs": [
    {
     "data": {
      "text/plain": [
       "[('남아', 0.8425937294960022),\n",
       " ('확연', 0.6213060021400452),\n",
       " ('체구', 0.6208465099334717),\n",
       " ('남근기', 0.606103777885437),\n",
       " ('항문기', 0.5981905460357666),\n",
       " ('남학생', 0.5954718589782715),\n",
       " ('페르모', 0.5921984314918518),\n",
       " ('성별', 0.5917976498603821),\n",
       " ('생시', 0.5914918184280396),\n",
       " ('정상아', 0.5911825299263)]"
      ]
     },
     "execution_count": 160,
     "metadata": {},
     "output_type": "execute_result"
    }
   ],
   "source": [
    "model_noun.wv.similar_by_word(\"여아\")"
   ]
  },
  {
   "cell_type": "code",
   "execution_count": 153,
   "metadata": {
    "scrolled": true
   },
   "outputs": [
    {
     "data": {
      "text/plain": [
       "[('남자', 0.814863383769989),\n",
       " ('여아', 0.5723517537117004),\n",
       " ('남아', 0.5700061917304993),\n",
       " ('남학생', 0.5446677207946777),\n",
       " ('금성', 0.5405828952789307),\n",
       " ('조신', 0.5388423204421997),\n",
       " ('외톨', 0.5321864485740662),\n",
       " ('여탕', 0.5302890539169312),\n",
       " ('남탕', 0.5256863832473755),\n",
       " ('아이든', 0.5252732038497925)]"
      ]
     },
     "execution_count": 153,
     "metadata": {},
     "output_type": "execute_result"
    }
   ],
   "source": [
    "model_noun.wv.similar_by_word(\"여자\")"
   ]
  },
  {
   "cell_type": "code",
   "execution_count": 154,
   "metadata": {},
   "outputs": [
    {
     "data": {
      "text/plain": [
       "[('여자', 0.814863383769989),\n",
       " ('금성', 0.6181306838989258),\n",
       " ('남아', 0.6027320623397827),\n",
       " ('조신', 0.5889028310775757),\n",
       " ('아이든', 0.5859947204589844),\n",
       " ('얌전', 0.583115816116333),\n",
       " ('여탕', 0.5814687013626099),\n",
       " ('여아', 0.5749674439430237),\n",
       " ('외톨', 0.5742570757865906),\n",
       " ('남학생', 0.5722742676734924)]"
      ]
     },
     "execution_count": 154,
     "metadata": {},
     "output_type": "execute_result"
    }
   ],
   "source": [
    "model_noun.wv.similar_by_word(\"남자\")"
   ]
  },
  {
   "cell_type": "code",
   "execution_count": 155,
   "metadata": {},
   "outputs": [
    {
     "data": {
      "text/plain": [
       "[('디럭스', 0.7416549921035767),\n",
       " ('절충', 0.6769294738769531),\n",
       " ('잉글', 0.6337890625),\n",
       " ('휴대용', 0.6321314573287964),\n",
       " ('타보', 0.6249380707740784),\n",
       " ('퀴니', 0.6235971450805664),\n",
       " ('페도라', 0.6125385761260986),\n",
       " ('범용', 0.6007155179977417),\n",
       " ('맥클라렌', 0.5981160402297974),\n",
       " ('카시트', 0.5922831296920776)]"
      ]
     },
     "execution_count": 155,
     "metadata": {},
     "output_type": "execute_result"
    }
   ],
   "source": [
    "model_noun.wv.similar_by_word(\"유모차\")"
   ]
  },
  {
   "cell_type": "code",
   "execution_count": 156,
   "metadata": {},
   "outputs": [
    {
     "data": {
      "text/plain": [
       "[('컨버터블', 0.6521413326263428),\n",
       " ('안전벨트', 0.634675145149231),\n",
       " ('브라이', 0.6275078058242798),\n",
       " ('콩코드', 0.6192984580993652),\n",
       " ('장착', 0.6172091960906982),\n",
       " ('뒷좌석', 0.6171060800552368),\n",
       " ('부스터', 0.6134747266769409),\n",
       " ('페도라', 0.6109854578971863),\n",
       " ('캐리어', 0.6088404655456543),\n",
       " ('웨건', 0.6054836511611938)]"
      ]
     },
     "execution_count": 156,
     "metadata": {},
     "output_type": "execute_result"
    }
   ],
   "source": [
    "model_noun.wv.similar_by_word(\"카시트\")"
   ]
  },
  {
   "cell_type": "markdown",
   "metadata": {},
   "source": [
    "---"
   ]
  },
  {
   "cell_type": "markdown",
   "metadata": {},
   "source": [
    "## Noun + Verb + Adj"
   ]
  },
  {
   "cell_type": "markdown",
   "metadata": {},
   "source": [
    "- 마지막으로 말뭉치에서 명사, 동사, 형용사까지 추출한 결과를 확인"
   ]
  },
  {
   "cell_type": "code",
   "execution_count": 69,
   "metadata": {},
   "outputs": [
    {
     "name": "stdout",
     "output_type": "stream",
     "text": [
      "CPU times: user 1min 4s, sys: 26.3 s, total: 1min 30s\n",
      "Wall time: 1min 30s\n"
     ]
    }
   ],
   "source": [
    "%%time\n",
    "def extract_keywords(text):\n",
    "    tokenizer = Mecab()\n",
    "    pos_list = tokenizer.pos(text)\n",
    "    keywords_list = list(filter(lambda w: 'NNG' in w or \\\n",
    "                                           'NNP' in w or \\\n",
    "                                           'VA' in w or \\\n",
    "                                           'VV' in w , pos_list))\n",
    "    keywords = list(map(lambda w: w[0], keywords_list))\n",
    "    return keywords\n",
    "\n",
    "df['keywords'] = df['text'].apply(extract_keywords)\n",
    "df = df.dropna()"
   ]
  },
  {
   "cell_type": "code",
   "execution_count": 72,
   "metadata": {},
   "outputs": [
    {
     "name": "stdout",
     "output_type": "stream",
     "text": [
      "CPU times: user 3min 8s, sys: 227 ms, total: 3min 8s\n",
      "Wall time: 51 s\n"
     ]
    }
   ],
   "source": [
    "%%time\n",
    "model_keywords = Word2Vec(keywords_corpus, size=100, workers=4, sg=1)\n",
    "model_keywords.save('data/tokmom_word2vec_keywords.model')"
   ]
  },
  {
   "cell_type": "code",
   "execution_count": 73,
   "metadata": {},
   "outputs": [
    {
     "data": {
      "text/plain": [
       "[('워킹맘', 0.7055859565734863),\n",
       " ('양육', 0.6735218167304993),\n",
       " ('독박', 0.6716964840888977),\n",
       " ('열혈', 0.6540733575820923),\n",
       " ('지원군', 0.6444226503372192),\n",
       " ('박찬희', 0.6383612155914307),\n",
       " ('아서', 0.6352624893188477),\n",
       " ('장세희', 0.6350053548812866),\n",
       " ('휴직', 0.6331909894943237),\n",
       " ('살림', 0.6330448389053345)]"
      ]
     },
     "execution_count": 73,
     "metadata": {},
     "output_type": "execute_result"
    }
   ],
   "source": [
    "model_keywords.wv.similar_by_word(\"육아\")"
   ]
  },
  {
   "cell_type": "code",
   "execution_count": 74,
   "metadata": {},
   "outputs": [
    {
     "data": {
      "text/plain": [
       "[('친정', 0.8407643437385559),\n",
       " ('본가', 0.8244757056236267),\n",
       " ('시부모', 0.8029784560203552),\n",
       " ('처가', 0.7992140054702759),\n",
       " ('시어머니', 0.7828656435012817),\n",
       " ('식구', 0.7771471738815308),\n",
       " ('친정어머니', 0.7748686671257019),\n",
       " ('대소사', 0.7744762301445007),\n",
       " ('시누이', 0.7651897668838501),\n",
       " ('시아버님', 0.7620663046836853)]"
      ]
     },
     "execution_count": 74,
     "metadata": {},
     "output_type": "execute_result"
    }
   ],
   "source": [
    "model_keywords.wv.similar_by_word(\"시댁\")"
   ]
  },
  {
   "cell_type": "code",
   "execution_count": 75,
   "metadata": {},
   "outputs": [
    {
     "data": {
      "text/plain": [
       "[('놀잇감', 0.7531840801239014),\n",
       " ('소꿉', 0.7382116317749023),\n",
       " ('재미있', 0.7330796718597412),\n",
       " ('공놀이', 0.7296560406684875),\n",
       " ('놀', 0.7147164344787598),\n",
       " ('보물찾기', 0.7133928537368774),\n",
       " ('집짓기', 0.7097890377044678),\n",
       " ('무너뜨리기', 0.708432674407959),\n",
       " ('샌드백', 0.7035702466964722),\n",
       " ('음률', 0.6929599046707153)]"
      ]
     },
     "execution_count": 75,
     "metadata": {},
     "output_type": "execute_result"
    }
   ],
   "source": [
    "model_keywords.wv.similar_by_word(\"놀이\")"
   ]
  },
  {
   "cell_type": "code",
   "execution_count": 76,
   "metadata": {},
   "outputs": [
    {
     "data": {
      "text/plain": [
       "[('어린아이', 0.7821304798126221),\n",
       " ('엄마', 0.7402162551879883),\n",
       " ('하나', 0.7188742160797119),\n",
       " ('동질', 0.7185378074645996),\n",
       " ('돌쟁이', 0.7179890871047974),\n",
       " ('아이라', 0.7173634767532349),\n",
       " ('말자', 0.7159072160720825),\n",
       " ('뒤쳐지', 0.7158945202827454),\n",
       " ('살찌우', 0.7146617770195007),\n",
       " ('생각', 0.7131155133247375)]"
      ]
     },
     "execution_count": 76,
     "metadata": {},
     "output_type": "execute_result"
    }
   ],
   "source": [
    "model_keywords.wv.similar_by_word(\"아이\")"
   ]
  },
  {
   "cell_type": "code",
   "execution_count": 77,
   "metadata": {},
   "outputs": [
    {
     "data": {
      "text/plain": [
       "[('잇몸', 0.8642995953559875),\n",
       " ('영구치', 0.8340755701065063),\n",
       " ('충치', 0.8255764245986938),\n",
       " ('젖니', 0.8106557130813599),\n",
       " ('앞니', 0.8081176280975342),\n",
       " ('어금니', 0.7645289897918701),\n",
       " ('법랑질', 0.761794924736023),\n",
       " ('유치', 0.753669798374176),\n",
       " ('윗니', 0.7530847787857056),\n",
       " ('우식증', 0.7441324591636658)]"
      ]
     },
     "execution_count": 77,
     "metadata": {},
     "output_type": "execute_result"
    }
   ],
   "source": [
    "model_keywords.wv.similar_by_word(\"치아\")"
   ]
  },
  {
   "cell_type": "code",
   "execution_count": 78,
   "metadata": {},
   "outputs": [
    {
     "data": {
      "text/plain": [
       "[('골짜기', 0.7855191230773926),\n",
       " ('혓바닥', 0.7829934358596802),\n",
       " ('영인', 0.7778735160827637),\n",
       " ('갉', 0.7768616080284119),\n",
       " ('근질거리', 0.7685598731040955),\n",
       " ('오물거리', 0.7606532573699951),\n",
       " ('역겹', 0.7602251768112183),\n",
       " ('부둥켜안', 0.7521517276763916),\n",
       " ('거스러미', 0.7517303228378296),\n",
       " ('까맣', 0.7506961226463318)]"
      ]
     },
     "execution_count": 78,
     "metadata": {},
     "output_type": "execute_result"
    }
   ],
   "source": [
    "model_keywords.wv.similar_by_word(\"이빨\")"
   ]
  },
  {
   "cell_type": "code",
   "execution_count": 79,
   "metadata": {},
   "outputs": [
    {
     "data": {
      "text/plain": [
       "[('목감기', 0.8507241010665894),\n",
       " ('코감기', 0.831957995891571),\n",
       " ('기침감기', 0.8000133633613586),\n",
       " ('환절기', 0.7884349822998047),\n",
       " ('편도염', 0.7822831869125366),\n",
       " ('기관지염', 0.7788915634155273),\n",
       " ('편도선염', 0.7728430032730103),\n",
       " ('냉방병', 0.7679721117019653),\n",
       " ('호흡기', 0.7670795917510986),\n",
       " ('열나', 0.757851779460907)]"
      ]
     },
     "execution_count": 79,
     "metadata": {},
     "output_type": "execute_result"
    }
   ],
   "source": [
    "model_keywords.wv.similar_by_word(\"감기\")"
   ]
  },
  {
   "cell_type": "code",
   "execution_count": 80,
   "metadata": {},
   "outputs": [
    {
     "data": {
      "text/plain": [
       "[('열기', 0.6857141852378845),\n",
       " ('오한', 0.6692895293235779),\n",
       " ('고열로', 0.6670310497283936),\n",
       " ('외감', 0.6613254547119141),\n",
       " ('불덩이', 0.6497596502304077),\n",
       " ('식히', 0.6434990167617798),\n",
       " ('허열', 0.6433795690536499),\n",
       " ('몸살감기', 0.6416375637054443),\n",
       " ('미열', 0.6338551640510559),\n",
       " ('열나', 0.6324325799942017)]"
      ]
     },
     "execution_count": 80,
     "metadata": {},
     "output_type": "execute_result"
    }
   ],
   "source": [
    "model_keywords.wv.similar_by_word(\"열\")"
   ]
  },
  {
   "cell_type": "code",
   "execution_count": 81,
   "metadata": {},
   "outputs": [
    {
     "data": {
      "text/plain": [
       "[('어린애', 0.8438390493392944),\n",
       " ('아파하', 0.8381340503692627),\n",
       " ('참기', 0.829542875289917),\n",
       " ('쓰라리', 0.814190685749054),\n",
       " ('아프', 0.8095778226852417),\n",
       " ('생채기', 0.8086069822311401),\n",
       " ('놀래', 0.7983182072639465),\n",
       " ('나지', 0.7944431304931641),\n",
       " ('겁나', 0.7896738648414612),\n",
       " ('불덩이', 0.7878525853157043)]"
      ]
     },
     "execution_count": 81,
     "metadata": {},
     "output_type": "execute_result"
    }
   ],
   "source": [
    "model_keywords.wv.similar_by_word(\"아파\")"
   ]
  },
  {
   "cell_type": "code",
   "execution_count": 82,
   "metadata": {},
   "outputs": [
    {
     "data": {
      "text/plain": [
       "[('우', 0.8077030181884766),\n",
       " ('울', 0.7894013524055481),\n",
       " ('흐느끼', 0.7190532684326172),\n",
       " ('자지러지', 0.7188630104064941),\n",
       " ('괴성', 0.7169601917266846),\n",
       " ('칭얼거리', 0.7118950486183167),\n",
       " ('비명', 0.7046586275100708),\n",
       " ('지르', 0.703108012676239),\n",
       " ('어르', 0.6996307373046875),\n",
       " ('신음', 0.6962636709213257)]"
      ]
     },
     "execution_count": 82,
     "metadata": {},
     "output_type": "execute_result"
    }
   ],
   "source": [
    "model_keywords.wv.similar_by_word(\"울음\")"
   ]
  },
  {
   "cell_type": "code",
   "execution_count": 83,
   "metadata": {},
   "outputs": [
    {
     "data": {
      "text/plain": [
       "[('여아', 0.8582215309143066),\n",
       " ('정상아', 0.6962495446205139),\n",
       " ('성징', 0.6893209218978882),\n",
       " ('기라', 0.6852234601974487),\n",
       " ('색맹', 0.684944212436676),\n",
       " ('아도', 0.678516149520874),\n",
       " ('클리토리스', 0.6607379913330078),\n",
       " ('정상인', 0.6599722504615784),\n",
       " ('위수', 0.654329240322113),\n",
       " ('극소', 0.6498882174491882),\n",
       " ('증후', 0.6492331624031067),\n",
       " ('생시', 0.6480215787887573),\n",
       " ('변성기', 0.6475589275360107),\n",
       " ('두드러지', 0.6446006894111633),\n",
       " ('조숙', 0.6428589820861816),\n",
       " ('확연', 0.6371349096298218),\n",
       " ('보인자', 0.6352572441101074),\n",
       " ('정류', 0.6328153610229492),\n",
       " ('출생체중', 0.6306383609771729),\n",
       " ('남자', 0.6286284327507019)]"
      ]
     },
     "execution_count": 83,
     "metadata": {},
     "output_type": "execute_result"
    }
   ],
   "source": [
    "model_keywords.wv.similar_by_word(\"남아\", topn=20)"
   ]
  },
  {
   "cell_type": "code",
   "execution_count": 84,
   "metadata": {},
   "outputs": [
    {
     "data": {
      "text/plain": [
       "[('남아', 0.8582215309143066),\n",
       " ('성징', 0.6465380191802979),\n",
       " ('여자', 0.625258207321167),\n",
       " ('기라', 0.6163921356201172),\n",
       " ('남자', 0.6067968010902405),\n",
       " ('가슴둘레', 0.5990121960639954),\n",
       " ('위수', 0.5850467681884766),\n",
       " ('성별', 0.5789700746536255),\n",
       " ('성비', 0.5730557441711426),\n",
       " ('아도', 0.5671846866607666),\n",
       " ('클리토리스', 0.5667832493782043),\n",
       " ('여탕', 0.5654733180999756),\n",
       " ('성조숙', 0.5639233589172363),\n",
       " ('생시', 0.5600930452346802),\n",
       " ('남근', 0.5589829683303833),\n",
       " ('정상아', 0.5585267543792725),\n",
       " ('확연', 0.5564078688621521),\n",
       " ('변성기', 0.5538173913955688),\n",
       " ('아이든', 0.5514933466911316),\n",
       " ('성차', 0.5510605573654175)]"
      ]
     },
     "execution_count": 84,
     "metadata": {},
     "output_type": "execute_result"
    }
   ],
   "source": [
    "model_keywords.wv.similar_by_word(\"여아\", topn=20)"
   ]
  },
  {
   "cell_type": "code",
   "execution_count": 85,
   "metadata": {
    "scrolled": true
   },
   "outputs": [
    {
     "data": {
      "text/plain": [
       "[('남자', 0.9276505708694458),\n",
       " ('조신', 0.7118227481842041),\n",
       " ('여탕', 0.6932961940765381),\n",
       " ('성차', 0.6865707635879517),\n",
       " ('남탕', 0.67728191614151),\n",
       " ('금성', 0.6694213151931763),\n",
       " ('엘렉트라', 0.6342495679855347),\n",
       " ('아이든', 0.632871150970459),\n",
       " ('성별', 0.6269031167030334),\n",
       " ('여아', 0.625258207321167),\n",
       " ('족쇄', 0.6226381659507751),\n",
       " ('남아', 0.6187950372695923),\n",
       " ('일운', 0.6127138137817383),\n",
       " ('남학생', 0.6084304451942444),\n",
       " ('바람둥이', 0.6025266647338867),\n",
       " ('시집살이', 0.6019200682640076),\n",
       " ('에너자이저', 0.6012762784957886),\n",
       " ('야동', 0.601057231426239),\n",
       " ('우스갯소리', 0.5986984968185425),\n",
       " ('알파걸', 0.598076581954956)]"
      ]
     },
     "execution_count": 85,
     "metadata": {},
     "output_type": "execute_result"
    }
   ],
   "source": [
    "model_keywords.wv.similar_by_word(\"여자\", topn=20)"
   ]
  },
  {
   "cell_type": "code",
   "execution_count": 86,
   "metadata": {},
   "outputs": [
    {
     "data": {
      "text/plain": [
       "[('여자', 0.9276505708694458),\n",
       " ('조신', 0.7535786032676697),\n",
       " ('여탕', 0.7398945689201355),\n",
       " ('성차', 0.7190895080566406),\n",
       " ('남탕', 0.7090216875076294),\n",
       " ('금성', 0.7009105682373047),\n",
       " ('얌전', 0.6762772798538208),\n",
       " ('성별', 0.6730945110321045),\n",
       " ('족쇄', 0.6637382507324219),\n",
       " ('아이든', 0.6455618143081665),\n",
       " ('일운', 0.6429769992828369),\n",
       " ('알파걸', 0.6423494219779968),\n",
       " ('엘렉트라', 0.6410560011863708),\n",
       " ('유다이', 0.6398763656616211),\n",
       " ('들추', 0.6361589431762695),\n",
       " ('숫기', 0.6341906189918518),\n",
       " ('야동', 0.6329840421676636),\n",
       " ('처갓집', 0.6317377090454102),\n",
       " ('우스갯소리', 0.6308197975158691),\n",
       " ('무뚝뚝', 0.6302056312561035)]"
      ]
     },
     "execution_count": 86,
     "metadata": {},
     "output_type": "execute_result"
    }
   ],
   "source": [
    "model_keywords.wv.similar_by_word(\"남자\", topn=20)"
   ]
  },
  {
   "cell_type": "code",
   "execution_count": 87,
   "metadata": {},
   "outputs": [
    {
     "data": {
      "text/plain": [
       "[('디럭스', 0.814447283744812),\n",
       " ('절충', 0.7793101072311401),\n",
       " ('잉글', 0.757431149482727),\n",
       " ('레시', 0.7374228239059448),\n",
       " ('핸들링', 0.7270081043243408),\n",
       " ('휴대용', 0.7255921363830566),\n",
       " ('카시트', 0.7218056917190552),\n",
       " ('타보', 0.7169990539550781),\n",
       " ('맥클라렌', 0.7101566791534424),\n",
       " ('삼륜', 0.7096701860427856)]"
      ]
     },
     "execution_count": 87,
     "metadata": {},
     "output_type": "execute_result"
    }
   ],
   "source": [
    "model_keywords.wv.similar_by_word(\"유모차\")"
   ]
  },
  {
   "cell_type": "code",
   "execution_count": 88,
   "metadata": {},
   "outputs": [
    {
     "data": {
      "text/plain": [
       "[('브라이', 0.7454673051834106),\n",
       " ('안전벨트', 0.7432515621185303),\n",
       " ('부스터', 0.7399038076400757),\n",
       " ('장착', 0.7338041067123413),\n",
       " ('컨버터블', 0.7242361307144165),\n",
       " ('유모차', 0.7218056321144104),\n",
       " ('뒤보', 0.7155474424362183),\n",
       " ('콩코드', 0.7092009782791138),\n",
       " ('순성', 0.7090553045272827),\n",
       " ('페도라', 0.7064604759216309)]"
      ]
     },
     "execution_count": 88,
     "metadata": {},
     "output_type": "execute_result"
    }
   ],
   "source": [
    "model_keywords.wv.similar_by_word(\"카시트\")"
   ]
  },
  {
   "cell_type": "markdown",
   "metadata": {},
   "source": [
    "---"
   ]
  },
  {
   "cell_type": "markdown",
   "metadata": {},
   "source": [
    "### Volume of Corpus "
   ]
  },
  {
   "cell_type": "code",
   "execution_count": 89,
   "metadata": {},
   "outputs": [],
   "source": [
    "df[['text']].to_csv('data/text_for_word2vec.csv', index=False, encoding='utf-8')"
   ]
  },
  {
   "cell_type": "code",
   "execution_count": 90,
   "metadata": {},
   "outputs": [
    {
     "data": {
      "text/html": [
       "<div>\n",
       "<style scoped>\n",
       "    .dataframe tbody tr th:only-of-type {\n",
       "        vertical-align: middle;\n",
       "    }\n",
       "\n",
       "    .dataframe tbody tr th {\n",
       "        vertical-align: top;\n",
       "    }\n",
       "\n",
       "    .dataframe thead th {\n",
       "        text-align: right;\n",
       "    }\n",
       "</style>\n",
       "<table border=\"1\" class=\"dataframe\">\n",
       "  <thead>\n",
       "    <tr style=\"text-align: right;\">\n",
       "      <th></th>\n",
       "      <th>text</th>\n",
       "    </tr>\n",
       "  </thead>\n",
       "  <tbody>\n",
       "    <tr>\n",
       "      <th>0</th>\n",
       "      <td>6살 남아 입니다 회사 복직 후 3살부터 주중에는 외할머니댁에서 2살 4살 터울의 ...</td>\n",
       "    </tr>\n",
       "    <tr>\n",
       "      <th>1</th>\n",
       "      <td>요즘 들어 아빠가 아이에게 다가가려고 하면 엄마한테 갈 거야 하면서 엄마를 유독 찾...</td>\n",
       "    </tr>\n",
       "    <tr>\n",
       "      <th>2</th>\n",
       "      <td>둘째가 태어나면 첫째가 힘들 거라는 건 예상하고 있었지만 툭하면 삐치고 울고 좀처럼...</td>\n",
       "    </tr>\n",
       "    <tr>\n",
       "      <th>3</th>\n",
       "      <td>20개월 남아가 있고 임신 8개월차로 두 아기의 엄마입니다 첫 아이는 잠자리 독립을...</td>\n",
       "    </tr>\n",
       "    <tr>\n",
       "      <th>4</th>\n",
       "      <td>14개월 남자 아기인데 심하게 깨무는 버릇이 있어요 전에는 졸릴 때 주로 물곤 했는...</td>\n",
       "    </tr>\n",
       "    <tr>\n",
       "      <th>...</th>\n",
       "      <td>...</td>\n",
       "    </tr>\n",
       "    <tr>\n",
       "      <th>25344</th>\n",
       "      <td>가임기 연력 여성의 흡연률 증가와 그 폐해 현대 여성은 다양한 사회활동에 참여하고 ...</td>\n",
       "    </tr>\n",
       "    <tr>\n",
       "      <th>25345</th>\n",
       "      <td>아토피에 유전적인 요인이 작용한다는 사실 알고 계시나요 유전적인 요인 뿐 아니라 아...</td>\n",
       "    </tr>\n",
       "    <tr>\n",
       "      <th>25346</th>\n",
       "      <td>1st 시기에 따라 필요한 영양소를 충분히 뱃속의 아이는 엄마가 먹는 것을 함께 먹...</td>\n",
       "    </tr>\n",
       "    <tr>\n",
       "      <th>25347</th>\n",
       "      <td>분만 여성만이 누릴 수 있는 특권 대부분의 여성들은 임신과 분만이라는 과정을 경험하...</td>\n",
       "    </tr>\n",
       "    <tr>\n",
       "      <th>25348</th>\n",
       "      <td>최근 전자파가 건강상의 문제를 일으킬 수 있다는 견해가 많아지면서 임신부들 또한 가...</td>\n",
       "    </tr>\n",
       "  </tbody>\n",
       "</table>\n",
       "<p>25349 rows × 1 columns</p>\n",
       "</div>"
      ],
      "text/plain": [
       "                                                    text\n",
       "0      6살 남아 입니다 회사 복직 후 3살부터 주중에는 외할머니댁에서 2살 4살 터울의 ...\n",
       "1      요즘 들어 아빠가 아이에게 다가가려고 하면 엄마한테 갈 거야 하면서 엄마를 유독 찾...\n",
       "2      둘째가 태어나면 첫째가 힘들 거라는 건 예상하고 있었지만 툭하면 삐치고 울고 좀처럼...\n",
       "3      20개월 남아가 있고 임신 8개월차로 두 아기의 엄마입니다 첫 아이는 잠자리 독립을...\n",
       "4      14개월 남자 아기인데 심하게 깨무는 버릇이 있어요 전에는 졸릴 때 주로 물곤 했는...\n",
       "...                                                  ...\n",
       "25344  가임기 연력 여성의 흡연률 증가와 그 폐해 현대 여성은 다양한 사회활동에 참여하고 ...\n",
       "25345  아토피에 유전적인 요인이 작용한다는 사실 알고 계시나요 유전적인 요인 뿐 아니라 아...\n",
       "25346  1st 시기에 따라 필요한 영양소를 충분히 뱃속의 아이는 엄마가 먹는 것을 함께 먹...\n",
       "25347  분만 여성만이 누릴 수 있는 특권 대부분의 여성들은 임신과 분만이라는 과정을 경험하...\n",
       "25348  최근 전자파가 건강상의 문제를 일으킬 수 있다는 견해가 많아지면서 임신부들 또한 가...\n",
       "\n",
       "[25349 rows x 1 columns]"
      ]
     },
     "execution_count": 90,
     "metadata": {},
     "output_type": "execute_result"
    }
   ],
   "source": [
    "pd.read_csv('data/text_for_word2vec.csv')"
   ]
  },
  {
   "cell_type": "markdown",
   "metadata": {},
   "source": [
    "---"
   ]
  },
  {
   "cell_type": "markdown",
   "metadata": {},
   "source": [
    "## Doc2Vec"
   ]
  },
  {
   "cell_type": "code",
   "execution_count": 91,
   "metadata": {},
   "outputs": [],
   "source": [
    "from gensim.models.doc2vec import Doc2Vec, TaggedDocument"
   ]
  },
  {
   "cell_type": "code",
   "execution_count": 92,
   "metadata": {},
   "outputs": [],
   "source": [
    "documents = [TaggedDocument(doc, [i]) for i, doc in enumerate(df['noun'])]"
   ]
  },
  {
   "cell_type": "code",
   "execution_count": 93,
   "metadata": {},
   "outputs": [
    {
     "ename": "NameError",
     "evalue": "name 'model' is not defined",
     "output_type": "error",
     "traceback": [
      "\u001b[0;31m---------------------------------------------------------------------------\u001b[0m",
      "\u001b[0;31mNameError\u001b[0m                                 Traceback (most recent call last)",
      "\u001b[0;32m<timed exec>\u001b[0m in \u001b[0;36m<module>\u001b[0;34m\u001b[0m\n",
      "\u001b[0;31mNameError\u001b[0m: name 'model' is not defined"
     ]
    }
   ],
   "source": [
    "%%time\n",
    "doc2vec_model = Doc2Vec(documents, \n",
    "                        vector_size=100, \n",
    "                        window=5, \n",
    "                        min_count=5, \n",
    "                        workers=4)\n",
    "\n",
    "model.save('data/tokmom_doc2vec_only_noun.model')"
   ]
  },
  {
   "cell_type": "code",
   "execution_count": 94,
   "metadata": {},
   "outputs": [
    {
     "data": {
      "text/plain": [
       "25349"
      ]
     },
     "execution_count": 94,
     "metadata": {},
     "output_type": "execute_result"
    }
   ],
   "source": [
    "len(doc2vec_model.docvecs)"
   ]
  },
  {
   "cell_type": "code",
   "execution_count": 95,
   "metadata": {},
   "outputs": [
    {
     "data": {
      "text/plain": [
       "'6살 남아 입니다 회사 복직 후 3살부터 주중에는 외할머니댁에서 2살 4살 터울의 사촌 형 누나와 함께 자랐어요 금요일 저녁에 데려와 주말에는 엄마 아빠와 생활하고 있구요 7세가 되는 내년이라도 아이를 데려오자는 아이 아빠의 의견과 유치원과 태권도 등 패턴이 적응되었고 형 누나들과 더 자랄 수 있게 초등학교 입학시기에 데리고 가는게 낫지 않겠냐는 외할머니 의견이 다릅니다 6세가 된 아이의 교육과 생활습관 형성이 이제는 할머니댁에서는 어려울 것 같다는 생각이 들고 하루하루 생각이 크고 자라는 아이를 주말에만 보는 저 또한 놀랄 때가 많거든요 하루라도 빨리 데려와야 할까요 초등학교 입학시기에 데려오는 편이 아이에게 좋을까요 매우 어려운 질문입니다 먼저 아이가 현재 잘 적응하고 있고 주변 양육환경 역시 아이가 성장하기에 별다른 문제가 없다 하니 고민이 더욱 크시리라 생각됩니다 우선 되어야하는 것은 아이의 의견입니다 6살이면 이러한 문제에 대하여 스스로 생각하고 의견을 전달할 수 있으므로 먼저 아이의 의견을 들어 주시기 바랍니다 아이는 부모님과 함께 사는 것이 좋습니다 그러나 부모님께서 두분 모두 직장에 나가시니 유치원 하원 후 아이를 돌보아 주실 분이 현재 함께 생활하고 계시는 할머님이시면 재고의 여지 없이 데려 오시는 것을 권유 드립니다 그러나 하원 후 할머님의 돌봄이 여의치 못할 경우 돌보아 줄 대상이 당분간 할머님댁에서 시간제로나마 아이를 돌보아 주어 아이와의 상호작용을 충분히 가진 후에 아이가 집으로 왔을 때 유치원 하원 후에 계속 돌보아 줄 수 있으면 좋습니다 이와 같이 먼저 아이가 집으로 온 후 부모님께서 퇴근하시기 전 까지 돌보아 줄 사람을 알아보시고 데려 오시는 것이 좋다는 생각이 듭니다'"
      ]
     },
     "execution_count": 95,
     "metadata": {},
     "output_type": "execute_result"
    }
   ],
   "source": [
    "df['text'][0]"
   ]
  },
  {
   "cell_type": "code",
   "execution_count": 96,
   "metadata": {
    "scrolled": false
   },
   "outputs": [
    {
     "name": "stdout",
     "output_type": "stream",
     "text": [
      "Input Document\n",
      "젖병을 떼야 하는 이유로는 첫째 우식증을 예방하고 둘째 젖병 무는 어린 아기의 습관을 서서히 고쳐 나가기 위함 입니다 지금은 단지 습관에 의해 젖병을 물고 있을 뿐이므로 음식은 숟가락으로 먹이고 우유는 컵으로 마시게 하면서 젖병을 뗄 수 있도록 해야 합니다 잠잘 때 젖병을 물고 자는 것은 무의식적인 행동입니다 그러나 너무 친숙해진 습관을 갑자기 금지시킨다면 아기 심리에 큰 충격을 줄 수도 있으므로 서서히 젖병 속의 우유를 희석시키는 방법을 사용합니다 예를 들어 평상시에 우유를 200 mL 먹였다면 우유 180 mL에 물 20 mL를 섞어서 젖병에 넣어줍니다 점차 물의 농도를 높여가다가 아기가 이를 느끼고 부정적인 반응을 보일 때는 잠시 정지하였다가 다시 희석의 강도를 높여봅니다 그러다 보면 아기는 점차 희석된 우유에 흥미를 잃어 스스로 젖병을 내던지게 될 것입니다 아기에 따라 스스로 정서적 안정을 얻는 습관을 하나씩 가지고 있습니다 아기 때의 이불을 늘 잡고 있다거나 엄마의 머리카락을 잡아야 잠을 잔다거나 하는 습관은 고치기가 쉽지 않은 일입니다 젖병도 그런 습관의 일종일 수 있습니다 젖병을 물고 있는 것이 정서적인 이유라면 젖병 떼기를 강요하지 않습니다 하루 2 3번은 젖병을 물고 있게 하다가 점차 아기가 성장하면서 젖병 무는 것이 자신에게는 어울리지 않는다는 것을 엄마가 끊임없이 설득하고 아이 스스로도 그렇게 느껴 자연스레 젖병을 멀리하게 합니다 가능한 컵이나 빨대컵을 활용하고 노리개 젖꼭지 등을 대체하여 사용해 볼 수도 있습니다\n",
      "Most similar Documents\n",
      "idx: 21274 similarity: 0.617\n",
      "자다가 깨서 울고 젖병을 뺏어도 울고 엄마가 잠시라도 곁에 없어도 우는 아이 갑자기 울보가 돼버린 아이가 걱정되겠지만 아이 정서에 문제가 있어서가 아니라 이 시기 아이가 잘 자라고 있다는 신호로 보면 된다 무엇보다 엄마와의 애착관계가 형성되는 시기로 이때 정서적으로 안정감을 느낀 아이는 훗날 독립적이고 사회성 좋은 아이로 자란다 4 밤에 푹 재울 수 있는 방법은 없을까요 푹 자야 쑥쑥 잘 자랄 텐데 다른 아이들보다 성장이 더디면 어떻게 하나 엄마들은 조바심이 난다 하지만 돌 전 아이는 어른보다 얕은 잠을 자기 때문에 자주 깨는 것이 당연하다 생체리듬이 완전히 자리 잡지 못해 한번에 쉽게 잠들지 못할뿐 더러 잠의 깊이가 얕아 악몽을 꾸기도 하고 작은 소음에도 깨기 일쑤다 문제는 한번 깨면 엄마의 도움 없이 다시 잠들기 어렵다는 것 엄마 입장에서는 힘든 일이지만 이 시기가 지나면 자연스럽게 나아지므로 마음 편히 대처하는 것이 좋다 5 잠을 제대로 못 자면 성장이 지연될 수 있다성장호르몬의 절반 이상은 자는 사이에 뇌하수체에서 분비된다 이 호르몬은 다른 내분비선을 자극하는 성분을 관리해 아이의 성장과 신체적 발달에 중요한 역할을 한다 때문에 아이가 잠을 푹 자지 못하고 자주 깨면 그만큼 성장이 지연될 수 있다 잠을 충분히 자지 못하면 스트레스 대처 능력 집중력 인내력 호기심 활동성도 떨어진다 잠이 모자란 아이가 짜증이 많고 자주 징징거리는 것도 이런 이유다 잠을 푹 자야 하는 중요한 이유 중 또 하나는 면역력 증진이다 소아과 전문의 권재현 원장은 아이가 잘 자야 건강하게 자랄 수 있다는 것을 명심하고 아이가 자주 깨어 엄마를 귀찮게 하더라도 올바른 수면습관을 들이기 위해 아이가 다시 푹 잠들 수 있도록 도와주는 것이 무엇보다 중요하다고 조언한다 위 결과는 여성 포털사이트 이지데이 에서 2011년 12월 7 12일에 8백9명을 대상으로 설문조사한 결과입니다 6 step 1 잠들기 직전에 수유하지 않는다어른도 잠들기 전에 음식을 먹으면 잠자리가 편하지 않은 것처럼 아이도 마찬가지다 수면과 비수면을 조절하는 생체리듬이 깨지기 때문 되도록 마지막 수유는 잠들기 30분 1시간 전에 하는 것이 좋다 또한 아이를 푹 재우려고 잠들기 전에 과도하게 놀아주는 경우가 있는데 오히려 아이가 흥분 상태에 빠져 잠들어도 쉽게 깨는 원인이 된다 7 step 2 따뜻한 물에 목욕을 시킨다잠자리에 들기 전 매일 일정한 시간에 목욕을 시킨다 따뜻한 물에 목욕을 하고 로션을 발라주면서 간단한 베이비마사지를 하는 것도 좋다 8 step 3 편안한 잠자리 환경을 만들어준다아이가 잠들기 전에 텔레비전이나 오디오를 틀어놓는 것은 좋지 않다 아이 또한 어른처럼 잠들기 전에 하루의 긴장을 풀고 마음을 차분히 할 시간이 필요하다 포근한 환경을 만들어 줄 수 있도록 조도가 낮은 수면등을 활용하거나 엄마가 아이를 토닥거리며 조용조용 자장가를 불러주는 것도 도움이 된다 9 step 4 아이가 잠들 때까지 곁에 있어준다낯가림이 시작되는 이 시기에는 엄마에 대한 애착이 커지기 때문에 잠으로 인해 엄마와 떨어진다는 사실에 불안해한다 간혹 독립적으로 자는 습관을 들이겠다고 아이를 혼자 두는 경우가 있는데 잠투정이 더 심해질 수 있다 아이를 안고 있을 필요는 없지만 안심할 수 있도록 잠들고 깰 때 곁에 있어주는 것이 좋다 10 밤중수유는 숙면을 방해하는 최대의 적 생후 6개월이 넘으면 밤중수유를 하지 않아도 충분히 잘 수 있다 아이가 밤에 깨서 운다고 무조건 젖을 물리는 것은 아이의 수면 패턴을 방해하는 최대의 적이라는 것을 명심하자 소변 양이 많아지고 대변이 묽어져 기저귀가 항상 젖어 있게 돼 깊이 잠들지 못하고 욕구와 습관을 구분하지 못하기 때문에 습관적으로 배가 고프다고 느껴 자다가 깨서 울기 때문 CDC어린이치과 우주형 원장은 밤중수유는 수면 패턴뿐 아니라 충치의 원인이 되기도 한다 며 아이가 깨서 울더라도 달래서 다시 재우는 것이 가장 좋고 심하게 보챌 경우에는 분유나 모유 대신 보리차를 조금 먹이는 것이 좋다 고 조언한다 처음에는 다시 잠드는 데 시간이 걸리지만 끈기를 갖고 조용한 환경에서 재우는 것을 반복하면 누구나 밤중수유를 끊을 수 있다 20 수면 시간 1시간 늘면 성장 속도는 20 증가미국 타임위크 의 보도에 따르면 신생아는 자는 동안 일반 아이보다 더 빨리 성장하는 것으로 밝혀졌다 에모리대학 인류학과 교수는 23명의 신생아를 대상으로 조사를 펼쳐 이들의 4 17개월 신생아의 수면상황을 기록하도록 했다 그 결과 신생아의 수면습관이 변할 때가 바로 성장의 피크에 이르는 순간임을 알 수 있었다 다시 말해 신생아의 잠이 늘면 성장 피크에 이를 가능성이 43 증가하는 것이다 이 기간 동안 수면시간이 1시간 증가할 경우 성장속도는 20 증가한다고 한다 아빠들 자고 있는 아이 깨우지 마세요김재환 의정부아동발달연구소 소장 아이와 함께할 시간이 상대적으로 적은 아빠들이 밤늦게 집에 들어가 아이를 깨우는 경우가 있다 하지만 잘 자는 아이를 깨우는 것은 아이의 수면 패턴을 엉망으로 만들 뿐 아니라 성장에도 나쁜 영향을 미친다는 것을 명심해야 한다 아이를 위한다면 아이의 잠든 모습을 조용히 바라보는 것이 현명하다 11 젖병은 어떻게 떼야 할까요 젖병은 늦어도 18개월 이전에는 떼야 하는데 18개월을 넘어가면 아이가 고집이 생겨 젖병 떼기가 배로 힘들다 되도록 생후 9 12개월에 떼기 연습을 시작하는 것이 좋다 젖병을 제때 떼지 못하고 빨아 먹는 데만 익숙해지면 유아식으로 넘어가는 시기에 덩어리진 음식을 거부할 수 있고 컵으로 우유 먹는 습관을 들이지 않으면 돌이 지난 후에도 젖병에 담아주지 않으면 아예 우유를 거부할 수도 있다 젖병은 고체 음식을 먹지 못하는 시기의 아이에게 사용하는 물건이라는 것을 명심하자 아이가 젖병을 떼고 컵을 사용하기 시작하면 젖병을 빠는 것과 달리 자연스럽게 입술을 다물고 삼키는 훈련이 되고 컵을 쥐기 위해 손가락을 쓰기 때문에 두뇌발달에도 도움이 된다 12 step 1 예쁜 컵과 친해지기생후 4 5개월이면 컵으로 마시는 훈련을 시작해도 된다 분유나 우유가 젖병이 아닌 컵에서도 나온다는 사실을 일찍부터 아이에게 인식시키면 젖병에 대한 애착이 줄어 본격적으로 컵을 사용할 수 있는 시기도 일찍 찾아온다 처음에는 엄마가 컵에 모유나 분유를 담아 아이의 입에 약간씩 흘려 넣어주는 정도로 시작하고 혼자서 앉을 수 있는 생후 8개월 정도면 젖병 수유 횟수를 줄이면서 아이 스스로 컵을 쥐고 먹게 하는 횟수를 늘린다 단 아이가 잡고 먹기 쉽도록 아이 전용 컵으로 시작한다 젖병 떼기의 관건은 빨려는 욕구를 어떻게 충족시키느냐에 달려 있기 때문에 젖병과 비슷한 구조로 된 스파우트 컵이나 빨대 컵을 아이의 첫 번째 컵으로 선택하는 것이 좋다 13 step 2 숟가락을 이용해 식습관 들이기생후 8개월 이후에는 아이가 손으로 물건을 쥘 수 있다 아이가 컵을 사용하는 것에 거부감이 없어지고 익숙해졌다면 숟가락을 사용해 이유식이나 고형식을 먹게 유도하는 게 좋다 처음에는 숟가락을 잘 사용할 수 없으므로 이유식은 엄마가 떠먹이되 아이 손에 숟가락을 쥐어줘 놀이처럼 연습할 수 있게 한다 아이 자립심 형성에도 좋다 14 step 3 안 되면 젖병을 버리는 것도 방법이유식도 하고 단계별로 차근차근 젖병 떼기 훈련을 했는데도 아이가 계속 젖병을 찾는다면 아이가 보는 앞에서 젖병을 버리는 것도 방법이다 반드시 끊어야 하는 것이므로 독하게 마음을 먹고 아이에게 단호한 태도를 보인다 젖병이 없으면 밥을 먹지 않던 아이도 하루 이틀 후에는 고집을 꺾고 밥을 먹는다 고집이 유난히 센 아이라도 2주 안에는 모두 젖병을 끊을 수 있다 치아도 건강해집니다 우주형 CDC어린이치과 원장 젖병을 떼지 못해 이유식 등 고형식을 잘 먹지 않고 모유나 분유 우유 등만 먹으려고 하면 음식을 씹어서 삼키는 훈련이 되지 않아 나중에 밥을 빨아 먹거나 물고 있는습관이 생긴다 이렇게 되면 치아 전반적으로 충치가 생길 수 있으며 삼키는 훈련이 제대로 되지 않으면 치아의 교합 상태에도 안 좋은 영향을 미친다 15 곁에서 떨어지지 않는 아이 때문에 꼼짝할 수가 없어요엄마와의 애착이 아직 안정적으로 형성되지 못한 시기다 특히 낯선 사람에 대한 불안감마저 생기는 시기이므로 엄마와 떨어지는 것에 상당한 공포심을 느낀다 즉 이 시기는 엄마와의 애착관계를 형성하기 시작하는 초기 단계로 지극히 정상적인 행동이다 연세신경정신과 손석한 원장은 이때 엄마가 아이에게 아무런 말없이 갑자기 사라지거나 떨어져 있으라고 윽박지르는 행동은 절대 금물이라고 강조한다 아직 기억능력이 부족한 시기이므로 엄마가 시야에서 사라지면 엄마의 존재 자체가 없어져서 다시 나타나지 않을 것이라고 인식하기 때문이다 분리불안을 더욱 심해지게 하고오래가게 할 뿐이다 이 시기에 제대로 애착 형성이 되지 않으면 유치원에 갈 나이가 돼도 엄마와 떨어지는 것을 두려워하거나 우울해하는 분리불안 장애를 겪을 수 있으며 엄마에게 적개심을 갖는 부정적인 애착관계를 형성할 수도 있다 16 첫째도 애정 표현 둘째도 애정 표현 분리불안은 아이가 뛰어넘어야 할 발달상 과제다 엄마는 아이가 분리불안을 잘 극복할 수 있게끔 돌 전까지 아이와 많은 시간을 가져야 한다 아이의 불안한 마음을 다독여줘야 하며 엄마가 언제나 곁에 있다는 확신을 주는 것이 중요하다 특히 아이가 아플 때는 아무리 바쁘고 힘들더라도 반드시 곁에 있어줘야 한다 평소 아이와 눈을 마주친 채 자주 웃어주고 쓰다듬고 안아주는 등의 스킨십을 자주 해야 한다 또한 아이가 엄마는 날 가장 사랑하는 사람 의지할 수 있는 최고의 쉼터라는 느낌을 가질 수 있도록 아이의 유일한 의사표현인 울음을 이해하고 그때그때 반응해주는 것이 중요하다 분리불안이 아예 없는 아이도 문제다 손석한 연세신경정신과 엄마의 존재를 별로 인식하지 못하고 다른 사람들과 엄마를 잘 구별하지 못하는 등 정상적인 분리불안 반응이 없는 것도 문제다 사회적 상호작용에 관심이 없는 경우로 사회성 결핍 또는 심한 경우 자폐적 성향을 의심할 수 있다 분리불안은 생후 36개월까지 이어지는데 계속해서 엄마에 대한 반응이 없다면 전문의와 상담해보길 권한다 17 올바른 생활습관을 들이는 데 도와주는 용품1 호벤 토미 자장가 램프 돔형 램프가 은은한 음악과 함께 회전한다 소등 후 작동하면 천장과 벽에 동물 모양이 비치며 아이가 서서히 잠들 수 있는 환경을 만들어준다 4만8천원 소빈스베이비 2 푸고 스트로컵 부드러운 실리콘으로 만들어져 빨대를 처음 쓰는 아이도 쉽게 적응 할 수 있다 흘림방지 기능과 스레인리스 재질로 안심하고 쓸 수 있다 3만9천원 소빈스베이비 3 에르고베이비 오가닉 캐리어 블랙 캐리어 착용 시 엄마와 아이가 편안하게 밀착되어 안정감을 느낀다 인체공학적 디자인으로 바른 자세 형성을 돕는다 19만3천원 이폴리움 4 클라우드비 잠자는 양 미니 4가지 자연의 소리가 담겨 있어 아이가 편안하게 잠들 수 있다 사이즈가 작아 외출 시 유용하며 촉감이 부드럽다 4만원 소빈스베이비 5 앰버코리아 굿나잇두두 엄마를 연상시키는 편안함을 느낄 수 있는 인형 오가닉 코튼으로 만들어져 아이 입에 닿아도 안전하며 인형 동화책 호박 펜던트로 구성되어 있다 4만8천8백원 앰버코리아 6 랜덤하우스 코리아 손짓으로 말하는 아기 대화 아이의 마음을 읽고 엄마의 마음을 전할 수 있는 방법을 제시한다 베이비사인을 통해 아이의 욕구를 해소해줌으로써 부모와의 관계를 친밀하게 만들어준다 1만2천원 랜덤하우스코리아7 클라우드비 빛나는 거북이 전원을 켜면 별모양 빛이 방을 가득 채운다 어두운 방을 무서워하는 아이의 잠자리에 대한 두려움을 줄일 수 있다 6만3천원 소빈스베이비 8 헬렌스타인 유아용 숙면베개 수면공학에 근거한 디자인으로 유아의 머리를 자연스럽게 받쳐준다 극세사 원단으로 털빠짐이 없고 가볍고 따뜻하다 1만9천1백원 소빈스베이비\n",
      "idx: 14045 similarity: 0.604\n",
      "아이의 젖병 떼는 시기가 늦어진다면 밤에도 젖병 없이 잠을 잘 수 없으며 영양 불균형 치아의 손상 씹어서 삼켜야 하는 이유식 거부 등 식습관에도 문제가 생길 수 있다 젖병 떼는 방법보통 아이가 16개월이 넘기 전에 젖병을 완전히 떼는 것이 좋으며 빠르면 빠를수록 좋다먼저 78개월부터 수저를 사용한 다양한 놀이를 통해 친근함을 느낄 수 있도록 한다수저를 사용하여 밥을 먹기는 힘들지만 거부하지 않고 스스로 먹을 수 있도록 많은 시간을 준다면 충분히 가능하다생 후 12개월에 들어서면 아이는 변화에 대해서 잘 적응할 수 있다이 시기를 놓치지 않고 컵을 쥐여준다면 분유나 유유를 젖병이 아닌 다른 도구로도 마실 수 있다는 사실을 아이에게 인식 시키 켜줄 수 있다 컵에 주스나 분유를 담아 마실 수 있게 유도해보자 처음에는 컵에 있는 내용물을 쏟고 엎기도 하며 시행착오를 겪지만 나중에는 스스로 마시는 방법을 터득하여 컵을 거부하지 않는다수유 시간을 정확하게 지키는 것도 방법이다 밤중 수유는 반드시 끊어야 하며 음식을 먹을 시간이 되면 어른들과 함께 아이도 식탁 의자에 앉히고 함께 음식을 먹게 하는 것이 좋다위의 과정을 통해 최종적으로 아이는 젖병과 작별해야 한다 아이에게 충분한 설명과 함께 이제 더 이상 젖병을 사용하지 못함을 알려준다 이 과정에서 아이는 익숙했던 것을 버리고 새로운 것을 받아들이는데 적응해 나갈 것이다젖병 떼기는 아이가 충분히 받아들일 준비가 되어야 시행할 수 있다 조바심에 아이의 반응을 살피지 않고 무조건 강제적으로 젖병 사용 금지를 한다면 아이는 오히려 반감이 생겨 젖병에 집착할 수 있다 젖병은 적절한 시기에 떼야 하지만 시기에 조바심을 느끼지 않고 아이가 충분히 받아들일 준비가 되었는지 확인하며 천천히 단계를 밟아 젖병과 작별 인사를 할 수 있도록 하자\n",
      "idx: 15222 similarity: 0.6\n",
      "7개월 된 여자 아기인데 생후 3개월 되던 때부터 엄지손가락을 빨기 시작하더니 요즘에는 젖병을 입에서 떼기가 무섭게 손가락을 가져가요 손가락을 빼면 화를 내고 이리저리 고개를 돌려 손가락을 찾고 빨아야만 잠이 듭니다 저희 아기는 생후 50일도 안 돼서 주먹을 빨더니 요즘은 손가락을 넣고 쩝쩝 소리까지 내가며 맛있게 빨아댑니다 아기가 좋아하는 것 같아서 그냥 놔두기는 하는데 괜찮을까요 초보 엄마가 육아 카페에 올린 아기의 손가락 빨기에 대한 걱정의 글이다 이렇듯 많은 아기가 성장 과정에서 손가락을 입에 가득 넣고 빨거나 엄지 또는 검지만 빨기도 하는데 초보 엄마는 이러한 아기의 습관 앞에서 으레 당황하게 마련이다 아기가 손가락을 빨면 손가락 모양이 변하진 않을지 구강 구조에 영향을 주지는 않을지 하는 걱정과 함께 직장맘이거나 피치 못할 사정으로 남의 손에 맡겨야 하는 엄마는 아기가 엄마에 대한 애정 결핍과 욕구불만으로 손을 빠는 것은 아닐지 죄책감에 사로잡히기도 한다 아기가 손을 빠는 습관은 이래저래 엄마에게는 골칫거리가 되는 셈 엄마의 유방 젖병의 젖꼭지나 어떤 부드러운 물체로 아기의 볼을 살짝 건드리면 아기는 그 물체를 향해 입을 벌리고 머리를 돌리는 반사 행동을 보인다 이는 신생아가 생존을 위해 젖꼭지를 찾아 젖을 먹으려고 하는 행동으로 젖 찾기 반사 혹은 루팅 반사라고 한다 모유 냄새가 나는 쪽으로 얼굴과 입을 돌려서 먹으려는 행동도 이러한 반사 행동의 하나다 또 아기는 젖을 빠는 힘이 강력해 엄마의 젖이 다 비워질 때까지 빨 수 있다 이렇듯 아기의 빨기 본능은 말 그대로 생존 본능이다 젖을 먹고 살아야 하는 본능이 작용한 것 이러한 본능이 잦은 반복으로 인해 습관이 되고 이 습관이 아기의 손가락 빨기로 이어지는 것이다 한 연구 보고에 의하면 13세에 40 35세에 33 5세 이후에도 25가 손가락을 빤다고 한다 손가락 빨기는 아기가 좀 더 편안한 상태를 유지하기 위해 행하는 습관 중 하나다 하지만 아기의 손가락 빨기 습관은 틱장애 같은 문제일 수도 있으므로 다른 습관성 행동은 없는지 살피는 것이 중요하다 계속해서 손가락을 빨면 치아 배열에 지장을 주고 정서적으로나 사회적으로 장애가 생길 수 있으므로 격려와 함께 적절한 보상으로 다독여주는 것이 좋다 앞서 말했듯이 아기는 자신의 불안한 심리 상태를 좀 더 편안하고 안정되게 하기 위해 손가락을 빤다 전문가들은 이렇게 일정 월령의 아기가 손가락을 빠는 습관은 자연스러운 현상이라고 이야기한다 아기는 태아 시기인 임신 28주 무렵부터 손가락을 빨기 시작하는데 이런 행동은 태어나 젖을 먹으면서도 계속되며 일반적으로 모유를 먹는 아기보다 분유를 먹는 아기에게 더 많이 나타난다 분유를 먹는 아기는 모유를 먹는 아기보다 훨씬 힘을 덜 들이고 우유를 먹을 수 있어 빨기 욕구가 더 강하게 나타나기 때문이다 아기는 손가락을 빨면서 안정감과 편안함을 느낀다 손가락을 빠는 버릇은 때가 되면 점점 사라지므로 억지로 제지할 필요는 없다 하지만 손가락 빨기는 분명 위생상 좋지 않으며 치아 배열에도 영향을 끼친다 습관이 지속되면 손가락에 굳은살이 생기거나 염증이 생기기도 한다 생후 6개월이 지나도 아기가 손가락을 계속 빤다면 왜 아기가 손가락을 빨고 있는지 생각해봐야 한다 대개 아기는 심심하거나 부모의 관심을 얻고 싶을 때 손가락을 빤다 따라서 이런 아기의 심리를 파악하고 나서 대처하는 것이 순서다 이를 방관하면 아기가 놀이의 즐거움을 통해 얻을 수 있는 중요한 자극을 상실하는 것과 같기 때문이다 일반적으로 아기가 손가락을 빠는 버릇은 활동량이 많아지거나 무언가에 집중하는 34세가 되면 자연스럽게 없어지지만 그렇지 않을 때는 강압적으로 아이의 행동을 제지하기보다는 아이가 손가락을 빠는 원인이 무엇인지 살피고 그 원인을 없애주는 것이 옳다 아이만이 알 수 있는 눈빛이나 미소를 보내 자신도 모르게 하는 행동을 자각할 수 있도록 도움을 주는 것이 좋다 따라서 아기가 어리다면 크게 걱정할 필요는 없다 하지만 어느 정도 자란 아이가 손가락을 빨아댄다면 경우가 좀 다르다 영구치가 나기 시작하는 만 5세쯤에는 손가락을 빠는 버릇이 새로 나는 영구치에 나쁜 영향을 미칠 수 있기 때문이다 손가락 대신 빨 수 있는 대치물을 준다 생후 6개월 이후에도 아기가 심각할 정도로 손가락을 빤다고 판단될 때는 손가락 대신 공갈 젖꼭지로 대체해주는 것이 좋다 가끔 엄마 중에 공갈 젖꼭지가 아기에게 안 좋은 영향을 미칠 수 있다고 생각하는데 미국 소아학회에서는 아기가 공갈 젖꼭지를 빨아도 의학적으로나 심리적으로 아무런 문제가 생기지 않는다고 밝히고 있다 또는 이가 나기 시작하면 간지러워 손을 빨 수도 있으므로 이가 나려고 하는 것인지 살펴보고 치아 발육기를 물려주는 것도 한 방법이다 부드러운 방법으로 지적해준다 아기가 손가락을 빤다고 해서 억지로 손가락을 잡아 빼거나 못하게 하면 아기는 입술을 빠는 버릇으로 욕구를 채우려고 할 수 있다 즉 나쁜 습관의 강압적인 중단이 더 나쁜 버릇으로 이어질 수 있으므로 주의하도록 한다 아기가 손가락을 입에 가져가면 다정한 목소리로 손가락이라고 지적하거나 손을 빠는 아기와 눈이 마주쳤을 때 고개를 절레절레 흔들어서 안 된다는 표시를 하면 아기는 자기의 버릇을 인식하게 된다 다른 일에 흥미를 갖게 한다 아기가 손가락을 빨고 있으면 아기의 주의를 끌 다른 흥밋거리를 제공한다 이를테면 아기가 좋아하는 그림책을 가져와 자 엄마랑 그림책 볼까 하면서 슬쩍 아기의 손에 책을 쥐어준다 아기는 그림책을 보는 동안 손가락 빠는 것을 잊어버릴 것이다 엄마와 함께 산책을 나가거나 그림을 그려보거나 소리 나는 장난감을 가지고 놀게 하는 것도 좋은 방법이다 만약 잘 때만 허전함을 느껴 손가락을 빠는 아기라면 잠이 잘 들도록 목욕 후 엄마가 노래를 불러주거나 재미있는 이야기를 들려준다 요 엄마 젖꼭지 또는 젖병 젖꼭지와 모양이 같고 입에 물 수 있도록 만든 젖꼭지를 공갈 젖꼭지라고 한다 공갈 젖꼭지는 엄마들이 아기의 울음을 달래고자 입에 물려주었던 것이 최근 아기의 빨려는 욕구를 충족시킨다는 연구 결과가 발표되면서 평상시에 사용하는 엄마가 꽤 많이 늘었다 습관이 되면 잠자리에 들 때조차 입에 물고 자려 한다 대물 애착의 애착물과는 달리 엄마가 습관적으로 물려주는 것으로 신체 접촉만큼의 포만감과 욕구가 충족되어 아기의 심리적 안정에 좋은 영향을 미친다고 한다 생후 6개월이 지나면 아기의 빨고자 하는 욕구는 줄어든다 그 이후에 공갈 젖꼭지를 빠는 것은 이를 대체할 만한 흥미로운 자극을 받지 못해서라고 볼 수 있다 공갈 젖꼭지에 집착하는 것이 심각한 문제가 되지는 않지만 아기의 심리적인 욕구불만을 표현하는 신호일 수 있으므로 부모는 세심한 관심과 사랑으로 아기에게 신경 써야 할 것이다 특히 중이염이 잦은 아기에게는 월령이 낮더라도 공갈 젖꼭지를 물려서는 안 된다 귀 안의 이관에 음압이 작용해 중이염에 쉽게 걸릴 수 있기 때문이다 떼는 시기 공갈 젖꼭지에 익숙해진 아기는 애착물의 경우와 같이 공갈 젖꼭지를 입에서 놓지 않으려고 한다 주로 우유를 먹는 아기가 더 많은 집착을 보이는데 이는 젖병으로 먹는 우유는 아기가 빨려고 하는 욕구를 충분히 충족하지 못한 채 없어져버리는 것도 어느 정도 원인이 된다 일부 전문가들은 공갈 젖꼭지를 심하게 빨면 이가 곧바로 나오는 것을 방해하고 입 모양이 밉게 된다고 주장하기도 하지만 아주 심한 경우가 아니면 큰 지장이 없다는 의견이 대세다 그렇지만 습관이 되거나 심하게 물면 구강 발달이나 치아 발달에 좋지 않으므로 두 돌 전에 끊는 것이 바람직하다 이렇게 떼세요 공갈 젖꼭지를 떼기 위해서는 가능한 한 아기와 많이 놀아주고 흥미 있는 다른 놀이를 할 수 있도록 끊임없이 신경 써주어야 한다 아기를 혼내거나 지나친 걱정을 보이는 것은 아기에게 스트레스를 주어 빨기에 더 집착할 수 있다 만 4세가 지나도 빨기가 지속되면 적극적으로 치료를 해야 하는데 대화를 통해 왜 빨면 안 되는지 이유를 설명해주고 손가락이나 집착하는 공갈 젖꼭지에 약을 바르거나 장치를 붙이는 방법을 쓰기도 한다 특별한 이유가 없는 한 이유식을 먹고 고형 음식을 먹게 되면 더 이상 빨지 않는 경우가 대부분이다 특히 동생이 생긴 아이에겐 공갈 젖꼭지는 아기만 사용하는 것이라고 일러주면 쉽게 뗄 수 있다 돌이 지난 아이가 젖병을 떼지 못하고 지속적으로 찾는 행동은 못하게 해야 한다고 전문가들은 못박아 말한다 아이가 젖병을 찾는 이유는 배가 고파서라기보다는 빨고자 하는 욕구를 충족하고 싶기 때문이다 하지만 아이가 젖병을 통해 심리적 안정감을 찾는 경우는 극히 드물다고 한다 떼는 시기 첫돌이 지나면 반드시 젖병을 떼야 하는데 젖병을 제 시기에 떼지 못하면 이유 과정에서 영양 불균형 등의 문제가 나타날 수 있고 지나치게 의존하려는 경향 때문에 정서적으로 나쁜 영향을 미친다 또 젖병을 물고 자는 경우가 많아 치아 건강이 나빠진다 그리고 플라스틱 젖병은 환경호르몬의 나쁜 영향을 받을 수 있으므로 일찍 떼는 것이 좋다 젖병으로 우유를 먹다 보면 이관에 가해지는 압력이 커져 중이염에 걸릴 위험이 있고 젖병을 물고 오래 돌아다니다 보면 우유가 상해 배탈이 날 수 있으므로 주의해야 한다 이렇게 떼세요 자연스러운 젖병 떼기는 이유기부터 시작하는 것이 좋은데 바른 이유 연습 과정만 잘 지켜도 젖병 떼기는 자연스럽게 이뤄진다 그러기 위해서는 우선 분유를 끊고 숟가락으로 밥을 먹는 연습을 해야 한다 안전한 빨대컵에 우유나 물을 담아 빨대로 마시는 연습을 시키고 컵이나 숟가락으로 먹었을 때는 아낌없이 칭찬해 아이에게 자부심을 심어준다 젖병 대신 다양한 질감을 느낄 수 있는 치아 발육기를 사용하거나 수유 시간을 제대로 지키는 것도 젖병 떼기에 아주 중요하다\n"
     ]
    }
   ],
   "source": [
    "print(\"Input Document\", df['text'][100], sep=\"\\n\")\n",
    "\n",
    "similar_docs = doc2vec_model.docvecs.most_similar(100)\n",
    "\n",
    "print(\"Most similar Documents\")\n",
    "for idx, similarity in similar_docs[:3]:\n",
    "    print(\"idx:\", idx, \"similarity:\", np.round(similarity, 3))\n",
    "    print(df['text'][idx])"
   ]
  },
  {
   "cell_type": "code",
   "execution_count": 97,
   "metadata": {},
   "outputs": [],
   "source": [
    "df['tokenized_doc'] = df['noun'].apply(lambda x: doc2vec_model.infer_vector(x).astype(float))"
   ]
  },
  {
   "cell_type": "code",
   "execution_count": 98,
   "metadata": {},
   "outputs": [
    {
     "data": {
      "text/html": [
       "<div>\n",
       "<style scoped>\n",
       "    .dataframe tbody tr th:only-of-type {\n",
       "        vertical-align: middle;\n",
       "    }\n",
       "\n",
       "    .dataframe tbody tr th {\n",
       "        vertical-align: top;\n",
       "    }\n",
       "\n",
       "    .dataframe thead th {\n",
       "        text-align: right;\n",
       "    }\n",
       "</style>\n",
       "<table border=\"1\" class=\"dataframe\">\n",
       "  <thead>\n",
       "    <tr style=\"text-align: right;\">\n",
       "      <th></th>\n",
       "      <th>text</th>\n",
       "      <th>tokenized</th>\n",
       "      <th>noun</th>\n",
       "      <th>keywords</th>\n",
       "      <th>tokenized_doc</th>\n",
       "    </tr>\n",
       "  </thead>\n",
       "  <tbody>\n",
       "    <tr>\n",
       "      <th>0</th>\n",
       "      <td>6살 남아 입니다 회사 복직 후 3살부터 주중에는 외할머니댁에서 2살 4살 터울의 ...</td>\n",
       "      <td>[6, 살, 남, 아, 입, 니, 다, 회사, 복직, 후, 3, 살, 부터, 주, ...</td>\n",
       "      <td>[살, 회사, 복직, 후, 살, 주, 중, 외할머니, 댁, 살, 살, 터울, 사촌,...</td>\n",
       "      <td>[남, 입, 회사, 복직, 후, 주, 외할머니, 댁, 터울, 사촌, 형, 누나, 금...</td>\n",
       "      <td>[0.18320201337337494, -0.14881069958209991, -0...</td>\n",
       "    </tr>\n",
       "    <tr>\n",
       "      <th>1</th>\n",
       "      <td>요즘 들어 아빠가 아이에게 다가가려고 하면 엄마한테 갈 거야 하면서 엄마를 유독 찾...</td>\n",
       "      <td>[요즘, 들, 어, 아빠, 가, 아이, 에게, 다가가, 려고, 하, 면, 엄마, 한...</td>\n",
       "      <td>[아빠, 아이, 엄마, 거, 엄마, 전, 정도, 엄마, 아빠, 거부, 엄마, 눈, ...</td>\n",
       "      <td>[들, 아빠, 아이, 다가가, 하, 엄마, 하, 엄마, 찾, 전, 정도, 엄마, 매...</td>\n",
       "      <td>[0.05332105606794357, 0.05352022126317024, -0....</td>\n",
       "    </tr>\n",
       "    <tr>\n",
       "      <th>2</th>\n",
       "      <td>둘째가 태어나면 첫째가 힘들 거라는 건 예상하고 있었지만 툭하면 삐치고 울고 좀처럼...</td>\n",
       "      <td>[둘째, 가, 태어나, 면, 첫째, 가, 힘들, 거, 라는, 건, 예상, 하, 고,...</td>\n",
       "      <td>[둘째, 첫째, 거, 건, 예상, 때, 엄마, 껌, 딱지, 첫째, 외출, 때, 제외...</td>\n",
       "      <td>[태어나, 예상, 삐치, 울, 서럽, 웁, 때, 엄마, 껌, 딱지, 외출, 때, 제...</td>\n",
       "      <td>[0.1522061675786972, 0.09916505217552185, -0.0...</td>\n",
       "    </tr>\n",
       "    <tr>\n",
       "      <th>3</th>\n",
       "      <td>20개월 남아가 있고 임신 8개월차로 두 아기의 엄마입니다 첫 아이는 잠자리 독립을...</td>\n",
       "      <td>[20, 개월, 남아, 가, 있, 고, 임신, 8, 개월, 차, 로, 두, 아기, ...</td>\n",
       "      <td>[개월, 남아, 임신, 개월, 차, 아기, 엄마, 아이, 잠자리, 독립, 생후, 일...</td>\n",
       "      <td>[남아, 있, 임신, 차, 아기, 엄마, 아이, 잠자리, 독립, 생후, 전, 재우,...</td>\n",
       "      <td>[0.11638510227203369, 0.10280551016330719, 0.0...</td>\n",
       "    </tr>\n",
       "    <tr>\n",
       "      <th>4</th>\n",
       "      <td>14개월 남자 아기인데 심하게 깨무는 버릇이 있어요 전에는 졸릴 때 주로 물곤 했는...</td>\n",
       "      <td>[14, 개월, 남자, 아기, 인데, 심하, 게, 깨무, 는, 버릇, 이, 있, 어...</td>\n",
       "      <td>[개월, 남자, 아기, 버릇, 전, 때, 이제, 자기, 지대, 때, 떼, 상대방, ...</td>\n",
       "      <td>[남자, 아기, 심하, 깨무, 버릇, 있, 전, 때, 물, 이제, 지대, 때, 떼,...</td>\n",
       "      <td>[0.027467967942357063, -0.18142782151699066, 0...</td>\n",
       "    </tr>\n",
       "    <tr>\n",
       "      <th>...</th>\n",
       "      <td>...</td>\n",
       "      <td>...</td>\n",
       "      <td>...</td>\n",
       "      <td>...</td>\n",
       "      <td>...</td>\n",
       "    </tr>\n",
       "    <tr>\n",
       "      <th>25344</th>\n",
       "      <td>가임기 연력 여성의 흡연률 증가와 그 폐해 현대 여성은 다양한 사회활동에 참여하고 ...</td>\n",
       "      <td>[가, 임기, 연력, 여성, 의, 흡연, 률, 증가, 와, 그, 폐해, 현대, 여성...</td>\n",
       "      <td>[임기, 연력, 여성, 흡연, 증가, 폐해, 현대, 여성, 사회, 활동, 참여, 경...</td>\n",
       "      <td>[임기, 연력, 여성, 흡연, 증가, 폐해, 현대, 여성, 사회, 활동, 참여, 경...</td>\n",
       "      <td>[-0.4393390715122223, -0.8597395420074463, -0....</td>\n",
       "    </tr>\n",
       "    <tr>\n",
       "      <th>25345</th>\n",
       "      <td>아토피에 유전적인 요인이 작용한다는 사실 알고 계시나요 유전적인 요인 뿐 아니라 아...</td>\n",
       "      <td>[아토피, 에, 유전, 적, 인, 요인, 이, 작용, 한다는, 사실, 알, 고, 계...</td>\n",
       "      <td>[아토피, 유전, 요인, 작용, 사실, 유전, 요인, 뿐, 아토피, 유발, 수, 하...</td>\n",
       "      <td>[아토피, 유전, 요인, 작용, 사실, 알, 유전, 요인, 아토피, 유발, 있, 중...</td>\n",
       "      <td>[0.20945513248443604, -0.03948991745710373, 0....</td>\n",
       "    </tr>\n",
       "    <tr>\n",
       "      <th>25346</th>\n",
       "      <td>1st 시기에 따라 필요한 영양소를 충분히 뱃속의 아이는 엄마가 먹는 것을 함께 먹...</td>\n",
       "      <td>[1, st, 시기, 에, 따라, 필요, 한, 영양소, 를, 충분히, 뱃속, 의, ...</td>\n",
       "      <td>[시기, 필요, 영양소, 뱃속, 아이, 엄마, 것, 균형, 영양, 음식, 섭취, 태...</td>\n",
       "      <td>[시기, 필요, 영양소, 뱃속, 아이, 엄마, 먹, 먹, 균형, 잡히, 영양, 있,...</td>\n",
       "      <td>[-0.01232465635985136, -0.4101027548313141, -0...</td>\n",
       "    </tr>\n",
       "    <tr>\n",
       "      <th>25347</th>\n",
       "      <td>분만 여성만이 누릴 수 있는 특권 대부분의 여성들은 임신과 분만이라는 과정을 경험하...</td>\n",
       "      <td>[분만, 여성, 만, 이, 누릴, 수, 있, 는, 특권, 대부분, 의, 여성, 들,...</td>\n",
       "      <td>[분만, 여성, 수, 특권, 대부분, 여성, 임신, 분만, 과정, 경험, 삶, 의미...</td>\n",
       "      <td>[분만, 여성, 있, 특권, 대부분, 여성, 임신, 분만, 과정, 경험, 삶, 의미...</td>\n",
       "      <td>[-0.20566150546073914, -0.2236362248659134, -0...</td>\n",
       "    </tr>\n",
       "    <tr>\n",
       "      <th>25348</th>\n",
       "      <td>최근 전자파가 건강상의 문제를 일으킬 수 있다는 견해가 많아지면서 임신부들 또한 가...</td>\n",
       "      <td>[최근, 전자파, 가, 건강, 상, 의, 문제, 를, 일으킬, 수, 있, 다는, 견...</td>\n",
       "      <td>[최근, 전자파, 건강, 문제, 수, 견해, 임신부, 가능, 전자파, 노출, 전자레...</td>\n",
       "      <td>[최근, 전자파, 건강, 문제, 있, 견해, 많, 임신부, 가능, 전자파, 노출, ...</td>\n",
       "      <td>[0.04131944105029106, -0.0234382264316082, -0....</td>\n",
       "    </tr>\n",
       "  </tbody>\n",
       "</table>\n",
       "<p>25349 rows × 5 columns</p>\n",
       "</div>"
      ],
      "text/plain": [
       "                                                    text  \\\n",
       "0      6살 남아 입니다 회사 복직 후 3살부터 주중에는 외할머니댁에서 2살 4살 터울의 ...   \n",
       "1      요즘 들어 아빠가 아이에게 다가가려고 하면 엄마한테 갈 거야 하면서 엄마를 유독 찾...   \n",
       "2      둘째가 태어나면 첫째가 힘들 거라는 건 예상하고 있었지만 툭하면 삐치고 울고 좀처럼...   \n",
       "3      20개월 남아가 있고 임신 8개월차로 두 아기의 엄마입니다 첫 아이는 잠자리 독립을...   \n",
       "4      14개월 남자 아기인데 심하게 깨무는 버릇이 있어요 전에는 졸릴 때 주로 물곤 했는...   \n",
       "...                                                  ...   \n",
       "25344  가임기 연력 여성의 흡연률 증가와 그 폐해 현대 여성은 다양한 사회활동에 참여하고 ...   \n",
       "25345  아토피에 유전적인 요인이 작용한다는 사실 알고 계시나요 유전적인 요인 뿐 아니라 아...   \n",
       "25346  1st 시기에 따라 필요한 영양소를 충분히 뱃속의 아이는 엄마가 먹는 것을 함께 먹...   \n",
       "25347  분만 여성만이 누릴 수 있는 특권 대부분의 여성들은 임신과 분만이라는 과정을 경험하...   \n",
       "25348  최근 전자파가 건강상의 문제를 일으킬 수 있다는 견해가 많아지면서 임신부들 또한 가...   \n",
       "\n",
       "                                               tokenized  \\\n",
       "0      [6, 살, 남, 아, 입, 니, 다, 회사, 복직, 후, 3, 살, 부터, 주, ...   \n",
       "1      [요즘, 들, 어, 아빠, 가, 아이, 에게, 다가가, 려고, 하, 면, 엄마, 한...   \n",
       "2      [둘째, 가, 태어나, 면, 첫째, 가, 힘들, 거, 라는, 건, 예상, 하, 고,...   \n",
       "3      [20, 개월, 남아, 가, 있, 고, 임신, 8, 개월, 차, 로, 두, 아기, ...   \n",
       "4      [14, 개월, 남자, 아기, 인데, 심하, 게, 깨무, 는, 버릇, 이, 있, 어...   \n",
       "...                                                  ...   \n",
       "25344  [가, 임기, 연력, 여성, 의, 흡연, 률, 증가, 와, 그, 폐해, 현대, 여성...   \n",
       "25345  [아토피, 에, 유전, 적, 인, 요인, 이, 작용, 한다는, 사실, 알, 고, 계...   \n",
       "25346  [1, st, 시기, 에, 따라, 필요, 한, 영양소, 를, 충분히, 뱃속, 의, ...   \n",
       "25347  [분만, 여성, 만, 이, 누릴, 수, 있, 는, 특권, 대부분, 의, 여성, 들,...   \n",
       "25348  [최근, 전자파, 가, 건강, 상, 의, 문제, 를, 일으킬, 수, 있, 다는, 견...   \n",
       "\n",
       "                                                    noun  \\\n",
       "0      [살, 회사, 복직, 후, 살, 주, 중, 외할머니, 댁, 살, 살, 터울, 사촌,...   \n",
       "1      [아빠, 아이, 엄마, 거, 엄마, 전, 정도, 엄마, 아빠, 거부, 엄마, 눈, ...   \n",
       "2      [둘째, 첫째, 거, 건, 예상, 때, 엄마, 껌, 딱지, 첫째, 외출, 때, 제외...   \n",
       "3      [개월, 남아, 임신, 개월, 차, 아기, 엄마, 아이, 잠자리, 독립, 생후, 일...   \n",
       "4      [개월, 남자, 아기, 버릇, 전, 때, 이제, 자기, 지대, 때, 떼, 상대방, ...   \n",
       "...                                                  ...   \n",
       "25344  [임기, 연력, 여성, 흡연, 증가, 폐해, 현대, 여성, 사회, 활동, 참여, 경...   \n",
       "25345  [아토피, 유전, 요인, 작용, 사실, 유전, 요인, 뿐, 아토피, 유발, 수, 하...   \n",
       "25346  [시기, 필요, 영양소, 뱃속, 아이, 엄마, 것, 균형, 영양, 음식, 섭취, 태...   \n",
       "25347  [분만, 여성, 수, 특권, 대부분, 여성, 임신, 분만, 과정, 경험, 삶, 의미...   \n",
       "25348  [최근, 전자파, 건강, 문제, 수, 견해, 임신부, 가능, 전자파, 노출, 전자레...   \n",
       "\n",
       "                                                keywords  \\\n",
       "0      [남, 입, 회사, 복직, 후, 주, 외할머니, 댁, 터울, 사촌, 형, 누나, 금...   \n",
       "1      [들, 아빠, 아이, 다가가, 하, 엄마, 하, 엄마, 찾, 전, 정도, 엄마, 매...   \n",
       "2      [태어나, 예상, 삐치, 울, 서럽, 웁, 때, 엄마, 껌, 딱지, 외출, 때, 제...   \n",
       "3      [남아, 있, 임신, 차, 아기, 엄마, 아이, 잠자리, 독립, 생후, 전, 재우,...   \n",
       "4      [남자, 아기, 심하, 깨무, 버릇, 있, 전, 때, 물, 이제, 지대, 때, 떼,...   \n",
       "...                                                  ...   \n",
       "25344  [임기, 연력, 여성, 흡연, 증가, 폐해, 현대, 여성, 사회, 활동, 참여, 경...   \n",
       "25345  [아토피, 유전, 요인, 작용, 사실, 알, 유전, 요인, 아토피, 유발, 있, 중...   \n",
       "25346  [시기, 필요, 영양소, 뱃속, 아이, 엄마, 먹, 먹, 균형, 잡히, 영양, 있,...   \n",
       "25347  [분만, 여성, 있, 특권, 대부분, 여성, 임신, 분만, 과정, 경험, 삶, 의미...   \n",
       "25348  [최근, 전자파, 건강, 문제, 있, 견해, 많, 임신부, 가능, 전자파, 노출, ...   \n",
       "\n",
       "                                           tokenized_doc  \n",
       "0      [0.18320201337337494, -0.14881069958209991, -0...  \n",
       "1      [0.05332105606794357, 0.05352022126317024, -0....  \n",
       "2      [0.1522061675786972, 0.09916505217552185, -0.0...  \n",
       "3      [0.11638510227203369, 0.10280551016330719, 0.0...  \n",
       "4      [0.027467967942357063, -0.18142782151699066, 0...  \n",
       "...                                                  ...  \n",
       "25344  [-0.4393390715122223, -0.8597395420074463, -0....  \n",
       "25345  [0.20945513248443604, -0.03948991745710373, 0....  \n",
       "25346  [-0.01232465635985136, -0.4101027548313141, -0...  \n",
       "25347  [-0.20566150546073914, -0.2236362248659134, -0...  \n",
       "25348  [0.04131944105029106, -0.0234382264316082, -0....  \n",
       "\n",
       "[25349 rows x 5 columns]"
      ]
     },
     "execution_count": 98,
     "metadata": {},
     "output_type": "execute_result"
    }
   ],
   "source": [
    "df"
   ]
  },
  {
   "cell_type": "code",
   "execution_count": null,
   "metadata": {},
   "outputs": [],
   "source": []
  },
  {
   "cell_type": "code",
   "execution_count": null,
   "metadata": {},
   "outputs": [],
   "source": []
  }
 ],
 "metadata": {
  "kernelspec": {
   "display_name": "Python 3",
   "language": "python",
   "name": "python3"
  },
  "language_info": {
   "codemirror_mode": {
    "name": "ipython",
    "version": 3
   },
   "file_extension": ".py",
   "mimetype": "text/x-python",
   "name": "python",
   "nbconvert_exporter": "python",
   "pygments_lexer": "ipython3",
   "version": "3.7.5"
  }
 },
 "nbformat": 4,
 "nbformat_minor": 2
}
