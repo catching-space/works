{
 "cells": [
  {
   "cell_type": "markdown",
   "metadata": {},
   "source": [
    "# word2vec 단어 간 유사도 체크\n",
    "- 최대한 육아를 주제로 한 말뭉치를 모아보았다. (Total 2,755 documents)\n",
    "- 우리가 원하는 의도에 일치하는 단어 간 유사도 결과가 나오는지를 확인하는 것이 목적이다."
   ]
  },
  {
   "cell_type": "markdown",
   "metadata": {},
   "source": [
    "## Import"
   ]
  },
  {
   "cell_type": "code",
   "execution_count": 1,
   "metadata": {},
   "outputs": [],
   "source": [
    "import pandas as pd\n",
    "import numpy as np\n",
    "import re\n",
    "\n",
    "from konlpy.tag import Mecab\n",
    "from konlpy.tag import Komoran\n",
    "from gensim.models import Word2Vec"
   ]
  },
  {
   "cell_type": "markdown",
   "metadata": {},
   "source": [
    "### Datas"
   ]
  },
  {
   "cell_type": "code",
   "execution_count": 2,
   "metadata": {},
   "outputs": [],
   "source": [
    "df1 = pd.read_csv(\"data/maeili.csv\", encoding='utf-8')\n",
    "df2 = pd.read_csv(\"data/baby.csv\", encoding='utf-8')\n",
    "df3 = pd.read_csv(\"data/toys.csv\", encoding='utf-8')\n",
    "df4 = pd.read_csv(\"data/seoulchildcare.csv\", encoding='utf-8')\n",
    "df5 = pd.read_csv(\"data/babynews_DLC.csv\", encoding='utf-8')\n",
    "df6 = pd.read_csv(\"data/ildongfoodis.csv\", encoding='utf-8')\n",
    "df7 = pd.read_csv(\"data/momsmagazine.csv\", encoding='utf-8')\n",
    "df8 = pd.read_csv(\"data/ange.csv\", encoding='utf-8')\n",
    "df9 = pd.read_csv(\"data/babytimes.csv\", encoding='utf-8')\n",
    "df10 = pd.read_csv(\"data/daekyo.csv\", encoding='utf-8')"
   ]
  },
  {
   "cell_type": "markdown",
   "metadata": {},
   "source": [
    "#### maeili(매일아이)"
   ]
  },
  {
   "cell_type": "code",
   "execution_count": 3,
   "metadata": {},
   "outputs": [
    {
     "data": {
      "text/html": [
       "<div>\n",
       "<style scoped>\n",
       "    .dataframe tbody tr th:only-of-type {\n",
       "        vertical-align: middle;\n",
       "    }\n",
       "\n",
       "    .dataframe tbody tr th {\n",
       "        vertical-align: top;\n",
       "    }\n",
       "\n",
       "    .dataframe thead th {\n",
       "        text-align: right;\n",
       "    }\n",
       "</style>\n",
       "<table border=\"1\" class=\"dataframe\">\n",
       "  <thead>\n",
       "    <tr style=\"text-align: right;\">\n",
       "      <th></th>\n",
       "      <th>categories</th>\n",
       "      <th>title</th>\n",
       "      <th>text</th>\n",
       "      <th>postlink</th>\n",
       "    </tr>\n",
       "  </thead>\n",
       "  <tbody>\n",
       "    <tr>\n",
       "      <th>1533</th>\n",
       "      <td>임신</td>\n",
       "      <td>'웃음요법' 태교</td>\n",
       "      <td>임신 중에는 스트레스를 받지 않고 몸을 편안하게 하는 것만큼 좋은 태교가 없습니다 ...</td>\n",
       "      <td>https://www.maeili.com/cms/contents/contentsVi...</td>\n",
       "    </tr>\n",
       "    <tr>\n",
       "      <th>1534</th>\n",
       "      <td>임신</td>\n",
       "      <td>기형 검사와 보조 검사</td>\n",
       "      <td>모든 임신부는 나이에 상관없이 7백 명에 한 명꼴로 정신박약을 초래하는 다운 증후군...</td>\n",
       "      <td>https://www.maeili.com/cms/contents/contentsVi...</td>\n",
       "    </tr>\n",
       "    <tr>\n",
       "      <th>1535</th>\n",
       "      <td>임신</td>\n",
       "      <td>임신 시기별 검사 종류와 횟수</td>\n",
       "      <td>첫방문시 혈액검사 소변검사 혈액형 검사 풍진항체 검사 8 18주 초음파검사 필요한...</td>\n",
       "      <td>https://www.maeili.com/cms/contents/contentsVi...</td>\n",
       "    </tr>\n",
       "    <tr>\n",
       "      <th>1536</th>\n",
       "      <td>임신</td>\n",
       "      <td>초음파 검사의 임상적 유용성</td>\n",
       "      <td>초기의 정상적인 자궁내 임신의 확인 임신낭과 태아의 성장 여부와 크기 측정 임신주...</td>\n",
       "      <td>https://www.maeili.com/cms/contents/contentsVi...</td>\n",
       "    </tr>\n",
       "    <tr>\n",
       "      <th>1537</th>\n",
       "      <td>임신</td>\n",
       "      <td>산전 유전 상담이란</td>\n",
       "      <td>유전 질환 염색체 이상도 말초 혈액의 염색체 검사로서 진단이 가능하나 산과 영역에서...</td>\n",
       "      <td>https://www.maeili.com/cms/contents/contentsVi...</td>\n",
       "    </tr>\n",
       "  </tbody>\n",
       "</table>\n",
       "</div>"
      ],
      "text/plain": [
       "     categories             title  \\\n",
       "1533         임신         '웃음요법' 태교   \n",
       "1534         임신      기형 검사와 보조 검사   \n",
       "1535         임신  임신 시기별 검사 종류와 횟수   \n",
       "1536         임신   초음파 검사의 임상적 유용성   \n",
       "1537         임신        산전 유전 상담이란   \n",
       "\n",
       "                                                   text  \\\n",
       "1533  임신 중에는 스트레스를 받지 않고 몸을 편안하게 하는 것만큼 좋은 태교가 없습니다 ...   \n",
       "1534  모든 임신부는 나이에 상관없이 7백 명에 한 명꼴로 정신박약을 초래하는 다운 증후군...   \n",
       "1535   첫방문시 혈액검사 소변검사 혈액형 검사 풍진항체 검사 8 18주 초음파검사 필요한...   \n",
       "1536   초기의 정상적인 자궁내 임신의 확인 임신낭과 태아의 성장 여부와 크기 측정 임신주...   \n",
       "1537  유전 질환 염색체 이상도 말초 혈액의 염색체 검사로서 진단이 가능하나 산과 영역에서...   \n",
       "\n",
       "                                               postlink  \n",
       "1533  https://www.maeili.com/cms/contents/contentsVi...  \n",
       "1534  https://www.maeili.com/cms/contents/contentsVi...  \n",
       "1535  https://www.maeili.com/cms/contents/contentsVi...  \n",
       "1536  https://www.maeili.com/cms/contents/contentsVi...  \n",
       "1537  https://www.maeili.com/cms/contents/contentsVi...  "
      ]
     },
     "execution_count": 3,
     "metadata": {},
     "output_type": "execute_result"
    }
   ],
   "source": [
    "df1.tail()"
   ]
  },
  {
   "cell_type": "markdown",
   "metadata": {},
   "source": [
    "#### momtalk(육아정보)"
   ]
  },
  {
   "cell_type": "code",
   "execution_count": 4,
   "metadata": {},
   "outputs": [
    {
     "data": {
      "text/html": [
       "<div>\n",
       "<style scoped>\n",
       "    .dataframe tbody tr th:only-of-type {\n",
       "        vertical-align: middle;\n",
       "    }\n",
       "\n",
       "    .dataframe tbody tr th {\n",
       "        vertical-align: top;\n",
       "    }\n",
       "\n",
       "    .dataframe thead th {\n",
       "        text-align: right;\n",
       "    }\n",
       "</style>\n",
       "<table border=\"1\" class=\"dataframe\">\n",
       "  <thead>\n",
       "    <tr style=\"text-align: right;\">\n",
       "      <th></th>\n",
       "      <th>idx</th>\n",
       "      <th>text</th>\n",
       "    </tr>\n",
       "  </thead>\n",
       "  <tbody>\n",
       "    <tr>\n",
       "      <th>695</th>\n",
       "      <td>852</td>\n",
       "      <td>유아용품 유통기한 바로알기 기저귀 화장품 기저귀 화장품에도 유통기한이 있다구 두고...</td>\n",
       "    </tr>\n",
       "    <tr>\n",
       "      <th>696</th>\n",
       "      <td>928</td>\n",
       "      <td>우리 아이 쑥쑥 클 수 있게 전지현 크림으로 하는 베이비 마사지법 서 알려드려요 ...</td>\n",
       "    </tr>\n",
       "    <tr>\n",
       "      <th>697</th>\n",
       "      <td>971</td>\n",
       "      <td>이유식을 시작하는 맘들을 위해 이유식 준비물 요점 정리 이유식을 시작하는 맘들을 ...</td>\n",
       "    </tr>\n",
       "    <tr>\n",
       "      <th>698</th>\n",
       "      <td>843</td>\n",
       "      <td>휴일에 문 여는 약국이 궁금하다면 휴일지킴이약국 검색법 하필 쉬는 날 응급약이 필...</td>\n",
       "    </tr>\n",
       "    <tr>\n",
       "      <th>699</th>\n",
       "      <td>842</td>\n",
       "      <td>우리 아이가 아파요 응급실에 가야할까요 소아과 전문의 김연호 선생님과 함께하는 우...</td>\n",
       "    </tr>\n",
       "  </tbody>\n",
       "</table>\n",
       "</div>"
      ],
      "text/plain": [
       "     idx                                               text\n",
       "695  852   유아용품 유통기한 바로알기 기저귀 화장품 기저귀 화장품에도 유통기한이 있다구 두고...\n",
       "696  928   우리 아이 쑥쑥 클 수 있게 전지현 크림으로 하는 베이비 마사지법 서 알려드려요 ...\n",
       "697  971   이유식을 시작하는 맘들을 위해 이유식 준비물 요점 정리 이유식을 시작하는 맘들을 ...\n",
       "698  843   휴일에 문 여는 약국이 궁금하다면 휴일지킴이약국 검색법 하필 쉬는 날 응급약이 필...\n",
       "699  842   우리 아이가 아파요 응급실에 가야할까요 소아과 전문의 김연호 선생님과 함께하는 우..."
      ]
     },
     "execution_count": 4,
     "metadata": {},
     "output_type": "execute_result"
    }
   ],
   "source": [
    "df2.tail()"
   ]
  },
  {
   "cell_type": "markdown",
   "metadata": {},
   "source": [
    "#### momtalk(유아용품)"
   ]
  },
  {
   "cell_type": "code",
   "execution_count": 5,
   "metadata": {},
   "outputs": [
    {
     "data": {
      "text/html": [
       "<div>\n",
       "<style scoped>\n",
       "    .dataframe tbody tr th:only-of-type {\n",
       "        vertical-align: middle;\n",
       "    }\n",
       "\n",
       "    .dataframe tbody tr th {\n",
       "        vertical-align: top;\n",
       "    }\n",
       "\n",
       "    .dataframe thead th {\n",
       "        text-align: right;\n",
       "    }\n",
       "</style>\n",
       "<table border=\"1\" class=\"dataframe\">\n",
       "  <thead>\n",
       "    <tr style=\"text-align: right;\">\n",
       "      <th></th>\n",
       "      <th>idx</th>\n",
       "      <th>text</th>\n",
       "    </tr>\n",
       "  </thead>\n",
       "  <tbody>\n",
       "    <tr>\n",
       "      <th>482</th>\n",
       "      <td>622</td>\n",
       "      <td>우리아이 치발기 치아발육기 선택 꿀팁 잇몸이 근질근질우리아이 치아발육기 선택팁 아...</td>\n",
       "    </tr>\n",
       "    <tr>\n",
       "      <th>483</th>\n",
       "      <td>640</td>\n",
       "      <td>쏘서 점퍼루 보행기 우리아이 선택은 쏘서 점퍼루 보행기 우리아이 선택은 아이를 낳...</td>\n",
       "    </tr>\n",
       "    <tr>\n",
       "      <th>484</th>\n",
       "      <td>607</td>\n",
       "      <td>신생아부터 유아까지 아기목욕용품 및 아기 목욕시키기 신생아부터 유아까지아기 목욕용...</td>\n",
       "    </tr>\n",
       "    <tr>\n",
       "      <th>485</th>\n",
       "      <td>567</td>\n",
       "      <td>아기용품 어떤걸로 골라야 할까 아기용품 고르기 오늘은 아기용품고르기에 대해 함께 ...</td>\n",
       "    </tr>\n",
       "    <tr>\n",
       "      <th>486</th>\n",
       "      <td>604</td>\n",
       "      <td>장난감수납장 이거좋아요 이번주 베스트글 주인공은 소영님 입니다 요즘 장난감수납장에...</td>\n",
       "    </tr>\n",
       "  </tbody>\n",
       "</table>\n",
       "</div>"
      ],
      "text/plain": [
       "     idx                                               text\n",
       "482  622   우리아이 치발기 치아발육기 선택 꿀팁 잇몸이 근질근질우리아이 치아발육기 선택팁 아...\n",
       "483  640   쏘서 점퍼루 보행기 우리아이 선택은 쏘서 점퍼루 보행기 우리아이 선택은 아이를 낳...\n",
       "484  607   신생아부터 유아까지 아기목욕용품 및 아기 목욕시키기 신생아부터 유아까지아기 목욕용...\n",
       "485  567   아기용품 어떤걸로 골라야 할까 아기용품 고르기 오늘은 아기용품고르기에 대해 함께 ...\n",
       "486  604   장난감수납장 이거좋아요 이번주 베스트글 주인공은 소영님 입니다 요즘 장난감수납장에..."
      ]
     },
     "execution_count": 5,
     "metadata": {},
     "output_type": "execute_result"
    }
   ],
   "source": [
    "df3.tail()"
   ]
  },
  {
   "cell_type": "markdown",
   "metadata": {},
   "source": [
    "#### 서울육아종합지원센터 육아전문칼럼"
   ]
  },
  {
   "cell_type": "code",
   "execution_count": 6,
   "metadata": {},
   "outputs": [
    {
     "data": {
      "text/html": [
       "<div>\n",
       "<style scoped>\n",
       "    .dataframe tbody tr th:only-of-type {\n",
       "        vertical-align: middle;\n",
       "    }\n",
       "\n",
       "    .dataframe tbody tr th {\n",
       "        vertical-align: top;\n",
       "    }\n",
       "\n",
       "    .dataframe thead th {\n",
       "        text-align: right;\n",
       "    }\n",
       "</style>\n",
       "<table border=\"1\" class=\"dataframe\">\n",
       "  <thead>\n",
       "    <tr style=\"text-align: right;\">\n",
       "      <th></th>\n",
       "      <th>text</th>\n",
       "    </tr>\n",
       "  </thead>\n",
       "  <tbody>\n",
       "    <tr>\n",
       "      <th>35</th>\n",
       "      <td>좋은 아빠 지금 하지 않으면 늦다 결혼을 하고 아이를 키우면서 가장 힘든 점은 욕구...</td>\n",
       "    </tr>\n",
       "    <tr>\n",
       "      <th>36</th>\n",
       "      <td>놀이의 뇌과학적 가치 요즘 아이들은 밖에서 같이 놀 기회가 적어졌다 누군가와 놀아도...</td>\n",
       "    </tr>\n",
       "    <tr>\n",
       "      <th>37</th>\n",
       "      <td>영유아기 자녀와 안정 애착 형성하기 영유아기 때 부모와 맺은 관계 경험은 평생을 통...</td>\n",
       "    </tr>\n",
       "    <tr>\n",
       "      <th>38</th>\n",
       "      <td>아이를 숲으로 데려갈까요 4차 산업혁명시대를 맞이하여 더 많이 놀게 하고 더 많이 ...</td>\n",
       "    </tr>\n",
       "    <tr>\n",
       "      <th>39</th>\n",
       "      <td>NaN</td>\n",
       "    </tr>\n",
       "  </tbody>\n",
       "</table>\n",
       "</div>"
      ],
      "text/plain": [
       "                                                 text\n",
       "35  좋은 아빠 지금 하지 않으면 늦다 결혼을 하고 아이를 키우면서 가장 힘든 점은 욕구...\n",
       "36  놀이의 뇌과학적 가치 요즘 아이들은 밖에서 같이 놀 기회가 적어졌다 누군가와 놀아도...\n",
       "37  영유아기 자녀와 안정 애착 형성하기 영유아기 때 부모와 맺은 관계 경험은 평생을 통...\n",
       "38  아이를 숲으로 데려갈까요 4차 산업혁명시대를 맞이하여 더 많이 놀게 하고 더 많이 ...\n",
       "39                                                NaN"
      ]
     },
     "execution_count": 6,
     "metadata": {},
     "output_type": "execute_result"
    }
   ],
   "source": [
    "df4.tail()"
   ]
  },
  {
   "cell_type": "markdown",
   "metadata": {},
   "source": [
    "#### 육아신문 베이비뉴스"
   ]
  },
  {
   "cell_type": "code",
   "execution_count": 7,
   "metadata": {},
   "outputs": [
    {
     "data": {
      "text/html": [
       "<div>\n",
       "<style scoped>\n",
       "    .dataframe tbody tr th:only-of-type {\n",
       "        vertical-align: middle;\n",
       "    }\n",
       "\n",
       "    .dataframe tbody tr th {\n",
       "        vertical-align: top;\n",
       "    }\n",
       "\n",
       "    .dataframe thead th {\n",
       "        text-align: right;\n",
       "    }\n",
       "</style>\n",
       "<table border=\"1\" class=\"dataframe\">\n",
       "  <thead>\n",
       "    <tr style=\"text-align: right;\">\n",
       "      <th></th>\n",
       "      <th>titles</th>\n",
       "      <th>text</th>\n",
       "      <th>postlink</th>\n",
       "    </tr>\n",
       "  </thead>\n",
       "  <tbody>\n",
       "    <tr>\n",
       "      <th>9679</th>\n",
       "      <td>함께 놀고 싶고, 함께 일하고 싶은 아이로 키우기</td>\n",
       "      <td>Q 영·유아기에 친구들이 함께 놀고 싶어하는 아이라면 성인이 됐을 때 함께 일하고 ...</td>\n",
       "      <td>https://www.ibabynews.com/news/articleView.htm...</td>\n",
       "    </tr>\n",
       "    <tr>\n",
       "      <th>9680</th>\n",
       "      <td>아빠 육아, 왜 하필 사회성 발달에 좋다는 걸까?</td>\n",
       "      <td>Q 최근 대중매체에서 아빠육아를 자주 언급하고 실제 방송프로그램을 보면 엄마 없이 ...</td>\n",
       "      <td>https://www.ibabynews.com/news/articleView.htm...</td>\n",
       "    </tr>\n",
       "    <tr>\n",
       "      <th>9681</th>\n",
       "      <td>미국에서 육아휴직하기, 돌봄서비스 찾기</td>\n",
       "      <td>첫째를 가지고 아이를 전적으로 내 힘으로만 키워보겠다는 다짐과 의욕에 넘치던 기간이...</td>\n",
       "      <td>https://www.ibabynews.com/news/articleView.htm...</td>\n",
       "    </tr>\n",
       "    <tr>\n",
       "      <th>9682</th>\n",
       "      <td>\"잠 못 자는 아이들, 어른들이 미웠다\"</td>\n",
       "      <td>아 정말 강남귀신이라도 만났으면 좋겠다 그럼 좀 시원하지 않을까정말이지 너무 덥다 ...</td>\n",
       "      <td>https://www.ibabynews.com/news/articleView.htm...</td>\n",
       "    </tr>\n",
       "    <tr>\n",
       "      <th>9683</th>\n",
       "      <td>\"사람은 안 변한다?\" 인간을 변화 시키는 방법</td>\n",
       "      <td>어후 저 인간 저거 언제 사람 되려나 제가 어린 시절 집에서 많이 듣던 말이었습니다...</td>\n",
       "      <td>https://www.ibabynews.com/news/articleView.htm...</td>\n",
       "    </tr>\n",
       "  </tbody>\n",
       "</table>\n",
       "</div>"
      ],
      "text/plain": [
       "                           titles  \\\n",
       "9679  함께 놀고 싶고, 함께 일하고 싶은 아이로 키우기   \n",
       "9680  아빠 육아, 왜 하필 사회성 발달에 좋다는 걸까?   \n",
       "9681        미국에서 육아휴직하기, 돌봄서비스 찾기   \n",
       "9682       \"잠 못 자는 아이들, 어른들이 미웠다\"   \n",
       "9683   \"사람은 안 변한다?\" 인간을 변화 시키는 방법   \n",
       "\n",
       "                                                   text  \\\n",
       "9679  Q 영·유아기에 친구들이 함께 놀고 싶어하는 아이라면 성인이 됐을 때 함께 일하고 ...   \n",
       "9680  Q 최근 대중매체에서 아빠육아를 자주 언급하고 실제 방송프로그램을 보면 엄마 없이 ...   \n",
       "9681  첫째를 가지고 아이를 전적으로 내 힘으로만 키워보겠다는 다짐과 의욕에 넘치던 기간이...   \n",
       "9682  아 정말 강남귀신이라도 만났으면 좋겠다 그럼 좀 시원하지 않을까정말이지 너무 덥다 ...   \n",
       "9683  어후 저 인간 저거 언제 사람 되려나 제가 어린 시절 집에서 많이 듣던 말이었습니다...   \n",
       "\n",
       "                                               postlink  \n",
       "9679  https://www.ibabynews.com/news/articleView.htm...  \n",
       "9680  https://www.ibabynews.com/news/articleView.htm...  \n",
       "9681  https://www.ibabynews.com/news/articleView.htm...  \n",
       "9682  https://www.ibabynews.com/news/articleView.htm...  \n",
       "9683  https://www.ibabynews.com/news/articleView.htm...  "
      ]
     },
     "execution_count": 7,
     "metadata": {},
     "output_type": "execute_result"
    }
   ],
   "source": [
    "df5.tail()"
   ]
  },
  {
   "cell_type": "markdown",
   "metadata": {},
   "source": [
    "#### 일동후디스"
   ]
  },
  {
   "cell_type": "code",
   "execution_count": 8,
   "metadata": {},
   "outputs": [
    {
     "data": {
      "text/html": [
       "<div>\n",
       "<style scoped>\n",
       "    .dataframe tbody tr th:only-of-type {\n",
       "        vertical-align: middle;\n",
       "    }\n",
       "\n",
       "    .dataframe tbody tr th {\n",
       "        vertical-align: top;\n",
       "    }\n",
       "\n",
       "    .dataframe thead th {\n",
       "        text-align: right;\n",
       "    }\n",
       "</style>\n",
       "<table border=\"1\" class=\"dataframe\">\n",
       "  <thead>\n",
       "    <tr style=\"text-align: right;\">\n",
       "      <th></th>\n",
       "      <th>titles</th>\n",
       "      <th>text</th>\n",
       "      <th>postlinks</th>\n",
       "    </tr>\n",
       "  </thead>\n",
       "  <tbody>\n",
       "    <tr>\n",
       "      <th>1640</th>\n",
       "      <td>육아에 필요한 법률상담</td>\n",
       "      <td>고귀한 탯줄법률상담5살인 저희 아이는 심각한 고등어 알러지가 있습니다  그래서 집에...</td>\n",
       "      <td>http://foodis.com/web/www/baby_column_02;jsess...</td>\n",
       "    </tr>\n",
       "    <tr>\n",
       "      <th>1641</th>\n",
       "      <td>이럴 땐 이렇게 하세요</td>\n",
       "      <td>아기를 가진 엄마들의 궁금증현재 두 아기의 엄마이기도 한종로구 의 김현아 선생님께서...</td>\n",
       "      <td>http://foodis.com/web/www/baby_column_02;jsess...</td>\n",
       "    </tr>\n",
       "    <tr>\n",
       "      <th>1642</th>\n",
       "      <td>키 작은 아이, 남들만큼 클 수 없을까요?</td>\n",
       "      <td>키 작은 아이  남들만큼 클 수 없을까요  먹거리가 귀한 시절에 부모는 아이가 단지...</td>\n",
       "      <td>http://foodis.com/web/www/baby_column_02;jsess...</td>\n",
       "    </tr>\n",
       "    <tr>\n",
       "      <th>1643</th>\n",
       "      <td>스킨쉽을 통해 엄마의 사랑을 전해주세요.</td>\n",
       "      <td>마사지를 시작하기 전에    1 항상 시작신호를 보내고 아기의 의사를 존중해야한다 ...</td>\n",
       "      <td>http://foodis.com/web/www/baby_column_02;jsess...</td>\n",
       "    </tr>\n",
       "    <tr>\n",
       "      <th>1644</th>\n",
       "      <td>전문의에게 배우는 초보 엄마 아기 도우미</td>\n",
       "      <td>초보 엄마 도우미전문의에게 배우는 초보 엄마 아기 도우미우리 아기 응급 처치법  아...</td>\n",
       "      <td>http://foodis.com/web/www/baby_column_02;jsess...</td>\n",
       "    </tr>\n",
       "  </tbody>\n",
       "</table>\n",
       "</div>"
      ],
      "text/plain": [
       "                       titles  \\\n",
       "1640             육아에 필요한 법률상담   \n",
       "1641             이럴 땐 이렇게 하세요   \n",
       "1642  키 작은 아이, 남들만큼 클 수 없을까요?   \n",
       "1643   스킨쉽을 통해 엄마의 사랑을 전해주세요.   \n",
       "1644   전문의에게 배우는 초보 엄마 아기 도우미   \n",
       "\n",
       "                                                   text  \\\n",
       "1640  고귀한 탯줄법률상담5살인 저희 아이는 심각한 고등어 알러지가 있습니다  그래서 집에...   \n",
       "1641  아기를 가진 엄마들의 궁금증현재 두 아기의 엄마이기도 한종로구 의 김현아 선생님께서...   \n",
       "1642  키 작은 아이  남들만큼 클 수 없을까요  먹거리가 귀한 시절에 부모는 아이가 단지...   \n",
       "1643  마사지를 시작하기 전에    1 항상 시작신호를 보내고 아기의 의사를 존중해야한다 ...   \n",
       "1644  초보 엄마 도우미전문의에게 배우는 초보 엄마 아기 도우미우리 아기 응급 처치법  아...   \n",
       "\n",
       "                                              postlinks  \n",
       "1640  http://foodis.com/web/www/baby_column_02;jsess...  \n",
       "1641  http://foodis.com/web/www/baby_column_02;jsess...  \n",
       "1642  http://foodis.com/web/www/baby_column_02;jsess...  \n",
       "1643  http://foodis.com/web/www/baby_column_02;jsess...  \n",
       "1644  http://foodis.com/web/www/baby_column_02;jsess...  "
      ]
     },
     "execution_count": 8,
     "metadata": {},
     "output_type": "execute_result"
    }
   ],
   "source": [
    "df6.tail()"
   ]
  },
  {
   "cell_type": "markdown",
   "metadata": {},
   "source": [
    "#### 맘스매거진"
   ]
  },
  {
   "cell_type": "code",
   "execution_count": 9,
   "metadata": {},
   "outputs": [
    {
     "data": {
      "text/html": [
       "<div>\n",
       "<style scoped>\n",
       "    .dataframe tbody tr th:only-of-type {\n",
       "        vertical-align: middle;\n",
       "    }\n",
       "\n",
       "    .dataframe tbody tr th {\n",
       "        vertical-align: top;\n",
       "    }\n",
       "\n",
       "    .dataframe thead th {\n",
       "        text-align: right;\n",
       "    }\n",
       "</style>\n",
       "<table border=\"1\" class=\"dataframe\">\n",
       "  <thead>\n",
       "    <tr style=\"text-align: right;\">\n",
       "      <th></th>\n",
       "      <th>titles</th>\n",
       "      <th>text</th>\n",
       "      <th>postlink</th>\n",
       "    </tr>\n",
       "  </thead>\n",
       "  <tbody>\n",
       "    <tr>\n",
       "      <th>387</th>\n",
       "      <td>‘믿지 마세요.’  육아 속설들</td>\n",
       "      <td>육아에 대한 말과 정보들은 많지만 근거 없는 육아 속설에 의지해 아이를 돌보면 큰 ...</td>\n",
       "      <td>http://momsmagazine.co.kr/%eb%af%bf%ec%a7%80-%...</td>\n",
       "    </tr>\n",
       "    <tr>\n",
       "      <th>388</th>\n",
       "      <td>신생아가 있는 집 에어컨 사용법</td>\n",
       "      <td>신생아는 땀구멍이 열리지 않아 땀을 흘리지 않는다는 이유로 더위를 타지 않을 거라고...</td>\n",
       "      <td>http://momsmagazine.co.kr/%ec%8b%a0%ec%83%9d%e...</td>\n",
       "    </tr>\n",
       "    <tr>\n",
       "      <th>389</th>\n",
       "      <td>초등학교 입학 전 읽기 능력을 키우는 법</td>\n",
       "      <td>초등학교 입학을 앞둔 있는 엄마들은 내 아이가 한글을 읽고 쓰는 데 어려움이 없지 ...</td>\n",
       "      <td>http://momsmagazine.co.kr/%ec%b4%88%eb%93%b1%e...</td>\n",
       "    </tr>\n",
       "    <tr>\n",
       "      <th>390</th>\n",
       "      <td>아는 만큼 혜택 보는 2015 출산 지원 제도</td>\n",
       "      <td>2015년 정부는 임신과 출산을 위한 지원제도를 마련했다 임산부에게 경제적 심리적 ...</td>\n",
       "      <td>http://momsmagazine.co.kr/%ec%95%84%eb%8a%94-%...</td>\n",
       "    </tr>\n",
       "    <tr>\n",
       "      <th>391</th>\n",
       "      <td>우리 아기 여름 땀띠 똑똑하게 관리하기</td>\n",
       "      <td>덥고 습한 여름은 민감한 아기 피부에 트러블이 생기기 쉽다 영유아는 어른보다 땀샘의...</td>\n",
       "      <td>http://momsmagazine.co.kr/%ec%9a%b0%eb%a6%ac-%...</td>\n",
       "    </tr>\n",
       "  </tbody>\n",
       "</table>\n",
       "</div>"
      ],
      "text/plain": [
       "                        titles  \\\n",
       "387          ‘믿지 마세요.’  육아 속설들   \n",
       "388          신생아가 있는 집 에어컨 사용법   \n",
       "389     초등학교 입학 전 읽기 능력을 키우는 법   \n",
       "390  아는 만큼 혜택 보는 2015 출산 지원 제도   \n",
       "391      우리 아기 여름 땀띠 똑똑하게 관리하기   \n",
       "\n",
       "                                                  text  \\\n",
       "387  육아에 대한 말과 정보들은 많지만 근거 없는 육아 속설에 의지해 아이를 돌보면 큰 ...   \n",
       "388  신생아는 땀구멍이 열리지 않아 땀을 흘리지 않는다는 이유로 더위를 타지 않을 거라고...   \n",
       "389  초등학교 입학을 앞둔 있는 엄마들은 내 아이가 한글을 읽고 쓰는 데 어려움이 없지 ...   \n",
       "390  2015년 정부는 임신과 출산을 위한 지원제도를 마련했다 임산부에게 경제적 심리적 ...   \n",
       "391  덥고 습한 여름은 민감한 아기 피부에 트러블이 생기기 쉽다 영유아는 어른보다 땀샘의...   \n",
       "\n",
       "                                              postlink  \n",
       "387  http://momsmagazine.co.kr/%eb%af%bf%ec%a7%80-%...  \n",
       "388  http://momsmagazine.co.kr/%ec%8b%a0%ec%83%9d%e...  \n",
       "389  http://momsmagazine.co.kr/%ec%b4%88%eb%93%b1%e...  \n",
       "390  http://momsmagazine.co.kr/%ec%95%84%eb%8a%94-%...  \n",
       "391  http://momsmagazine.co.kr/%ec%9a%b0%eb%a6%ac-%...  "
      ]
     },
     "execution_count": 9,
     "metadata": {},
     "output_type": "execute_result"
    }
   ],
   "source": [
    "df7.tail()"
   ]
  },
  {
   "cell_type": "markdown",
   "metadata": {},
   "source": [
    "#### 앙쥬"
   ]
  },
  {
   "cell_type": "code",
   "execution_count": 10,
   "metadata": {},
   "outputs": [
    {
     "data": {
      "text/html": [
       "<div>\n",
       "<style scoped>\n",
       "    .dataframe tbody tr th:only-of-type {\n",
       "        vertical-align: middle;\n",
       "    }\n",
       "\n",
       "    .dataframe tbody tr th {\n",
       "        vertical-align: top;\n",
       "    }\n",
       "\n",
       "    .dataframe thead th {\n",
       "        text-align: right;\n",
       "    }\n",
       "</style>\n",
       "<table border=\"1\" class=\"dataframe\">\n",
       "  <thead>\n",
       "    <tr style=\"text-align: right;\">\n",
       "      <th></th>\n",
       "      <th>titles</th>\n",
       "      <th>text</th>\n",
       "      <th>postlink</th>\n",
       "    </tr>\n",
       "  </thead>\n",
       "  <tbody>\n",
       "    <tr>\n",
       "      <th>2853</th>\n",
       "      <td>장거리 차량 이동, 보채는 아이 상황별 대처법</td>\n",
       "      <td>아이는 현재 신체와 정신이 모두 발달 중에 있다 신체 발달은 근육의 발달을 정신 발...</td>\n",
       "      <td>https://www.ange.co.kr/usr/?menu=story602&amp;subm...</td>\n",
       "    </tr>\n",
       "    <tr>\n",
       "      <th>2854</th>\n",
       "      <td>어느 날, 아이가 밥상머리 전쟁을 선포했다</td>\n",
       "      <td>세 살 적 버릇이 여든까지 간다는 말이 있다 밥상머리 예절도 예외는 아니다 아이에게...</td>\n",
       "      <td>https://www.ange.co.kr/usr/?menu=story602&amp;subm...</td>\n",
       "    </tr>\n",
       "    <tr>\n",
       "      <th>2855</th>\n",
       "      <td>발달 늦는 아이, 기다릴 것인가? 말 것인가?</td>\n",
       "      <td>아이의 키가 자라고 몸무게가 늘어나면서 아이 몸을 구성하고 있는 장기들도 커지고 무...</td>\n",
       "      <td>https://www.ange.co.kr/usr/?menu=story602&amp;subm...</td>\n",
       "    </tr>\n",
       "    <tr>\n",
       "      <th>2856</th>\n",
       "      <td>전전긍긍! 내 아이가 내 눈치를 본다? 도대체 왜?</td>\n",
       "      <td>눈치는 직관적이고 비언어적인 방법으로 의사소통을 하고 문제를 해결하는 놀라운 능력이...</td>\n",
       "      <td>https://www.ange.co.kr/usr/?menu=story602&amp;subm...</td>\n",
       "    </tr>\n",
       "    <tr>\n",
       "      <th>2857</th>\n",
       "      <td>아이의 소리,말 자극에 대한 보고서</td>\n",
       "      <td>소리를 들으면 사람은 그 소리를 그대로 흉내 낼 수 있다 이것이 청력의 힘이다 말소...</td>\n",
       "      <td>https://www.ange.co.kr/usr/?menu=story602&amp;subm...</td>\n",
       "    </tr>\n",
       "  </tbody>\n",
       "</table>\n",
       "</div>"
      ],
      "text/plain": [
       "                            titles  \\\n",
       "2853     장거리 차량 이동, 보채는 아이 상황별 대처법   \n",
       "2854       어느 날, 아이가 밥상머리 전쟁을 선포했다   \n",
       "2855     발달 늦는 아이, 기다릴 것인가? 말 것인가?   \n",
       "2856  전전긍긍! 내 아이가 내 눈치를 본다? 도대체 왜?   \n",
       "2857           아이의 소리,말 자극에 대한 보고서   \n",
       "\n",
       "                                                   text  \\\n",
       "2853  아이는 현재 신체와 정신이 모두 발달 중에 있다 신체 발달은 근육의 발달을 정신 발...   \n",
       "2854  세 살 적 버릇이 여든까지 간다는 말이 있다 밥상머리 예절도 예외는 아니다 아이에게...   \n",
       "2855  아이의 키가 자라고 몸무게가 늘어나면서 아이 몸을 구성하고 있는 장기들도 커지고 무...   \n",
       "2856  눈치는 직관적이고 비언어적인 방법으로 의사소통을 하고 문제를 해결하는 놀라운 능력이...   \n",
       "2857  소리를 들으면 사람은 그 소리를 그대로 흉내 낼 수 있다 이것이 청력의 힘이다 말소...   \n",
       "\n",
       "                                               postlink  \n",
       "2853  https://www.ange.co.kr/usr/?menu=story602&subm...  \n",
       "2854  https://www.ange.co.kr/usr/?menu=story602&subm...  \n",
       "2855  https://www.ange.co.kr/usr/?menu=story602&subm...  \n",
       "2856  https://www.ange.co.kr/usr/?menu=story602&subm...  \n",
       "2857  https://www.ange.co.kr/usr/?menu=story602&subm...  "
      ]
     },
     "execution_count": 10,
     "metadata": {},
     "output_type": "execute_result"
    }
   ],
   "source": [
    "df8.tail()"
   ]
  },
  {
   "cell_type": "markdown",
   "metadata": {},
   "source": [
    "#### 베이비타임즈"
   ]
  },
  {
   "cell_type": "code",
   "execution_count": 11,
   "metadata": {},
   "outputs": [
    {
     "data": {
      "text/html": [
       "<div>\n",
       "<style scoped>\n",
       "    .dataframe tbody tr th:only-of-type {\n",
       "        vertical-align: middle;\n",
       "    }\n",
       "\n",
       "    .dataframe tbody tr th {\n",
       "        vertical-align: top;\n",
       "    }\n",
       "\n",
       "    .dataframe thead th {\n",
       "        text-align: right;\n",
       "    }\n",
       "</style>\n",
       "<table border=\"1\" class=\"dataframe\">\n",
       "  <thead>\n",
       "    <tr style=\"text-align: right;\">\n",
       "      <th></th>\n",
       "      <th>titles</th>\n",
       "      <th>text</th>\n",
       "      <th>postlink</th>\n",
       "    </tr>\n",
       "  </thead>\n",
       "  <tbody>\n",
       "    <tr>\n",
       "      <th>2441</th>\n",
       "      <td>아이돌봄서비스, 온라인으로 신청하세요</td>\n",
       "      <td>보건복지부는 보육료 및 교육비 신청을 받아오던 온라인신청 새롭게 확대 개편해 여가부...</td>\n",
       "      <td>http://www.babytimes.co.kr/news/articleView.ht...</td>\n",
       "    </tr>\n",
       "    <tr>\n",
       "      <th>2442</th>\n",
       "      <td>영유아 감염병 ‘성홍열’ 이상 급증</td>\n",
       "      <td>혓바닥이 빨갛고 오톨도톨해지며 딸기모양으로 보이는 영유아 감염병 성홍열이 원인이 파...</td>\n",
       "      <td>http://www.babytimes.co.kr/news/articleView.ht...</td>\n",
       "    </tr>\n",
       "    <tr>\n",
       "      <th>2443</th>\n",
       "      <td>키즈카페, '청결하지 못한 위생 상태' 불만</td>\n",
       "      <td>키즈카페를 이용하는 부모들은 카페의 청결하지 못한 위생 상태를 가장 큰 불만으로 꼽...</td>\n",
       "      <td>http://www.babytimes.co.kr/news/articleView.ht...</td>\n",
       "    </tr>\n",
       "    <tr>\n",
       "      <th>2444</th>\n",
       "      <td>어린이 정기예방접종, 2014년부터 전면 무료</td>\n",
       "      <td>보건복지부와 질병관리본부는 내년 1월부터 만 12세 이하 어린이의 정기예방접종이 전...</td>\n",
       "      <td>http://www.babytimes.co.kr/news/articleView.ht...</td>\n",
       "    </tr>\n",
       "    <tr>\n",
       "      <th>2445</th>\n",
       "      <td>세종청사 어린이집 CCTV 보도… 누리꾼 분노</td>\n",
       "      <td>정부세종청사 내 어린이집 아동학대 사건의 전말을 보도한 언론 보도 이후 누리꾼들이 ...</td>\n",
       "      <td>http://www.babytimes.co.kr/news/articleView.ht...</td>\n",
       "    </tr>\n",
       "  </tbody>\n",
       "</table>\n",
       "</div>"
      ],
      "text/plain": [
       "                         titles  \\\n",
       "2441       아이돌봄서비스, 온라인으로 신청하세요   \n",
       "2442        영유아 감염병 ‘성홍열’ 이상 급증   \n",
       "2443   키즈카페, '청결하지 못한 위생 상태' 불만   \n",
       "2444  어린이 정기예방접종, 2014년부터 전면 무료   \n",
       "2445  세종청사 어린이집 CCTV 보도… 누리꾼 분노   \n",
       "\n",
       "                                                   text  \\\n",
       "2441  보건복지부는 보육료 및 교육비 신청을 받아오던 온라인신청 새롭게 확대 개편해 여가부...   \n",
       "2442  혓바닥이 빨갛고 오톨도톨해지며 딸기모양으로 보이는 영유아 감염병 성홍열이 원인이 파...   \n",
       "2443  키즈카페를 이용하는 부모들은 카페의 청결하지 못한 위생 상태를 가장 큰 불만으로 꼽...   \n",
       "2444  보건복지부와 질병관리본부는 내년 1월부터 만 12세 이하 어린이의 정기예방접종이 전...   \n",
       "2445  정부세종청사 내 어린이집 아동학대 사건의 전말을 보도한 언론 보도 이후 누리꾼들이 ...   \n",
       "\n",
       "                                               postlink  \n",
       "2441  http://www.babytimes.co.kr/news/articleView.ht...  \n",
       "2442  http://www.babytimes.co.kr/news/articleView.ht...  \n",
       "2443  http://www.babytimes.co.kr/news/articleView.ht...  \n",
       "2444  http://www.babytimes.co.kr/news/articleView.ht...  \n",
       "2445  http://www.babytimes.co.kr/news/articleView.ht...  "
      ]
     },
     "execution_count": 11,
     "metadata": {},
     "output_type": "execute_result"
    }
   ],
   "source": [
    "df9.tail()"
   ]
  },
  {
   "cell_type": "markdown",
   "metadata": {},
   "source": [
    "#### 대교"
   ]
  },
  {
   "cell_type": "code",
   "execution_count": 12,
   "metadata": {},
   "outputs": [
    {
     "data": {
      "text/html": [
       "<div>\n",
       "<style scoped>\n",
       "    .dataframe tbody tr th:only-of-type {\n",
       "        vertical-align: middle;\n",
       "    }\n",
       "\n",
       "    .dataframe tbody tr th {\n",
       "        vertical-align: top;\n",
       "    }\n",
       "\n",
       "    .dataframe thead th {\n",
       "        text-align: right;\n",
       "    }\n",
       "</style>\n",
       "<table border=\"1\" class=\"dataframe\">\n",
       "  <thead>\n",
       "    <tr style=\"text-align: right;\">\n",
       "      <th></th>\n",
       "      <th>titles</th>\n",
       "      <th>text</th>\n",
       "      <th>postlink</th>\n",
       "    </tr>\n",
       "  </thead>\n",
       "  <tbody>\n",
       "    <tr>\n",
       "      <th>794</th>\n",
       "      <td>[교육을 말한다] 우리 아이에게 맞는 학습법, 띠 별 아이 학습법③</td>\n",
       "      <td>토끼띠의 단점</td>\n",
       "      <td>https://blog.daekyo.com/582?category=584155</td>\n",
       "    </tr>\n",
       "    <tr>\n",
       "      <th>795</th>\n",
       "      <td>[교육을 말한다] 국가영어능력평가 제대로 알고 준비해봐요!!</td>\n",
       "      <td>국가영어능력평가 준비 올해부터 본격적으로 시행되는 국가영어능력평가에 대해서 소개해드...</td>\n",
       "      <td>https://blog.daekyo.com/568?category=584155</td>\n",
       "    </tr>\n",
       "    <tr>\n",
       "      <th>796</th>\n",
       "      <td>[교육을 말한다] 워킹맘 스토리, 일을 해야 하나요? 말아야 하나요?</td>\n",
       "      <td>워킹맘이든 전업맘이든 아이들에게 관심과 사랑을 쏟아야 하는 것은 분명합니다 평소 아...</td>\n",
       "      <td>https://blog.daekyo.com/564?category=584155</td>\n",
       "    </tr>\n",
       "    <tr>\n",
       "      <th>797</th>\n",
       "      <td>[진로상담센터] 아이들의 고민을 함께 나눠요</td>\n",
       "      <td>검사결과 지민이의 강점지능은 언어지능과 음악지능였습니다 엄마는 지민이가 집에서나 학...</td>\n",
       "      <td>https://blog.daekyo.com/539?category=584155</td>\n",
       "    </tr>\n",
       "    <tr>\n",
       "      <th>798</th>\n",
       "      <td>[진로상담센터] 초등학생 진로 상담 교육 컨설팅</td>\n",
       "      <td>진로상담센터 교육 컨설팅 아이들의 진로는 중·고등학생 때 뿐 아니라 초등학생때부터 ...</td>\n",
       "      <td>https://blog.daekyo.com/507?category=584155</td>\n",
       "    </tr>\n",
       "  </tbody>\n",
       "</table>\n",
       "</div>"
      ],
      "text/plain": [
       "                                     titles  \\\n",
       "794   [교육을 말한다] 우리 아이에게 맞는 학습법, 띠 별 아이 학습법③   \n",
       "795       [교육을 말한다] 국가영어능력평가 제대로 알고 준비해봐요!!   \n",
       "796  [교육을 말한다] 워킹맘 스토리, 일을 해야 하나요? 말아야 하나요?   \n",
       "797                [진로상담센터] 아이들의 고민을 함께 나눠요   \n",
       "798              [진로상담센터] 초등학생 진로 상담 교육 컨설팅   \n",
       "\n",
       "                                                  text  \\\n",
       "794                                            토끼띠의 단점   \n",
       "795  국가영어능력평가 준비 올해부터 본격적으로 시행되는 국가영어능력평가에 대해서 소개해드...   \n",
       "796  워킹맘이든 전업맘이든 아이들에게 관심과 사랑을 쏟아야 하는 것은 분명합니다 평소 아...   \n",
       "797  검사결과 지민이의 강점지능은 언어지능과 음악지능였습니다 엄마는 지민이가 집에서나 학...   \n",
       "798  진로상담센터 교육 컨설팅 아이들의 진로는 중·고등학생 때 뿐 아니라 초등학생때부터 ...   \n",
       "\n",
       "                                        postlink  \n",
       "794  https://blog.daekyo.com/582?category=584155  \n",
       "795  https://blog.daekyo.com/568?category=584155  \n",
       "796  https://blog.daekyo.com/564?category=584155  \n",
       "797  https://blog.daekyo.com/539?category=584155  \n",
       "798  https://blog.daekyo.com/507?category=584155  "
      ]
     },
     "execution_count": 12,
     "metadata": {},
     "output_type": "execute_result"
    }
   ],
   "source": [
    "df10.tail()"
   ]
  },
  {
   "cell_type": "markdown",
   "metadata": {},
   "source": [
    "### Concatenate Dataframe"
   ]
  },
  {
   "cell_type": "code",
   "execution_count": 13,
   "metadata": {},
   "outputs": [
    {
     "data": {
      "text/html": [
       "<div>\n",
       "<style scoped>\n",
       "    .dataframe tbody tr th:only-of-type {\n",
       "        vertical-align: middle;\n",
       "    }\n",
       "\n",
       "    .dataframe tbody tr th {\n",
       "        vertical-align: top;\n",
       "    }\n",
       "\n",
       "    .dataframe thead th {\n",
       "        text-align: right;\n",
       "    }\n",
       "</style>\n",
       "<table border=\"1\" class=\"dataframe\">\n",
       "  <thead>\n",
       "    <tr style=\"text-align: right;\">\n",
       "      <th></th>\n",
       "      <th>text</th>\n",
       "    </tr>\n",
       "  </thead>\n",
       "  <tbody>\n",
       "    <tr>\n",
       "      <th>20584</th>\n",
       "      <td>토끼띠의 단점</td>\n",
       "    </tr>\n",
       "    <tr>\n",
       "      <th>20585</th>\n",
       "      <td>국가영어능력평가 준비 올해부터 본격적으로 시행되는 국가영어능력평가에 대해서 소개해드...</td>\n",
       "    </tr>\n",
       "    <tr>\n",
       "      <th>20586</th>\n",
       "      <td>워킹맘이든 전업맘이든 아이들에게 관심과 사랑을 쏟아야 하는 것은 분명합니다 평소 아...</td>\n",
       "    </tr>\n",
       "    <tr>\n",
       "      <th>20587</th>\n",
       "      <td>검사결과 지민이의 강점지능은 언어지능과 음악지능였습니다 엄마는 지민이가 집에서나 학...</td>\n",
       "    </tr>\n",
       "    <tr>\n",
       "      <th>20588</th>\n",
       "      <td>진로상담센터 교육 컨설팅 아이들의 진로는 중·고등학생 때 뿐 아니라 초등학생때부터 ...</td>\n",
       "    </tr>\n",
       "  </tbody>\n",
       "</table>\n",
       "</div>"
      ],
      "text/plain": [
       "                                                    text\n",
       "20584                                            토끼띠의 단점\n",
       "20585  국가영어능력평가 준비 올해부터 본격적으로 시행되는 국가영어능력평가에 대해서 소개해드...\n",
       "20586  워킹맘이든 전업맘이든 아이들에게 관심과 사랑을 쏟아야 하는 것은 분명합니다 평소 아...\n",
       "20587  검사결과 지민이의 강점지능은 언어지능과 음악지능였습니다 엄마는 지민이가 집에서나 학...\n",
       "20588  진로상담센터 교육 컨설팅 아이들의 진로는 중·고등학생 때 뿐 아니라 초등학생때부터 ..."
      ]
     },
     "execution_count": 13,
     "metadata": {},
     "output_type": "execute_result"
    }
   ],
   "source": [
    "df = pd.concat([df1.text, df2.text, df3.text, df4.text, df5.text,\n",
    "                df6.text, df7.text, df8.text, df9.text, df10.text])\n",
    "df = pd.DataFrame(df).reset_index(drop=True)\n",
    "df.tail()"
   ]
  },
  {
   "cell_type": "markdown",
   "metadata": {},
   "source": [
    "### Preprocessing"
   ]
  },
  {
   "cell_type": "code",
   "execution_count": 14,
   "metadata": {},
   "outputs": [],
   "source": [
    "def cleaningText(text):\n",
    "    text = re.sub('&nbsp;|\\xa0|\\u200b|\\r|\\n|\\t', ' ', text)\n",
    "    text = re.sub('<.+>|【.+】|\\[.+\\]', ' ', text)\n",
    "    text = re.sub('[-_=+,/\\?;:^$.@*\\\"※~&%ㆍ!”“’「」『』〈〉\\\\‘|\\(\\)\\{\\}\\[\\]\\<\\>`\\'…《》]', ' ', text)\n",
    "    text = re.sub('[㈜×–～→▪‧•∘○□◇△▽▷◁☆◈◐▶▼▲◆★♦■♥️●♠🖤]', ' ', text)\n",
    "    text = re.sub('[①②③④⑤⑥⑦⑧⑨⑩⑪⑫⑬⑭⑮⑯⑰⑱⑲⑳]', ' ', text)\n",
    "    text = re.sub('[➊❷➌❹❺❻❼❽❾❿]', ' ', text)\n",
    "    text = re.sub('http.+com|http.+co|http.+kr|www.+kr|www.+com|www.+net|http.+net', ' ', text)\n",
    "    text = re.sub(\"\\s.+\\s기자\", '', text)\n",
    "    text = re.sub('ⓒ\\S+\\s|㈜\\S+\\s|홈페이지\\S+\\s|전화\\S+\\s|대표전화\\S+\\s|☎\\S+\\s|http\\S+\\s', '', text)\n",
    "    \n",
    "    text = re.sub('\\s+', ' ', text)\n",
    "    text = text.strip()\n",
    "\n",
    "    return text"
   ]
  },
  {
   "cell_type": "code",
   "execution_count": 15,
   "metadata": {},
   "outputs": [],
   "source": [
    "df = df.drop(index=[952, 955, 956, 960, 962, 964, 1165, 1240, 1322])\n",
    "df = df.drop_duplicates()\n",
    "df = df.dropna()\n",
    "df = pd.DataFrame(df).reset_index(drop=True)"
   ]
  },
  {
   "cell_type": "code",
   "execution_count": 16,
   "metadata": {},
   "outputs": [],
   "source": [
    "df['text'] = df['text'].apply(cleaningText)\n",
    "df = df.dropna()\n",
    "df.to_csv('data/text_for_word2vec.csv', index=False, encoding='utf-8')"
   ]
  },
  {
   "cell_type": "code",
   "execution_count": 17,
   "metadata": {},
   "outputs": [
    {
     "data": {
      "text/html": [
       "<div>\n",
       "<style scoped>\n",
       "    .dataframe tbody tr th:only-of-type {\n",
       "        vertical-align: middle;\n",
       "    }\n",
       "\n",
       "    .dataframe tbody tr th {\n",
       "        vertical-align: top;\n",
       "    }\n",
       "\n",
       "    .dataframe thead th {\n",
       "        text-align: right;\n",
       "    }\n",
       "</style>\n",
       "<table border=\"1\" class=\"dataframe\">\n",
       "  <thead>\n",
       "    <tr style=\"text-align: right;\">\n",
       "      <th></th>\n",
       "      <th>text</th>\n",
       "    </tr>\n",
       "  </thead>\n",
       "  <tbody>\n",
       "    <tr>\n",
       "      <th>0</th>\n",
       "      <td>6살 남아 입니다 회사 복직 후 3살부터 주중에는 외할머니댁에서 2살 4살 터울의 ...</td>\n",
       "    </tr>\n",
       "    <tr>\n",
       "      <th>1</th>\n",
       "      <td>요즘 들어 아빠가 아이에게 다가가려고 하면 엄마한테 갈 거야 하면서 엄마를 유독 찾...</td>\n",
       "    </tr>\n",
       "    <tr>\n",
       "      <th>2</th>\n",
       "      <td>둘째가 태어나면 첫째가 힘들 거라는 건 예상하고 있었지만 툭하면 삐치고 울고 좀처럼...</td>\n",
       "    </tr>\n",
       "    <tr>\n",
       "      <th>3</th>\n",
       "      <td>20개월 남아가 있고 임신 8개월차로 두 아기의 엄마입니다 첫 아이는 잠자리 독립을...</td>\n",
       "    </tr>\n",
       "    <tr>\n",
       "      <th>4</th>\n",
       "      <td>14개월 남자 아기인데 심하게 깨무는 버릇이 있어요 전에는 졸릴 때 주로 물곤 했는...</td>\n",
       "    </tr>\n",
       "    <tr>\n",
       "      <th>...</th>\n",
       "      <td>...</td>\n",
       "    </tr>\n",
       "    <tr>\n",
       "      <th>19502</th>\n",
       "      <td>토끼띠의 단점</td>\n",
       "    </tr>\n",
       "    <tr>\n",
       "      <th>19503</th>\n",
       "      <td>국가영어능력평가 준비 올해부터 본격적으로 시행되는 국가영어능력평가에 대해서 소개해드...</td>\n",
       "    </tr>\n",
       "    <tr>\n",
       "      <th>19504</th>\n",
       "      <td>워킹맘이든 전업맘이든 아이들에게 관심과 사랑을 쏟아야 하는 것은 분명합니다 평소 아...</td>\n",
       "    </tr>\n",
       "    <tr>\n",
       "      <th>19505</th>\n",
       "      <td>검사결과 지민이의 강점지능은 언어지능과 음악지능였습니다 엄마는 지민이가 집에서나 학...</td>\n",
       "    </tr>\n",
       "    <tr>\n",
       "      <th>19506</th>\n",
       "      <td>진로상담센터 교육 컨설팅 아이들의 진로는 중·고등학생 때 뿐 아니라 초등학생때부터 ...</td>\n",
       "    </tr>\n",
       "  </tbody>\n",
       "</table>\n",
       "<p>19507 rows × 1 columns</p>\n",
       "</div>"
      ],
      "text/plain": [
       "                                                    text\n",
       "0      6살 남아 입니다 회사 복직 후 3살부터 주중에는 외할머니댁에서 2살 4살 터울의 ...\n",
       "1      요즘 들어 아빠가 아이에게 다가가려고 하면 엄마한테 갈 거야 하면서 엄마를 유독 찾...\n",
       "2      둘째가 태어나면 첫째가 힘들 거라는 건 예상하고 있었지만 툭하면 삐치고 울고 좀처럼...\n",
       "3      20개월 남아가 있고 임신 8개월차로 두 아기의 엄마입니다 첫 아이는 잠자리 독립을...\n",
       "4      14개월 남자 아기인데 심하게 깨무는 버릇이 있어요 전에는 졸릴 때 주로 물곤 했는...\n",
       "...                                                  ...\n",
       "19502                                            토끼띠의 단점\n",
       "19503  국가영어능력평가 준비 올해부터 본격적으로 시행되는 국가영어능력평가에 대해서 소개해드...\n",
       "19504  워킹맘이든 전업맘이든 아이들에게 관심과 사랑을 쏟아야 하는 것은 분명합니다 평소 아...\n",
       "19505  검사결과 지민이의 강점지능은 언어지능과 음악지능였습니다 엄마는 지민이가 집에서나 학...\n",
       "19506  진로상담센터 교육 컨설팅 아이들의 진로는 중·고등학생 때 뿐 아니라 초등학생때부터 ...\n",
       "\n",
       "[19507 rows x 1 columns]"
      ]
     },
     "execution_count": 17,
     "metadata": {},
     "output_type": "execute_result"
    }
   ],
   "source": [
    "df"
   ]
  },
  {
   "cell_type": "markdown",
   "metadata": {},
   "source": [
    "### Add tokenized column"
   ]
  },
  {
   "cell_type": "markdown",
   "metadata": {},
   "source": [
    "191210 정체불명의 error 발생\n",
    "```\n",
    "NotImplementedError: Wrong number or type of arguments for overloaded function 'Tagger_parse'.\n",
    "  Possible C/C++ prototypes are:\n",
    "    MeCab::Tagger::parse(MeCab::Model const &,MeCab::Lattice *)\n",
    "    MeCab::Tagger::parse(MeCab::Lattice *) const\n",
    "    MeCab::Tagger::parse(char const *)\n",
    "```\n",
    "\n",
    "babynews 데이터가 추가된 후 갑자기 발생한 에러인데.. 왜인지 모르겠지만 해당 부분 데이터프레임만 따로 tokenize하는 것은 문제없이 돌아간다.  \n",
    "따라서 번거롭지만 분리하여 tokenizing 한 후에 합치기로 하였다.  \n",
    "\n",
    "-> 해결.. `NaN` value 문제였다(어이없게도 NaN 값이 중간에 섞여있었음;). 누락 데이터를 잘 체크하는 습관을 갖도록하자."
   ]
  },
  {
   "cell_type": "code",
   "execution_count": 18,
   "metadata": {},
   "outputs": [],
   "source": [
    "def tokenize(text):\n",
    "    tokenizer = Mecab()\n",
    "    text = tokenizer.morphs(text)\n",
    "#     text = ' '.join(text)\n",
    "    return text"
   ]
  },
  {
   "cell_type": "code",
   "execution_count": 19,
   "metadata": {},
   "outputs": [
    {
     "name": "stdout",
     "output_type": "stream",
     "text": [
      "CPU times: user 41 s, sys: 22.7 s, total: 1min 3s\n",
      "Wall time: 1min 3s\n"
     ]
    },
    {
     "data": {
      "text/html": [
       "<div>\n",
       "<style scoped>\n",
       "    .dataframe tbody tr th:only-of-type {\n",
       "        vertical-align: middle;\n",
       "    }\n",
       "\n",
       "    .dataframe tbody tr th {\n",
       "        vertical-align: top;\n",
       "    }\n",
       "\n",
       "    .dataframe thead th {\n",
       "        text-align: right;\n",
       "    }\n",
       "</style>\n",
       "<table border=\"1\" class=\"dataframe\">\n",
       "  <thead>\n",
       "    <tr style=\"text-align: right;\">\n",
       "      <th></th>\n",
       "      <th>text</th>\n",
       "      <th>tokenized</th>\n",
       "    </tr>\n",
       "  </thead>\n",
       "  <tbody>\n",
       "    <tr>\n",
       "      <th>19502</th>\n",
       "      <td>토끼띠의 단점</td>\n",
       "      <td>[토끼띠, 의, 단점]</td>\n",
       "    </tr>\n",
       "    <tr>\n",
       "      <th>19503</th>\n",
       "      <td>국가영어능력평가 준비 올해부터 본격적으로 시행되는 국가영어능력평가에 대해서 소개해드...</td>\n",
       "      <td>[국가, 영어, 능력, 평가, 준비, 올해, 부터, 본격, 적, 으로, 시행, 되,...</td>\n",
       "    </tr>\n",
       "    <tr>\n",
       "      <th>19504</th>\n",
       "      <td>워킹맘이든 전업맘이든 아이들에게 관심과 사랑을 쏟아야 하는 것은 분명합니다 평소 아...</td>\n",
       "      <td>[워킹, 맘, 이, 든, 전업, 맘, 이, 든, 아이, 들, 에게, 관심, 과, 사...</td>\n",
       "    </tr>\n",
       "    <tr>\n",
       "      <th>19505</th>\n",
       "      <td>검사결과 지민이의 강점지능은 언어지능과 음악지능였습니다 엄마는 지민이가 집에서나 학...</td>\n",
       "      <td>[검사, 결과, 지민, 이, 의, 강점, 지능, 은, 언어, 지능, 과, 음악, 지...</td>\n",
       "    </tr>\n",
       "    <tr>\n",
       "      <th>19506</th>\n",
       "      <td>진로상담센터 교육 컨설팅 아이들의 진로는 중·고등학생 때 뿐 아니라 초등학생때부터 ...</td>\n",
       "      <td>[진로, 상담, 센터, 교육, 컨설팅, 아이, 들, 의, 진로, 는, 중, ·, 고...</td>\n",
       "    </tr>\n",
       "  </tbody>\n",
       "</table>\n",
       "</div>"
      ],
      "text/plain": [
       "                                                    text  \\\n",
       "19502                                            토끼띠의 단점   \n",
       "19503  국가영어능력평가 준비 올해부터 본격적으로 시행되는 국가영어능력평가에 대해서 소개해드...   \n",
       "19504  워킹맘이든 전업맘이든 아이들에게 관심과 사랑을 쏟아야 하는 것은 분명합니다 평소 아...   \n",
       "19505  검사결과 지민이의 강점지능은 언어지능과 음악지능였습니다 엄마는 지민이가 집에서나 학...   \n",
       "19506  진로상담센터 교육 컨설팅 아이들의 진로는 중·고등학생 때 뿐 아니라 초등학생때부터 ...   \n",
       "\n",
       "                                               tokenized  \n",
       "19502                                       [토끼띠, 의, 단점]  \n",
       "19503  [국가, 영어, 능력, 평가, 준비, 올해, 부터, 본격, 적, 으로, 시행, 되,...  \n",
       "19504  [워킹, 맘, 이, 든, 전업, 맘, 이, 든, 아이, 들, 에게, 관심, 과, 사...  \n",
       "19505  [검사, 결과, 지민, 이, 의, 강점, 지능, 은, 언어, 지능, 과, 음악, 지...  \n",
       "19506  [진로, 상담, 센터, 교육, 컨설팅, 아이, 들, 의, 진로, 는, 중, ·, 고...  "
      ]
     },
     "execution_count": 19,
     "metadata": {},
     "output_type": "execute_result"
    }
   ],
   "source": [
    "%%time\n",
    "df['tokenized'] = df['text'].apply(tokenize)\n",
    "df.tail()"
   ]
  },
  {
   "cell_type": "code",
   "execution_count": 20,
   "metadata": {},
   "outputs": [
    {
     "data": {
      "text/plain": [
       "text         0\n",
       "tokenized    0\n",
       "dtype: int64"
      ]
     },
     "execution_count": 20,
     "metadata": {},
     "output_type": "execute_result"
    }
   ],
   "source": [
    "df.isnull().sum()"
   ]
  },
  {
   "cell_type": "markdown",
   "metadata": {},
   "source": [
    "## Train Word2Vec"
   ]
  },
  {
   "cell_type": "markdown",
   "metadata": {},
   "source": [
    "#### WTF error\n",
    "- df를 csv 형식으로 저장한 후 다시 로드하면 Word2Vec 학습에 인코딩 문제가 생긴다.\n",
    "- 더 자세히 파고들어보니 list 형식의 column이 csv로 저장할 때 강제로 string 타입으로 형변환 됨.\n",
    "- 이렇게 형변환 된 column을 Word2Vec 학습에 사용할 시 한글 텍스트가 깨지는 현상이 발생함.. 정확한 원인은 아직 모르겠다."
   ]
  },
  {
   "cell_type": "code",
   "execution_count": 21,
   "metadata": {},
   "outputs": [],
   "source": [
    "# df = pd.read_csv('text_for_word2vec.csv', encoding='utf-8')"
   ]
  },
  {
   "cell_type": "markdown",
   "metadata": {},
   "source": [
    "그러므로 저장 & 로드 과정 생략하고 바로 말뭉치를 numpy ndarray형식으로 변환"
   ]
  },
  {
   "cell_type": "code",
   "execution_count": 22,
   "metadata": {},
   "outputs": [
    {
     "data": {
      "text/plain": [
       "numpy.ndarray"
      ]
     },
     "execution_count": 22,
     "metadata": {},
     "output_type": "execute_result"
    }
   ],
   "source": [
    "corpus = np.array(df.tokenized)\n",
    "type(corpus)"
   ]
  },
  {
   "cell_type": "code",
   "execution_count": 23,
   "metadata": {},
   "outputs": [],
   "source": [
    "model_all = Word2Vec(corpus, size=128, workers=4, sg=1)\n",
    "model_all.save('data/tokmom_word2vec_all')"
   ]
  },
  {
   "cell_type": "markdown",
   "metadata": {},
   "source": [
    "#### 유사어 분석"
   ]
  },
  {
   "cell_type": "code",
   "execution_count": 24,
   "metadata": {},
   "outputs": [
    {
     "data": {
      "text/plain": [
       "[('소꿉', 0.7539886236190796),\n",
       " ('공놀이', 0.7020375728607178),\n",
       " ('놀잇감', 0.6859716176986694),\n",
       " ('놀이터', 0.6789550185203552),\n",
       " ('미술', 0.6679667234420776),\n",
       " ('역할극', 0.6658950448036194),\n",
       " ('음률', 0.6633263230323792),\n",
       " ('숨바꼭질', 0.6606078147888184),\n",
       " ('점토', 0.6601049900054932),\n",
       " ('찰흙', 0.6421756744384766)]"
      ]
     },
     "execution_count": 24,
     "metadata": {},
     "output_type": "execute_result"
    }
   ],
   "source": [
    "model_all.wv.similar_by_word(\"놀이\")"
   ]
  },
  {
   "cell_type": "code",
   "execution_count": 25,
   "metadata": {},
   "outputs": [
    {
     "data": {
      "text/plain": [
       "[('아기', 0.7134267687797546),\n",
       " ('어린아이', 0.7128130793571472),\n",
       " ('자녀', 0.6886004209518433),\n",
       " ('Solution', 0.6756339073181152),\n",
       " ('갓난아기', 0.6752938032150269),\n",
       " ('양손잡이', 0.671462893486023),\n",
       " ('본보기', 0.6544440984725952),\n",
       " ('외동아이', 0.6533958911895752),\n",
       " ('갓난아이', 0.651941180229187),\n",
       " ('큰아이', 0.6510705947875977)]"
      ]
     },
     "execution_count": 25,
     "metadata": {},
     "output_type": "execute_result"
    }
   ],
   "source": [
    "model_all.wv.similar_by_word(\"아이\")"
   ]
  },
  {
   "cell_type": "code",
   "execution_count": 26,
   "metadata": {},
   "outputs": [
    {
     "data": {
      "text/plain": [
       "[('잇몸', 0.8231825232505798),\n",
       " ('영구치', 0.7919342517852783),\n",
       " ('충치', 0.7177867889404297),\n",
       " ('턱뼈', 0.7042288780212402),\n",
       " ('혀', 0.7022850513458252),\n",
       " ('유치', 0.6913747787475586),\n",
       " ('뼈', 0.6877995133399963),\n",
       " ('법랑질', 0.682285487651825),\n",
       " ('치근', 0.6756521463394165),\n",
       " ('치조골', 0.6698732376098633)]"
      ]
     },
     "execution_count": 26,
     "metadata": {},
     "output_type": "execute_result"
    }
   ],
   "source": [
    "model_all.wv.similar_by_word(\"치아\")"
   ]
  },
  {
   "cell_type": "code",
   "execution_count": 27,
   "metadata": {},
   "outputs": [
    {
     "data": {
      "text/plain": [
       "[('혓바닥', 0.8340562582015991),\n",
       " ('문다', 0.8209183216094971),\n",
       " ('핥', 0.8164038062095642),\n",
       " ('문질러서', 0.8072730302810669),\n",
       " ('근질거리', 0.8009214997291565),\n",
       " ('바싹', 0.8007936477661133),\n",
       " ('탁탁', 0.7960212230682373),\n",
       " ('뽀얗', 0.7951754331588745),\n",
       " ('군데군데', 0.7931393384933472),\n",
       " ('비눗물', 0.7916767597198486)]"
      ]
     },
     "execution_count": 27,
     "metadata": {},
     "output_type": "execute_result"
    }
   ],
   "source": [
    "model_all.wv.similar_by_word(\"이빨\")"
   ]
  },
  {
   "cell_type": "code",
   "execution_count": 28,
   "metadata": {},
   "outputs": [
    {
     "data": {
      "text/plain": [
       "[('코감기', 0.8362369537353516),\n",
       " ('냉방병', 0.78067946434021),\n",
       " ('독감', 0.7720118165016174),\n",
       " ('비염', 0.770840585231781),\n",
       " ('기관지염', 0.7630501389503479),\n",
       " ('목감기', 0.762562096118927),\n",
       " ('장염', 0.7495507001876831),\n",
       " ('호흡기', 0.7484935522079468),\n",
       " ('축농증', 0.7437417507171631),\n",
       " ('족구', 0.7378442287445068)]"
      ]
     },
     "execution_count": 28,
     "metadata": {},
     "output_type": "execute_result"
    }
   ],
   "source": [
    "model_all.wv.similar_by_word(\"감기\")"
   ]
  },
  {
   "cell_type": "code",
   "execution_count": 29,
   "metadata": {},
   "outputs": [
    {
     "data": {
      "text/plain": [
       "[('고열', 0.5873336791992188),\n",
       " ('3940', 0.5853402614593506),\n",
       " ('미열', 0.5769288539886475),\n",
       " ('고열로', 0.5744488835334778),\n",
       " ('오한', 0.5544812679290771),\n",
       " ('사병', 0.5527662634849548),\n",
       " ('일사병', 0.5512457489967346),\n",
       " ('외감', 0.5504831671714783),\n",
       " ('심열', 0.5399110317230225),\n",
       " ('성경', 0.5387053489685059)]"
      ]
     },
     "execution_count": 29,
     "metadata": {},
     "output_type": "execute_result"
    }
   ],
   "source": [
    "model_all.wv.similar_by_word(\"열\")"
   ]
  },
  {
   "cell_type": "code",
   "execution_count": 30,
   "metadata": {},
   "outputs": [
    {
     "data": {
      "text/plain": [
       "[('아파서', 0.8082139492034912),\n",
       " ('아프', 0.8022851943969727),\n",
       " ('아파하', 0.7990169525146484),\n",
       " ('다쳐', 0.7593474388122559),\n",
       " ('어지럽', 0.7576866745948792),\n",
       " ('보챈다', 0.756355881690979),\n",
       " ('가려워하', 0.7552841901779175),\n",
       " ('고픈지', 0.7506644129753113),\n",
       " ('아픈데', 0.7393842339515686),\n",
       " ('결리', 0.737580418586731)]"
      ]
     },
     "execution_count": 30,
     "metadata": {},
     "output_type": "execute_result"
    }
   ],
   "source": [
    "model_all.wv.similar_by_word(\"아파\")"
   ]
  },
  {
   "cell_type": "code",
   "execution_count": 31,
   "metadata": {},
   "outputs": [
    {
     "data": {
      "text/plain": [
       "[('아파', 0.8022851943969727),\n",
       " ('어지럽', 0.7942240238189697),\n",
       " ('아파하', 0.773670494556427),\n",
       " ('결리', 0.7633020281791687),\n",
       " ('시리', 0.7509156465530396),\n",
       " ('땅기', 0.7439126372337341),\n",
       " ('간지럽', 0.7378921508789062),\n",
       " ('먹먹해', 0.7307586073875427),\n",
       " ('아팠', 0.7277988195419312),\n",
       " ('아파서', 0.7269823551177979)]"
      ]
     },
     "execution_count": 31,
     "metadata": {},
     "output_type": "execute_result"
    }
   ],
   "source": [
    "model_all.wv.similar_by_word(\"아프\")"
   ]
  },
  {
   "cell_type": "code",
   "execution_count": 32,
   "metadata": {},
   "outputs": [
    {
     "data": {
      "text/plain": [
       "[('우', 0.6639549732208252),\n",
       " ('옹알이', 0.6573118567466736),\n",
       " ('소리', 0.6540652513504028),\n",
       " ('터뜨립니다', 0.6522349119186401),\n",
       " ('터뜨린다', 0.6496139764785767),\n",
       " ('터뜨려', 0.6489412784576416),\n",
       " ('운다', 0.6467686891555786),\n",
       " ('지르', 0.6451147794723511),\n",
       " ('터뜨릴', 0.6450271606445312),\n",
       " ('흐느끼', 0.6383712291717529)]"
      ]
     },
     "execution_count": 32,
     "metadata": {},
     "output_type": "execute_result"
    }
   ],
   "source": [
    "model_all.wv.similar_by_word(\"울음\")"
   ]
  },
  {
   "cell_type": "code",
   "execution_count": 33,
   "metadata": {},
   "outputs": [
    {
     "data": {
      "text/plain": [
       "[('여아', 0.8449685573577881),\n",
       " ('초산부', 0.645108699798584),\n",
       " ('정상아', 0.6342120170593262),\n",
       " ('경산부', 0.6270981431007385),\n",
       " ('3540', 0.6189278364181519),\n",
       " ('보였으나', 0.616357684135437),\n",
       " ('출생체중', 0.6121364235877991),\n",
       " ('정상인', 0.6107046604156494),\n",
       " ('011', 0.6100091934204102),\n",
       " ('남근기', 0.6090734601020813)]"
      ]
     },
     "execution_count": 33,
     "metadata": {},
     "output_type": "execute_result"
    }
   ],
   "source": [
    "model_all.wv.similar_by_word(\"남아\")"
   ]
  },
  {
   "cell_type": "code",
   "execution_count": 34,
   "metadata": {},
   "outputs": [
    {
     "data": {
      "text/plain": [
       "[('남아', 0.8449686169624329),\n",
       " ('여자', 0.6180329918861389),\n",
       " ('인치', 0.6134419441223145),\n",
       " ('617', 0.6080763339996338),\n",
       " ('584', 0.6044162511825562),\n",
       " ('547', 0.5849400162696838),\n",
       " ('남자', 0.583122730255127),\n",
       " ('485', 0.5826152563095093),\n",
       " ('011', 0.5790334343910217),\n",
       " ('여학생', 0.5766470432281494)]"
      ]
     },
     "execution_count": 34,
     "metadata": {},
     "output_type": "execute_result"
    }
   ],
   "source": [
    "model_all.wv.similar_by_word(\"여아\")"
   ]
  },
  {
   "cell_type": "markdown",
   "metadata": {},
   "source": [
    "---"
   ]
  },
  {
   "cell_type": "markdown",
   "metadata": {},
   "source": [
    "## Only Noun"
   ]
  },
  {
   "cell_type": "markdown",
   "metadata": {},
   "source": [
    "- 이번에는 말뭉치에서 명사만 추출하여 결과를 비교해보자\n",
    "- 유사한 키워드 잡기를 목적으로 할 때는 명사만 추출하는 것이 더 적절한 듯"
   ]
  },
  {
   "cell_type": "code",
   "execution_count": 35,
   "metadata": {},
   "outputs": [
    {
     "name": "stdout",
     "output_type": "stream",
     "text": [
      "CPU times: user 41.9 s, sys: 21.1 s, total: 1min 3s\n",
      "Wall time: 1min 1s\n"
     ]
    }
   ],
   "source": [
    "%%time\n",
    "def extract_noun(text):\n",
    "    tokenizer = Mecab()\n",
    "    text = tokenizer.nouns(text)\n",
    "#     text = ' '.join(text)\n",
    "    return text\n",
    "    \n",
    "df['noun'] = df['text'].apply(extract_noun)\n",
    "df = df.dropna()"
   ]
  },
  {
   "cell_type": "code",
   "execution_count": 36,
   "metadata": {},
   "outputs": [],
   "source": [
    "noun_corpus = np.array(df.noun)"
   ]
  },
  {
   "cell_type": "code",
   "execution_count": 37,
   "metadata": {},
   "outputs": [],
   "source": [
    "model_noun = Word2Vec(noun_corpus, size=100, workers=4, sg=1)\n",
    "model_noun.save('data/tokmom_word2vec_only_noun')"
   ]
  },
  {
   "cell_type": "code",
   "execution_count": 38,
   "metadata": {},
   "outputs": [
    {
     "data": {
      "text/plain": [
       "True"
      ]
     },
     "execution_count": 38,
     "metadata": {},
     "output_type": "execute_result"
    }
   ],
   "source": [
    "\"육아\" in model_noun.wv.vocab"
   ]
  },
  {
   "cell_type": "code",
   "execution_count": 39,
   "metadata": {},
   "outputs": [
    {
     "data": {
      "text/plain": [
       "[('휴직', 0.6748740077018738),\n",
       " ('양육', 0.646068811416626),\n",
       " ('워킹', 0.6446343064308167),\n",
       " ('휴직급', 0.6235928535461426),\n",
       " ('핸드북', 0.6208047866821289),\n",
       " ('노동법', 0.6126154065132141),\n",
       " ('고충', 0.6120660305023193),\n",
       " ('유연', 0.6106094121932983),\n",
       " ('정주희', 0.603817880153656),\n",
       " ('프렌드', 0.6036721467971802)]"
      ]
     },
     "execution_count": 39,
     "metadata": {},
     "output_type": "execute_result"
    }
   ],
   "source": [
    "model_noun.wv.similar_by_word(\"육아\")"
   ]
  },
  {
   "cell_type": "code",
   "execution_count": 40,
   "metadata": {},
   "outputs": [
    {
     "data": {
      "text/plain": [
       "[('친정', 0.8366267681121826),\n",
       " ('시어머니', 0.8245119452476501),\n",
       " ('시부모', 0.8139957189559937),\n",
       " ('식구', 0.8086997866630554),\n",
       " ('친정어머니', 0.803844690322876),\n",
       " ('며느리', 0.8013578653335571),\n",
       " ('처가', 0.7952950596809387),\n",
       " ('남편', 0.794093132019043),\n",
       " ('친가', 0.7833516597747803),\n",
       " ('장모', 0.7786191701889038)]"
      ]
     },
     "execution_count": 40,
     "metadata": {},
     "output_type": "execute_result"
    }
   ],
   "source": [
    "model_noun.wv.similar_by_word(\"시댁\")"
   ]
  },
  {
   "cell_type": "code",
   "execution_count": 41,
   "metadata": {},
   "outputs": [
    {
     "data": {
      "text/plain": [
       "[('소꿉', 0.7528002858161926),\n",
       " ('공놀이', 0.733434796333313),\n",
       " ('놀잇감', 0.7070861458778381),\n",
       " ('음률', 0.687225341796875),\n",
       " ('놀이터', 0.6719777584075928),\n",
       " ('유희', 0.6688657999038696),\n",
       " ('역할극', 0.6673043370246887),\n",
       " ('비석', 0.662082850933075),\n",
       " ('미술', 0.6585705280303955),\n",
       " ('술래잡기', 0.6578928232192993)]"
      ]
     },
     "execution_count": 41,
     "metadata": {},
     "output_type": "execute_result"
    }
   ],
   "source": [
    "model_noun.wv.similar_by_word(\"놀이\")"
   ]
  },
  {
   "cell_type": "code",
   "execution_count": 42,
   "metadata": {},
   "outputs": [
    {
     "data": {
      "text/plain": [
       "[('함정', 0.7817701101303101),\n",
       " ('노심', 0.7785893678665161),\n",
       " ('게으름', 0.7765206098556519),\n",
       " ('취감', 0.775086522102356),\n",
       " ('거리감', 0.7740968465805054),\n",
       " ('반항기', 0.7687433362007141),\n",
       " ('의기소침', 0.766459047794342),\n",
       " ('무덤덤', 0.7661758661270142),\n",
       " ('응석받이', 0.7661656737327576),\n",
       " ('일임', 0.765544056892395)]"
      ]
     },
     "execution_count": 42,
     "metadata": {},
     "output_type": "execute_result"
    }
   ],
   "source": [
    "model_noun.wv.similar_by_word(\"아이\")"
   ]
  },
  {
   "cell_type": "code",
   "execution_count": 43,
   "metadata": {},
   "outputs": [
    {
     "data": {
      "text/plain": [
       "[('잇몸', 0.8551942110061646),\n",
       " ('영구치', 0.8134870529174805),\n",
       " ('젖니', 0.8032926321029663),\n",
       " ('충치', 0.791760265827179),\n",
       " ('덧니', 0.7541983127593994),\n",
       " ('사랑니', 0.7435067296028137),\n",
       " ('앞니', 0.7414108514785767),\n",
       " ('어금니', 0.7392208576202393),\n",
       " ('유치', 0.7391830682754517),\n",
       " ('과잉치', 0.738880455493927)]"
      ]
     },
     "execution_count": 43,
     "metadata": {},
     "output_type": "execute_result"
    }
   ],
   "source": [
    "model_noun.wv.similar_by_word(\"치아\")"
   ]
  },
  {
   "cell_type": "code",
   "execution_count": 44,
   "metadata": {},
   "outputs": [
    {
     "data": {
      "text/plain": [
       "[('혓바닥', 0.8635708093643188),\n",
       " ('속살', 0.8388662338256836),\n",
       " ('거립니다', 0.8224554061889648),\n",
       " ('혓바늘', 0.8199008107185364),\n",
       " ('씹', 0.8177372217178345),\n",
       " ('이쑤시개', 0.8059817552566528),\n",
       " ('씹기', 0.8043206930160522),\n",
       " ('부리', 0.7985096573829651),\n",
       " ('입가', 0.7983756065368652),\n",
       " ('승환', 0.796153724193573)]"
      ]
     },
     "execution_count": 44,
     "metadata": {},
     "output_type": "execute_result"
    }
   ],
   "source": [
    "model_noun.wv.similar_by_word(\"이빨\")"
   ]
  },
  {
   "cell_type": "code",
   "execution_count": 45,
   "metadata": {},
   "outputs": [
    {
     "data": {
      "text/plain": [
       "[('코감기', 0.8609760999679565),\n",
       " ('목감기', 0.809931218624115),\n",
       " ('편도염', 0.8092349171638489),\n",
       " ('기관지염', 0.8082438111305237),\n",
       " ('환절기', 0.7973124980926514),\n",
       " ('콧물', 0.7859431505203247),\n",
       " ('호흡기', 0.7802457809448242),\n",
       " ('인후염', 0.7786545753479004),\n",
       " ('기침', 0.7666497230529785),\n",
       " ('독감', 0.7636998891830444)]"
      ]
     },
     "execution_count": 45,
     "metadata": {},
     "output_type": "execute_result"
    }
   ],
   "source": [
    "model_noun.wv.similar_by_word(\"감기\")"
   ]
  },
  {
   "cell_type": "code",
   "execution_count": 46,
   "metadata": {},
   "outputs": [
    {
     "data": {
      "text/plain": [
       "[('고열로', 0.729784369468689),\n",
       " ('외감', 0.7267425656318665),\n",
       " ('사병', 0.7214865684509277),\n",
       " ('熱', 0.7119229435920715),\n",
       " ('오한', 0.708365261554718),\n",
       " ('허열', 0.7079216837882996),\n",
       " ('고열', 0.6981440782546997),\n",
       " ('콧물감기', 0.688435971736908),\n",
       " ('목감기', 0.6771934628486633),\n",
       " ('습과', 0.6768776178359985)]"
      ]
     },
     "execution_count": 46,
     "metadata": {},
     "output_type": "execute_result"
    }
   ],
   "source": [
    "model_noun.wv.similar_by_word(\"열\")"
   ]
  },
  {
   "cell_type": "code",
   "execution_count": 47,
   "metadata": {},
   "outputs": [
    {
     "data": {
      "text/plain": [
       "[('거립니다', 0.8690185546875),\n",
       " ('목도', 0.8589751124382019),\n",
       " ('무의식중', 0.8553606271743774),\n",
       " ('참기', 0.8429911732673645),\n",
       " ('운지', 0.8407555222511292),\n",
       " ('청진', 0.8329979181289673),\n",
       " ('어린애', 0.831182599067688),\n",
       " ('직행', 0.8264451026916504),\n",
       " ('속수무책', 0.8260210156440735),\n",
       " ('색도', 0.8237227201461792)]"
      ]
     },
     "execution_count": 47,
     "metadata": {},
     "output_type": "execute_result"
    }
   ],
   "source": [
    "model_noun.wv.similar_by_word(\"아파\")"
   ]
  },
  {
   "cell_type": "code",
   "execution_count": 48,
   "metadata": {},
   "outputs": [
    {
     "data": {
      "text/plain": [
       "[('지르기', 0.6825604438781738),\n",
       " ('소리', 0.6751922965049744),\n",
       " ('비명', 0.6709635257720947),\n",
       " ('손짓', 0.6630816459655762),\n",
       " ('옹알이', 0.658660352230072),\n",
       " ('잠꼬대', 0.6556703448295593),\n",
       " ('떼', 0.6556562781333923),\n",
       " ('고음', 0.6515142917633057),\n",
       " ('신음', 0.6505814790725708),\n",
       " ('성어', 0.6473187208175659)]"
      ]
     },
     "execution_count": 48,
     "metadata": {},
     "output_type": "execute_result"
    }
   ],
   "source": [
    "model_noun.wv.similar_by_word(\"울음\")"
   ]
  },
  {
   "cell_type": "code",
   "execution_count": 49,
   "metadata": {},
   "outputs": [
    {
     "data": {
      "text/plain": [
       "[('여아', 0.8805588483810425),\n",
       " ('음모', 0.7361984252929688),\n",
       " ('가슴둘레', 0.7251384258270264),\n",
       " ('변성기', 0.721394419670105),\n",
       " ('남자', 0.7136530876159668),\n",
       " ('남근기', 0.7071888446807861),\n",
       " ('액모', 0.7068333625793457),\n",
       " ('음경', 0.6954772472381592),\n",
       " ('등신', 0.6931884288787842),\n",
       " ('아도', 0.6867566108703613),\n",
       " ('생시', 0.6816847324371338),\n",
       " ('허리둘레', 0.678606390953064),\n",
       " ('체격', 0.6770161390304565),\n",
       " ('여자', 0.6725210547447205),\n",
       " ('구성비', 0.6692276000976562),\n",
       " ('증후', 0.6684051752090454),\n",
       " ('항문기', 0.6671019792556763),\n",
       " ('초경', 0.6670586466789246),\n",
       " ('아포크린샘', 0.6651873588562012),\n",
       " ('멍울', 0.6637452840805054)]"
      ]
     },
     "execution_count": 49,
     "metadata": {},
     "output_type": "execute_result"
    }
   ],
   "source": [
    "model_noun.wv.similar_by_word(\"남아\", topn=20)"
   ]
  },
  {
   "cell_type": "code",
   "execution_count": 50,
   "metadata": {},
   "outputs": [
    {
     "data": {
      "text/plain": [
       "[('남아', 0.8805588483810425),\n",
       " ('음모', 0.6818540096282959),\n",
       " ('가슴둘레', 0.6795029640197754),\n",
       " ('남근기', 0.662116527557373),\n",
       " ('여자', 0.660022497177124),\n",
       " ('변성기', 0.655205488204956),\n",
       " ('등신', 0.6426079273223877),\n",
       " ('항문기', 0.6396911144256592),\n",
       " ('액모', 0.63859623670578),\n",
       " ('남자', 0.6375669240951538),\n",
       " ('생시', 0.6359604597091675),\n",
       " ('아도', 0.6350091695785522),\n",
       " ('둘레', 0.6200997829437256),\n",
       " ('세경', 0.6181658506393433),\n",
       " ('조숙', 0.6172573566436768),\n",
       " ('음경', 0.6144160032272339),\n",
       " ('아일', 0.6128727197647095),\n",
       " ('멍울', 0.6122650504112244),\n",
       " ('남학생', 0.6102195978164673),\n",
       " ('남근', 0.6069267988204956)]"
      ]
     },
     "execution_count": 50,
     "metadata": {},
     "output_type": "execute_result"
    }
   ],
   "source": [
    "model_noun.wv.similar_by_word(\"여아\", topn=20)"
   ]
  },
  {
   "cell_type": "code",
   "execution_count": 51,
   "metadata": {
    "scrolled": true
   },
   "outputs": [
    {
     "data": {
      "text/plain": [
       "[('남자', 0.8741194009780884),\n",
       " ('남아', 0.6725210547447205),\n",
       " ('여아', 0.660022497177124),\n",
       " ('아이든', 0.6500554084777832),\n",
       " ('태생', 0.6371405124664307),\n",
       " ('씩', 0.6348239183425903),\n",
       " ('남학생', 0.6147850751876831),\n",
       " ('군대', 0.6132354736328125),\n",
       " ('엘렉트라', 0.6108006834983826),\n",
       " ('성별', 0.6100404262542725),\n",
       " ('오이디푸스', 0.6061607003211975),\n",
       " ('성', 0.6013287305831909),\n",
       " ('야동', 0.6008148193359375),\n",
       " ('이분법', 0.5963730216026306),\n",
       " ('경쟁자', 0.591517984867096),\n",
       " ('동경', 0.5906028747558594),\n",
       " ('남근', 0.5888799428939819),\n",
       " ('여학생', 0.5860785245895386),\n",
       " ('근육질', 0.5840975046157837),\n",
       " ('동갑내기', 0.5836182236671448)]"
      ]
     },
     "execution_count": 51,
     "metadata": {},
     "output_type": "execute_result"
    }
   ],
   "source": [
    "model_noun.wv.similar_by_word(\"여자\", topn=20)"
   ]
  },
  {
   "cell_type": "code",
   "execution_count": 52,
   "metadata": {},
   "outputs": [
    {
     "data": {
      "text/plain": [
       "[('여자', 0.8741194009780884),\n",
       " ('남아', 0.7136530876159668),\n",
       " ('씩', 0.7083884477615356),\n",
       " ('아이든', 0.6729774475097656),\n",
       " ('태생', 0.6685231328010559),\n",
       " ('경쟁자', 0.6650919914245605),\n",
       " ('군대', 0.6548209190368652),\n",
       " ('아버지', 0.6542489528656006),\n",
       " ('이분법', 0.6531455516815186),\n",
       " ('남근', 0.6515460014343262),\n",
       " ('위엄', 0.6440874338150024),\n",
       " ('성기', 0.6414923071861267),\n",
       " ('성별', 0.6401675939559937),\n",
       " ('엘렉트라', 0.6401489973068237),\n",
       " ('여아', 0.6375669240951538),\n",
       " ('오이디푸스', 0.6355557441711426),\n",
       " ('동성', 0.632432758808136),\n",
       " ('남학생', 0.6308331489562988),\n",
       " ('고정관념', 0.628714382648468),\n",
       " ('탈선', 0.6272584199905396)]"
      ]
     },
     "execution_count": 52,
     "metadata": {},
     "output_type": "execute_result"
    }
   ],
   "source": [
    "model_noun.wv.similar_by_word(\"남자\", topn=20)"
   ]
  },
  {
   "cell_type": "code",
   "execution_count": 53,
   "metadata": {},
   "outputs": [
    {
     "data": {
      "text/plain": [
       "[('디럭스', 0.8051555156707764),\n",
       " ('절충', 0.791560709476471),\n",
       " ('휴대용', 0.7657305598258972),\n",
       " ('쇼퍼', 0.7534667253494263),\n",
       " ('타보', 0.7531963586807251),\n",
       " ('페도라', 0.7363781929016113),\n",
       " ('핸들링', 0.7304482460021973),\n",
       " ('스콥', 0.721701979637146),\n",
       " ('포투', 0.7204662561416626),\n",
       " ('잉글', 0.7172436118125916)]"
      ]
     },
     "execution_count": 53,
     "metadata": {},
     "output_type": "execute_result"
    }
   ],
   "source": [
    "model_noun.wv.similar_by_word(\"유모차\")"
   ]
  },
  {
   "cell_type": "code",
   "execution_count": 54,
   "metadata": {},
   "outputs": [
    {
     "data": {
      "text/plain": [
       "[('장착', 0.7554982304573059),\n",
       " ('안전벨트', 0.7396782040596008),\n",
       " ('브라이', 0.7333618402481079),\n",
       " ('순성', 0.7287185788154602),\n",
       " ('페도라', 0.7266130447387695),\n",
       " ('픽스', 0.7214741110801697),\n",
       " ('콩코드', 0.7028893232345581),\n",
       " ('벨트', 0.6944077610969543),\n",
       " ('뒷좌석', 0.6863318681716919),\n",
       " ('부스터', 0.6818766593933105)]"
      ]
     },
     "execution_count": 54,
     "metadata": {},
     "output_type": "execute_result"
    }
   ],
   "source": [
    "model_noun.wv.similar_by_word(\"카시트\")"
   ]
  },
  {
   "cell_type": "markdown",
   "metadata": {},
   "source": [
    "### Volume of Corpus "
   ]
  },
  {
   "cell_type": "code",
   "execution_count": 55,
   "metadata": {},
   "outputs": [],
   "source": [
    "df[['text']].to_csv('data/text_for_word2vec.csv', index=False, encoding='utf-8')"
   ]
  },
  {
   "cell_type": "code",
   "execution_count": 56,
   "metadata": {},
   "outputs": [
    {
     "data": {
      "text/html": [
       "<div>\n",
       "<style scoped>\n",
       "    .dataframe tbody tr th:only-of-type {\n",
       "        vertical-align: middle;\n",
       "    }\n",
       "\n",
       "    .dataframe tbody tr th {\n",
       "        vertical-align: top;\n",
       "    }\n",
       "\n",
       "    .dataframe thead th {\n",
       "        text-align: right;\n",
       "    }\n",
       "</style>\n",
       "<table border=\"1\" class=\"dataframe\">\n",
       "  <thead>\n",
       "    <tr style=\"text-align: right;\">\n",
       "      <th></th>\n",
       "      <th>text</th>\n",
       "    </tr>\n",
       "  </thead>\n",
       "  <tbody>\n",
       "    <tr>\n",
       "      <th>0</th>\n",
       "      <td>6살 남아 입니다 회사 복직 후 3살부터 주중에는 외할머니댁에서 2살 4살 터울의 ...</td>\n",
       "    </tr>\n",
       "    <tr>\n",
       "      <th>1</th>\n",
       "      <td>요즘 들어 아빠가 아이에게 다가가려고 하면 엄마한테 갈 거야 하면서 엄마를 유독 찾...</td>\n",
       "    </tr>\n",
       "    <tr>\n",
       "      <th>2</th>\n",
       "      <td>둘째가 태어나면 첫째가 힘들 거라는 건 예상하고 있었지만 툭하면 삐치고 울고 좀처럼...</td>\n",
       "    </tr>\n",
       "    <tr>\n",
       "      <th>3</th>\n",
       "      <td>20개월 남아가 있고 임신 8개월차로 두 아기의 엄마입니다 첫 아이는 잠자리 독립을...</td>\n",
       "    </tr>\n",
       "    <tr>\n",
       "      <th>4</th>\n",
       "      <td>14개월 남자 아기인데 심하게 깨무는 버릇이 있어요 전에는 졸릴 때 주로 물곤 했는...</td>\n",
       "    </tr>\n",
       "    <tr>\n",
       "      <th>...</th>\n",
       "      <td>...</td>\n",
       "    </tr>\n",
       "    <tr>\n",
       "      <th>19502</th>\n",
       "      <td>토끼띠의 단점</td>\n",
       "    </tr>\n",
       "    <tr>\n",
       "      <th>19503</th>\n",
       "      <td>국가영어능력평가 준비 올해부터 본격적으로 시행되는 국가영어능력평가에 대해서 소개해드...</td>\n",
       "    </tr>\n",
       "    <tr>\n",
       "      <th>19504</th>\n",
       "      <td>워킹맘이든 전업맘이든 아이들에게 관심과 사랑을 쏟아야 하는 것은 분명합니다 평소 아...</td>\n",
       "    </tr>\n",
       "    <tr>\n",
       "      <th>19505</th>\n",
       "      <td>검사결과 지민이의 강점지능은 언어지능과 음악지능였습니다 엄마는 지민이가 집에서나 학...</td>\n",
       "    </tr>\n",
       "    <tr>\n",
       "      <th>19506</th>\n",
       "      <td>진로상담센터 교육 컨설팅 아이들의 진로는 중·고등학생 때 뿐 아니라 초등학생때부터 ...</td>\n",
       "    </tr>\n",
       "  </tbody>\n",
       "</table>\n",
       "<p>19507 rows × 1 columns</p>\n",
       "</div>"
      ],
      "text/plain": [
       "                                                    text\n",
       "0      6살 남아 입니다 회사 복직 후 3살부터 주중에는 외할머니댁에서 2살 4살 터울의 ...\n",
       "1      요즘 들어 아빠가 아이에게 다가가려고 하면 엄마한테 갈 거야 하면서 엄마를 유독 찾...\n",
       "2      둘째가 태어나면 첫째가 힘들 거라는 건 예상하고 있었지만 툭하면 삐치고 울고 좀처럼...\n",
       "3      20개월 남아가 있고 임신 8개월차로 두 아기의 엄마입니다 첫 아이는 잠자리 독립을...\n",
       "4      14개월 남자 아기인데 심하게 깨무는 버릇이 있어요 전에는 졸릴 때 주로 물곤 했는...\n",
       "...                                                  ...\n",
       "19502                                            토끼띠의 단점\n",
       "19503  국가영어능력평가 준비 올해부터 본격적으로 시행되는 국가영어능력평가에 대해서 소개해드...\n",
       "19504  워킹맘이든 전업맘이든 아이들에게 관심과 사랑을 쏟아야 하는 것은 분명합니다 평소 아...\n",
       "19505  검사결과 지민이의 강점지능은 언어지능과 음악지능였습니다 엄마는 지민이가 집에서나 학...\n",
       "19506  진로상담센터 교육 컨설팅 아이들의 진로는 중·고등학생 때 뿐 아니라 초등학생때부터 ...\n",
       "\n",
       "[19507 rows x 1 columns]"
      ]
     },
     "execution_count": 56,
     "metadata": {},
     "output_type": "execute_result"
    }
   ],
   "source": [
    "pd.read_csv('data/text_for_word2vec.csv')"
   ]
  },
  {
   "cell_type": "markdown",
   "metadata": {},
   "source": [
    "### Loading check"
   ]
  },
  {
   "cell_type": "code",
   "execution_count": 57,
   "metadata": {},
   "outputs": [
    {
     "data": {
      "text/plain": [
       "<gensim.models.word2vec.Word2Vec at 0x7ff693229950>"
      ]
     },
     "execution_count": 57,
     "metadata": {},
     "output_type": "execute_result"
    }
   ],
   "source": [
    "model = Word2Vec.load('data/tokmom_word2vec_only_noun')\n",
    "model"
   ]
  },
  {
   "cell_type": "code",
   "execution_count": 58,
   "metadata": {},
   "outputs": [
    {
     "data": {
      "text/plain": [
       "[('집안', 0.7387545704841614),\n",
       " ('집들이', 0.7016651630401611),\n",
       " ('방', 0.6618398427963257),\n",
       " ('발품', 0.6376394033432007),\n",
       " ('만희', 0.6343194842338562),\n",
       " ('현관', 0.6282860636711121),\n",
       " ('살림살이', 0.6201419830322266),\n",
       " ('가정집', 0.6191257834434509),\n",
       " ('녹초', 0.6188140511512756),\n",
       " ('난장판', 0.6187115907669067)]"
      ]
     },
     "execution_count": 58,
     "metadata": {},
     "output_type": "execute_result"
    }
   ],
   "source": [
    "model.wv.similar_by_word(\"집\")"
   ]
  },
  {
   "cell_type": "code",
   "execution_count": 59,
   "metadata": {},
   "outputs": [
    {
     "data": {
      "text/html": [
       "<div>\n",
       "<style scoped>\n",
       "    .dataframe tbody tr th:only-of-type {\n",
       "        vertical-align: middle;\n",
       "    }\n",
       "\n",
       "    .dataframe tbody tr th {\n",
       "        vertical-align: top;\n",
       "    }\n",
       "\n",
       "    .dataframe thead th {\n",
       "        text-align: right;\n",
       "    }\n",
       "</style>\n",
       "<table border=\"1\" class=\"dataframe\">\n",
       "  <thead>\n",
       "    <tr style=\"text-align: right;\">\n",
       "      <th></th>\n",
       "      <th>text</th>\n",
       "      <th>tokenized</th>\n",
       "      <th>noun</th>\n",
       "    </tr>\n",
       "  </thead>\n",
       "  <tbody>\n",
       "    <tr>\n",
       "      <th>0</th>\n",
       "      <td>6살 남아 입니다 회사 복직 후 3살부터 주중에는 외할머니댁에서 2살 4살 터울의 ...</td>\n",
       "      <td>[6, 살, 남, 아, 입, 니, 다, 회사, 복직, 후, 3, 살, 부터, 주, ...</td>\n",
       "      <td>[살, 회사, 복직, 후, 살, 주, 중, 외할머니, 댁, 살, 살, 터울, 사촌,...</td>\n",
       "    </tr>\n",
       "    <tr>\n",
       "      <th>1</th>\n",
       "      <td>요즘 들어 아빠가 아이에게 다가가려고 하면 엄마한테 갈 거야 하면서 엄마를 유독 찾...</td>\n",
       "      <td>[요즘, 들, 어, 아빠, 가, 아이, 에게, 다가가, 려고, 하, 면, 엄마, 한...</td>\n",
       "      <td>[아빠, 아이, 엄마, 거, 엄마, 전, 정도, 엄마, 아빠, 거부, 엄마, 눈, ...</td>\n",
       "    </tr>\n",
       "    <tr>\n",
       "      <th>2</th>\n",
       "      <td>둘째가 태어나면 첫째가 힘들 거라는 건 예상하고 있었지만 툭하면 삐치고 울고 좀처럼...</td>\n",
       "      <td>[둘째, 가, 태어나, 면, 첫째, 가, 힘들, 거, 라는, 건, 예상, 하, 고,...</td>\n",
       "      <td>[둘째, 첫째, 거, 건, 예상, 때, 엄마, 껌, 딱지, 첫째, 외출, 때, 제외...</td>\n",
       "    </tr>\n",
       "    <tr>\n",
       "      <th>3</th>\n",
       "      <td>20개월 남아가 있고 임신 8개월차로 두 아기의 엄마입니다 첫 아이는 잠자리 독립을...</td>\n",
       "      <td>[20, 개월, 남아, 가, 있, 고, 임신, 8, 개월, 차, 로, 두, 아기, ...</td>\n",
       "      <td>[개월, 남아, 임신, 개월, 차, 아기, 엄마, 아이, 잠자리, 독립, 생후, 일...</td>\n",
       "    </tr>\n",
       "    <tr>\n",
       "      <th>4</th>\n",
       "      <td>14개월 남자 아기인데 심하게 깨무는 버릇이 있어요 전에는 졸릴 때 주로 물곤 했는...</td>\n",
       "      <td>[14, 개월, 남자, 아기, 인데, 심하, 게, 깨무, 는, 버릇, 이, 있, 어...</td>\n",
       "      <td>[개월, 남자, 아기, 버릇, 전, 때, 이제, 자기, 지대, 때, 떼, 상대방, ...</td>\n",
       "    </tr>\n",
       "    <tr>\n",
       "      <th>...</th>\n",
       "      <td>...</td>\n",
       "      <td>...</td>\n",
       "      <td>...</td>\n",
       "    </tr>\n",
       "    <tr>\n",
       "      <th>19502</th>\n",
       "      <td>토끼띠의 단점</td>\n",
       "      <td>[토끼띠, 의, 단점]</td>\n",
       "      <td>[토끼띠, 단점]</td>\n",
       "    </tr>\n",
       "    <tr>\n",
       "      <th>19503</th>\n",
       "      <td>국가영어능력평가 준비 올해부터 본격적으로 시행되는 국가영어능력평가에 대해서 소개해드...</td>\n",
       "      <td>[국가, 영어, 능력, 평가, 준비, 올해, 부터, 본격, 적, 으로, 시행, 되,...</td>\n",
       "      <td>[국가, 영어, 능력, 평가, 준비, 올해, 본격, 시행, 국가, 영어, 능력, 평...</td>\n",
       "    </tr>\n",
       "    <tr>\n",
       "      <th>19504</th>\n",
       "      <td>워킹맘이든 전업맘이든 아이들에게 관심과 사랑을 쏟아야 하는 것은 분명합니다 평소 아...</td>\n",
       "      <td>[워킹, 맘, 이, 든, 전업, 맘, 이, 든, 아이, 들, 에게, 관심, 과, 사...</td>\n",
       "      <td>[워킹, 맘, 전업, 맘, 아이, 관심, 사랑, 것, 평소, 아이, 생각, 것, 관...</td>\n",
       "    </tr>\n",
       "    <tr>\n",
       "      <th>19505</th>\n",
       "      <td>검사결과 지민이의 강점지능은 언어지능과 음악지능였습니다 엄마는 지민이가 집에서나 학...</td>\n",
       "      <td>[검사, 결과, 지민, 이, 의, 강점, 지능, 은, 언어, 지능, 과, 음악, 지...</td>\n",
       "      <td>[검사, 결과, 지민, 강점, 지능, 언어, 지능, 음악, 지능, 엄마, 지민, 집...</td>\n",
       "    </tr>\n",
       "    <tr>\n",
       "      <th>19506</th>\n",
       "      <td>진로상담센터 교육 컨설팅 아이들의 진로는 중·고등학생 때 뿐 아니라 초등학생때부터 ...</td>\n",
       "      <td>[진로, 상담, 센터, 교육, 컨설팅, 아이, 들, 의, 진로, 는, 중, ·, 고...</td>\n",
       "      <td>[진로, 상담, 센터, 교육, 컨설팅, 아이, 진로, 중, 고등학생, 때, 뿐, 초...</td>\n",
       "    </tr>\n",
       "  </tbody>\n",
       "</table>\n",
       "<p>19507 rows × 3 columns</p>\n",
       "</div>"
      ],
      "text/plain": [
       "                                                    text  \\\n",
       "0      6살 남아 입니다 회사 복직 후 3살부터 주중에는 외할머니댁에서 2살 4살 터울의 ...   \n",
       "1      요즘 들어 아빠가 아이에게 다가가려고 하면 엄마한테 갈 거야 하면서 엄마를 유독 찾...   \n",
       "2      둘째가 태어나면 첫째가 힘들 거라는 건 예상하고 있었지만 툭하면 삐치고 울고 좀처럼...   \n",
       "3      20개월 남아가 있고 임신 8개월차로 두 아기의 엄마입니다 첫 아이는 잠자리 독립을...   \n",
       "4      14개월 남자 아기인데 심하게 깨무는 버릇이 있어요 전에는 졸릴 때 주로 물곤 했는...   \n",
       "...                                                  ...   \n",
       "19502                                            토끼띠의 단점   \n",
       "19503  국가영어능력평가 준비 올해부터 본격적으로 시행되는 국가영어능력평가에 대해서 소개해드...   \n",
       "19504  워킹맘이든 전업맘이든 아이들에게 관심과 사랑을 쏟아야 하는 것은 분명합니다 평소 아...   \n",
       "19505  검사결과 지민이의 강점지능은 언어지능과 음악지능였습니다 엄마는 지민이가 집에서나 학...   \n",
       "19506  진로상담센터 교육 컨설팅 아이들의 진로는 중·고등학생 때 뿐 아니라 초등학생때부터 ...   \n",
       "\n",
       "                                               tokenized  \\\n",
       "0      [6, 살, 남, 아, 입, 니, 다, 회사, 복직, 후, 3, 살, 부터, 주, ...   \n",
       "1      [요즘, 들, 어, 아빠, 가, 아이, 에게, 다가가, 려고, 하, 면, 엄마, 한...   \n",
       "2      [둘째, 가, 태어나, 면, 첫째, 가, 힘들, 거, 라는, 건, 예상, 하, 고,...   \n",
       "3      [20, 개월, 남아, 가, 있, 고, 임신, 8, 개월, 차, 로, 두, 아기, ...   \n",
       "4      [14, 개월, 남자, 아기, 인데, 심하, 게, 깨무, 는, 버릇, 이, 있, 어...   \n",
       "...                                                  ...   \n",
       "19502                                       [토끼띠, 의, 단점]   \n",
       "19503  [국가, 영어, 능력, 평가, 준비, 올해, 부터, 본격, 적, 으로, 시행, 되,...   \n",
       "19504  [워킹, 맘, 이, 든, 전업, 맘, 이, 든, 아이, 들, 에게, 관심, 과, 사...   \n",
       "19505  [검사, 결과, 지민, 이, 의, 강점, 지능, 은, 언어, 지능, 과, 음악, 지...   \n",
       "19506  [진로, 상담, 센터, 교육, 컨설팅, 아이, 들, 의, 진로, 는, 중, ·, 고...   \n",
       "\n",
       "                                                    noun  \n",
       "0      [살, 회사, 복직, 후, 살, 주, 중, 외할머니, 댁, 살, 살, 터울, 사촌,...  \n",
       "1      [아빠, 아이, 엄마, 거, 엄마, 전, 정도, 엄마, 아빠, 거부, 엄마, 눈, ...  \n",
       "2      [둘째, 첫째, 거, 건, 예상, 때, 엄마, 껌, 딱지, 첫째, 외출, 때, 제외...  \n",
       "3      [개월, 남아, 임신, 개월, 차, 아기, 엄마, 아이, 잠자리, 독립, 생후, 일...  \n",
       "4      [개월, 남자, 아기, 버릇, 전, 때, 이제, 자기, 지대, 때, 떼, 상대방, ...  \n",
       "...                                                  ...  \n",
       "19502                                          [토끼띠, 단점]  \n",
       "19503  [국가, 영어, 능력, 평가, 준비, 올해, 본격, 시행, 국가, 영어, 능력, 평...  \n",
       "19504  [워킹, 맘, 전업, 맘, 아이, 관심, 사랑, 것, 평소, 아이, 생각, 것, 관...  \n",
       "19505  [검사, 결과, 지민, 강점, 지능, 언어, 지능, 음악, 지능, 엄마, 지민, 집...  \n",
       "19506  [진로, 상담, 센터, 교육, 컨설팅, 아이, 진로, 중, 고등학생, 때, 뿐, 초...  \n",
       "\n",
       "[19507 rows x 3 columns]"
      ]
     },
     "execution_count": 59,
     "metadata": {},
     "output_type": "execute_result"
    }
   ],
   "source": [
    "df"
   ]
  },
  {
   "cell_type": "markdown",
   "metadata": {},
   "source": [
    "## Doc2Vec"
   ]
  },
  {
   "cell_type": "code",
   "execution_count": 60,
   "metadata": {},
   "outputs": [],
   "source": [
    "from gensim.models.doc2vec import Doc2Vec, TaggedDocument"
   ]
  },
  {
   "cell_type": "code",
   "execution_count": 61,
   "metadata": {},
   "outputs": [],
   "source": [
    "documents = [TaggedDocument(doc, [i]) for i, doc in enumerate(df['noun'])]"
   ]
  },
  {
   "cell_type": "code",
   "execution_count": 62,
   "metadata": {},
   "outputs": [
    {
     "name": "stdout",
     "output_type": "stream",
     "text": [
      "CPU times: user 42.6 s, sys: 1.09 s, total: 43.7 s\n",
      "Wall time: 19.5 s\n"
     ]
    }
   ],
   "source": [
    "%%time\n",
    "doc2vec_model = Doc2Vec(documents, \n",
    "                        vector_size=100, \n",
    "                        window=5, \n",
    "                        min_count=5, \n",
    "                        workers=4)\n",
    "\n",
    "model.save('data/tokmom_doc2vec_only_noun.d2v')"
   ]
  },
  {
   "cell_type": "code",
   "execution_count": 63,
   "metadata": {},
   "outputs": [
    {
     "data": {
      "text/plain": [
       "19507"
      ]
     },
     "execution_count": 63,
     "metadata": {},
     "output_type": "execute_result"
    }
   ],
   "source": [
    "len(doc2vec_model.docvecs)"
   ]
  },
  {
   "cell_type": "code",
   "execution_count": 64,
   "metadata": {},
   "outputs": [
    {
     "data": {
      "text/plain": [
       "'6살 남아 입니다 회사 복직 후 3살부터 주중에는 외할머니댁에서 2살 4살 터울의 사촌 형 누나와 함께 자랐어요 금요일 저녁에 데려와 주말에는 엄마 아빠와 생활하고 있구요 7세가 되는 내년이라도 아이를 데려오자는 아이 아빠의 의견과 유치원과 태권도 등 패턴이 적응되었고 형 누나들과 더 자랄 수 있게 초등학교 입학시기에 데리고 가는게 낫지 않겠냐는 외할머니 의견이 다릅니다 6세가 된 아이의 교육과 생활습관 형성이 이제는 할머니댁에서는 어려울 것 같다는 생각이 들고 하루하루 생각이 크고 자라는 아이를 주말에만 보는 저 또한 놀랄 때가 많거든요 하루라도 빨리 데려와야 할까요 초등학교 입학시기에 데려오는 편이 아이에게 좋을까요 매우 어려운 질문입니다 먼저 아이가 현재 잘 적응하고 있고 주변 양육환경 역시 아이가 성장하기에 별다른 문제가 없다 하니 고민이 더욱 크시리라 생각됩니다 우선 되어야하는 것은 아이의 의견입니다 6살이면 이러한 문제에 대하여 스스로 생각하고 의견을 전달할 수 있으므로 먼저 아이의 의견을 들어 주시기 바랍니다 아이는 부모님과 함께 사는 것이 좋습니다 그러나 부모님께서 두분 모두 직장에 나가시니 유치원 하원 후 아이를 돌보아 주실 분이 현재 함께 생활하고 계시는 할머님이시면 재고의 여지 없이 데려 오시는 것을 권유 드립니다 그러나 하원 후 할머님의 돌봄이 여의치 못할 경우 돌보아 줄 대상이 당분간 할머님댁에서 시간제로나마 아이를 돌보아 주어 아이와의 상호작용을 충분히 가진 후에 아이가 집으로 왔을 때 유치원 하원 후에 계속 돌보아 줄 수 있으면 좋습니다 이와 같이 먼저 아이가 집으로 온 후 부모님께서 퇴근하시기 전 까지 돌보아 줄 사람을 알아보시고 데려 오시는 것이 좋다는 생각이 듭니다'"
      ]
     },
     "execution_count": 64,
     "metadata": {},
     "output_type": "execute_result"
    }
   ],
   "source": [
    "df['text'][0]"
   ]
  },
  {
   "cell_type": "code",
   "execution_count": 65,
   "metadata": {
    "scrolled": false
   },
   "outputs": [
    {
     "name": "stdout",
     "output_type": "stream",
     "text": [
      "Input Document\n",
      "젖병을 떼야 하는 이유로는 첫째 우식증을 예방하고 둘째 젖병 무는 어린 아기의 습관을 서서히 고쳐 나가기 위함 입니다 지금은 단지 습관에 의해 젖병을 물고 있을 뿐이므로 음식은 숟가락으로 먹이고 우유는 컵으로 마시게 하면서 젖병을 뗄 수 있도록 해야 합니다 잠잘 때 젖병을 물고 자는 것은 무의식적인 행동입니다 그러나 너무 친숙해진 습관을 갑자기 금지시킨다면 아기 심리에 큰 충격을 줄 수도 있으므로 서서히 젖병 속의 우유를 희석시키는 방법을 사용합니다 예를 들어 평상시에 우유를 200 mL 먹였다면 우유 180 mL에 물 20 mL를 섞어서 젖병에 넣어줍니다 점차 물의 농도를 높여가다가 아기가 이를 느끼고 부정적인 반응을 보일 때는 잠시 정지하였다가 다시 희석의 강도를 높여봅니다 그러다 보면 아기는 점차 희석된 우유에 흥미를 잃어 스스로 젖병을 내던지게 될 것입니다 아기에 따라 스스로 정서적 안정을 얻는 습관을 하나씩 가지고 있습니다 아기 때의 이불을 늘 잡고 있다거나 엄마의 머리카락을 잡아야 잠을 잔다거나 하는 습관은 고치기가 쉽지 않은 일입니다 젖병도 그런 습관의 일종일 수 있습니다 젖병을 물고 있는 것이 정서적인 이유라면 젖병 떼기를 강요하지 않습니다 하루 2 3번은 젖병을 물고 있게 하다가 점차 아기가 성장하면서 젖병 무는 것이 자신에게는 어울리지 않는다는 것을 엄마가 끊임없이 설득하고 아이 스스로도 그렇게 느껴 자연스레 젖병을 멀리하게 합니다 가능한 컵이나 빨대컵을 활용하고 노리개 젖꼭지 등을 대체하여 사용해 볼 수도 있습니다\n",
      "Most similar Documents\n",
      "idx: 14146 similarity: 0.669\n",
      "모든 아이들은 만 2세까지 빠는 습관을 가지고 있다 아이들이 무엇인가를 빠는 이유는 무엇일까 스스로를 달래기 위함이다 젖을 물리면 아이들은 자신의 손가락이나 다른 물건을 빨면서 불안한 마음을 달래게 되는 것이다 이럴 경우 사용하는 것이 바로 공갈젖꼭지 일명 뽁뽁이이다 하지만 초보 엄마는 언제 공갈젖꼭지를 물려야 하는지 언제 떼야 하는지 또는 떼는 시기가 지났음에도 여전히 계속 빠는 습관이 있다면 어떻게 해야 하는지 궁금하다 초보 부모를 위한 공갈젖꼭지에 대한 궁금증을 알아보자공갈젖꼭지 물릴까 말까아이들에게 빨기는 중요한 놀이 중 하나이며 이런 습관을 통해 심리적 안정감을 얻는 것은 물론 통증을 가라앉혀 주는 장점이 있다 중요한 포인트는 빠느냐 안 빠느냐의 문제가 아이라 무엇을 빠느냐이다 아기들은 손가락을 빠는 습관이 있거나 이불이나 베개커버 등 물건을 빠는 아이들도 있다 또한 플라스틱병에 과일 주스를 넣고 종일 빠는 아이들도 있다 하지만 플라스틱병 과일 주스는 아이의 이가 상하는 것은 물론 필요 이상의 당분을 섭취하게 되어 설사를 하거나 소아비만의 원인이 되기도 한다그러므로 무엇을 빠는가가 중요한 것이다 플라스틱 병이나 아이 본인의 손가락을 빠는 것보다는 공갈젖꼭지를 빠는 것이 더 좋다 그 이유는 무엇일까 첫째 손가락을 빨게 되면 위턱이 변형될 수 있고 심하면 아래턱도 변형되어 부정교합이 될 수 있다 오히려 공갈젖꼭지가 턱관절 변형 가능성이 더 적다두 번째 공갈젖꼭지 대신 손가락을 빨게 되면 손가락이나 손톱 주위에 피부염이 생길 위험이 있다 그러므로 손가락을 빠는 것보다 공갈젖꼭지가 손가락 피부를 보호하는 차원에서도 더 좋은 방법이다공갈젖꼭지 언제 물리고 뗄까아이의 부정교합이 되는 것을 막으려면 생후 12주부터 공갈젖꼭지를 물리는 것이 좋다 보통 생후 67개월이 되면 빠는 욕구가 줄어들면서 횟수가 서서히 줄게 된다 문제는 아이가 공갈젖꼭지에 대한 의존도가 높은 경우이거나 너무 일찍 떼어 빨기 욕구가 충족되지 못한 아이가 손가락 빨기에 집착하는 경우이다그러므로 생후 6개월까지는 아이가 빨고 싶어 할 때 편하게 사용하게 하고 그 이후에 공갈젖꼭지를 찾는다 할지라도 큰 문제가 없으므로 억지로 무리해서 끊을 필요는 없다 단 돌 이후까지 젖꼭지를 떼지 못하면 이유식 진행에 문제가 생길 수 있고 인지발달과 함께 고집이 생기는 시기이기 때문에 더 힘들어질 수 있다 그러므로 12주 정도 여유 시간을 두고 서서히 끊도록 유도하는 것이 매우 중요하다공갈젖꼭지 어떻게 뗄까공갈젖꼭지는 갑자기 그리고 억지로 떼어서는 안된다 애착이 형성된 젖꼭지를 갑자기 떼면 아이가 스트레스를 받아 손가락이나 다른 물건에 집착할 수 있기 때문이다 자연스럽게 떼려면 어떻게 하면 될까엄마가 편해지기 위해 아이가 보챌 때마다 공갈젖꼭지를 물리거나 잠을 재우려는 의도로 밤새 물린다면 습관이 되어 젖꼭지를 떼기 더욱 어려워진다 그러므로 공갈젖꼭지를 오랜 시간 물리지 않게 해야 한다아이는 심심하거나 불편할 때 혹은 불안감이 들 때 젖꼭지를 찾는 일이 많다 그러므로 아이에게 책을 읽어주거나 산책을 하는 등 아이가 좋아할 만한 행동을 찾아 함께 하면서 다른 곳에 관심을 두도록 유도하면 젖꼭지를 떼는 데 도움 된다공갈젖꼭지를 목에 걸고 다니면 쉽게 만질 수 있는 위치에 있어 필요 이상으로 자주 빨게 되면서 아이의 의존도가 높아진다 또한 목줄로 인한 안전사고의 위험도 있고 공기 중에 노출되면서 비위생적일 수 있다아이는 부모의 사랑이나 위안이 필요할 때 공갈젖꼭지를 빨면서 스스로를 달래기 때문에 공갈젖꼭지를 떼도록 하는 가장 좋은 방법은 부모의 사랑으로 아이가 심리적 안정을 찾도록 도와주는 것이다 아이가 젖꼭지를 찾을 때마다 조금 더 신경 써서 안아 주고 스킨십을 해 주고 함께 놀아주는 배려가 필요하다\n",
      "idx: 15222 similarity: 0.65\n",
      "7개월 된 여자 아기인데 생후 3개월 되던 때부터 엄지손가락을 빨기 시작하더니 요즘에는 젖병을 입에서 떼기가 무섭게 손가락을 가져가요 손가락을 빼면 화를 내고 이리저리 고개를 돌려 손가락을 찾고 빨아야만 잠이 듭니다 저희 아기는 생후 50일도 안 돼서 주먹을 빨더니 요즘은 손가락을 넣고 쩝쩝 소리까지 내가며 맛있게 빨아댑니다 아기가 좋아하는 것 같아서 그냥 놔두기는 하는데 괜찮을까요 초보 엄마가 육아 카페에 올린 아기의 손가락 빨기에 대한 걱정의 글이다 이렇듯 많은 아기가 성장 과정에서 손가락을 입에 가득 넣고 빨거나 엄지 또는 검지만 빨기도 하는데 초보 엄마는 이러한 아기의 습관 앞에서 으레 당황하게 마련이다 아기가 손가락을 빨면 손가락 모양이 변하진 않을지 구강 구조에 영향을 주지는 않을지 하는 걱정과 함께 직장맘이거나 피치 못할 사정으로 남의 손에 맡겨야 하는 엄마는 아기가 엄마에 대한 애정 결핍과 욕구불만으로 손을 빠는 것은 아닐지 죄책감에 사로잡히기도 한다 아기가 손을 빠는 습관은 이래저래 엄마에게는 골칫거리가 되는 셈 엄마의 유방 젖병의 젖꼭지나 어떤 부드러운 물체로 아기의 볼을 살짝 건드리면 아기는 그 물체를 향해 입을 벌리고 머리를 돌리는 반사 행동을 보인다 이는 신생아가 생존을 위해 젖꼭지를 찾아 젖을 먹으려고 하는 행동으로 젖 찾기 반사 혹은 루팅 반사라고 한다 모유 냄새가 나는 쪽으로 얼굴과 입을 돌려서 먹으려는 행동도 이러한 반사 행동의 하나다 또 아기는 젖을 빠는 힘이 강력해 엄마의 젖이 다 비워질 때까지 빨 수 있다 이렇듯 아기의 빨기 본능은 말 그대로 생존 본능이다 젖을 먹고 살아야 하는 본능이 작용한 것 이러한 본능이 잦은 반복으로 인해 습관이 되고 이 습관이 아기의 손가락 빨기로 이어지는 것이다 한 연구 보고에 의하면 13세에 40 35세에 33 5세 이후에도 25가 손가락을 빤다고 한다 손가락 빨기는 아기가 좀 더 편안한 상태를 유지하기 위해 행하는 습관 중 하나다 하지만 아기의 손가락 빨기 습관은 틱장애 같은 문제일 수도 있으므로 다른 습관성 행동은 없는지 살피는 것이 중요하다 계속해서 손가락을 빨면 치아 배열에 지장을 주고 정서적으로나 사회적으로 장애가 생길 수 있으므로 격려와 함께 적절한 보상으로 다독여주는 것이 좋다 앞서 말했듯이 아기는 자신의 불안한 심리 상태를 좀 더 편안하고 안정되게 하기 위해 손가락을 빤다 전문가들은 이렇게 일정 월령의 아기가 손가락을 빠는 습관은 자연스러운 현상이라고 이야기한다 아기는 태아 시기인 임신 28주 무렵부터 손가락을 빨기 시작하는데 이런 행동은 태어나 젖을 먹으면서도 계속되며 일반적으로 모유를 먹는 아기보다 분유를 먹는 아기에게 더 많이 나타난다 분유를 먹는 아기는 모유를 먹는 아기보다 훨씬 힘을 덜 들이고 우유를 먹을 수 있어 빨기 욕구가 더 강하게 나타나기 때문이다 아기는 손가락을 빨면서 안정감과 편안함을 느낀다 손가락을 빠는 버릇은 때가 되면 점점 사라지므로 억지로 제지할 필요는 없다 하지만 손가락 빨기는 분명 위생상 좋지 않으며 치아 배열에도 영향을 끼친다 습관이 지속되면 손가락에 굳은살이 생기거나 염증이 생기기도 한다 생후 6개월이 지나도 아기가 손가락을 계속 빤다면 왜 아기가 손가락을 빨고 있는지 생각해봐야 한다 대개 아기는 심심하거나 부모의 관심을 얻고 싶을 때 손가락을 빤다 따라서 이런 아기의 심리를 파악하고 나서 대처하는 것이 순서다 이를 방관하면 아기가 놀이의 즐거움을 통해 얻을 수 있는 중요한 자극을 상실하는 것과 같기 때문이다 일반적으로 아기가 손가락을 빠는 버릇은 활동량이 많아지거나 무언가에 집중하는 34세가 되면 자연스럽게 없어지지만 그렇지 않을 때는 강압적으로 아이의 행동을 제지하기보다는 아이가 손가락을 빠는 원인이 무엇인지 살피고 그 원인을 없애주는 것이 옳다 아이만이 알 수 있는 눈빛이나 미소를 보내 자신도 모르게 하는 행동을 자각할 수 있도록 도움을 주는 것이 좋다 따라서 아기가 어리다면 크게 걱정할 필요는 없다 하지만 어느 정도 자란 아이가 손가락을 빨아댄다면 경우가 좀 다르다 영구치가 나기 시작하는 만 5세쯤에는 손가락을 빠는 버릇이 새로 나는 영구치에 나쁜 영향을 미칠 수 있기 때문이다 손가락 대신 빨 수 있는 대치물을 준다 생후 6개월 이후에도 아기가 심각할 정도로 손가락을 빤다고 판단될 때는 손가락 대신 공갈 젖꼭지로 대체해주는 것이 좋다 가끔 엄마 중에 공갈 젖꼭지가 아기에게 안 좋은 영향을 미칠 수 있다고 생각하는데 미국 소아학회에서는 아기가 공갈 젖꼭지를 빨아도 의학적으로나 심리적으로 아무런 문제가 생기지 않는다고 밝히고 있다 또는 이가 나기 시작하면 간지러워 손을 빨 수도 있으므로 이가 나려고 하는 것인지 살펴보고 치아 발육기를 물려주는 것도 한 방법이다 부드러운 방법으로 지적해준다 아기가 손가락을 빤다고 해서 억지로 손가락을 잡아 빼거나 못하게 하면 아기는 입술을 빠는 버릇으로 욕구를 채우려고 할 수 있다 즉 나쁜 습관의 강압적인 중단이 더 나쁜 버릇으로 이어질 수 있으므로 주의하도록 한다 아기가 손가락을 입에 가져가면 다정한 목소리로 손가락이라고 지적하거나 손을 빠는 아기와 눈이 마주쳤을 때 고개를 절레절레 흔들어서 안 된다는 표시를 하면 아기는 자기의 버릇을 인식하게 된다 다른 일에 흥미를 갖게 한다 아기가 손가락을 빨고 있으면 아기의 주의를 끌 다른 흥밋거리를 제공한다 이를테면 아기가 좋아하는 그림책을 가져와 자 엄마랑 그림책 볼까 하면서 슬쩍 아기의 손에 책을 쥐어준다 아기는 그림책을 보는 동안 손가락 빠는 것을 잊어버릴 것이다 엄마와 함께 산책을 나가거나 그림을 그려보거나 소리 나는 장난감을 가지고 놀게 하는 것도 좋은 방법이다 만약 잘 때만 허전함을 느껴 손가락을 빠는 아기라면 잠이 잘 들도록 목욕 후 엄마가 노래를 불러주거나 재미있는 이야기를 들려준다 요 엄마 젖꼭지 또는 젖병 젖꼭지와 모양이 같고 입에 물 수 있도록 만든 젖꼭지를 공갈 젖꼭지라고 한다 공갈 젖꼭지는 엄마들이 아기의 울음을 달래고자 입에 물려주었던 것이 최근 아기의 빨려는 욕구를 충족시킨다는 연구 결과가 발표되면서 평상시에 사용하는 엄마가 꽤 많이 늘었다 습관이 되면 잠자리에 들 때조차 입에 물고 자려 한다 대물 애착의 애착물과는 달리 엄마가 습관적으로 물려주는 것으로 신체 접촉만큼의 포만감과 욕구가 충족되어 아기의 심리적 안정에 좋은 영향을 미친다고 한다 생후 6개월이 지나면 아기의 빨고자 하는 욕구는 줄어든다 그 이후에 공갈 젖꼭지를 빠는 것은 이를 대체할 만한 흥미로운 자극을 받지 못해서라고 볼 수 있다 공갈 젖꼭지에 집착하는 것이 심각한 문제가 되지는 않지만 아기의 심리적인 욕구불만을 표현하는 신호일 수 있으므로 부모는 세심한 관심과 사랑으로 아기에게 신경 써야 할 것이다 특히 중이염이 잦은 아기에게는 월령이 낮더라도 공갈 젖꼭지를 물려서는 안 된다 귀 안의 이관에 음압이 작용해 중이염에 쉽게 걸릴 수 있기 때문이다 떼는 시기 공갈 젖꼭지에 익숙해진 아기는 애착물의 경우와 같이 공갈 젖꼭지를 입에서 놓지 않으려고 한다 주로 우유를 먹는 아기가 더 많은 집착을 보이는데 이는 젖병으로 먹는 우유는 아기가 빨려고 하는 욕구를 충분히 충족하지 못한 채 없어져버리는 것도 어느 정도 원인이 된다 일부 전문가들은 공갈 젖꼭지를 심하게 빨면 이가 곧바로 나오는 것을 방해하고 입 모양이 밉게 된다고 주장하기도 하지만 아주 심한 경우가 아니면 큰 지장이 없다는 의견이 대세다 그렇지만 습관이 되거나 심하게 물면 구강 발달이나 치아 발달에 좋지 않으므로 두 돌 전에 끊는 것이 바람직하다 이렇게 떼세요 공갈 젖꼭지를 떼기 위해서는 가능한 한 아기와 많이 놀아주고 흥미 있는 다른 놀이를 할 수 있도록 끊임없이 신경 써주어야 한다 아기를 혼내거나 지나친 걱정을 보이는 것은 아기에게 스트레스를 주어 빨기에 더 집착할 수 있다 만 4세가 지나도 빨기가 지속되면 적극적으로 치료를 해야 하는데 대화를 통해 왜 빨면 안 되는지 이유를 설명해주고 손가락이나 집착하는 공갈 젖꼭지에 약을 바르거나 장치를 붙이는 방법을 쓰기도 한다 특별한 이유가 없는 한 이유식을 먹고 고형 음식을 먹게 되면 더 이상 빨지 않는 경우가 대부분이다 특히 동생이 생긴 아이에겐 공갈 젖꼭지는 아기만 사용하는 것이라고 일러주면 쉽게 뗄 수 있다 돌이 지난 아이가 젖병을 떼지 못하고 지속적으로 찾는 행동은 못하게 해야 한다고 전문가들은 못박아 말한다 아이가 젖병을 찾는 이유는 배가 고파서라기보다는 빨고자 하는 욕구를 충족하고 싶기 때문이다 하지만 아이가 젖병을 통해 심리적 안정감을 찾는 경우는 극히 드물다고 한다 떼는 시기 첫돌이 지나면 반드시 젖병을 떼야 하는데 젖병을 제 시기에 떼지 못하면 이유 과정에서 영양 불균형 등의 문제가 나타날 수 있고 지나치게 의존하려는 경향 때문에 정서적으로 나쁜 영향을 미친다 또 젖병을 물고 자는 경우가 많아 치아 건강이 나빠진다 그리고 플라스틱 젖병은 환경호르몬의 나쁜 영향을 받을 수 있으므로 일찍 떼는 것이 좋다 젖병으로 우유를 먹다 보면 이관에 가해지는 압력이 커져 중이염에 걸릴 위험이 있고 젖병을 물고 오래 돌아다니다 보면 우유가 상해 배탈이 날 수 있으므로 주의해야 한다 이렇게 떼세요 자연스러운 젖병 떼기는 이유기부터 시작하는 것이 좋은데 바른 이유 연습 과정만 잘 지켜도 젖병 떼기는 자연스럽게 이뤄진다 그러기 위해서는 우선 분유를 끊고 숟가락으로 밥을 먹는 연습을 해야 한다 안전한 빨대컵에 우유나 물을 담아 빨대로 마시는 연습을 시키고 컵이나 숟가락으로 먹었을 때는 아낌없이 칭찬해 아이에게 자부심을 심어준다 젖병 대신 다양한 질감을 느낄 수 있는 치아 발육기를 사용하거나 수유 시간을 제대로 지키는 것도 젖병 떼기에 아주 중요하다\n",
      "idx: 15452 similarity: 0.583\n",
      "아기가 젖병만 보면 입으로 가져가는 이유는 왜일까 배가 고프다는 의사 표현일까 아니면 말랑말랑 젤리 같은 젖꼭지의 느낌이 좋아서일까 혹시 어딘가 아프거나 불만이 있다는 무언의 표현은 아닐까 배가 고프면 엄마를 찾거나 우유를 찾는 것은 당연한 일이겠지만 아기들은 배가 고프지 않아도 젖병을 물고 싶어한다 별다른 이유 없이 손가락이나 공갈 젖꼭지를 빠는 것과 같은 이유에서다 또한 아기들도 스트레스에 의해 지나치게 젖병을 빨려고 하는 경우가 있으며 자신보다 어린 동생이 젖병을 빠는 모습을 보고 따라서 젖병을 빨게 되는 경우도 있다고 한다흔히 엄마들은 모유를 먹지 못한 아기들은 젖병의 젖꼭지를 통해 엄마 젖을 빠는 것과 같은 심리적 안정감을 얻을 수 있을 것이라고 생각한다 하지만 젖병을 통해 아기들이 얻게 되는 심리적 안정감은 극히 일부분에 불과하다는 게 전문가들의 지적이다서울소아과 윤경애 원장은 아기들이 젖병을 지속해서 빠는 이유를 일종의 집착 현상이라고 설명한다 아기들마다 특별히 좋아하는 인형이나 놀잇감이 있듯이 젖병도 그 중의 하나라는 것 항상 새로운 놀잇감을 원하는 아기에게 젖병은 훌륭한 놀잇감이요 친구가 된다 게다가 다른 어떤 것보다 쉽게 빨 수 있고 배고픔도 해소할 수 있으니 아기들이 자주 찾게 될 수밖에 없는 것이다 아기가 젖병으로만 먹으려 한다면 그대로 두어도 되는 것일까 서서히 스스로 젖병을 뗄 수 있게 되지는 않을까 아기가 너무 오랫동안 젖병을 물고 있거나 돌이 지나서도 젖병을 떼지 못했다면 문제는 크다 젖병에 담을 수 있는 음식만 먹다 보니 정상적인 이유 과정이 완료되기 어렵고 영양의 불균형 때문에 발육에도 나쁜 영향을 미치기 때문이다 더 큰 문제는 정서적으로도 좋지 않은 영향을 끼친다는 점이다미국의 한 연구 보고에 의하면 젖병을 늦게 뗀 아기들의 경우 성장해서 알코올 중독 증상이 더 많이 나타났다고 한다 어려서 젖병에 의존하던 성향이 너무 강해 커가면서도 무언가에 의존하게 되고 자신의 스트레스를 먹는 것에서 풀려고 하는 마음에서 오는 현상이라고 젖병을 사용하면서 느끼던 쾌감과 집착적인 행동이 자라서 알코올 중독으로 이어지는 것은 매우 극단적인 사례이지만 대수롭지 않게 여기던 젖병을 빠는 습관 때문에 아기의 정서적 건강이 나빠진다는 건 결코 간과할 수 없는 일이다따라서 윤경애 원장은 아기가 18개월이 되기 전까지는 젖병을 반드시 떼야 한다고 강조한다 아기가 6개월이 되면 반드시 이유식을 시작해 수유량을 점차 줄이고 숟가락 쥐는 법과 컵 사용법을 가르쳐 돌이 되면 젖병 수유를 완전히 끊어야 한다 젖병을 오랫동안 떼지 못했을 때 오는 부작용에는 어떤 것이 있는지 좀더 구체적으로 알아보자 의존적인 성격이 강해진다 젖병을 오랫동안 사용한 아기들의 경우 다른 아기들에 비해 의존적인 성격이 강해진다 어릴 적부터 젖병에 지나치게 집착하고 젖병을 빠는 것에서 정신적인 만족감을 얻었기 때문에 이런 습관을 버리기 어렵다 또 이렇게 한 가지 사물에 집착했던 아기들은 자라면서도 자신이 마음먹은 대로만 하려는 고집스런 성격이 되기 쉽다고 한다 영양 불균형이 초래된다 분유에는 철분이 부족하여 소아 빈혈을 초래하기 쉽다 특히 6개월 이상의 아기에게 분유만 먹이거나 돌이 지난 아기가 분유나 생우유를 주식으로 하고 있다면 빈혈일 가능성이 높다 이 시기가 되면 분유나 생우유는 간식이 되어야 하고 반드시 밥과 반찬을 통해 영양을 섭취해야 한다 또 분유나 생우유를 많이 먹을 경우 소아 비만의 원인이 되기도 한다 통상 젖병을 떼지 못한 아기들은 우유 섭취량이 권장량소아과 의사들은 돌 이후에는 하루 평균 400∼500cc를 권장하고 있다보다 매우 많은 편이어서 영양 불균형을 초래하기 쉽다 치아를 손상시킨다 젖병을 사용하면 아기의 입 안에 우유가 남아 충치의 원인이 된다 간혹 아기의 치아는 영구치가 아니라 유치니까 썩어도 별문제없겠지 하고 생각하는 엄마들이 있으나 이것은 큰 착각이다 치아가 심하게 썩어 치아의 뿌리 부분까지 영향을 미치게 되면 아기의 영구치에까지 나쁜 영향을 준다 또 유치가 나는 시기에 젖병을 계속 물고 있으면 치열도 고르지 못하게 되므로 특히 주의해야 한다 아기의 치아를 깨끗이 닦아준다면 별문제가 되지 않겠지만 아기들의 경우 치아를 고루고루 닦아주는 것은 생각보다 어려운 일이다 환경 호르몬에 노출될 수 있다 환경 호르몬이라 하면 컵라면 용기 등에 쓰이는 일회용 용기에서만 나오는 것이려니 생각하는 경우가 많으나 아기들이 사용하는 플라스틱 젖병 역시 환경 호르몬에 안전할 수는 없다 요즘은 환경 호르몬에 안전한 소재를 이용한 젖병들도 판매되고 있지만 그래도 사용할 때 주의를 기울여야 한다 특히 요즘 엄마들은 전자레인지를 이용해 젖병을 소독하는 경우가 많은데 플라스틱으로 된 젖병을 전자레인지로 오랜 시간 가열하게 되면 환경 호르몬이 방출될 수 있다 비록 미세한 양이라 하더라도 연약한 아기의 입 속에 아구창을 일으킬 수도 있다고 한다 신체 발달에 영향을 준다 쉽게 젖병을 빠는 데 습관이 된 아기들은 다른 음식을 먹을 때도 노력을 들이려 하지 않게 된다 자신이 직접 숟가락을 쥐고 이유식을 먹어야 할 시기에도 젖병 빨기에만 열중한다면 손에 힘을 주고 사물을 쥐는 능력이 다른 아기들에 비해 더디게 된다 중이염의 위험성이 있다 설마 하는 엄마들이 많겠지만 실제로 젖병 떼기가 너무 늦으면 중이염 가능성이 커진다 아기들은 이관이 수평으로 되어 있고 길이가 짧은데다 두꺼워서 누운 채 젖병으로 우유를 먹다 보면 이관에 가해지는 압력이 커져 중이염에 걸릴 위험이 있다 잦은 배탈의 원인이 된다 아기들은 우유를 먹을 때 한 번에 다 먹지 않고 오랫동안 젖병을 들고 돌아다니는 경우가 많다 이런 경우 우유가 상해 무심코 다시 젖병을 빨게 된 아기들은 배탈이 나게 된다 또 빈 젖병을 오래 빨거나 누워서 젖병을 빨게 되면 공기를 많이 먹게 돼 토하거나 배앓이를 하기 쉽다 또한 남긴 우유를 아깝다고 다시 주면 배탈의 원인이 될 수도 있으니 주의해야 한다 보통 4∼5개월부터 시작하여 6개월이 되면 대부분의 아기들에게 시작되는 이유기 이 시기에 올바르게 이유식을 먹이는 연습만 해도 젖병 떼기는 자연스럽게 할 수 있게 된다고 한다 올바른 젖병 떼기는 언제 어떤 과정을 거쳐야 하는 것일까 생후 4∼6개월 이 시기에는 분유 수유 사이에 쌀미음 과일즙 등으로 이유식을 시작할 수 있다 그러나 아기들은 아직 소화 기관이 완벽하게 발달하지 않았으므로 이유식 재료에 주의를 기울여야 한다 아직 숟가락이나 컵을 사용하기에는 이르지만 아기가 이유식을 먹을 때 옆에 두고 친근감을 느끼게 하는 것이 좋다 과일즙을 줄 때 가끔씩 숟가락에 떠서 아기에게 주면 새로운 것에 흥미를 느끼게 될 것이다 생후 6∼12개월 아기에게 본격적으로 이유식을 먹이기 시작하는 6개월이 되면 올바른 식습관을 가르치고 균형 있는 영양을 공급해주는 것이 중요하다 이 시기부터는 분유량을 조금씩 줄이고 아기에게 필요한 영양분을 이유식을 통해 섭취하도록 해줘야 한다 이유식은 묽은 죽에서 밥의 형태로 바꿔가고 점차 다양한 재료를 첨가해주며 횟수를 늘려간다 그러다 돌이 지나면 하루 3번 이상 밥이나 죽을 통해 영양을 섭취하도록 해야 한다 생우유의 경우 영양이 풍부하다고 생각해 지나치게 많이 먹이는 엄마들이 있으나 그러면 아기들이 변비에 걸리기 쉽다 따라서 평상시에 음식을 통해 섬유질을 충분히 섭취하게 해야 한다생후 8개월이 지나면 아기는 점차 손에 힘을 주고 물건을 잡으려고 하는데 이때부터 아기에게 숟가락과 컵 쥐는 연습을 시켜줘야 한다 젖병을 떼는 일이 마음먹었다고 해서 곧바로 이루어지는 일이 아니라 수많은 연습의 결과로 이루어지는 일이기 때문이다 이유식을 줄 때는 항상 그릇에 담아 떠먹여야 하며 조제 이유식을 젖병에 담아 먹이는 것은 매우 좋지 않은 방법이다 또 아기가 숟가락 사용하는 것이 익숙지 않아 옷에 흘리기 쉬우므로 이유식을 줄 때는 턱받이를 해주는 것이 좋다 아기에게 분유를 먹일 때 젖병에 담아주는 횟수를 점차 줄이고 컵에 담아주는 것도 빨리 젖병을 떼게 하는 방법이 된다 무엇보다 이 시기에는 아기에게 다양한 음식을 경험하게 하고 편식하는 습관을 갖지 않도록 하는 것이 중요하다 생후 12∼18개월 본격적으로 젖병을 떼야 하는 시기다 젖병은 돌이 지난 후 늦어도 18개월 이전에는 반드시 떼야 한다 떼는 방법은 간단하다 젖병을 치우고 숟가락과 컵으로 먹이면 그만이다 물론 구체적인 방법은 아기에 따라 다소 다를 수 있으나 이유 과정을 제대로 해왔다면 큰 무리는 없을 것이다 항상 젖병을 물고 다니는 아기와 따라다니며 젖병을 뺏으려는 엄마 아기 키우기에 항상 지쳐 있을 엄마들은 어떻게 해야 아기에게 상처를 주지 않고 효과적으로 젖병을 뗄 수 있을지 고민이다 아기가 좀더 자라서 엄마의 말을 이해하는 나이가 되면 젖병을 쉽게 뗄 수 있다는 의견도 있으나 그때까지 기다리는 것은 올바른 방법이 아니다 젖병 떼기가 늦은 아이들 가운데에는 네 살 다섯 살까지도 젖병혹은 공갈 젖꼭지을 물고 잠드는 사례도 적지 않다 분유 떼기도 병행한다 젖병을 떼기 위해 반드시 거쳐야 하는 과정이 바로 이유離乳다 분유를 지속해서 먹는다면 젖병을 떼는 일이 두 배로 어려워진다 또 분유를 먹이다 보면 분유 맛에 익숙해진 아기들은 다른 음식을 잘 먹으려 들지 않는다 이유기에는 이유식을 잘 먹여야 비로소 밥을 먹는 어린이로 순조롭게 성장해갈 수 있음을 명심하자 컵과 숟가락 연습을 시킨다 아기가 8개월 정도가 되면 어느 정도 자신의 손으로 물건을 쥐는 힘이 생기게 된다 이 시기부터 숟가락 쥐는 연습을 시켜야 적당한 시기에 젖병을 뗄 수 있다 또 아기들은 컵 사용이 익숙지 않아 옷에 자꾸 흘리게 된다고 컵을 사용하지 않는 경우가 있는데 이렇게 자꾸 미루다 보면 아기는 돌이 지나도 컵을 사용하지 못하게 된다 안전한 빨대 컵을 준다 젖병에만 익숙해져 있는 아기들에게 빨대 컵과 알록달록 예쁜 캐릭터 컵을 주는 것도 젖병을 멀리하게 하는 하나의 방법이다 단 어른들이 사용하는 얇고 작은 빨대를 아기에게 주어서는 안 된다 아기들에게는 너무 날카롭고 입 안 깊숙이 넣을 위험성이 있기 때문이다 스스로 컵을 가지고 먹게 되면 아기들은 자립심도 길러지고 흥미도 느끼게 된다 시중에는 아기들이 쉽게 사용할 수 있고 옷에 흘릴 염려도 없는 제품들이 많이 나와 있는데 빠는 부분이 뭉툭하고 둥글게 처리되어 있어 안전하다 아기가 빨대를 잘 사용하지 못한다면 빨대를 이용한 놀이를 통해 빨대에 적응시키는 것도 좋은 방법이다 또 처음에는 빨대 컵을 사용하다가 점차 시간이 지나면 일반 컵을 사용할 수 있게 엄마가 조절해주어야 한다 수유 시간을 정확하게 지킨다 수유 시간을 정확히 지키고 올바른 식습관을 들여주는 것도 무엇보다 중요하다 특히 밤중 수유는 반드시 끊어야 한다 아기가 6개월 정도 되면 치아가 나기 시작하는데 충치의 원인이 밤중 수유에서 시작되는 경우가 많기 때문이다 또 밤중에 잠에서 반쯤 깨어 먹는 일이 잦아지면 아기의 성장 호르몬 분비에도 지장을 주게 된다 음식을 먹을 시간이 되면 아기를 식탁 의자에 앉히거나 어른들이 먹는 시간에 맞춰 함께 음식을 먹게 하는 것도 좋은 방법이 된다 수유 시간 사이에 아기가 좋아하는 주스나 보리차를 먹이는 것도 좋다 그 밖에 반드시 젖병으로 먹여야 한다면 엄마가 아기를 안고 먹이는 것이 좋다 엄마가 안아주게 되면 아기가 젖병에 집착하는 성향이 줄어들기 때문 또 아기가 숟가락이나 컵으로 먹었을 때 칭찬해주는 것도 반드시 필요하다 젖병 젖꼭지를 빠는 대신에 다양한 질감을 느낄 수 있는 치아 발육기를 이용하는 것도 좋고 재미있게 생긴 장난감을 주면 당연히 젖병에 대한 관심이 줄어들게 된다 돌이 지났는데도 아기가 젖병만을 고집할 때는 단호하게 대처해야 한다 먼저 엄마가 마음을 단단히 먹고 젖병을 치운 뒤 숟가락이나 컵으로만 먹인다 물론 아기는 떼를 쓰거나 먹지 않는 등 저항을 하게 되지만 그래도 대부분의 아기들은 이틀 정도가 지나면 엄마가 주는 대로 음식을 먹게 된다그러나 간혹 고집이 너무 센 아기는 이런 방법이 먹히지 않을 수도 있다 젖병을 주지 않는다고 해서 아기가 발작을 일으킬 정도의 상황이 벌어진다면 아기의 상태를 지켜본 후 천천히 시도해야 한다 이런 아기들은 자신이 원하는 것을 얻기 전에는 아무것도 먹으려 들지 않기 때문에 필요한 영양분이 부족하지 않게 천천히 젖병 떼기를 시도해야 한다 아울러 이처럼 젖병을 고집하는 데에는 다른 정서적인 문제 때문일 수도 있으므로 전문가의 상담을 받아보는 것도 좋겠다아기가 원하는 젖병을 주지 않으면 욕구 불만이 생기지 않을까 걱정하는 엄마들이 있지만 계속해서 젖병을 물고 있을수록 아기의 고집은 더 세지게 된다 또 젖병을 떼었다가 아기가 울고 보챈다고 해서 다시 젖병을 주게 되면 다음에 다시 젖병을 떼기 위해서는 두 배의 시간과 노력이 필요하다 젖꼭지에 쓴 약을 발라놓거나 아기가 보는 앞에서 젖병 젖꼭지를 잘라버리는 방법을 사용하는 엄마들도 있으나 이런 방법은 바람직하지 않다 아기에게 젖병을 떼는 이유를 설명해준 뒤 젖병을 치우고 단호히 대처하는 정면 돌파의 방법이 어렵지만 가장 효과적인 방법이다\n"
     ]
    }
   ],
   "source": [
    "print(\"Input Document\", df['text'][100], sep=\"\\n\")\n",
    "\n",
    "similar_docs = doc2vec_model.docvecs.most_similar(100)\n",
    "\n",
    "print(\"Most similar Documents\")\n",
    "for idx, similarity in similar_docs[:3]:\n",
    "    print(\"idx:\", idx, \"similarity:\", np.round(similarity, 3))\n",
    "    print(df['text'][idx])"
   ]
  },
  {
   "cell_type": "code",
   "execution_count": 66,
   "metadata": {},
   "outputs": [],
   "source": [
    "df['tokenized_doc'] = df['noun'].apply(lambda x: doc2vec_model.infer_vector(x).astype(float))"
   ]
  },
  {
   "cell_type": "code",
   "execution_count": 67,
   "metadata": {},
   "outputs": [
    {
     "data": {
      "text/html": [
       "<div>\n",
       "<style scoped>\n",
       "    .dataframe tbody tr th:only-of-type {\n",
       "        vertical-align: middle;\n",
       "    }\n",
       "\n",
       "    .dataframe tbody tr th {\n",
       "        vertical-align: top;\n",
       "    }\n",
       "\n",
       "    .dataframe thead th {\n",
       "        text-align: right;\n",
       "    }\n",
       "</style>\n",
       "<table border=\"1\" class=\"dataframe\">\n",
       "  <thead>\n",
       "    <tr style=\"text-align: right;\">\n",
       "      <th></th>\n",
       "      <th>text</th>\n",
       "      <th>tokenized</th>\n",
       "      <th>noun</th>\n",
       "      <th>tokenized_doc</th>\n",
       "    </tr>\n",
       "  </thead>\n",
       "  <tbody>\n",
       "    <tr>\n",
       "      <th>0</th>\n",
       "      <td>6살 남아 입니다 회사 복직 후 3살부터 주중에는 외할머니댁에서 2살 4살 터울의 ...</td>\n",
       "      <td>[6, 살, 남, 아, 입, 니, 다, 회사, 복직, 후, 3, 살, 부터, 주, ...</td>\n",
       "      <td>[살, 회사, 복직, 후, 살, 주, 중, 외할머니, 댁, 살, 살, 터울, 사촌,...</td>\n",
       "      <td>[0.08910741657018661, 0.09750863164663315, 0.4...</td>\n",
       "    </tr>\n",
       "    <tr>\n",
       "      <th>1</th>\n",
       "      <td>요즘 들어 아빠가 아이에게 다가가려고 하면 엄마한테 갈 거야 하면서 엄마를 유독 찾...</td>\n",
       "      <td>[요즘, 들, 어, 아빠, 가, 아이, 에게, 다가가, 려고, 하, 면, 엄마, 한...</td>\n",
       "      <td>[아빠, 아이, 엄마, 거, 엄마, 전, 정도, 엄마, 아빠, 거부, 엄마, 눈, ...</td>\n",
       "      <td>[0.2992932200431824, 0.15961413085460663, 0.42...</td>\n",
       "    </tr>\n",
       "    <tr>\n",
       "      <th>2</th>\n",
       "      <td>둘째가 태어나면 첫째가 힘들 거라는 건 예상하고 있었지만 툭하면 삐치고 울고 좀처럼...</td>\n",
       "      <td>[둘째, 가, 태어나, 면, 첫째, 가, 힘들, 거, 라는, 건, 예상, 하, 고,...</td>\n",
       "      <td>[둘째, 첫째, 거, 건, 예상, 때, 엄마, 껌, 딱지, 첫째, 외출, 때, 제외...</td>\n",
       "      <td>[0.08892737329006195, 0.1796158254146576, 0.29...</td>\n",
       "    </tr>\n",
       "    <tr>\n",
       "      <th>3</th>\n",
       "      <td>20개월 남아가 있고 임신 8개월차로 두 아기의 엄마입니다 첫 아이는 잠자리 독립을...</td>\n",
       "      <td>[20, 개월, 남아, 가, 있, 고, 임신, 8, 개월, 차, 로, 두, 아기, ...</td>\n",
       "      <td>[개월, 남아, 임신, 개월, 차, 아기, 엄마, 아이, 잠자리, 독립, 생후, 일...</td>\n",
       "      <td>[0.03297119215130806, 0.16492007672786713, 0.4...</td>\n",
       "    </tr>\n",
       "    <tr>\n",
       "      <th>4</th>\n",
       "      <td>14개월 남자 아기인데 심하게 깨무는 버릇이 있어요 전에는 졸릴 때 주로 물곤 했는...</td>\n",
       "      <td>[14, 개월, 남자, 아기, 인데, 심하, 게, 깨무, 는, 버릇, 이, 있, 어...</td>\n",
       "      <td>[개월, 남자, 아기, 버릇, 전, 때, 이제, 자기, 지대, 때, 떼, 상대방, ...</td>\n",
       "      <td>[0.08187475055456161, 0.08348076790571213, 0.0...</td>\n",
       "    </tr>\n",
       "    <tr>\n",
       "      <th>...</th>\n",
       "      <td>...</td>\n",
       "      <td>...</td>\n",
       "      <td>...</td>\n",
       "      <td>...</td>\n",
       "    </tr>\n",
       "    <tr>\n",
       "      <th>19502</th>\n",
       "      <td>토끼띠의 단점</td>\n",
       "      <td>[토끼띠, 의, 단점]</td>\n",
       "      <td>[토끼띠, 단점]</td>\n",
       "      <td>[0.006086952984333038, 0.035688772797584534, 0...</td>\n",
       "    </tr>\n",
       "    <tr>\n",
       "      <th>19503</th>\n",
       "      <td>국가영어능력평가 준비 올해부터 본격적으로 시행되는 국가영어능력평가에 대해서 소개해드...</td>\n",
       "      <td>[국가, 영어, 능력, 평가, 준비, 올해, 부터, 본격, 적, 으로, 시행, 되,...</td>\n",
       "      <td>[국가, 영어, 능력, 평가, 준비, 올해, 본격, 시행, 국가, 영어, 능력, 평...</td>\n",
       "      <td>[-0.023202231153845787, 0.09385380148887634, 0...</td>\n",
       "    </tr>\n",
       "    <tr>\n",
       "      <th>19504</th>\n",
       "      <td>워킹맘이든 전업맘이든 아이들에게 관심과 사랑을 쏟아야 하는 것은 분명합니다 평소 아...</td>\n",
       "      <td>[워킹, 맘, 이, 든, 전업, 맘, 이, 든, 아이, 들, 에게, 관심, 과, 사...</td>\n",
       "      <td>[워킹, 맘, 전업, 맘, 아이, 관심, 사랑, 것, 평소, 아이, 생각, 것, 관...</td>\n",
       "      <td>[0.011682785116136074, 0.10789419710636139, 0....</td>\n",
       "    </tr>\n",
       "    <tr>\n",
       "      <th>19505</th>\n",
       "      <td>검사결과 지민이의 강점지능은 언어지능과 음악지능였습니다 엄마는 지민이가 집에서나 학...</td>\n",
       "      <td>[검사, 결과, 지민, 이, 의, 강점, 지능, 은, 언어, 지능, 과, 음악, 지...</td>\n",
       "      <td>[검사, 결과, 지민, 강점, 지능, 언어, 지능, 음악, 지능, 엄마, 지민, 집...</td>\n",
       "      <td>[-0.2181546986103058, 0.12740351259708405, 0.1...</td>\n",
       "    </tr>\n",
       "    <tr>\n",
       "      <th>19506</th>\n",
       "      <td>진로상담센터 교육 컨설팅 아이들의 진로는 중·고등학생 때 뿐 아니라 초등학생때부터 ...</td>\n",
       "      <td>[진로, 상담, 센터, 교육, 컨설팅, 아이, 들, 의, 진로, 는, 중, ·, 고...</td>\n",
       "      <td>[진로, 상담, 센터, 교육, 컨설팅, 아이, 진로, 중, 고등학생, 때, 뿐, 초...</td>\n",
       "      <td>[-0.2728625535964966, -0.05457030609250069, 0....</td>\n",
       "    </tr>\n",
       "  </tbody>\n",
       "</table>\n",
       "<p>19507 rows × 4 columns</p>\n",
       "</div>"
      ],
      "text/plain": [
       "                                                    text  \\\n",
       "0      6살 남아 입니다 회사 복직 후 3살부터 주중에는 외할머니댁에서 2살 4살 터울의 ...   \n",
       "1      요즘 들어 아빠가 아이에게 다가가려고 하면 엄마한테 갈 거야 하면서 엄마를 유독 찾...   \n",
       "2      둘째가 태어나면 첫째가 힘들 거라는 건 예상하고 있었지만 툭하면 삐치고 울고 좀처럼...   \n",
       "3      20개월 남아가 있고 임신 8개월차로 두 아기의 엄마입니다 첫 아이는 잠자리 독립을...   \n",
       "4      14개월 남자 아기인데 심하게 깨무는 버릇이 있어요 전에는 졸릴 때 주로 물곤 했는...   \n",
       "...                                                  ...   \n",
       "19502                                            토끼띠의 단점   \n",
       "19503  국가영어능력평가 준비 올해부터 본격적으로 시행되는 국가영어능력평가에 대해서 소개해드...   \n",
       "19504  워킹맘이든 전업맘이든 아이들에게 관심과 사랑을 쏟아야 하는 것은 분명합니다 평소 아...   \n",
       "19505  검사결과 지민이의 강점지능은 언어지능과 음악지능였습니다 엄마는 지민이가 집에서나 학...   \n",
       "19506  진로상담센터 교육 컨설팅 아이들의 진로는 중·고등학생 때 뿐 아니라 초등학생때부터 ...   \n",
       "\n",
       "                                               tokenized  \\\n",
       "0      [6, 살, 남, 아, 입, 니, 다, 회사, 복직, 후, 3, 살, 부터, 주, ...   \n",
       "1      [요즘, 들, 어, 아빠, 가, 아이, 에게, 다가가, 려고, 하, 면, 엄마, 한...   \n",
       "2      [둘째, 가, 태어나, 면, 첫째, 가, 힘들, 거, 라는, 건, 예상, 하, 고,...   \n",
       "3      [20, 개월, 남아, 가, 있, 고, 임신, 8, 개월, 차, 로, 두, 아기, ...   \n",
       "4      [14, 개월, 남자, 아기, 인데, 심하, 게, 깨무, 는, 버릇, 이, 있, 어...   \n",
       "...                                                  ...   \n",
       "19502                                       [토끼띠, 의, 단점]   \n",
       "19503  [국가, 영어, 능력, 평가, 준비, 올해, 부터, 본격, 적, 으로, 시행, 되,...   \n",
       "19504  [워킹, 맘, 이, 든, 전업, 맘, 이, 든, 아이, 들, 에게, 관심, 과, 사...   \n",
       "19505  [검사, 결과, 지민, 이, 의, 강점, 지능, 은, 언어, 지능, 과, 음악, 지...   \n",
       "19506  [진로, 상담, 센터, 교육, 컨설팅, 아이, 들, 의, 진로, 는, 중, ·, 고...   \n",
       "\n",
       "                                                    noun  \\\n",
       "0      [살, 회사, 복직, 후, 살, 주, 중, 외할머니, 댁, 살, 살, 터울, 사촌,...   \n",
       "1      [아빠, 아이, 엄마, 거, 엄마, 전, 정도, 엄마, 아빠, 거부, 엄마, 눈, ...   \n",
       "2      [둘째, 첫째, 거, 건, 예상, 때, 엄마, 껌, 딱지, 첫째, 외출, 때, 제외...   \n",
       "3      [개월, 남아, 임신, 개월, 차, 아기, 엄마, 아이, 잠자리, 독립, 생후, 일...   \n",
       "4      [개월, 남자, 아기, 버릇, 전, 때, 이제, 자기, 지대, 때, 떼, 상대방, ...   \n",
       "...                                                  ...   \n",
       "19502                                          [토끼띠, 단점]   \n",
       "19503  [국가, 영어, 능력, 평가, 준비, 올해, 본격, 시행, 국가, 영어, 능력, 평...   \n",
       "19504  [워킹, 맘, 전업, 맘, 아이, 관심, 사랑, 것, 평소, 아이, 생각, 것, 관...   \n",
       "19505  [검사, 결과, 지민, 강점, 지능, 언어, 지능, 음악, 지능, 엄마, 지민, 집...   \n",
       "19506  [진로, 상담, 센터, 교육, 컨설팅, 아이, 진로, 중, 고등학생, 때, 뿐, 초...   \n",
       "\n",
       "                                           tokenized_doc  \n",
       "0      [0.08910741657018661, 0.09750863164663315, 0.4...  \n",
       "1      [0.2992932200431824, 0.15961413085460663, 0.42...  \n",
       "2      [0.08892737329006195, 0.1796158254146576, 0.29...  \n",
       "3      [0.03297119215130806, 0.16492007672786713, 0.4...  \n",
       "4      [0.08187475055456161, 0.08348076790571213, 0.0...  \n",
       "...                                                  ...  \n",
       "19502  [0.006086952984333038, 0.035688772797584534, 0...  \n",
       "19503  [-0.023202231153845787, 0.09385380148887634, 0...  \n",
       "19504  [0.011682785116136074, 0.10789419710636139, 0....  \n",
       "19505  [-0.2181546986103058, 0.12740351259708405, 0.1...  \n",
       "19506  [-0.2728625535964966, -0.05457030609250069, 0....  \n",
       "\n",
       "[19507 rows x 4 columns]"
      ]
     },
     "execution_count": 67,
     "metadata": {},
     "output_type": "execute_result"
    }
   ],
   "source": [
    "df"
   ]
  },
  {
   "cell_type": "code",
   "execution_count": null,
   "metadata": {},
   "outputs": [],
   "source": []
  },
  {
   "cell_type": "code",
   "execution_count": null,
   "metadata": {},
   "outputs": [],
   "source": []
  }
 ],
 "metadata": {
  "kernelspec": {
   "display_name": "Python 3",
   "language": "python",
   "name": "python3"
  },
  "language_info": {
   "codemirror_mode": {
    "name": "ipython",
    "version": 3
   },
   "file_extension": ".py",
   "mimetype": "text/x-python",
   "name": "python",
   "nbconvert_exporter": "python",
   "pygments_lexer": "ipython3",
   "version": "3.7.5"
  }
 },
 "nbformat": 4,
 "nbformat_minor": 2
}
