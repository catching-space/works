{
 "cells": [
  {
   "cell_type": "markdown",
   "metadata": {},
   "source": [
    "# word2vec 단어 간 유사도 체크\n",
    "- 최대한 육아를 주제로 한 말뭉치를 모아보았다. (Total 2,755 documents)\n",
    "- 우리가 원하는 의도에 일치하는 단어 간 유사도 결과가 나오는지를 확인하는 것이 목적이다."
   ]
  },
  {
   "cell_type": "markdown",
   "metadata": {},
   "source": [
    "## Import"
   ]
  },
  {
   "cell_type": "code",
   "execution_count": 1,
   "metadata": {},
   "outputs": [],
   "source": [
    "import pandas as pd\n",
    "import numpy as np\n",
    "import re\n",
    "\n",
    "from konlpy.tag import Mecab\n",
    "from konlpy.tag import Komoran\n",
    "from gensim.models import Word2Vec"
   ]
  },
  {
   "cell_type": "markdown",
   "metadata": {},
   "source": [
    "### Datas"
   ]
  },
  {
   "cell_type": "code",
   "execution_count": 2,
   "metadata": {},
   "outputs": [],
   "source": [
    "df1 = pd.read_csv(\"data/maeili.csv\", encoding='utf-8')\n",
    "df2 = pd.read_csv(\"data/baby.csv\", encoding='utf-8')\n",
    "df3 = pd.read_csv(\"data/toys.csv\", encoding='utf-8')\n",
    "df4 = pd.read_csv(\"data/seoulchildcare.csv\", encoding='utf-8')\n",
    "df5 = pd.read_csv(\"data/babynews_DLC.csv\", encoding='utf-8')\n",
    "df6 = pd.read_csv(\"data/ildongfoodis.csv\", encoding='utf-8')\n",
    "df7 = pd.read_csv(\"data/momsmagazine.csv\", encoding='utf-8')\n",
    "df8 = pd.read_csv(\"data/ange.csv\", encoding='utf-8')\n",
    "df9 = pd.read_csv(\"data/babytimes.csv\", encoding='utf-8')\n",
    "df10 = pd.read_csv(\"data/daekyo.csv\", encoding='utf-8')\n",
    "df11 = pd.read_csv(\"data/mom&enfant.csv\", encoding='utf-8')\n",
    "df12 = pd.read_csv(\"data/namyang.csv\", encoding='utf-8')"
   ]
  },
  {
   "cell_type": "markdown",
   "metadata": {},
   "source": [
    "### Concatenate Dataframe"
   ]
  },
  {
   "cell_type": "code",
   "execution_count": 3,
   "metadata": {},
   "outputs": [
    {
     "data": {
      "text/html": [
       "<div>\n",
       "<style scoped>\n",
       "    .dataframe tbody tr th:only-of-type {\n",
       "        vertical-align: middle;\n",
       "    }\n",
       "\n",
       "    .dataframe tbody tr th {\n",
       "        vertical-align: top;\n",
       "    }\n",
       "\n",
       "    .dataframe thead th {\n",
       "        text-align: right;\n",
       "    }\n",
       "</style>\n",
       "<table border=\"1\" class=\"dataframe\">\n",
       "  <thead>\n",
       "    <tr style=\"text-align: right;\">\n",
       "      <th></th>\n",
       "      <th>text</th>\n",
       "    </tr>\n",
       "  </thead>\n",
       "  <tbody>\n",
       "    <tr>\n",
       "      <th>27050</th>\n",
       "      <td>아토피에 유전적인 요인이 작용한다는 사실 알고 계시나요 유전적인 요인 뿐 아니라 아...</td>\n",
       "    </tr>\n",
       "    <tr>\n",
       "      <th>27051</th>\n",
       "      <td>1st 시기에 따라 필요한 영양소를 충분히 뱃속의 아이는 엄마가 먹는 것을 함께 먹...</td>\n",
       "    </tr>\n",
       "    <tr>\n",
       "      <th>27052</th>\n",
       "      <td>분만 여성만이 누릴 수 있는 특권 대부분의 여성들은 임신과 분만이라는 과정을 경험하...</td>\n",
       "    </tr>\n",
       "    <tr>\n",
       "      <th>27053</th>\n",
       "      <td>최근 전자파가 건강상의 문제를 일으킬 수 있다는 견해가 많아지면서 임신부들 또한 가...</td>\n",
       "    </tr>\n",
       "    <tr>\n",
       "      <th>27054</th>\n",
       "      <td>임신 기간을 설명할 때 헷갈리는 경우가 많다 책을 볼 때 의사의 설명을 들을 때 정...</td>\n",
       "    </tr>\n",
       "  </tbody>\n",
       "</table>\n",
       "</div>"
      ],
      "text/plain": [
       "                                                    text\n",
       "27050  아토피에 유전적인 요인이 작용한다는 사실 알고 계시나요 유전적인 요인 뿐 아니라 아...\n",
       "27051  1st 시기에 따라 필요한 영양소를 충분히 뱃속의 아이는 엄마가 먹는 것을 함께 먹...\n",
       "27052  분만 여성만이 누릴 수 있는 특권 대부분의 여성들은 임신과 분만이라는 과정을 경험하...\n",
       "27053  최근 전자파가 건강상의 문제를 일으킬 수 있다는 견해가 많아지면서 임신부들 또한 가...\n",
       "27054  임신 기간을 설명할 때 헷갈리는 경우가 많다 책을 볼 때 의사의 설명을 들을 때 정..."
      ]
     },
     "execution_count": 3,
     "metadata": {},
     "output_type": "execute_result"
    }
   ],
   "source": [
    "df = pd.concat([df1.text, df2.text, df3.text, df4.text, df5.text,\n",
    "                df6.text, df7.text, df8.text, df9.text, df10.text,\n",
    "                df11.text, df12.text])\n",
    "df = pd.DataFrame(df).reset_index(drop=True)\n",
    "df.tail()"
   ]
  },
  {
   "cell_type": "markdown",
   "metadata": {},
   "source": [
    "### Preprocessing"
   ]
  },
  {
   "cell_type": "code",
   "execution_count": 4,
   "metadata": {},
   "outputs": [],
   "source": [
    "def cleaningText(text):\n",
    "    text = re.sub('&nbsp;|\\xa0|\\u200b|\\r|\\n|\\t', ' ', text)\n",
    "    text = re.sub('<.+>|【.+】|\\[.+\\]', ' ', text)\n",
    "    text = re.sub('[-_=+,/\\?;:^$.@*\\\"※~&%ㆍ!”“’「」『』〈〉\\\\‘|\\(\\)\\{\\}\\[\\]\\<\\>`\\'…《》]', ' ', text)\n",
    "    text = re.sub('[㈜×–～→▪‧•∘✽○□◇△▽▷◁☆◈◐▶▼▲◆★♦■♥️●♠🖤]', ' ', text)\n",
    "    text = re.sub('[①②③④⑤⑥⑦⑧⑨⑩⑪⑫⑬⑭⑮⑯⑰⑱⑲⑳]', ' ', text)\n",
    "    text = re.sub('[➊❷➌❹❺❻❼❽❾❿]', ' ', text)\n",
    "    text = re.sub('http.+com|http.+co|http.+kr|www.+kr|www.+com|www.+net|http.+net', ' ', text)\n",
    "    text = re.sub(\"\\s.+\\s기자\", '', text)\n",
    "    text = re.sub('ⓒ\\S+\\s|㈜\\S+\\s|홈페이지\\S+\\s|전화\\S+\\s|대표전화\\S+\\s|☎\\S+\\s|http\\S+\\s', '', text)\n",
    "    \n",
    "    text = re.sub('\\s+', ' ', text)\n",
    "    text = text.strip()\n",
    "\n",
    "    return text\n"
   ]
  },
  {
   "cell_type": "code",
   "execution_count": 5,
   "metadata": {},
   "outputs": [],
   "source": [
    "df = df.drop(index=[952, 955, 956, 960, 962, 964, 1165, 1240, 1322])\n",
    "df = df.drop_duplicates()\n",
    "df = df.dropna()\n",
    "df = pd.DataFrame(df).reset_index(drop=True)"
   ]
  },
  {
   "cell_type": "code",
   "execution_count": 6,
   "metadata": {},
   "outputs": [],
   "source": [
    "df['text'] = df['text'].apply(cleaningText)\n",
    "df = df.dropna()\n",
    "df.to_csv('data/text_for_word2vec.csv', index=False, encoding='utf-8')"
   ]
  },
  {
   "cell_type": "code",
   "execution_count": 7,
   "metadata": {},
   "outputs": [
    {
     "data": {
      "text/html": [
       "<div>\n",
       "<style scoped>\n",
       "    .dataframe tbody tr th:only-of-type {\n",
       "        vertical-align: middle;\n",
       "    }\n",
       "\n",
       "    .dataframe tbody tr th {\n",
       "        vertical-align: top;\n",
       "    }\n",
       "\n",
       "    .dataframe thead th {\n",
       "        text-align: right;\n",
       "    }\n",
       "</style>\n",
       "<table border=\"1\" class=\"dataframe\">\n",
       "  <thead>\n",
       "    <tr style=\"text-align: right;\">\n",
       "      <th></th>\n",
       "      <th>text</th>\n",
       "    </tr>\n",
       "  </thead>\n",
       "  <tbody>\n",
       "    <tr>\n",
       "      <th>0</th>\n",
       "      <td>6살 남아 입니다 회사 복직 후 3살부터 주중에는 외할머니댁에서 2살 4살 터울의 ...</td>\n",
       "    </tr>\n",
       "    <tr>\n",
       "      <th>1</th>\n",
       "      <td>요즘 들어 아빠가 아이에게 다가가려고 하면 엄마한테 갈 거야 하면서 엄마를 유독 찾...</td>\n",
       "    </tr>\n",
       "    <tr>\n",
       "      <th>2</th>\n",
       "      <td>둘째가 태어나면 첫째가 힘들 거라는 건 예상하고 있었지만 툭하면 삐치고 울고 좀처럼...</td>\n",
       "    </tr>\n",
       "    <tr>\n",
       "      <th>3</th>\n",
       "      <td>20개월 남아가 있고 임신 8개월차로 두 아기의 엄마입니다 첫 아이는 잠자리 독립을...</td>\n",
       "    </tr>\n",
       "    <tr>\n",
       "      <th>4</th>\n",
       "      <td>14개월 남자 아기인데 심하게 깨무는 버릇이 있어요 전에는 졸릴 때 주로 물곤 했는...</td>\n",
       "    </tr>\n",
       "    <tr>\n",
       "      <th>...</th>\n",
       "      <td>...</td>\n",
       "    </tr>\n",
       "    <tr>\n",
       "      <th>25344</th>\n",
       "      <td>가임기 연력 여성의 흡연률 증가와 그 폐해 현대 여성은 다양한 사회활동에 참여하고 ...</td>\n",
       "    </tr>\n",
       "    <tr>\n",
       "      <th>25345</th>\n",
       "      <td>아토피에 유전적인 요인이 작용한다는 사실 알고 계시나요 유전적인 요인 뿐 아니라 아...</td>\n",
       "    </tr>\n",
       "    <tr>\n",
       "      <th>25346</th>\n",
       "      <td>1st 시기에 따라 필요한 영양소를 충분히 뱃속의 아이는 엄마가 먹는 것을 함께 먹...</td>\n",
       "    </tr>\n",
       "    <tr>\n",
       "      <th>25347</th>\n",
       "      <td>분만 여성만이 누릴 수 있는 특권 대부분의 여성들은 임신과 분만이라는 과정을 경험하...</td>\n",
       "    </tr>\n",
       "    <tr>\n",
       "      <th>25348</th>\n",
       "      <td>최근 전자파가 건강상의 문제를 일으킬 수 있다는 견해가 많아지면서 임신부들 또한 가...</td>\n",
       "    </tr>\n",
       "  </tbody>\n",
       "</table>\n",
       "<p>25349 rows × 1 columns</p>\n",
       "</div>"
      ],
      "text/plain": [
       "                                                    text\n",
       "0      6살 남아 입니다 회사 복직 후 3살부터 주중에는 외할머니댁에서 2살 4살 터울의 ...\n",
       "1      요즘 들어 아빠가 아이에게 다가가려고 하면 엄마한테 갈 거야 하면서 엄마를 유독 찾...\n",
       "2      둘째가 태어나면 첫째가 힘들 거라는 건 예상하고 있었지만 툭하면 삐치고 울고 좀처럼...\n",
       "3      20개월 남아가 있고 임신 8개월차로 두 아기의 엄마입니다 첫 아이는 잠자리 독립을...\n",
       "4      14개월 남자 아기인데 심하게 깨무는 버릇이 있어요 전에는 졸릴 때 주로 물곤 했는...\n",
       "...                                                  ...\n",
       "25344  가임기 연력 여성의 흡연률 증가와 그 폐해 현대 여성은 다양한 사회활동에 참여하고 ...\n",
       "25345  아토피에 유전적인 요인이 작용한다는 사실 알고 계시나요 유전적인 요인 뿐 아니라 아...\n",
       "25346  1st 시기에 따라 필요한 영양소를 충분히 뱃속의 아이는 엄마가 먹는 것을 함께 먹...\n",
       "25347  분만 여성만이 누릴 수 있는 특권 대부분의 여성들은 임신과 분만이라는 과정을 경험하...\n",
       "25348  최근 전자파가 건강상의 문제를 일으킬 수 있다는 견해가 많아지면서 임신부들 또한 가...\n",
       "\n",
       "[25349 rows x 1 columns]"
      ]
     },
     "execution_count": 7,
     "metadata": {},
     "output_type": "execute_result"
    }
   ],
   "source": [
    "df"
   ]
  },
  {
   "cell_type": "markdown",
   "metadata": {},
   "source": [
    "### Add tokenized column"
   ]
  },
  {
   "cell_type": "markdown",
   "metadata": {},
   "source": [
    "191210 정체불명의 error 발생\n",
    "```\n",
    "NotImplementedError: Wrong number or type of arguments for overloaded function 'Tagger_parse'.\n",
    "  Possible C/C++ prototypes are:\n",
    "    MeCab::Tagger::parse(MeCab::Model const &,MeCab::Lattice *)\n",
    "    MeCab::Tagger::parse(MeCab::Lattice *) const\n",
    "    MeCab::Tagger::parse(char const *)\n",
    "```\n",
    "\n",
    "babynews 데이터가 추가된 후 갑자기 발생한 에러인데.. 왜인지 모르겠지만 해당 부분 데이터프레임만 따로 tokenize하는 것은 문제없이 돌아간다.  \n",
    "따라서 번거롭지만 분리하여 tokenizing 한 후에 합치기로 하였다.  \n",
    "\n",
    "-> 해결.. `NaN` value 문제였다(어이없게도 NaN 값이 중간에 섞여있었음;). 누락 데이터를 잘 체크하는 습관을 갖도록하자."
   ]
  },
  {
   "cell_type": "code",
   "execution_count": 8,
   "metadata": {},
   "outputs": [],
   "source": [
    "def tokenize(text):\n",
    "    tokenizer = Mecab()\n",
    "    text = tokenizer.morphs(text)\n",
    "#     text = ' '.join(text)\n",
    "    return text"
   ]
  },
  {
   "cell_type": "code",
   "execution_count": 9,
   "metadata": {},
   "outputs": [
    {
     "name": "stdout",
     "output_type": "stream",
     "text": [
      "CPU times: user 1min 1s, sys: 30.4 s, total: 1min 32s\n",
      "Wall time: 1min 32s\n"
     ]
    },
    {
     "data": {
      "text/html": [
       "<div>\n",
       "<style scoped>\n",
       "    .dataframe tbody tr th:only-of-type {\n",
       "        vertical-align: middle;\n",
       "    }\n",
       "\n",
       "    .dataframe tbody tr th {\n",
       "        vertical-align: top;\n",
       "    }\n",
       "\n",
       "    .dataframe thead th {\n",
       "        text-align: right;\n",
       "    }\n",
       "</style>\n",
       "<table border=\"1\" class=\"dataframe\">\n",
       "  <thead>\n",
       "    <tr style=\"text-align: right;\">\n",
       "      <th></th>\n",
       "      <th>text</th>\n",
       "      <th>tokenized</th>\n",
       "    </tr>\n",
       "  </thead>\n",
       "  <tbody>\n",
       "    <tr>\n",
       "      <th>25344</th>\n",
       "      <td>가임기 연력 여성의 흡연률 증가와 그 폐해 현대 여성은 다양한 사회활동에 참여하고 ...</td>\n",
       "      <td>[가, 임기, 연력, 여성, 의, 흡연, 률, 증가, 와, 그, 폐해, 현대, 여성...</td>\n",
       "    </tr>\n",
       "    <tr>\n",
       "      <th>25345</th>\n",
       "      <td>아토피에 유전적인 요인이 작용한다는 사실 알고 계시나요 유전적인 요인 뿐 아니라 아...</td>\n",
       "      <td>[아토피, 에, 유전, 적, 인, 요인, 이, 작용, 한다는, 사실, 알, 고, 계...</td>\n",
       "    </tr>\n",
       "    <tr>\n",
       "      <th>25346</th>\n",
       "      <td>1st 시기에 따라 필요한 영양소를 충분히 뱃속의 아이는 엄마가 먹는 것을 함께 먹...</td>\n",
       "      <td>[1, st, 시기, 에, 따라, 필요, 한, 영양소, 를, 충분히, 뱃속, 의, ...</td>\n",
       "    </tr>\n",
       "    <tr>\n",
       "      <th>25347</th>\n",
       "      <td>분만 여성만이 누릴 수 있는 특권 대부분의 여성들은 임신과 분만이라는 과정을 경험하...</td>\n",
       "      <td>[분만, 여성, 만, 이, 누릴, 수, 있, 는, 특권, 대부분, 의, 여성, 들,...</td>\n",
       "    </tr>\n",
       "    <tr>\n",
       "      <th>25348</th>\n",
       "      <td>최근 전자파가 건강상의 문제를 일으킬 수 있다는 견해가 많아지면서 임신부들 또한 가...</td>\n",
       "      <td>[최근, 전자파, 가, 건강, 상, 의, 문제, 를, 일으킬, 수, 있, 다는, 견...</td>\n",
       "    </tr>\n",
       "  </tbody>\n",
       "</table>\n",
       "</div>"
      ],
      "text/plain": [
       "                                                    text  \\\n",
       "25344  가임기 연력 여성의 흡연률 증가와 그 폐해 현대 여성은 다양한 사회활동에 참여하고 ...   \n",
       "25345  아토피에 유전적인 요인이 작용한다는 사실 알고 계시나요 유전적인 요인 뿐 아니라 아...   \n",
       "25346  1st 시기에 따라 필요한 영양소를 충분히 뱃속의 아이는 엄마가 먹는 것을 함께 먹...   \n",
       "25347  분만 여성만이 누릴 수 있는 특권 대부분의 여성들은 임신과 분만이라는 과정을 경험하...   \n",
       "25348  최근 전자파가 건강상의 문제를 일으킬 수 있다는 견해가 많아지면서 임신부들 또한 가...   \n",
       "\n",
       "                                               tokenized  \n",
       "25344  [가, 임기, 연력, 여성, 의, 흡연, 률, 증가, 와, 그, 폐해, 현대, 여성...  \n",
       "25345  [아토피, 에, 유전, 적, 인, 요인, 이, 작용, 한다는, 사실, 알, 고, 계...  \n",
       "25346  [1, st, 시기, 에, 따라, 필요, 한, 영양소, 를, 충분히, 뱃속, 의, ...  \n",
       "25347  [분만, 여성, 만, 이, 누릴, 수, 있, 는, 특권, 대부분, 의, 여성, 들,...  \n",
       "25348  [최근, 전자파, 가, 건강, 상, 의, 문제, 를, 일으킬, 수, 있, 다는, 견...  "
      ]
     },
     "execution_count": 9,
     "metadata": {},
     "output_type": "execute_result"
    }
   ],
   "source": [
    "%%time\n",
    "df['tokenized'] = df['text'].apply(tokenize)\n",
    "df.tail()"
   ]
  },
  {
   "cell_type": "code",
   "execution_count": 10,
   "metadata": {},
   "outputs": [
    {
     "data": {
      "text/plain": [
       "text         0\n",
       "tokenized    0\n",
       "dtype: int64"
      ]
     },
     "execution_count": 10,
     "metadata": {},
     "output_type": "execute_result"
    }
   ],
   "source": [
    "df.isnull().sum()"
   ]
  },
  {
   "cell_type": "markdown",
   "metadata": {},
   "source": [
    "## Train Word2Vec"
   ]
  },
  {
   "cell_type": "markdown",
   "metadata": {},
   "source": [
    "#### WTF error\n",
    "- df를 csv 형식으로 저장한 후 다시 로드하면 Word2Vec 학습에 인코딩 문제가 생긴다.\n",
    "- 더 자세히 파고들어보니 list 형식의 column이 csv로 저장할 때 강제로 string 타입으로 형변환 됨.\n",
    "- 이렇게 형변환 된 column을 Word2Vec 학습에 사용할 시 한글 텍스트가 깨지는 현상이 발생함.. 정확한 원인은 아직 모르겠다."
   ]
  },
  {
   "cell_type": "code",
   "execution_count": 11,
   "metadata": {},
   "outputs": [],
   "source": [
    "# df = pd.read_csv('text_for_word2vec.csv', encoding='utf-8')"
   ]
  },
  {
   "cell_type": "markdown",
   "metadata": {},
   "source": [
    "그러므로 저장 & 로드 과정 생략하고 바로 말뭉치를 numpy ndarray형식으로 변환"
   ]
  },
  {
   "cell_type": "code",
   "execution_count": 12,
   "metadata": {},
   "outputs": [
    {
     "data": {
      "text/plain": [
       "numpy.ndarray"
      ]
     },
     "execution_count": 12,
     "metadata": {},
     "output_type": "execute_result"
    }
   ],
   "source": [
    "corpus = np.array(df.tokenized)\n",
    "type(corpus)"
   ]
  },
  {
   "cell_type": "code",
   "execution_count": 13,
   "metadata": {},
   "outputs": [
    {
     "name": "stdout",
     "output_type": "stream",
     "text": [
      "CPU times: user 6min 35s, sys: 444 ms, total: 6min 35s\n",
      "Wall time: 1min 44s\n"
     ]
    }
   ],
   "source": [
    "%%time\n",
    "model_all = Word2Vec(corpus, size=128, workers=4, sg=1)\n",
    "model_all.save('data/tokmom_word2vec_all.model')"
   ]
  },
  {
   "cell_type": "markdown",
   "metadata": {},
   "source": [
    "#### 유사어 분석"
   ]
  },
  {
   "cell_type": "code",
   "execution_count": 14,
   "metadata": {},
   "outputs": [
    {
     "data": {
      "text/plain": [
       "[('소꿉', 0.7395849227905273),\n",
       " ('공놀이', 0.7213114500045776),\n",
       " ('기차놀이', 0.7077705264091492),\n",
       " ('숨바꼭질', 0.6862096786499023),\n",
       " ('보물찾기', 0.6849431991577148),\n",
       " ('낚시', 0.6765079498291016),\n",
       " ('손유희', 0.6695200800895691),\n",
       " ('샌드백', 0.6683435440063477),\n",
       " ('놀잇감', 0.6681313514709473),\n",
       " ('타악기', 0.6672809720039368)]"
      ]
     },
     "execution_count": 14,
     "metadata": {},
     "output_type": "execute_result"
    }
   ],
   "source": [
    "model_all.wv.similar_by_word(\"놀이\")"
   ]
  },
  {
   "cell_type": "code",
   "execution_count": 15,
   "metadata": {},
   "outputs": [
    {
     "data": {
      "text/plain": [
       "[('아기', 0.727118730545044),\n",
       " ('어린아이', 0.7252939939498901),\n",
       " ('갓난아이', 0.6651442050933838),\n",
       " ('윤우', 0.641637921333313),\n",
       " ('갓난아기', 0.6355990171432495),\n",
       " ('큰아이', 0.6338458061218262),\n",
       " ('경탄', 0.6180907487869263),\n",
       " ('엄마', 0.6158785223960876),\n",
       " ('놀림거리', 0.6148250699043274),\n",
       " ('친해진다', 0.6143154501914978)]"
      ]
     },
     "execution_count": 15,
     "metadata": {},
     "output_type": "execute_result"
    }
   ],
   "source": [
    "model_all.wv.similar_by_word(\"아이\")"
   ]
  },
  {
   "cell_type": "code",
   "execution_count": 16,
   "metadata": {},
   "outputs": [
    {
     "data": {
      "text/plain": [
       "[('잇몸', 0.8324146270751953),\n",
       " ('영구치', 0.8024177551269531),\n",
       " ('충치', 0.7791770100593567),\n",
       " ('젖니', 0.7412041425704956),\n",
       " ('턱뼈', 0.7358801364898682),\n",
       " ('앞니', 0.7110280990600586),\n",
       " ('어금니', 0.701298713684082),\n",
       " ('법랑질', 0.6971782445907593),\n",
       " ('유치', 0.6962482929229736),\n",
       " ('치석', 0.6936749815940857)]"
      ]
     },
     "execution_count": 16,
     "metadata": {},
     "output_type": "execute_result"
    }
   ],
   "source": [
    "model_all.wv.similar_by_word(\"치아\")"
   ]
  },
  {
   "cell_type": "code",
   "execution_count": 17,
   "metadata": {},
   "outputs": [
    {
     "data": {
      "text/plain": [
       "[('혓바닥', 0.7846129536628723),\n",
       " ('거스러미', 0.7622735500335693),\n",
       " ('핥', 0.7522270679473877),\n",
       " ('오물거리', 0.750676155090332),\n",
       " ('영인', 0.7501369714736938),\n",
       " ('뜯어내', 0.7418147325515747),\n",
       " ('빨아먹', 0.7411083579063416),\n",
       " ('허옇', 0.7400315403938293),\n",
       " ('생채기', 0.7381551265716553),\n",
       " ('갈라져', 0.7378203868865967)]"
      ]
     },
     "execution_count": 17,
     "metadata": {},
     "output_type": "execute_result"
    }
   ],
   "source": [
    "model_all.wv.similar_by_word(\"이빨\")"
   ]
  },
  {
   "cell_type": "code",
   "execution_count": 18,
   "metadata": {},
   "outputs": [
    {
     "data": {
      "text/plain": [
       "[('코감기', 0.8325313329696655),\n",
       " ('목감기', 0.8247150182723999),\n",
       " ('기침감기', 0.7894113063812256),\n",
       " ('독감', 0.7855520844459534),\n",
       " ('냉방병', 0.7631239891052246),\n",
       " ('호흡기', 0.7490089535713196),\n",
       " ('비염', 0.7457585334777832),\n",
       " ('인후염', 0.7369061708450317),\n",
       " ('환절기', 0.7344949245452881),\n",
       " ('잔병', 0.7328144907951355)]"
      ]
     },
     "execution_count": 18,
     "metadata": {},
     "output_type": "execute_result"
    }
   ],
   "source": [
    "model_all.wv.similar_by_word(\"감기\")"
   ]
  },
  {
   "cell_type": "code",
   "execution_count": 19,
   "metadata": {},
   "outputs": [
    {
     "data": {
      "text/plain": [
       "[('고열로', 0.6223058700561523),\n",
       " ('미열', 0.5906575918197632),\n",
       " ('사병', 0.5777747631072998),\n",
       " ('오한', 0.5763400793075562),\n",
       " ('식혀', 0.5650386810302734),\n",
       " ('열기', 0.5645030736923218),\n",
       " ('고열', 0.563922643661499),\n",
       " ('허열', 0.5582061409950256),\n",
       " ('들어온다고', 0.5557551383972168),\n",
       " ('식히', 0.5507949590682983)]"
      ]
     },
     "execution_count": 19,
     "metadata": {},
     "output_type": "execute_result"
    }
   ],
   "source": [
    "model_all.wv.similar_by_word(\"열\")"
   ]
  },
  {
   "cell_type": "code",
   "execution_count": 20,
   "metadata": {},
   "outputs": [
    {
     "data": {
      "text/plain": [
       "[('아파서', 0.7917320728302002),\n",
       " ('아프', 0.7879322171211243),\n",
       " ('다쳐', 0.7685312032699585),\n",
       " ('칭얼댄다', 0.742912769317627),\n",
       " ('아파하', 0.7379513382911682),\n",
       " ('토해서', 0.7365566492080688),\n",
       " ('다쳐서', 0.7300858497619629),\n",
       " ('아파도', 0.7264070510864258),\n",
       " ('아픈데', 0.7248853445053101),\n",
       " ('고파도', 0.7156646251678467)]"
      ]
     },
     "execution_count": 20,
     "metadata": {},
     "output_type": "execute_result"
    }
   ],
   "source": [
    "model_all.wv.similar_by_word(\"아파\")"
   ]
  },
  {
   "cell_type": "code",
   "execution_count": 21,
   "metadata": {},
   "outputs": [
    {
     "data": {
      "text/plain": [
       "[('아파', 0.7879322171211243),\n",
       " ('아파하', 0.7760176658630371),\n",
       " ('결리', 0.7617043256759644),\n",
       " ('쑤시', 0.7467668056488037),\n",
       " ('어지럽', 0.7446278929710388),\n",
       " ('아파서', 0.7411390542984009),\n",
       " ('거린', 0.7408324480056763),\n",
       " ('지끈지끈', 0.7363989949226379),\n",
       " ('간지럽', 0.7363499999046326),\n",
       " ('주물렀', 0.7318865060806274)]"
      ]
     },
     "execution_count": 21,
     "metadata": {},
     "output_type": "execute_result"
    }
   ],
   "source": [
    "model_all.wv.similar_by_word(\"아프\")"
   ]
  },
  {
   "cell_type": "code",
   "execution_count": 22,
   "metadata": {},
   "outputs": [
    {
     "data": {
      "text/plain": [
       "[('터뜨립니다', 0.723886251449585),\n",
       " ('터뜨린다', 0.6939476728439331),\n",
       " ('터뜨릴', 0.6881331205368042),\n",
       " ('터뜨린', 0.6845754384994507),\n",
       " ('옹알이', 0.6715842485427856),\n",
       " ('우렁찬', 0.6670546531677246),\n",
       " ('어르', 0.6614100337028503),\n",
       " ('자지러질', 0.660844087600708),\n",
       " ('지르', 0.6574312448501587),\n",
       " ('고래고래', 0.6564108729362488)]"
      ]
     },
     "execution_count": 22,
     "metadata": {},
     "output_type": "execute_result"
    }
   ],
   "source": [
    "model_all.wv.similar_by_word(\"울음\")"
   ]
  },
  {
   "cell_type": "code",
   "execution_count": 23,
   "metadata": {},
   "outputs": [
    {
     "data": {
      "text/plain": [
       "[('여아', 0.8627681136131287),\n",
       " ('남근기', 0.6519829630851746),\n",
       " ('남자', 0.6464985609054565),\n",
       " ('여자', 0.6393122673034668),\n",
       " ('엘렉트라', 0.6158814430236816),\n",
       " ('정상아', 0.614351749420166),\n",
       " ('018', 0.6046236753463745),\n",
       " ('경산부', 0.6019124984741211),\n",
       " ('1317', 0.601548433303833),\n",
       " ('아일', 0.5991610288619995)]"
      ]
     },
     "execution_count": 23,
     "metadata": {},
     "output_type": "execute_result"
    }
   ],
   "source": [
    "model_all.wv.similar_by_word(\"남아\")"
   ]
  },
  {
   "cell_type": "code",
   "execution_count": 24,
   "metadata": {},
   "outputs": [
    {
     "data": {
      "text/plain": [
       "[('남아', 0.8627680540084839),\n",
       " ('여자', 0.644571840763092),\n",
       " ('남자', 0.6159909963607788),\n",
       " ('아든', 0.5759382247924805),\n",
       " ('남근기', 0.5696649551391602),\n",
       " ('아일', 0.5692425966262817),\n",
       " ('018', 0.5644198656082153),\n",
       " ('1317', 0.5590461492538452),\n",
       " ('인치', 0.5534515380859375),\n",
       " ('019', 0.5534112453460693)]"
      ]
     },
     "execution_count": 24,
     "metadata": {},
     "output_type": "execute_result"
    }
   ],
   "source": [
    "model_all.wv.similar_by_word(\"여아\")"
   ]
  },
  {
   "cell_type": "markdown",
   "metadata": {},
   "source": [
    "---"
   ]
  },
  {
   "cell_type": "markdown",
   "metadata": {},
   "source": [
    "## Only Noun"
   ]
  },
  {
   "cell_type": "markdown",
   "metadata": {},
   "source": [
    "- 이번에는 말뭉치에서 명사만 추출하여 결과를 비교해보자\n",
    "- 유사한 키워드 잡기를 목적으로 할 때는 명사만 추출하는 것이 더 적절한 듯"
   ]
  },
  {
   "cell_type": "code",
   "execution_count": 25,
   "metadata": {},
   "outputs": [
    {
     "name": "stdout",
     "output_type": "stream",
     "text": [
      "CPU times: user 1min 3s, sys: 30.7 s, total: 1min 34s\n",
      "Wall time: 1min 33s\n"
     ]
    }
   ],
   "source": [
    "%%time\n",
    "def extract_noun(text):\n",
    "    tokenizer = Mecab()\n",
    "    text = tokenizer.nouns(text)\n",
    "#     text = ' '.join(text)\n",
    "    return text\n",
    "    \n",
    "df['noun'] = df['text'].apply(extract_noun)\n",
    "df = df.dropna()"
   ]
  },
  {
   "cell_type": "code",
   "execution_count": 26,
   "metadata": {},
   "outputs": [],
   "source": [
    "noun_corpus = np.array(df.noun)"
   ]
  },
  {
   "cell_type": "code",
   "execution_count": 27,
   "metadata": {},
   "outputs": [
    {
     "name": "stdout",
     "output_type": "stream",
     "text": [
      "CPU times: user 2min 52s, sys: 241 ms, total: 2min 52s\n",
      "Wall time: 46.9 s\n"
     ]
    }
   ],
   "source": [
    "%%time\n",
    "model_noun = Word2Vec(noun_corpus, size=100, workers=4, sg=1)\n",
    "model_noun.save('data/tokmom_word2vec_only_noun.model')"
   ]
  },
  {
   "cell_type": "code",
   "execution_count": 28,
   "metadata": {},
   "outputs": [
    {
     "data": {
      "text/plain": [
       "[('워킹맘', 0.6665226221084595),\n",
       " ('양육', 0.6548275947570801),\n",
       " ('열혈', 0.6474577188491821),\n",
       " ('살림', 0.6366163492202759),\n",
       " ('독박', 0.6362835168838501),\n",
       " ('지원군', 0.6352605819702148),\n",
       " ('장세희', 0.6308539509773254),\n",
       " ('아서', 0.6258280277252197),\n",
       " ('바이블', 0.6200488805770874),\n",
       " ('대디', 0.6197760105133057)]"
      ]
     },
     "execution_count": 28,
     "metadata": {},
     "output_type": "execute_result"
    }
   ],
   "source": [
    "model_noun.wv.similar_by_word(\"육아\")"
   ]
  },
  {
   "cell_type": "code",
   "execution_count": 29,
   "metadata": {},
   "outputs": [
    {
     "data": {
      "text/plain": [
       "[('시부모', 0.8503279089927673),\n",
       " ('친정', 0.8500319123268127),\n",
       " ('본가', 0.8288648724555969),\n",
       " ('시어머니', 0.822963535785675),\n",
       " ('장모님', 0.8125674724578857),\n",
       " ('친정어머니', 0.8107408285140991),\n",
       " ('처가', 0.7997740507125854),\n",
       " ('대소사', 0.7902892231941223),\n",
       " ('남편', 0.7878108620643616),\n",
       " ('시누이', 0.7866990566253662)]"
      ]
     },
     "execution_count": 29,
     "metadata": {},
     "output_type": "execute_result"
    }
   ],
   "source": [
    "model_noun.wv.similar_by_word(\"시댁\")"
   ]
  },
  {
   "cell_type": "code",
   "execution_count": 30,
   "metadata": {},
   "outputs": [
    {
     "data": {
      "text/plain": [
       "[('놀잇감', 0.7491439580917358),\n",
       " ('공놀이', 0.7258742451667786),\n",
       " ('소꿉', 0.715566098690033),\n",
       " ('무너뜨리기', 0.7084563970565796),\n",
       " ('누가누', 0.7057775855064392),\n",
       " ('샌드백', 0.7046945095062256),\n",
       " ('손인', 0.6978451609611511),\n",
       " ('사방치기', 0.6955163478851318),\n",
       " ('기차놀이', 0.6928429007530212),\n",
       " ('장난감', 0.685832679271698)]"
      ]
     },
     "execution_count": 30,
     "metadata": {},
     "output_type": "execute_result"
    }
   ],
   "source": [
    "model_noun.wv.similar_by_word(\"놀이\")"
   ]
  },
  {
   "cell_type": "code",
   "execution_count": 31,
   "metadata": {},
   "outputs": [
    {
     "data": {
      "text/plain": [
       "[('지레짐작', 0.7683221697807312),\n",
       " ('어린아이', 0.7581089735031128),\n",
       " ('엄마', 0.7560223340988159),\n",
       " ('낼', 0.744960367679596),\n",
       " ('과욕', 0.741504430770874),\n",
       " ('시기상조', 0.7410414218902588),\n",
       " ('걸', 0.7399687170982361),\n",
       " ('진득', 0.7355153560638428),\n",
       " ('소민', 0.7350615859031677),\n",
       " ('한가', 0.7345150709152222)]"
      ]
     },
     "execution_count": 31,
     "metadata": {},
     "output_type": "execute_result"
    }
   ],
   "source": [
    "model_noun.wv.similar_by_word(\"아이\")"
   ]
  },
  {
   "cell_type": "code",
   "execution_count": 32,
   "metadata": {},
   "outputs": [
    {
     "data": {
      "text/plain": [
       "[('잇몸', 0.8670015335083008),\n",
       " ('영구치', 0.8479639887809753),\n",
       " ('충치', 0.8332496881484985),\n",
       " ('젖니', 0.8294187784194946),\n",
       " ('앞니', 0.7807421684265137),\n",
       " ('어금니', 0.7806175947189331),\n",
       " ('유치', 0.7572829723358154),\n",
       " ('법랑질', 0.7520350217819214),\n",
       " ('우식증', 0.7470067739486694),\n",
       " ('턱뼈', 0.7460055947303772)]"
      ]
     },
     "execution_count": 32,
     "metadata": {},
     "output_type": "execute_result"
    }
   ],
   "source": [
    "model_noun.wv.similar_by_word(\"치아\")"
   ]
  },
  {
   "cell_type": "code",
   "execution_count": 33,
   "metadata": {},
   "outputs": [
    {
     "data": {
      "text/plain": [
       "[('혓바닥', 0.7857290506362915),\n",
       " ('영인', 0.7829234600067139),\n",
       " ('부리', 0.7599800825119019),\n",
       " ('칼자국', 0.7565423846244812),\n",
       " ('문다', 0.7542744874954224),\n",
       " ('골짜기', 0.7500026226043701),\n",
       " ('나방', 0.7496861219406128),\n",
       " ('밥풀', 0.7489989995956421),\n",
       " ('거스러미', 0.7414813041687012),\n",
       " ('꽁지', 0.7374645471572876)]"
      ]
     },
     "execution_count": 33,
     "metadata": {},
     "output_type": "execute_result"
    }
   ],
   "source": [
    "model_noun.wv.similar_by_word(\"이빨\")"
   ]
  },
  {
   "cell_type": "code",
   "execution_count": 34,
   "metadata": {},
   "outputs": [
    {
     "data": {
      "text/plain": [
       "[('목감기', 0.8112162351608276),\n",
       " ('코감기', 0.8103852272033691),\n",
       " ('환절기', 0.807023286819458),\n",
       " ('편도염', 0.7916395664215088),\n",
       " ('기관지염', 0.7842141389846802),\n",
       " ('기침감기', 0.7825652360916138),\n",
       " ('기침', 0.7747663259506226),\n",
       " ('호흡기', 0.7688245177268982),\n",
       " ('콧물', 0.7670191526412964),\n",
       " ('비염', 0.7587753534317017)]"
      ]
     },
     "execution_count": 34,
     "metadata": {},
     "output_type": "execute_result"
    }
   ],
   "source": [
    "model_noun.wv.similar_by_word(\"감기\")"
   ]
  },
  {
   "cell_type": "code",
   "execution_count": 35,
   "metadata": {},
   "outputs": [
    {
     "data": {
      "text/plain": [
       "[('고열로', 0.7383891344070435),\n",
       " ('불덩이', 0.7031384706497192),\n",
       " ('熱', 0.7006406188011169),\n",
       " ('외감', 0.6992070078849792),\n",
       " ('오한', 0.6978108882904053),\n",
       " ('사병', 0.6920907497406006),\n",
       " ('고열', 0.6916845440864563),\n",
       " ('허열', 0.6879662275314331),\n",
       " ('양허', 0.6745286583900452),\n",
       " ('인동', 0.6729408502578735)]"
      ]
     },
     "execution_count": 35,
     "metadata": {},
     "output_type": "execute_result"
    }
   ],
   "source": [
    "model_noun.wv.similar_by_word(\"열\")"
   ]
  },
  {
   "cell_type": "code",
   "execution_count": 36,
   "metadata": {},
   "outputs": [
    {
     "data": {
      "text/plain": [
       "[('거립니다', 0.8415960073471069),\n",
       " ('피멍', 0.8308123350143433),\n",
       " ('참기', 0.8229003548622131),\n",
       " ('불덩이', 0.8130450248718262),\n",
       " ('청진', 0.8058290481567383),\n",
       " ('무의식중', 0.8047473430633545),\n",
       " ('소름', 0.7994725704193115),\n",
       " ('어린애', 0.7992778420448303),\n",
       " ('생채기', 0.798244833946228),\n",
       " ('거려', 0.7976727485656738)]"
      ]
     },
     "execution_count": 36,
     "metadata": {},
     "output_type": "execute_result"
    }
   ],
   "source": [
    "model_noun.wv.similar_by_word(\"아파\")"
   ]
  },
  {
   "cell_type": "code",
   "execution_count": 37,
   "metadata": {},
   "outputs": [
    {
     "data": {
      "text/plain": [
       "[('소리', 0.7069542407989502),\n",
       " ('비명', 0.70014488697052),\n",
       " ('놀람', 0.6990275382995605),\n",
       " ('아달라', 0.6939420104026794),\n",
       " ('괴성', 0.6863733530044556),\n",
       " ('신음', 0.6844191551208496),\n",
       " ('큰소리', 0.6816563010215759),\n",
       " ('고음', 0.6803909540176392),\n",
       " ('지르기', 0.6771337985992432),\n",
       " ('옹알이', 0.6618772745132446)]"
      ]
     },
     "execution_count": 37,
     "metadata": {},
     "output_type": "execute_result"
    }
   ],
   "source": [
    "model_noun.wv.similar_by_word(\"울음\")"
   ]
  },
  {
   "cell_type": "code",
   "execution_count": 38,
   "metadata": {},
   "outputs": [
    {
     "data": {
      "text/plain": [
       "[('여아', 0.8808973431587219),\n",
       " ('변성기', 0.7365071177482605),\n",
       " ('액모', 0.7279012203216553),\n",
       " ('음모', 0.6897344589233398),\n",
       " ('클리토리스', 0.6826943159103394),\n",
       " ('여자', 0.6781058311462402),\n",
       " ('정류', 0.6751503944396973),\n",
       " ('기라', 0.6682007312774658),\n",
       " ('남자', 0.6680871248245239),\n",
       " ('남근기', 0.6527450084686279),\n",
       " ('몽우리', 0.6477795839309692),\n",
       " ('대음순', 0.6453688144683838),\n",
       " ('아도', 0.6425366401672363),\n",
       " ('생시', 0.6357797384262085),\n",
       " ('증후', 0.635003387928009),\n",
       " ('음경', 0.6348810791969299),\n",
       " ('조숙', 0.6296437978744507),\n",
       " ('망연자실', 0.6274477243423462),\n",
       " ('초경', 0.626950204372406),\n",
       " ('색맹', 0.6255058646202087)]"
      ]
     },
     "execution_count": 38,
     "metadata": {},
     "output_type": "execute_result"
    }
   ],
   "source": [
    "model_noun.wv.similar_by_word(\"남아\", topn=20)"
   ]
  },
  {
   "cell_type": "code",
   "execution_count": 39,
   "metadata": {},
   "outputs": [
    {
     "data": {
      "text/plain": [
       "[('남아', 0.8808972239494324),\n",
       " ('여자', 0.6845464110374451),\n",
       " ('변성기', 0.6617922782897949),\n",
       " ('액모', 0.655515730381012),\n",
       " ('기라', 0.6520875692367554),\n",
       " ('음모', 0.6462687253952026),\n",
       " ('남자', 0.6460123062133789),\n",
       " ('남근기', 0.6342167854309082),\n",
       " ('클리토리스', 0.6258744597434998),\n",
       " ('성별', 0.6191517114639282),\n",
       " ('가슴둘레', 0.6170589327812195),\n",
       " ('김우주', 0.6141172051429749),\n",
       " ('남학생', 0.6068969964981079),\n",
       " ('생시', 0.6026173233985901),\n",
       " ('초경', 0.6009048223495483),\n",
       " ('몽우리', 0.5905047655105591),\n",
       " ('항문기', 0.5886027812957764),\n",
       " ('아도', 0.5874003767967224),\n",
       " ('대음순', 0.5848087072372437),\n",
       " ('임소', 0.5836001038551331)]"
      ]
     },
     "execution_count": 39,
     "metadata": {},
     "output_type": "execute_result"
    }
   ],
   "source": [
    "model_noun.wv.similar_by_word(\"여아\", topn=20)"
   ]
  },
  {
   "cell_type": "code",
   "execution_count": 40,
   "metadata": {
    "scrolled": true
   },
   "outputs": [
    {
     "data": {
      "text/plain": [
       "[('남자', 0.9376375079154968),\n",
       " ('금성', 0.7248766422271729),\n",
       " ('조신', 0.7210137844085693),\n",
       " ('남탕', 0.7042510509490967),\n",
       " ('족쇄', 0.6975350379943848),\n",
       " ('여탕', 0.6964397430419922),\n",
       " ('성차', 0.6901171207427979),\n",
       " ('여아', 0.6845464706420898),\n",
       " ('아이든', 0.6811325550079346),\n",
       " ('남아', 0.6781058311462402),\n",
       " ('남학생', 0.6677274107933044),\n",
       " ('엘렉트라', 0.6644693613052368),\n",
       " ('바람둥이', 0.6463067531585693),\n",
       " ('얌전', 0.6390299797058105),\n",
       " ('남근', 0.6332674622535706),\n",
       " ('태사혜', 0.6304758787155151),\n",
       " ('군대', 0.6293023228645325),\n",
       " ('이방인', 0.6286194324493408),\n",
       " ('시집살이', 0.6270216107368469),\n",
       " ('에너자이저', 0.6230416297912598)]"
      ]
     },
     "execution_count": 40,
     "metadata": {},
     "output_type": "execute_result"
    }
   ],
   "source": [
    "model_noun.wv.similar_by_word(\"여자\", topn=20)"
   ]
  },
  {
   "cell_type": "code",
   "execution_count": 41,
   "metadata": {},
   "outputs": [
    {
     "data": {
      "text/plain": [
       "[('여자', 0.9376375675201416),\n",
       " ('금성', 0.7521324157714844),\n",
       " ('조신', 0.7450736165046692),\n",
       " ('족쇄', 0.7341678142547607),\n",
       " ('남탕', 0.7237294316291809),\n",
       " ('여탕', 0.7156965732574463),\n",
       " ('성차', 0.7060838937759399),\n",
       " ('얌전', 0.7016324400901794),\n",
       " ('아이든', 0.6778429746627808),\n",
       " ('엘렉트라', 0.6766166687011719),\n",
       " ('위엄', 0.6684761047363281),\n",
       " ('남아', 0.6680871248245239),\n",
       " ('남근', 0.6679927706718445),\n",
       " ('잠지', 0.6597963571548462),\n",
       " ('야동', 0.6576305031776428),\n",
       " ('이방인', 0.6543021202087402),\n",
       " ('바람둥이', 0.6532995700836182),\n",
       " ('남학생', 0.6478467583656311),\n",
       " ('알파걸', 0.6465926170349121),\n",
       " ('우월주의', 0.6462047100067139)]"
      ]
     },
     "execution_count": 41,
     "metadata": {},
     "output_type": "execute_result"
    }
   ],
   "source": [
    "model_noun.wv.similar_by_word(\"남자\", topn=20)"
   ]
  },
  {
   "cell_type": "code",
   "execution_count": 42,
   "metadata": {},
   "outputs": [
    {
     "data": {
      "text/plain": [
       "[('디럭스', 0.8062554597854614),\n",
       " ('절충', 0.7802572250366211),\n",
       " ('타보', 0.7736871242523193),\n",
       " ('휴대용', 0.7510476112365723),\n",
       " ('핸들링', 0.7220766544342041),\n",
       " ('퀴니', 0.7042291164398193),\n",
       " ('쇼퍼', 0.7030842304229736),\n",
       " ('맥클라렌', 0.6988304853439331),\n",
       " ('잉글', 0.6975149512290955),\n",
       " ('페도라', 0.6926717758178711)]"
      ]
     },
     "execution_count": 42,
     "metadata": {},
     "output_type": "execute_result"
    }
   ],
   "source": [
    "model_noun.wv.similar_by_word(\"유모차\")"
   ]
  },
  {
   "cell_type": "code",
   "execution_count": 43,
   "metadata": {},
   "outputs": [
    {
     "data": {
      "text/plain": [
       "[('브라이', 0.7573115825653076),\n",
       " ('안전벨트', 0.7391207814216614),\n",
       " ('콩코드', 0.7227051854133606),\n",
       " ('타카타', 0.7216581106185913),\n",
       " ('컨버터블', 0.7101017236709595),\n",
       " ('뒷좌석', 0.7100356817245483),\n",
       " ('순성', 0.7090908288955688),\n",
       " ('점식', 0.7000877857208252),\n",
       " ('장착', 0.6985743045806885),\n",
       " ('부스터', 0.6983839273452759)]"
      ]
     },
     "execution_count": 43,
     "metadata": {},
     "output_type": "execute_result"
    }
   ],
   "source": [
    "model_noun.wv.similar_by_word(\"카시트\")"
   ]
  },
  {
   "cell_type": "markdown",
   "metadata": {},
   "source": [
    "### Volume of Corpus "
   ]
  },
  {
   "cell_type": "code",
   "execution_count": 44,
   "metadata": {},
   "outputs": [],
   "source": [
    "df[['text']].to_csv('data/text_for_word2vec.csv', index=False, encoding='utf-8')"
   ]
  },
  {
   "cell_type": "code",
   "execution_count": 45,
   "metadata": {},
   "outputs": [
    {
     "data": {
      "text/html": [
       "<div>\n",
       "<style scoped>\n",
       "    .dataframe tbody tr th:only-of-type {\n",
       "        vertical-align: middle;\n",
       "    }\n",
       "\n",
       "    .dataframe tbody tr th {\n",
       "        vertical-align: top;\n",
       "    }\n",
       "\n",
       "    .dataframe thead th {\n",
       "        text-align: right;\n",
       "    }\n",
       "</style>\n",
       "<table border=\"1\" class=\"dataframe\">\n",
       "  <thead>\n",
       "    <tr style=\"text-align: right;\">\n",
       "      <th></th>\n",
       "      <th>text</th>\n",
       "    </tr>\n",
       "  </thead>\n",
       "  <tbody>\n",
       "    <tr>\n",
       "      <th>0</th>\n",
       "      <td>6살 남아 입니다 회사 복직 후 3살부터 주중에는 외할머니댁에서 2살 4살 터울의 ...</td>\n",
       "    </tr>\n",
       "    <tr>\n",
       "      <th>1</th>\n",
       "      <td>요즘 들어 아빠가 아이에게 다가가려고 하면 엄마한테 갈 거야 하면서 엄마를 유독 찾...</td>\n",
       "    </tr>\n",
       "    <tr>\n",
       "      <th>2</th>\n",
       "      <td>둘째가 태어나면 첫째가 힘들 거라는 건 예상하고 있었지만 툭하면 삐치고 울고 좀처럼...</td>\n",
       "    </tr>\n",
       "    <tr>\n",
       "      <th>3</th>\n",
       "      <td>20개월 남아가 있고 임신 8개월차로 두 아기의 엄마입니다 첫 아이는 잠자리 독립을...</td>\n",
       "    </tr>\n",
       "    <tr>\n",
       "      <th>4</th>\n",
       "      <td>14개월 남자 아기인데 심하게 깨무는 버릇이 있어요 전에는 졸릴 때 주로 물곤 했는...</td>\n",
       "    </tr>\n",
       "    <tr>\n",
       "      <th>...</th>\n",
       "      <td>...</td>\n",
       "    </tr>\n",
       "    <tr>\n",
       "      <th>25344</th>\n",
       "      <td>가임기 연력 여성의 흡연률 증가와 그 폐해 현대 여성은 다양한 사회활동에 참여하고 ...</td>\n",
       "    </tr>\n",
       "    <tr>\n",
       "      <th>25345</th>\n",
       "      <td>아토피에 유전적인 요인이 작용한다는 사실 알고 계시나요 유전적인 요인 뿐 아니라 아...</td>\n",
       "    </tr>\n",
       "    <tr>\n",
       "      <th>25346</th>\n",
       "      <td>1st 시기에 따라 필요한 영양소를 충분히 뱃속의 아이는 엄마가 먹는 것을 함께 먹...</td>\n",
       "    </tr>\n",
       "    <tr>\n",
       "      <th>25347</th>\n",
       "      <td>분만 여성만이 누릴 수 있는 특권 대부분의 여성들은 임신과 분만이라는 과정을 경험하...</td>\n",
       "    </tr>\n",
       "    <tr>\n",
       "      <th>25348</th>\n",
       "      <td>최근 전자파가 건강상의 문제를 일으킬 수 있다는 견해가 많아지면서 임신부들 또한 가...</td>\n",
       "    </tr>\n",
       "  </tbody>\n",
       "</table>\n",
       "<p>25349 rows × 1 columns</p>\n",
       "</div>"
      ],
      "text/plain": [
       "                                                    text\n",
       "0      6살 남아 입니다 회사 복직 후 3살부터 주중에는 외할머니댁에서 2살 4살 터울의 ...\n",
       "1      요즘 들어 아빠가 아이에게 다가가려고 하면 엄마한테 갈 거야 하면서 엄마를 유독 찾...\n",
       "2      둘째가 태어나면 첫째가 힘들 거라는 건 예상하고 있었지만 툭하면 삐치고 울고 좀처럼...\n",
       "3      20개월 남아가 있고 임신 8개월차로 두 아기의 엄마입니다 첫 아이는 잠자리 독립을...\n",
       "4      14개월 남자 아기인데 심하게 깨무는 버릇이 있어요 전에는 졸릴 때 주로 물곤 했는...\n",
       "...                                                  ...\n",
       "25344  가임기 연력 여성의 흡연률 증가와 그 폐해 현대 여성은 다양한 사회활동에 참여하고 ...\n",
       "25345  아토피에 유전적인 요인이 작용한다는 사실 알고 계시나요 유전적인 요인 뿐 아니라 아...\n",
       "25346  1st 시기에 따라 필요한 영양소를 충분히 뱃속의 아이는 엄마가 먹는 것을 함께 먹...\n",
       "25347  분만 여성만이 누릴 수 있는 특권 대부분의 여성들은 임신과 분만이라는 과정을 경험하...\n",
       "25348  최근 전자파가 건강상의 문제를 일으킬 수 있다는 견해가 많아지면서 임신부들 또한 가...\n",
       "\n",
       "[25349 rows x 1 columns]"
      ]
     },
     "execution_count": 45,
     "metadata": {},
     "output_type": "execute_result"
    }
   ],
   "source": [
    "pd.read_csv('data/text_for_word2vec.csv')"
   ]
  },
  {
   "cell_type": "markdown",
   "metadata": {},
   "source": [
    "### Loading check"
   ]
  },
  {
   "cell_type": "code",
   "execution_count": 46,
   "metadata": {},
   "outputs": [
    {
     "data": {
      "text/plain": [
       "<gensim.models.word2vec.Word2Vec at 0x7f4c86e936d0>"
      ]
     },
     "execution_count": 46,
     "metadata": {},
     "output_type": "execute_result"
    }
   ],
   "source": [
    "model = Word2Vec.load('data/tokmom_word2vec_only_noun.model')\n",
    "model"
   ]
  },
  {
   "cell_type": "markdown",
   "metadata": {},
   "source": [
    "## Doc2Vec"
   ]
  },
  {
   "cell_type": "code",
   "execution_count": 47,
   "metadata": {},
   "outputs": [],
   "source": [
    "from gensim.models.doc2vec import Doc2Vec, TaggedDocument"
   ]
  },
  {
   "cell_type": "code",
   "execution_count": 48,
   "metadata": {},
   "outputs": [],
   "source": [
    "documents = [TaggedDocument(doc, [i]) for i, doc in enumerate(df['noun'])]"
   ]
  },
  {
   "cell_type": "code",
   "execution_count": 49,
   "metadata": {},
   "outputs": [
    {
     "name": "stdout",
     "output_type": "stream",
     "text": [
      "CPU times: user 1min 4s, sys: 1.35 s, total: 1min 5s\n",
      "Wall time: 27.4 s\n"
     ]
    }
   ],
   "source": [
    "%%time\n",
    "doc2vec_model = Doc2Vec(documents, \n",
    "                        vector_size=100, \n",
    "                        window=5, \n",
    "                        min_count=5, \n",
    "                        workers=4)\n",
    "\n",
    "model.save('data/tokmom_doc2vec_only_noun.model')"
   ]
  },
  {
   "cell_type": "code",
   "execution_count": 50,
   "metadata": {},
   "outputs": [
    {
     "data": {
      "text/plain": [
       "25349"
      ]
     },
     "execution_count": 50,
     "metadata": {},
     "output_type": "execute_result"
    }
   ],
   "source": [
    "len(doc2vec_model.docvecs)"
   ]
  },
  {
   "cell_type": "code",
   "execution_count": 51,
   "metadata": {},
   "outputs": [
    {
     "data": {
      "text/plain": [
       "'6살 남아 입니다 회사 복직 후 3살부터 주중에는 외할머니댁에서 2살 4살 터울의 사촌 형 누나와 함께 자랐어요 금요일 저녁에 데려와 주말에는 엄마 아빠와 생활하고 있구요 7세가 되는 내년이라도 아이를 데려오자는 아이 아빠의 의견과 유치원과 태권도 등 패턴이 적응되었고 형 누나들과 더 자랄 수 있게 초등학교 입학시기에 데리고 가는게 낫지 않겠냐는 외할머니 의견이 다릅니다 6세가 된 아이의 교육과 생활습관 형성이 이제는 할머니댁에서는 어려울 것 같다는 생각이 들고 하루하루 생각이 크고 자라는 아이를 주말에만 보는 저 또한 놀랄 때가 많거든요 하루라도 빨리 데려와야 할까요 초등학교 입학시기에 데려오는 편이 아이에게 좋을까요 매우 어려운 질문입니다 먼저 아이가 현재 잘 적응하고 있고 주변 양육환경 역시 아이가 성장하기에 별다른 문제가 없다 하니 고민이 더욱 크시리라 생각됩니다 우선 되어야하는 것은 아이의 의견입니다 6살이면 이러한 문제에 대하여 스스로 생각하고 의견을 전달할 수 있으므로 먼저 아이의 의견을 들어 주시기 바랍니다 아이는 부모님과 함께 사는 것이 좋습니다 그러나 부모님께서 두분 모두 직장에 나가시니 유치원 하원 후 아이를 돌보아 주실 분이 현재 함께 생활하고 계시는 할머님이시면 재고의 여지 없이 데려 오시는 것을 권유 드립니다 그러나 하원 후 할머님의 돌봄이 여의치 못할 경우 돌보아 줄 대상이 당분간 할머님댁에서 시간제로나마 아이를 돌보아 주어 아이와의 상호작용을 충분히 가진 후에 아이가 집으로 왔을 때 유치원 하원 후에 계속 돌보아 줄 수 있으면 좋습니다 이와 같이 먼저 아이가 집으로 온 후 부모님께서 퇴근하시기 전 까지 돌보아 줄 사람을 알아보시고 데려 오시는 것이 좋다는 생각이 듭니다'"
      ]
     },
     "execution_count": 51,
     "metadata": {},
     "output_type": "execute_result"
    }
   ],
   "source": [
    "df['text'][0]"
   ]
  },
  {
   "cell_type": "code",
   "execution_count": 52,
   "metadata": {
    "scrolled": false
   },
   "outputs": [
    {
     "name": "stdout",
     "output_type": "stream",
     "text": [
      "Input Document\n",
      "젖병을 떼야 하는 이유로는 첫째 우식증을 예방하고 둘째 젖병 무는 어린 아기의 습관을 서서히 고쳐 나가기 위함 입니다 지금은 단지 습관에 의해 젖병을 물고 있을 뿐이므로 음식은 숟가락으로 먹이고 우유는 컵으로 마시게 하면서 젖병을 뗄 수 있도록 해야 합니다 잠잘 때 젖병을 물고 자는 것은 무의식적인 행동입니다 그러나 너무 친숙해진 습관을 갑자기 금지시킨다면 아기 심리에 큰 충격을 줄 수도 있으므로 서서히 젖병 속의 우유를 희석시키는 방법을 사용합니다 예를 들어 평상시에 우유를 200 mL 먹였다면 우유 180 mL에 물 20 mL를 섞어서 젖병에 넣어줍니다 점차 물의 농도를 높여가다가 아기가 이를 느끼고 부정적인 반응을 보일 때는 잠시 정지하였다가 다시 희석의 강도를 높여봅니다 그러다 보면 아기는 점차 희석된 우유에 흥미를 잃어 스스로 젖병을 내던지게 될 것입니다 아기에 따라 스스로 정서적 안정을 얻는 습관을 하나씩 가지고 있습니다 아기 때의 이불을 늘 잡고 있다거나 엄마의 머리카락을 잡아야 잠을 잔다거나 하는 습관은 고치기가 쉽지 않은 일입니다 젖병도 그런 습관의 일종일 수 있습니다 젖병을 물고 있는 것이 정서적인 이유라면 젖병 떼기를 강요하지 않습니다 하루 2 3번은 젖병을 물고 있게 하다가 점차 아기가 성장하면서 젖병 무는 것이 자신에게는 어울리지 않는다는 것을 엄마가 끊임없이 설득하고 아이 스스로도 그렇게 느껴 자연스레 젖병을 멀리하게 합니다 가능한 컵이나 빨대컵을 활용하고 노리개 젖꼭지 등을 대체하여 사용해 볼 수도 있습니다\n",
      "Most similar Documents\n",
      "idx: 15222 similarity: 0.681\n",
      "7개월 된 여자 아기인데 생후 3개월 되던 때부터 엄지손가락을 빨기 시작하더니 요즘에는 젖병을 입에서 떼기가 무섭게 손가락을 가져가요 손가락을 빼면 화를 내고 이리저리 고개를 돌려 손가락을 찾고 빨아야만 잠이 듭니다 저희 아기는 생후 50일도 안 돼서 주먹을 빨더니 요즘은 손가락을 넣고 쩝쩝 소리까지 내가며 맛있게 빨아댑니다 아기가 좋아하는 것 같아서 그냥 놔두기는 하는데 괜찮을까요 초보 엄마가 육아 카페에 올린 아기의 손가락 빨기에 대한 걱정의 글이다 이렇듯 많은 아기가 성장 과정에서 손가락을 입에 가득 넣고 빨거나 엄지 또는 검지만 빨기도 하는데 초보 엄마는 이러한 아기의 습관 앞에서 으레 당황하게 마련이다 아기가 손가락을 빨면 손가락 모양이 변하진 않을지 구강 구조에 영향을 주지는 않을지 하는 걱정과 함께 직장맘이거나 피치 못할 사정으로 남의 손에 맡겨야 하는 엄마는 아기가 엄마에 대한 애정 결핍과 욕구불만으로 손을 빠는 것은 아닐지 죄책감에 사로잡히기도 한다 아기가 손을 빠는 습관은 이래저래 엄마에게는 골칫거리가 되는 셈 엄마의 유방 젖병의 젖꼭지나 어떤 부드러운 물체로 아기의 볼을 살짝 건드리면 아기는 그 물체를 향해 입을 벌리고 머리를 돌리는 반사 행동을 보인다 이는 신생아가 생존을 위해 젖꼭지를 찾아 젖을 먹으려고 하는 행동으로 젖 찾기 반사 혹은 루팅 반사라고 한다 모유 냄새가 나는 쪽으로 얼굴과 입을 돌려서 먹으려는 행동도 이러한 반사 행동의 하나다 또 아기는 젖을 빠는 힘이 강력해 엄마의 젖이 다 비워질 때까지 빨 수 있다 이렇듯 아기의 빨기 본능은 말 그대로 생존 본능이다 젖을 먹고 살아야 하는 본능이 작용한 것 이러한 본능이 잦은 반복으로 인해 습관이 되고 이 습관이 아기의 손가락 빨기로 이어지는 것이다 한 연구 보고에 의하면 13세에 40 35세에 33 5세 이후에도 25가 손가락을 빤다고 한다 손가락 빨기는 아기가 좀 더 편안한 상태를 유지하기 위해 행하는 습관 중 하나다 하지만 아기의 손가락 빨기 습관은 틱장애 같은 문제일 수도 있으므로 다른 습관성 행동은 없는지 살피는 것이 중요하다 계속해서 손가락을 빨면 치아 배열에 지장을 주고 정서적으로나 사회적으로 장애가 생길 수 있으므로 격려와 함께 적절한 보상으로 다독여주는 것이 좋다 앞서 말했듯이 아기는 자신의 불안한 심리 상태를 좀 더 편안하고 안정되게 하기 위해 손가락을 빤다 전문가들은 이렇게 일정 월령의 아기가 손가락을 빠는 습관은 자연스러운 현상이라고 이야기한다 아기는 태아 시기인 임신 28주 무렵부터 손가락을 빨기 시작하는데 이런 행동은 태어나 젖을 먹으면서도 계속되며 일반적으로 모유를 먹는 아기보다 분유를 먹는 아기에게 더 많이 나타난다 분유를 먹는 아기는 모유를 먹는 아기보다 훨씬 힘을 덜 들이고 우유를 먹을 수 있어 빨기 욕구가 더 강하게 나타나기 때문이다 아기는 손가락을 빨면서 안정감과 편안함을 느낀다 손가락을 빠는 버릇은 때가 되면 점점 사라지므로 억지로 제지할 필요는 없다 하지만 손가락 빨기는 분명 위생상 좋지 않으며 치아 배열에도 영향을 끼친다 습관이 지속되면 손가락에 굳은살이 생기거나 염증이 생기기도 한다 생후 6개월이 지나도 아기가 손가락을 계속 빤다면 왜 아기가 손가락을 빨고 있는지 생각해봐야 한다 대개 아기는 심심하거나 부모의 관심을 얻고 싶을 때 손가락을 빤다 따라서 이런 아기의 심리를 파악하고 나서 대처하는 것이 순서다 이를 방관하면 아기가 놀이의 즐거움을 통해 얻을 수 있는 중요한 자극을 상실하는 것과 같기 때문이다 일반적으로 아기가 손가락을 빠는 버릇은 활동량이 많아지거나 무언가에 집중하는 34세가 되면 자연스럽게 없어지지만 그렇지 않을 때는 강압적으로 아이의 행동을 제지하기보다는 아이가 손가락을 빠는 원인이 무엇인지 살피고 그 원인을 없애주는 것이 옳다 아이만이 알 수 있는 눈빛이나 미소를 보내 자신도 모르게 하는 행동을 자각할 수 있도록 도움을 주는 것이 좋다 따라서 아기가 어리다면 크게 걱정할 필요는 없다 하지만 어느 정도 자란 아이가 손가락을 빨아댄다면 경우가 좀 다르다 영구치가 나기 시작하는 만 5세쯤에는 손가락을 빠는 버릇이 새로 나는 영구치에 나쁜 영향을 미칠 수 있기 때문이다 손가락 대신 빨 수 있는 대치물을 준다 생후 6개월 이후에도 아기가 심각할 정도로 손가락을 빤다고 판단될 때는 손가락 대신 공갈 젖꼭지로 대체해주는 것이 좋다 가끔 엄마 중에 공갈 젖꼭지가 아기에게 안 좋은 영향을 미칠 수 있다고 생각하는데 미국 소아학회에서는 아기가 공갈 젖꼭지를 빨아도 의학적으로나 심리적으로 아무런 문제가 생기지 않는다고 밝히고 있다 또는 이가 나기 시작하면 간지러워 손을 빨 수도 있으므로 이가 나려고 하는 것인지 살펴보고 치아 발육기를 물려주는 것도 한 방법이다 부드러운 방법으로 지적해준다 아기가 손가락을 빤다고 해서 억지로 손가락을 잡아 빼거나 못하게 하면 아기는 입술을 빠는 버릇으로 욕구를 채우려고 할 수 있다 즉 나쁜 습관의 강압적인 중단이 더 나쁜 버릇으로 이어질 수 있으므로 주의하도록 한다 아기가 손가락을 입에 가져가면 다정한 목소리로 손가락이라고 지적하거나 손을 빠는 아기와 눈이 마주쳤을 때 고개를 절레절레 흔들어서 안 된다는 표시를 하면 아기는 자기의 버릇을 인식하게 된다 다른 일에 흥미를 갖게 한다 아기가 손가락을 빨고 있으면 아기의 주의를 끌 다른 흥밋거리를 제공한다 이를테면 아기가 좋아하는 그림책을 가져와 자 엄마랑 그림책 볼까 하면서 슬쩍 아기의 손에 책을 쥐어준다 아기는 그림책을 보는 동안 손가락 빠는 것을 잊어버릴 것이다 엄마와 함께 산책을 나가거나 그림을 그려보거나 소리 나는 장난감을 가지고 놀게 하는 것도 좋은 방법이다 만약 잘 때만 허전함을 느껴 손가락을 빠는 아기라면 잠이 잘 들도록 목욕 후 엄마가 노래를 불러주거나 재미있는 이야기를 들려준다 요 엄마 젖꼭지 또는 젖병 젖꼭지와 모양이 같고 입에 물 수 있도록 만든 젖꼭지를 공갈 젖꼭지라고 한다 공갈 젖꼭지는 엄마들이 아기의 울음을 달래고자 입에 물려주었던 것이 최근 아기의 빨려는 욕구를 충족시킨다는 연구 결과가 발표되면서 평상시에 사용하는 엄마가 꽤 많이 늘었다 습관이 되면 잠자리에 들 때조차 입에 물고 자려 한다 대물 애착의 애착물과는 달리 엄마가 습관적으로 물려주는 것으로 신체 접촉만큼의 포만감과 욕구가 충족되어 아기의 심리적 안정에 좋은 영향을 미친다고 한다 생후 6개월이 지나면 아기의 빨고자 하는 욕구는 줄어든다 그 이후에 공갈 젖꼭지를 빠는 것은 이를 대체할 만한 흥미로운 자극을 받지 못해서라고 볼 수 있다 공갈 젖꼭지에 집착하는 것이 심각한 문제가 되지는 않지만 아기의 심리적인 욕구불만을 표현하는 신호일 수 있으므로 부모는 세심한 관심과 사랑으로 아기에게 신경 써야 할 것이다 특히 중이염이 잦은 아기에게는 월령이 낮더라도 공갈 젖꼭지를 물려서는 안 된다 귀 안의 이관에 음압이 작용해 중이염에 쉽게 걸릴 수 있기 때문이다 떼는 시기 공갈 젖꼭지에 익숙해진 아기는 애착물의 경우와 같이 공갈 젖꼭지를 입에서 놓지 않으려고 한다 주로 우유를 먹는 아기가 더 많은 집착을 보이는데 이는 젖병으로 먹는 우유는 아기가 빨려고 하는 욕구를 충분히 충족하지 못한 채 없어져버리는 것도 어느 정도 원인이 된다 일부 전문가들은 공갈 젖꼭지를 심하게 빨면 이가 곧바로 나오는 것을 방해하고 입 모양이 밉게 된다고 주장하기도 하지만 아주 심한 경우가 아니면 큰 지장이 없다는 의견이 대세다 그렇지만 습관이 되거나 심하게 물면 구강 발달이나 치아 발달에 좋지 않으므로 두 돌 전에 끊는 것이 바람직하다 이렇게 떼세요 공갈 젖꼭지를 떼기 위해서는 가능한 한 아기와 많이 놀아주고 흥미 있는 다른 놀이를 할 수 있도록 끊임없이 신경 써주어야 한다 아기를 혼내거나 지나친 걱정을 보이는 것은 아기에게 스트레스를 주어 빨기에 더 집착할 수 있다 만 4세가 지나도 빨기가 지속되면 적극적으로 치료를 해야 하는데 대화를 통해 왜 빨면 안 되는지 이유를 설명해주고 손가락이나 집착하는 공갈 젖꼭지에 약을 바르거나 장치를 붙이는 방법을 쓰기도 한다 특별한 이유가 없는 한 이유식을 먹고 고형 음식을 먹게 되면 더 이상 빨지 않는 경우가 대부분이다 특히 동생이 생긴 아이에겐 공갈 젖꼭지는 아기만 사용하는 것이라고 일러주면 쉽게 뗄 수 있다 돌이 지난 아이가 젖병을 떼지 못하고 지속적으로 찾는 행동은 못하게 해야 한다고 전문가들은 못박아 말한다 아이가 젖병을 찾는 이유는 배가 고파서라기보다는 빨고자 하는 욕구를 충족하고 싶기 때문이다 하지만 아이가 젖병을 통해 심리적 안정감을 찾는 경우는 극히 드물다고 한다 떼는 시기 첫돌이 지나면 반드시 젖병을 떼야 하는데 젖병을 제 시기에 떼지 못하면 이유 과정에서 영양 불균형 등의 문제가 나타날 수 있고 지나치게 의존하려는 경향 때문에 정서적으로 나쁜 영향을 미친다 또 젖병을 물고 자는 경우가 많아 치아 건강이 나빠진다 그리고 플라스틱 젖병은 환경호르몬의 나쁜 영향을 받을 수 있으므로 일찍 떼는 것이 좋다 젖병으로 우유를 먹다 보면 이관에 가해지는 압력이 커져 중이염에 걸릴 위험이 있고 젖병을 물고 오래 돌아다니다 보면 우유가 상해 배탈이 날 수 있으므로 주의해야 한다 이렇게 떼세요 자연스러운 젖병 떼기는 이유기부터 시작하는 것이 좋은데 바른 이유 연습 과정만 잘 지켜도 젖병 떼기는 자연스럽게 이뤄진다 그러기 위해서는 우선 분유를 끊고 숟가락으로 밥을 먹는 연습을 해야 한다 안전한 빨대컵에 우유나 물을 담아 빨대로 마시는 연습을 시키고 컵이나 숟가락으로 먹었을 때는 아낌없이 칭찬해 아이에게 자부심을 심어준다 젖병 대신 다양한 질감을 느낄 수 있는 치아 발육기를 사용하거나 수유 시간을 제대로 지키는 것도 젖병 떼기에 아주 중요하다\n",
      "idx: 14045 similarity: 0.634\n",
      "아이의 젖병 떼는 시기가 늦어진다면 밤에도 젖병 없이 잠을 잘 수 없으며 영양 불균형 치아의 손상 씹어서 삼켜야 하는 이유식 거부 등 식습관에도 문제가 생길 수 있다 젖병 떼는 방법보통 아이가 16개월이 넘기 전에 젖병을 완전히 떼는 것이 좋으며 빠르면 빠를수록 좋다먼저 78개월부터 수저를 사용한 다양한 놀이를 통해 친근함을 느낄 수 있도록 한다수저를 사용하여 밥을 먹기는 힘들지만 거부하지 않고 스스로 먹을 수 있도록 많은 시간을 준다면 충분히 가능하다생 후 12개월에 들어서면 아이는 변화에 대해서 잘 적응할 수 있다이 시기를 놓치지 않고 컵을 쥐여준다면 분유나 유유를 젖병이 아닌 다른 도구로도 마실 수 있다는 사실을 아이에게 인식 시키 켜줄 수 있다 컵에 주스나 분유를 담아 마실 수 있게 유도해보자 처음에는 컵에 있는 내용물을 쏟고 엎기도 하며 시행착오를 겪지만 나중에는 스스로 마시는 방법을 터득하여 컵을 거부하지 않는다수유 시간을 정확하게 지키는 것도 방법이다 밤중 수유는 반드시 끊어야 하며 음식을 먹을 시간이 되면 어른들과 함께 아이도 식탁 의자에 앉히고 함께 음식을 먹게 하는 것이 좋다위의 과정을 통해 최종적으로 아이는 젖병과 작별해야 한다 아이에게 충분한 설명과 함께 이제 더 이상 젖병을 사용하지 못함을 알려준다 이 과정에서 아이는 익숙했던 것을 버리고 새로운 것을 받아들이는데 적응해 나갈 것이다젖병 떼기는 아이가 충분히 받아들일 준비가 되어야 시행할 수 있다 조바심에 아이의 반응을 살피지 않고 무조건 강제적으로 젖병 사용 금지를 한다면 아이는 오히려 반감이 생겨 젖병에 집착할 수 있다 젖병은 적절한 시기에 떼야 하지만 시기에 조바심을 느끼지 않고 아이가 충분히 받아들일 준비가 되었는지 확인하며 천천히 단계를 밟아 젖병과 작별 인사를 할 수 있도록 하자\n",
      "idx: 15452 similarity: 0.634\n",
      "아기가 젖병만 보면 입으로 가져가는 이유는 왜일까 배가 고프다는 의사 표현일까 아니면 말랑말랑 젤리 같은 젖꼭지의 느낌이 좋아서일까 혹시 어딘가 아프거나 불만이 있다는 무언의 표현은 아닐까 배가 고프면 엄마를 찾거나 우유를 찾는 것은 당연한 일이겠지만 아기들은 배가 고프지 않아도 젖병을 물고 싶어한다 별다른 이유 없이 손가락이나 공갈 젖꼭지를 빠는 것과 같은 이유에서다 또한 아기들도 스트레스에 의해 지나치게 젖병을 빨려고 하는 경우가 있으며 자신보다 어린 동생이 젖병을 빠는 모습을 보고 따라서 젖병을 빨게 되는 경우도 있다고 한다흔히 엄마들은 모유를 먹지 못한 아기들은 젖병의 젖꼭지를 통해 엄마 젖을 빠는 것과 같은 심리적 안정감을 얻을 수 있을 것이라고 생각한다 하지만 젖병을 통해 아기들이 얻게 되는 심리적 안정감은 극히 일부분에 불과하다는 게 전문가들의 지적이다서울소아과 윤경애 원장은 아기들이 젖병을 지속해서 빠는 이유를 일종의 집착 현상이라고 설명한다 아기들마다 특별히 좋아하는 인형이나 놀잇감이 있듯이 젖병도 그 중의 하나라는 것 항상 새로운 놀잇감을 원하는 아기에게 젖병은 훌륭한 놀잇감이요 친구가 된다 게다가 다른 어떤 것보다 쉽게 빨 수 있고 배고픔도 해소할 수 있으니 아기들이 자주 찾게 될 수밖에 없는 것이다 아기가 젖병으로만 먹으려 한다면 그대로 두어도 되는 것일까 서서히 스스로 젖병을 뗄 수 있게 되지는 않을까 아기가 너무 오랫동안 젖병을 물고 있거나 돌이 지나서도 젖병을 떼지 못했다면 문제는 크다 젖병에 담을 수 있는 음식만 먹다 보니 정상적인 이유 과정이 완료되기 어렵고 영양의 불균형 때문에 발육에도 나쁜 영향을 미치기 때문이다 더 큰 문제는 정서적으로도 좋지 않은 영향을 끼친다는 점이다미국의 한 연구 보고에 의하면 젖병을 늦게 뗀 아기들의 경우 성장해서 알코올 중독 증상이 더 많이 나타났다고 한다 어려서 젖병에 의존하던 성향이 너무 강해 커가면서도 무언가에 의존하게 되고 자신의 스트레스를 먹는 것에서 풀려고 하는 마음에서 오는 현상이라고 젖병을 사용하면서 느끼던 쾌감과 집착적인 행동이 자라서 알코올 중독으로 이어지는 것은 매우 극단적인 사례이지만 대수롭지 않게 여기던 젖병을 빠는 습관 때문에 아기의 정서적 건강이 나빠진다는 건 결코 간과할 수 없는 일이다따라서 윤경애 원장은 아기가 18개월이 되기 전까지는 젖병을 반드시 떼야 한다고 강조한다 아기가 6개월이 되면 반드시 이유식을 시작해 수유량을 점차 줄이고 숟가락 쥐는 법과 컵 사용법을 가르쳐 돌이 되면 젖병 수유를 완전히 끊어야 한다 젖병을 오랫동안 떼지 못했을 때 오는 부작용에는 어떤 것이 있는지 좀더 구체적으로 알아보자 의존적인 성격이 강해진다 젖병을 오랫동안 사용한 아기들의 경우 다른 아기들에 비해 의존적인 성격이 강해진다 어릴 적부터 젖병에 지나치게 집착하고 젖병을 빠는 것에서 정신적인 만족감을 얻었기 때문에 이런 습관을 버리기 어렵다 또 이렇게 한 가지 사물에 집착했던 아기들은 자라면서도 자신이 마음먹은 대로만 하려는 고집스런 성격이 되기 쉽다고 한다 영양 불균형이 초래된다 분유에는 철분이 부족하여 소아 빈혈을 초래하기 쉽다 특히 6개월 이상의 아기에게 분유만 먹이거나 돌이 지난 아기가 분유나 생우유를 주식으로 하고 있다면 빈혈일 가능성이 높다 이 시기가 되면 분유나 생우유는 간식이 되어야 하고 반드시 밥과 반찬을 통해 영양을 섭취해야 한다 또 분유나 생우유를 많이 먹을 경우 소아 비만의 원인이 되기도 한다 통상 젖병을 떼지 못한 아기들은 우유 섭취량이 권장량소아과 의사들은 돌 이후에는 하루 평균 400∼500cc를 권장하고 있다보다 매우 많은 편이어서 영양 불균형을 초래하기 쉽다 치아를 손상시킨다 젖병을 사용하면 아기의 입 안에 우유가 남아 충치의 원인이 된다 간혹 아기의 치아는 영구치가 아니라 유치니까 썩어도 별문제없겠지 하고 생각하는 엄마들이 있으나 이것은 큰 착각이다 치아가 심하게 썩어 치아의 뿌리 부분까지 영향을 미치게 되면 아기의 영구치에까지 나쁜 영향을 준다 또 유치가 나는 시기에 젖병을 계속 물고 있으면 치열도 고르지 못하게 되므로 특히 주의해야 한다 아기의 치아를 깨끗이 닦아준다면 별문제가 되지 않겠지만 아기들의 경우 치아를 고루고루 닦아주는 것은 생각보다 어려운 일이다 환경 호르몬에 노출될 수 있다 환경 호르몬이라 하면 컵라면 용기 등에 쓰이는 일회용 용기에서만 나오는 것이려니 생각하는 경우가 많으나 아기들이 사용하는 플라스틱 젖병 역시 환경 호르몬에 안전할 수는 없다 요즘은 환경 호르몬에 안전한 소재를 이용한 젖병들도 판매되고 있지만 그래도 사용할 때 주의를 기울여야 한다 특히 요즘 엄마들은 전자레인지를 이용해 젖병을 소독하는 경우가 많은데 플라스틱으로 된 젖병을 전자레인지로 오랜 시간 가열하게 되면 환경 호르몬이 방출될 수 있다 비록 미세한 양이라 하더라도 연약한 아기의 입 속에 아구창을 일으킬 수도 있다고 한다 신체 발달에 영향을 준다 쉽게 젖병을 빠는 데 습관이 된 아기들은 다른 음식을 먹을 때도 노력을 들이려 하지 않게 된다 자신이 직접 숟가락을 쥐고 이유식을 먹어야 할 시기에도 젖병 빨기에만 열중한다면 손에 힘을 주고 사물을 쥐는 능력이 다른 아기들에 비해 더디게 된다 중이염의 위험성이 있다 설마 하는 엄마들이 많겠지만 실제로 젖병 떼기가 너무 늦으면 중이염 가능성이 커진다 아기들은 이관이 수평으로 되어 있고 길이가 짧은데다 두꺼워서 누운 채 젖병으로 우유를 먹다 보면 이관에 가해지는 압력이 커져 중이염에 걸릴 위험이 있다 잦은 배탈의 원인이 된다 아기들은 우유를 먹을 때 한 번에 다 먹지 않고 오랫동안 젖병을 들고 돌아다니는 경우가 많다 이런 경우 우유가 상해 무심코 다시 젖병을 빨게 된 아기들은 배탈이 나게 된다 또 빈 젖병을 오래 빨거나 누워서 젖병을 빨게 되면 공기를 많이 먹게 돼 토하거나 배앓이를 하기 쉽다 또한 남긴 우유를 아깝다고 다시 주면 배탈의 원인이 될 수도 있으니 주의해야 한다 보통 4∼5개월부터 시작하여 6개월이 되면 대부분의 아기들에게 시작되는 이유기 이 시기에 올바르게 이유식을 먹이는 연습만 해도 젖병 떼기는 자연스럽게 할 수 있게 된다고 한다 올바른 젖병 떼기는 언제 어떤 과정을 거쳐야 하는 것일까 생후 4∼6개월 이 시기에는 분유 수유 사이에 쌀미음 과일즙 등으로 이유식을 시작할 수 있다 그러나 아기들은 아직 소화 기관이 완벽하게 발달하지 않았으므로 이유식 재료에 주의를 기울여야 한다 아직 숟가락이나 컵을 사용하기에는 이르지만 아기가 이유식을 먹을 때 옆에 두고 친근감을 느끼게 하는 것이 좋다 과일즙을 줄 때 가끔씩 숟가락에 떠서 아기에게 주면 새로운 것에 흥미를 느끼게 될 것이다 생후 6∼12개월 아기에게 본격적으로 이유식을 먹이기 시작하는 6개월이 되면 올바른 식습관을 가르치고 균형 있는 영양을 공급해주는 것이 중요하다 이 시기부터는 분유량을 조금씩 줄이고 아기에게 필요한 영양분을 이유식을 통해 섭취하도록 해줘야 한다 이유식은 묽은 죽에서 밥의 형태로 바꿔가고 점차 다양한 재료를 첨가해주며 횟수를 늘려간다 그러다 돌이 지나면 하루 3번 이상 밥이나 죽을 통해 영양을 섭취하도록 해야 한다 생우유의 경우 영양이 풍부하다고 생각해 지나치게 많이 먹이는 엄마들이 있으나 그러면 아기들이 변비에 걸리기 쉽다 따라서 평상시에 음식을 통해 섬유질을 충분히 섭취하게 해야 한다생후 8개월이 지나면 아기는 점차 손에 힘을 주고 물건을 잡으려고 하는데 이때부터 아기에게 숟가락과 컵 쥐는 연습을 시켜줘야 한다 젖병을 떼는 일이 마음먹었다고 해서 곧바로 이루어지는 일이 아니라 수많은 연습의 결과로 이루어지는 일이기 때문이다 이유식을 줄 때는 항상 그릇에 담아 떠먹여야 하며 조제 이유식을 젖병에 담아 먹이는 것은 매우 좋지 않은 방법이다 또 아기가 숟가락 사용하는 것이 익숙지 않아 옷에 흘리기 쉬우므로 이유식을 줄 때는 턱받이를 해주는 것이 좋다 아기에게 분유를 먹일 때 젖병에 담아주는 횟수를 점차 줄이고 컵에 담아주는 것도 빨리 젖병을 떼게 하는 방법이 된다 무엇보다 이 시기에는 아기에게 다양한 음식을 경험하게 하고 편식하는 습관을 갖지 않도록 하는 것이 중요하다 생후 12∼18개월 본격적으로 젖병을 떼야 하는 시기다 젖병은 돌이 지난 후 늦어도 18개월 이전에는 반드시 떼야 한다 떼는 방법은 간단하다 젖병을 치우고 숟가락과 컵으로 먹이면 그만이다 물론 구체적인 방법은 아기에 따라 다소 다를 수 있으나 이유 과정을 제대로 해왔다면 큰 무리는 없을 것이다 항상 젖병을 물고 다니는 아기와 따라다니며 젖병을 뺏으려는 엄마 아기 키우기에 항상 지쳐 있을 엄마들은 어떻게 해야 아기에게 상처를 주지 않고 효과적으로 젖병을 뗄 수 있을지 고민이다 아기가 좀더 자라서 엄마의 말을 이해하는 나이가 되면 젖병을 쉽게 뗄 수 있다는 의견도 있으나 그때까지 기다리는 것은 올바른 방법이 아니다 젖병 떼기가 늦은 아이들 가운데에는 네 살 다섯 살까지도 젖병혹은 공갈 젖꼭지을 물고 잠드는 사례도 적지 않다 분유 떼기도 병행한다 젖병을 떼기 위해 반드시 거쳐야 하는 과정이 바로 이유離乳다 분유를 지속해서 먹는다면 젖병을 떼는 일이 두 배로 어려워진다 또 분유를 먹이다 보면 분유 맛에 익숙해진 아기들은 다른 음식을 잘 먹으려 들지 않는다 이유기에는 이유식을 잘 먹여야 비로소 밥을 먹는 어린이로 순조롭게 성장해갈 수 있음을 명심하자 컵과 숟가락 연습을 시킨다 아기가 8개월 정도가 되면 어느 정도 자신의 손으로 물건을 쥐는 힘이 생기게 된다 이 시기부터 숟가락 쥐는 연습을 시켜야 적당한 시기에 젖병을 뗄 수 있다 또 아기들은 컵 사용이 익숙지 않아 옷에 자꾸 흘리게 된다고 컵을 사용하지 않는 경우가 있는데 이렇게 자꾸 미루다 보면 아기는 돌이 지나도 컵을 사용하지 못하게 된다 안전한 빨대 컵을 준다 젖병에만 익숙해져 있는 아기들에게 빨대 컵과 알록달록 예쁜 캐릭터 컵을 주는 것도 젖병을 멀리하게 하는 하나의 방법이다 단 어른들이 사용하는 얇고 작은 빨대를 아기에게 주어서는 안 된다 아기들에게는 너무 날카롭고 입 안 깊숙이 넣을 위험성이 있기 때문이다 스스로 컵을 가지고 먹게 되면 아기들은 자립심도 길러지고 흥미도 느끼게 된다 시중에는 아기들이 쉽게 사용할 수 있고 옷에 흘릴 염려도 없는 제품들이 많이 나와 있는데 빠는 부분이 뭉툭하고 둥글게 처리되어 있어 안전하다 아기가 빨대를 잘 사용하지 못한다면 빨대를 이용한 놀이를 통해 빨대에 적응시키는 것도 좋은 방법이다 또 처음에는 빨대 컵을 사용하다가 점차 시간이 지나면 일반 컵을 사용할 수 있게 엄마가 조절해주어야 한다 수유 시간을 정확하게 지킨다 수유 시간을 정확히 지키고 올바른 식습관을 들여주는 것도 무엇보다 중요하다 특히 밤중 수유는 반드시 끊어야 한다 아기가 6개월 정도 되면 치아가 나기 시작하는데 충치의 원인이 밤중 수유에서 시작되는 경우가 많기 때문이다 또 밤중에 잠에서 반쯤 깨어 먹는 일이 잦아지면 아기의 성장 호르몬 분비에도 지장을 주게 된다 음식을 먹을 시간이 되면 아기를 식탁 의자에 앉히거나 어른들이 먹는 시간에 맞춰 함께 음식을 먹게 하는 것도 좋은 방법이 된다 수유 시간 사이에 아기가 좋아하는 주스나 보리차를 먹이는 것도 좋다 그 밖에 반드시 젖병으로 먹여야 한다면 엄마가 아기를 안고 먹이는 것이 좋다 엄마가 안아주게 되면 아기가 젖병에 집착하는 성향이 줄어들기 때문 또 아기가 숟가락이나 컵으로 먹었을 때 칭찬해주는 것도 반드시 필요하다 젖병 젖꼭지를 빠는 대신에 다양한 질감을 느낄 수 있는 치아 발육기를 이용하는 것도 좋고 재미있게 생긴 장난감을 주면 당연히 젖병에 대한 관심이 줄어들게 된다 돌이 지났는데도 아기가 젖병만을 고집할 때는 단호하게 대처해야 한다 먼저 엄마가 마음을 단단히 먹고 젖병을 치운 뒤 숟가락이나 컵으로만 먹인다 물론 아기는 떼를 쓰거나 먹지 않는 등 저항을 하게 되지만 그래도 대부분의 아기들은 이틀 정도가 지나면 엄마가 주는 대로 음식을 먹게 된다그러나 간혹 고집이 너무 센 아기는 이런 방법이 먹히지 않을 수도 있다 젖병을 주지 않는다고 해서 아기가 발작을 일으킬 정도의 상황이 벌어진다면 아기의 상태를 지켜본 후 천천히 시도해야 한다 이런 아기들은 자신이 원하는 것을 얻기 전에는 아무것도 먹으려 들지 않기 때문에 필요한 영양분이 부족하지 않게 천천히 젖병 떼기를 시도해야 한다 아울러 이처럼 젖병을 고집하는 데에는 다른 정서적인 문제 때문일 수도 있으므로 전문가의 상담을 받아보는 것도 좋겠다아기가 원하는 젖병을 주지 않으면 욕구 불만이 생기지 않을까 걱정하는 엄마들이 있지만 계속해서 젖병을 물고 있을수록 아기의 고집은 더 세지게 된다 또 젖병을 떼었다가 아기가 울고 보챈다고 해서 다시 젖병을 주게 되면 다음에 다시 젖병을 떼기 위해서는 두 배의 시간과 노력이 필요하다 젖꼭지에 쓴 약을 발라놓거나 아기가 보는 앞에서 젖병 젖꼭지를 잘라버리는 방법을 사용하는 엄마들도 있으나 이런 방법은 바람직하지 않다 아기에게 젖병을 떼는 이유를 설명해준 뒤 젖병을 치우고 단호히 대처하는 정면 돌파의 방법이 어렵지만 가장 효과적인 방법이다\n"
     ]
    }
   ],
   "source": [
    "print(\"Input Document\", df['text'][100], sep=\"\\n\")\n",
    "\n",
    "similar_docs = doc2vec_model.docvecs.most_similar(100)\n",
    "\n",
    "print(\"Most similar Documents\")\n",
    "for idx, similarity in similar_docs[:3]:\n",
    "    print(\"idx:\", idx, \"similarity:\", np.round(similarity, 3))\n",
    "    print(df['text'][idx])"
   ]
  },
  {
   "cell_type": "code",
   "execution_count": 53,
   "metadata": {},
   "outputs": [],
   "source": [
    "df['tokenized_doc'] = df['noun'].apply(lambda x: doc2vec_model.infer_vector(x).astype(float))"
   ]
  },
  {
   "cell_type": "code",
   "execution_count": 54,
   "metadata": {},
   "outputs": [
    {
     "data": {
      "text/html": [
       "<div>\n",
       "<style scoped>\n",
       "    .dataframe tbody tr th:only-of-type {\n",
       "        vertical-align: middle;\n",
       "    }\n",
       "\n",
       "    .dataframe tbody tr th {\n",
       "        vertical-align: top;\n",
       "    }\n",
       "\n",
       "    .dataframe thead th {\n",
       "        text-align: right;\n",
       "    }\n",
       "</style>\n",
       "<table border=\"1\" class=\"dataframe\">\n",
       "  <thead>\n",
       "    <tr style=\"text-align: right;\">\n",
       "      <th></th>\n",
       "      <th>text</th>\n",
       "      <th>tokenized</th>\n",
       "      <th>noun</th>\n",
       "      <th>tokenized_doc</th>\n",
       "    </tr>\n",
       "  </thead>\n",
       "  <tbody>\n",
       "    <tr>\n",
       "      <th>0</th>\n",
       "      <td>6살 남아 입니다 회사 복직 후 3살부터 주중에는 외할머니댁에서 2살 4살 터울의 ...</td>\n",
       "      <td>[6, 살, 남, 아, 입, 니, 다, 회사, 복직, 후, 3, 살, 부터, 주, ...</td>\n",
       "      <td>[살, 회사, 복직, 후, 살, 주, 중, 외할머니, 댁, 살, 살, 터울, 사촌,...</td>\n",
       "      <td>[0.0666288509964943, -0.2398962378501892, 0.08...</td>\n",
       "    </tr>\n",
       "    <tr>\n",
       "      <th>1</th>\n",
       "      <td>요즘 들어 아빠가 아이에게 다가가려고 하면 엄마한테 갈 거야 하면서 엄마를 유독 찾...</td>\n",
       "      <td>[요즘, 들, 어, 아빠, 가, 아이, 에게, 다가가, 려고, 하, 면, 엄마, 한...</td>\n",
       "      <td>[아빠, 아이, 엄마, 거, 엄마, 전, 정도, 엄마, 아빠, 거부, 엄마, 눈, ...</td>\n",
       "      <td>[-0.031621795147657394, -0.1197349950671196, 0...</td>\n",
       "    </tr>\n",
       "    <tr>\n",
       "      <th>2</th>\n",
       "      <td>둘째가 태어나면 첫째가 힘들 거라는 건 예상하고 있었지만 툭하면 삐치고 울고 좀처럼...</td>\n",
       "      <td>[둘째, 가, 태어나, 면, 첫째, 가, 힘들, 거, 라는, 건, 예상, 하, 고,...</td>\n",
       "      <td>[둘째, 첫째, 거, 건, 예상, 때, 엄마, 껌, 딱지, 첫째, 외출, 때, 제외...</td>\n",
       "      <td>[-0.03517955541610718, 0.06947168707847595, -0...</td>\n",
       "    </tr>\n",
       "    <tr>\n",
       "      <th>3</th>\n",
       "      <td>20개월 남아가 있고 임신 8개월차로 두 아기의 엄마입니다 첫 아이는 잠자리 독립을...</td>\n",
       "      <td>[20, 개월, 남아, 가, 있, 고, 임신, 8, 개월, 차, 로, 두, 아기, ...</td>\n",
       "      <td>[개월, 남아, 임신, 개월, 차, 아기, 엄마, 아이, 잠자리, 독립, 생후, 일...</td>\n",
       "      <td>[-0.23605751991271973, -0.10074695944786072, -...</td>\n",
       "    </tr>\n",
       "    <tr>\n",
       "      <th>4</th>\n",
       "      <td>14개월 남자 아기인데 심하게 깨무는 버릇이 있어요 전에는 졸릴 때 주로 물곤 했는...</td>\n",
       "      <td>[14, 개월, 남자, 아기, 인데, 심하, 게, 깨무, 는, 버릇, 이, 있, 어...</td>\n",
       "      <td>[개월, 남자, 아기, 버릇, 전, 때, 이제, 자기, 지대, 때, 떼, 상대방, ...</td>\n",
       "      <td>[-0.031331680715084076, -0.05370507389307022, ...</td>\n",
       "    </tr>\n",
       "    <tr>\n",
       "      <th>...</th>\n",
       "      <td>...</td>\n",
       "      <td>...</td>\n",
       "      <td>...</td>\n",
       "      <td>...</td>\n",
       "    </tr>\n",
       "    <tr>\n",
       "      <th>25344</th>\n",
       "      <td>가임기 연력 여성의 흡연률 증가와 그 폐해 현대 여성은 다양한 사회활동에 참여하고 ...</td>\n",
       "      <td>[가, 임기, 연력, 여성, 의, 흡연, 률, 증가, 와, 그, 폐해, 현대, 여성...</td>\n",
       "      <td>[임기, 연력, 여성, 흡연, 증가, 폐해, 현대, 여성, 사회, 활동, 참여, 경...</td>\n",
       "      <td>[-0.058275945484638214, -0.8878468871116638, 0...</td>\n",
       "    </tr>\n",
       "    <tr>\n",
       "      <th>25345</th>\n",
       "      <td>아토피에 유전적인 요인이 작용한다는 사실 알고 계시나요 유전적인 요인 뿐 아니라 아...</td>\n",
       "      <td>[아토피, 에, 유전, 적, 인, 요인, 이, 작용, 한다는, 사실, 알, 고, 계...</td>\n",
       "      <td>[아토피, 유전, 요인, 작용, 사실, 유전, 요인, 뿐, 아토피, 유발, 수, 하...</td>\n",
       "      <td>[0.3867766559123993, 0.3105510473251343, -0.13...</td>\n",
       "    </tr>\n",
       "    <tr>\n",
       "      <th>25346</th>\n",
       "      <td>1st 시기에 따라 필요한 영양소를 충분히 뱃속의 아이는 엄마가 먹는 것을 함께 먹...</td>\n",
       "      <td>[1, st, 시기, 에, 따라, 필요, 한, 영양소, 를, 충분히, 뱃속, 의, ...</td>\n",
       "      <td>[시기, 필요, 영양소, 뱃속, 아이, 엄마, 것, 균형, 영양, 음식, 섭취, 태...</td>\n",
       "      <td>[-0.025240298360586166, -0.9818443655967712, 0...</td>\n",
       "    </tr>\n",
       "    <tr>\n",
       "      <th>25347</th>\n",
       "      <td>분만 여성만이 누릴 수 있는 특권 대부분의 여성들은 임신과 분만이라는 과정을 경험하...</td>\n",
       "      <td>[분만, 여성, 만, 이, 누릴, 수, 있, 는, 특권, 대부분, 의, 여성, 들,...</td>\n",
       "      <td>[분만, 여성, 수, 특권, 대부분, 여성, 임신, 분만, 과정, 경험, 삶, 의미...</td>\n",
       "      <td>[-0.27099451422691345, -0.16602614521980286, 0...</td>\n",
       "    </tr>\n",
       "    <tr>\n",
       "      <th>25348</th>\n",
       "      <td>최근 전자파가 건강상의 문제를 일으킬 수 있다는 견해가 많아지면서 임신부들 또한 가...</td>\n",
       "      <td>[최근, 전자파, 가, 건강, 상, 의, 문제, 를, 일으킬, 수, 있, 다는, 견...</td>\n",
       "      <td>[최근, 전자파, 건강, 문제, 수, 견해, 임신부, 가능, 전자파, 노출, 전자레...</td>\n",
       "      <td>[-0.23738905787467957, -0.08155149221420288, -...</td>\n",
       "    </tr>\n",
       "  </tbody>\n",
       "</table>\n",
       "<p>25349 rows × 4 columns</p>\n",
       "</div>"
      ],
      "text/plain": [
       "                                                    text  \\\n",
       "0      6살 남아 입니다 회사 복직 후 3살부터 주중에는 외할머니댁에서 2살 4살 터울의 ...   \n",
       "1      요즘 들어 아빠가 아이에게 다가가려고 하면 엄마한테 갈 거야 하면서 엄마를 유독 찾...   \n",
       "2      둘째가 태어나면 첫째가 힘들 거라는 건 예상하고 있었지만 툭하면 삐치고 울고 좀처럼...   \n",
       "3      20개월 남아가 있고 임신 8개월차로 두 아기의 엄마입니다 첫 아이는 잠자리 독립을...   \n",
       "4      14개월 남자 아기인데 심하게 깨무는 버릇이 있어요 전에는 졸릴 때 주로 물곤 했는...   \n",
       "...                                                  ...   \n",
       "25344  가임기 연력 여성의 흡연률 증가와 그 폐해 현대 여성은 다양한 사회활동에 참여하고 ...   \n",
       "25345  아토피에 유전적인 요인이 작용한다는 사실 알고 계시나요 유전적인 요인 뿐 아니라 아...   \n",
       "25346  1st 시기에 따라 필요한 영양소를 충분히 뱃속의 아이는 엄마가 먹는 것을 함께 먹...   \n",
       "25347  분만 여성만이 누릴 수 있는 특권 대부분의 여성들은 임신과 분만이라는 과정을 경험하...   \n",
       "25348  최근 전자파가 건강상의 문제를 일으킬 수 있다는 견해가 많아지면서 임신부들 또한 가...   \n",
       "\n",
       "                                               tokenized  \\\n",
       "0      [6, 살, 남, 아, 입, 니, 다, 회사, 복직, 후, 3, 살, 부터, 주, ...   \n",
       "1      [요즘, 들, 어, 아빠, 가, 아이, 에게, 다가가, 려고, 하, 면, 엄마, 한...   \n",
       "2      [둘째, 가, 태어나, 면, 첫째, 가, 힘들, 거, 라는, 건, 예상, 하, 고,...   \n",
       "3      [20, 개월, 남아, 가, 있, 고, 임신, 8, 개월, 차, 로, 두, 아기, ...   \n",
       "4      [14, 개월, 남자, 아기, 인데, 심하, 게, 깨무, 는, 버릇, 이, 있, 어...   \n",
       "...                                                  ...   \n",
       "25344  [가, 임기, 연력, 여성, 의, 흡연, 률, 증가, 와, 그, 폐해, 현대, 여성...   \n",
       "25345  [아토피, 에, 유전, 적, 인, 요인, 이, 작용, 한다는, 사실, 알, 고, 계...   \n",
       "25346  [1, st, 시기, 에, 따라, 필요, 한, 영양소, 를, 충분히, 뱃속, 의, ...   \n",
       "25347  [분만, 여성, 만, 이, 누릴, 수, 있, 는, 특권, 대부분, 의, 여성, 들,...   \n",
       "25348  [최근, 전자파, 가, 건강, 상, 의, 문제, 를, 일으킬, 수, 있, 다는, 견...   \n",
       "\n",
       "                                                    noun  \\\n",
       "0      [살, 회사, 복직, 후, 살, 주, 중, 외할머니, 댁, 살, 살, 터울, 사촌,...   \n",
       "1      [아빠, 아이, 엄마, 거, 엄마, 전, 정도, 엄마, 아빠, 거부, 엄마, 눈, ...   \n",
       "2      [둘째, 첫째, 거, 건, 예상, 때, 엄마, 껌, 딱지, 첫째, 외출, 때, 제외...   \n",
       "3      [개월, 남아, 임신, 개월, 차, 아기, 엄마, 아이, 잠자리, 독립, 생후, 일...   \n",
       "4      [개월, 남자, 아기, 버릇, 전, 때, 이제, 자기, 지대, 때, 떼, 상대방, ...   \n",
       "...                                                  ...   \n",
       "25344  [임기, 연력, 여성, 흡연, 증가, 폐해, 현대, 여성, 사회, 활동, 참여, 경...   \n",
       "25345  [아토피, 유전, 요인, 작용, 사실, 유전, 요인, 뿐, 아토피, 유발, 수, 하...   \n",
       "25346  [시기, 필요, 영양소, 뱃속, 아이, 엄마, 것, 균형, 영양, 음식, 섭취, 태...   \n",
       "25347  [분만, 여성, 수, 특권, 대부분, 여성, 임신, 분만, 과정, 경험, 삶, 의미...   \n",
       "25348  [최근, 전자파, 건강, 문제, 수, 견해, 임신부, 가능, 전자파, 노출, 전자레...   \n",
       "\n",
       "                                           tokenized_doc  \n",
       "0      [0.0666288509964943, -0.2398962378501892, 0.08...  \n",
       "1      [-0.031621795147657394, -0.1197349950671196, 0...  \n",
       "2      [-0.03517955541610718, 0.06947168707847595, -0...  \n",
       "3      [-0.23605751991271973, -0.10074695944786072, -...  \n",
       "4      [-0.031331680715084076, -0.05370507389307022, ...  \n",
       "...                                                  ...  \n",
       "25344  [-0.058275945484638214, -0.8878468871116638, 0...  \n",
       "25345  [0.3867766559123993, 0.3105510473251343, -0.13...  \n",
       "25346  [-0.025240298360586166, -0.9818443655967712, 0...  \n",
       "25347  [-0.27099451422691345, -0.16602614521980286, 0...  \n",
       "25348  [-0.23738905787467957, -0.08155149221420288, -...  \n",
       "\n",
       "[25349 rows x 4 columns]"
      ]
     },
     "execution_count": 54,
     "metadata": {},
     "output_type": "execute_result"
    }
   ],
   "source": [
    "df"
   ]
  },
  {
   "cell_type": "code",
   "execution_count": null,
   "metadata": {},
   "outputs": [],
   "source": []
  },
  {
   "cell_type": "code",
   "execution_count": null,
   "metadata": {},
   "outputs": [],
   "source": []
  }
 ],
 "metadata": {
  "kernelspec": {
   "display_name": "Python 3",
   "language": "python",
   "name": "python3"
  },
  "language_info": {
   "codemirror_mode": {
    "name": "ipython",
    "version": 3
   },
   "file_extension": ".py",
   "mimetype": "text/x-python",
   "name": "python",
   "nbconvert_exporter": "python",
   "pygments_lexer": "ipython3",
   "version": "3.7.5"
  }
 },
 "nbformat": 4,
 "nbformat_minor": 2
}
