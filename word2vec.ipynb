{
 "cells": [
  {
   "cell_type": "markdown",
   "metadata": {},
   "source": [
    "# word2vec 단어 간 유사도 체크\n",
    "- 최대한 육아를 주제로 한 말뭉치를 모아보았다. (Total 2,755 documents)\n",
    "- 우리가 원하는 의도에 일치하는 단어 간 유사도 결과가 나오는지를 확인하는 것이 목적이다."
   ]
  },
  {
   "cell_type": "markdown",
   "metadata": {},
   "source": [
    "## Import"
   ]
  },
  {
   "cell_type": "code",
   "execution_count": 43,
   "metadata": {},
   "outputs": [],
   "source": [
    "import pandas as pd\n",
    "import numpy as np\n",
    "\n",
    "from konlpy.tag import Mecab\n",
    "from gensim.models import Word2Vec"
   ]
  },
  {
   "cell_type": "markdown",
   "metadata": {},
   "source": [
    "### Datas"
   ]
  },
  {
   "cell_type": "code",
   "execution_count": 44,
   "metadata": {},
   "outputs": [],
   "source": [
    "df1 = pd.read_csv(\"../crawling/text/Maeili/maeili.csv\")\n",
    "df2 = pd.read_csv(\"../crawling/text/Momtok/MomtokCrawler/baby.csv\")\n",
    "df3 = pd.read_csv(\"../crawling/text/Momtok/MomtokCrawler/toys.csv\")\n",
    "\n",
    "seoulchildcare = []\n",
    "\n",
    "with open(\"../crawling/text/SeoulChildcare/seoulchildcare.txt\", \"r\") as textfile:\n",
    "    for row in textfile:\n",
    "        seoulchildcare.append(row)\n",
    "        \n",
    "df4 = pd.DataFrame({'text': seoulchildcare})"
   ]
  },
  {
   "cell_type": "markdown",
   "metadata": {},
   "source": [
    "#### maeili(매일아이)"
   ]
  },
  {
   "cell_type": "code",
   "execution_count": 45,
   "metadata": {},
   "outputs": [
    {
     "data": {
      "text/html": [
       "<div>\n",
       "<style scoped>\n",
       "    .dataframe tbody tr th:only-of-type {\n",
       "        vertical-align: middle;\n",
       "    }\n",
       "\n",
       "    .dataframe tbody tr th {\n",
       "        vertical-align: top;\n",
       "    }\n",
       "\n",
       "    .dataframe thead th {\n",
       "        text-align: right;\n",
       "    }\n",
       "</style>\n",
       "<table border=\"1\" class=\"dataframe\">\n",
       "  <thead>\n",
       "    <tr style=\"text-align: right;\">\n",
       "      <th></th>\n",
       "      <th>categories</th>\n",
       "      <th>title</th>\n",
       "      <th>text</th>\n",
       "      <th>postlink</th>\n",
       "    </tr>\n",
       "  </thead>\n",
       "  <tbody>\n",
       "    <tr>\n",
       "      <th>1533</th>\n",
       "      <td>임신</td>\n",
       "      <td>'웃음요법' 태교</td>\n",
       "      <td>임신 중에는 스트레스를 받지 않고 몸을 편안하게 하는 것만큼 좋은 태교가 없습니다 ...</td>\n",
       "      <td>https://www.maeili.com/cms/contents/contentsVi...</td>\n",
       "    </tr>\n",
       "    <tr>\n",
       "      <th>1534</th>\n",
       "      <td>임신</td>\n",
       "      <td>기형 검사와 보조 검사</td>\n",
       "      <td>모든 임신부는 나이에 상관없이 7백 명에 한 명꼴로 정신박약을 초래하는 다운 증후군...</td>\n",
       "      <td>https://www.maeili.com/cms/contents/contentsVi...</td>\n",
       "    </tr>\n",
       "    <tr>\n",
       "      <th>1535</th>\n",
       "      <td>임신</td>\n",
       "      <td>임신 시기별 검사 종류와 횟수</td>\n",
       "      <td>첫방문시 혈액검사 소변검사 혈액형 검사 풍진항체 검사 8 18주 초음파검사 필요한...</td>\n",
       "      <td>https://www.maeili.com/cms/contents/contentsVi...</td>\n",
       "    </tr>\n",
       "    <tr>\n",
       "      <th>1536</th>\n",
       "      <td>임신</td>\n",
       "      <td>초음파 검사의 임상적 유용성</td>\n",
       "      <td>초기의 정상적인 자궁내 임신의 확인 임신낭과 태아의 성장 여부와 크기 측정 임신주...</td>\n",
       "      <td>https://www.maeili.com/cms/contents/contentsVi...</td>\n",
       "    </tr>\n",
       "    <tr>\n",
       "      <th>1537</th>\n",
       "      <td>임신</td>\n",
       "      <td>산전 유전 상담이란</td>\n",
       "      <td>유전 질환 염색체 이상도 말초 혈액의 염색체 검사로서 진단이 가능하나 산과 영역에서...</td>\n",
       "      <td>https://www.maeili.com/cms/contents/contentsVi...</td>\n",
       "    </tr>\n",
       "  </tbody>\n",
       "</table>\n",
       "</div>"
      ],
      "text/plain": [
       "     categories             title  \\\n",
       "1533         임신         '웃음요법' 태교   \n",
       "1534         임신      기형 검사와 보조 검사   \n",
       "1535         임신  임신 시기별 검사 종류와 횟수   \n",
       "1536         임신   초음파 검사의 임상적 유용성   \n",
       "1537         임신        산전 유전 상담이란   \n",
       "\n",
       "                                                   text  \\\n",
       "1533  임신 중에는 스트레스를 받지 않고 몸을 편안하게 하는 것만큼 좋은 태교가 없습니다 ...   \n",
       "1534  모든 임신부는 나이에 상관없이 7백 명에 한 명꼴로 정신박약을 초래하는 다운 증후군...   \n",
       "1535   첫방문시 혈액검사 소변검사 혈액형 검사 풍진항체 검사 8 18주 초음파검사 필요한...   \n",
       "1536   초기의 정상적인 자궁내 임신의 확인 임신낭과 태아의 성장 여부와 크기 측정 임신주...   \n",
       "1537  유전 질환 염색체 이상도 말초 혈액의 염색체 검사로서 진단이 가능하나 산과 영역에서...   \n",
       "\n",
       "                                               postlink  \n",
       "1533  https://www.maeili.com/cms/contents/contentsVi...  \n",
       "1534  https://www.maeili.com/cms/contents/contentsVi...  \n",
       "1535  https://www.maeili.com/cms/contents/contentsVi...  \n",
       "1536  https://www.maeili.com/cms/contents/contentsVi...  \n",
       "1537  https://www.maeili.com/cms/contents/contentsVi...  "
      ]
     },
     "execution_count": 45,
     "metadata": {},
     "output_type": "execute_result"
    }
   ],
   "source": [
    "df1.tail()"
   ]
  },
  {
   "cell_type": "markdown",
   "metadata": {},
   "source": [
    "#### momtalk(육아정보)"
   ]
  },
  {
   "cell_type": "code",
   "execution_count": 46,
   "metadata": {},
   "outputs": [
    {
     "data": {
      "text/html": [
       "<div>\n",
       "<style scoped>\n",
       "    .dataframe tbody tr th:only-of-type {\n",
       "        vertical-align: middle;\n",
       "    }\n",
       "\n",
       "    .dataframe tbody tr th {\n",
       "        vertical-align: top;\n",
       "    }\n",
       "\n",
       "    .dataframe thead th {\n",
       "        text-align: right;\n",
       "    }\n",
       "</style>\n",
       "<table border=\"1\" class=\"dataframe\">\n",
       "  <thead>\n",
       "    <tr style=\"text-align: right;\">\n",
       "      <th></th>\n",
       "      <th>idx</th>\n",
       "      <th>text</th>\n",
       "    </tr>\n",
       "  </thead>\n",
       "  <tbody>\n",
       "    <tr>\n",
       "      <th>695</th>\n",
       "      <td>852</td>\n",
       "      <td>유아용품 유통기한 바로알기 기저귀 화장품 기저귀 화장품에도 유통기한이 있다구 두고...</td>\n",
       "    </tr>\n",
       "    <tr>\n",
       "      <th>696</th>\n",
       "      <td>928</td>\n",
       "      <td>우리 아이 쑥쑥 클 수 있게 전지현 크림으로 하는 베이비 마사지법 서 알려드려요 ...</td>\n",
       "    </tr>\n",
       "    <tr>\n",
       "      <th>697</th>\n",
       "      <td>971</td>\n",
       "      <td>이유식을 시작하는 맘들을 위해 이유식 준비물 요점 정리 이유식을 시작하는 맘들을 ...</td>\n",
       "    </tr>\n",
       "    <tr>\n",
       "      <th>698</th>\n",
       "      <td>843</td>\n",
       "      <td>휴일에 문 여는 약국이 궁금하다면 휴일지킴이약국 검색법 하필 쉬는 날 응급약이 필...</td>\n",
       "    </tr>\n",
       "    <tr>\n",
       "      <th>699</th>\n",
       "      <td>842</td>\n",
       "      <td>우리 아이가 아파요 응급실에 가야할까요 소아과 전문의 김연호 선생님과 함께하는 우...</td>\n",
       "    </tr>\n",
       "  </tbody>\n",
       "</table>\n",
       "</div>"
      ],
      "text/plain": [
       "     idx                                               text\n",
       "695  852   유아용품 유통기한 바로알기 기저귀 화장품 기저귀 화장품에도 유통기한이 있다구 두고...\n",
       "696  928   우리 아이 쑥쑥 클 수 있게 전지현 크림으로 하는 베이비 마사지법 서 알려드려요 ...\n",
       "697  971   이유식을 시작하는 맘들을 위해 이유식 준비물 요점 정리 이유식을 시작하는 맘들을 ...\n",
       "698  843   휴일에 문 여는 약국이 궁금하다면 휴일지킴이약국 검색법 하필 쉬는 날 응급약이 필...\n",
       "699  842   우리 아이가 아파요 응급실에 가야할까요 소아과 전문의 김연호 선생님과 함께하는 우..."
      ]
     },
     "execution_count": 46,
     "metadata": {},
     "output_type": "execute_result"
    }
   ],
   "source": [
    "df2.tail()"
   ]
  },
  {
   "cell_type": "markdown",
   "metadata": {},
   "source": [
    "#### momtalk(유아용품)"
   ]
  },
  {
   "cell_type": "code",
   "execution_count": 47,
   "metadata": {},
   "outputs": [
    {
     "data": {
      "text/html": [
       "<div>\n",
       "<style scoped>\n",
       "    .dataframe tbody tr th:only-of-type {\n",
       "        vertical-align: middle;\n",
       "    }\n",
       "\n",
       "    .dataframe tbody tr th {\n",
       "        vertical-align: top;\n",
       "    }\n",
       "\n",
       "    .dataframe thead th {\n",
       "        text-align: right;\n",
       "    }\n",
       "</style>\n",
       "<table border=\"1\" class=\"dataframe\">\n",
       "  <thead>\n",
       "    <tr style=\"text-align: right;\">\n",
       "      <th></th>\n",
       "      <th>idx</th>\n",
       "      <th>text</th>\n",
       "    </tr>\n",
       "  </thead>\n",
       "  <tbody>\n",
       "    <tr>\n",
       "      <th>482</th>\n",
       "      <td>622</td>\n",
       "      <td>우리아이 치발기 치아발육기 선택 꿀팁 잇몸이 근질근질우리아이 치아발육기 선택팁 아...</td>\n",
       "    </tr>\n",
       "    <tr>\n",
       "      <th>483</th>\n",
       "      <td>640</td>\n",
       "      <td>쏘서 점퍼루 보행기 우리아이 선택은 쏘서 점퍼루 보행기 우리아이 선택은 아이를 낳...</td>\n",
       "    </tr>\n",
       "    <tr>\n",
       "      <th>484</th>\n",
       "      <td>607</td>\n",
       "      <td>신생아부터 유아까지 아기목욕용품 및 아기 목욕시키기 신생아부터 유아까지아기 목욕용...</td>\n",
       "    </tr>\n",
       "    <tr>\n",
       "      <th>485</th>\n",
       "      <td>567</td>\n",
       "      <td>아기용품 어떤걸로 골라야 할까 아기용품 고르기 오늘은 아기용품고르기에 대해 함께 ...</td>\n",
       "    </tr>\n",
       "    <tr>\n",
       "      <th>486</th>\n",
       "      <td>604</td>\n",
       "      <td>장난감수납장 이거좋아요 이번주 베스트글 주인공은 소영님 입니다 요즘 장난감수납장에...</td>\n",
       "    </tr>\n",
       "  </tbody>\n",
       "</table>\n",
       "</div>"
      ],
      "text/plain": [
       "     idx                                               text\n",
       "482  622   우리아이 치발기 치아발육기 선택 꿀팁 잇몸이 근질근질우리아이 치아발육기 선택팁 아...\n",
       "483  640   쏘서 점퍼루 보행기 우리아이 선택은 쏘서 점퍼루 보행기 우리아이 선택은 아이를 낳...\n",
       "484  607   신생아부터 유아까지 아기목욕용품 및 아기 목욕시키기 신생아부터 유아까지아기 목욕용...\n",
       "485  567   아기용품 어떤걸로 골라야 할까 아기용품 고르기 오늘은 아기용품고르기에 대해 함께 ...\n",
       "486  604   장난감수납장 이거좋아요 이번주 베스트글 주인공은 소영님 입니다 요즘 장난감수납장에..."
      ]
     },
     "execution_count": 47,
     "metadata": {},
     "output_type": "execute_result"
    }
   ],
   "source": [
    "df3.tail()"
   ]
  },
  {
   "cell_type": "markdown",
   "metadata": {},
   "source": [
    "#### 서울육아종합지원센터 육아전문칼럼"
   ]
  },
  {
   "cell_type": "code",
   "execution_count": 48,
   "metadata": {},
   "outputs": [
    {
     "data": {
      "text/html": [
       "<div>\n",
       "<style scoped>\n",
       "    .dataframe tbody tr th:only-of-type {\n",
       "        vertical-align: middle;\n",
       "    }\n",
       "\n",
       "    .dataframe tbody tr th {\n",
       "        vertical-align: top;\n",
       "    }\n",
       "\n",
       "    .dataframe thead th {\n",
       "        text-align: right;\n",
       "    }\n",
       "</style>\n",
       "<table border=\"1\" class=\"dataframe\">\n",
       "  <thead>\n",
       "    <tr style=\"text-align: right;\">\n",
       "      <th></th>\n",
       "      <th>text</th>\n",
       "    </tr>\n",
       "  </thead>\n",
       "  <tbody>\n",
       "    <tr>\n",
       "      <th>34</th>\n",
       "      <td>주제 영유아의 선행학습 진짜 도움될까 부제 당신의 잘못이 아닙니다 다만 저는 예전...</td>\n",
       "    </tr>\n",
       "    <tr>\n",
       "      <th>35</th>\n",
       "      <td>좋은 아빠 지금 하지 않으면 늦다 결혼을 하고 아이를 키우면서 가장 힘든 점은 욕...</td>\n",
       "    </tr>\n",
       "    <tr>\n",
       "      <th>36</th>\n",
       "      <td>놀이의 뇌과학적 가치 요즘 아이들은 밖에서 같이 놀 기회가 적어졌다 누군가와 놀아...</td>\n",
       "    </tr>\n",
       "    <tr>\n",
       "      <th>37</th>\n",
       "      <td>영유아기 자녀와 안정 애착 형성하기 영유아기 때 부모와 맺은 관계 경험은 평생을 ...</td>\n",
       "    </tr>\n",
       "    <tr>\n",
       "      <th>38</th>\n",
       "      <td>아이를 숲으로 데려갈까요 4차 산업혁명시대를 맞이하여 더 많이 놀게 하고 더 많이...</td>\n",
       "    </tr>\n",
       "  </tbody>\n",
       "</table>\n",
       "</div>"
      ],
      "text/plain": [
       "                                                 text\n",
       "34   주제 영유아의 선행학습 진짜 도움될까 부제 당신의 잘못이 아닙니다 다만 저는 예전...\n",
       "35   좋은 아빠 지금 하지 않으면 늦다 결혼을 하고 아이를 키우면서 가장 힘든 점은 욕...\n",
       "36   놀이의 뇌과학적 가치 요즘 아이들은 밖에서 같이 놀 기회가 적어졌다 누군가와 놀아...\n",
       "37   영유아기 자녀와 안정 애착 형성하기 영유아기 때 부모와 맺은 관계 경험은 평생을 ...\n",
       "38   아이를 숲으로 데려갈까요 4차 산업혁명시대를 맞이하여 더 많이 놀게 하고 더 많이..."
      ]
     },
     "execution_count": 48,
     "metadata": {},
     "output_type": "execute_result"
    }
   ],
   "source": [
    "df4.tail()"
   ]
  },
  {
   "cell_type": "markdown",
   "metadata": {},
   "source": [
    "### Concatenate Dataframe"
   ]
  },
  {
   "cell_type": "code",
   "execution_count": 192,
   "metadata": {},
   "outputs": [],
   "source": [
    "df = pd.concat([df1.text, df2.text, df3.text, df4.text])\n",
    "df = pd.DataFrame(df).reset_index(drop=True)"
   ]
  },
  {
   "cell_type": "markdown",
   "metadata": {},
   "source": [
    "### Remove some contents"
   ]
  },
  {
   "cell_type": "code",
   "execution_count": 193,
   "metadata": {},
   "outputs": [],
   "source": [
    "df = df.drop(index=[952, 955, 956, 960, 962, 964, 1165, 1240, 1322])"
   ]
  },
  {
   "cell_type": "markdown",
   "metadata": {},
   "source": [
    "### Add tokenized column"
   ]
  },
  {
   "cell_type": "code",
   "execution_count": 194,
   "metadata": {},
   "outputs": [],
   "source": [
    "def tokenize(text):\n",
    "    tokenizer = Mecab()\n",
    "    text = tokenizer.morphs(text)\n",
    "#     text = ' '.join(text)\n",
    "    return text\n",
    "    \n",
    "df['tokenized'] = df['text'].apply(tokenize)\n",
    "df = df.dropna()"
   ]
  },
  {
   "cell_type": "code",
   "execution_count": 209,
   "metadata": {},
   "outputs": [
    {
     "name": "stdout",
     "output_type": "stream",
     "text": [
      "<class 'pandas.core.frame.DataFrame'>\n",
      "Int64Index: 2755 entries, 0 to 2763\n",
      "Data columns (total 2 columns):\n",
      "text         2755 non-null object\n",
      "tokenized    2755 non-null object\n",
      "dtypes: object(2)\n",
      "memory usage: 64.6+ KB\n"
     ]
    }
   ],
   "source": [
    "df.info()"
   ]
  },
  {
   "cell_type": "markdown",
   "metadata": {},
   "source": [
    "## Train Word2Vec"
   ]
  },
  {
   "cell_type": "markdown",
   "metadata": {},
   "source": [
    "#### WTF error\n",
    "- df를 csv 형식으로 저장한 후 다시 로드하면 Word2Vec 학습에 인코딩 문제가 생긴다.\n",
    "- 더 자세히 파고들어보니 list 형식의 column이 csv로 저장할 때 강제로 string 타입으로 형변환 됨.\n",
    "- 이렇게 형변환 된 column을 Word2Vec 학습에 사용할 시 한글 텍스트가 깨지는 현상이 발생함.. 정확한 원인은 아직 모르겠다."
   ]
  },
  {
   "cell_type": "code",
   "execution_count": 188,
   "metadata": {},
   "outputs": [],
   "source": [
    "# df.to_csv('text_for_word2vec.csv', index=False, encoding='utf-8')\n",
    "# df = pd.read_csv('text_for_word2vec.csv', encoding='utf-8')"
   ]
  },
  {
   "cell_type": "markdown",
   "metadata": {},
   "source": [
    "그러므로 저장 & 로드 과정 생략하고 바로 말뭉치를 numpy ndarray형식으로 변환"
   ]
  },
  {
   "cell_type": "code",
   "execution_count": 199,
   "metadata": {},
   "outputs": [
    {
     "data": {
      "text/plain": [
       "numpy.ndarray"
      ]
     },
     "execution_count": 199,
     "metadata": {},
     "output_type": "execute_result"
    }
   ],
   "source": [
    "corpus = np.array(df.tokenized)\n",
    "type(corpus)"
   ]
  },
  {
   "cell_type": "code",
   "execution_count": 197,
   "metadata": {},
   "outputs": [],
   "source": [
    "model = Word2Vec(corpus, size=100, workers=4, sg=1)\n",
    "model.save('tokmom_word2vec')"
   ]
  },
  {
   "cell_type": "markdown",
   "metadata": {},
   "source": [
    "#### 유사어 분석"
   ]
  },
  {
   "cell_type": "code",
   "execution_count": 198,
   "metadata": {},
   "outputs": [
    {
     "data": {
      "text/plain": [
       "[('미술', 0.6401194334030151),\n",
       " ('소꿉', 0.640009343624115),\n",
       " ('악기', 0.639319658279419),\n",
       " ('가상', 0.6161954998970032),\n",
       " ('점토', 0.6113858222961426),\n",
       " ('보드게임', 0.6093951463699341),\n",
       " ('공놀이', 0.6089156866073608),\n",
       " ('블럭', 0.6015890836715698),\n",
       " ('퍼즐', 0.597853422164917),\n",
       " ('공예', 0.5955957770347595)]"
      ]
     },
     "execution_count": 198,
     "metadata": {},
     "output_type": "execute_result"
    }
   ],
   "source": [
    "model.wv.similar_by_word(\"놀이\")"
   ]
  },
  {
   "cell_type": "code",
   "execution_count": 201,
   "metadata": {},
   "outputs": [
    {
     "data": {
      "text/plain": [
       "[('아기', 0.6443846225738525),\n",
       " ('외동아이', 0.638481855392456),\n",
       " ('궁금해하', 0.635124683380127),\n",
       " ('말다툼', 0.6187405586242676),\n",
       " ('가령', 0.61295485496521),\n",
       " ('아가', 0.6117354035377502),\n",
       " ('큰아이', 0.6047983169555664),\n",
       " ('참을성', 0.5999466180801392),\n",
       " ('자녀', 0.5994678735733032),\n",
       " ('언제나', 0.5962915420532227)]"
      ]
     },
     "execution_count": 201,
     "metadata": {},
     "output_type": "execute_result"
    }
   ],
   "source": [
    "model.wv.similar_by_word(\"아이\")"
   ]
  },
  {
   "cell_type": "code",
   "execution_count": 202,
   "metadata": {},
   "outputs": [
    {
     "data": {
      "text/plain": [
       "[('유치', 0.7831703424453735),\n",
       " ('영구치', 0.7581613659858704),\n",
       " ('충치', 0.6993371248245239),\n",
       " ('잇몸', 0.6968017816543579),\n",
       " ('젖니', 0.6424744725227356),\n",
       " ('발육기', 0.6411329507827759),\n",
       " ('우식증', 0.636883020401001),\n",
       " ('턱뼈', 0.6170935034751892),\n",
       " ('관리', 0.6111301183700562),\n",
       " ('치과', 0.5850251913070679)]"
      ]
     },
     "execution_count": 202,
     "metadata": {},
     "output_type": "execute_result"
    }
   ],
   "source": [
    "model.wv.similar_by_word(\"치아\")"
   ]
  },
  {
   "cell_type": "code",
   "execution_count": 203,
   "metadata": {},
   "outputs": [
    {
     "data": {
      "text/plain": [
       "[('다물', 0.8562512397766113),\n",
       " ('물렸', 0.855617344379425),\n",
       " ('묻히', 0.8498890995979309),\n",
       " ('흘린', 0.8470172882080078),\n",
       " ('눕혀서', 0.8447372317314148),\n",
       " ('갈아입혀', 0.8428230285644531),\n",
       " ('빨아먹', 0.8425527811050415),\n",
       " ('비우', 0.841046929359436),\n",
       " ('문질러서', 0.8384517431259155),\n",
       " ('뗀', 0.8335757255554199)]"
      ]
     },
     "execution_count": 203,
     "metadata": {},
     "output_type": "execute_result"
    }
   ],
   "source": [
    "model.wv.similar_by_word(\"이빨\")"
   ]
  },
  {
   "cell_type": "code",
   "execution_count": 204,
   "metadata": {},
   "outputs": [
    {
     "data": {
      "text/plain": [
       "[('기관지염', 0.8151572942733765),\n",
       " ('구내염', 0.8048379421234131),\n",
       " ('코감기', 0.7859163284301758),\n",
       " ('모세', 0.7803899645805359),\n",
       " ('냉방병', 0.7658597230911255),\n",
       " ('독감', 0.7635818719863892),\n",
       " ('족구', 0.7625694274902344),\n",
       " ('일교차', 0.7553218603134155),\n",
       " ('전염병', 0.7465672492980957),\n",
       " ('비염', 0.746048092842102)]"
      ]
     },
     "execution_count": 204,
     "metadata": {},
     "output_type": "execute_result"
    }
   ],
   "source": [
    "model.wv.similar_by_word(\"감기\")"
   ]
  },
  {
   "cell_type": "code",
   "execution_count": 205,
   "metadata": {},
   "outputs": [
    {
     "data": {
      "text/plain": [
       "[('고열', 0.6815513372421265),\n",
       " ('오르', 0.6455028057098389),\n",
       " ('떨어졌', 0.6262140274047852),\n",
       " ('오한', 0.6194145679473877),\n",
       " ('배탈', 0.6173418164253235),\n",
       " ('진물', 0.6168859601020813),\n",
       " ('38', 0.6107426881790161),\n",
       " ('실밥', 0.6009123921394348),\n",
       " ('콧물', 0.5945661067962646),\n",
       " ('맥박', 0.591853141784668)]"
      ]
     },
     "execution_count": 205,
     "metadata": {},
     "output_type": "execute_result"
    }
   ],
   "source": [
    "model.wv.similar_by_word(\"열\")"
   ]
  },
  {
   "cell_type": "code",
   "execution_count": 206,
   "metadata": {},
   "outputs": [
    {
     "data": {
      "text/plain": [
       "[('운다', 0.8518242835998535),\n",
       " ('가려워하', 0.8357567191123962),\n",
       " ('신음', 0.8261104822158813),\n",
       " ('숨소리', 0.8246290683746338),\n",
       " ('아파서', 0.8228338956832886),\n",
       " ('쌕쌕거리', 0.8164627552032471),\n",
       " ('아파하', 0.8094748258590698),\n",
       " ('아프', 0.8033629059791565),\n",
       " ('졸리', 0.8015425205230713),\n",
       " ('자지러지', 0.7976456880569458)]"
      ]
     },
     "execution_count": 206,
     "metadata": {},
     "output_type": "execute_result"
    }
   ],
   "source": [
    "model.wv.similar_by_word(\"아파\")"
   ]
  },
  {
   "cell_type": "code",
   "execution_count": 208,
   "metadata": {},
   "outputs": [
    {
     "data": {
      "text/plain": [
       "[('고프', 0.8295062780380249),\n",
       " ('아파서', 0.8044006824493408),\n",
       " ('아파', 0.8033629059791565),\n",
       " ('아픈', 0.8004787564277649),\n",
       " ('시리', 0.7910274267196655),\n",
       " ('신음', 0.7867963314056396),\n",
       " ('가렵', 0.7781084775924683),\n",
       " ('보채', 0.7769567966461182),\n",
       " ('몹시', 0.7743347883224487),\n",
       " ('아파하', 0.7673138380050659)]"
      ]
     },
     "execution_count": 208,
     "metadata": {},
     "output_type": "execute_result"
    }
   ],
   "source": [
    "model.wv.similar_by_word(\"아프\")"
   ]
  },
  {
   "cell_type": "code",
   "execution_count": 207,
   "metadata": {},
   "outputs": [
    {
     "data": {
      "text/plain": [
       "[('지르', 0.7875815629959106),\n",
       " ('터뜨리', 0.7765035629272461),\n",
       " ('비명', 0.7734931111335754),\n",
       " ('투정', 0.7645355463027954),\n",
       " ('웃음', 0.7563694715499878),\n",
       " ('짜증', 0.7504301071166992),\n",
       " ('좌절', 0.748199462890625),\n",
       " ('떼쓰', 0.743984580039978),\n",
       " ('눈치', 0.7426326274871826),\n",
       " ('놀라', 0.7379218339920044)]"
      ]
     },
     "execution_count": 207,
     "metadata": {},
     "output_type": "execute_result"
    }
   ],
   "source": [
    "model.wv.similar_by_word(\"울음\")"
   ]
  },
  {
   "cell_type": "markdown",
   "metadata": {},
   "source": [
    "---"
   ]
  },
  {
   "cell_type": "markdown",
   "metadata": {},
   "source": [
    "## Only Noun"
   ]
  },
  {
   "cell_type": "markdown",
   "metadata": {},
   "source": [
    "- 이번에는 말뭉치에서 명사만 추출하여 결과를 비교해보자"
   ]
  },
  {
   "cell_type": "code",
   "execution_count": 217,
   "metadata": {},
   "outputs": [],
   "source": [
    "def extract_noun(text):\n",
    "    tokenizer = Mecab()\n",
    "    text = tokenizer.nouns(text)\n",
    "#     text = ' '.join(text)\n",
    "    return text\n",
    "    \n",
    "df['noun'] = df['text'].apply(extract_noun)\n",
    "df = df.dropna()"
   ]
  },
  {
   "cell_type": "code",
   "execution_count": 219,
   "metadata": {},
   "outputs": [],
   "source": [
    "noun_corpus = np.array(df.noun)"
   ]
  },
  {
   "cell_type": "code",
   "execution_count": 220,
   "metadata": {},
   "outputs": [],
   "source": [
    "model = Word2Vec(noun_corpus, size=100, workers=4, sg=1)\n",
    "# model.save('tokmom_word2vec_only_noun')"
   ]
  },
  {
   "cell_type": "code",
   "execution_count": 221,
   "metadata": {},
   "outputs": [
    {
     "data": {
      "text/plain": [
       "[('소꿉', 0.7232999801635742),\n",
       " ('가상', 0.6864834427833557),\n",
       " ('퍼즐', 0.6853044033050537),\n",
       " ('공구', 0.6801934242248535),\n",
       " ('블럭', 0.6749951839447021),\n",
       " ('놀잇감', 0.6738475561141968),\n",
       " ('모래', 0.6715108156204224),\n",
       " ('숨바꼭질', 0.6682935357093811),\n",
       " ('교구', 0.6666603088378906),\n",
       " ('낚시', 0.6649571657180786)]"
      ]
     },
     "execution_count": 221,
     "metadata": {},
     "output_type": "execute_result"
    }
   ],
   "source": [
    "model.wv.similar_by_word(\"놀이\")"
   ]
  },
  {
   "cell_type": "code",
   "execution_count": 222,
   "metadata": {},
   "outputs": [
    {
     "data": {
      "text/plain": [
       "[('예전', 0.7032129168510437),\n",
       " ('걸', 0.6790162324905396),\n",
       " ('여든', 0.6752416491508484),\n",
       " ('넌', 0.6690855026245117),\n",
       " ('실랑이', 0.6682751178741455),\n",
       " ('요령', 0.6678499579429626),\n",
       " ('의문', 0.6665750741958618),\n",
       " ('만약', 0.6650289297103882),\n",
       " ('예고', 0.6623905897140503),\n",
       " ('거기', 0.6621741056442261)]"
      ]
     },
     "execution_count": 222,
     "metadata": {},
     "output_type": "execute_result"
    }
   ],
   "source": [
    "model.wv.similar_by_word(\"아이\")"
   ]
  },
  {
   "cell_type": "code",
   "execution_count": 223,
   "metadata": {},
   "outputs": [
    {
     "data": {
      "text/plain": [
       "[('유치', 0.887710690498352),\n",
       " ('영구치', 0.8551468849182129),\n",
       " ('충치', 0.8333171606063843),\n",
       " ('잇몸', 0.8128228187561035),\n",
       " ('젖니', 0.7964135408401489),\n",
       " ('어금니', 0.7822399139404297),\n",
       " ('발육기', 0.7612699270248413),\n",
       " ('치아우식증', 0.7477948665618896),\n",
       " ('법랑질', 0.728696346282959),\n",
       " ('불소', 0.7240395545959473)]"
      ]
     },
     "execution_count": 223,
     "metadata": {},
     "output_type": "execute_result"
    }
   ],
   "source": [
    "model.wv.similar_by_word(\"치아\")"
   ]
  },
  {
   "cell_type": "code",
   "execution_count": 224,
   "metadata": {},
   "outputs": [
    {
     "data": {
      "text/plain": [
       "[('젖떼기', 0.8597941398620605),\n",
       " ('치아우식증', 0.8539888262748718),\n",
       " ('결심', 0.8492799401283264),\n",
       " ('양치질', 0.8481295704841614),\n",
       " ('허기', 0.8437939286231995),\n",
       " ('다면', 0.8409777283668518),\n",
       " ('안팎', 0.8391331434249878),\n",
       " ('아파', 0.8380986452102661),\n",
       " ('쉬야', 0.8365988731384277),\n",
       " ('생략', 0.8350856304168701)]"
      ]
     },
     "execution_count": 224,
     "metadata": {},
     "output_type": "execute_result"
    }
   ],
   "source": [
    "model.wv.similar_by_word(\"이빨\")"
   ]
  },
  {
   "cell_type": "code",
   "execution_count": 225,
   "metadata": {},
   "outputs": [
    {
     "data": {
      "text/plain": [
       "[('기관지염', 0.8361650109291077),\n",
       " ('구내염', 0.8307960629463196),\n",
       " ('일교차', 0.8283977508544922),\n",
       " ('독감', 0.8273149132728577),\n",
       " ('발병', 0.8210816383361816),\n",
       " ('냉방병', 0.8203357458114624),\n",
       " ('환절기', 0.8194378018379211),\n",
       " ('모세', 0.8119893074035645),\n",
       " ('호흡기', 0.8116012811660767),\n",
       " ('고열', 0.8019291162490845)]"
      ]
     },
     "execution_count": 225,
     "metadata": {},
     "output_type": "execute_result"
    }
   ],
   "source": [
    "model.wv.similar_by_word(\"감기\")"
   ]
  },
  {
   "cell_type": "code",
   "execution_count": 226,
   "metadata": {},
   "outputs": [
    {
     "data": {
      "text/plain": [
       "[('고열', 0.7782238721847534),\n",
       " ('해열제', 0.7610315084457397),\n",
       " ('고열로', 0.758381724357605),\n",
       " ('경련', 0.7324706315994263),\n",
       " ('오한', 0.7209625244140625),\n",
       " ('미열', 0.7193896770477295),\n",
       " ('감기', 0.7161926031112671),\n",
       " ('기운', 0.7157675623893738),\n",
       " ('성경', 0.7133293151855469),\n",
       " ('발열', 0.711622953414917)]"
      ]
     },
     "execution_count": 226,
     "metadata": {},
     "output_type": "execute_result"
    }
   ],
   "source": [
    "model.wv.similar_by_word(\"열\")"
   ]
  },
  {
   "cell_type": "code",
   "execution_count": 227,
   "metadata": {},
   "outputs": [
    {
     "data": {
      "text/plain": [
       "[('자다', 0.9248478412628174),\n",
       " ('안팎', 0.9233746528625488),\n",
       " ('아랫입술', 0.9227613210678101),\n",
       " ('와중', 0.9191538095474243),\n",
       " ('부근', 0.9186658263206482),\n",
       " ('다거', 0.9164068698883057),\n",
       " ('간헐', 0.9160115122795105),\n",
       " ('사레', 0.9143134951591492),\n",
       " ('지름', 0.9142541289329529),\n",
       " ('저부', 0.9125714302062988)]"
      ]
     },
     "execution_count": 227,
     "metadata": {},
     "output_type": "execute_result"
    }
   ],
   "source": [
    "model.wv.similar_by_word(\"아파\")"
   ]
  },
  {
   "cell_type": "code",
   "execution_count": 229,
   "metadata": {},
   "outputs": [
    {
     "data": {
      "text/plain": [
       "[('비명', 0.8273400068283081),\n",
       " ('눈빛', 0.8135977983474731),\n",
       " ('미소', 0.8038680553436279),\n",
       " ('옹알이', 0.8020099401473999),\n",
       " ('부리기', 0.7986065149307251),\n",
       " ('불만', 0.7965575456619263),\n",
       " ('젖먹이', 0.7963262796401978),\n",
       " ('대꾸', 0.7940142750740051),\n",
       " ('내게', 0.7907352447509766),\n",
       " ('어조', 0.7901761531829834)]"
      ]
     },
     "execution_count": 229,
     "metadata": {},
     "output_type": "execute_result"
    }
   ],
   "source": [
    "model.wv.similar_by_word(\"울음\")"
   ]
  },
  {
   "cell_type": "markdown",
   "metadata": {},
   "source": [
    "### Volume of Corpus "
   ]
  },
  {
   "cell_type": "code",
   "execution_count": 233,
   "metadata": {},
   "outputs": [],
   "source": [
    "df[['text']].to_csv('text.csv', index=False, encoding='utf-8')"
   ]
  },
  {
   "cell_type": "code",
   "execution_count": 235,
   "metadata": {},
   "outputs": [
    {
     "name": "stdout",
     "output_type": "stream",
     "text": [
      "<class 'pandas.core.frame.DataFrame'>\n",
      "RangeIndex: 2754 entries, 0 to 2753\n",
      "Data columns (total 1 columns):\n",
      "text    2754 non-null object\n",
      "dtypes: object(1)\n",
      "memory usage: 21.6+ KB\n"
     ]
    }
   ],
   "source": [
    "pd.read_csv('text.csv').info()"
   ]
  },
  {
   "cell_type": "code",
   "execution_count": null,
   "metadata": {},
   "outputs": [],
   "source": []
  }
 ],
 "metadata": {
  "kernelspec": {
   "display_name": "Python 3",
   "language": "python",
   "name": "python3"
  },
  "language_info": {
   "codemirror_mode": {
    "name": "ipython",
    "version": 3
   },
   "file_extension": ".py",
   "mimetype": "text/x-python",
   "name": "python",
   "nbconvert_exporter": "python",
   "pygments_lexer": "ipython3",
   "version": "3.7.5"
  }
 },
 "nbformat": 4,
 "nbformat_minor": 2
}
