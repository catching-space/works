{
 "cells": [
  {
   "cell_type": "markdown",
   "metadata": {},
   "source": [
    "# word2vec 단어 간 유사도 체크\n",
    "- 최대한 육아를 주제로 한 말뭉치를 모아보았다. (Total 2,755 documents)\n",
    "- 우리가 원하는 의도에 일치하는 단어 간 유사도 결과가 나오는지를 확인하는 것이 목적이다."
   ]
  },
  {
   "cell_type": "markdown",
   "metadata": {},
   "source": [
    "## Import"
   ]
  },
  {
   "cell_type": "code",
   "execution_count": 1,
   "metadata": {},
   "outputs": [],
   "source": [
    "import pandas as pd\n",
    "import numpy as np\n",
    "import re\n",
    "\n",
    "from konlpy.tag import Mecab\n",
    "from konlpy.tag import Komoran\n",
    "from gensim.models import Word2Vec"
   ]
  },
  {
   "cell_type": "markdown",
   "metadata": {},
   "source": [
    "### Datas"
   ]
  },
  {
   "cell_type": "code",
   "execution_count": 2,
   "metadata": {},
   "outputs": [],
   "source": [
    "df1 = pd.read_csv(\"data/maeili.csv\", encoding='utf-8')\n",
    "df2 = pd.read_csv(\"data/baby.csv\", encoding='utf-8')\n",
    "df3 = pd.read_csv(\"data/toys.csv\", encoding='utf-8')\n",
    "df4 = pd.read_csv(\"data/seoulchildcare.csv\", encoding='utf-8')\n",
    "df5 = pd.read_csv(\"data/babynews_DLC.csv\", encoding='utf-8')\n",
    "df6 = pd.read_csv(\"data/ildongfoodis.csv\", encoding='utf-8')\n",
    "df7 = pd.read_csv(\"data/momsmagazine.csv\", encoding='utf-8')\n",
    "df8 = pd.read_csv(\"data/ange.csv\", encoding='utf-8')\n",
    "df9 = pd.read_csv(\"data/babytimes.csv\", encoding='utf-8')\n",
    "df10 = pd.read_csv(\"data/daekyo.csv\", encoding='utf-8')\n",
    "df11 = pd.read_csv(\"data/mom&enfant.csv\", encoding='utf-8')\n",
    "df12 = pd.read_csv(\"data/namyang.csv\", encoding='utf-8')"
   ]
  },
  {
   "cell_type": "markdown",
   "metadata": {},
   "source": [
    "### Concatenate Dataframe"
   ]
  },
  {
   "cell_type": "code",
   "execution_count": 3,
   "metadata": {},
   "outputs": [
    {
     "data": {
      "text/html": [
       "<div>\n",
       "<style scoped>\n",
       "    .dataframe tbody tr th:only-of-type {\n",
       "        vertical-align: middle;\n",
       "    }\n",
       "\n",
       "    .dataframe tbody tr th {\n",
       "        vertical-align: top;\n",
       "    }\n",
       "\n",
       "    .dataframe thead th {\n",
       "        text-align: right;\n",
       "    }\n",
       "</style>\n",
       "<table border=\"1\" class=\"dataframe\">\n",
       "  <thead>\n",
       "    <tr style=\"text-align: right;\">\n",
       "      <th></th>\n",
       "      <th>text</th>\n",
       "    </tr>\n",
       "  </thead>\n",
       "  <tbody>\n",
       "    <tr>\n",
       "      <th>26956</th>\n",
       "      <td>임신을 축하드립니다 임신을 확인한 후에 느끼는 기쁨과 설레임 이제는 혼자가 아니기에...</td>\n",
       "    </tr>\n",
       "    <tr>\n",
       "      <th>26957</th>\n",
       "      <td>임신을 한 순간부터 태교는 시작된다 태교는 단순히 영재를 출산하기 위해서가 아니라 ...</td>\n",
       "    </tr>\n",
       "    <tr>\n",
       "      <th>26958</th>\n",
       "      <td>16 20주 6개월 태아는 엄마 배꼽 아래에 있으며 자궁은 태아가 자유롭게 움직일 ...</td>\n",
       "    </tr>\n",
       "    <tr>\n",
       "      <th>26959</th>\n",
       "      <td>현대의학의 힘으로는 풀아하지 못하는 영역 중의 하나가 태몽이다 신기하게 임신만 하면...</td>\n",
       "    </tr>\n",
       "    <tr>\n",
       "      <th>26960</th>\n",
       "      <td>속설1 배가 부른 모양을 보면 아들 딸 여부를 알 수 있다 주부 설문 그렇다 84 ...</td>\n",
       "    </tr>\n",
       "  </tbody>\n",
       "</table>\n",
       "</div>"
      ],
      "text/plain": [
       "                                                    text\n",
       "26956  임신을 축하드립니다 임신을 확인한 후에 느끼는 기쁨과 설레임 이제는 혼자가 아니기에...\n",
       "26957  임신을 한 순간부터 태교는 시작된다 태교는 단순히 영재를 출산하기 위해서가 아니라 ...\n",
       "26958  16 20주 6개월 태아는 엄마 배꼽 아래에 있으며 자궁은 태아가 자유롭게 움직일 ...\n",
       "26959  현대의학의 힘으로는 풀아하지 못하는 영역 중의 하나가 태몽이다 신기하게 임신만 하면...\n",
       "26960  속설1 배가 부른 모양을 보면 아들 딸 여부를 알 수 있다 주부 설문 그렇다 84 ..."
      ]
     },
     "execution_count": 3,
     "metadata": {},
     "output_type": "execute_result"
    }
   ],
   "source": [
    "df = pd.concat([df1.text, df2.text, df3.text, df4.text, df5.text,\n",
    "                df6.text, df7.text, df8.text, df9.text, df10.text,\n",
    "                df11.text, df12.text])\n",
    "df = pd.DataFrame(df).reset_index(drop=True)\n",
    "df.tail()"
   ]
  },
  {
   "cell_type": "markdown",
   "metadata": {},
   "source": [
    "### Preprocessing"
   ]
  },
  {
   "cell_type": "code",
   "execution_count": 4,
   "metadata": {},
   "outputs": [],
   "source": [
    "def cleaningText(text):\n",
    "    text = re.sub('&nbsp;|\\xa0|\\u200b|\\r|\\n|\\t', ' ', text)\n",
    "    text = re.sub('<.+>|【.+】|\\[.+\\]', ' ', text)\n",
    "    text = re.sub('[-_=+,/\\?;:^$.@*\\\"※~&%ㆍ!”“’「」『』〈〉\\\\‘|\\(\\)\\{\\}\\[\\]\\<\\>`\\'…《》]', ' ', text)\n",
    "    text = re.sub('[㈜×–～→▪‧•∘✽○□◇△▽▷◁☆◈◐▶▼▲◆★♦■♥️●♠🖤]', ' ', text)\n",
    "    text = re.sub('[①②③④⑤⑥⑦⑧⑨⑩⑪⑫⑬⑭⑮⑯⑰⑱⑲⑳]', ' ', text)\n",
    "    text = re.sub('[➊❷➌❹❺❻❼❽❾❿]', ' ', text)\n",
    "    text = re.sub('http.+com|http.+co|http.+kr|www.+kr|www.+com|www.+net|http.+net', ' ', text)\n",
    "    text = re.sub(\"\\s.+\\s기자\", '', text)\n",
    "    text = re.sub('ⓒ\\S+\\s|㈜\\S+\\s|홈페이지\\S+\\s|전화\\S+\\s|대표전화\\S+\\s|☎\\S+\\s|http\\S+\\s', '', text)\n",
    "    \n",
    "    text = re.sub('\\s+', ' ', text)\n",
    "    text = text.strip()\n",
    "\n",
    "    return text\n"
   ]
  },
  {
   "cell_type": "code",
   "execution_count": 5,
   "metadata": {},
   "outputs": [],
   "source": [
    "df = df.drop(index=[952, 955, 956, 960, 962, 964, 1165, 1240, 1322])\n",
    "df = df.drop_duplicates()\n",
    "df = df.dropna()\n",
    "df = pd.DataFrame(df).reset_index(drop=True)"
   ]
  },
  {
   "cell_type": "code",
   "execution_count": 6,
   "metadata": {},
   "outputs": [],
   "source": [
    "df['text'] = df['text'].apply(cleaningText)\n",
    "df = df.dropna()\n",
    "df.to_csv('data/text_for_word2vec.csv', index=False, encoding='utf-8')"
   ]
  },
  {
   "cell_type": "code",
   "execution_count": 7,
   "metadata": {},
   "outputs": [
    {
     "data": {
      "text/html": [
       "<div>\n",
       "<style scoped>\n",
       "    .dataframe tbody tr th:only-of-type {\n",
       "        vertical-align: middle;\n",
       "    }\n",
       "\n",
       "    .dataframe tbody tr th {\n",
       "        vertical-align: top;\n",
       "    }\n",
       "\n",
       "    .dataframe thead th {\n",
       "        text-align: right;\n",
       "    }\n",
       "</style>\n",
       "<table border=\"1\" class=\"dataframe\">\n",
       "  <thead>\n",
       "    <tr style=\"text-align: right;\">\n",
       "      <th></th>\n",
       "      <th>text</th>\n",
       "    </tr>\n",
       "  </thead>\n",
       "  <tbody>\n",
       "    <tr>\n",
       "      <th>0</th>\n",
       "      <td>6살 남아 입니다 회사 복직 후 3살부터 주중에는 외할머니댁에서 2살 4살 터울의 ...</td>\n",
       "    </tr>\n",
       "    <tr>\n",
       "      <th>1</th>\n",
       "      <td>요즘 들어 아빠가 아이에게 다가가려고 하면 엄마한테 갈 거야 하면서 엄마를 유독 찾...</td>\n",
       "    </tr>\n",
       "    <tr>\n",
       "      <th>2</th>\n",
       "      <td>둘째가 태어나면 첫째가 힘들 거라는 건 예상하고 있었지만 툭하면 삐치고 울고 좀처럼...</td>\n",
       "    </tr>\n",
       "    <tr>\n",
       "      <th>3</th>\n",
       "      <td>20개월 남아가 있고 임신 8개월차로 두 아기의 엄마입니다 첫 아이는 잠자리 독립을...</td>\n",
       "    </tr>\n",
       "    <tr>\n",
       "      <th>4</th>\n",
       "      <td>14개월 남자 아기인데 심하게 깨무는 버릇이 있어요 전에는 졸릴 때 주로 물곤 했는...</td>\n",
       "    </tr>\n",
       "    <tr>\n",
       "      <th>...</th>\n",
       "      <td>...</td>\n",
       "    </tr>\n",
       "    <tr>\n",
       "      <th>25290</th>\n",
       "      <td>임신을 축하드립니다 임신을 확인한 후에 느끼는 기쁨과 설레임 이제는 혼자가 아니기에...</td>\n",
       "    </tr>\n",
       "    <tr>\n",
       "      <th>25291</th>\n",
       "      <td>임신을 한 순간부터 태교는 시작된다 태교는 단순히 영재를 출산하기 위해서가 아니라 ...</td>\n",
       "    </tr>\n",
       "    <tr>\n",
       "      <th>25292</th>\n",
       "      <td>16 20주 6개월 태아는 엄마 배꼽 아래에 있으며 자궁은 태아가 자유롭게 움직일 ...</td>\n",
       "    </tr>\n",
       "    <tr>\n",
       "      <th>25293</th>\n",
       "      <td>현대의학의 힘으로는 풀아하지 못하는 영역 중의 하나가 태몽이다 신기하게 임신만 하면...</td>\n",
       "    </tr>\n",
       "    <tr>\n",
       "      <th>25294</th>\n",
       "      <td>속설1 배가 부른 모양을 보면 아들 딸 여부를 알 수 있다 주부 설문 그렇다 84 ...</td>\n",
       "    </tr>\n",
       "  </tbody>\n",
       "</table>\n",
       "<p>25295 rows × 1 columns</p>\n",
       "</div>"
      ],
      "text/plain": [
       "                                                    text\n",
       "0      6살 남아 입니다 회사 복직 후 3살부터 주중에는 외할머니댁에서 2살 4살 터울의 ...\n",
       "1      요즘 들어 아빠가 아이에게 다가가려고 하면 엄마한테 갈 거야 하면서 엄마를 유독 찾...\n",
       "2      둘째가 태어나면 첫째가 힘들 거라는 건 예상하고 있었지만 툭하면 삐치고 울고 좀처럼...\n",
       "3      20개월 남아가 있고 임신 8개월차로 두 아기의 엄마입니다 첫 아이는 잠자리 독립을...\n",
       "4      14개월 남자 아기인데 심하게 깨무는 버릇이 있어요 전에는 졸릴 때 주로 물곤 했는...\n",
       "...                                                  ...\n",
       "25290  임신을 축하드립니다 임신을 확인한 후에 느끼는 기쁨과 설레임 이제는 혼자가 아니기에...\n",
       "25291  임신을 한 순간부터 태교는 시작된다 태교는 단순히 영재를 출산하기 위해서가 아니라 ...\n",
       "25292  16 20주 6개월 태아는 엄마 배꼽 아래에 있으며 자궁은 태아가 자유롭게 움직일 ...\n",
       "25293  현대의학의 힘으로는 풀아하지 못하는 영역 중의 하나가 태몽이다 신기하게 임신만 하면...\n",
       "25294  속설1 배가 부른 모양을 보면 아들 딸 여부를 알 수 있다 주부 설문 그렇다 84 ...\n",
       "\n",
       "[25295 rows x 1 columns]"
      ]
     },
     "execution_count": 7,
     "metadata": {},
     "output_type": "execute_result"
    }
   ],
   "source": [
    "df"
   ]
  },
  {
   "cell_type": "markdown",
   "metadata": {},
   "source": [
    "### Add tokenized column"
   ]
  },
  {
   "cell_type": "markdown",
   "metadata": {},
   "source": [
    "191210 정체불명의 error 발생\n",
    "```\n",
    "NotImplementedError: Wrong number or type of arguments for overloaded function 'Tagger_parse'.\n",
    "  Possible C/C++ prototypes are:\n",
    "    MeCab::Tagger::parse(MeCab::Model const &,MeCab::Lattice *)\n",
    "    MeCab::Tagger::parse(MeCab::Lattice *) const\n",
    "    MeCab::Tagger::parse(char const *)\n",
    "```\n",
    "\n",
    "babynews 데이터가 추가된 후 갑자기 발생한 에러인데.. 왜인지 모르겠지만 해당 부분 데이터프레임만 따로 tokenize하는 것은 문제없이 돌아간다.  \n",
    "따라서 번거롭지만 분리하여 tokenizing 한 후에 합치기로 하였다.  \n",
    "\n",
    "-> 해결.. `NaN` value 문제였다(어이없게도 NaN 값이 중간에 섞여있었음;). 누락 데이터를 잘 체크하는 습관을 갖도록하자."
   ]
  },
  {
   "cell_type": "code",
   "execution_count": 8,
   "metadata": {},
   "outputs": [],
   "source": [
    "def tokenize(text):\n",
    "    tokenizer = Mecab()\n",
    "    text = tokenizer.morphs(text)\n",
    "#     text = ' '.join(text)\n",
    "    return text"
   ]
  },
  {
   "cell_type": "code",
   "execution_count": 9,
   "metadata": {},
   "outputs": [
    {
     "name": "stdout",
     "output_type": "stream",
     "text": [
      "CPU times: user 1min 4s, sys: 31.2 s, total: 1min 35s\n",
      "Wall time: 1min 35s\n"
     ]
    },
    {
     "data": {
      "text/html": [
       "<div>\n",
       "<style scoped>\n",
       "    .dataframe tbody tr th:only-of-type {\n",
       "        vertical-align: middle;\n",
       "    }\n",
       "\n",
       "    .dataframe tbody tr th {\n",
       "        vertical-align: top;\n",
       "    }\n",
       "\n",
       "    .dataframe thead th {\n",
       "        text-align: right;\n",
       "    }\n",
       "</style>\n",
       "<table border=\"1\" class=\"dataframe\">\n",
       "  <thead>\n",
       "    <tr style=\"text-align: right;\">\n",
       "      <th></th>\n",
       "      <th>text</th>\n",
       "      <th>tokenized</th>\n",
       "    </tr>\n",
       "  </thead>\n",
       "  <tbody>\n",
       "    <tr>\n",
       "      <th>25290</th>\n",
       "      <td>임신을 축하드립니다 임신을 확인한 후에 느끼는 기쁨과 설레임 이제는 혼자가 아니기에...</td>\n",
       "      <td>[임신, 을, 축하, 드립니다, 임신, 을, 확인, 한, 후, 에, 느끼, 는, 기...</td>\n",
       "    </tr>\n",
       "    <tr>\n",
       "      <th>25291</th>\n",
       "      <td>임신을 한 순간부터 태교는 시작된다 태교는 단순히 영재를 출산하기 위해서가 아니라 ...</td>\n",
       "      <td>[임신, 을, 한, 순간, 부터, 태교, 는, 시작, 된다, 태교, 는, 단순히, ...</td>\n",
       "    </tr>\n",
       "    <tr>\n",
       "      <th>25292</th>\n",
       "      <td>16 20주 6개월 태아는 엄마 배꼽 아래에 있으며 자궁은 태아가 자유롭게 움직일 ...</td>\n",
       "      <td>[16, 20, 주, 6, 개월, 태아, 는, 엄마, 배꼽, 아래, 에, 있, 으며...</td>\n",
       "    </tr>\n",
       "    <tr>\n",
       "      <th>25293</th>\n",
       "      <td>현대의학의 힘으로는 풀아하지 못하는 영역 중의 하나가 태몽이다 신기하게 임신만 하면...</td>\n",
       "      <td>[현대, 의학, 의, 힘, 으로, 는, 풀, 아, 하, 지, 못하, 는, 영역, 중...</td>\n",
       "    </tr>\n",
       "    <tr>\n",
       "      <th>25294</th>\n",
       "      <td>속설1 배가 부른 모양을 보면 아들 딸 여부를 알 수 있다 주부 설문 그렇다 84 ...</td>\n",
       "      <td>[속설, 1, 배, 가, 부른, 모양, 을, 보, 면, 아들, 딸, 여부, 를, 알...</td>\n",
       "    </tr>\n",
       "  </tbody>\n",
       "</table>\n",
       "</div>"
      ],
      "text/plain": [
       "                                                    text  \\\n",
       "25290  임신을 축하드립니다 임신을 확인한 후에 느끼는 기쁨과 설레임 이제는 혼자가 아니기에...   \n",
       "25291  임신을 한 순간부터 태교는 시작된다 태교는 단순히 영재를 출산하기 위해서가 아니라 ...   \n",
       "25292  16 20주 6개월 태아는 엄마 배꼽 아래에 있으며 자궁은 태아가 자유롭게 움직일 ...   \n",
       "25293  현대의학의 힘으로는 풀아하지 못하는 영역 중의 하나가 태몽이다 신기하게 임신만 하면...   \n",
       "25294  속설1 배가 부른 모양을 보면 아들 딸 여부를 알 수 있다 주부 설문 그렇다 84 ...   \n",
       "\n",
       "                                               tokenized  \n",
       "25290  [임신, 을, 축하, 드립니다, 임신, 을, 확인, 한, 후, 에, 느끼, 는, 기...  \n",
       "25291  [임신, 을, 한, 순간, 부터, 태교, 는, 시작, 된다, 태교, 는, 단순히, ...  \n",
       "25292  [16, 20, 주, 6, 개월, 태아, 는, 엄마, 배꼽, 아래, 에, 있, 으며...  \n",
       "25293  [현대, 의학, 의, 힘, 으로, 는, 풀, 아, 하, 지, 못하, 는, 영역, 중...  \n",
       "25294  [속설, 1, 배, 가, 부른, 모양, 을, 보, 면, 아들, 딸, 여부, 를, 알...  "
      ]
     },
     "execution_count": 9,
     "metadata": {},
     "output_type": "execute_result"
    }
   ],
   "source": [
    "%%time\n",
    "df['tokenized'] = df['text'].apply(tokenize)\n",
    "df.tail()"
   ]
  },
  {
   "cell_type": "code",
   "execution_count": 10,
   "metadata": {},
   "outputs": [
    {
     "data": {
      "text/plain": [
       "text         0\n",
       "tokenized    0\n",
       "dtype: int64"
      ]
     },
     "execution_count": 10,
     "metadata": {},
     "output_type": "execute_result"
    }
   ],
   "source": [
    "df.isnull().sum()"
   ]
  },
  {
   "cell_type": "markdown",
   "metadata": {},
   "source": [
    "## Train Word2Vec"
   ]
  },
  {
   "cell_type": "markdown",
   "metadata": {},
   "source": [
    "#### WTF error\n",
    "- df를 csv 형식으로 저장한 후 다시 로드하면 Word2Vec 학습에 인코딩 문제가 생긴다.\n",
    "- 더 자세히 파고들어보니 list 형식의 column이 csv로 저장할 때 강제로 string 타입으로 형변환 됨.\n",
    "- 이렇게 형변환 된 column을 Word2Vec 학습에 사용할 시 한글 텍스트가 깨지는 현상이 발생함.. 정확한 원인은 아직 모르겠다."
   ]
  },
  {
   "cell_type": "code",
   "execution_count": 11,
   "metadata": {},
   "outputs": [],
   "source": [
    "# df = pd.read_csv('text_for_word2vec.csv', encoding='utf-8')"
   ]
  },
  {
   "cell_type": "markdown",
   "metadata": {},
   "source": [
    "그러므로 저장 & 로드 과정 생략하고 바로 말뭉치를 numpy ndarray형식으로 변환"
   ]
  },
  {
   "cell_type": "code",
   "execution_count": 12,
   "metadata": {},
   "outputs": [
    {
     "data": {
      "text/plain": [
       "numpy.ndarray"
      ]
     },
     "execution_count": 12,
     "metadata": {},
     "output_type": "execute_result"
    }
   ],
   "source": [
    "corpus = np.array(df.tokenized)\n",
    "type(corpus)"
   ]
  },
  {
   "cell_type": "code",
   "execution_count": 13,
   "metadata": {},
   "outputs": [
    {
     "name": "stdout",
     "output_type": "stream",
     "text": [
      "CPU times: user 6min 37s, sys: 655 ms, total: 6min 38s\n",
      "Wall time: 1min 45s\n"
     ]
    }
   ],
   "source": [
    "%%time\n",
    "model_all = Word2Vec(corpus, size=128, workers=4, sg=1)\n",
    "model_all.save('data/tokmom_word2vec_all.model')"
   ]
  },
  {
   "cell_type": "markdown",
   "metadata": {},
   "source": [
    "#### 유사어 분석"
   ]
  },
  {
   "cell_type": "code",
   "execution_count": 14,
   "metadata": {},
   "outputs": [
    {
     "data": {
      "text/plain": [
       "[('소꿉', 0.7411174774169922),\n",
       " ('공놀이', 0.71453857421875),\n",
       " ('도미노', 0.6938313245773315),\n",
       " ('기차놀이', 0.6872760057449341),\n",
       " ('지점토', 0.6789287328720093),\n",
       " ('음률', 0.6786611080169678),\n",
       " ('실뜨기', 0.6781467199325562),\n",
       " ('점토', 0.670332670211792),\n",
       " ('보물찾기', 0.6694741249084473),\n",
       " ('역할극', 0.6654926538467407)]"
      ]
     },
     "execution_count": 14,
     "metadata": {},
     "output_type": "execute_result"
    }
   ],
   "source": [
    "model_all.wv.similar_by_word(\"놀이\")"
   ]
  },
  {
   "cell_type": "code",
   "execution_count": 15,
   "metadata": {},
   "outputs": [
    {
     "data": {
      "text/plain": [
       "[('어린아이', 0.7223340272903442),\n",
       " ('아기', 0.7108864784240723),\n",
       " ('갓난아이', 0.6619225144386292),\n",
       " ('갓난아기', 0.6425191164016724),\n",
       " ('돌아와도', 0.6245362758636475),\n",
       " ('엄마', 0.6201267242431641),\n",
       " ('큰아이', 0.619462788105011),\n",
       " ('물고', 0.6189855933189392),\n",
       " ('친해진다', 0.6176779270172119),\n",
       " ('딸아이', 0.6112887263298035)]"
      ]
     },
     "execution_count": 15,
     "metadata": {},
     "output_type": "execute_result"
    }
   ],
   "source": [
    "model_all.wv.similar_by_word(\"아이\")"
   ]
  },
  {
   "cell_type": "code",
   "execution_count": 16,
   "metadata": {},
   "outputs": [
    {
     "data": {
      "text/plain": [
       "[('잇몸', 0.8351531028747559),\n",
       " ('영구치', 0.78892982006073),\n",
       " ('충치', 0.7724026441574097),\n",
       " ('젖니', 0.7370181083679199),\n",
       " ('턱뼈', 0.7262221574783325),\n",
       " ('앞니', 0.7241079211235046),\n",
       " ('혀', 0.7098507881164551),\n",
       " ('어금니', 0.7040728330612183),\n",
       " ('에나멜질', 0.6952147483825684),\n",
       " ('법랑질', 0.6951456069946289)]"
      ]
     },
     "execution_count": 16,
     "metadata": {},
     "output_type": "execute_result"
    }
   ],
   "source": [
    "model_all.wv.similar_by_word(\"치아\")"
   ]
  },
  {
   "cell_type": "code",
   "execution_count": 17,
   "metadata": {},
   "outputs": [
    {
     "data": {
      "text/plain": [
       "[('혓바닥', 0.7814816236495972),\n",
       " ('거뭇', 0.7492300271987915),\n",
       " ('뜯어내', 0.7477034330368042),\n",
       " ('새빨간', 0.7451372146606445),\n",
       " ('허옇', 0.7419379353523254),\n",
       " ('댄다면', 0.7389610409736633),\n",
       " ('거스러미', 0.7372226715087891),\n",
       " ('영인', 0.736304759979248),\n",
       " ('싹싹', 0.7329772710800171),\n",
       " ('핥', 0.7311192750930786)]"
      ]
     },
     "execution_count": 17,
     "metadata": {},
     "output_type": "execute_result"
    }
   ],
   "source": [
    "model_all.wv.similar_by_word(\"이빨\")"
   ]
  },
  {
   "cell_type": "code",
   "execution_count": 18,
   "metadata": {},
   "outputs": [
    {
     "data": {
      "text/plain": [
       "[('목감기', 0.8299115896224976),\n",
       " ('코감기', 0.8279785513877869),\n",
       " ('기침감기', 0.7871049642562866),\n",
       " ('독감', 0.7644734382629395),\n",
       " ('냉방병', 0.7553010582923889),\n",
       " ('호흡기', 0.75002121925354),\n",
       " ('편도염', 0.7488691806793213),\n",
       " ('기관지염', 0.7488519549369812),\n",
       " ('인후염', 0.7480571269989014),\n",
       " ('잔병', 0.7451233863830566)]"
      ]
     },
     "execution_count": 18,
     "metadata": {},
     "output_type": "execute_result"
    }
   ],
   "source": [
    "model_all.wv.similar_by_word(\"감기\")"
   ]
  },
  {
   "cell_type": "code",
   "execution_count": 19,
   "metadata": {},
   "outputs": [
    {
     "data": {
      "text/plain": [
       "[('고열로', 0.6023843288421631),\n",
       " ('오한', 0.587587296962738),\n",
       " ('미열', 0.5840661525726318),\n",
       " ('고열', 0.5773072242736816),\n",
       " ('들어온다고', 0.5705861449241638),\n",
       " ('열기', 0.562213122844696),\n",
       " ('배탈', 0.5500274300575256),\n",
       " ('식혀', 0.5463265776634216),\n",
       " ('닫', 0.5445263385772705),\n",
       " ('사병', 0.5416484475135803)]"
      ]
     },
     "execution_count": 19,
     "metadata": {},
     "output_type": "execute_result"
    }
   ],
   "source": [
    "model_all.wv.similar_by_word(\"열\")"
   ]
  },
  {
   "cell_type": "code",
   "execution_count": 20,
   "metadata": {},
   "outputs": [
    {
     "data": {
      "text/plain": [
       "[('아프', 0.8031877279281616),\n",
       " ('아파서', 0.8024438619613647),\n",
       " ('다쳐', 0.7528544664382935),\n",
       " ('아픈데', 0.7512003183364868),\n",
       " ('아파도', 0.7441445589065552),\n",
       " ('지끈지끈', 0.7414534687995911),\n",
       " ('거린다고', 0.7205301523208618),\n",
       " ('주물렀', 0.7180495262145996),\n",
       " ('다쳐서', 0.7130210399627686),\n",
       " ('토해서', 0.7102508544921875)]"
      ]
     },
     "execution_count": 20,
     "metadata": {},
     "output_type": "execute_result"
    }
   ],
   "source": [
    "model_all.wv.similar_by_word(\"아파\")"
   ]
  },
  {
   "cell_type": "code",
   "execution_count": 21,
   "metadata": {},
   "outputs": [
    {
     "data": {
      "text/plain": [
       "[('아파', 0.8031877875328064),\n",
       " ('아파서', 0.760517954826355),\n",
       " ('지끈지끈', 0.7557467222213745),\n",
       " ('결리', 0.7497872114181519),\n",
       " ('아파하', 0.7446613311767578),\n",
       " ('간지럽', 0.7426501512527466),\n",
       " ('쑤시', 0.7392691373825073),\n",
       " ('어지러우', 0.7379573583602905),\n",
       " ('거린', 0.7342636585235596),\n",
       " ('먹먹해', 0.7338392734527588)]"
      ]
     },
     "execution_count": 21,
     "metadata": {},
     "output_type": "execute_result"
    }
   ],
   "source": [
    "model_all.wv.similar_by_word(\"아프\")"
   ]
  },
  {
   "cell_type": "code",
   "execution_count": 22,
   "metadata": {},
   "outputs": [
    {
     "data": {
      "text/plain": [
       "[('터뜨린', 0.7119895219802856),\n",
       " ('터뜨릴', 0.7058272361755371),\n",
       " ('터뜨립니다', 0.6808439493179321),\n",
       " ('자지러질', 0.6708759069442749),\n",
       " ('터뜨린다', 0.6708478927612305),\n",
       " ('옹알이', 0.6670913696289062),\n",
       " ('지르', 0.6653952598571777),\n",
       " ('큰소리', 0.6627084016799927),\n",
       " ('질러', 0.6608275771141052),\n",
       " ('고래고래', 0.6585405468940735)]"
      ]
     },
     "execution_count": 22,
     "metadata": {},
     "output_type": "execute_result"
    }
   ],
   "source": [
    "model_all.wv.similar_by_word(\"울음\")"
   ]
  },
  {
   "cell_type": "code",
   "execution_count": 23,
   "metadata": {},
   "outputs": [
    {
     "data": {
      "text/plain": [
       "[('여아', 0.8500170707702637),\n",
       " ('정상아', 0.6760383248329163),\n",
       " ('정상인', 0.6114009618759155),\n",
       " ('여자', 0.6078804731369019),\n",
       " ('018', 0.6035465002059937),\n",
       " ('남자', 0.6023576259613037),\n",
       " ('초산부', 0.5972046852111816),\n",
       " ('클리토리스', 0.5966171026229858),\n",
       " ('3540', 0.5953346490859985),\n",
       " ('아든', 0.5947675704956055)]"
      ]
     },
     "execution_count": 23,
     "metadata": {},
     "output_type": "execute_result"
    }
   ],
   "source": [
    "model_all.wv.similar_by_word(\"남아\")"
   ]
  },
  {
   "cell_type": "code",
   "execution_count": 24,
   "metadata": {},
   "outputs": [
    {
     "data": {
      "text/plain": [
       "[('남아', 0.8500170707702637),\n",
       " ('여자', 0.6377266049385071),\n",
       " ('남자', 0.6137702465057373),\n",
       " ('아든', 0.6029308438301086),\n",
       " ('617', 0.5642774701118469),\n",
       " ('018', 0.5627574920654297),\n",
       " ('1053', 0.5565885305404663),\n",
       " ('정상아', 0.5555915832519531),\n",
       " ('603', 0.5549695491790771),\n",
       " ('412', 0.5466080904006958)]"
      ]
     },
     "execution_count": 24,
     "metadata": {},
     "output_type": "execute_result"
    }
   ],
   "source": [
    "model_all.wv.similar_by_word(\"여아\")"
   ]
  },
  {
   "cell_type": "markdown",
   "metadata": {},
   "source": [
    "---"
   ]
  },
  {
   "cell_type": "markdown",
   "metadata": {},
   "source": [
    "## Only Noun"
   ]
  },
  {
   "cell_type": "markdown",
   "metadata": {},
   "source": [
    "- 이번에는 말뭉치에서 명사만 추출하여 결과를 비교해보자\n",
    "- 유사한 키워드 잡기를 목적으로 할 때는 명사만 추출하는 것이 더 적절한 듯"
   ]
  },
  {
   "cell_type": "code",
   "execution_count": 25,
   "metadata": {},
   "outputs": [
    {
     "name": "stdout",
     "output_type": "stream",
     "text": [
      "CPU times: user 1min 5s, sys: 30.7 s, total: 1min 36s\n",
      "Wall time: 1min 35s\n"
     ]
    }
   ],
   "source": [
    "%%time\n",
    "def extract_noun(text):\n",
    "    tokenizer = Mecab()\n",
    "    text = tokenizer.nouns(text)\n",
    "#     text = ' '.join(text)\n",
    "    return text\n",
    "    \n",
    "df['noun'] = df['text'].apply(extract_noun)\n",
    "df = df.dropna()"
   ]
  },
  {
   "cell_type": "code",
   "execution_count": 26,
   "metadata": {},
   "outputs": [],
   "source": [
    "noun_corpus = np.array(df.noun)"
   ]
  },
  {
   "cell_type": "code",
   "execution_count": 48,
   "metadata": {},
   "outputs": [
    {
     "name": "stdout",
     "output_type": "stream",
     "text": [
      "CPU times: user 2min 55s, sys: 210 ms, total: 2min 55s\n",
      "Wall time: 47.7 s\n"
     ]
    }
   ],
   "source": [
    "%%time\n",
    "model_noun = Word2Vec(noun_corpus, size=100, workers=4, sg=1)\n",
    "model_noun.save('data/tokmom_word2vec_only_noun.model')"
   ]
  },
  {
   "cell_type": "code",
   "execution_count": 49,
   "metadata": {},
   "outputs": [
    {
     "data": {
      "text/plain": [
       "[('워킹맘', 0.6994822025299072),\n",
       " ('자처', 0.6550484299659729),\n",
       " ('독박', 0.6505540609359741),\n",
       " ('체험담', 0.6436377763748169),\n",
       " ('장세희', 0.6367778778076172),\n",
       " ('바이블', 0.6353555917739868),\n",
       " ('아서', 0.6345869898796082),\n",
       " ('살림', 0.6286143064498901),\n",
       " ('양육', 0.6285918354988098),\n",
       " ('휴직', 0.6241766214370728)]"
      ]
     },
     "execution_count": 49,
     "metadata": {},
     "output_type": "execute_result"
    }
   ],
   "source": [
    "model_noun.wv.similar_by_word(\"육아\")"
   ]
  },
  {
   "cell_type": "code",
   "execution_count": 50,
   "metadata": {},
   "outputs": [
    {
     "data": {
      "text/plain": [
       "[('친정', 0.8590857982635498),\n",
       " ('시부모', 0.8191248178482056),\n",
       " ('식구', 0.8130761384963989),\n",
       " ('본가', 0.8126988410949707),\n",
       " ('처가', 0.8120986223220825),\n",
       " ('시어머니', 0.8118054866790771),\n",
       " ('시누이', 0.8084195852279663),\n",
       " ('대소사', 0.7974411249160767),\n",
       " ('장모님', 0.7945244908332825),\n",
       " ('친정어머니', 0.7865861058235168)]"
      ]
     },
     "execution_count": 50,
     "metadata": {},
     "output_type": "execute_result"
    }
   ],
   "source": [
    "model_noun.wv.similar_by_word(\"시댁\")"
   ]
  },
  {
   "cell_type": "code",
   "execution_count": 51,
   "metadata": {},
   "outputs": [
    {
     "data": {
      "text/plain": [
       "[('놀잇감', 0.7685993909835815),\n",
       " ('소꿉', 0.7309971451759338),\n",
       " ('공놀이', 0.7293965816497803),\n",
       " ('음률', 0.7106226682662964),\n",
       " ('누가누', 0.7102930545806885),\n",
       " ('무너뜨리기', 0.6975580453872681),\n",
       " ('장난감', 0.6944186687469482),\n",
       " ('샌드백', 0.694351315498352),\n",
       " ('보물찾기', 0.6935852766036987),\n",
       " ('칼싸움', 0.6899218559265137)]"
      ]
     },
     "execution_count": 51,
     "metadata": {},
     "output_type": "execute_result"
    }
   ],
   "source": [
    "model_noun.wv.similar_by_word(\"놀이\")"
   ]
  },
  {
   "cell_type": "code",
   "execution_count": 52,
   "metadata": {},
   "outputs": [
    {
     "data": {
      "text/plain": [
       "[('어린아이', 0.7762201428413391),\n",
       " ('지레짐작', 0.7595911026000977),\n",
       " ('엄마', 0.7447984218597412),\n",
       " ('생각', 0.7420406341552734),\n",
       " ('민영이', 0.7399120330810547),\n",
       " ('말자', 0.7398545742034912),\n",
       " ('아이라', 0.7390481233596802),\n",
       " ('기우', 0.7316569685935974),\n",
       " ('걸', 0.726838231086731),\n",
       " ('게', 0.7248141765594482)]"
      ]
     },
     "execution_count": 52,
     "metadata": {},
     "output_type": "execute_result"
    }
   ],
   "source": [
    "model_noun.wv.similar_by_word(\"아이\")"
   ]
  },
  {
   "cell_type": "code",
   "execution_count": 53,
   "metadata": {},
   "outputs": [
    {
     "data": {
      "text/plain": [
       "[('잇몸', 0.8684966564178467),\n",
       " ('영구치', 0.832735538482666),\n",
       " ('충치', 0.8268555402755737),\n",
       " ('젖니', 0.8126301765441895),\n",
       " ('앞니', 0.789686381816864),\n",
       " ('법랑질', 0.7774391174316406),\n",
       " ('어금니', 0.7576088309288025),\n",
       " ('에나멜질', 0.7531296014785767),\n",
       " ('치석', 0.7456192970275879),\n",
       " ('치태', 0.7438891530036926)]"
      ]
     },
     "execution_count": 53,
     "metadata": {},
     "output_type": "execute_result"
    }
   ],
   "source": [
    "model_noun.wv.similar_by_word(\"치아\")"
   ]
  },
  {
   "cell_type": "code",
   "execution_count": 54,
   "metadata": {},
   "outputs": [
    {
     "data": {
      "text/plain": [
       "[('혓바닥', 0.7859762907028198),\n",
       " ('골짜기', 0.7575360536575317),\n",
       " ('칼자국', 0.7514342069625854),\n",
       " ('아랫입술', 0.7492984533309937),\n",
       " ('꽁지', 0.7456543445587158),\n",
       " ('거스러미', 0.7431371212005615),\n",
       " ('영인', 0.7413769960403442),\n",
       " ('혓바늘', 0.7348819971084595),\n",
       " ('생채기', 0.730977475643158),\n",
       " ('거립니다', 0.7303737998008728)]"
      ]
     },
     "execution_count": 54,
     "metadata": {},
     "output_type": "execute_result"
    }
   ],
   "source": [
    "model_noun.wv.similar_by_word(\"이빨\")"
   ]
  },
  {
   "cell_type": "code",
   "execution_count": 55,
   "metadata": {},
   "outputs": [
    {
     "data": {
      "text/plain": [
       "[('목감기', 0.8267834186553955),\n",
       " ('코감기', 0.813900887966156),\n",
       " ('환절기', 0.8049134016036987),\n",
       " ('기침감기', 0.7907943725585938),\n",
       " ('호흡기', 0.7743771076202393),\n",
       " ('편도염', 0.7707526683807373),\n",
       " ('기침', 0.7678359746932983),\n",
       " ('병치레', 0.7636606693267822),\n",
       " ('인후염', 0.7567616701126099),\n",
       " ('편도선염', 0.7561866044998169)]"
      ]
     },
     "execution_count": 55,
     "metadata": {},
     "output_type": "execute_result"
    }
   ],
   "source": [
    "model_noun.wv.similar_by_word(\"감기\")"
   ]
  },
  {
   "cell_type": "code",
   "execution_count": 56,
   "metadata": {},
   "outputs": [
    {
     "data": {
      "text/plain": [
       "[('고열로', 0.7485960125923157),\n",
       " ('오한', 0.7164791822433472),\n",
       " ('고열', 0.7153083682060242),\n",
       " ('불덩이', 0.705664336681366),\n",
       " ('외감', 0.7022899389266968),\n",
       " ('해열제', 0.6953688859939575),\n",
       " ('사병', 0.6939931511878967),\n",
       " ('熱', 0.6931891441345215),\n",
       " ('몸살감기', 0.6790531873703003),\n",
       " ('허열', 0.6735728979110718)]"
      ]
     },
     "execution_count": 56,
     "metadata": {},
     "output_type": "execute_result"
    }
   ],
   "source": [
    "model_noun.wv.similar_by_word(\"열\")"
   ]
  },
  {
   "cell_type": "code",
   "execution_count": 57,
   "metadata": {},
   "outputs": [
    {
     "data": {
      "text/plain": [
       "[('거립니다', 0.8615298271179199),\n",
       " ('어린애', 0.8331273794174194),\n",
       " ('참기', 0.8291198015213013),\n",
       " ('청진', 0.8153181076049805),\n",
       " ('생채기', 0.810594916343689),\n",
       " ('피멍', 0.8039909601211548),\n",
       " ('코맹맹이', 0.8034416437149048),\n",
       " ('불덩이', 0.8015407919883728),\n",
       " ('기진맥진', 0.8011857271194458),\n",
       " ('열꽃', 0.7990467548370361)]"
      ]
     },
     "execution_count": 57,
     "metadata": {},
     "output_type": "execute_result"
    }
   ],
   "source": [
    "model_noun.wv.similar_by_word(\"아파\")"
   ]
  },
  {
   "cell_type": "code",
   "execution_count": 58,
   "metadata": {},
   "outputs": [
    {
     "data": {
      "text/plain": [
       "[('소리', 0.7191045880317688),\n",
       " ('비명', 0.7148318886756897),\n",
       " ('지르기', 0.6986531019210815),\n",
       " ('놀람', 0.6969507932662964),\n",
       " ('아달라', 0.6939250826835632),\n",
       " ('괴성', 0.6858559846878052),\n",
       " ('옹알이', 0.6853967308998108),\n",
       " ('산통', 0.6807287931442261),\n",
       " ('신음', 0.6764953136444092),\n",
       " ('큰소리', 0.6750518083572388)]"
      ]
     },
     "execution_count": 58,
     "metadata": {},
     "output_type": "execute_result"
    }
   ],
   "source": [
    "model_noun.wv.similar_by_word(\"울음\")"
   ]
  },
  {
   "cell_type": "code",
   "execution_count": 59,
   "metadata": {},
   "outputs": [
    {
     "data": {
      "text/plain": [
       "[('여아', 0.8833080530166626),\n",
       " ('변성기', 0.7191966772079468),\n",
       " ('기라', 0.6869825124740601),\n",
       " ('액모', 0.6843598484992981),\n",
       " ('클리토리스', 0.6725565195083618),\n",
       " ('생시', 0.6721494197845459),\n",
       " ('남근기', 0.6659187078475952),\n",
       " ('성징', 0.6620628237724304),\n",
       " ('소음경', 0.6593575477600098),\n",
       " ('대음순', 0.6578354239463806),\n",
       " ('음모', 0.6572846174240112),\n",
       " ('아도', 0.6563864350318909),\n",
       " ('인데', 0.65633624792099),\n",
       " ('음경', 0.6560852527618408),\n",
       " ('정상아', 0.6557666659355164),\n",
       " ('정류', 0.6516387462615967),\n",
       " ('색맹', 0.6507833003997803),\n",
       " ('조숙', 0.6493446826934814),\n",
       " ('여자', 0.6471385359764099),\n",
       " ('남자', 0.6467181444168091)]"
      ]
     },
     "execution_count": 59,
     "metadata": {},
     "output_type": "execute_result"
    }
   ],
   "source": [
    "model_noun.wv.similar_by_word(\"남아\", topn=20)"
   ]
  },
  {
   "cell_type": "code",
   "execution_count": 60,
   "metadata": {},
   "outputs": [
    {
     "data": {
      "text/plain": [
       "[('남아', 0.8833080530166626),\n",
       " ('여자', 0.6963735818862915),\n",
       " ('남자', 0.6630713939666748),\n",
       " ('변성기', 0.6530897617340088),\n",
       " ('액모', 0.6377612352371216),\n",
       " ('남근기', 0.6314695477485657),\n",
       " ('성별', 0.6306352615356445),\n",
       " ('클리토리스', 0.6265316605567932),\n",
       " ('생시', 0.6179620027542114),\n",
       " ('기라', 0.614755392074585),\n",
       " ('음모', 0.6121948957443237),\n",
       " ('김우주', 0.6091545224189758),\n",
       " ('임소', 0.5993976593017578),\n",
       " ('음경', 0.5979180335998535),\n",
       " ('급성장', 0.5958536267280579),\n",
       " ('항문기', 0.5945072770118713),\n",
       " ('이지훈', 0.5915706157684326),\n",
       " ('가슴둘레', 0.590330183506012),\n",
       " ('몽우리', 0.589786171913147),\n",
       " ('페르모', 0.5878791809082031)]"
      ]
     },
     "execution_count": 60,
     "metadata": {},
     "output_type": "execute_result"
    }
   ],
   "source": [
    "model_noun.wv.similar_by_word(\"여아\", topn=20)"
   ]
  },
  {
   "cell_type": "code",
   "execution_count": 61,
   "metadata": {
    "scrolled": true
   },
   "outputs": [
    {
     "data": {
      "text/plain": [
       "[('남자', 0.9331412315368652),\n",
       " ('조신', 0.7207347750663757),\n",
       " ('여아', 0.6963735818862915),\n",
       " ('엘렉트라', 0.6699246168136597),\n",
       " ('여탕', 0.6697627305984497),\n",
       " ('금성', 0.6680851578712463),\n",
       " ('성차', 0.6564136743545532),\n",
       " ('남탕', 0.6510405540466309),\n",
       " ('남아', 0.6471385359764099),\n",
       " ('족쇄', 0.6469501256942749),\n",
       " ('성별', 0.6338241100311279),\n",
       " ('씩', 0.6299768686294556),\n",
       " ('아이든', 0.6263928413391113),\n",
       " ('태사혜', 0.6242064237594604),\n",
       " ('머슴', 0.6178969144821167),\n",
       " ('알파걸', 0.6169254779815674),\n",
       " ('남근', 0.6162750720977783),\n",
       " ('남학생', 0.6151830554008484),\n",
       " ('골목대장', 0.6093780994415283),\n",
       " ('야동', 0.6071764230728149)]"
      ]
     },
     "execution_count": 61,
     "metadata": {},
     "output_type": "execute_result"
    }
   ],
   "source": [
    "model_noun.wv.similar_by_word(\"여자\", topn=20)"
   ]
  },
  {
   "cell_type": "code",
   "execution_count": 62,
   "metadata": {},
   "outputs": [
    {
     "data": {
      "text/plain": [
       "[('여자', 0.9331412315368652),\n",
       " ('조신', 0.7398948669433594),\n",
       " ('금성', 0.7089701890945435),\n",
       " ('여탕', 0.6947125196456909),\n",
       " ('성차', 0.6851638555526733),\n",
       " ('엘렉트라', 0.6845148801803589),\n",
       " ('족쇄', 0.6840630173683167),\n",
       " ('남탕', 0.6804056167602539),\n",
       " ('얌전', 0.6647123694419861),\n",
       " ('여아', 0.6630713939666748),\n",
       " ('알파걸', 0.6601797938346863),\n",
       " ('위엄', 0.6510611772537231),\n",
       " ('씩', 0.6497551202774048),\n",
       " ('남아', 0.6467181444168091),\n",
       " ('머슴', 0.6429688930511475),\n",
       " ('남근', 0.6427997946739197),\n",
       " ('성별', 0.6413998007774353),\n",
       " ('오이디푸스', 0.6394500732421875),\n",
       " ('골목대장', 0.6356361508369446),\n",
       " ('유다이', 0.6341624855995178)]"
      ]
     },
     "execution_count": 62,
     "metadata": {},
     "output_type": "execute_result"
    }
   ],
   "source": [
    "model_noun.wv.similar_by_word(\"남자\", topn=20)"
   ]
  },
  {
   "cell_type": "code",
   "execution_count": 63,
   "metadata": {},
   "outputs": [
    {
     "data": {
      "text/plain": [
       "[('디럭스', 0.8127257823944092),\n",
       " ('절충', 0.7845213413238525),\n",
       " ('타보', 0.7658920288085938),\n",
       " ('휴대용', 0.748757004737854),\n",
       " ('핸들링', 0.736257791519165),\n",
       " ('잉글', 0.729978084564209),\n",
       " ('카시트', 0.7209837436676025),\n",
       " ('퀴니', 0.7162725925445557),\n",
       " ('페도라', 0.7005229592323303),\n",
       " ('레시', 0.7004623413085938)]"
      ]
     },
     "execution_count": 63,
     "metadata": {},
     "output_type": "execute_result"
    }
   ],
   "source": [
    "model_noun.wv.similar_by_word(\"유모차\")"
   ]
  },
  {
   "cell_type": "code",
   "execution_count": 64,
   "metadata": {},
   "outputs": [
    {
     "data": {
      "text/plain": [
       "[('브라이', 0.7512459754943848),\n",
       " ('장착', 0.7396599054336548),\n",
       " ('안전벨트', 0.7276692986488342),\n",
       " ('유모차', 0.7209837436676025),\n",
       " ('점식', 0.705068826675415),\n",
       " ('부스터', 0.7004005908966064),\n",
       " ('순성', 0.6971040964126587),\n",
       " ('타카타', 0.6939116716384888),\n",
       " ('뒷좌석', 0.6919516921043396),\n",
       " ('컨버터블', 0.6908872127532959)]"
      ]
     },
     "execution_count": 64,
     "metadata": {},
     "output_type": "execute_result"
    }
   ],
   "source": [
    "model_noun.wv.similar_by_word(\"카시트\")"
   ]
  },
  {
   "cell_type": "markdown",
   "metadata": {},
   "source": [
    "### Volume of Corpus "
   ]
  },
  {
   "cell_type": "code",
   "execution_count": 65,
   "metadata": {},
   "outputs": [],
   "source": [
    "df[['text']].to_csv('data/text_for_word2vec.csv', index=False, encoding='utf-8')"
   ]
  },
  {
   "cell_type": "code",
   "execution_count": 66,
   "metadata": {},
   "outputs": [
    {
     "data": {
      "text/html": [
       "<div>\n",
       "<style scoped>\n",
       "    .dataframe tbody tr th:only-of-type {\n",
       "        vertical-align: middle;\n",
       "    }\n",
       "\n",
       "    .dataframe tbody tr th {\n",
       "        vertical-align: top;\n",
       "    }\n",
       "\n",
       "    .dataframe thead th {\n",
       "        text-align: right;\n",
       "    }\n",
       "</style>\n",
       "<table border=\"1\" class=\"dataframe\">\n",
       "  <thead>\n",
       "    <tr style=\"text-align: right;\">\n",
       "      <th></th>\n",
       "      <th>text</th>\n",
       "    </tr>\n",
       "  </thead>\n",
       "  <tbody>\n",
       "    <tr>\n",
       "      <th>0</th>\n",
       "      <td>6살 남아 입니다 회사 복직 후 3살부터 주중에는 외할머니댁에서 2살 4살 터울의 ...</td>\n",
       "    </tr>\n",
       "    <tr>\n",
       "      <th>1</th>\n",
       "      <td>요즘 들어 아빠가 아이에게 다가가려고 하면 엄마한테 갈 거야 하면서 엄마를 유독 찾...</td>\n",
       "    </tr>\n",
       "    <tr>\n",
       "      <th>2</th>\n",
       "      <td>둘째가 태어나면 첫째가 힘들 거라는 건 예상하고 있었지만 툭하면 삐치고 울고 좀처럼...</td>\n",
       "    </tr>\n",
       "    <tr>\n",
       "      <th>3</th>\n",
       "      <td>20개월 남아가 있고 임신 8개월차로 두 아기의 엄마입니다 첫 아이는 잠자리 독립을...</td>\n",
       "    </tr>\n",
       "    <tr>\n",
       "      <th>4</th>\n",
       "      <td>14개월 남자 아기인데 심하게 깨무는 버릇이 있어요 전에는 졸릴 때 주로 물곤 했는...</td>\n",
       "    </tr>\n",
       "    <tr>\n",
       "      <th>...</th>\n",
       "      <td>...</td>\n",
       "    </tr>\n",
       "    <tr>\n",
       "      <th>25290</th>\n",
       "      <td>임신을 축하드립니다 임신을 확인한 후에 느끼는 기쁨과 설레임 이제는 혼자가 아니기에...</td>\n",
       "    </tr>\n",
       "    <tr>\n",
       "      <th>25291</th>\n",
       "      <td>임신을 한 순간부터 태교는 시작된다 태교는 단순히 영재를 출산하기 위해서가 아니라 ...</td>\n",
       "    </tr>\n",
       "    <tr>\n",
       "      <th>25292</th>\n",
       "      <td>16 20주 6개월 태아는 엄마 배꼽 아래에 있으며 자궁은 태아가 자유롭게 움직일 ...</td>\n",
       "    </tr>\n",
       "    <tr>\n",
       "      <th>25293</th>\n",
       "      <td>현대의학의 힘으로는 풀아하지 못하는 영역 중의 하나가 태몽이다 신기하게 임신만 하면...</td>\n",
       "    </tr>\n",
       "    <tr>\n",
       "      <th>25294</th>\n",
       "      <td>속설1 배가 부른 모양을 보면 아들 딸 여부를 알 수 있다 주부 설문 그렇다 84 ...</td>\n",
       "    </tr>\n",
       "  </tbody>\n",
       "</table>\n",
       "<p>25295 rows × 1 columns</p>\n",
       "</div>"
      ],
      "text/plain": [
       "                                                    text\n",
       "0      6살 남아 입니다 회사 복직 후 3살부터 주중에는 외할머니댁에서 2살 4살 터울의 ...\n",
       "1      요즘 들어 아빠가 아이에게 다가가려고 하면 엄마한테 갈 거야 하면서 엄마를 유독 찾...\n",
       "2      둘째가 태어나면 첫째가 힘들 거라는 건 예상하고 있었지만 툭하면 삐치고 울고 좀처럼...\n",
       "3      20개월 남아가 있고 임신 8개월차로 두 아기의 엄마입니다 첫 아이는 잠자리 독립을...\n",
       "4      14개월 남자 아기인데 심하게 깨무는 버릇이 있어요 전에는 졸릴 때 주로 물곤 했는...\n",
       "...                                                  ...\n",
       "25290  임신을 축하드립니다 임신을 확인한 후에 느끼는 기쁨과 설레임 이제는 혼자가 아니기에...\n",
       "25291  임신을 한 순간부터 태교는 시작된다 태교는 단순히 영재를 출산하기 위해서가 아니라 ...\n",
       "25292  16 20주 6개월 태아는 엄마 배꼽 아래에 있으며 자궁은 태아가 자유롭게 움직일 ...\n",
       "25293  현대의학의 힘으로는 풀아하지 못하는 영역 중의 하나가 태몽이다 신기하게 임신만 하면...\n",
       "25294  속설1 배가 부른 모양을 보면 아들 딸 여부를 알 수 있다 주부 설문 그렇다 84 ...\n",
       "\n",
       "[25295 rows x 1 columns]"
      ]
     },
     "execution_count": 66,
     "metadata": {},
     "output_type": "execute_result"
    }
   ],
   "source": [
    "pd.read_csv('data/text_for_word2vec.csv')"
   ]
  },
  {
   "cell_type": "markdown",
   "metadata": {},
   "source": [
    "### Loading check"
   ]
  },
  {
   "cell_type": "code",
   "execution_count": 67,
   "metadata": {},
   "outputs": [
    {
     "data": {
      "text/plain": [
       "<gensim.models.word2vec.Word2Vec at 0x7f566f691e90>"
      ]
     },
     "execution_count": 67,
     "metadata": {},
     "output_type": "execute_result"
    }
   ],
   "source": [
    "model = Word2Vec.load('data/tokmom_word2vec_only_noun.model')\n",
    "model"
   ]
  },
  {
   "cell_type": "markdown",
   "metadata": {},
   "source": [
    "## Doc2Vec"
   ]
  },
  {
   "cell_type": "code",
   "execution_count": 70,
   "metadata": {},
   "outputs": [],
   "source": [
    "from gensim.models.doc2vec import Doc2Vec, TaggedDocument"
   ]
  },
  {
   "cell_type": "code",
   "execution_count": 71,
   "metadata": {},
   "outputs": [],
   "source": [
    "documents = [TaggedDocument(doc, [i]) for i, doc in enumerate(df['noun'])]"
   ]
  },
  {
   "cell_type": "code",
   "execution_count": 72,
   "metadata": {},
   "outputs": [
    {
     "name": "stdout",
     "output_type": "stream",
     "text": [
      "CPU times: user 1min 5s, sys: 1.3 s, total: 1min 6s\n",
      "Wall time: 28.1 s\n"
     ]
    }
   ],
   "source": [
    "%%time\n",
    "doc2vec_model = Doc2Vec(documents, \n",
    "                        vector_size=100, \n",
    "                        window=5, \n",
    "                        min_count=5, \n",
    "                        workers=4)\n",
    "\n",
    "model.save('data/tokmom_doc2vec_only_noun.model')"
   ]
  },
  {
   "cell_type": "code",
   "execution_count": 73,
   "metadata": {},
   "outputs": [
    {
     "data": {
      "text/plain": [
       "25295"
      ]
     },
     "execution_count": 73,
     "metadata": {},
     "output_type": "execute_result"
    }
   ],
   "source": [
    "len(doc2vec_model.docvecs)"
   ]
  },
  {
   "cell_type": "code",
   "execution_count": 74,
   "metadata": {},
   "outputs": [
    {
     "data": {
      "text/plain": [
       "'6살 남아 입니다 회사 복직 후 3살부터 주중에는 외할머니댁에서 2살 4살 터울의 사촌 형 누나와 함께 자랐어요 금요일 저녁에 데려와 주말에는 엄마 아빠와 생활하고 있구요 7세가 되는 내년이라도 아이를 데려오자는 아이 아빠의 의견과 유치원과 태권도 등 패턴이 적응되었고 형 누나들과 더 자랄 수 있게 초등학교 입학시기에 데리고 가는게 낫지 않겠냐는 외할머니 의견이 다릅니다 6세가 된 아이의 교육과 생활습관 형성이 이제는 할머니댁에서는 어려울 것 같다는 생각이 들고 하루하루 생각이 크고 자라는 아이를 주말에만 보는 저 또한 놀랄 때가 많거든요 하루라도 빨리 데려와야 할까요 초등학교 입학시기에 데려오는 편이 아이에게 좋을까요 매우 어려운 질문입니다 먼저 아이가 현재 잘 적응하고 있고 주변 양육환경 역시 아이가 성장하기에 별다른 문제가 없다 하니 고민이 더욱 크시리라 생각됩니다 우선 되어야하는 것은 아이의 의견입니다 6살이면 이러한 문제에 대하여 스스로 생각하고 의견을 전달할 수 있으므로 먼저 아이의 의견을 들어 주시기 바랍니다 아이는 부모님과 함께 사는 것이 좋습니다 그러나 부모님께서 두분 모두 직장에 나가시니 유치원 하원 후 아이를 돌보아 주실 분이 현재 함께 생활하고 계시는 할머님이시면 재고의 여지 없이 데려 오시는 것을 권유 드립니다 그러나 하원 후 할머님의 돌봄이 여의치 못할 경우 돌보아 줄 대상이 당분간 할머님댁에서 시간제로나마 아이를 돌보아 주어 아이와의 상호작용을 충분히 가진 후에 아이가 집으로 왔을 때 유치원 하원 후에 계속 돌보아 줄 수 있으면 좋습니다 이와 같이 먼저 아이가 집으로 온 후 부모님께서 퇴근하시기 전 까지 돌보아 줄 사람을 알아보시고 데려 오시는 것이 좋다는 생각이 듭니다'"
      ]
     },
     "execution_count": 74,
     "metadata": {},
     "output_type": "execute_result"
    }
   ],
   "source": [
    "df['text'][0]"
   ]
  },
  {
   "cell_type": "code",
   "execution_count": 75,
   "metadata": {
    "scrolled": false
   },
   "outputs": [
    {
     "name": "stdout",
     "output_type": "stream",
     "text": [
      "Input Document\n",
      "젖병을 떼야 하는 이유로는 첫째 우식증을 예방하고 둘째 젖병 무는 어린 아기의 습관을 서서히 고쳐 나가기 위함 입니다 지금은 단지 습관에 의해 젖병을 물고 있을 뿐이므로 음식은 숟가락으로 먹이고 우유는 컵으로 마시게 하면서 젖병을 뗄 수 있도록 해야 합니다 잠잘 때 젖병을 물고 자는 것은 무의식적인 행동입니다 그러나 너무 친숙해진 습관을 갑자기 금지시킨다면 아기 심리에 큰 충격을 줄 수도 있으므로 서서히 젖병 속의 우유를 희석시키는 방법을 사용합니다 예를 들어 평상시에 우유를 200 mL 먹였다면 우유 180 mL에 물 20 mL를 섞어서 젖병에 넣어줍니다 점차 물의 농도를 높여가다가 아기가 이를 느끼고 부정적인 반응을 보일 때는 잠시 정지하였다가 다시 희석의 강도를 높여봅니다 그러다 보면 아기는 점차 희석된 우유에 흥미를 잃어 스스로 젖병을 내던지게 될 것입니다 아기에 따라 스스로 정서적 안정을 얻는 습관을 하나씩 가지고 있습니다 아기 때의 이불을 늘 잡고 있다거나 엄마의 머리카락을 잡아야 잠을 잔다거나 하는 습관은 고치기가 쉽지 않은 일입니다 젖병도 그런 습관의 일종일 수 있습니다 젖병을 물고 있는 것이 정서적인 이유라면 젖병 떼기를 강요하지 않습니다 하루 2 3번은 젖병을 물고 있게 하다가 점차 아기가 성장하면서 젖병 무는 것이 자신에게는 어울리지 않는다는 것을 엄마가 끊임없이 설득하고 아이 스스로도 그렇게 느껴 자연스레 젖병을 멀리하게 합니다 가능한 컵이나 빨대컵을 활용하고 노리개 젖꼭지 등을 대체하여 사용해 볼 수도 있습니다\n",
      "Most similar Documents\n",
      "idx: 14914 similarity: 0.608\n",
      "젖병은 돌 전후 떼는 것이 일반적이며 늦더라도 18개월쯤에는 끊어야 한다 돌이 지나면서부터는 수유가 아닌 균형 잡힌 식사로 고르게 영양을 섭취해야 하지만 돌 무렵부터 아이는 자기주장이 생겨 고집을 피우고 싫은 건 완강하게 거부해 젖병 떼기가 더욱 힘들어진다 게다가 소근육이 발달해 직접 젖병을 들고 먹으려 하는데 이렇게 젖병에 대한 지배권이 아이에게 넘어가버리면 젖병 떼기가 더욱 어려워진다 특히 젖병을 문 채 잠드는 게 습관이 된 아이는 내용 물보다 젖병을 무는 행위에 집착해 젖병과의 작별이 더 어렵다 손가락이나 노리개젖꼭지를 빠는 것과 마찬가지로 편안함을 느끼기 때문 따라서 생후 8개월 무렵부터는 밤에 젖병을 빨지 않고도 잠을 잘 잘 수 있게 수면 교육을 시작하는 것이 바람직하다 컵에 우유를 주면 아이가 장난치고 잘 먹지 않거나 흘린다며 젖병에 우유를 담아 주는 경우도 있는데 이 또한 젖병 집착을 심하게 하는 행동이므로 피한다 아이가 자꾸 흘리더라도 인내심을 가지고 연 습할 수 있는 기회를 줄 것 간혹 우유가 영양가가 높다는 생각에 많은 양의 우유를 먹이려는 경우도 있다 우유는 칼슘과 단백질이 풍부하지만 아이가 고형식을 먹기 시작했다면 간식의 개념일 뿐이다 우유를 필요 이상으로 많이 먹으면 편식의 원인이 되거나 배가 불러 주식을 덜 먹는 등 영양불균형을 초래한다 돌 지난 아이는 하루에 생우유를 2컵500ml 정도 먹는 게 적당하다 젖병을 오래 물고 있을 때 생길 수 있는 대표적인 문제로 치아우식증을 꼽는다 젖병을 문 채 잠들면 우유의 당분이 밤새 입안에 남아 치아를 갉아 먹는다 이렇게 당분에 오랫동안 노출된 치아는 까맣게 썩는다 또한 젖병을 지나치게 오래 빨면 중이염에 걸리기 쉽다 유치가 나는 시기에 젖병을 계속 물고 있으면 이가 고르게 나지 않는다 젖병을 떼지 못한 아이들의 우유 섭취량이 다른 아이들보다 많을 수밖에 없는 점도 문제다 돌이 된 아이는 삼시 세끼 식사와 두 번의 간식으로 하루 에너지 공급량의 70 정도를 채워야 한다 우유 섭취량이 과도하게 많을 경우 영양불균형을 초래해 성장 발달이 저해될 수 있으므로 유의한다 1 돌 무렵부터 생우유로 바꿔 먹인다 계속 젖병을 빨던 아이가 돌이 지났다고 하루아침에 젖병을 끊기는 쉽지 않다 순조롭게 끊기 위해 서는 컵으로 먹는 연습을 시켜보자 생후 6개월부터 물이나 분유를 한 모금씩 컵으로 먹여보고 생후 9개월부터는 컵으로 먹이는 연습을 본격적으로 시도해본다 분유는 생후 12개월까지 먹이되 돌 무렵 이 되면 생우유로 바꾸며 모자란 영양은 이유식으로 보충한다 2 알록달록 예쁜 컵을 활용한다 생후 9개월이 되면 컵을 쥘 수 있고 무엇이든 혼자 하려고 하므로 스스로 마시게 해본다 빨대컵이나 알록달록 예쁜 캐릭터 컵 등으로 아이의 마음을 사로잡는 것도 방법 3 완강하게 거부할 때는 12주 후에 다시 시도한다 아이가 젖병 떼기를 완강하게 거부하면 어느 정도 시간을 두고 12주 후에 다시 시도하는 것이 좋다 너무 강압적으로 하면 아이에게 심리적인 부담감을 줄 수 있으므로 자연스럽게 천천히 바꾸는 것이 좋다 아이가 밥도 안 먹고 계속 보채면 마음이 약해져 젖병을 다시 물리곤 하는데 눈 딱 감고 3일만 참아보자 아이는 미련 없이 젖병을 잊게 될 것이다 고집이 센 아이는 시간이 더 걸리기도 하지만 평균 12 주 정도면 가능하다 4 젖병 떼기에 대한 보상을 해준다 말귀를 알아듣는 아이라면 적절한 보상을 해주는 것도 한 방법 젖병은 아기들이나 쓰는 거야 컵으로 먹으면 엄마가 주스 줄게라고 아이에게 보상을 제시하면 어느 정도 효과를 기대할 수 있다 컵으로 먹기를 독려하고 성공했을 때는 반드시 칭찬한다 5 아이가 보는 앞에서 젖병을 버린다 젖병 안녕하면서 아이가 보는 앞에서 젖꼭지를 자르거나 젖병을 휴지통에 버린다 이렇게 작별 의식을 치르면 젖병에 대한 미련이 사라진다 찢어진 젖꼭지를 아이에게 보여주며 젖꼭지가 찢어졌지 그러니 이제부터 젖병 대신 컵에 담아 먹어야 해 하면서 컵에 우유를 담아 준다\n",
      "idx: 20398 similarity: 0.545\n",
      "아이는 태어나 세 살까지 7 8가지의 떼기 를 마스터하며 성장한다 누구도 피해갈 수 없는 관문이라면 아이와 전쟁을 치르지 않고 수월하게 성공하는 방법은 없을까 한국아동발달연구소 한춘근 소장과 아동발달센터 박경미 원장에게 떼기의 왕도 를 물었다 단계마다 명심해야 할 성공 포인트는 서두르지 말기 와 실망하지 않기 다 06 12 months이맘때 시도해야 할 떼기왕도는 있다 밤중수유 떼기의 왕도 생후 3 4개월부터 미리 준비를 시작해 6개월경에 끊는다 먹는 양과 간격을 서서히 늘려간다 아이가 숙면을 취할 수 있도록 수면 환경과 패턴을 체크한다 잠자는 장소와 수유 장소를 구분한다 가족이 한 팀이 돼야 한다 모두의 적극적인 협조가 필요하다 노리개젖꼭지 떼기의 왕도 사용 시간과 이유를 1 2가지로 정해 사용하게 한다 무분별한 사용을 피한다 잠잘 때는 선잠이 든 10분 정도만 사용하고 계속 물리지 않는다 아이를 달래는 용도로 사용하지 않는다 젖병 떼기의 왕도 아이와 엄마가 미리 마음의 준비를 한 후 점차 사용 횟수를 줄여나간다 어렸을 때부터 혼자서 젖병을 들고 먹지 않게 한다 애착이 생겨 떼기 어렵다 분유 이외에 이유식 등 다른 음식에 대한 친밀감을 형성해준다 우유를 컵에 담아 먹는 연습을 시킨다 다양한 놀이에 집중하는 시간을 늘려 젖병을 찾는 시간을 줄인다 1 밤중수유 떼기 4 8개월 왜 떼야 할까 ❶ 두뇌 발달과 성장을 방해한다 수유하는 중에는 엄마와 아기 모두 선잠을 자는 상태 아이들은 깊이 잠들었을 때 성장 호르몬의 분비가 왕성해지는데 먹으려고 자꾸 깨면 깊이 잠들기가 힘들다 우유병우식증의 원인이 된다 우유병우식증은 2세 이하 아이의 위 앞니 4개에 특징적으로 진행되는 충치를 일컫는다 젖병을 물고 잠들면 긴 시간 치아가 단맛의 액체와 접촉해 플라크를 형성하는 박테리아를 만들면서 이가 썩는 것 심한 경우 이가 부서지고 잇몸에 고름 주머니가 생기기도 한다 ❸ 젖 떼기 젖병 떼기가 더 힘들어진다 밤중수유를 컵으로 하는 경우는 드물다 밤중수유가 길어질수록 젖 떼기와 젖병 떼기가 더 어려워질 수 있다 선배맘의 조언 나는 이렇게까지 해봤다 젖 대신 보리차를 먹였어요 아이가 자다 깨서 젖을 찾으며 울면 끓여서 식힌 보리차를 먹였어요 아이는 생각했던 맛이 아니어서인지 입을 축이는 정도만 먹었어요 이렇게 반복하다 보니 자다 깨서 먹는 것은 맛이 없다고 생각했는지 더 이상 젖을 찾지 않더라고요 생후 8개월 서린이 엄마 자장가를 불러주고 등을 토닥였어요 매일 잠자리에서 자장가를 불러주고 책을 읽어주며 재웠어요 자다가 깨서 젖을 달라고 울 때도 자장가를 불러주고 아이가 좋아하는 이야기를 들려주었어요 이렇게 한두 달 지나니 자장가만 들려주어도 금세 다시 잠들더라고요 생후 10개월 윤호 엄마 잠깐 엄마의 이런 행동은 안 돼요 아이에게 아토피가 있는 경우 엄마는 스트레스를 주고 싶지 않은 마음에 밤중수유를 잘 끊지 못한다 그런데 오히려 밤중수유를 끊는 것만으로도 아토피피부염 증상이 완화되는 경우가 있다 프리허그한의원의 한명화 원장은 밤중수유를 비롯해 밤에 음식을 먹는 습관은 면역력을 떨어뜨리고 밤에 심해지는 가려움증을 더 악화시킨다 고 조언한다 아이는 대부분 6개월부터는 밤중수유를 끊어도 점차 자신의 수면주기를 찾아가기 때문에 밤중수유 떼기를 시작했다면 조급해하지 말고 아이가 적응하도록 기다려주는 것이 좋다 2 노리개 젖꼭지 떼기 6 15개월 왜 떼야 할까 ❶ 언어 발달이 지연될 수 있다 그러나 돌이 지나서까지 노리개젖꼭지를 빠는 행동은 아이의 기분을 달래주는 것이라기보다 습관일 확률이 높다 특히 12 18개월 이후까지 사용하면 노리개젖꼭지 때문에 말을 덜 하게 되고 웅얼거리는 소리로 표현하게 돼 언어 발달이 지연될 수 있다 급성중이염에 걸릴 확률이 높다 중이염은 생후 6개월부터 발병 빈도가 급격히 높아지다가 2세 전후 가장 많이 발생한다 모유수유를 적게 했거나 누워서 우유병을 먹이고 노리개젖꼭지를 사용하는 경우 급성중이염이 반복적으로 발생할 수 있다 노리개젖꼭지를 오래 빨면 귀 압력이 높아져 좋지 않으므로 생후 6개월부터는 사용 빈도를 줄여야 한다 선배맘의 조언 나는 이렇게까지 해봤다 노리개젖꼭지 요정을 만나게 해주었어요 노리개젖꼭지를 빨지 않고 잠든 날 머리맡에 아이가 좋아하는 인형을 놓아두었어요 다음 날 잠이 깬 아이에게 노리개젖꼭지 요정이 노리개젖꼭지를 가져가고 대신 선물을 주고 갔다고 이야기해주었어요 그때부터 아이는 인형을 안고 잠들었어요 적당한 시기를 찾다가 아이가 컨디션이 좋을 때 시도해서 성공한 것 같아요 생후 14개월 지우 엄마 잠깐 엄마의 이런 행동은 안 돼요 처음 사용할 때부터 아이가 운다고 무조건 노리개젖꼭지를 주어서는 안 된다 노리개젖꼭지를 찾는 건지 엄마와 놀고 싶다는 건지 아이의 욕구를 파악하는 것이 우선이다 아이가 배고파 울 때 분유를 타는 동안 노리개젖꼭지를 물리는 일이 많은데 이런 경우 아이는 분유를 주는 줄 알고 열심히 빨다가 실망하고 잠시 후 진짜 분유를 주어도 적게 먹는 악순환이 반복되어 욕구불만으로 이어질 수 있다 노리개젖꼭지를 떼기 위해 꼭지에 가위집을 내기도 하는데 그러면 아이는 계속 공기를 들이마시게 돼 뱃속이 불편해질 수 있다 3 젖병 떼기 9 15개월 왜 떼야 할까 ❶ 돌출입이나 주걱턱이 될 확률이 높다 부정교합이 생기지 않고 가지런한 치아를 만들기 위해서는 유치부터 관리해야 한다 유치에 생긴 충치나 빠질 시기에 치아를 빼주지 않으면 영구치가 제대로 자리를 잡지 못하고 치열이 틀어지는 현상이 발생한다 젖병보다 컵을 사용하는 것이 두뇌 발달에 훨씬 좋다 컵을 사용하기 시작하면 젖병을 빠는 것과 달리 자연스럽게 입술을 다물고 삼키는 훈련이 되어 아이 스스로 양을 조절하며 마실 수 있다 컵을 잡기 위해 손가락을 사용하기 때문에 두뇌 발달에도 도움이 된다 게다가 아기용 일반 컵으로 옮겨가는 과정은 아이가 다른 가족들의 생활 습관에 합류하게 해주는 좋은 기회다 선배맘의 조언 나는 이렇게까지 해봤다 하루 두 번 먹을 수 있는 젖병 수를 정해주었어요 젖병을 두 개만 준비해 냉장고에 넣어두고 아들한테 오늘은 두 병만 먹을 수 있어 다 먹고나면 내일까지 기다려야 해 라고 알려주었어요 정해둔 양에 한해서 아들이 먹고 싶을 때 언제든 먹게 해주다가 이웃집 동생에게 젖병을 주기로 약속하고 젖병과 이별하는 날짜를 달력에 표시해두었어요 정한 날에 아이와 함께 포장을 해서 실제로 동생에게 선물해주었죠 아들에게는 평소 갖고 싶어 하던 장난감을 선물해주었고요 선물도 받고 자신이 형아 노릇을 했다는 것에 뿌듯해하더군요 13개월 상엽이 엄마 잠깐 엄마의 이런 행동은 안 돼요 무엇이든 입으로 가져가 확인하는 구강기 아이들이 구강욕구를 충족시키기 위해 집착하는 것은 젖병이다 자신의 욕구를 충족시켜주던 젖병을 떼고 컵을 사용하는 것은 아이에게는 스스로 밥을 먹는 것만큼이나 훈련과 인내가 필요한 일이다 아이가 처음 컵을 사용하려고 시도할 때는 아이에게 턱받이나 배가리개를 해주고 컵에 물이나 모유 분유 등을 1 3 정도만 담아준다 당연히 아이는 실수 연발일 것이다 엄마는 내용물이 쏟아져 아이가 젖는 데 연연하지 말아야 한다 엄마가 개입하면 아이도 스트레스를 받아 컵으로 먹는 것에 흥미를 잃고 거부감을 가질 수도 있다 조급한 마음을 버리고 내용물이 쏟아지면 또 채워서 연습시키는 엄마의 인내심이 젖병 떼기의 성패를 좌우한다 12 24months이맘때 시도해야 할 떼기왕도는 있다 이유식 떼기의 왕도 올바른 식습관 형성을 잡아준다 돌아다니며 먹지 않도록 한다 새로운 음식에 거부감을 갖지 않도록 아이가 좋아하는 조리법으로 요리한다 이유식 진행 시 음식을 하나씩 첨가해가며 어른 음식에 적응할 수 있도록 한다 부모도 다양한 음식에 대해 긍정적인 태도를 가져야 한다 아이의 식기를 마련해주고 스스로 먹는 습관을 연습시킨다 모유 떼기의 왕도 먼저 아이의 발달 상태를 체크한다 젖을 뗄 시기를 결정하고 2 3주 적응 기간을 가진다 한 번에 충분하게 젖을 먹인다 다양한 놀이로 모유수유에 대한 대리만족을 느끼게 한다 신체 활동을 통해 식욕을 자극한다 올바른 식습관을 가지게 한다 기저귀 떼기의 왕도 아이의 발달 상태를 체크한다 생후 1년 6개월 이후 괄약근이 발달하면 시도한다 낯선 변기와 화장실에 대한 친밀감을 형성해준다 아이가 소변과 대변을 보는 시간에 맞춰 주기적으로 앉힌다 쉬한 감각이나 대변이 나온 것을 알려준다 대소변이 나오기 전과 후의 느낌을 알려준다 동화책을 이용해 배설물과 잘 가 내 친구 놀이를 하는 것도 좋다 1 이유식 떼기 12 18개월 왜 떼야 할까 ❶ 스스로 먹고 뜯고 씹고 삼키며 아이는 자란다 이 시기 아이에게 먹는 것은 단지 영양을 공급하기 위해서만이 아니다 아이는 먹는 행위를 통해 맛과 향을 배우고 다양한 색을 접하고 촉감을 느끼며 씹을 때의 감각 등을 배워간다 가족과의 식사는 엄마 아빠와 함께 밥을 먹고 대화를 나누며 유대 관계를 형성하는 시간이기도 하다 영양뿐 아니라 아이의 지적 능력까지 평생 책임지는 올바른 식습관은 유아식에서 시작된다 선배맘의 조언 나는 이렇게까지 해봤다 아이가 싫어하는 채소를 이용해 함께 주먹밥 요리를 했어요 유아식을 시작할 때 아이가 호박 당근 같은 식감의 채소를 먹지 잘 먹지 않았어요 아주 잘게 다져서 밥과 섞고 아이와 주먹밥을 만들었더니 자기가 만든 요리를 잘 먹더라고요 그때부터 피망 등 아이가 거부감을 갖는 식재료는 처음부터 요리를 함께 하며 친숙하게 해주었어요 생후 15개월 승우 엄마 입맛 돋우는 배 마사지를 해주었어요 이유식을 먹을 때도 양이 많지 않았는데 역시나 유아식을 거부하더라고요 그래서 한의사에게 배운 입맛 돋우는 마사지를 자주 해주었어요 식사시간 전에 손바닥으로 아이의 배 전체를 시계방향으로 문지르거나 배꼽에서 양옆으로 2㎝ 떨어진 곳 천추혈 을 엄지로 가볍게 눌러주었어요 마사지로 아이와 스킨십을 하다보니 아이에 대한 원망도 사라지고 애착이 커졌어요 생후 12개월 지윤이 엄마 잠깐 엄마의 이런 행동은 안 돼요 아이가 잘 먹지 않는다는 이유로 이유식을 오래 먹이거나 유아식을 시작하고도 엄마가 떠먹인다면 아이는 제대로 된 식습관을 갖기가 어렵다 영양만큼이나 중요한 유아식의 목적은 아이가 평생 먹고 살아야 하는 음식과 친숙해지는 것 그리고 덩어리 음식을 오물오물 씹고 넘기면서 장기를 튼튼하게 하고 오감과 근육을 발달시킨다 유아식에서는 반찬이 중요하다 아이의 식성은 부모를 닮기 때문에 엄마 아빠도 좋아하는 반찬과 싫어하는 반찬을 적어두고 하나씩 첨가하면서 가족의 식습관을 건강하게 설계하는 것도 좋은 방법이다 2 모유 떼기 24개월까지 왜 떼야 할까 ❶ 모유는 철분이 부족해 소아 빈혈을 초래할 수 있다 가장 큰 이유는 영양 불균형 때문이다 생후 6개월이지만 아이가 모유만 먹거나 돌이 지난 아이가 모유나 생우유만 먹으면 빈혈이 될 가능성이 높다 보통 15개월 전후로 모유 떼기를 시작하는데 아이의 특수성을 고려해야 한다 선배맘의 조언 나는 이렇게까지 해봤다 컵으로 마시는 횟수를 늘리고 아침 식사를 챙겨주었어요 매일 아침 아이가 깨면 잠자리에서 젖을 먹였는데 이 패턴을 바꾸기 위해 아이가 깨면 옷을 입힌 다음 아침식사를 주었어요 하루 한두 번 소량의 젖을 컵으로 먹이다가 서서히 컵으로 먹는 횟수를 늘렸더니 젖에 대한 욕구가 상당히 줄었어요 생후 15개월 은서 엄마 엄마의 식단을 바꾸고 모유량을 줄였어요 아이가 젖에 대한 관심이 가장 떨어지고 먹는 양이 적은 시간에 아이가 좋아하는 재료로 만든 유아식을 먹였어요 엄마도 물을 적게 마시고 국 종류를 자제해 모유량을 줄였고요 아이에게 젖을 물리지 않으니 젖이 팽팽하게 부풀었는데 짜내거나 수유하지 않으니까 유선에 모유가 가득 차서 모유가 저절로 줄더라고요 생후 12개월 준형이 엄마 잠깐 엄마의 이런 행동은 안 돼요 모유수유로 상실감을 겪는 것은 아이만이 아니다 많은 엄마가 모유를 뗄 때 계획했던 만큼의 기간을 채우지 못해서 또는 계획한 기간을 넘기고도 상실감과 죄책감을 경험한다 모유는 아이에게 줄 수 있는 엄마의 가장 큰 선물이지만 끝내야 하는 시간은 있다 모유를 떼야 하는 이유가 아이의 다음 성장 단계를 위한 것임을 받아들이고 자책감과 상실감에서 벗어날 것 또한 억지로 젖을 떼기 위해 젖에 식초나 약을 바르는 경우가 있는데 수개월간 아이가 젖꼭지를 빤 상태에서 식초를 바르면 염증이 생길 수 있으니 삼간다 3 기저귀 떼기 18 36개월 왜 떼야 할까 ❶ 기저귀 떼기는 영아에서 유아로 가는 길에 통과해야 하는 마지막 관문이다 엄마들이 가장 어려워하는 것도 바로 기저귀 떼기다 아이가 말을 시작하려고 할 때나 혼자 대소변을 가릴 수 있는 준비가 됐을 때 훈련을 시작하는 것이 중요하다 시작한 다음에는 엄마의 인내심이 승패를 결정한다 선배맘의 조언 나는 이렇게까지 해봤다 신체 기능을 말이나 행동과 연결시킬 수 있도록 도와주었어요 아이가 기저귀를 가리키면 아 쉬를 했구나 기저귀를 갈아달라고 라며 아이의 마음을 말로 표현해주었어요 아이가 바지를 끌어내리려고 하면 응가를 했구나 기저귀를 갈아야겠네 라고 알려주었고요 24개월부터는 기저귀에 묻은 응가를 변기에 버리고 아이에게 직접 물을 내리게 했어요 처음에는 쉬를 하지 않았지만 변기에 오르락내리락하면서 자연스럽게 배변훈련이 된 것 같아요 생후 28개월 승민이 엄마 아이를 변기에 거꾸로 앉히고 사격놀이를 했어요 책에서 본 내용을 참고해 아이를 변기에 거꾸로 앉히고 자기가 쉬를 하는 것을 볼 수 있게 했어요 그리고 변기 안에 조그만 과일 껍질 등을 띄워놓고 소변으로 맞히는 사격놀이를 했어요 한 가지 부작용은 아이가 재미를 붙이면 변기에서 내려오려고 하지 않는다는 거예요 생후 30개월 동건이 엄마 잠깐 엄마의 이런 행동은 안 돼요 똥을 보고 엄마가 더러워 라고 말하면 아이는 몸 밖으로 나온 똥은 냄새나는 더러운 것이라고 생각할 수 있다 이러한 행동은 대소변 훈련을 더 어렵게 만드는 원인이다 아이에게 우리 아기 똥은 귀여운 고구마 모양이네 식으로 긍정적인 표현을 해준다 아이가 변기에서 변을 보지 않는다고 오래 변기에 앉혀두는 것도 지양해야 한다 아이가 화장실에 앉아 있는 것이 벌을 서는 것이라 생각할 수 있고 소아변비가 생길 수 있기 때문이다 긍정적인 말과 마음으로 아이를 기다려주고 아이가 변기에 변을 보지 않으려고 하면 그 이유가 무엇인지 아이의 마음을 알아주는 것이 중요하다 아이의 배변 시기 배변 신호 알아채기1 배변 시기 자다 깼을 때 수유 중 또는 수유한 이후 외출 전 또는 외출 후 아기띠·카시트·유모차 등에서 나온 후 목욕 전 또는 목욕 후 잠들기 전 2 배변 신호 침을 푸푸거린다 방귀를 뀐다 몸을 떨거나 긴장한다 발로 허공을 찬다 가만히 엄마를 바라본다 갑자기 소리를 낸다 옹알대다가 갑자기 조용해진다 수유 중에 젖을 물었다 떼었다 한다 아이 유형별 성공 노하우1 화장실에 거부감을 느끼는 아이 18 30개월 아이의 20 가 화장실에 들어가는 것을 싫어한다 대부분 변기가 싫기 때문 변비에 걸린 적이 있거나 물을 내려 보내는 것을 보고 마치 자신이 변기 물처럼 빨려 내려갈 것 같은 공포감을 느끼는 아이도 있다 변비가 있는 경우에는 섬유질 채소와 유산균 물을 많이 먹이고 변을 버리는 것을 두려워하면 변이 신체의 일부가 아니라 우리 몸의 필요 없는 음식이 나온 것이라고 알려주자 2 팬티형 기저귀에만 변을 보는 아이 아이가 원하는 대로 변을 누도록 허락해주고 인내심을 갖고 기다리자 그리고 아이 컨디션이 좋을 때 기저귀와 이별할 날을 정해보자 아이에게 이게 우리 집에 남아 있는 마지막 기저귀 묶음이야 이걸 다 쓰고나면 기저귀를 안 살 거야 라고 이야기해주는 것 엄격하면서도 다정하게 계획대로 진행하는 것이 효과적이다 24 36 months 이맘때 시도해야 할 떼기왕도는 있다 손가락 빠는 습관 떼기의 왕도 무조건 야단치지 않는다 오히려 위축되거나 불안해할 수 있다 심리적 위안을 얻기 위해 손가락을 빠는 경우도 있기 때문에 정확한 이유를 파악한다 손에 붕대를 감거나 빨간 약을 바르거나 쓴 약을 바르면 역효과를 미치는 경우가 많다 손가락을 빨지 않을 때 안아주고 듬뿍 칭찬해준다 심심하지 않게 장난감이나 놀아줄 친구 등 재미있는 환경을 마련해준다 애착물 떼기의 왕도 애착물을 빼앗겠다는 위협은 절대 하지 말자 몰래 치워버리거나 세탁하지 말자 이불이나 인형 베개에 애착을 갖는 아이의 마음을 살펴보자 아이에 대한 사랑을 일상에서 적극적으로 표현한다 아이가 만족을 느낄 수 있도록 신체 놀이나 감각 놀이를 자주 한다 1 형·이불 등 애착물 떼기 왜 떼야 할까 ❶ 걱정보다는 관심을 갖고 놀이를 확장시켜주자 인형과 이불뿐만이 아니다 내복 바지 고무줄에 입술을 문지르는 아이 베개 모서리를 잡고 자는 아이 엄마의 배꼽을 파는 아이 등 아이의 애착 대상은 아이들의 수만큼이나 다양하다 결론은 애착물을 꼭 떼야 한다고 단언할 수는 없다는 것 다만 초등학교 입학 전에는 그 당도를 조절해준다 선배맘의 조언 나는 이렇게까지 해봤다 아이가 원할 때까지 어린이집에 곰아기를 보냈어요 아이가 외출할 때면 항상 곰인형 곰아기 를 데리고 다녔는데 30개월에 어린이집에 가게 되었어요 선생님과 상담하니 곰아기를 가방에 넣어 보내달라고 하셔서 한 달 정도 등원할 때 넣어주었어요 세 달쯤 지났을 때 선생님이 아이가 유치원에서 곰아기를 안 찾지 않는다고 해서 오늘부터 곰아기는 집에서 기다릴게 라고 이야기해주었더니 순순히 가더라고요 생후 35개월 은재 엄마 장난감에 집착하는 아이 친구와 함께 놀게 했어요 아이가 타요 장난감에 집착해서 손도 대지 못하게 했어요 걱정이 돼서 놀이터에 데리고 가 모래밭에서 해주었더니 친구에게도 타요를 갖고 놀게 해주더라고요 집에서는 블록으로 자동차 경주 코스를 만들어주었더니 관심사가 블록으로 바뀌었어요 아이의 관심사를 놀이로 확장해주는 것이 효과가 있었어요 생후 38개월 준화 엄마 잠깐 엄마의 이런 행동은 안 돼요 애착물은 집착이 아니라 독립의 표현이다 아이는 엄마로부터 독립하며 느끼는 불안과 긴장을 해소하기 위한 하나의 방편으로 자신의 이불이나 베개 인형 등에 애착을 갖게 된다 이는 5세 이전 아이에게서 자연스럽게 볼 수 있는 행동이다 빼앗으려 하지 말고 아이와 함께 애착물을 이용해 놀이를 해보자 아이에게 애착물과 단둘이 노는 것보다 부모와 함께 또는 친구와 함께 노는 것이 더 재미있다는 사실을 알려주는 것이다 부모와의 즐거운 상호작용이 지속되면 애착물에 몰입하는 행동이 자연스럽게 줄고 새로운 사람과 관계를 맺는 일에 관심을 갖게 될 것이다 2 손가락 빠는 습관 떼기 왜 떼야 할까 ❶ 주걱턱이 되거나 위턱이 아래턱보다 좁아질 수 있다 옛 어른들은 손 빨고 자라는 아이가 순하다 고 했다 하지만 6개월이 지난 아이가 손가락이 쪼글쪼글해질 정도로 손을 빤다면 엄마가 개입해야 한다 미국 아이오와 치과대학과 도쿄 치과대학의 최근 연구에 의하면 세 살 이후에도 입으로 손가락이나 노리개 젖꼭지를 빨 경우 주걱턱이 되거나 위턱이 아래턱보다 좁아질 수 있다고 한다 적기의 언어 발달을 방해한다 혀 앞쪽은 드 와 트 소리를 목젖 뒤쪽은 그 와 크 소리를 낸다 손가락을 빨며 이야기하면 발음을 정확하게 하기 힘들고 언어 발달에도 좋지 않다 ❸ 손가락에 접촉성 피부염이 생길 수 있다 손가락이 늘 축축한 침에 젖어 있기 때문에 손가락에는 염증이 접히는 마디 부분에는 접촉성 피부염이 생길 수 있다 상처가 생기고 아물기를 반복하다보면 경우에 따라 손가락 변형이 생길 수 있으므로 청결에 신경 써야 한다 선배맘의 조언 나는 이렇게까지 해봤다 아이의 역심리를 이용했어요 아이에게 엄지손가락만 빨지 말고 다른 손가락도 빨아줘 엄지손가락하고만 놀아주니까 다른 손가락들이 심심해 하잖아 라고 타일렀어요 모든 손가락을 같은 시간 동안 빨도록 아이의 패턴을 흐트러뜨린 거죠 아이는 한동안 모든 손가락을 빨아보더니 점차 손가락 빨기를 귀찮아하기 시작했어요 그때 바깥에서 노는 시간을 늘렸더니 자연스럽게 손을 빨지 않더라고요 생후 30개월 지안이 엄마 혼자 있을 때만 손을 빨라고 허락 했어요 손을 빨지 말라고 하면 더 집착할 것 같아서 혼자 있을 때만 손을 빨라고 허락했어요 성공할 때마다 칭찬 스티커로 보상을 해주었고요 그랬더니 순순히 말을 듣더라고요 버릇이 완전히 없어진 건 아니지만 예전에 비해 손을 빠는 시간이 확실히 줄었어요 생후 33개월 승기 엄마 잠깐 엄마의 이런 행동은 안 돼요 우선 야단치지 말 것 엄마와의 애착형성이 잘 이루어지지 않아 불안감을 느끼고 또래와의 세계로 나가지 못해 심심하거나 스트레스를 많이 받게 되면 심리적 위안으로 손가락을 빠는 경우가 있다 손가락을 빠는 것은 아이의 발달상 정상적인 과정이며 야단맞을 일이 아니다 영구치가 나기 이전인 6세가 되기 전까지만 손가락 빨기를 멈춘다면 심리적으로나 의학적으로 별 문제가 없다는 것이 일반적인 견해 습관으로 이어지는 것이 걱정된다면 애착과 훈육으로 횟수를 줄여나가면 된다 이 모든 노력에도 불구하고 떼기에 실패했을 때 한발 뒤로 물러서서 고민하는 지혜와 객관적으로 바라보는 여유가 필요해요 이 시기 육아만큼 힘든 것이 없습니다 아이는 전적으로 부모에게 의존하는 시기이고 부모는 말도 통하지 않는 아이와 끊임없이 교감해야 하기 때문입니다 이러한 교감을 통해 어떤 아이는 빠르기도 하고 어떤 아이는 느리기도 하지만 때가 되면 시작할 것은 시작해야 하고 끊을 것은 끊으려고 노력해야 합니다 아이들은 현재에 안주하려는 경향이 있기 때문에 발달의 한 단계 한 단계를 넘어갈 때마다 부모와 투쟁을 벌이기도 합니다 하지만 일단 문제가 생기면 한발 뒤로 물러서서 고민하는 지혜와 객관적으로 바라보는 여유를 갖는 것이 부모됨의 기본적인 출발이라고 생각합니다 거기에 더해 자녀에 대한 무한한 애정과 인내력 그리고 체력이 있으면 이 시기의 엄마 노릇을 잘 감당해낼 수 있지 않을까요 한춘근 한국아동발달연구소 소장 박경미 아동발달센터 원장참고도서 부모의 실수 엘리슨 셰이퍼 부즈펌 첫돌부터 네 돌까지 베이비 메뉴얼 앤 더글러스 그리고책 1세 아이 잘 키우는 육아의 기본 이경선 오정림 저 지식너머 똑똑한 임신출산 육아 대백과 웅진 리빙하우스 임신출산육아대백과 삼성출판사 편집부 저 삼성출판사 소문난 육아책 웅진리빙하우스 편집부 저 웅진리빙하우스 베이비 위스퍼 골드 멜린다 블로우 트레이시 호그 저 세종서적 제품협조 스와비넥스 도움말 한춘근 한국아동발달센터 소장 박경미 아동발달센터 원장 일러스트 최익견\n",
      "idx: 15222 similarity: 0.542\n",
      "7개월 된 여자 아기인데 생후 3개월 되던 때부터 엄지손가락을 빨기 시작하더니 요즘에는 젖병을 입에서 떼기가 무섭게 손가락을 가져가요 손가락을 빼면 화를 내고 이리저리 고개를 돌려 손가락을 찾고 빨아야만 잠이 듭니다 저희 아기는 생후 50일도 안 돼서 주먹을 빨더니 요즘은 손가락을 넣고 쩝쩝 소리까지 내가며 맛있게 빨아댑니다 아기가 좋아하는 것 같아서 그냥 놔두기는 하는데 괜찮을까요 초보 엄마가 육아 카페에 올린 아기의 손가락 빨기에 대한 걱정의 글이다 이렇듯 많은 아기가 성장 과정에서 손가락을 입에 가득 넣고 빨거나 엄지 또는 검지만 빨기도 하는데 초보 엄마는 이러한 아기의 습관 앞에서 으레 당황하게 마련이다 아기가 손가락을 빨면 손가락 모양이 변하진 않을지 구강 구조에 영향을 주지는 않을지 하는 걱정과 함께 직장맘이거나 피치 못할 사정으로 남의 손에 맡겨야 하는 엄마는 아기가 엄마에 대한 애정 결핍과 욕구불만으로 손을 빠는 것은 아닐지 죄책감에 사로잡히기도 한다 아기가 손을 빠는 습관은 이래저래 엄마에게는 골칫거리가 되는 셈 엄마의 유방 젖병의 젖꼭지나 어떤 부드러운 물체로 아기의 볼을 살짝 건드리면 아기는 그 물체를 향해 입을 벌리고 머리를 돌리는 반사 행동을 보인다 이는 신생아가 생존을 위해 젖꼭지를 찾아 젖을 먹으려고 하는 행동으로 젖 찾기 반사 혹은 루팅 반사라고 한다 모유 냄새가 나는 쪽으로 얼굴과 입을 돌려서 먹으려는 행동도 이러한 반사 행동의 하나다 또 아기는 젖을 빠는 힘이 강력해 엄마의 젖이 다 비워질 때까지 빨 수 있다 이렇듯 아기의 빨기 본능은 말 그대로 생존 본능이다 젖을 먹고 살아야 하는 본능이 작용한 것 이러한 본능이 잦은 반복으로 인해 습관이 되고 이 습관이 아기의 손가락 빨기로 이어지는 것이다 한 연구 보고에 의하면 13세에 40 35세에 33 5세 이후에도 25가 손가락을 빤다고 한다 손가락 빨기는 아기가 좀 더 편안한 상태를 유지하기 위해 행하는 습관 중 하나다 하지만 아기의 손가락 빨기 습관은 틱장애 같은 문제일 수도 있으므로 다른 습관성 행동은 없는지 살피는 것이 중요하다 계속해서 손가락을 빨면 치아 배열에 지장을 주고 정서적으로나 사회적으로 장애가 생길 수 있으므로 격려와 함께 적절한 보상으로 다독여주는 것이 좋다 앞서 말했듯이 아기는 자신의 불안한 심리 상태를 좀 더 편안하고 안정되게 하기 위해 손가락을 빤다 전문가들은 이렇게 일정 월령의 아기가 손가락을 빠는 습관은 자연스러운 현상이라고 이야기한다 아기는 태아 시기인 임신 28주 무렵부터 손가락을 빨기 시작하는데 이런 행동은 태어나 젖을 먹으면서도 계속되며 일반적으로 모유를 먹는 아기보다 분유를 먹는 아기에게 더 많이 나타난다 분유를 먹는 아기는 모유를 먹는 아기보다 훨씬 힘을 덜 들이고 우유를 먹을 수 있어 빨기 욕구가 더 강하게 나타나기 때문이다 아기는 손가락을 빨면서 안정감과 편안함을 느낀다 손가락을 빠는 버릇은 때가 되면 점점 사라지므로 억지로 제지할 필요는 없다 하지만 손가락 빨기는 분명 위생상 좋지 않으며 치아 배열에도 영향을 끼친다 습관이 지속되면 손가락에 굳은살이 생기거나 염증이 생기기도 한다 생후 6개월이 지나도 아기가 손가락을 계속 빤다면 왜 아기가 손가락을 빨고 있는지 생각해봐야 한다 대개 아기는 심심하거나 부모의 관심을 얻고 싶을 때 손가락을 빤다 따라서 이런 아기의 심리를 파악하고 나서 대처하는 것이 순서다 이를 방관하면 아기가 놀이의 즐거움을 통해 얻을 수 있는 중요한 자극을 상실하는 것과 같기 때문이다 일반적으로 아기가 손가락을 빠는 버릇은 활동량이 많아지거나 무언가에 집중하는 34세가 되면 자연스럽게 없어지지만 그렇지 않을 때는 강압적으로 아이의 행동을 제지하기보다는 아이가 손가락을 빠는 원인이 무엇인지 살피고 그 원인을 없애주는 것이 옳다 아이만이 알 수 있는 눈빛이나 미소를 보내 자신도 모르게 하는 행동을 자각할 수 있도록 도움을 주는 것이 좋다 따라서 아기가 어리다면 크게 걱정할 필요는 없다 하지만 어느 정도 자란 아이가 손가락을 빨아댄다면 경우가 좀 다르다 영구치가 나기 시작하는 만 5세쯤에는 손가락을 빠는 버릇이 새로 나는 영구치에 나쁜 영향을 미칠 수 있기 때문이다 손가락 대신 빨 수 있는 대치물을 준다 생후 6개월 이후에도 아기가 심각할 정도로 손가락을 빤다고 판단될 때는 손가락 대신 공갈 젖꼭지로 대체해주는 것이 좋다 가끔 엄마 중에 공갈 젖꼭지가 아기에게 안 좋은 영향을 미칠 수 있다고 생각하는데 미국 소아학회에서는 아기가 공갈 젖꼭지를 빨아도 의학적으로나 심리적으로 아무런 문제가 생기지 않는다고 밝히고 있다 또는 이가 나기 시작하면 간지러워 손을 빨 수도 있으므로 이가 나려고 하는 것인지 살펴보고 치아 발육기를 물려주는 것도 한 방법이다 부드러운 방법으로 지적해준다 아기가 손가락을 빤다고 해서 억지로 손가락을 잡아 빼거나 못하게 하면 아기는 입술을 빠는 버릇으로 욕구를 채우려고 할 수 있다 즉 나쁜 습관의 강압적인 중단이 더 나쁜 버릇으로 이어질 수 있으므로 주의하도록 한다 아기가 손가락을 입에 가져가면 다정한 목소리로 손가락이라고 지적하거나 손을 빠는 아기와 눈이 마주쳤을 때 고개를 절레절레 흔들어서 안 된다는 표시를 하면 아기는 자기의 버릇을 인식하게 된다 다른 일에 흥미를 갖게 한다 아기가 손가락을 빨고 있으면 아기의 주의를 끌 다른 흥밋거리를 제공한다 이를테면 아기가 좋아하는 그림책을 가져와 자 엄마랑 그림책 볼까 하면서 슬쩍 아기의 손에 책을 쥐어준다 아기는 그림책을 보는 동안 손가락 빠는 것을 잊어버릴 것이다 엄마와 함께 산책을 나가거나 그림을 그려보거나 소리 나는 장난감을 가지고 놀게 하는 것도 좋은 방법이다 만약 잘 때만 허전함을 느껴 손가락을 빠는 아기라면 잠이 잘 들도록 목욕 후 엄마가 노래를 불러주거나 재미있는 이야기를 들려준다 요 엄마 젖꼭지 또는 젖병 젖꼭지와 모양이 같고 입에 물 수 있도록 만든 젖꼭지를 공갈 젖꼭지라고 한다 공갈 젖꼭지는 엄마들이 아기의 울음을 달래고자 입에 물려주었던 것이 최근 아기의 빨려는 욕구를 충족시킨다는 연구 결과가 발표되면서 평상시에 사용하는 엄마가 꽤 많이 늘었다 습관이 되면 잠자리에 들 때조차 입에 물고 자려 한다 대물 애착의 애착물과는 달리 엄마가 습관적으로 물려주는 것으로 신체 접촉만큼의 포만감과 욕구가 충족되어 아기의 심리적 안정에 좋은 영향을 미친다고 한다 생후 6개월이 지나면 아기의 빨고자 하는 욕구는 줄어든다 그 이후에 공갈 젖꼭지를 빠는 것은 이를 대체할 만한 흥미로운 자극을 받지 못해서라고 볼 수 있다 공갈 젖꼭지에 집착하는 것이 심각한 문제가 되지는 않지만 아기의 심리적인 욕구불만을 표현하는 신호일 수 있으므로 부모는 세심한 관심과 사랑으로 아기에게 신경 써야 할 것이다 특히 중이염이 잦은 아기에게는 월령이 낮더라도 공갈 젖꼭지를 물려서는 안 된다 귀 안의 이관에 음압이 작용해 중이염에 쉽게 걸릴 수 있기 때문이다 떼는 시기 공갈 젖꼭지에 익숙해진 아기는 애착물의 경우와 같이 공갈 젖꼭지를 입에서 놓지 않으려고 한다 주로 우유를 먹는 아기가 더 많은 집착을 보이는데 이는 젖병으로 먹는 우유는 아기가 빨려고 하는 욕구를 충분히 충족하지 못한 채 없어져버리는 것도 어느 정도 원인이 된다 일부 전문가들은 공갈 젖꼭지를 심하게 빨면 이가 곧바로 나오는 것을 방해하고 입 모양이 밉게 된다고 주장하기도 하지만 아주 심한 경우가 아니면 큰 지장이 없다는 의견이 대세다 그렇지만 습관이 되거나 심하게 물면 구강 발달이나 치아 발달에 좋지 않으므로 두 돌 전에 끊는 것이 바람직하다 이렇게 떼세요 공갈 젖꼭지를 떼기 위해서는 가능한 한 아기와 많이 놀아주고 흥미 있는 다른 놀이를 할 수 있도록 끊임없이 신경 써주어야 한다 아기를 혼내거나 지나친 걱정을 보이는 것은 아기에게 스트레스를 주어 빨기에 더 집착할 수 있다 만 4세가 지나도 빨기가 지속되면 적극적으로 치료를 해야 하는데 대화를 통해 왜 빨면 안 되는지 이유를 설명해주고 손가락이나 집착하는 공갈 젖꼭지에 약을 바르거나 장치를 붙이는 방법을 쓰기도 한다 특별한 이유가 없는 한 이유식을 먹고 고형 음식을 먹게 되면 더 이상 빨지 않는 경우가 대부분이다 특히 동생이 생긴 아이에겐 공갈 젖꼭지는 아기만 사용하는 것이라고 일러주면 쉽게 뗄 수 있다 돌이 지난 아이가 젖병을 떼지 못하고 지속적으로 찾는 행동은 못하게 해야 한다고 전문가들은 못박아 말한다 아이가 젖병을 찾는 이유는 배가 고파서라기보다는 빨고자 하는 욕구를 충족하고 싶기 때문이다 하지만 아이가 젖병을 통해 심리적 안정감을 찾는 경우는 극히 드물다고 한다 떼는 시기 첫돌이 지나면 반드시 젖병을 떼야 하는데 젖병을 제 시기에 떼지 못하면 이유 과정에서 영양 불균형 등의 문제가 나타날 수 있고 지나치게 의존하려는 경향 때문에 정서적으로 나쁜 영향을 미친다 또 젖병을 물고 자는 경우가 많아 치아 건강이 나빠진다 그리고 플라스틱 젖병은 환경호르몬의 나쁜 영향을 받을 수 있으므로 일찍 떼는 것이 좋다 젖병으로 우유를 먹다 보면 이관에 가해지는 압력이 커져 중이염에 걸릴 위험이 있고 젖병을 물고 오래 돌아다니다 보면 우유가 상해 배탈이 날 수 있으므로 주의해야 한다 이렇게 떼세요 자연스러운 젖병 떼기는 이유기부터 시작하는 것이 좋은데 바른 이유 연습 과정만 잘 지켜도 젖병 떼기는 자연스럽게 이뤄진다 그러기 위해서는 우선 분유를 끊고 숟가락으로 밥을 먹는 연습을 해야 한다 안전한 빨대컵에 우유나 물을 담아 빨대로 마시는 연습을 시키고 컵이나 숟가락으로 먹었을 때는 아낌없이 칭찬해 아이에게 자부심을 심어준다 젖병 대신 다양한 질감을 느낄 수 있는 치아 발육기를 사용하거나 수유 시간을 제대로 지키는 것도 젖병 떼기에 아주 중요하다\n"
     ]
    }
   ],
   "source": [
    "print(\"Input Document\", df['text'][100], sep=\"\\n\")\n",
    "\n",
    "similar_docs = doc2vec_model.docvecs.most_similar(100)\n",
    "\n",
    "print(\"Most similar Documents\")\n",
    "for idx, similarity in similar_docs[:3]:\n",
    "    print(\"idx:\", idx, \"similarity:\", np.round(similarity, 3))\n",
    "    print(df['text'][idx])"
   ]
  },
  {
   "cell_type": "code",
   "execution_count": 76,
   "metadata": {},
   "outputs": [],
   "source": [
    "df['tokenized_doc'] = df['noun'].apply(lambda x: doc2vec_model.infer_vector(x).astype(float))"
   ]
  },
  {
   "cell_type": "code",
   "execution_count": 77,
   "metadata": {},
   "outputs": [
    {
     "data": {
      "text/html": [
       "<div>\n",
       "<style scoped>\n",
       "    .dataframe tbody tr th:only-of-type {\n",
       "        vertical-align: middle;\n",
       "    }\n",
       "\n",
       "    .dataframe tbody tr th {\n",
       "        vertical-align: top;\n",
       "    }\n",
       "\n",
       "    .dataframe thead th {\n",
       "        text-align: right;\n",
       "    }\n",
       "</style>\n",
       "<table border=\"1\" class=\"dataframe\">\n",
       "  <thead>\n",
       "    <tr style=\"text-align: right;\">\n",
       "      <th></th>\n",
       "      <th>text</th>\n",
       "      <th>tokenized</th>\n",
       "      <th>noun</th>\n",
       "      <th>tokenized_doc</th>\n",
       "    </tr>\n",
       "  </thead>\n",
       "  <tbody>\n",
       "    <tr>\n",
       "      <th>0</th>\n",
       "      <td>6살 남아 입니다 회사 복직 후 3살부터 주중에는 외할머니댁에서 2살 4살 터울의 ...</td>\n",
       "      <td>[6, 살, 남, 아, 입, 니, 다, 회사, 복직, 후, 3, 살, 부터, 주, ...</td>\n",
       "      <td>[살, 회사, 복직, 후, 살, 주, 중, 외할머니, 댁, 살, 살, 터울, 사촌,...</td>\n",
       "      <td>[0.21359071135520935, 0.2991756200790405, -0.0...</td>\n",
       "    </tr>\n",
       "    <tr>\n",
       "      <th>1</th>\n",
       "      <td>요즘 들어 아빠가 아이에게 다가가려고 하면 엄마한테 갈 거야 하면서 엄마를 유독 찾...</td>\n",
       "      <td>[요즘, 들, 어, 아빠, 가, 아이, 에게, 다가가, 려고, 하, 면, 엄마, 한...</td>\n",
       "      <td>[아빠, 아이, 엄마, 거, 엄마, 전, 정도, 엄마, 아빠, 거부, 엄마, 눈, ...</td>\n",
       "      <td>[0.0054815225303173065, 0.23851287364959717, -...</td>\n",
       "    </tr>\n",
       "    <tr>\n",
       "      <th>2</th>\n",
       "      <td>둘째가 태어나면 첫째가 힘들 거라는 건 예상하고 있었지만 툭하면 삐치고 울고 좀처럼...</td>\n",
       "      <td>[둘째, 가, 태어나, 면, 첫째, 가, 힘들, 거, 라는, 건, 예상, 하, 고,...</td>\n",
       "      <td>[둘째, 첫째, 거, 건, 예상, 때, 엄마, 껌, 딱지, 첫째, 외출, 때, 제외...</td>\n",
       "      <td>[0.2075052708387375, 0.34153544902801514, -0.2...</td>\n",
       "    </tr>\n",
       "    <tr>\n",
       "      <th>3</th>\n",
       "      <td>20개월 남아가 있고 임신 8개월차로 두 아기의 엄마입니다 첫 아이는 잠자리 독립을...</td>\n",
       "      <td>[20, 개월, 남아, 가, 있, 고, 임신, 8, 개월, 차, 로, 두, 아기, ...</td>\n",
       "      <td>[개월, 남아, 임신, 개월, 차, 아기, 엄마, 아이, 잠자리, 독립, 생후, 일...</td>\n",
       "      <td>[-0.1482308804988861, 0.46494120359420776, -0....</td>\n",
       "    </tr>\n",
       "    <tr>\n",
       "      <th>4</th>\n",
       "      <td>14개월 남자 아기인데 심하게 깨무는 버릇이 있어요 전에는 졸릴 때 주로 물곤 했는...</td>\n",
       "      <td>[14, 개월, 남자, 아기, 인데, 심하, 게, 깨무, 는, 버릇, 이, 있, 어...</td>\n",
       "      <td>[개월, 남자, 아기, 버릇, 전, 때, 이제, 자기, 지대, 때, 떼, 상대방, ...</td>\n",
       "      <td>[0.10979384183883667, 0.09476017951965332, -0....</td>\n",
       "    </tr>\n",
       "    <tr>\n",
       "      <th>...</th>\n",
       "      <td>...</td>\n",
       "      <td>...</td>\n",
       "      <td>...</td>\n",
       "      <td>...</td>\n",
       "    </tr>\n",
       "    <tr>\n",
       "      <th>25290</th>\n",
       "      <td>임신을 축하드립니다 임신을 확인한 후에 느끼는 기쁨과 설레임 이제는 혼자가 아니기에...</td>\n",
       "      <td>[임신, 을, 축하, 드립니다, 임신, 을, 확인, 한, 후, 에, 느끼, 는, 기...</td>\n",
       "      <td>[임신, 축하, 임신, 확인, 후, 기쁨, 이제, 혼자, 행동, 하나하나, 조심, ...</td>\n",
       "      <td>[0.20940089225769043, -0.2669221758842468, -0....</td>\n",
       "    </tr>\n",
       "    <tr>\n",
       "      <th>25291</th>\n",
       "      <td>임신을 한 순간부터 태교는 시작된다 태교는 단순히 영재를 출산하기 위해서가 아니라 ...</td>\n",
       "      <td>[임신, 을, 한, 순간, 부터, 태교, 는, 시작, 된다, 태교, 는, 단순히, ...</td>\n",
       "      <td>[임신, 순간, 태교, 시작, 태교, 영재, 출산, 임신, 기간, 중, 엄마, 태아...</td>\n",
       "      <td>[0.030561812222003937, -0.10744994878768921, -...</td>\n",
       "    </tr>\n",
       "    <tr>\n",
       "      <th>25292</th>\n",
       "      <td>16 20주 6개월 태아는 엄마 배꼽 아래에 있으며 자궁은 태아가 자유롭게 움직일 ...</td>\n",
       "      <td>[16, 20, 주, 6, 개월, 태아, 는, 엄마, 배꼽, 아래, 에, 있, 으며...</td>\n",
       "      <td>[주, 개월, 태아, 엄마, 배꼽, 아래, 자궁, 태아, 자유, 정도, 공간, 임신...</td>\n",
       "      <td>[0.1937972456216812, 0.046999555081129074, -0....</td>\n",
       "    </tr>\n",
       "    <tr>\n",
       "      <th>25293</th>\n",
       "      <td>현대의학의 힘으로는 풀아하지 못하는 영역 중의 하나가 태몽이다 신기하게 임신만 하면...</td>\n",
       "      <td>[현대, 의학, 의, 힘, 으로, 는, 풀, 아, 하, 지, 못하, 는, 영역, 중...</td>\n",
       "      <td>[현대, 의학, 힘, 영역, 중, 하나, 태몽, 임신, 태몽, 태몽, 아들, 딸, ...</td>\n",
       "      <td>[0.1894202083349228, 0.40511733293533325, -0.9...</td>\n",
       "    </tr>\n",
       "    <tr>\n",
       "      <th>25294</th>\n",
       "      <td>속설1 배가 부른 모양을 보면 아들 딸 여부를 알 수 있다 주부 설문 그렇다 84 ...</td>\n",
       "      <td>[속설, 1, 배, 가, 부른, 모양, 을, 보, 면, 아들, 딸, 여부, 를, 알...</td>\n",
       "      <td>[속설, 배, 모양, 아들, 딸, 여부, 수, 주부, 설문, 연세, 어른, 모양, ...</td>\n",
       "      <td>[0.05112000182271004, 0.23969657719135284, -0....</td>\n",
       "    </tr>\n",
       "  </tbody>\n",
       "</table>\n",
       "<p>25295 rows × 4 columns</p>\n",
       "</div>"
      ],
      "text/plain": [
       "                                                    text  \\\n",
       "0      6살 남아 입니다 회사 복직 후 3살부터 주중에는 외할머니댁에서 2살 4살 터울의 ...   \n",
       "1      요즘 들어 아빠가 아이에게 다가가려고 하면 엄마한테 갈 거야 하면서 엄마를 유독 찾...   \n",
       "2      둘째가 태어나면 첫째가 힘들 거라는 건 예상하고 있었지만 툭하면 삐치고 울고 좀처럼...   \n",
       "3      20개월 남아가 있고 임신 8개월차로 두 아기의 엄마입니다 첫 아이는 잠자리 독립을...   \n",
       "4      14개월 남자 아기인데 심하게 깨무는 버릇이 있어요 전에는 졸릴 때 주로 물곤 했는...   \n",
       "...                                                  ...   \n",
       "25290  임신을 축하드립니다 임신을 확인한 후에 느끼는 기쁨과 설레임 이제는 혼자가 아니기에...   \n",
       "25291  임신을 한 순간부터 태교는 시작된다 태교는 단순히 영재를 출산하기 위해서가 아니라 ...   \n",
       "25292  16 20주 6개월 태아는 엄마 배꼽 아래에 있으며 자궁은 태아가 자유롭게 움직일 ...   \n",
       "25293  현대의학의 힘으로는 풀아하지 못하는 영역 중의 하나가 태몽이다 신기하게 임신만 하면...   \n",
       "25294  속설1 배가 부른 모양을 보면 아들 딸 여부를 알 수 있다 주부 설문 그렇다 84 ...   \n",
       "\n",
       "                                               tokenized  \\\n",
       "0      [6, 살, 남, 아, 입, 니, 다, 회사, 복직, 후, 3, 살, 부터, 주, ...   \n",
       "1      [요즘, 들, 어, 아빠, 가, 아이, 에게, 다가가, 려고, 하, 면, 엄마, 한...   \n",
       "2      [둘째, 가, 태어나, 면, 첫째, 가, 힘들, 거, 라는, 건, 예상, 하, 고,...   \n",
       "3      [20, 개월, 남아, 가, 있, 고, 임신, 8, 개월, 차, 로, 두, 아기, ...   \n",
       "4      [14, 개월, 남자, 아기, 인데, 심하, 게, 깨무, 는, 버릇, 이, 있, 어...   \n",
       "...                                                  ...   \n",
       "25290  [임신, 을, 축하, 드립니다, 임신, 을, 확인, 한, 후, 에, 느끼, 는, 기...   \n",
       "25291  [임신, 을, 한, 순간, 부터, 태교, 는, 시작, 된다, 태교, 는, 단순히, ...   \n",
       "25292  [16, 20, 주, 6, 개월, 태아, 는, 엄마, 배꼽, 아래, 에, 있, 으며...   \n",
       "25293  [현대, 의학, 의, 힘, 으로, 는, 풀, 아, 하, 지, 못하, 는, 영역, 중...   \n",
       "25294  [속설, 1, 배, 가, 부른, 모양, 을, 보, 면, 아들, 딸, 여부, 를, 알...   \n",
       "\n",
       "                                                    noun  \\\n",
       "0      [살, 회사, 복직, 후, 살, 주, 중, 외할머니, 댁, 살, 살, 터울, 사촌,...   \n",
       "1      [아빠, 아이, 엄마, 거, 엄마, 전, 정도, 엄마, 아빠, 거부, 엄마, 눈, ...   \n",
       "2      [둘째, 첫째, 거, 건, 예상, 때, 엄마, 껌, 딱지, 첫째, 외출, 때, 제외...   \n",
       "3      [개월, 남아, 임신, 개월, 차, 아기, 엄마, 아이, 잠자리, 독립, 생후, 일...   \n",
       "4      [개월, 남자, 아기, 버릇, 전, 때, 이제, 자기, 지대, 때, 떼, 상대방, ...   \n",
       "...                                                  ...   \n",
       "25290  [임신, 축하, 임신, 확인, 후, 기쁨, 이제, 혼자, 행동, 하나하나, 조심, ...   \n",
       "25291  [임신, 순간, 태교, 시작, 태교, 영재, 출산, 임신, 기간, 중, 엄마, 태아...   \n",
       "25292  [주, 개월, 태아, 엄마, 배꼽, 아래, 자궁, 태아, 자유, 정도, 공간, 임신...   \n",
       "25293  [현대, 의학, 힘, 영역, 중, 하나, 태몽, 임신, 태몽, 태몽, 아들, 딸, ...   \n",
       "25294  [속설, 배, 모양, 아들, 딸, 여부, 수, 주부, 설문, 연세, 어른, 모양, ...   \n",
       "\n",
       "                                           tokenized_doc  \n",
       "0      [0.21359071135520935, 0.2991756200790405, -0.0...  \n",
       "1      [0.0054815225303173065, 0.23851287364959717, -...  \n",
       "2      [0.2075052708387375, 0.34153544902801514, -0.2...  \n",
       "3      [-0.1482308804988861, 0.46494120359420776, -0....  \n",
       "4      [0.10979384183883667, 0.09476017951965332, -0....  \n",
       "...                                                  ...  \n",
       "25290  [0.20940089225769043, -0.2669221758842468, -0....  \n",
       "25291  [0.030561812222003937, -0.10744994878768921, -...  \n",
       "25292  [0.1937972456216812, 0.046999555081129074, -0....  \n",
       "25293  [0.1894202083349228, 0.40511733293533325, -0.9...  \n",
       "25294  [0.05112000182271004, 0.23969657719135284, -0....  \n",
       "\n",
       "[25295 rows x 4 columns]"
      ]
     },
     "execution_count": 77,
     "metadata": {},
     "output_type": "execute_result"
    }
   ],
   "source": [
    "df"
   ]
  },
  {
   "cell_type": "code",
   "execution_count": null,
   "metadata": {},
   "outputs": [],
   "source": []
  },
  {
   "cell_type": "code",
   "execution_count": null,
   "metadata": {},
   "outputs": [],
   "source": []
  }
 ],
 "metadata": {
  "kernelspec": {
   "display_name": "Python 3",
   "language": "python",
   "name": "python3"
  },
  "language_info": {
   "codemirror_mode": {
    "name": "ipython",
    "version": 3
   },
   "file_extension": ".py",
   "mimetype": "text/x-python",
   "name": "python",
   "nbconvert_exporter": "python",
   "pygments_lexer": "ipython3",
   "version": "3.7.5"
  }
 },
 "nbformat": 4,
 "nbformat_minor": 2
}
