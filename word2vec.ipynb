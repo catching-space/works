{
 "cells": [
  {
   "cell_type": "markdown",
   "metadata": {},
   "source": [
    "# word2vec 단어 간 유사도 체크\n",
    "- 최대한 육아를 주제로 한 말뭉치를 모아보았다. (Total 2,755 documents)\n",
    "- 우리가 원하는 의도에 일치하는 단어 간 유사도 결과가 나오는지를 확인하는 것이 목적이다."
   ]
  },
  {
   "cell_type": "markdown",
   "metadata": {},
   "source": [
    "## Import"
   ]
  },
  {
   "cell_type": "code",
   "execution_count": 1,
   "metadata": {},
   "outputs": [],
   "source": [
    "import pandas as pd\n",
    "import numpy as np\n",
    "import re\n",
    "\n",
    "from konlpy.tag import Mecab\n",
    "from konlpy.tag import Komoran\n",
    "from gensim.models import Word2Vec"
   ]
  },
  {
   "cell_type": "markdown",
   "metadata": {},
   "source": [
    "### Datas"
   ]
  },
  {
   "cell_type": "code",
   "execution_count": 2,
   "metadata": {},
   "outputs": [
    {
     "data": {
      "text/html": [
       "<div>\n",
       "<style scoped>\n",
       "    .dataframe tbody tr th:only-of-type {\n",
       "        vertical-align: middle;\n",
       "    }\n",
       "\n",
       "    .dataframe tbody tr th {\n",
       "        vertical-align: top;\n",
       "    }\n",
       "\n",
       "    .dataframe thead th {\n",
       "        text-align: right;\n",
       "    }\n",
       "</style>\n",
       "<table border=\"1\" class=\"dataframe\">\n",
       "  <thead>\n",
       "    <tr style=\"text-align: right;\">\n",
       "      <th></th>\n",
       "      <th>text</th>\n",
       "    </tr>\n",
       "  </thead>\n",
       "  <tbody>\n",
       "    <tr>\n",
       "      <th>24724</th>\n",
       "      <td>가임기 연력 여성의 흡연률 증가와 그 폐해 현대 여성은 다양한 사회활동에 참여하고 ...</td>\n",
       "    </tr>\n",
       "    <tr>\n",
       "      <th>24725</th>\n",
       "      <td>아토피에 유전적인 요인이 작용한다는 사실 알고 계시나요 유전적인 요인 뿐 아니라 아...</td>\n",
       "    </tr>\n",
       "    <tr>\n",
       "      <th>24726</th>\n",
       "      <td>1st 시기에 따라 필요한 영양소를 충분히 뱃속의 아이는 엄마가 먹는 것을 함께 먹...</td>\n",
       "    </tr>\n",
       "    <tr>\n",
       "      <th>24727</th>\n",
       "      <td>분만 여성만이 누릴 수 있는 특권 대부분의 여성들은 임신과 분만이라는 과정을 경험하...</td>\n",
       "    </tr>\n",
       "    <tr>\n",
       "      <th>24728</th>\n",
       "      <td>최근 전자파가 건강상의 문제를 일으킬 수 있다는 견해가 많아지면서 임신부들 또한 가...</td>\n",
       "    </tr>\n",
       "  </tbody>\n",
       "</table>\n",
       "</div>"
      ],
      "text/plain": [
       "                                                    text\n",
       "24724  가임기 연력 여성의 흡연률 증가와 그 폐해 현대 여성은 다양한 사회활동에 참여하고 ...\n",
       "24725  아토피에 유전적인 요인이 작용한다는 사실 알고 계시나요 유전적인 요인 뿐 아니라 아...\n",
       "24726  1st 시기에 따라 필요한 영양소를 충분히 뱃속의 아이는 엄마가 먹는 것을 함께 먹...\n",
       "24727  분만 여성만이 누릴 수 있는 특권 대부분의 여성들은 임신과 분만이라는 과정을 경험하...\n",
       "24728  최근 전자파가 건강상의 문제를 일으킬 수 있다는 견해가 많아지면서 임신부들 또한 가..."
      ]
     },
     "execution_count": 2,
     "metadata": {},
     "output_type": "execute_result"
    }
   ],
   "source": [
    "df = pd.read_csv(\"data/text_for_word2vec.csv\")\n",
    "df.tail()"
   ]
  },
  {
   "cell_type": "markdown",
   "metadata": {},
   "source": [
    "### Add tokenized column"
   ]
  },
  {
   "cell_type": "markdown",
   "metadata": {},
   "source": [
    "191210 정체불명의 error 발생\n",
    "```\n",
    "NotImplementedError: Wrong number or type of arguments for overloaded function 'Tagger_parse'.\n",
    "  Possible C/C++ prototypes are:\n",
    "    MeCab::Tagger::parse(MeCab::Model const &,MeCab::Lattice *)\n",
    "    MeCab::Tagger::parse(MeCab::Lattice *) const\n",
    "    MeCab::Tagger::parse(char const *)\n",
    "```\n",
    "\n",
    "babynews 데이터가 추가된 후 갑자기 발생한 에러인데.. 왜인지 모르겠지만 해당 부분 데이터프레임만 따로 tokenize하는 것은 문제없이 돌아간다.  \n",
    "따라서 번거롭지만 분리하여 tokenizing 한 후에 합치기로 하였다.  \n",
    "\n",
    "-> 해결.. `NaN` value 문제였다(어이없게도 NaN 값이 중간에 섞여있었음;). 누락 데이터를 잘 체크하는 습관을 갖도록하자."
   ]
  },
  {
   "cell_type": "code",
   "execution_count": 3,
   "metadata": {},
   "outputs": [],
   "source": [
    "def tokenize(text):\n",
    "    tokenizer = Mecab()\n",
    "    text = tokenizer.morphs(text)\n",
    "#     text = ' '.join(text)\n",
    "    return text"
   ]
  },
  {
   "cell_type": "code",
   "execution_count": 4,
   "metadata": {},
   "outputs": [
    {
     "name": "stdout",
     "output_type": "stream",
     "text": [
      "CPU times: user 1min 5s, sys: 30 s, total: 1min 35s\n",
      "Wall time: 1min 35s\n"
     ]
    },
    {
     "data": {
      "text/html": [
       "<div>\n",
       "<style scoped>\n",
       "    .dataframe tbody tr th:only-of-type {\n",
       "        vertical-align: middle;\n",
       "    }\n",
       "\n",
       "    .dataframe tbody tr th {\n",
       "        vertical-align: top;\n",
       "    }\n",
       "\n",
       "    .dataframe thead th {\n",
       "        text-align: right;\n",
       "    }\n",
       "</style>\n",
       "<table border=\"1\" class=\"dataframe\">\n",
       "  <thead>\n",
       "    <tr style=\"text-align: right;\">\n",
       "      <th></th>\n",
       "      <th>text</th>\n",
       "      <th>tokenized</th>\n",
       "    </tr>\n",
       "  </thead>\n",
       "  <tbody>\n",
       "    <tr>\n",
       "      <th>24724</th>\n",
       "      <td>가임기 연력 여성의 흡연률 증가와 그 폐해 현대 여성은 다양한 사회활동에 참여하고 ...</td>\n",
       "      <td>[가, 임기, 연력, 여성, 의, 흡연, 률, 증가, 와, 그, 폐해, 현대, 여성...</td>\n",
       "    </tr>\n",
       "    <tr>\n",
       "      <th>24725</th>\n",
       "      <td>아토피에 유전적인 요인이 작용한다는 사실 알고 계시나요 유전적인 요인 뿐 아니라 아...</td>\n",
       "      <td>[아토피, 에, 유전, 적, 인, 요인, 이, 작용, 한다는, 사실, 알, 고, 계...</td>\n",
       "    </tr>\n",
       "    <tr>\n",
       "      <th>24726</th>\n",
       "      <td>1st 시기에 따라 필요한 영양소를 충분히 뱃속의 아이는 엄마가 먹는 것을 함께 먹...</td>\n",
       "      <td>[1, st, 시기, 에, 따라, 필요, 한, 영양소, 를, 충분히, 뱃속, 의, ...</td>\n",
       "    </tr>\n",
       "    <tr>\n",
       "      <th>24727</th>\n",
       "      <td>분만 여성만이 누릴 수 있는 특권 대부분의 여성들은 임신과 분만이라는 과정을 경험하...</td>\n",
       "      <td>[분만, 여성, 만, 이, 누릴, 수, 있, 는, 특권, 대부분, 의, 여성, 들,...</td>\n",
       "    </tr>\n",
       "    <tr>\n",
       "      <th>24728</th>\n",
       "      <td>최근 전자파가 건강상의 문제를 일으킬 수 있다는 견해가 많아지면서 임신부들 또한 가...</td>\n",
       "      <td>[최근, 전자파, 가, 건강, 상, 의, 문제, 를, 일으킬, 수, 있, 다는, 견...</td>\n",
       "    </tr>\n",
       "  </tbody>\n",
       "</table>\n",
       "</div>"
      ],
      "text/plain": [
       "                                                    text  \\\n",
       "24724  가임기 연력 여성의 흡연률 증가와 그 폐해 현대 여성은 다양한 사회활동에 참여하고 ...   \n",
       "24725  아토피에 유전적인 요인이 작용한다는 사실 알고 계시나요 유전적인 요인 뿐 아니라 아...   \n",
       "24726  1st 시기에 따라 필요한 영양소를 충분히 뱃속의 아이는 엄마가 먹는 것을 함께 먹...   \n",
       "24727  분만 여성만이 누릴 수 있는 특권 대부분의 여성들은 임신과 분만이라는 과정을 경험하...   \n",
       "24728  최근 전자파가 건강상의 문제를 일으킬 수 있다는 견해가 많아지면서 임신부들 또한 가...   \n",
       "\n",
       "                                               tokenized  \n",
       "24724  [가, 임기, 연력, 여성, 의, 흡연, 률, 증가, 와, 그, 폐해, 현대, 여성...  \n",
       "24725  [아토피, 에, 유전, 적, 인, 요인, 이, 작용, 한다는, 사실, 알, 고, 계...  \n",
       "24726  [1, st, 시기, 에, 따라, 필요, 한, 영양소, 를, 충분히, 뱃속, 의, ...  \n",
       "24727  [분만, 여성, 만, 이, 누릴, 수, 있, 는, 특권, 대부분, 의, 여성, 들,...  \n",
       "24728  [최근, 전자파, 가, 건강, 상, 의, 문제, 를, 일으킬, 수, 있, 다는, 견...  "
      ]
     },
     "execution_count": 4,
     "metadata": {},
     "output_type": "execute_result"
    }
   ],
   "source": [
    "%%time\n",
    "df['tokenized'] = df['text'].apply(tokenize)\n",
    "df.tail()"
   ]
  },
  {
   "cell_type": "code",
   "execution_count": 5,
   "metadata": {},
   "outputs": [
    {
     "data": {
      "text/plain": [
       "text         0\n",
       "tokenized    0\n",
       "dtype: int64"
      ]
     },
     "execution_count": 5,
     "metadata": {},
     "output_type": "execute_result"
    }
   ],
   "source": [
    "df.isnull().sum()"
   ]
  },
  {
   "cell_type": "markdown",
   "metadata": {},
   "source": [
    "## Train Word2Vec"
   ]
  },
  {
   "cell_type": "markdown",
   "metadata": {},
   "source": [
    "#### WTF error\n",
    "- df를 csv 형식으로 저장한 후 다시 로드하면 Word2Vec 학습에 인코딩 문제가 생긴다.\n",
    "- 더 자세히 파고들어보니 list 형식의 column이 csv로 저장할 때 강제로 string 타입으로 형변환 됨.\n",
    "- 이렇게 형변환 된 column을 Word2Vec 학습에 사용할 시 한글 텍스트가 깨지는 현상이 발생함.. 정확한 원인은 아직 모르겠다."
   ]
  },
  {
   "cell_type": "code",
   "execution_count": 6,
   "metadata": {},
   "outputs": [],
   "source": [
    "# df = pd.read_csv('text_for_word2vec.csv', encoding='utf-8')"
   ]
  },
  {
   "cell_type": "markdown",
   "metadata": {},
   "source": [
    "그러므로 저장 & 로드 과정 생략하고 바로 말뭉치를 numpy ndarray형식으로 변환"
   ]
  },
  {
   "cell_type": "code",
   "execution_count": 7,
   "metadata": {},
   "outputs": [
    {
     "data": {
      "text/plain": [
       "numpy.ndarray"
      ]
     },
     "execution_count": 7,
     "metadata": {},
     "output_type": "execute_result"
    }
   ],
   "source": [
    "corpus = np.array(df.tokenized)\n",
    "type(corpus)"
   ]
  },
  {
   "cell_type": "code",
   "execution_count": 8,
   "metadata": {},
   "outputs": [
    {
     "name": "stdout",
     "output_type": "stream",
     "text": [
      "CPU times: user 8min 58s, sys: 966 ms, total: 8min 59s\n",
      "Wall time: 2min 21s\n"
     ]
    }
   ],
   "source": [
    "%%time\n",
    "model_all = Word2Vec(corpus,\n",
    "                     size=200,\n",
    "                     window=6,\n",
    "                     min_count=5,\n",
    "                     workers=4,\n",
    "                     seed=1,\n",
    "                     sg=1)\n",
    "model_all.save('data/tokmom_word2vec_all.bin')"
   ]
  },
  {
   "cell_type": "markdown",
   "metadata": {},
   "source": [
    "#### 유사어 분석"
   ]
  },
  {
   "cell_type": "code",
   "execution_count": 9,
   "metadata": {},
   "outputs": [
    {
     "data": {
      "text/plain": [
       "[('소꿉', 0.6915862560272217),\n",
       " ('기차놀이', 0.6761323809623718),\n",
       " ('공놀이', 0.6412385106086731),\n",
       " ('집짓기', 0.6292974948883057),\n",
       " ('불록', 0.6187699437141418),\n",
       " ('놀잇감', 0.6158180236816406),\n",
       " ('음률', 0.615355372428894),\n",
       " ('무너뜨리기', 0.6150493621826172),\n",
       " ('타악기', 0.6128491163253784),\n",
       " ('손유희', 0.6123851537704468)]"
      ]
     },
     "execution_count": 9,
     "metadata": {},
     "output_type": "execute_result"
    }
   ],
   "source": [
    "model_all.wv.similar_by_word(\"놀이\")"
   ]
  },
  {
   "cell_type": "code",
   "execution_count": 10,
   "metadata": {},
   "outputs": [
    {
     "data": {
      "text/plain": [
       "[('아기', 0.6805053353309631),\n",
       " ('어린아이', 0.6047922372817993),\n",
       " ('외둥이', 0.5873357057571411),\n",
       " ('엄마', 0.5850118398666382),\n",
       " ('들떠서', 0.57811439037323),\n",
       " ('안쓰러워서', 0.5776230096817017),\n",
       " ('놀림거리', 0.5704067945480347),\n",
       " ('달려드', 0.5681945085525513),\n",
       " ('길러서', 0.5675917863845825),\n",
       " ('갓난아이', 0.5661477446556091)]"
      ]
     },
     "execution_count": 10,
     "metadata": {},
     "output_type": "execute_result"
    }
   ],
   "source": [
    "model_all.wv.similar_by_word(\"아이\")"
   ]
  },
  {
   "cell_type": "code",
   "execution_count": 11,
   "metadata": {},
   "outputs": [
    {
     "data": {
      "text/plain": [
       "[('잇몸', 0.804706335067749),\n",
       " ('충치', 0.752939760684967),\n",
       " ('영구치', 0.7441245913505554),\n",
       " ('젖니', 0.6988855600357056),\n",
       " ('턱뼈', 0.6692328453063965),\n",
       " ('앞니', 0.6573141813278198),\n",
       " ('어금니', 0.6486890912055969),\n",
       " ('에나멜질', 0.6472829580307007),\n",
       " ('우식증', 0.6406774520874023),\n",
       " ('유치', 0.6387851238250732)]"
      ]
     },
     "execution_count": 11,
     "metadata": {},
     "output_type": "execute_result"
    }
   ],
   "source": [
    "model_all.wv.similar_by_word(\"치아\")"
   ]
  },
  {
   "cell_type": "code",
   "execution_count": 12,
   "metadata": {},
   "outputs": [
    {
     "data": {
      "text/plain": [
       "[('혓바닥', 0.7247183918952942),\n",
       " ('거스러미', 0.7225725054740906),\n",
       " ('허옇', 0.704049289226532),\n",
       " ('뜯어내', 0.7025974988937378),\n",
       " ('밤색', 0.6978909969329834),\n",
       " ('영인', 0.6970874667167664),\n",
       " ('핥', 0.6959443092346191),\n",
       " ('고무젖꼭지', 0.6953127980232239),\n",
       " ('잽싸', 0.6928242444992065),\n",
       " ('갈라진다', 0.6921412944793701)]"
      ]
     },
     "execution_count": 12,
     "metadata": {},
     "output_type": "execute_result"
    }
   ],
   "source": [
    "model_all.wv.similar_by_word(\"이빨\")"
   ]
  },
  {
   "cell_type": "code",
   "execution_count": 13,
   "metadata": {},
   "outputs": [
    {
     "data": {
      "text/plain": [
       "[('목감기', 0.792517900466919),\n",
       " ('코감기', 0.771400511264801),\n",
       " ('기침감기', 0.7424240112304688),\n",
       " ('냉방병', 0.7109965085983276),\n",
       " ('편도염', 0.7061010003089905),\n",
       " ('기관지염', 0.7000141143798828),\n",
       " ('인후염', 0.6962705850601196),\n",
       " ('콜록콜록', 0.6947083473205566),\n",
       " ('독감', 0.6907258629798889),\n",
       " ('호흡기', 0.6902254819869995)]"
      ]
     },
     "execution_count": 13,
     "metadata": {},
     "output_type": "execute_result"
    }
   ],
   "source": [
    "model_all.wv.similar_by_word(\"감기\")"
   ]
  },
  {
   "cell_type": "code",
   "execution_count": 14,
   "metadata": {},
   "outputs": [
    {
     "data": {
      "text/plain": [
       "[('들어온다고', 0.5407794713973999),\n",
       " ('고열로', 0.5392342805862427),\n",
       " ('오한', 0.5383657217025757),\n",
       " ('심열', 0.5267727375030518),\n",
       " ('열기', 0.5254351496696472),\n",
       " ('펄펄', 0.521113395690918),\n",
       " ('미열', 0.5192996263504028),\n",
       " ('고열', 0.5159453749656677),\n",
       " ('성경', 0.5083253383636475),\n",
       " ('사병', 0.5009409785270691)]"
      ]
     },
     "execution_count": 14,
     "metadata": {},
     "output_type": "execute_result"
    }
   ],
   "source": [
    "model_all.wv.similar_by_word(\"열\")"
   ]
  },
  {
   "cell_type": "code",
   "execution_count": 15,
   "metadata": {},
   "outputs": [
    {
     "data": {
      "text/plain": [
       "[('아프', 0.761528491973877),\n",
       " ('아파서', 0.7283117771148682),\n",
       " ('보챈다', 0.68876713514328),\n",
       " ('다쳐', 0.6809108257293701),\n",
       " ('마려워', 0.6733943223953247),\n",
       " ('토해서', 0.6720496416091919),\n",
       " ('아파하', 0.6706192493438721),\n",
       " ('콜록거리', 0.6675966382026672),\n",
       " ('지끈지끈', 0.6671324968338013),\n",
       " ('먹먹해', 0.6666386127471924)]"
      ]
     },
     "execution_count": 15,
     "metadata": {},
     "output_type": "execute_result"
    }
   ],
   "source": [
    "model_all.wv.similar_by_word(\"아파\")"
   ]
  },
  {
   "cell_type": "code",
   "execution_count": 16,
   "metadata": {},
   "outputs": [
    {
     "data": {
      "text/plain": [
       "[('아파', 0.761528491973877),\n",
       " ('결리', 0.6961172819137573),\n",
       " ('아파하', 0.678308367729187),\n",
       " ('아픈', 0.6770675778388977),\n",
       " ('먹먹해', 0.6763649582862854),\n",
       " ('욱신거리', 0.6705669164657593),\n",
       " ('쑤시', 0.669019341468811),\n",
       " ('시큰거리', 0.6664289236068726),\n",
       " ('지끈지끈', 0.6648440361022949),\n",
       " ('시큰', 0.6628653407096863)]"
      ]
     },
     "execution_count": 16,
     "metadata": {},
     "output_type": "execute_result"
    }
   ],
   "source": [
    "model_all.wv.similar_by_word(\"아프\")"
   ]
  },
  {
   "cell_type": "code",
   "execution_count": 17,
   "metadata": {},
   "outputs": [
    {
     "data": {
      "text/plain": [
       "[('터뜨릴', 0.6978093385696411),\n",
       " ('터뜨린다', 0.6683531403541565),\n",
       " ('터뜨립니다', 0.661981463432312),\n",
       " ('터뜨린', 0.6549371480941772),\n",
       " ('자지러질', 0.6433998346328735),\n",
       " ('운다', 0.6268394589424133),\n",
       " ('흐느끼', 0.6243926882743835),\n",
       " ('터뜨려', 0.624337375164032),\n",
       " ('고래고래', 0.6207104921340942),\n",
       " ('지르기', 0.6141247749328613)]"
      ]
     },
     "execution_count": 17,
     "metadata": {},
     "output_type": "execute_result"
    }
   ],
   "source": [
    "model_all.wv.similar_by_word(\"울음\")"
   ]
  },
  {
   "cell_type": "code",
   "execution_count": 18,
   "metadata": {},
   "outputs": [
    {
     "data": {
      "text/plain": [
       "[('여아', 0.8283873796463013),\n",
       " ('정상아', 0.5797291994094849),\n",
       " ('엘렉트라', 0.578797459602356),\n",
       " ('018', 0.5673673152923584),\n",
       " ('남근기', 0.5641393661499023),\n",
       " ('남자', 0.5395696759223938),\n",
       " ('여자', 0.5387108325958252),\n",
       " ('아든', 0.5367316603660583),\n",
       " ('내사시', 0.5295403003692627),\n",
       " ('경산부', 0.5278865098953247)]"
      ]
     },
     "execution_count": 18,
     "metadata": {},
     "output_type": "execute_result"
    }
   ],
   "source": [
    "model_all.wv.similar_by_word(\"남아\")"
   ]
  },
  {
   "cell_type": "code",
   "execution_count": 19,
   "metadata": {},
   "outputs": [
    {
     "data": {
      "text/plain": [
       "[('남아', 0.8283873796463013),\n",
       " ('아든', 0.571865439414978),\n",
       " ('여자', 0.5551770925521851),\n",
       " ('018', 0.5390071868896484),\n",
       " ('남자', 0.5268032550811768),\n",
       " ('남근기', 0.5261671543121338),\n",
       " ('1317', 0.5187845230102539),\n",
       " ('여학생', 0.5119494795799255),\n",
       " ('617', 0.5077946782112122),\n",
       " ('1053', 0.5066747665405273)]"
      ]
     },
     "execution_count": 19,
     "metadata": {},
     "output_type": "execute_result"
    }
   ],
   "source": [
    "model_all.wv.similar_by_word(\"여아\")"
   ]
  },
  {
   "cell_type": "markdown",
   "metadata": {},
   "source": [
    "---"
   ]
  },
  {
   "cell_type": "markdown",
   "metadata": {},
   "source": [
    "## Only Noun"
   ]
  },
  {
   "cell_type": "markdown",
   "metadata": {},
   "source": [
    "- 이번에는 말뭉치에서 명사만 추출하여 결과를 비교해보자\n",
    "- 유사한 키워드 잡기를 목적으로 할 때는 명사만 추출하는 것이 더 적절한 듯"
   ]
  },
  {
   "cell_type": "code",
   "execution_count": 20,
   "metadata": {},
   "outputs": [
    {
     "name": "stdout",
     "output_type": "stream",
     "text": [
      "CPU times: user 1min 2s, sys: 29 s, total: 1min 31s\n",
      "Wall time: 1min 29s\n"
     ]
    }
   ],
   "source": [
    "%%time\n",
    "def extract_noun(text):\n",
    "    tokenizer = Mecab()\n",
    "    text = tokenizer.nouns(text)\n",
    "#     text = ' '.join(text)\n",
    "    return text\n",
    "    \n",
    "df['noun'] = df['text'].apply(extract_noun)\n",
    "df = df.dropna()"
   ]
  },
  {
   "cell_type": "code",
   "execution_count": 21,
   "metadata": {},
   "outputs": [],
   "source": [
    "noun_corpus = np.array(df.noun)"
   ]
  },
  {
   "cell_type": "code",
   "execution_count": 22,
   "metadata": {},
   "outputs": [
    {
     "name": "stdout",
     "output_type": "stream",
     "text": [
      "CPU times: user 1min 56s, sys: 502 ms, total: 1min 56s\n",
      "Wall time: 33.1 s\n"
     ]
    }
   ],
   "source": [
    "%%time\n",
    "model_noun = Word2Vec(noun_corpus,\n",
    "                      size=200,\n",
    "                      window=2,\n",
    "                      workers=4,\n",
    "                      min_count=5,\n",
    "                      seed=1,\n",
    "                      sg=1)\n",
    "model_noun.save('data/tokmom_word2vec_only_noun.bin')"
   ]
  },
  {
   "cell_type": "code",
   "execution_count": 23,
   "metadata": {},
   "outputs": [
    {
     "data": {
      "text/plain": [
       "[('양육', 0.6242453455924988),\n",
       " ('재테크', 0.566150426864624),\n",
       " ('열혈', 0.5637132525444031),\n",
       " ('아지', 0.5588696002960205),\n",
       " ('바깥일', 0.5578585863113403),\n",
       " ('할당제', 0.552988588809967),\n",
       " ('경험자', 0.5520880818367004),\n",
       " ('독박', 0.5502913594245911),\n",
       " ('자처', 0.5501136779785156),\n",
       " ('체험담', 0.5481447577476501)]"
      ]
     },
     "execution_count": 23,
     "metadata": {},
     "output_type": "execute_result"
    }
   ],
   "source": [
    "model_noun.wv.similar_by_word(\"육아\")"
   ]
  },
  {
   "cell_type": "code",
   "execution_count": 24,
   "metadata": {},
   "outputs": [
    {
     "data": {
      "text/plain": [
       "[('시부모', 0.8301487565040588),\n",
       " ('처가', 0.8075655698776245),\n",
       " ('친정어머니', 0.7838934063911438),\n",
       " ('친가', 0.7829631567001343),\n",
       " ('시누이', 0.7689813375473022),\n",
       " ('시어머니', 0.7638641595840454),\n",
       " ('장모님', 0.7636337280273438),\n",
       " ('친정', 0.7625287175178528),\n",
       " ('며느리', 0.7616136074066162),\n",
       " ('식구', 0.7474988102912903)]"
      ]
     },
     "execution_count": 24,
     "metadata": {},
     "output_type": "execute_result"
    }
   ],
   "source": [
    "model_noun.wv.similar_by_word(\"시댁\")"
   ]
  },
  {
   "cell_type": "code",
   "execution_count": 25,
   "metadata": {},
   "outputs": [
    {
     "data": {
      "text/plain": [
       "[('놀잇감', 0.6774640083312988),\n",
       " ('공놀이', 0.6645373702049255),\n",
       " ('누가누', 0.6578233242034912),\n",
       " ('줄다리기', 0.626819372177124),\n",
       " ('소꿉', 0.6250967383384705),\n",
       " ('기차놀이', 0.6238834261894226),\n",
       " ('종이접기', 0.6137405633926392),\n",
       " ('지점토', 0.6128246784210205),\n",
       " ('도미노', 0.6103137731552124),\n",
       " ('찰흙', 0.6055053472518921)]"
      ]
     },
     "execution_count": 25,
     "metadata": {},
     "output_type": "execute_result"
    }
   ],
   "source": [
    "model_noun.wv.similar_by_word(\"놀이\")"
   ]
  },
  {
   "cell_type": "code",
   "execution_count": 26,
   "metadata": {},
   "outputs": [
    {
     "data": {
      "text/plain": [
       "[('밥투정', 0.6975911855697632),\n",
       " ('지레짐작', 0.69602370262146),\n",
       " ('왜', 0.6904274225234985),\n",
       " ('갓난아이', 0.6848360896110535),\n",
       " ('갓난아기', 0.6833100318908691),\n",
       " ('말자', 0.6791629791259766),\n",
       " ('내심', 0.6775459051132202),\n",
       " ('아기', 0.6761232018470764),\n",
       " ('거려', 0.673407256603241),\n",
       " ('도통', 0.6729063391685486)]"
      ]
     },
     "execution_count": 26,
     "metadata": {},
     "output_type": "execute_result"
    }
   ],
   "source": [
    "model_noun.wv.similar_by_word(\"아이\")"
   ]
  },
  {
   "cell_type": "code",
   "execution_count": 27,
   "metadata": {},
   "outputs": [
    {
     "data": {
      "text/plain": [
       "[('잇몸', 0.777609646320343),\n",
       " ('영구치', 0.7315409779548645),\n",
       " ('젖니', 0.7273308038711548),\n",
       " ('충치', 0.7200759649276733),\n",
       " ('어금니', 0.6887335777282715),\n",
       " ('앞니', 0.6705347299575806),\n",
       " ('유치', 0.6627084016799927),\n",
       " ('치근', 0.660078763961792),\n",
       " ('턱뼈', 0.65981525182724),\n",
       " ('사랑니', 0.6583234071731567)]"
      ]
     },
     "execution_count": 27,
     "metadata": {},
     "output_type": "execute_result"
    }
   ],
   "source": [
    "model_noun.wv.similar_by_word(\"치아\")"
   ]
  },
  {
   "cell_type": "code",
   "execution_count": 28,
   "metadata": {},
   "outputs": [
    {
     "data": {
      "text/plain": [
       "[('혓바닥', 0.7970603704452515),\n",
       " ('밥풀', 0.7756132483482361),\n",
       " ('거스러미', 0.7736554741859436),\n",
       " ('영인', 0.7719829082489014),\n",
       " ('덧', 0.7633000612258911),\n",
       " ('옷소매', 0.7628405094146729),\n",
       " ('속살', 0.7598446607589722),\n",
       " ('풀칠', 0.7569195628166199),\n",
       " ('혓바늘', 0.7567796111106873),\n",
       " ('비닐장갑', 0.7552425265312195)]"
      ]
     },
     "execution_count": 28,
     "metadata": {},
     "output_type": "execute_result"
    }
   ],
   "source": [
    "model_noun.wv.similar_by_word(\"이빨\")"
   ]
  },
  {
   "cell_type": "code",
   "execution_count": 29,
   "metadata": {},
   "outputs": [
    {
     "data": {
      "text/plain": [
       "[('코감기', 0.7617442011833191),\n",
       " ('목감기', 0.7377747893333435),\n",
       " ('기침감기', 0.7292241454124451),\n",
       " ('편도염', 0.7183151245117188),\n",
       " ('냉방병', 0.7179802656173706),\n",
       " ('환절기', 0.7147027254104614),\n",
       " ('병치레', 0.7000278830528259),\n",
       " ('인후염', 0.690285325050354),\n",
       " ('입병', 0.6877121925354004),\n",
       " ('잔병', 0.6861902475357056)]"
      ]
     },
     "execution_count": 29,
     "metadata": {},
     "output_type": "execute_result"
    }
   ],
   "source": [
    "model_noun.wv.similar_by_word(\"감기\")"
   ]
  },
  {
   "cell_type": "code",
   "execution_count": 30,
   "metadata": {},
   "outputs": [
    {
     "data": {
      "text/plain": [
       "[('고열', 0.6317886114120483),\n",
       " ('고열로', 0.6134417057037354),\n",
       " ('미열', 0.5859445929527283),\n",
       " ('오한', 0.5766294598579407),\n",
       " ('사병', 0.5661201477050781),\n",
       " ('불덩이', 0.5593166351318359),\n",
       " ('허열', 0.5592193007469177),\n",
       " ('해열제', 0.5514139533042908),\n",
       " ('일사병', 0.5408698320388794),\n",
       " ('외감', 0.5374668836593628)]"
      ]
     },
     "execution_count": 30,
     "metadata": {},
     "output_type": "execute_result"
    }
   ],
   "source": [
    "model_noun.wv.similar_by_word(\"열\")"
   ]
  },
  {
   "cell_type": "code",
   "execution_count": 31,
   "metadata": {},
   "outputs": [
    {
     "data": {
      "text/plain": [
       "[('목도', 0.8288396596908569),\n",
       " ('참기', 0.8269376754760742),\n",
       " ('어린애', 0.8175088167190552),\n",
       " ('거려', 0.8150373697280884),\n",
       " ('무의식중', 0.8126235008239746),\n",
       " ('열꽃', 0.8104689121246338),\n",
       " ('멎', 0.805420994758606),\n",
       " ('콧물감기', 0.8029375076293945),\n",
       " ('소름', 0.8007007241249084),\n",
       " ('생채기', 0.797451376914978)]"
      ]
     },
     "execution_count": 31,
     "metadata": {},
     "output_type": "execute_result"
    }
   ],
   "source": [
    "model_noun.wv.similar_by_word(\"아파\")"
   ]
  },
  {
   "cell_type": "code",
   "execution_count": 32,
   "metadata": {},
   "outputs": [
    {
     "data": {
      "text/plain": [
       "[('큰소리', 0.6796399354934692),\n",
       " ('아달라', 0.6760480403900146),\n",
       " ('비명', 0.660555362701416),\n",
       " ('괴성', 0.6542980670928955),\n",
       " ('놀람', 0.652627170085907),\n",
       " ('옹알이', 0.6464821100234985),\n",
       " ('지르기', 0.644680380821228),\n",
       " ('십중팔구', 0.6393640041351318),\n",
       " ('세요', 0.638935923576355),\n",
       " ('신음', 0.6351783275604248)]"
      ]
     },
     "execution_count": 32,
     "metadata": {},
     "output_type": "execute_result"
    }
   ],
   "source": [
    "model_noun.wv.similar_by_word(\"울음\")"
   ]
  },
  {
   "cell_type": "code",
   "execution_count": 33,
   "metadata": {},
   "outputs": [
    {
     "data": {
      "text/plain": [
       "[('여아', 0.8254184722900391),\n",
       " ('확연', 0.6877681612968445),\n",
       " ('생시', 0.6854578256607056),\n",
       " ('외반슬', 0.6629829406738281),\n",
       " ('임소', 0.6575838327407837),\n",
       " ('정상아', 0.6539125442504883),\n",
       " ('클리토리스', 0.6525440216064453),\n",
       " ('초혼', 0.6522287130355835),\n",
       " ('남학생', 0.6509523987770081),\n",
       " ('아포크린샘', 0.6488806009292603)]"
      ]
     },
     "execution_count": 33,
     "metadata": {},
     "output_type": "execute_result"
    }
   ],
   "source": [
    "model_noun.wv.similar_by_word(\"남아\")"
   ]
  },
  {
   "cell_type": "code",
   "execution_count": 34,
   "metadata": {},
   "outputs": [
    {
     "data": {
      "text/plain": [
       "[('남아', 0.8254184722900391),\n",
       " ('확연', 0.6305754780769348),\n",
       " ('가슴둘레', 0.6240402460098267),\n",
       " ('생시', 0.6220796704292297),\n",
       " ('체구', 0.6026967167854309),\n",
       " ('외반슬', 0.6025059223175049),\n",
       " ('기서', 0.6004658341407776),\n",
       " ('아포크린샘', 0.5991439819335938),\n",
       " ('초혼', 0.5985881090164185),\n",
       " ('남학생', 0.5962601900100708)]"
      ]
     },
     "execution_count": 34,
     "metadata": {},
     "output_type": "execute_result"
    }
   ],
   "source": [
    "model_noun.wv.similar_by_word(\"여아\")"
   ]
  },
  {
   "cell_type": "code",
   "execution_count": 35,
   "metadata": {
    "scrolled": true
   },
   "outputs": [
    {
     "data": {
      "text/plain": [
       "[('남자', 0.8555517196655273),\n",
       " ('남아', 0.579403281211853),\n",
       " ('금성', 0.5788614749908447),\n",
       " ('남학생', 0.5765731930732727),\n",
       " ('조신', 0.5691870450973511),\n",
       " ('여아', 0.5655451416969299),\n",
       " ('아이든', 0.5467479228973389),\n",
       " ('얌전', 0.5369517803192139),\n",
       " ('여탕', 0.5360039472579956),\n",
       " ('야동', 0.5231473445892334)]"
      ]
     },
     "execution_count": 35,
     "metadata": {},
     "output_type": "execute_result"
    }
   ],
   "source": [
    "model_noun.wv.similar_by_word(\"여자\")"
   ]
  },
  {
   "cell_type": "code",
   "execution_count": 36,
   "metadata": {},
   "outputs": [
    {
     "data": {
      "text/plain": [
       "[('여자', 0.8555517196655273),\n",
       " ('금성', 0.6081371307373047),\n",
       " ('조신', 0.5972491502761841),\n",
       " ('얌전', 0.5949488878250122),\n",
       " ('남학생', 0.5932546854019165),\n",
       " ('남아', 0.5725769400596619),\n",
       " ('오이디푸스', 0.5669949650764465),\n",
       " ('아이든', 0.5630729794502258),\n",
       " ('여탕', 0.5577079653739929),\n",
       " ('위엄', 0.556670069694519)]"
      ]
     },
     "execution_count": 36,
     "metadata": {},
     "output_type": "execute_result"
    }
   ],
   "source": [
    "model_noun.wv.similar_by_word(\"남자\")"
   ]
  },
  {
   "cell_type": "code",
   "execution_count": 37,
   "metadata": {},
   "outputs": [
    {
     "data": {
      "text/plain": [
       "[('디럭스', 0.7058776021003723),\n",
       " ('타보', 0.6657469272613525),\n",
       " ('절충', 0.658687949180603),\n",
       " ('휴대용', 0.627317488193512),\n",
       " ('페도라', 0.6180530786514282),\n",
       " ('범용', 0.6134641170501709),\n",
       " ('잉글', 0.6099952459335327),\n",
       " ('요람', 0.6077185869216919),\n",
       " ('맥클라렌', 0.6048115491867065),\n",
       " ('퀴니', 0.602877676486969)]"
      ]
     },
     "execution_count": 37,
     "metadata": {},
     "output_type": "execute_result"
    }
   ],
   "source": [
    "model_noun.wv.similar_by_word(\"유모차\")"
   ]
  },
  {
   "cell_type": "code",
   "execution_count": 38,
   "metadata": {},
   "outputs": [
    {
     "data": {
      "text/plain": [
       "[('안전벨트', 0.6666043400764465),\n",
       " ('컨버터블', 0.6585870385169983),\n",
       " ('브라이', 0.6474909782409668),\n",
       " ('뒷좌석', 0.6399862766265869),\n",
       " ('캐리어', 0.635304868221283),\n",
       " ('부스터', 0.6323018074035645),\n",
       " ('콩코드', 0.630862832069397),\n",
       " ('페도라', 0.6296238303184509),\n",
       " ('점식', 0.6177816390991211),\n",
       " ('장착', 0.6116867661476135)]"
      ]
     },
     "execution_count": 38,
     "metadata": {},
     "output_type": "execute_result"
    }
   ],
   "source": [
    "model_noun.wv.similar_by_word(\"카시트\")"
   ]
  },
  {
   "cell_type": "code",
   "execution_count": 39,
   "metadata": {},
   "outputs": [
    {
     "data": {
      "text/plain": [
       "[('디럭스', 0.701353907585144),\n",
       " ('페도라', 0.6979069709777832),\n",
       " ('절충', 0.6831165552139282),\n",
       " ('타보', 0.6792646050453186),\n",
       " ('휴대용', 0.679221510887146),\n",
       " ('범용', 0.6740180253982544),\n",
       " ('웨건', 0.6731740236282349),\n",
       " ('컨버터블', 0.671053946018219),\n",
       " ('브라이', 0.668348491191864),\n",
       " ('콩코드', 0.6672180891036987)]"
      ]
     },
     "execution_count": 39,
     "metadata": {},
     "output_type": "execute_result"
    }
   ],
   "source": [
    "model_noun.wv.most_similar(positive=[\"유모차\", \"카시트\"])"
   ]
  },
  {
   "cell_type": "code",
   "execution_count": 40,
   "metadata": {},
   "outputs": [
    {
     "data": {
      "text/plain": [
       "[('반품', 0.7844113111495972),\n",
       " ('손품', 0.770588755607605),\n",
       " ('판매자', 0.7679333686828613),\n",
       " ('계약서', 0.7549364566802979),\n",
       " ('최저가', 0.7542258501052856),\n",
       " ('중개', 0.7508804798126221),\n",
       " ('영수증', 0.7379322052001953),\n",
       " ('반환', 0.7343404293060303),\n",
       " ('통관', 0.7328927516937256),\n",
       " ('매매', 0.7310436367988586)]"
      ]
     },
     "execution_count": 40,
     "metadata": {},
     "output_type": "execute_result"
    }
   ],
   "source": [
    "model_noun.wv.most_similar(positive=[\"중고\", \"거래\"])"
   ]
  },
  {
   "cell_type": "code",
   "execution_count": 41,
   "metadata": {},
   "outputs": [
    {
     "data": {
      "text/plain": [
       "[('기서', 0.6915438175201416),\n",
       " ('유아복', 0.6723528504371643),\n",
       " ('충동구매', 0.671576201915741),\n",
       " ('김유진', 0.6712243556976318),\n",
       " ('중고품', 0.6674498915672302),\n",
       " ('손품', 0.6631473302841187),\n",
       " ('남아', 0.6618261933326721),\n",
       " ('내구재', 0.6601141691207886),\n",
       " ('세용', 0.6588102579116821),\n",
       " ('킬로', 0.6587986946105957)]"
      ]
     },
     "execution_count": 41,
     "metadata": {},
     "output_type": "execute_result"
    }
   ],
   "source": [
    "model_noun.wv.most_similar(positive=[\"여아\", \"중고\"])"
   ]
  },
  {
   "cell_type": "markdown",
   "metadata": {},
   "source": [
    "---"
   ]
  },
  {
   "cell_type": "markdown",
   "metadata": {},
   "source": [
    "## Keywords (Noun + Verb + Adj)"
   ]
  },
  {
   "cell_type": "markdown",
   "metadata": {},
   "source": [
    "- 마지막으로 말뭉치에서 명사, 동사, 형용사까지 추출한 결과를 확인"
   ]
  },
  {
   "cell_type": "code",
   "execution_count": 42,
   "metadata": {},
   "outputs": [
    {
     "name": "stdout",
     "output_type": "stream",
     "text": [
      "CPU times: user 1min 5s, sys: 29.4 s, total: 1min 35s\n",
      "Wall time: 1min 33s\n"
     ]
    }
   ],
   "source": [
    "%%time\n",
    "def extract_keywords(text):\n",
    "    tokenizer = Mecab()\n",
    "    pos_list = tokenizer.pos(text)\n",
    "    keywords_list = list(filter(lambda w: 'NNG' in w or \\\n",
    "                                          'NNP' in w or \\\n",
    "                                          'VA' in w or \\\n",
    "                                          'VV' in w , pos_list))\n",
    "    keywords = list(map(lambda w: w[0], keywords_list))\n",
    "    return keywords\n",
    "\n",
    "df['keywords'] = df['text'].apply(extract_keywords)\n",
    "df = df.dropna()"
   ]
  },
  {
   "cell_type": "code",
   "execution_count": 43,
   "metadata": {},
   "outputs": [],
   "source": [
    "keywords_corpus = np.array(df.keywords)"
   ]
  },
  {
   "cell_type": "code",
   "execution_count": 44,
   "metadata": {},
   "outputs": [
    {
     "name": "stdout",
     "output_type": "stream",
     "text": [
      "CPU times: user 2min 42s, sys: 517 ms, total: 2min 43s\n",
      "Wall time: 46.1 s\n"
     ]
    }
   ],
   "source": [
    "%%time\n",
    "model_keywords = Word2Vec(keywords_corpus,\n",
    "                          size=200,\n",
    "                          window=3,\n",
    "                          min_count=3,\n",
    "                          workers=4,\n",
    "                          seed=1,\n",
    "                          sg=1)\n",
    "model_keywords.save('data/tokmom_word2vec_keywords.bin')"
   ]
  },
  {
   "cell_type": "code",
   "execution_count": 45,
   "metadata": {},
   "outputs": [
    {
     "data": {
      "text/plain": [
       "[('양육', 0.6082463264465332),\n",
       " ('황윤정', 0.5855332612991333),\n",
       " ('독박', 0.5838783383369446),\n",
       " ('지원군', 0.5817933082580566),\n",
       " ('열혈', 0.5815005302429199),\n",
       " ('바깥일', 0.5770851373672485),\n",
       " ('워킹맘', 0.5760881900787354),\n",
       " ('자처', 0.57264244556427),\n",
       " ('장세희', 0.567193865776062),\n",
       " ('아지', 0.5639887452125549)]"
      ]
     },
     "execution_count": 45,
     "metadata": {},
     "output_type": "execute_result"
    }
   ],
   "source": [
    "model_keywords.wv.similar_by_word(\"육아\")"
   ]
  },
  {
   "cell_type": "code",
   "execution_count": 46,
   "metadata": {},
   "outputs": [
    {
     "data": {
      "text/plain": [
       "[('시부모', 0.8075903058052063),\n",
       " ('처가', 0.7944771647453308),\n",
       " ('본가', 0.780774712562561),\n",
       " ('친정', 0.7743369340896606),\n",
       " ('시누이', 0.7550449371337891),\n",
       " ('장모님', 0.7505930066108704),\n",
       " ('친정어머니', 0.74419105052948),\n",
       " ('대소사', 0.7362627983093262),\n",
       " ('시어머니', 0.7321466207504272),\n",
       " ('시어머님', 0.7245830297470093)]"
      ]
     },
     "execution_count": 46,
     "metadata": {},
     "output_type": "execute_result"
    }
   ],
   "source": [
    "model_keywords.wv.similar_by_word(\"시댁\")"
   ]
  },
  {
   "cell_type": "code",
   "execution_count": 47,
   "metadata": {},
   "outputs": [
    {
     "data": {
      "text/plain": [
       "[('놀잇감', 0.6900386214256287),\n",
       " ('공놀이', 0.6688109636306763),\n",
       " ('기차놀이', 0.650236964225769),\n",
       " ('재미있', 0.6389463543891907),\n",
       " ('소꿉', 0.6298764944076538),\n",
       " ('놀', 0.6272435188293457),\n",
       " ('샌드백', 0.6076499223709106),\n",
       " ('사방치기', 0.6030152440071106),\n",
       " ('무너뜨리기', 0.602175235748291),\n",
       " ('음률', 0.6014593839645386)]"
      ]
     },
     "execution_count": 47,
     "metadata": {},
     "output_type": "execute_result"
    }
   ],
   "source": [
    "model_keywords.wv.similar_by_word(\"놀이\")"
   ]
  },
  {
   "cell_type": "code",
   "execution_count": 48,
   "metadata": {},
   "outputs": [
    {
     "data": {
      "text/plain": [
       "[('갓난아기', 0.7090675234794617),\n",
       " ('눈치채', 0.6980432271957397),\n",
       " ('어린아이', 0.6952709555625916),\n",
       " ('운지', 0.6903558969497681),\n",
       " ('아기', 0.6865364909172058),\n",
       " ('부아', 0.6852859258651733),\n",
       " ('남부럽', 0.6839496493339539),\n",
       " ('아이라', 0.6831711530685425),\n",
       " ('유별나', 0.6789573431015015),\n",
       " ('돌쟁이', 0.6777686476707458)]"
      ]
     },
     "execution_count": 48,
     "metadata": {},
     "output_type": "execute_result"
    }
   ],
   "source": [
    "model_keywords.wv.similar_by_word(\"아이\")"
   ]
  },
  {
   "cell_type": "code",
   "execution_count": 49,
   "metadata": {},
   "outputs": [
    {
     "data": {
      "text/plain": [
       "[('잇몸', 0.7814269065856934),\n",
       " ('충치', 0.7545057535171509),\n",
       " ('영구치', 0.7522687911987305),\n",
       " ('젖니', 0.7465424537658691),\n",
       " ('앞니', 0.70721834897995),\n",
       " ('어금니', 0.681839108467102),\n",
       " ('유치', 0.6813303828239441),\n",
       " ('턱뼈', 0.6789175271987915),\n",
       " ('법랑질', 0.6703236103057861),\n",
       " ('과잉치', 0.6679973602294922)]"
      ]
     },
     "execution_count": 49,
     "metadata": {},
     "output_type": "execute_result"
    }
   ],
   "source": [
    "model_keywords.wv.similar_by_word(\"치아\")"
   ]
  },
  {
   "cell_type": "code",
   "execution_count": 50,
   "metadata": {},
   "outputs": [
    {
     "data": {
      "text/plain": [
       "[('영인', 0.7976738810539246),\n",
       " ('혓바닥', 0.7932785749435425),\n",
       " ('갉', 0.7906359434127808),\n",
       " ('속니', 0.7894017696380615),\n",
       " ('근질거리', 0.7823984622955322),\n",
       " ('거스러미', 0.782036304473877),\n",
       " ('빨아먹', 0.7807981371879578),\n",
       " ('뜯어내', 0.7805253863334656),\n",
       " ('잘리', 0.7804970741271973),\n",
       " ('취기', 0.7796875834465027)]"
      ]
     },
     "execution_count": 50,
     "metadata": {},
     "output_type": "execute_result"
    }
   ],
   "source": [
    "model_keywords.wv.similar_by_word(\"이빨\")"
   ]
  },
  {
   "cell_type": "code",
   "execution_count": 51,
   "metadata": {},
   "outputs": [
    {
     "data": {
      "text/plain": [
       "[('코감기', 0.78890061378479),\n",
       " ('목감기', 0.7550700306892395),\n",
       " ('기침감기', 0.7251114845275879),\n",
       " ('냉방병', 0.7205955982208252),\n",
       " ('편도염', 0.716453492641449),\n",
       " ('열나', 0.7087898850440979),\n",
       " ('환절기', 0.7061086893081665),\n",
       " ('몸살감기', 0.6948539018630981),\n",
       " ('몸살', 0.6846282482147217),\n",
       " ('기관지염', 0.6833118796348572)]"
      ]
     },
     "execution_count": 51,
     "metadata": {},
     "output_type": "execute_result"
    }
   ],
   "source": [
    "model_keywords.wv.similar_by_word(\"감기\")"
   ]
  },
  {
   "cell_type": "code",
   "execution_count": 52,
   "metadata": {},
   "outputs": [
    {
     "data": {
      "text/plain": [
       "[('열기', 0.5785349607467651),\n",
       " ('고열로', 0.5445908904075623),\n",
       " ('오한', 0.54155433177948),\n",
       " ('외감', 0.518417477607727),\n",
       " ('미열', 0.503433108329773),\n",
       " ('고열', 0.49863749742507935),\n",
       " ('허열', 0.4985729455947876),\n",
       " ('닫', 0.49837061762809753),\n",
       " ('몸살감기', 0.49783727526664734),\n",
       " ('저체온', 0.49546051025390625)]"
      ]
     },
     "execution_count": 52,
     "metadata": {},
     "output_type": "execute_result"
    }
   ],
   "source": [
    "model_keywords.wv.similar_by_word(\"열\")"
   ]
  },
  {
   "cell_type": "code",
   "execution_count": 53,
   "metadata": {},
   "outputs": [
    {
     "data": {
      "text/plain": [
       "[('어린애', 0.8495914936065674),\n",
       " ('거려', 0.8362622857093811),\n",
       " ('아파하', 0.8314104080200195),\n",
       " ('참기', 0.8287290334701538),\n",
       " ('생채기', 0.8276420831680298),\n",
       " ('놀래', 0.8184535503387451),\n",
       " ('아달라', 0.8146629333496094),\n",
       " ('겁나', 0.8104078769683838),\n",
       " ('나지', 0.8078325986862183),\n",
       " ('쓰라리', 0.8066045641899109)]"
      ]
     },
     "execution_count": 53,
     "metadata": {},
     "output_type": "execute_result"
    }
   ],
   "source": [
    "model_keywords.wv.similar_by_word(\"아파\")"
   ]
  },
  {
   "cell_type": "code",
   "execution_count": 54,
   "metadata": {},
   "outputs": [
    {
     "data": {
      "text/plain": [
       "[('우', 0.7235427498817444),\n",
       " ('자지러지', 0.6944831013679504),\n",
       " ('흐느끼', 0.6914983987808228),\n",
       " ('울', 0.6881596446037292),\n",
       " ('칭얼거리', 0.6788840889930725),\n",
       " ('아달라', 0.6761489510536194),\n",
       " ('소스라치', 0.6651831865310669),\n",
       " ('어르', 0.662794828414917),\n",
       " ('끙끙거리', 0.6609679460525513),\n",
       " ('우렁차', 0.6588179469108582)]"
      ]
     },
     "execution_count": 54,
     "metadata": {},
     "output_type": "execute_result"
    }
   ],
   "source": [
    "model_keywords.wv.similar_by_word(\"울음\")"
   ]
  },
  {
   "cell_type": "code",
   "execution_count": 55,
   "metadata": {},
   "outputs": [
    {
     "data": {
      "text/plain": [
       "[('여아', 0.815083920955658),\n",
       " ('클리토리스', 0.652990460395813),\n",
       " ('정상아', 0.6529625654220581),\n",
       " ('성징', 0.6491984128952026),\n",
       " ('극소', 0.6432909965515137),\n",
       " ('출생체중', 0.641374409198761),\n",
       " ('조숙', 0.6404080986976624),\n",
       " ('색맹', 0.6340155601501465),\n",
       " ('확연', 0.6320064067840576),\n",
       " ('정류', 0.6316077709197998),\n",
       " ('증후', 0.6203296184539795),\n",
       " ('볼프관', 0.6196882724761963),\n",
       " ('아도', 0.6194777488708496),\n",
       " ('위수', 0.6194471120834351),\n",
       " ('두드러지', 0.6175733208656311),\n",
       " ('표준편차', 0.6165727376937866),\n",
       " ('반항아', 0.6161479949951172),\n",
       " ('가슴둘레', 0.6157943606376648),\n",
       " ('흉위', 0.6151590347290039),\n",
       " ('생시', 0.614486038684845)]"
      ]
     },
     "execution_count": 55,
     "metadata": {},
     "output_type": "execute_result"
    }
   ],
   "source": [
    "model_keywords.wv.similar_by_word(\"남아\", topn=20)"
   ]
  },
  {
   "cell_type": "code",
   "execution_count": 56,
   "metadata": {},
   "outputs": [
    {
     "data": {
      "text/plain": [
       "[('남아', 0.815083920955658),\n",
       " ('클리토리스', 0.5749424695968628),\n",
       " ('가슴둘레', 0.5743407607078552),\n",
       " ('여자', 0.5740675926208496),\n",
       " ('성별', 0.5651695728302002),\n",
       " ('흉위', 0.5620288252830505),\n",
       " ('생시', 0.5591805577278137),\n",
       " ('극소', 0.5552517771720886),\n",
       " ('남학생', 0.548491358757019),\n",
       " ('위수', 0.5442814230918884),\n",
       " ('성징', 0.5426771640777588),\n",
       " ('남자', 0.541545569896698),\n",
       " ('여학생', 0.5402891635894775),\n",
       " ('아도', 0.539071261882782),\n",
       " ('출생체중', 0.5377163887023926),\n",
       " ('아이든', 0.5370349287986755),\n",
       " ('정상아', 0.5312023162841797),\n",
       " ('조숙', 0.5310139656066895),\n",
       " ('반항아', 0.5290079116821289),\n",
       " ('곱슬머리', 0.5278536081314087)]"
      ]
     },
     "execution_count": 56,
     "metadata": {},
     "output_type": "execute_result"
    }
   ],
   "source": [
    "model_keywords.wv.similar_by_word(\"여아\", topn=20)"
   ]
  },
  {
   "cell_type": "code",
   "execution_count": 57,
   "metadata": {
    "scrolled": true
   },
   "outputs": [
    {
     "data": {
      "text/plain": [
       "[('남자', 0.8581234812736511),\n",
       " ('남아', 0.5922901630401611),\n",
       " ('조신', 0.5793790221214294),\n",
       " ('여아', 0.5740675926208496),\n",
       " ('금성', 0.5738330483436584),\n",
       " ('아이든', 0.5639742016792297),\n",
       " ('여탕', 0.5592468976974487),\n",
       " ('드세', 0.5551586747169495),\n",
       " ('성차', 0.5547588467597961),\n",
       " ('남탕', 0.5497941970825195),\n",
       " ('엘렉트라', 0.5283433198928833),\n",
       " ('화성인', 0.5268546342849731),\n",
       " ('짓궂', 0.5264767408370972),\n",
       " ('확연', 0.5199704766273499),\n",
       " ('우스갯소리', 0.5195823907852173),\n",
       " ('치이', 0.5190013647079468),\n",
       " ('들추', 0.517877459526062),\n",
       " ('객체', 0.5176793336868286),\n",
       " ('시집살이', 0.5163900256156921),\n",
       " ('에너자이저', 0.5160359740257263)]"
      ]
     },
     "execution_count": 57,
     "metadata": {},
     "output_type": "execute_result"
    }
   ],
   "source": [
    "model_keywords.wv.similar_by_word(\"여자\", topn=20)"
   ]
  },
  {
   "cell_type": "code",
   "execution_count": 58,
   "metadata": {},
   "outputs": [
    {
     "data": {
      "text/plain": [
       "[('여자', 0.8581234812736511),\n",
       " ('조신', 0.6361842751502991),\n",
       " ('금성', 0.6076371669769287),\n",
       " ('남탕', 0.5927804708480835),\n",
       " ('남아', 0.5923527479171753),\n",
       " ('드세', 0.5884186625480652),\n",
       " ('아이든', 0.587334156036377),\n",
       " ('여탕', 0.5862170457839966),\n",
       " ('족쇄', 0.5841605067253113),\n",
       " ('얌전', 0.5800723433494568),\n",
       " ('치이', 0.5791993141174316),\n",
       " ('객체', 0.5764616131782532),\n",
       " ('들추', 0.5746737718582153),\n",
       " ('성차', 0.5679875016212463),\n",
       " ('짓궂', 0.563059389591217),\n",
       " ('우스갯소리', 0.561324954032898),\n",
       " ('속사정', 0.5608287453651428),\n",
       " ('엘렉트라', 0.5591105222702026),\n",
       " ('화성인', 0.5560164451599121),\n",
       " ('철없', 0.5548366904258728)]"
      ]
     },
     "execution_count": 58,
     "metadata": {},
     "output_type": "execute_result"
    }
   ],
   "source": [
    "model_keywords.wv.similar_by_word(\"남자\", topn=20)"
   ]
  },
  {
   "cell_type": "code",
   "execution_count": 59,
   "metadata": {},
   "outputs": [
    {
     "data": {
      "text/plain": [
       "[('디럭스', 0.7637549638748169),\n",
       " ('절충', 0.7002888917922974),\n",
       " ('휴대용', 0.6874918937683105),\n",
       " ('잉글', 0.665499210357666),\n",
       " ('타보', 0.6651328206062317),\n",
       " ('레시', 0.6447641849517822),\n",
       " ('핸들링', 0.6435951590538025),\n",
       " ('포투', 0.636689305305481),\n",
       " ('웨건', 0.6357094049453735),\n",
       " ('맥클라렌', 0.6271377801895142)]"
      ]
     },
     "execution_count": 59,
     "metadata": {},
     "output_type": "execute_result"
    }
   ],
   "source": [
    "model_keywords.wv.similar_by_word(\"유모차\")"
   ]
  },
  {
   "cell_type": "code",
   "execution_count": 60,
   "metadata": {},
   "outputs": [
    {
     "data": {
      "text/plain": [
       "[('휴대용', 0.7081874012947083),\n",
       " ('디럭스', 0.6892330646514893),\n",
       " ('렌터카', 0.687420666217804),\n",
       " ('범용', 0.6817907094955444),\n",
       " ('중저가', 0.6776123046875),\n",
       " ('최저가', 0.6769124269485474),\n",
       " ('내구재', 0.6753764152526855),\n",
       " ('초경량', 0.6748402118682861),\n",
       " ('웨건', 0.6729285717010498),\n",
       " ('맥클라렌', 0.6727186441421509)]"
      ]
     },
     "execution_count": 60,
     "metadata": {},
     "output_type": "execute_result"
    }
   ],
   "source": [
    "model_keywords.wv.most_similar(positive=[\"중고\", \"유모차\"])"
   ]
  },
  {
   "cell_type": "code",
   "execution_count": 61,
   "metadata": {},
   "outputs": [
    {
     "data": {
      "text/plain": [
       "[('초경량', 0.6407731771469116),\n",
       " ('차광막', 0.6365723013877869),\n",
       " ('기동력', 0.6358193159103394),\n",
       " ('체크포인트', 0.634564995765686),\n",
       " ('연습기', 0.6332307457923889),\n",
       " ('무거우', 0.632172703742981),\n",
       " ('행선지', 0.6308422088623047),\n",
       " ('플루토', 0.6299110651016235),\n",
       " ('소서', 0.6295733451843262),\n",
       " ('커텐', 0.627544641494751)]"
      ]
     },
     "execution_count": 61,
     "metadata": {},
     "output_type": "execute_result"
    }
   ],
   "source": [
    "model_keywords.wv.most_similar(positive=[\"좋\", \"유모차\"])"
   ]
  },
  {
   "cell_type": "code",
   "execution_count": 62,
   "metadata": {},
   "outputs": [
    {
     "data": {
      "text/plain": [
       "[('차광막', 0.7198842763900757),\n",
       " ('무거우', 0.7128297090530396),\n",
       " ('이동도', 0.6930224895477295),\n",
       " ('촉박', 0.6849249601364136),\n",
       " ('침대위', 0.683809757232666),\n",
       " ('머미', 0.6802859306335449),\n",
       " ('비켜나', 0.6796587109565735),\n",
       " ('허리끈', 0.6794095635414124),\n",
       " ('남아나', 0.678951621055603),\n",
       " ('베게', 0.6787242293357849)]"
      ]
     },
     "execution_count": 62,
     "metadata": {},
     "output_type": "execute_result"
    }
   ],
   "source": [
    "model_keywords.wv.most_similar(positive=[\"안\", \"좋\", \"유모차\"])"
   ]
  },
  {
   "cell_type": "code",
   "execution_count": 63,
   "metadata": {},
   "outputs": [
    {
     "data": {
      "text/plain": [
       "[('내어보', 0.655441164970398),\n",
       " ('차면', 0.6488319635391235),\n",
       " ('촉박', 0.6480374932289124),\n",
       " ('황길', 0.6475943326950073),\n",
       " ('산보', 0.6470712423324585),\n",
       " ('졸립', 0.6424490809440613),\n",
       " ('목마르', 0.6404247283935547),\n",
       " ('덮어두', 0.6400163173675537),\n",
       " ('올게', 0.6396368741989136),\n",
       " ('쪼이', 0.6382529139518738)]"
      ]
     },
     "execution_count": 63,
     "metadata": {},
     "output_type": "execute_result"
    }
   ],
   "source": [
    "model_keywords.wv.most_similar(positive=[\"안\", \"좋\"])"
   ]
  },
  {
   "cell_type": "code",
   "execution_count": 64,
   "metadata": {},
   "outputs": [
    {
     "data": {
      "text/plain": [
       "[('삼각근', 0.9021599292755127),\n",
       " ('비벼대', 0.901026725769043),\n",
       " ('온습포', 0.8989864587783813),\n",
       " ('떠받치', 0.8962262272834778),\n",
       " ('반고리관', 0.8962064385414124),\n",
       " ('땡기', 0.8945552110671997),\n",
       " ('요탕', 0.8937971591949463),\n",
       " ('재본', 0.8918069005012512),\n",
       " ('쳐지', 0.8916620016098022),\n",
       " ('태충', 0.8916598558425903)]"
      ]
     },
     "execution_count": 64,
     "metadata": {},
     "output_type": "execute_result"
    }
   ],
   "source": [
    "model_keywords.wv.most_similar(positive=[\"가슴골\"])"
   ]
  },
  {
   "cell_type": "markdown",
   "metadata": {},
   "source": [
    "---"
   ]
  },
  {
   "cell_type": "markdown",
   "metadata": {},
   "source": [
    "### Volume of Corpus "
   ]
  },
  {
   "cell_type": "code",
   "execution_count": 65,
   "metadata": {},
   "outputs": [],
   "source": [
    "df[['text']].to_csv('data/text_for_word2vec.csv', index=False, encoding='utf-8')"
   ]
  },
  {
   "cell_type": "code",
   "execution_count": 66,
   "metadata": {},
   "outputs": [
    {
     "data": {
      "text/html": [
       "<div>\n",
       "<style scoped>\n",
       "    .dataframe tbody tr th:only-of-type {\n",
       "        vertical-align: middle;\n",
       "    }\n",
       "\n",
       "    .dataframe tbody tr th {\n",
       "        vertical-align: top;\n",
       "    }\n",
       "\n",
       "    .dataframe thead th {\n",
       "        text-align: right;\n",
       "    }\n",
       "</style>\n",
       "<table border=\"1\" class=\"dataframe\">\n",
       "  <thead>\n",
       "    <tr style=\"text-align: right;\">\n",
       "      <th></th>\n",
       "      <th>text</th>\n",
       "    </tr>\n",
       "  </thead>\n",
       "  <tbody>\n",
       "    <tr>\n",
       "      <th>0</th>\n",
       "      <td>6살 남아 입니다 회사 복직 후 3살부터 주중에는 외할머니댁에서 2살 4살 터울의 ...</td>\n",
       "    </tr>\n",
       "    <tr>\n",
       "      <th>1</th>\n",
       "      <td>요즘 들어 아빠가 아이에게 다가가려고 하면 엄마한테 갈 거야 하면서 엄마를 유독 찾...</td>\n",
       "    </tr>\n",
       "    <tr>\n",
       "      <th>2</th>\n",
       "      <td>둘째가 태어나면 첫째가 힘들 거라는 건 예상하고 있었지만 툭하면 삐치고 울고 좀처럼...</td>\n",
       "    </tr>\n",
       "    <tr>\n",
       "      <th>3</th>\n",
       "      <td>20개월 남아가 있고 임신 8개월차로 두 아기의 엄마입니다 첫 아이는 잠자리 독립을...</td>\n",
       "    </tr>\n",
       "    <tr>\n",
       "      <th>4</th>\n",
       "      <td>14개월 남자 아기인데 심하게 깨무는 버릇이 있어요 전에는 졸릴 때 주로 물곤 했는...</td>\n",
       "    </tr>\n",
       "    <tr>\n",
       "      <th>...</th>\n",
       "      <td>...</td>\n",
       "    </tr>\n",
       "    <tr>\n",
       "      <th>24724</th>\n",
       "      <td>가임기 연력 여성의 흡연률 증가와 그 폐해 현대 여성은 다양한 사회활동에 참여하고 ...</td>\n",
       "    </tr>\n",
       "    <tr>\n",
       "      <th>24725</th>\n",
       "      <td>아토피에 유전적인 요인이 작용한다는 사실 알고 계시나요 유전적인 요인 뿐 아니라 아...</td>\n",
       "    </tr>\n",
       "    <tr>\n",
       "      <th>24726</th>\n",
       "      <td>1st 시기에 따라 필요한 영양소를 충분히 뱃속의 아이는 엄마가 먹는 것을 함께 먹...</td>\n",
       "    </tr>\n",
       "    <tr>\n",
       "      <th>24727</th>\n",
       "      <td>분만 여성만이 누릴 수 있는 특권 대부분의 여성들은 임신과 분만이라는 과정을 경험하...</td>\n",
       "    </tr>\n",
       "    <tr>\n",
       "      <th>24728</th>\n",
       "      <td>최근 전자파가 건강상의 문제를 일으킬 수 있다는 견해가 많아지면서 임신부들 또한 가...</td>\n",
       "    </tr>\n",
       "  </tbody>\n",
       "</table>\n",
       "<p>24729 rows × 1 columns</p>\n",
       "</div>"
      ],
      "text/plain": [
       "                                                    text\n",
       "0      6살 남아 입니다 회사 복직 후 3살부터 주중에는 외할머니댁에서 2살 4살 터울의 ...\n",
       "1      요즘 들어 아빠가 아이에게 다가가려고 하면 엄마한테 갈 거야 하면서 엄마를 유독 찾...\n",
       "2      둘째가 태어나면 첫째가 힘들 거라는 건 예상하고 있었지만 툭하면 삐치고 울고 좀처럼...\n",
       "3      20개월 남아가 있고 임신 8개월차로 두 아기의 엄마입니다 첫 아이는 잠자리 독립을...\n",
       "4      14개월 남자 아기인데 심하게 깨무는 버릇이 있어요 전에는 졸릴 때 주로 물곤 했는...\n",
       "...                                                  ...\n",
       "24724  가임기 연력 여성의 흡연률 증가와 그 폐해 현대 여성은 다양한 사회활동에 참여하고 ...\n",
       "24725  아토피에 유전적인 요인이 작용한다는 사실 알고 계시나요 유전적인 요인 뿐 아니라 아...\n",
       "24726  1st 시기에 따라 필요한 영양소를 충분히 뱃속의 아이는 엄마가 먹는 것을 함께 먹...\n",
       "24727  분만 여성만이 누릴 수 있는 특권 대부분의 여성들은 임신과 분만이라는 과정을 경험하...\n",
       "24728  최근 전자파가 건강상의 문제를 일으킬 수 있다는 견해가 많아지면서 임신부들 또한 가...\n",
       "\n",
       "[24729 rows x 1 columns]"
      ]
     },
     "execution_count": 66,
     "metadata": {},
     "output_type": "execute_result"
    }
   ],
   "source": [
    "pd.read_csv('data/text_for_word2vec.csv')"
   ]
  },
  {
   "cell_type": "markdown",
   "metadata": {},
   "source": [
    "---"
   ]
  },
  {
   "cell_type": "markdown",
   "metadata": {},
   "source": [
    "## Doc2Vec"
   ]
  },
  {
   "cell_type": "code",
   "execution_count": 67,
   "metadata": {},
   "outputs": [],
   "source": [
    "from gensim.models.doc2vec import Doc2Vec, TaggedDocument"
   ]
  },
  {
   "cell_type": "code",
   "execution_count": 68,
   "metadata": {},
   "outputs": [],
   "source": [
    "documents = [TaggedDocument(doc, [i]) for i, doc in enumerate(df['noun'])]"
   ]
  },
  {
   "cell_type": "code",
   "execution_count": 69,
   "metadata": {},
   "outputs": [
    {
     "name": "stdout",
     "output_type": "stream",
     "text": [
      "CPU times: user 1min 9s, sys: 1.22 s, total: 1min 10s\n",
      "Wall time: 28.9 s\n"
     ]
    }
   ],
   "source": [
    "%%time\n",
    "doc2vec_model = Doc2Vec(documents, \n",
    "                        vector_size=200, \n",
    "                        window=2, \n",
    "                        min_count=5, \n",
    "                        workers=4)\n",
    "\n",
    "\n",
    "doc2vec_model.save('data/tokmom_doc2vec_only_noun.bin')"
   ]
  },
  {
   "cell_type": "code",
   "execution_count": 70,
   "metadata": {},
   "outputs": [
    {
     "data": {
      "text/plain": [
       "24729"
      ]
     },
     "execution_count": 70,
     "metadata": {},
     "output_type": "execute_result"
    }
   ],
   "source": [
    "len(doc2vec_model.docvecs)"
   ]
  },
  {
   "cell_type": "code",
   "execution_count": 71,
   "metadata": {},
   "outputs": [
    {
     "data": {
      "text/plain": [
       "'6살 남아 입니다 회사 복직 후 3살부터 주중에는 외할머니댁에서 2살 4살 터울의 사촌 형 누나와 함께 자랐어요 금요일 저녁에 데려와 주말에는 엄마 아빠와 생활하고 있구요 7세가 되는 내년이라도 아이를 데려오자는 아이 아빠의 의견과 유치원과 태권도 등 패턴이 적응되었고 형 누나들과 더 자랄 수 있게 초등학교 입학시기에 데리고 가는게 낫지 않겠냐는 외할머니 의견이 다릅니다 6세가 된 아이의 교육과 생활습관 형성이 이제는 할머니댁에서는 어려울 것 같다는 생각이 들고 하루하루 생각이 크고 자라는 아이를 주말에만 보는 저 또한 놀랄 때가 많거든요 하루라도 빨리 데려와야 할까요 초등학교 입학시기에 데려오는 편이 아이에게 좋을까요 매우 어려운 질문입니다 먼저 아이가 현재 잘 적응하고 있고 주변 양육환경 역시 아이가 성장하기에 별다른 문제가 없다 하니 고민이 더욱 크시리라 생각됩니다 우선 되어야하는 것은 아이의 의견입니다 6살이면 이러한 문제에 대하여 스스로 생각하고 의견을 전달할 수 있으므로 먼저 아이의 의견을 들어 주시기 바랍니다 아이는 부모님과 함께 사는 것이 좋습니다 그러나 부모님께서 두분 모두 직장에 나가시니 유치원 하원 후 아이를 돌보아 주실 분이 현재 함께 생활하고 계시는 할머님이시면 재고의 여지 없이 데려 오시는 것을 권유 드립니다 그러나 하원 후 할머님의 돌봄이 여의치 못할 경우 돌보아 줄 대상이 당분간 할머님댁에서 시간제로나마 아이를 돌보아 주어 아이와의 상호작용을 충분히 가진 후에 아이가 집으로 왔을 때 유치원 하원 후에 계속 돌보아 줄 수 있으면 좋습니다 이와 같이 먼저 아이가 집으로 온 후 부모님께서 퇴근하시기 전 까지 돌보아 줄 사람을 알아보시고 데려 오시는 것이 좋다는 생각이 듭니다'"
      ]
     },
     "execution_count": 71,
     "metadata": {},
     "output_type": "execute_result"
    }
   ],
   "source": [
    "df['text'][0]"
   ]
  },
  {
   "cell_type": "code",
   "execution_count": 72,
   "metadata": {
    "scrolled": false
   },
   "outputs": [
    {
     "name": "stdout",
     "output_type": "stream",
     "text": [
      "Input Document\n",
      "젖병을 떼야 하는 이유로는 첫째 우식증을 예방하고 둘째 젖병 무는 어린 아기의 습관을 서서히 고쳐 나가기 위함 입니다 지금은 단지 습관에 의해 젖병을 물고 있을 뿐이므로 음식은 숟가락으로 먹이고 우유는 컵으로 마시게 하면서 젖병을 뗄 수 있도록 해야 합니다 잠잘 때 젖병을 물고 자는 것은 무의식적인 행동입니다 그러나 너무 친숙해진 습관을 갑자기 금지시킨다면 아기 심리에 큰 충격을 줄 수도 있으므로 서서히 젖병 속의 우유를 희석시키는 방법을 사용합니다 예를 들어 평상시에 우유를 200 mL 먹였다면 우유 180 mL에 물 20 mL를 섞어서 젖병에 넣어줍니다 점차 물의 농도를 높여가다가 아기가 이를 느끼고 부정적인 반응을 보일 때는 잠시 정지하였다가 다시 희석의 강도를 높여봅니다 그러다 보면 아기는 점차 희석된 우유에 흥미를 잃어 스스로 젖병을 내던지게 될 것입니다 아기에 따라 스스로 정서적 안정을 얻는 습관을 하나씩 가지고 있습니다 아기 때의 이불을 늘 잡고 있다거나 엄마의 머리카락을 잡아야 잠을 잔다거나 하는 습관은 고치기가 쉽지 않은 일입니다 젖병도 그런 습관의 일종일 수 있습니다 젖병을 물고 있는 것이 정서적인 이유라면 젖병 떼기를 강요하지 않습니다 하루 2 3번은 젖병을 물고 있게 하다가 점차 아기가 성장하면서 젖병 무는 것이 자신에게는 어울리지 않는다는 것을 엄마가 끊임없이 설득하고 아이 스스로도 그렇게 느껴 자연스레 젖병을 멀리하게 합니다 가능한 컵이나 빨대컵을 활용하고 노리개 젖꼭지 등을 대체하여 사용해 볼 수도 있습니다\n",
      "Most similar Documents\n",
      "idx: 15095 similarity: 0.666\n",
      "아기가 젖병만 보면 입으로 가져가는 이유는 왜일까 배가 고프다는 의사 표현일까 아니면 말랑말랑 젤리 같은 젖꼭지의 느낌이 좋아서일까 혹시 어딘가 아프거나 불만이 있다는 무언의 표현은 아닐까 배가 고프면 엄마를 찾거나 우유를 찾는 것은 당연한 일이겠지만 아기들은 배가 고프지 않아도 젖병을 물고 싶어한다 별다른 이유 없이 손가락이나 공갈 젖꼭지를 빠는 것과 같은 이유에서다 또한 아기들도 스트레스에 의해 지나치게 젖병을 빨려고 하는 경우가 있으며 자신보다 어린 동생이 젖병을 빠는 모습을 보고 따라서 젖병을 빨게 되는 경우도 있다고 한다흔히 엄마들은 모유를 먹지 못한 아기들은 젖병의 젖꼭지를 통해 엄마 젖을 빠는 것과 같은 심리적 안정감을 얻을 수 있을 것이라고 생각한다 하지만 젖병을 통해 아기들이 얻게 되는 심리적 안정감은 극히 일부분에 불과하다는 게 전문가들의 지적이다서울소아과 윤경애 원장은 아기들이 젖병을 지속해서 빠는 이유를 일종의 집착 현상이라고 설명한다 아기들마다 특별히 좋아하는 인형이나 놀잇감이 있듯이 젖병도 그 중의 하나라는 것 항상 새로운 놀잇감을 원하는 아기에게 젖병은 훌륭한 놀잇감이요 친구가 된다 게다가 다른 어떤 것보다 쉽게 빨 수 있고 배고픔도 해소할 수 있으니 아기들이 자주 찾게 될 수밖에 없는 것이다 아기가 젖병으로만 먹으려 한다면 그대로 두어도 되는 것일까 서서히 스스로 젖병을 뗄 수 있게 되지는 않을까 아기가 너무 오랫동안 젖병을 물고 있거나 돌이 지나서도 젖병을 떼지 못했다면 문제는 크다 젖병에 담을 수 있는 음식만 먹다 보니 정상적인 이유 과정이 완료되기 어렵고 영양의 불균형 때문에 발육에도 나쁜 영향을 미치기 때문이다 더 큰 문제는 정서적으로도 좋지 않은 영향을 끼친다는 점이다미국의 한 연구 보고에 의하면 젖병을 늦게 뗀 아기들의 경우 성장해서 알코올 중독 증상이 더 많이 나타났다고 한다 어려서 젖병에 의존하던 성향이 너무 강해 커가면서도 무언가에 의존하게 되고 자신의 스트레스를 먹는 것에서 풀려고 하는 마음에서 오는 현상이라고 젖병을 사용하면서 느끼던 쾌감과 집착적인 행동이 자라서 알코올 중독으로 이어지는 것은 매우 극단적인 사례이지만 대수롭지 않게 여기던 젖병을 빠는 습관 때문에 아기의 정서적 건강이 나빠진다는 건 결코 간과할 수 없는 일이다따라서 윤경애 원장은 아기가 18개월이 되기 전까지는 젖병을 반드시 떼야 한다고 강조한다 아기가 6개월이 되면 반드시 이유식을 시작해 수유량을 점차 줄이고 숟가락 쥐는 법과 컵 사용법을 가르쳐 돌이 되면 젖병 수유를 완전히 끊어야 한다 젖병을 오랫동안 떼지 못했을 때 오는 부작용에는 어떤 것이 있는지 좀더 구체적으로 알아보자 의존적인 성격이 강해진다 젖병을 오랫동안 사용한 아기들의 경우 다른 아기들에 비해 의존적인 성격이 강해진다 어릴 적부터 젖병에 지나치게 집착하고 젖병을 빠는 것에서 정신적인 만족감을 얻었기 때문에 이런 습관을 버리기 어렵다 또 이렇게 한 가지 사물에 집착했던 아기들은 자라면서도 자신이 마음먹은 대로만 하려는 고집스런 성격이 되기 쉽다고 한다 영양 불균형이 초래된다 분유에는 철분이 부족하여 소아 빈혈을 초래하기 쉽다 특히 6개월 이상의 아기에게 분유만 먹이거나 돌이 지난 아기가 분유나 생우유를 주식으로 하고 있다면 빈혈일 가능성이 높다 이 시기가 되면 분유나 생우유는 간식이 되어야 하고 반드시 밥과 반찬을 통해 영양을 섭취해야 한다 또 분유나 생우유를 많이 먹을 경우 소아 비만의 원인이 되기도 한다 통상 젖병을 떼지 못한 아기들은 우유 섭취량이 권장량소아과 의사들은 돌 이후에는 하루 평균 400∼500cc를 권장하고 있다보다 매우 많은 편이어서 영양 불균형을 초래하기 쉽다 치아를 손상시킨다 젖병을 사용하면 아기의 입 안에 우유가 남아 충치의 원인이 된다 간혹 아기의 치아는 영구치가 아니라 유치니까 썩어도 별문제없겠지 하고 생각하는 엄마들이 있으나 이것은 큰 착각이다 치아가 심하게 썩어 치아의 뿌리 부분까지 영향을 미치게 되면 아기의 영구치에까지 나쁜 영향을 준다 또 유치가 나는 시기에 젖병을 계속 물고 있으면 치열도 고르지 못하게 되므로 특히 주의해야 한다 아기의 치아를 깨끗이 닦아준다면 별문제가 되지 않겠지만 아기들의 경우 치아를 고루고루 닦아주는 것은 생각보다 어려운 일이다 환경 호르몬에 노출될 수 있다 환경 호르몬이라 하면 컵라면 용기 등에 쓰이는 일회용 용기에서만 나오는 것이려니 생각하는 경우가 많으나 아기들이 사용하는 플라스틱 젖병 역시 환경 호르몬에 안전할 수는 없다 요즘은 환경 호르몬에 안전한 소재를 이용한 젖병들도 판매되고 있지만 그래도 사용할 때 주의를 기울여야 한다 특히 요즘 엄마들은 전자레인지를 이용해 젖병을 소독하는 경우가 많은데 플라스틱으로 된 젖병을 전자레인지로 오랜 시간 가열하게 되면 환경 호르몬이 방출될 수 있다 비록 미세한 양이라 하더라도 연약한 아기의 입 속에 아구창을 일으킬 수도 있다고 한다 신체 발달에 영향을 준다 쉽게 젖병을 빠는 데 습관이 된 아기들은 다른 음식을 먹을 때도 노력을 들이려 하지 않게 된다 자신이 직접 숟가락을 쥐고 이유식을 먹어야 할 시기에도 젖병 빨기에만 열중한다면 손에 힘을 주고 사물을 쥐는 능력이 다른 아기들에 비해 더디게 된다 중이염의 위험성이 있다 설마 하는 엄마들이 많겠지만 실제로 젖병 떼기가 너무 늦으면 중이염 가능성이 커진다 아기들은 이관이 수평으로 되어 있고 길이가 짧은데다 두꺼워서 누운 채 젖병으로 우유를 먹다 보면 이관에 가해지는 압력이 커져 중이염에 걸릴 위험이 있다 잦은 배탈의 원인이 된다 아기들은 우유를 먹을 때 한 번에 다 먹지 않고 오랫동안 젖병을 들고 돌아다니는 경우가 많다 이런 경우 우유가 상해 무심코 다시 젖병을 빨게 된 아기들은 배탈이 나게 된다 또 빈 젖병을 오래 빨거나 누워서 젖병을 빨게 되면 공기를 많이 먹게 돼 토하거나 배앓이를 하기 쉽다 또한 남긴 우유를 아깝다고 다시 주면 배탈의 원인이 될 수도 있으니 주의해야 한다 보통 4∼5개월부터 시작하여 6개월이 되면 대부분의 아기들에게 시작되는 이유기 이 시기에 올바르게 이유식을 먹이는 연습만 해도 젖병 떼기는 자연스럽게 할 수 있게 된다고 한다 올바른 젖병 떼기는 언제 어떤 과정을 거쳐야 하는 것일까 생후 4∼6개월 이 시기에는 분유 수유 사이에 쌀미음 과일즙 등으로 이유식을 시작할 수 있다 그러나 아기들은 아직 소화 기관이 완벽하게 발달하지 않았으므로 이유식 재료에 주의를 기울여야 한다 아직 숟가락이나 컵을 사용하기에는 이르지만 아기가 이유식을 먹을 때 옆에 두고 친근감을 느끼게 하는 것이 좋다 과일즙을 줄 때 가끔씩 숟가락에 떠서 아기에게 주면 새로운 것에 흥미를 느끼게 될 것이다 생후 6∼12개월 아기에게 본격적으로 이유식을 먹이기 시작하는 6개월이 되면 올바른 식습관을 가르치고 균형 있는 영양을 공급해주는 것이 중요하다 이 시기부터는 분유량을 조금씩 줄이고 아기에게 필요한 영양분을 이유식을 통해 섭취하도록 해줘야 한다 이유식은 묽은 죽에서 밥의 형태로 바꿔가고 점차 다양한 재료를 첨가해주며 횟수를 늘려간다 그러다 돌이 지나면 하루 3번 이상 밥이나 죽을 통해 영양을 섭취하도록 해야 한다 생우유의 경우 영양이 풍부하다고 생각해 지나치게 많이 먹이는 엄마들이 있으나 그러면 아기들이 변비에 걸리기 쉽다 따라서 평상시에 음식을 통해 섬유질을 충분히 섭취하게 해야 한다생후 8개월이 지나면 아기는 점차 손에 힘을 주고 물건을 잡으려고 하는데 이때부터 아기에게 숟가락과 컵 쥐는 연습을 시켜줘야 한다 젖병을 떼는 일이 마음먹었다고 해서 곧바로 이루어지는 일이 아니라 수많은 연습의 결과로 이루어지는 일이기 때문이다 이유식을 줄 때는 항상 그릇에 담아 떠먹여야 하며 조제 이유식을 젖병에 담아 먹이는 것은 매우 좋지 않은 방법이다 또 아기가 숟가락 사용하는 것이 익숙지 않아 옷에 흘리기 쉬우므로 이유식을 줄 때는 턱받이를 해주는 것이 좋다 아기에게 분유를 먹일 때 젖병에 담아주는 횟수를 점차 줄이고 컵에 담아주는 것도 빨리 젖병을 떼게 하는 방법이 된다 무엇보다 이 시기에는 아기에게 다양한 음식을 경험하게 하고 편식하는 습관을 갖지 않도록 하는 것이 중요하다 생후 12∼18개월 본격적으로 젖병을 떼야 하는 시기다 젖병은 돌이 지난 후 늦어도 18개월 이전에는 반드시 떼야 한다 떼는 방법은 간단하다 젖병을 치우고 숟가락과 컵으로 먹이면 그만이다 물론 구체적인 방법은 아기에 따라 다소 다를 수 있으나 이유 과정을 제대로 해왔다면 큰 무리는 없을 것이다 항상 젖병을 물고 다니는 아기와 따라다니며 젖병을 뺏으려는 엄마 아기 키우기에 항상 지쳐 있을 엄마들은 어떻게 해야 아기에게 상처를 주지 않고 효과적으로 젖병을 뗄 수 있을지 고민이다 아기가 좀더 자라서 엄마의 말을 이해하는 나이가 되면 젖병을 쉽게 뗄 수 있다는 의견도 있으나 그때까지 기다리는 것은 올바른 방법이 아니다 젖병 떼기가 늦은 아이들 가운데에는 네 살 다섯 살까지도 젖병혹은 공갈 젖꼭지을 물고 잠드는 사례도 적지 않다 분유 떼기도 병행한다 젖병을 떼기 위해 반드시 거쳐야 하는 과정이 바로 이유離乳다 분유를 지속해서 먹는다면 젖병을 떼는 일이 두 배로 어려워진다 또 분유를 먹이다 보면 분유 맛에 익숙해진 아기들은 다른 음식을 잘 먹으려 들지 않는다 이유기에는 이유식을 잘 먹여야 비로소 밥을 먹는 어린이로 순조롭게 성장해갈 수 있음을 명심하자 컵과 숟가락 연습을 시킨다 아기가 8개월 정도가 되면 어느 정도 자신의 손으로 물건을 쥐는 힘이 생기게 된다 이 시기부터 숟가락 쥐는 연습을 시켜야 적당한 시기에 젖병을 뗄 수 있다 또 아기들은 컵 사용이 익숙지 않아 옷에 자꾸 흘리게 된다고 컵을 사용하지 않는 경우가 있는데 이렇게 자꾸 미루다 보면 아기는 돌이 지나도 컵을 사용하지 못하게 된다 안전한 빨대 컵을 준다 젖병에만 익숙해져 있는 아기들에게 빨대 컵과 알록달록 예쁜 캐릭터 컵을 주는 것도 젖병을 멀리하게 하는 하나의 방법이다 단 어른들이 사용하는 얇고 작은 빨대를 아기에게 주어서는 안 된다 아기들에게는 너무 날카롭고 입 안 깊숙이 넣을 위험성이 있기 때문이다 스스로 컵을 가지고 먹게 되면 아기들은 자립심도 길러지고 흥미도 느끼게 된다 시중에는 아기들이 쉽게 사용할 수 있고 옷에 흘릴 염려도 없는 제품들이 많이 나와 있는데 빠는 부분이 뭉툭하고 둥글게 처리되어 있어 안전하다 아기가 빨대를 잘 사용하지 못한다면 빨대를 이용한 놀이를 통해 빨대에 적응시키는 것도 좋은 방법이다 또 처음에는 빨대 컵을 사용하다가 점차 시간이 지나면 일반 컵을 사용할 수 있게 엄마가 조절해주어야 한다 수유 시간을 정확하게 지킨다 수유 시간을 정확히 지키고 올바른 식습관을 들여주는 것도 무엇보다 중요하다 특히 밤중 수유는 반드시 끊어야 한다 아기가 6개월 정도 되면 치아가 나기 시작하는데 충치의 원인이 밤중 수유에서 시작되는 경우가 많기 때문이다 또 밤중에 잠에서 반쯤 깨어 먹는 일이 잦아지면 아기의 성장 호르몬 분비에도 지장을 주게 된다 음식을 먹을 시간이 되면 아기를 식탁 의자에 앉히거나 어른들이 먹는 시간에 맞춰 함께 음식을 먹게 하는 것도 좋은 방법이 된다 수유 시간 사이에 아기가 좋아하는 주스나 보리차를 먹이는 것도 좋다 그 밖에 반드시 젖병으로 먹여야 한다면 엄마가 아기를 안고 먹이는 것이 좋다 엄마가 안아주게 되면 아기가 젖병에 집착하는 성향이 줄어들기 때문 또 아기가 숟가락이나 컵으로 먹었을 때 칭찬해주는 것도 반드시 필요하다 젖병 젖꼭지를 빠는 대신에 다양한 질감을 느낄 수 있는 치아 발육기를 이용하는 것도 좋고 재미있게 생긴 장난감을 주면 당연히 젖병에 대한 관심이 줄어들게 된다 돌이 지났는데도 아기가 젖병만을 고집할 때는 단호하게 대처해야 한다 먼저 엄마가 마음을 단단히 먹고 젖병을 치운 뒤 숟가락이나 컵으로만 먹인다 물론 아기는 떼를 쓰거나 먹지 않는 등 저항을 하게 되지만 그래도 대부분의 아기들은 이틀 정도가 지나면 엄마가 주는 대로 음식을 먹게 된다그러나 간혹 고집이 너무 센 아기는 이런 방법이 먹히지 않을 수도 있다 젖병을 주지 않는다고 해서 아기가 발작을 일으킬 정도의 상황이 벌어진다면 아기의 상태를 지켜본 후 천천히 시도해야 한다 이런 아기들은 자신이 원하는 것을 얻기 전에는 아무것도 먹으려 들지 않기 때문에 필요한 영양분이 부족하지 않게 천천히 젖병 떼기를 시도해야 한다 아울러 이처럼 젖병을 고집하는 데에는 다른 정서적인 문제 때문일 수도 있으므로 전문가의 상담을 받아보는 것도 좋겠다아기가 원하는 젖병을 주지 않으면 욕구 불만이 생기지 않을까 걱정하는 엄마들이 있지만 계속해서 젖병을 물고 있을수록 아기의 고집은 더 세지게 된다 또 젖병을 떼었다가 아기가 울고 보챈다고 해서 다시 젖병을 주게 되면 다음에 다시 젖병을 떼기 위해서는 두 배의 시간과 노력이 필요하다 젖꼭지에 쓴 약을 발라놓거나 아기가 보는 앞에서 젖병 젖꼭지를 잘라버리는 방법을 사용하는 엄마들도 있으나 이런 방법은 바람직하지 않다 아기에게 젖병을 떼는 이유를 설명해준 뒤 젖병을 치우고 단호히 대처하는 정면 돌파의 방법이 어렵지만 가장 효과적인 방법이다\n",
      "idx: 187 similarity: 0.659\n",
      "돌이 지난 아기는 젖병을 떼는 것이 좋습니다 아이에게 빠는 욕구를 충족시키는 것은 돌 까지면 충분하다고 합니다 돌이 지나면 우유병을 끊고 아무리 늦어도 18개월 이전에는 젖병을 떼는 것이 좋습니다 젖병을 오래 빨면 우유병 우식증이 나타나기 쉬운데 주로 젖병을 물고 자는 아기들에게서 많이 나타납니다 우유병을 빨다가 잠이 들면 입안에 우유가 고여 미생물이 발생 번식하기에 아주 좋은 조건이 만들어지기 때문입니다 이 상태가 지속되면 20개월쯤 지나 앞니가 갈색으로 변하며 충치가 발생하고 심해지면 젖니 뿐 아니라 영구치까지 영향을 끼쳐 부정교합 발음 불량 등이 나타나기 쉽다고 합니다 또한 턱모양이 바뀔 수도 있고 중이염에 걸리기도 쉽습니다 젖병을 오래 빠는 아이는 우유에 점점 의존적으로 됩니다 돌이 지난 아기는 우유 또는 분유 는 하루 500 mL 정도만 마시면서 세끼 식사를 충분히 해야 합니다 그러나 젖병을 떼지 않아 과량의 우유를 마시는 아기들의 경우에는 우유로 배를 채워 밥을 잘 먹으려 하지 않습니다 우유는 철분이 부족한 음식이기 때문에 돌이 지나도 우유가 주식인 아기들은 철분 공급이 부족해져 빈혈이 나타나기 쉽습니다 우리나라 유아들의 약 30 가 철분 결핍 상태이며 10 내외로 빈혈이 나타난다고 합니다 이런 아이들의 대부분이 이유식이 제대로 진행되지 않아 영양공급의 대부분을 우유에 의존하고 있다는 것은 익히 잘 알려진 사실입니다 식사를 통해 충분한 영양을 공급받지 못하고 있는 상태에서 젖병을 떼는 것은 아기에게 무리가 되기 쉽습니다 생후 4개월부터 떠먹이는 연습을 꾸준히 하여 돌 이후에는 하루 세끼 식사를 충분히 그리고 다양한 식품을 골고루 먹을 수 있도록 이루어 놓은 상태에서 젖병 떼기를 시도해야 합니다 따라서 젖병 떼기는 이유식 먹이기에서 시작된다고 할 수 있습니다 아기가 이유식을 잘 안 먹는다는 이유로 편리하다는 이유로 이유식을 젖병에 타먹이는 경우가 많은데 이런 아기들은 숟가락 연습이 되어 있지 않아 젖병을 떼기가 더욱 어렵습니다 숟가락으로 먹는 음식에는 익숙하지 않기 때문에 돌이 지나도 밥은 거들떠 보지도 않고 젖병만 찾게 됩니다 이런 상태에서 아무런 대안 없이 젖병을 떼려 한다면 아기와 엄마 모두에게 고통이 될 수 밖에 없습니다 이유식은 가정식이든 시판 이유식이든 반드시 숟가락으로 떠먹이셔야 합니다 밤중에 젖병을 찾는 아기들은 젖병을 떼기가 더욱 힘듭니다 밤중 수유는 백일 시점으로 서서히 중단하도록 하며 돌 때까지 밤중 수유를 하고 있다면 전문가와의 상담을 통해 해결책을 모색해야 합니다 이때는 배가 고파 젖병을 찾는다기보다는 습관적으로 찾는 것이기 때문에 엄마의 굳은 의지만 있다면 1 2주 안에 중단할 수 있습니다 영양적으로 도움이 되기보다는 소화관의 부담이나 숙면의 방해 치아 우식증 등과 같은 부작용이 더 크므로 반드시 중단하시기 바랍니다 늦어도 생후 9개월 부터는 컵과 빨대 사용을 시작해야 합니다 빨대 컵 예쁜 모양의 컵 뚜껑이 있어 마실 때 흐르지 않는 컵 등으로 아기의 흥미를 유도하시고 분유 이외의 음료는 컵을 사용하여 먹이도록 합니다 생후 7개월이면 아이는 빠는 힘이 약해지고 8 9개월이 되면 손으로 컵을 쥘 수 있기 때문에 연습을 잘 하면 돌 쯤에는 컵으로 잘 마실 수 있게 됩니다 비교적 쉽게 젖병을 떼는 경우도 많으나 유달리 젖병에 대한 애착이 강한 아기들의 경우에는 젖병 떼기가 쉽지 않습니다 이럴 때 효과적이었던 엄마들의 노하우를 알려드리겠습니다 돌이 지났는데도 아기가 젖병을 고집하면 젖병에는 보리차나 맹물을 담아주고 컵에는 우유를 담아주도록 합니다 여러 번 반복되게 되면 아기는 차츰 젖병을 싫어하게 됩니다 아이와 함께 젖병을 쓰레기통에 버리는 것도 좋은 방법 중에 하나입니다 이제부터는 젖병으로 먹을 수 없다는 것을 확실히 느끼게 되기 때문에 스스로 쉽게 포기하게 됩니다 18개월이 지나서 젖병을 떼는 경우에는 아기와 어느정도 의사 소통이 가능하므로 이해하기 쉽게 타이를 수 있습니다 컵으로 마실 때마다 칭찬해 주는 것도 잊지 마세요 젖병을 뗄 때 중요한 것은 아기가 관심을 돌릴 만한 충분한 놀이감과 흥미거리를 제공하는 것입니다 어른들은 이해하기 어렵겠지만 아기는 젖병에 대해 애정을 가지고 있기 때문에 젖병을 뗐을 때 정서적으로 불안정해 하고 허전해 할 수 있습니다 가벼운 바깥 놀이를 하거나 책을 읽어주는 등 관심을 돌릴 곳을 만들어 주어야 합니다 평소보다 따뜻한 애정표현도 많이 해줘야 하는 것은 물론입니다\n",
      "idx: 14557 similarity: 0.647\n",
      "젖병은 돌 전후 떼는 것이 일반적이며 늦더라도 18개월쯤에는 끊어야 한다 돌이 지나면서부터는 수유가 아닌 균형 잡힌 식사로 고르게 영양을 섭취해야 하지만 돌 무렵부터 아이는 자기주장이 생겨 고집을 피우고 싫은 건 완강하게 거부해 젖병 떼기가 더욱 힘들어진다 게다가 소근육이 발달해 직접 젖병을 들고 먹으려 하는데 이렇게 젖병에 대한 지배권이 아이에게 넘어가버리면 젖병 떼기가 더욱 어려워진다 특히 젖병을 문 채 잠드는 게 습관이 된 아이는 내용 물보다 젖병을 무는 행위에 집착해 젖병과의 작별이 더 어렵다 손가락이나 노리개젖꼭지를 빠는 것과 마찬가지로 편안함을 느끼기 때문 따라서 생후 8개월 무렵부터는 밤에 젖병을 빨지 않고도 잠을 잘 잘 수 있게 수면 교육을 시작하는 것이 바람직하다 컵에 우유를 주면 아이가 장난치고 잘 먹지 않거나 흘린다며 젖병에 우유를 담아 주는 경우도 있는데 이 또한 젖병 집착을 심하게 하는 행동이므로 피한다 아이가 자꾸 흘리더라도 인내심을 가지고 연 습할 수 있는 기회를 줄 것 간혹 우유가 영양가가 높다는 생각에 많은 양의 우유를 먹이려는 경우도 있다 우유는 칼슘과 단백질이 풍부하지만 아이가 고형식을 먹기 시작했다면 간식의 개념일 뿐이다 우유를 필요 이상으로 많이 먹으면 편식의 원인이 되거나 배가 불러 주식을 덜 먹는 등 영양불균형을 초래한다 돌 지난 아이는 하루에 생우유를 2컵500ml 정도 먹는 게 적당하다 젖병을 오래 물고 있을 때 생길 수 있는 대표적인 문제로 치아우식증을 꼽는다 젖병을 문 채 잠들면 우유의 당분이 밤새 입안에 남아 치아를 갉아 먹는다 이렇게 당분에 오랫동안 노출된 치아는 까맣게 썩는다 또한 젖병을 지나치게 오래 빨면 중이염에 걸리기 쉽다 유치가 나는 시기에 젖병을 계속 물고 있으면 이가 고르게 나지 않는다 젖병을 떼지 못한 아이들의 우유 섭취량이 다른 아이들보다 많을 수밖에 없는 점도 문제다 돌이 된 아이는 삼시 세끼 식사와 두 번의 간식으로 하루 에너지 공급량의 70 정도를 채워야 한다 우유 섭취량이 과도하게 많을 경우 영양불균형을 초래해 성장 발달이 저해될 수 있으므로 유의한다 1 돌 무렵부터 생우유로 바꿔 먹인다 계속 젖병을 빨던 아이가 돌이 지났다고 하루아침에 젖병을 끊기는 쉽지 않다 순조롭게 끊기 위해 서는 컵으로 먹는 연습을 시켜보자 생후 6개월부터 물이나 분유를 한 모금씩 컵으로 먹여보고 생후 9개월부터는 컵으로 먹이는 연습을 본격적으로 시도해본다 분유는 생후 12개월까지 먹이되 돌 무렵 이 되면 생우유로 바꾸며 모자란 영양은 이유식으로 보충한다 2 알록달록 예쁜 컵을 활용한다 생후 9개월이 되면 컵을 쥘 수 있고 무엇이든 혼자 하려고 하므로 스스로 마시게 해본다 빨대컵이나 알록달록 예쁜 캐릭터 컵 등으로 아이의 마음을 사로잡는 것도 방법 3 완강하게 거부할 때는 12주 후에 다시 시도한다 아이가 젖병 떼기를 완강하게 거부하면 어느 정도 시간을 두고 12주 후에 다시 시도하는 것이 좋다 너무 강압적으로 하면 아이에게 심리적인 부담감을 줄 수 있으므로 자연스럽게 천천히 바꾸는 것이 좋다 아이가 밥도 안 먹고 계속 보채면 마음이 약해져 젖병을 다시 물리곤 하는데 눈 딱 감고 3일만 참아보자 아이는 미련 없이 젖병을 잊게 될 것이다 고집이 센 아이는 시간이 더 걸리기도 하지만 평균 12 주 정도면 가능하다 4 젖병 떼기에 대한 보상을 해준다 말귀를 알아듣는 아이라면 적절한 보상을 해주는 것도 한 방법 젖병은 아기들이나 쓰는 거야 컵으로 먹으면 엄마가 주스 줄게라고 아이에게 보상을 제시하면 어느 정도 효과를 기대할 수 있다 컵으로 먹기를 독려하고 성공했을 때는 반드시 칭찬한다 5 아이가 보는 앞에서 젖병을 버린다 젖병 안녕하면서 아이가 보는 앞에서 젖꼭지를 자르거나 젖병을 휴지통에 버린다 이렇게 작별 의식을 치르면 젖병에 대한 미련이 사라진다 찢어진 젖꼭지를 아이에게 보여주며 젖꼭지가 찢어졌지 그러니 이제부터 젖병 대신 컵에 담아 먹어야 해 하면서 컵에 우유를 담아 준다\n"
     ]
    }
   ],
   "source": [
    "print(\"Input Document\", df['text'][100], sep=\"\\n\")\n",
    "\n",
    "similar_docs = doc2vec_model.docvecs.most_similar(100)\n",
    "\n",
    "print(\"Most similar Documents\")\n",
    "for idx, similarity in similar_docs[:3]:\n",
    "    print(\"idx:\", idx, \"similarity:\", np.round(similarity, 3))\n",
    "    print(df['text'][idx])"
   ]
  },
  {
   "cell_type": "code",
   "execution_count": 73,
   "metadata": {},
   "outputs": [],
   "source": [
    "df['tokenized_doc'] = df['noun'].apply(lambda x: doc2vec_model.infer_vector(x).astype(float))"
   ]
  },
  {
   "cell_type": "code",
   "execution_count": 74,
   "metadata": {},
   "outputs": [
    {
     "data": {
      "text/html": [
       "<div>\n",
       "<style scoped>\n",
       "    .dataframe tbody tr th:only-of-type {\n",
       "        vertical-align: middle;\n",
       "    }\n",
       "\n",
       "    .dataframe tbody tr th {\n",
       "        vertical-align: top;\n",
       "    }\n",
       "\n",
       "    .dataframe thead th {\n",
       "        text-align: right;\n",
       "    }\n",
       "</style>\n",
       "<table border=\"1\" class=\"dataframe\">\n",
       "  <thead>\n",
       "    <tr style=\"text-align: right;\">\n",
       "      <th></th>\n",
       "      <th>text</th>\n",
       "      <th>tokenized</th>\n",
       "      <th>noun</th>\n",
       "      <th>keywords</th>\n",
       "      <th>tokenized_doc</th>\n",
       "    </tr>\n",
       "  </thead>\n",
       "  <tbody>\n",
       "    <tr>\n",
       "      <th>0</th>\n",
       "      <td>6살 남아 입니다 회사 복직 후 3살부터 주중에는 외할머니댁에서 2살 4살 터울의 ...</td>\n",
       "      <td>[6, 살, 남, 아, 입, 니, 다, 회사, 복직, 후, 3, 살, 부터, 주, ...</td>\n",
       "      <td>[살, 회사, 복직, 후, 살, 주, 중, 외할머니, 댁, 살, 살, 터울, 사촌,...</td>\n",
       "      <td>[남, 입, 회사, 복직, 후, 주, 외할머니, 댁, 터울, 사촌, 형, 누나, 금...</td>\n",
       "      <td>[-0.020082682371139526, 0.4280707538127899, -0...</td>\n",
       "    </tr>\n",
       "    <tr>\n",
       "      <th>1</th>\n",
       "      <td>요즘 들어 아빠가 아이에게 다가가려고 하면 엄마한테 갈 거야 하면서 엄마를 유독 찾...</td>\n",
       "      <td>[요즘, 들, 어, 아빠, 가, 아이, 에게, 다가가, 려고, 하, 면, 엄마, 한...</td>\n",
       "      <td>[아빠, 아이, 엄마, 거, 엄마, 전, 정도, 엄마, 아빠, 거부, 엄마, 눈, ...</td>\n",
       "      <td>[들, 아빠, 아이, 다가가, 하, 엄마, 하, 엄마, 찾, 전, 정도, 엄마, 매...</td>\n",
       "      <td>[0.1081785038113594, 0.4164026379585266, -0.15...</td>\n",
       "    </tr>\n",
       "    <tr>\n",
       "      <th>2</th>\n",
       "      <td>둘째가 태어나면 첫째가 힘들 거라는 건 예상하고 있었지만 툭하면 삐치고 울고 좀처럼...</td>\n",
       "      <td>[둘째, 가, 태어나, 면, 첫째, 가, 힘들, 거, 라는, 건, 예상, 하, 고,...</td>\n",
       "      <td>[둘째, 첫째, 거, 건, 예상, 때, 엄마, 껌, 딱지, 첫째, 외출, 때, 제외...</td>\n",
       "      <td>[태어나, 예상, 삐치, 울, 서럽, 웁, 때, 엄마, 껌, 딱지, 외출, 때, 제...</td>\n",
       "      <td>[0.11574923247098923, 0.1414957493543625, -0.2...</td>\n",
       "    </tr>\n",
       "    <tr>\n",
       "      <th>3</th>\n",
       "      <td>20개월 남아가 있고 임신 8개월차로 두 아기의 엄마입니다 첫 아이는 잠자리 독립을...</td>\n",
       "      <td>[20, 개월, 남아, 가, 있, 고, 임신, 8, 개월, 차, 로, 두, 아기, ...</td>\n",
       "      <td>[개월, 남아, 임신, 개월, 차, 아기, 엄마, 아이, 잠자리, 독립, 생후, 일...</td>\n",
       "      <td>[남아, 있, 임신, 차, 아기, 엄마, 아이, 잠자리, 독립, 생후, 전, 재우,...</td>\n",
       "      <td>[0.2988924980163574, 0.33812403678894043, -0.5...</td>\n",
       "    </tr>\n",
       "    <tr>\n",
       "      <th>4</th>\n",
       "      <td>14개월 남자 아기인데 심하게 깨무는 버릇이 있어요 전에는 졸릴 때 주로 물곤 했는...</td>\n",
       "      <td>[14, 개월, 남자, 아기, 인데, 심하, 게, 깨무, 는, 버릇, 이, 있, 어...</td>\n",
       "      <td>[개월, 남자, 아기, 버릇, 전, 때, 이제, 자기, 지대, 때, 떼, 상대방, ...</td>\n",
       "      <td>[남자, 아기, 심하, 깨무, 버릇, 있, 전, 때, 물, 이제, 지대, 때, 떼,...</td>\n",
       "      <td>[0.01197979785501957, 0.26562419533729553, -0....</td>\n",
       "    </tr>\n",
       "    <tr>\n",
       "      <th>...</th>\n",
       "      <td>...</td>\n",
       "      <td>...</td>\n",
       "      <td>...</td>\n",
       "      <td>...</td>\n",
       "      <td>...</td>\n",
       "    </tr>\n",
       "    <tr>\n",
       "      <th>24724</th>\n",
       "      <td>가임기 연력 여성의 흡연률 증가와 그 폐해 현대 여성은 다양한 사회활동에 참여하고 ...</td>\n",
       "      <td>[가, 임기, 연력, 여성, 의, 흡연, 률, 증가, 와, 그, 폐해, 현대, 여성...</td>\n",
       "      <td>[임기, 연력, 여성, 흡연, 증가, 폐해, 현대, 여성, 사회, 활동, 참여, 경...</td>\n",
       "      <td>[임기, 연력, 여성, 흡연, 증가, 폐해, 현대, 여성, 사회, 활동, 참여, 경...</td>\n",
       "      <td>[0.23498819768428802, -0.5549213290214539, -0....</td>\n",
       "    </tr>\n",
       "    <tr>\n",
       "      <th>24725</th>\n",
       "      <td>아토피에 유전적인 요인이 작용한다는 사실 알고 계시나요 유전적인 요인 뿐 아니라 아...</td>\n",
       "      <td>[아토피, 에, 유전, 적, 인, 요인, 이, 작용, 한다는, 사실, 알, 고, 계...</td>\n",
       "      <td>[아토피, 유전, 요인, 작용, 사실, 유전, 요인, 뿐, 아토피, 유발, 수, 하...</td>\n",
       "      <td>[아토피, 유전, 요인, 작용, 사실, 알, 유전, 요인, 아토피, 유발, 있, 중...</td>\n",
       "      <td>[-0.09013593196868896, 0.16884320974349976, -0...</td>\n",
       "    </tr>\n",
       "    <tr>\n",
       "      <th>24726</th>\n",
       "      <td>1st 시기에 따라 필요한 영양소를 충분히 뱃속의 아이는 엄마가 먹는 것을 함께 먹...</td>\n",
       "      <td>[1, st, 시기, 에, 따라, 필요, 한, 영양소, 를, 충분히, 뱃속, 의, ...</td>\n",
       "      <td>[시기, 필요, 영양소, 뱃속, 아이, 엄마, 것, 균형, 영양, 음식, 섭취, 태...</td>\n",
       "      <td>[시기, 필요, 영양소, 뱃속, 아이, 엄마, 먹, 먹, 균형, 잡히, 영양, 있,...</td>\n",
       "      <td>[0.3577316701412201, 0.5504094958305359, -0.28...</td>\n",
       "    </tr>\n",
       "    <tr>\n",
       "      <th>24727</th>\n",
       "      <td>분만 여성만이 누릴 수 있는 특권 대부분의 여성들은 임신과 분만이라는 과정을 경험하...</td>\n",
       "      <td>[분만, 여성, 만, 이, 누릴, 수, 있, 는, 특권, 대부분, 의, 여성, 들,...</td>\n",
       "      <td>[분만, 여성, 수, 특권, 대부분, 여성, 임신, 분만, 과정, 경험, 삶, 의미...</td>\n",
       "      <td>[분만, 여성, 있, 특권, 대부분, 여성, 임신, 분만, 과정, 경험, 삶, 의미...</td>\n",
       "      <td>[0.21933366358280182, 0.12538917362689972, -0....</td>\n",
       "    </tr>\n",
       "    <tr>\n",
       "      <th>24728</th>\n",
       "      <td>최근 전자파가 건강상의 문제를 일으킬 수 있다는 견해가 많아지면서 임신부들 또한 가...</td>\n",
       "      <td>[최근, 전자파, 가, 건강, 상, 의, 문제, 를, 일으킬, 수, 있, 다는, 견...</td>\n",
       "      <td>[최근, 전자파, 건강, 문제, 수, 견해, 임신부, 가능, 전자파, 노출, 전자레...</td>\n",
       "      <td>[최근, 전자파, 건강, 문제, 있, 견해, 많, 임신부, 가능, 전자파, 노출, ...</td>\n",
       "      <td>[0.0043547688983380795, 0.09632979333400726, -...</td>\n",
       "    </tr>\n",
       "  </tbody>\n",
       "</table>\n",
       "<p>24729 rows × 5 columns</p>\n",
       "</div>"
      ],
      "text/plain": [
       "                                                    text  \\\n",
       "0      6살 남아 입니다 회사 복직 후 3살부터 주중에는 외할머니댁에서 2살 4살 터울의 ...   \n",
       "1      요즘 들어 아빠가 아이에게 다가가려고 하면 엄마한테 갈 거야 하면서 엄마를 유독 찾...   \n",
       "2      둘째가 태어나면 첫째가 힘들 거라는 건 예상하고 있었지만 툭하면 삐치고 울고 좀처럼...   \n",
       "3      20개월 남아가 있고 임신 8개월차로 두 아기의 엄마입니다 첫 아이는 잠자리 독립을...   \n",
       "4      14개월 남자 아기인데 심하게 깨무는 버릇이 있어요 전에는 졸릴 때 주로 물곤 했는...   \n",
       "...                                                  ...   \n",
       "24724  가임기 연력 여성의 흡연률 증가와 그 폐해 현대 여성은 다양한 사회활동에 참여하고 ...   \n",
       "24725  아토피에 유전적인 요인이 작용한다는 사실 알고 계시나요 유전적인 요인 뿐 아니라 아...   \n",
       "24726  1st 시기에 따라 필요한 영양소를 충분히 뱃속의 아이는 엄마가 먹는 것을 함께 먹...   \n",
       "24727  분만 여성만이 누릴 수 있는 특권 대부분의 여성들은 임신과 분만이라는 과정을 경험하...   \n",
       "24728  최근 전자파가 건강상의 문제를 일으킬 수 있다는 견해가 많아지면서 임신부들 또한 가...   \n",
       "\n",
       "                                               tokenized  \\\n",
       "0      [6, 살, 남, 아, 입, 니, 다, 회사, 복직, 후, 3, 살, 부터, 주, ...   \n",
       "1      [요즘, 들, 어, 아빠, 가, 아이, 에게, 다가가, 려고, 하, 면, 엄마, 한...   \n",
       "2      [둘째, 가, 태어나, 면, 첫째, 가, 힘들, 거, 라는, 건, 예상, 하, 고,...   \n",
       "3      [20, 개월, 남아, 가, 있, 고, 임신, 8, 개월, 차, 로, 두, 아기, ...   \n",
       "4      [14, 개월, 남자, 아기, 인데, 심하, 게, 깨무, 는, 버릇, 이, 있, 어...   \n",
       "...                                                  ...   \n",
       "24724  [가, 임기, 연력, 여성, 의, 흡연, 률, 증가, 와, 그, 폐해, 현대, 여성...   \n",
       "24725  [아토피, 에, 유전, 적, 인, 요인, 이, 작용, 한다는, 사실, 알, 고, 계...   \n",
       "24726  [1, st, 시기, 에, 따라, 필요, 한, 영양소, 를, 충분히, 뱃속, 의, ...   \n",
       "24727  [분만, 여성, 만, 이, 누릴, 수, 있, 는, 특권, 대부분, 의, 여성, 들,...   \n",
       "24728  [최근, 전자파, 가, 건강, 상, 의, 문제, 를, 일으킬, 수, 있, 다는, 견...   \n",
       "\n",
       "                                                    noun  \\\n",
       "0      [살, 회사, 복직, 후, 살, 주, 중, 외할머니, 댁, 살, 살, 터울, 사촌,...   \n",
       "1      [아빠, 아이, 엄마, 거, 엄마, 전, 정도, 엄마, 아빠, 거부, 엄마, 눈, ...   \n",
       "2      [둘째, 첫째, 거, 건, 예상, 때, 엄마, 껌, 딱지, 첫째, 외출, 때, 제외...   \n",
       "3      [개월, 남아, 임신, 개월, 차, 아기, 엄마, 아이, 잠자리, 독립, 생후, 일...   \n",
       "4      [개월, 남자, 아기, 버릇, 전, 때, 이제, 자기, 지대, 때, 떼, 상대방, ...   \n",
       "...                                                  ...   \n",
       "24724  [임기, 연력, 여성, 흡연, 증가, 폐해, 현대, 여성, 사회, 활동, 참여, 경...   \n",
       "24725  [아토피, 유전, 요인, 작용, 사실, 유전, 요인, 뿐, 아토피, 유발, 수, 하...   \n",
       "24726  [시기, 필요, 영양소, 뱃속, 아이, 엄마, 것, 균형, 영양, 음식, 섭취, 태...   \n",
       "24727  [분만, 여성, 수, 특권, 대부분, 여성, 임신, 분만, 과정, 경험, 삶, 의미...   \n",
       "24728  [최근, 전자파, 건강, 문제, 수, 견해, 임신부, 가능, 전자파, 노출, 전자레...   \n",
       "\n",
       "                                                keywords  \\\n",
       "0      [남, 입, 회사, 복직, 후, 주, 외할머니, 댁, 터울, 사촌, 형, 누나, 금...   \n",
       "1      [들, 아빠, 아이, 다가가, 하, 엄마, 하, 엄마, 찾, 전, 정도, 엄마, 매...   \n",
       "2      [태어나, 예상, 삐치, 울, 서럽, 웁, 때, 엄마, 껌, 딱지, 외출, 때, 제...   \n",
       "3      [남아, 있, 임신, 차, 아기, 엄마, 아이, 잠자리, 독립, 생후, 전, 재우,...   \n",
       "4      [남자, 아기, 심하, 깨무, 버릇, 있, 전, 때, 물, 이제, 지대, 때, 떼,...   \n",
       "...                                                  ...   \n",
       "24724  [임기, 연력, 여성, 흡연, 증가, 폐해, 현대, 여성, 사회, 활동, 참여, 경...   \n",
       "24725  [아토피, 유전, 요인, 작용, 사실, 알, 유전, 요인, 아토피, 유발, 있, 중...   \n",
       "24726  [시기, 필요, 영양소, 뱃속, 아이, 엄마, 먹, 먹, 균형, 잡히, 영양, 있,...   \n",
       "24727  [분만, 여성, 있, 특권, 대부분, 여성, 임신, 분만, 과정, 경험, 삶, 의미...   \n",
       "24728  [최근, 전자파, 건강, 문제, 있, 견해, 많, 임신부, 가능, 전자파, 노출, ...   \n",
       "\n",
       "                                           tokenized_doc  \n",
       "0      [-0.020082682371139526, 0.4280707538127899, -0...  \n",
       "1      [0.1081785038113594, 0.4164026379585266, -0.15...  \n",
       "2      [0.11574923247098923, 0.1414957493543625, -0.2...  \n",
       "3      [0.2988924980163574, 0.33812403678894043, -0.5...  \n",
       "4      [0.01197979785501957, 0.26562419533729553, -0....  \n",
       "...                                                  ...  \n",
       "24724  [0.23498819768428802, -0.5549213290214539, -0....  \n",
       "24725  [-0.09013593196868896, 0.16884320974349976, -0...  \n",
       "24726  [0.3577316701412201, 0.5504094958305359, -0.28...  \n",
       "24727  [0.21933366358280182, 0.12538917362689972, -0....  \n",
       "24728  [0.0043547688983380795, 0.09632979333400726, -...  \n",
       "\n",
       "[24729 rows x 5 columns]"
      ]
     },
     "execution_count": 74,
     "metadata": {},
     "output_type": "execute_result"
    }
   ],
   "source": [
    "df"
   ]
  },
  {
   "cell_type": "code",
   "execution_count": null,
   "metadata": {},
   "outputs": [],
   "source": []
  }
 ],
 "metadata": {
  "kernelspec": {
   "display_name": "Python 3",
   "language": "python",
   "name": "python3"
  },
  "language_info": {
   "codemirror_mode": {
    "name": "ipython",
    "version": 3
   },
   "file_extension": ".py",
   "mimetype": "text/x-python",
   "name": "python",
   "nbconvert_exporter": "python",
   "pygments_lexer": "ipython3",
   "version": "3.7.5"
  }
 },
 "nbformat": 4,
 "nbformat_minor": 2
}
